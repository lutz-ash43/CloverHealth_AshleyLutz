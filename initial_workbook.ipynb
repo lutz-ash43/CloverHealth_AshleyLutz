{
 "cells": [
  {
   "cell_type": "code",
   "execution_count": 663,
   "id": "ab428f03",
   "metadata": {},
   "outputs": [],
   "source": [
    "import pandas as pd \n",
    "import numpy as np\n",
    "import plotly.express as px\n",
    "import matplotlib.pyplot as plt\n",
    "import seaborn as sns \n",
    "import pymc as pm\n",
    "import arviz as az\n",
    "from tqdm import tqdm\n",
    "from sklearn.neighbors import NearestNeighbors\n",
    "from scipy.stats import fisher_exact\n",
    "from sklearn.linear_model import LogisticRegression\n",
    "from statsmodels.stats.outliers_influence import variance_inflation_factor\n",
    "from lifelines import CoxPHFitter\n",
    "from patsy import dmatrix"
   ]
  },
  {
   "cell_type": "code",
   "execution_count": 578,
   "id": "a64eb4aa",
   "metadata": {},
   "outputs": [],
   "source": [
    "# TODO health risk included age and gender so do we really need these variables as covariates in the model? "
   ]
  },
  {
   "cell_type": "code",
   "execution_count": 579,
   "id": "0e045aa0",
   "metadata": {},
   "outputs": [],
   "source": [
    "data = pd.read_csv(\"data/Product_Data.csv\")"
   ]
  },
  {
   "cell_type": "markdown",
   "id": "47237359",
   "metadata": {},
   "source": [
    "You work for an insurance company that is contemplating adding several new doctors to their\n",
    "coverage network. Before the company reaches out to the doctors, they'd like to have some\n",
    "idea of the doctors' clinical effectiveness.\n",
    "You have obtained a sample of data that includes a particular treatment for a chronic condition\n",
    "that is common in your membership population. You have also tracked down whether or not the\n",
    "patient had a particular type of health failure (recorded by a follow-up visit).\n",
    " - a) If you were to only consider the provider's effectiveness with regard to this particular\n",
    "treatment, would you recommend reaching out to any of these doctors in particular? If so, which\n",
    "ones, and why?\n",
    " - b) What other data would be helpful in understanding which doctors to reach out to? What other\n",
    "data would help you evaluate the overall clinical effectiveness of the doctor? How would you use\n",
    "this data?"
   ]
  },
  {
   "cell_type": "markdown",
   "id": "637c6fdf",
   "metadata": {},
   "source": [
    "# Understanding our data"
   ]
  },
  {
   "cell_type": "code",
   "execution_count": 580,
   "id": "f5dd55aa",
   "metadata": {},
   "outputs": [
    {
     "name": "stdout",
     "output_type": "stream",
     "text": [
      "number of unique provider ids : 96\n",
      "number of unique patient ids : 4247\n",
      "count\n",
      "1    96\n",
      "Name: count, dtype: int64\n"
     ]
    }
   ],
   "source": [
    "# number of providers and number of patients \n",
    "print(f\"number of unique provider ids : {data.servicing_provider_id.nunique()}\")\n",
    "print(f\"number of unique patient ids : {data.member_id.nunique()}\")\n",
    "\n",
    "# we also have servicing name, how does this map to id \n",
    "print(data[[\"servicing_provider_id\", \"servicing_provider_name\"]].drop_duplicates().value_counts().value_counts())\n",
    "# looks like there is a one to one mapping for each servicing provider name and servicing provider id "
   ]
  },
  {
   "cell_type": "code",
   "execution_count": 581,
   "id": "3dcb4810",
   "metadata": {},
   "outputs": [
    {
     "name": "stdout",
     "output_type": "stream",
     "text": [
      "count    96.000000\n",
      "mean     44.239583\n",
      "std       6.363952\n",
      "min      26.000000\n",
      "25%      41.000000\n",
      "50%      44.000000\n",
      "75%      48.000000\n",
      "max      61.000000\n",
      "Name: member_id, dtype: float64\n"
     ]
    },
    {
     "data": {
      "application/vnd.plotly.v1+json": {
       "config": {
        "plotlyServerURL": "https://plot.ly"
       },
       "data": [
        {
         "bingroup": "x",
         "hovertemplate": "variable=member_id<br>value=%{x}<br>count=%{y}<extra></extra>",
         "legendgroup": "member_id",
         "marker": {
          "color": "#636efa",
          "pattern": {
           "shape": ""
          }
         },
         "name": "member_id",
         "orientation": "v",
         "showlegend": true,
         "type": "histogram",
         "x": {
          "bdata": "LiorJis0JjAkIS0vMBwvLjA6LCQ2LDEqLDEvMSsqKSguLC8jLz04JCgaMTQvMC8sLjArKywoKDEvLyIrJCQwMCstPDklNC0pMS8pLCgsLysqKysvIh4kKyw1JyksNygz",
          "dtype": "i1"
         },
         "xaxis": "x",
         "yaxis": "y"
        }
       ],
       "layout": {
        "barmode": "relative",
        "legend": {
         "title": {
          "text": "variable"
         },
         "tracegroupgap": 0
        },
        "margin": {
         "t": 60
        },
        "template": {
         "data": {
          "bar": [
           {
            "error_x": {
             "color": "#2a3f5f"
            },
            "error_y": {
             "color": "#2a3f5f"
            },
            "marker": {
             "line": {
              "color": "#E5ECF6",
              "width": 0.5
             },
             "pattern": {
              "fillmode": "overlay",
              "size": 10,
              "solidity": 0.2
             }
            },
            "type": "bar"
           }
          ],
          "barpolar": [
           {
            "marker": {
             "line": {
              "color": "#E5ECF6",
              "width": 0.5
             },
             "pattern": {
              "fillmode": "overlay",
              "size": 10,
              "solidity": 0.2
             }
            },
            "type": "barpolar"
           }
          ],
          "carpet": [
           {
            "aaxis": {
             "endlinecolor": "#2a3f5f",
             "gridcolor": "white",
             "linecolor": "white",
             "minorgridcolor": "white",
             "startlinecolor": "#2a3f5f"
            },
            "baxis": {
             "endlinecolor": "#2a3f5f",
             "gridcolor": "white",
             "linecolor": "white",
             "minorgridcolor": "white",
             "startlinecolor": "#2a3f5f"
            },
            "type": "carpet"
           }
          ],
          "choropleth": [
           {
            "colorbar": {
             "outlinewidth": 0,
             "ticks": ""
            },
            "type": "choropleth"
           }
          ],
          "contour": [
           {
            "colorbar": {
             "outlinewidth": 0,
             "ticks": ""
            },
            "colorscale": [
             [
              0,
              "#0d0887"
             ],
             [
              0.1111111111111111,
              "#46039f"
             ],
             [
              0.2222222222222222,
              "#7201a8"
             ],
             [
              0.3333333333333333,
              "#9c179e"
             ],
             [
              0.4444444444444444,
              "#bd3786"
             ],
             [
              0.5555555555555556,
              "#d8576b"
             ],
             [
              0.6666666666666666,
              "#ed7953"
             ],
             [
              0.7777777777777778,
              "#fb9f3a"
             ],
             [
              0.8888888888888888,
              "#fdca26"
             ],
             [
              1,
              "#f0f921"
             ]
            ],
            "type": "contour"
           }
          ],
          "contourcarpet": [
           {
            "colorbar": {
             "outlinewidth": 0,
             "ticks": ""
            },
            "type": "contourcarpet"
           }
          ],
          "heatmap": [
           {
            "colorbar": {
             "outlinewidth": 0,
             "ticks": ""
            },
            "colorscale": [
             [
              0,
              "#0d0887"
             ],
             [
              0.1111111111111111,
              "#46039f"
             ],
             [
              0.2222222222222222,
              "#7201a8"
             ],
             [
              0.3333333333333333,
              "#9c179e"
             ],
             [
              0.4444444444444444,
              "#bd3786"
             ],
             [
              0.5555555555555556,
              "#d8576b"
             ],
             [
              0.6666666666666666,
              "#ed7953"
             ],
             [
              0.7777777777777778,
              "#fb9f3a"
             ],
             [
              0.8888888888888888,
              "#fdca26"
             ],
             [
              1,
              "#f0f921"
             ]
            ],
            "type": "heatmap"
           }
          ],
          "histogram": [
           {
            "marker": {
             "pattern": {
              "fillmode": "overlay",
              "size": 10,
              "solidity": 0.2
             }
            },
            "type": "histogram"
           }
          ],
          "histogram2d": [
           {
            "colorbar": {
             "outlinewidth": 0,
             "ticks": ""
            },
            "colorscale": [
             [
              0,
              "#0d0887"
             ],
             [
              0.1111111111111111,
              "#46039f"
             ],
             [
              0.2222222222222222,
              "#7201a8"
             ],
             [
              0.3333333333333333,
              "#9c179e"
             ],
             [
              0.4444444444444444,
              "#bd3786"
             ],
             [
              0.5555555555555556,
              "#d8576b"
             ],
             [
              0.6666666666666666,
              "#ed7953"
             ],
             [
              0.7777777777777778,
              "#fb9f3a"
             ],
             [
              0.8888888888888888,
              "#fdca26"
             ],
             [
              1,
              "#f0f921"
             ]
            ],
            "type": "histogram2d"
           }
          ],
          "histogram2dcontour": [
           {
            "colorbar": {
             "outlinewidth": 0,
             "ticks": ""
            },
            "colorscale": [
             [
              0,
              "#0d0887"
             ],
             [
              0.1111111111111111,
              "#46039f"
             ],
             [
              0.2222222222222222,
              "#7201a8"
             ],
             [
              0.3333333333333333,
              "#9c179e"
             ],
             [
              0.4444444444444444,
              "#bd3786"
             ],
             [
              0.5555555555555556,
              "#d8576b"
             ],
             [
              0.6666666666666666,
              "#ed7953"
             ],
             [
              0.7777777777777778,
              "#fb9f3a"
             ],
             [
              0.8888888888888888,
              "#fdca26"
             ],
             [
              1,
              "#f0f921"
             ]
            ],
            "type": "histogram2dcontour"
           }
          ],
          "mesh3d": [
           {
            "colorbar": {
             "outlinewidth": 0,
             "ticks": ""
            },
            "type": "mesh3d"
           }
          ],
          "parcoords": [
           {
            "line": {
             "colorbar": {
              "outlinewidth": 0,
              "ticks": ""
             }
            },
            "type": "parcoords"
           }
          ],
          "pie": [
           {
            "automargin": true,
            "type": "pie"
           }
          ],
          "scatter": [
           {
            "fillpattern": {
             "fillmode": "overlay",
             "size": 10,
             "solidity": 0.2
            },
            "type": "scatter"
           }
          ],
          "scatter3d": [
           {
            "line": {
             "colorbar": {
              "outlinewidth": 0,
              "ticks": ""
             }
            },
            "marker": {
             "colorbar": {
              "outlinewidth": 0,
              "ticks": ""
             }
            },
            "type": "scatter3d"
           }
          ],
          "scattercarpet": [
           {
            "marker": {
             "colorbar": {
              "outlinewidth": 0,
              "ticks": ""
             }
            },
            "type": "scattercarpet"
           }
          ],
          "scattergeo": [
           {
            "marker": {
             "colorbar": {
              "outlinewidth": 0,
              "ticks": ""
             }
            },
            "type": "scattergeo"
           }
          ],
          "scattergl": [
           {
            "marker": {
             "colorbar": {
              "outlinewidth": 0,
              "ticks": ""
             }
            },
            "type": "scattergl"
           }
          ],
          "scattermap": [
           {
            "marker": {
             "colorbar": {
              "outlinewidth": 0,
              "ticks": ""
             }
            },
            "type": "scattermap"
           }
          ],
          "scattermapbox": [
           {
            "marker": {
             "colorbar": {
              "outlinewidth": 0,
              "ticks": ""
             }
            },
            "type": "scattermapbox"
           }
          ],
          "scatterpolar": [
           {
            "marker": {
             "colorbar": {
              "outlinewidth": 0,
              "ticks": ""
             }
            },
            "type": "scatterpolar"
           }
          ],
          "scatterpolargl": [
           {
            "marker": {
             "colorbar": {
              "outlinewidth": 0,
              "ticks": ""
             }
            },
            "type": "scatterpolargl"
           }
          ],
          "scatterternary": [
           {
            "marker": {
             "colorbar": {
              "outlinewidth": 0,
              "ticks": ""
             }
            },
            "type": "scatterternary"
           }
          ],
          "surface": [
           {
            "colorbar": {
             "outlinewidth": 0,
             "ticks": ""
            },
            "colorscale": [
             [
              0,
              "#0d0887"
             ],
             [
              0.1111111111111111,
              "#46039f"
             ],
             [
              0.2222222222222222,
              "#7201a8"
             ],
             [
              0.3333333333333333,
              "#9c179e"
             ],
             [
              0.4444444444444444,
              "#bd3786"
             ],
             [
              0.5555555555555556,
              "#d8576b"
             ],
             [
              0.6666666666666666,
              "#ed7953"
             ],
             [
              0.7777777777777778,
              "#fb9f3a"
             ],
             [
              0.8888888888888888,
              "#fdca26"
             ],
             [
              1,
              "#f0f921"
             ]
            ],
            "type": "surface"
           }
          ],
          "table": [
           {
            "cells": {
             "fill": {
              "color": "#EBF0F8"
             },
             "line": {
              "color": "white"
             }
            },
            "header": {
             "fill": {
              "color": "#C8D4E3"
             },
             "line": {
              "color": "white"
             }
            },
            "type": "table"
           }
          ]
         },
         "layout": {
          "annotationdefaults": {
           "arrowcolor": "#2a3f5f",
           "arrowhead": 0,
           "arrowwidth": 1
          },
          "autotypenumbers": "strict",
          "coloraxis": {
           "colorbar": {
            "outlinewidth": 0,
            "ticks": ""
           }
          },
          "colorscale": {
           "diverging": [
            [
             0,
             "#8e0152"
            ],
            [
             0.1,
             "#c51b7d"
            ],
            [
             0.2,
             "#de77ae"
            ],
            [
             0.3,
             "#f1b6da"
            ],
            [
             0.4,
             "#fde0ef"
            ],
            [
             0.5,
             "#f7f7f7"
            ],
            [
             0.6,
             "#e6f5d0"
            ],
            [
             0.7,
             "#b8e186"
            ],
            [
             0.8,
             "#7fbc41"
            ],
            [
             0.9,
             "#4d9221"
            ],
            [
             1,
             "#276419"
            ]
           ],
           "sequential": [
            [
             0,
             "#0d0887"
            ],
            [
             0.1111111111111111,
             "#46039f"
            ],
            [
             0.2222222222222222,
             "#7201a8"
            ],
            [
             0.3333333333333333,
             "#9c179e"
            ],
            [
             0.4444444444444444,
             "#bd3786"
            ],
            [
             0.5555555555555556,
             "#d8576b"
            ],
            [
             0.6666666666666666,
             "#ed7953"
            ],
            [
             0.7777777777777778,
             "#fb9f3a"
            ],
            [
             0.8888888888888888,
             "#fdca26"
            ],
            [
             1,
             "#f0f921"
            ]
           ],
           "sequentialminus": [
            [
             0,
             "#0d0887"
            ],
            [
             0.1111111111111111,
             "#46039f"
            ],
            [
             0.2222222222222222,
             "#7201a8"
            ],
            [
             0.3333333333333333,
             "#9c179e"
            ],
            [
             0.4444444444444444,
             "#bd3786"
            ],
            [
             0.5555555555555556,
             "#d8576b"
            ],
            [
             0.6666666666666666,
             "#ed7953"
            ],
            [
             0.7777777777777778,
             "#fb9f3a"
            ],
            [
             0.8888888888888888,
             "#fdca26"
            ],
            [
             1,
             "#f0f921"
            ]
           ]
          },
          "colorway": [
           "#636efa",
           "#EF553B",
           "#00cc96",
           "#ab63fa",
           "#FFA15A",
           "#19d3f3",
           "#FF6692",
           "#B6E880",
           "#FF97FF",
           "#FECB52"
          ],
          "font": {
           "color": "#2a3f5f"
          },
          "geo": {
           "bgcolor": "white",
           "lakecolor": "white",
           "landcolor": "#E5ECF6",
           "showlakes": true,
           "showland": true,
           "subunitcolor": "white"
          },
          "hoverlabel": {
           "align": "left"
          },
          "hovermode": "closest",
          "mapbox": {
           "style": "light"
          },
          "paper_bgcolor": "white",
          "plot_bgcolor": "#E5ECF6",
          "polar": {
           "angularaxis": {
            "gridcolor": "white",
            "linecolor": "white",
            "ticks": ""
           },
           "bgcolor": "#E5ECF6",
           "radialaxis": {
            "gridcolor": "white",
            "linecolor": "white",
            "ticks": ""
           }
          },
          "scene": {
           "xaxis": {
            "backgroundcolor": "#E5ECF6",
            "gridcolor": "white",
            "gridwidth": 2,
            "linecolor": "white",
            "showbackground": true,
            "ticks": "",
            "zerolinecolor": "white"
           },
           "yaxis": {
            "backgroundcolor": "#E5ECF6",
            "gridcolor": "white",
            "gridwidth": 2,
            "linecolor": "white",
            "showbackground": true,
            "ticks": "",
            "zerolinecolor": "white"
           },
           "zaxis": {
            "backgroundcolor": "#E5ECF6",
            "gridcolor": "white",
            "gridwidth": 2,
            "linecolor": "white",
            "showbackground": true,
            "ticks": "",
            "zerolinecolor": "white"
           }
          },
          "shapedefaults": {
           "line": {
            "color": "#2a3f5f"
           }
          },
          "ternary": {
           "aaxis": {
            "gridcolor": "white",
            "linecolor": "white",
            "ticks": ""
           },
           "baxis": {
            "gridcolor": "white",
            "linecolor": "white",
            "ticks": ""
           },
           "bgcolor": "#E5ECF6",
           "caxis": {
            "gridcolor": "white",
            "linecolor": "white",
            "ticks": ""
           }
          },
          "title": {
           "x": 0.05
          },
          "xaxis": {
           "automargin": true,
           "gridcolor": "white",
           "linecolor": "white",
           "ticks": "",
           "title": {
            "standoff": 15
           },
           "zerolinecolor": "white",
           "zerolinewidth": 2
          },
          "yaxis": {
           "automargin": true,
           "gridcolor": "white",
           "linecolor": "white",
           "ticks": "",
           "title": {
            "standoff": 15
           },
           "zerolinecolor": "white",
           "zerolinewidth": 2
          }
         }
        },
        "xaxis": {
         "anchor": "y",
         "domain": [
          0,
          1
         ],
         "title": {
          "text": "value"
         }
        },
        "yaxis": {
         "anchor": "x",
         "domain": [
          0,
          1
         ],
         "title": {
          "text": "count"
         }
        }
       }
      }
     },
     "metadata": {},
     "output_type": "display_data"
    }
   ],
   "source": [
    "# what about how many patients each provider sees \n",
    "patientsxprovider = data.groupby(\"servicing_provider_id\").member_id.nunique()\n",
    "print(patientsxprovider.describe())\n",
    "px.histogram(patientsxprovider)\n",
    "# okay so normally distributed around 44 patients per provider +- 6 "
   ]
  },
  {
   "cell_type": "code",
   "execution_count": 582,
   "id": "2d1cc82e",
   "metadata": {},
   "outputs": [
    {
     "name": "stdout",
     "output_type": "stream",
     "text": [
      "count    96.000000\n",
      "mean     25.135417\n",
      "std       5.065092\n",
      "min      14.000000\n",
      "25%      21.750000\n",
      "50%      25.000000\n",
      "75%      28.000000\n",
      "max      39.000000\n",
      "Name: outcome, dtype: float64\n"
     ]
    },
    {
     "data": {
      "application/vnd.plotly.v1+json": {
       "config": {
        "plotlyServerURL": "https://plot.ly"
       },
       "data": [
        {
         "bingroup": "x",
         "hovertemplate": "variable=0<br>value=%{x}<br>count=%{y}<extra></extra>",
         "legendgroup": "0",
         "marker": {
          "color": "#636efa",
          "pattern": {
           "shape": ""
          }
         },
         "name": "0",
         "orientation": "v",
         "showlegend": true,
         "type": "histogram",
         "x": {
          "bdata": "IQtZyEIW4j9VVVVVVVXlP6esKWvKmuI/8xrKayiv4T+zpqwpa8raP2IndmInduI/bCivobyG4j+rqqqqqqrkP+Q4juM4juM/ZZNNNtlk4z8RERERERHhP0d9Z6O+s+E/VVVVVVVV4z/btm3btm3jP0d9Z6O+s+E/OL3pTW964z8AAAAAAADiPwnLPY2w3OM/6aKLLrro4j+O4ziO4zjmP9pLaC+hveQ/o4suuuii2z8/NNaHxvrgPwAAAAAAAOA/L7rooosu4j8/NNaHxvrgP89GfWejvuM/PzTWh8b64D+nrClrypriP/Q8z/M8z+M/uxK1K1G74j/NzMzMzMzgPzi96U1veuM/dNFFF1104T/UdzbqOxvlPzMzMzMzM+M/xOQKYnIF4T8uGYJ1tHnfP5IkSZIkSeY/chzHcRzH4T+amZmZmZnhP7ETO7ETO+E/FbycgpdT4D/sxE7sxE7kP31no76zUd8/VVVVVVVV4z9BTK4gJlfgP4wuuuiii+Y/OL3pTW964z9VVVVVVVXhP3fEHXFH3OE/d8QdcUfc4T+jiy666KLjP2ZmZmZmZuI/MzMzMzMz4z8QjfWhsT7kP11BTK4gJuc/TK4gJlcQ4z8AAAAAAADgP0fcEXfEHeE/5DiO4ziO4z8cx3Ecx3HkPwAAAAAAAOI/q6qqqqqq3j/0BX1BX9DXP9iCLdiCLdg/MzMzMzMz4z9jOovpLKbjP+sGU+SzbuA/xU7sxE7s5D9yHMdxHMfhP2RwPgbnY+A/aKwPjfWh4T9S39mo72zkP4PzMTgfg+M/XXTRRRdd5D8AAAAAAADgP6OLLrroots/Z6O+s1Hf2T9H3BF3xB3hP5IkSZIkSeI/d8QdcUfc4T82ZU1ZU9bkP23UdzbqO9s/09LS0tLS4j8iIiIiIiLiP3Icx3Ecx+E/d8QdcUfc4T+jiy666KLbP29ln0NqguE/NUiDNEiD5D+pXYnalajdP4wuuuiii+Y/h7VvWPuG5T8zMzMzMzPjP19fX19fX98/",
          "dtype": "f8"
         },
         "xaxis": "x",
         "yaxis": "y"
        }
       ],
       "layout": {
        "barmode": "relative",
        "legend": {
         "title": {
          "text": "variable"
         },
         "tracegroupgap": 0
        },
        "margin": {
         "t": 60
        },
        "template": {
         "data": {
          "bar": [
           {
            "error_x": {
             "color": "#2a3f5f"
            },
            "error_y": {
             "color": "#2a3f5f"
            },
            "marker": {
             "line": {
              "color": "#E5ECF6",
              "width": 0.5
             },
             "pattern": {
              "fillmode": "overlay",
              "size": 10,
              "solidity": 0.2
             }
            },
            "type": "bar"
           }
          ],
          "barpolar": [
           {
            "marker": {
             "line": {
              "color": "#E5ECF6",
              "width": 0.5
             },
             "pattern": {
              "fillmode": "overlay",
              "size": 10,
              "solidity": 0.2
             }
            },
            "type": "barpolar"
           }
          ],
          "carpet": [
           {
            "aaxis": {
             "endlinecolor": "#2a3f5f",
             "gridcolor": "white",
             "linecolor": "white",
             "minorgridcolor": "white",
             "startlinecolor": "#2a3f5f"
            },
            "baxis": {
             "endlinecolor": "#2a3f5f",
             "gridcolor": "white",
             "linecolor": "white",
             "minorgridcolor": "white",
             "startlinecolor": "#2a3f5f"
            },
            "type": "carpet"
           }
          ],
          "choropleth": [
           {
            "colorbar": {
             "outlinewidth": 0,
             "ticks": ""
            },
            "type": "choropleth"
           }
          ],
          "contour": [
           {
            "colorbar": {
             "outlinewidth": 0,
             "ticks": ""
            },
            "colorscale": [
             [
              0,
              "#0d0887"
             ],
             [
              0.1111111111111111,
              "#46039f"
             ],
             [
              0.2222222222222222,
              "#7201a8"
             ],
             [
              0.3333333333333333,
              "#9c179e"
             ],
             [
              0.4444444444444444,
              "#bd3786"
             ],
             [
              0.5555555555555556,
              "#d8576b"
             ],
             [
              0.6666666666666666,
              "#ed7953"
             ],
             [
              0.7777777777777778,
              "#fb9f3a"
             ],
             [
              0.8888888888888888,
              "#fdca26"
             ],
             [
              1,
              "#f0f921"
             ]
            ],
            "type": "contour"
           }
          ],
          "contourcarpet": [
           {
            "colorbar": {
             "outlinewidth": 0,
             "ticks": ""
            },
            "type": "contourcarpet"
           }
          ],
          "heatmap": [
           {
            "colorbar": {
             "outlinewidth": 0,
             "ticks": ""
            },
            "colorscale": [
             [
              0,
              "#0d0887"
             ],
             [
              0.1111111111111111,
              "#46039f"
             ],
             [
              0.2222222222222222,
              "#7201a8"
             ],
             [
              0.3333333333333333,
              "#9c179e"
             ],
             [
              0.4444444444444444,
              "#bd3786"
             ],
             [
              0.5555555555555556,
              "#d8576b"
             ],
             [
              0.6666666666666666,
              "#ed7953"
             ],
             [
              0.7777777777777778,
              "#fb9f3a"
             ],
             [
              0.8888888888888888,
              "#fdca26"
             ],
             [
              1,
              "#f0f921"
             ]
            ],
            "type": "heatmap"
           }
          ],
          "histogram": [
           {
            "marker": {
             "pattern": {
              "fillmode": "overlay",
              "size": 10,
              "solidity": 0.2
             }
            },
            "type": "histogram"
           }
          ],
          "histogram2d": [
           {
            "colorbar": {
             "outlinewidth": 0,
             "ticks": ""
            },
            "colorscale": [
             [
              0,
              "#0d0887"
             ],
             [
              0.1111111111111111,
              "#46039f"
             ],
             [
              0.2222222222222222,
              "#7201a8"
             ],
             [
              0.3333333333333333,
              "#9c179e"
             ],
             [
              0.4444444444444444,
              "#bd3786"
             ],
             [
              0.5555555555555556,
              "#d8576b"
             ],
             [
              0.6666666666666666,
              "#ed7953"
             ],
             [
              0.7777777777777778,
              "#fb9f3a"
             ],
             [
              0.8888888888888888,
              "#fdca26"
             ],
             [
              1,
              "#f0f921"
             ]
            ],
            "type": "histogram2d"
           }
          ],
          "histogram2dcontour": [
           {
            "colorbar": {
             "outlinewidth": 0,
             "ticks": ""
            },
            "colorscale": [
             [
              0,
              "#0d0887"
             ],
             [
              0.1111111111111111,
              "#46039f"
             ],
             [
              0.2222222222222222,
              "#7201a8"
             ],
             [
              0.3333333333333333,
              "#9c179e"
             ],
             [
              0.4444444444444444,
              "#bd3786"
             ],
             [
              0.5555555555555556,
              "#d8576b"
             ],
             [
              0.6666666666666666,
              "#ed7953"
             ],
             [
              0.7777777777777778,
              "#fb9f3a"
             ],
             [
              0.8888888888888888,
              "#fdca26"
             ],
             [
              1,
              "#f0f921"
             ]
            ],
            "type": "histogram2dcontour"
           }
          ],
          "mesh3d": [
           {
            "colorbar": {
             "outlinewidth": 0,
             "ticks": ""
            },
            "type": "mesh3d"
           }
          ],
          "parcoords": [
           {
            "line": {
             "colorbar": {
              "outlinewidth": 0,
              "ticks": ""
             }
            },
            "type": "parcoords"
           }
          ],
          "pie": [
           {
            "automargin": true,
            "type": "pie"
           }
          ],
          "scatter": [
           {
            "fillpattern": {
             "fillmode": "overlay",
             "size": 10,
             "solidity": 0.2
            },
            "type": "scatter"
           }
          ],
          "scatter3d": [
           {
            "line": {
             "colorbar": {
              "outlinewidth": 0,
              "ticks": ""
             }
            },
            "marker": {
             "colorbar": {
              "outlinewidth": 0,
              "ticks": ""
             }
            },
            "type": "scatter3d"
           }
          ],
          "scattercarpet": [
           {
            "marker": {
             "colorbar": {
              "outlinewidth": 0,
              "ticks": ""
             }
            },
            "type": "scattercarpet"
           }
          ],
          "scattergeo": [
           {
            "marker": {
             "colorbar": {
              "outlinewidth": 0,
              "ticks": ""
             }
            },
            "type": "scattergeo"
           }
          ],
          "scattergl": [
           {
            "marker": {
             "colorbar": {
              "outlinewidth": 0,
              "ticks": ""
             }
            },
            "type": "scattergl"
           }
          ],
          "scattermap": [
           {
            "marker": {
             "colorbar": {
              "outlinewidth": 0,
              "ticks": ""
             }
            },
            "type": "scattermap"
           }
          ],
          "scattermapbox": [
           {
            "marker": {
             "colorbar": {
              "outlinewidth": 0,
              "ticks": ""
             }
            },
            "type": "scattermapbox"
           }
          ],
          "scatterpolar": [
           {
            "marker": {
             "colorbar": {
              "outlinewidth": 0,
              "ticks": ""
             }
            },
            "type": "scatterpolar"
           }
          ],
          "scatterpolargl": [
           {
            "marker": {
             "colorbar": {
              "outlinewidth": 0,
              "ticks": ""
             }
            },
            "type": "scatterpolargl"
           }
          ],
          "scatterternary": [
           {
            "marker": {
             "colorbar": {
              "outlinewidth": 0,
              "ticks": ""
             }
            },
            "type": "scatterternary"
           }
          ],
          "surface": [
           {
            "colorbar": {
             "outlinewidth": 0,
             "ticks": ""
            },
            "colorscale": [
             [
              0,
              "#0d0887"
             ],
             [
              0.1111111111111111,
              "#46039f"
             ],
             [
              0.2222222222222222,
              "#7201a8"
             ],
             [
              0.3333333333333333,
              "#9c179e"
             ],
             [
              0.4444444444444444,
              "#bd3786"
             ],
             [
              0.5555555555555556,
              "#d8576b"
             ],
             [
              0.6666666666666666,
              "#ed7953"
             ],
             [
              0.7777777777777778,
              "#fb9f3a"
             ],
             [
              0.8888888888888888,
              "#fdca26"
             ],
             [
              1,
              "#f0f921"
             ]
            ],
            "type": "surface"
           }
          ],
          "table": [
           {
            "cells": {
             "fill": {
              "color": "#EBF0F8"
             },
             "line": {
              "color": "white"
             }
            },
            "header": {
             "fill": {
              "color": "#C8D4E3"
             },
             "line": {
              "color": "white"
             }
            },
            "type": "table"
           }
          ]
         },
         "layout": {
          "annotationdefaults": {
           "arrowcolor": "#2a3f5f",
           "arrowhead": 0,
           "arrowwidth": 1
          },
          "autotypenumbers": "strict",
          "coloraxis": {
           "colorbar": {
            "outlinewidth": 0,
            "ticks": ""
           }
          },
          "colorscale": {
           "diverging": [
            [
             0,
             "#8e0152"
            ],
            [
             0.1,
             "#c51b7d"
            ],
            [
             0.2,
             "#de77ae"
            ],
            [
             0.3,
             "#f1b6da"
            ],
            [
             0.4,
             "#fde0ef"
            ],
            [
             0.5,
             "#f7f7f7"
            ],
            [
             0.6,
             "#e6f5d0"
            ],
            [
             0.7,
             "#b8e186"
            ],
            [
             0.8,
             "#7fbc41"
            ],
            [
             0.9,
             "#4d9221"
            ],
            [
             1,
             "#276419"
            ]
           ],
           "sequential": [
            [
             0,
             "#0d0887"
            ],
            [
             0.1111111111111111,
             "#46039f"
            ],
            [
             0.2222222222222222,
             "#7201a8"
            ],
            [
             0.3333333333333333,
             "#9c179e"
            ],
            [
             0.4444444444444444,
             "#bd3786"
            ],
            [
             0.5555555555555556,
             "#d8576b"
            ],
            [
             0.6666666666666666,
             "#ed7953"
            ],
            [
             0.7777777777777778,
             "#fb9f3a"
            ],
            [
             0.8888888888888888,
             "#fdca26"
            ],
            [
             1,
             "#f0f921"
            ]
           ],
           "sequentialminus": [
            [
             0,
             "#0d0887"
            ],
            [
             0.1111111111111111,
             "#46039f"
            ],
            [
             0.2222222222222222,
             "#7201a8"
            ],
            [
             0.3333333333333333,
             "#9c179e"
            ],
            [
             0.4444444444444444,
             "#bd3786"
            ],
            [
             0.5555555555555556,
             "#d8576b"
            ],
            [
             0.6666666666666666,
             "#ed7953"
            ],
            [
             0.7777777777777778,
             "#fb9f3a"
            ],
            [
             0.8888888888888888,
             "#fdca26"
            ],
            [
             1,
             "#f0f921"
            ]
           ]
          },
          "colorway": [
           "#636efa",
           "#EF553B",
           "#00cc96",
           "#ab63fa",
           "#FFA15A",
           "#19d3f3",
           "#FF6692",
           "#B6E880",
           "#FF97FF",
           "#FECB52"
          ],
          "font": {
           "color": "#2a3f5f"
          },
          "geo": {
           "bgcolor": "white",
           "lakecolor": "white",
           "landcolor": "#E5ECF6",
           "showlakes": true,
           "showland": true,
           "subunitcolor": "white"
          },
          "hoverlabel": {
           "align": "left"
          },
          "hovermode": "closest",
          "mapbox": {
           "style": "light"
          },
          "paper_bgcolor": "white",
          "plot_bgcolor": "#E5ECF6",
          "polar": {
           "angularaxis": {
            "gridcolor": "white",
            "linecolor": "white",
            "ticks": ""
           },
           "bgcolor": "#E5ECF6",
           "radialaxis": {
            "gridcolor": "white",
            "linecolor": "white",
            "ticks": ""
           }
          },
          "scene": {
           "xaxis": {
            "backgroundcolor": "#E5ECF6",
            "gridcolor": "white",
            "gridwidth": 2,
            "linecolor": "white",
            "showbackground": true,
            "ticks": "",
            "zerolinecolor": "white"
           },
           "yaxis": {
            "backgroundcolor": "#E5ECF6",
            "gridcolor": "white",
            "gridwidth": 2,
            "linecolor": "white",
            "showbackground": true,
            "ticks": "",
            "zerolinecolor": "white"
           },
           "zaxis": {
            "backgroundcolor": "#E5ECF6",
            "gridcolor": "white",
            "gridwidth": 2,
            "linecolor": "white",
            "showbackground": true,
            "ticks": "",
            "zerolinecolor": "white"
           }
          },
          "shapedefaults": {
           "line": {
            "color": "#2a3f5f"
           }
          },
          "ternary": {
           "aaxis": {
            "gridcolor": "white",
            "linecolor": "white",
            "ticks": ""
           },
           "baxis": {
            "gridcolor": "white",
            "linecolor": "white",
            "ticks": ""
           },
           "bgcolor": "#E5ECF6",
           "caxis": {
            "gridcolor": "white",
            "linecolor": "white",
            "ticks": ""
           }
          },
          "title": {
           "x": 0.05
          },
          "xaxis": {
           "automargin": true,
           "gridcolor": "white",
           "linecolor": "white",
           "ticks": "",
           "title": {
            "standoff": 15
           },
           "zerolinecolor": "white",
           "zerolinewidth": 2
          },
          "yaxis": {
           "automargin": true,
           "gridcolor": "white",
           "linecolor": "white",
           "ticks": "",
           "title": {
            "standoff": 15
           },
           "zerolinecolor": "white",
           "zerolinewidth": 2
          }
         }
        },
        "xaxis": {
         "anchor": "y",
         "domain": [
          0,
          1
         ],
         "title": {
          "text": "value"
         }
        },
        "yaxis": {
         "anchor": "x",
         "domain": [
          0,
          1
         ],
         "title": {
          "text": "count"
         }
        }
       }
      }
     },
     "metadata": {},
     "output_type": "display_data"
    }
   ],
   "source": [
    "# what about the number of failures \n",
    "# what about how many patients each provider sees \n",
    "outcomesxprovider = data.groupby(\"servicing_provider_id\").outcome.count()\n",
    "print(outcomesxprovider.describe())\n",
    "px.histogram(outcomesxprovider)\n",
    "# does appear to maybe be a bimodal distribution in number of failures per provider\n",
    "# lets look at this with respect to proportion of patients that fail\n",
    "outcomes_prop_xprovider = outcomesxprovider.values / patientsxprovider.values\n",
    "#print(outcomes_prop_xprovider)\n",
    "px.histogram(outcomes_prop_xprovider)\n",
    "# proportion of patients that fail is normally distributed"
   ]
  },
  {
   "cell_type": "code",
   "execution_count": 583,
   "id": "305499ad",
   "metadata": {},
   "outputs": [
    {
     "name": "stdout",
     "output_type": "stream",
     "text": [
      "0.27906976744186046\n",
      "0.65\n"
     ]
    },
    {
     "data": {
      "application/vnd.plotly.v1+json": {
       "config": {
        "plotlyServerURL": "https://plot.ly"
       },
       "data": [
        {
         "bingroup": "x",
         "hovertemplate": "variable=0<br>value=%{x}<br>count=%{y}<extra></extra>",
         "legendgroup": "0",
         "marker": {
          "color": "#636efa",
          "pattern": {
           "shape": ""
          }
         },
         "name": "0",
         "orientation": "v",
         "showlegend": true,
         "type": "histogram",
         "x": {
          "bdata": "AAAAAAAA4D9iGIZhGIbhP3fEHXFH3OE/8xrKayiv4T9xR9wRd8TdP9mJndiJneA/8xrKayiv4T+rqqqqqqrSP3Icx3Ecx+E/ZZNNNtlk4z/e3d3d3d3dP2ejvrNR39k/q6qqqqqq3j9JkiRJkiThP3g26jsb9d0/AAAAAAAA4D8AAAAAAADYP7mnEZZ7GuE/uuiiiy664D+rqqqqqqraP19CewntJeQ/o4suuuii2z+IxvrQWB/aPwAAAAAAAOA/L7rooosu2j8vp+DlFLzcP8oVxOQKYuI/aKwPjfWh4T93xB1xR9zhP7dt27Zt29Y/OB+D8zE43z8AAAAAAADkPxaykIUsZOE/0UUXXXTR1T9HfWejvrPhPzMzMzMzM+M/bdR3Nuo72z9t3qe4ZAjWP0mSJEmSJOE/AAAAAAAA4D9mZmZmZmbiP57YiZ3Yid0/4eUUvJyC1z+KndiJndjhP31no76zUd8/q6qqqqqq2j99Z6O+s1HfPxdddNFFF90/QxaykIUs5D8AAAAAAADgP3fEHXFH3NE/EnfEHXFH3D+jiy666KLjP83MzMzMzOA/ZmZmZmZm3j/Wh8b60FjfP31no76zUd8/z0Z9Z6O+4z/T0tLS0tLiP7OmrClryto/chzHcRzH4T+O4ziO4zjePwAAAAAAAOQ/q6qqqqqq4D8GfUFf0BfkPxEREREREeE/ERERERER4T8E9xHcR3DfPyryWTeYIt8/T+zETuzE3j+wBVuwBVvgPzgfg/MxON8/aKwPjfWh4T94Nuo7G/XdP6ldidqVqN0/F1100UUX3T/NzMzMzMzcP7rooosuuuA/yhXE5Api4j+nrClrypriPz3P8zzP89w/s6asKWvK2j93xB1xR9zhP3g26jsb9d0/PDw8PDw83D8zMzMzMzPTPxzHcRzHcdw/R9wRd8Qd4T+MLrroooveP/scUhOMt+I/3/It3/It3z/0MTgfg/PhP6OLLrroots/SpCnBHlK4D/NzMzMzMzkP5ybm5ubm9s/",
          "dtype": "f8"
         },
         "xaxis": "x",
         "yaxis": "y"
        }
       ],
       "layout": {
        "barmode": "relative",
        "legend": {
         "title": {
          "text": "variable"
         },
         "tracegroupgap": 0
        },
        "margin": {
         "t": 60
        },
        "template": {
         "data": {
          "bar": [
           {
            "error_x": {
             "color": "#2a3f5f"
            },
            "error_y": {
             "color": "#2a3f5f"
            },
            "marker": {
             "line": {
              "color": "#E5ECF6",
              "width": 0.5
             },
             "pattern": {
              "fillmode": "overlay",
              "size": 10,
              "solidity": 0.2
             }
            },
            "type": "bar"
           }
          ],
          "barpolar": [
           {
            "marker": {
             "line": {
              "color": "#E5ECF6",
              "width": 0.5
             },
             "pattern": {
              "fillmode": "overlay",
              "size": 10,
              "solidity": 0.2
             }
            },
            "type": "barpolar"
           }
          ],
          "carpet": [
           {
            "aaxis": {
             "endlinecolor": "#2a3f5f",
             "gridcolor": "white",
             "linecolor": "white",
             "minorgridcolor": "white",
             "startlinecolor": "#2a3f5f"
            },
            "baxis": {
             "endlinecolor": "#2a3f5f",
             "gridcolor": "white",
             "linecolor": "white",
             "minorgridcolor": "white",
             "startlinecolor": "#2a3f5f"
            },
            "type": "carpet"
           }
          ],
          "choropleth": [
           {
            "colorbar": {
             "outlinewidth": 0,
             "ticks": ""
            },
            "type": "choropleth"
           }
          ],
          "contour": [
           {
            "colorbar": {
             "outlinewidth": 0,
             "ticks": ""
            },
            "colorscale": [
             [
              0,
              "#0d0887"
             ],
             [
              0.1111111111111111,
              "#46039f"
             ],
             [
              0.2222222222222222,
              "#7201a8"
             ],
             [
              0.3333333333333333,
              "#9c179e"
             ],
             [
              0.4444444444444444,
              "#bd3786"
             ],
             [
              0.5555555555555556,
              "#d8576b"
             ],
             [
              0.6666666666666666,
              "#ed7953"
             ],
             [
              0.7777777777777778,
              "#fb9f3a"
             ],
             [
              0.8888888888888888,
              "#fdca26"
             ],
             [
              1,
              "#f0f921"
             ]
            ],
            "type": "contour"
           }
          ],
          "contourcarpet": [
           {
            "colorbar": {
             "outlinewidth": 0,
             "ticks": ""
            },
            "type": "contourcarpet"
           }
          ],
          "heatmap": [
           {
            "colorbar": {
             "outlinewidth": 0,
             "ticks": ""
            },
            "colorscale": [
             [
              0,
              "#0d0887"
             ],
             [
              0.1111111111111111,
              "#46039f"
             ],
             [
              0.2222222222222222,
              "#7201a8"
             ],
             [
              0.3333333333333333,
              "#9c179e"
             ],
             [
              0.4444444444444444,
              "#bd3786"
             ],
             [
              0.5555555555555556,
              "#d8576b"
             ],
             [
              0.6666666666666666,
              "#ed7953"
             ],
             [
              0.7777777777777778,
              "#fb9f3a"
             ],
             [
              0.8888888888888888,
              "#fdca26"
             ],
             [
              1,
              "#f0f921"
             ]
            ],
            "type": "heatmap"
           }
          ],
          "histogram": [
           {
            "marker": {
             "pattern": {
              "fillmode": "overlay",
              "size": 10,
              "solidity": 0.2
             }
            },
            "type": "histogram"
           }
          ],
          "histogram2d": [
           {
            "colorbar": {
             "outlinewidth": 0,
             "ticks": ""
            },
            "colorscale": [
             [
              0,
              "#0d0887"
             ],
             [
              0.1111111111111111,
              "#46039f"
             ],
             [
              0.2222222222222222,
              "#7201a8"
             ],
             [
              0.3333333333333333,
              "#9c179e"
             ],
             [
              0.4444444444444444,
              "#bd3786"
             ],
             [
              0.5555555555555556,
              "#d8576b"
             ],
             [
              0.6666666666666666,
              "#ed7953"
             ],
             [
              0.7777777777777778,
              "#fb9f3a"
             ],
             [
              0.8888888888888888,
              "#fdca26"
             ],
             [
              1,
              "#f0f921"
             ]
            ],
            "type": "histogram2d"
           }
          ],
          "histogram2dcontour": [
           {
            "colorbar": {
             "outlinewidth": 0,
             "ticks": ""
            },
            "colorscale": [
             [
              0,
              "#0d0887"
             ],
             [
              0.1111111111111111,
              "#46039f"
             ],
             [
              0.2222222222222222,
              "#7201a8"
             ],
             [
              0.3333333333333333,
              "#9c179e"
             ],
             [
              0.4444444444444444,
              "#bd3786"
             ],
             [
              0.5555555555555556,
              "#d8576b"
             ],
             [
              0.6666666666666666,
              "#ed7953"
             ],
             [
              0.7777777777777778,
              "#fb9f3a"
             ],
             [
              0.8888888888888888,
              "#fdca26"
             ],
             [
              1,
              "#f0f921"
             ]
            ],
            "type": "histogram2dcontour"
           }
          ],
          "mesh3d": [
           {
            "colorbar": {
             "outlinewidth": 0,
             "ticks": ""
            },
            "type": "mesh3d"
           }
          ],
          "parcoords": [
           {
            "line": {
             "colorbar": {
              "outlinewidth": 0,
              "ticks": ""
             }
            },
            "type": "parcoords"
           }
          ],
          "pie": [
           {
            "automargin": true,
            "type": "pie"
           }
          ],
          "scatter": [
           {
            "fillpattern": {
             "fillmode": "overlay",
             "size": 10,
             "solidity": 0.2
            },
            "type": "scatter"
           }
          ],
          "scatter3d": [
           {
            "line": {
             "colorbar": {
              "outlinewidth": 0,
              "ticks": ""
             }
            },
            "marker": {
             "colorbar": {
              "outlinewidth": 0,
              "ticks": ""
             }
            },
            "type": "scatter3d"
           }
          ],
          "scattercarpet": [
           {
            "marker": {
             "colorbar": {
              "outlinewidth": 0,
              "ticks": ""
             }
            },
            "type": "scattercarpet"
           }
          ],
          "scattergeo": [
           {
            "marker": {
             "colorbar": {
              "outlinewidth": 0,
              "ticks": ""
             }
            },
            "type": "scattergeo"
           }
          ],
          "scattergl": [
           {
            "marker": {
             "colorbar": {
              "outlinewidth": 0,
              "ticks": ""
             }
            },
            "type": "scattergl"
           }
          ],
          "scattermap": [
           {
            "marker": {
             "colorbar": {
              "outlinewidth": 0,
              "ticks": ""
             }
            },
            "type": "scattermap"
           }
          ],
          "scattermapbox": [
           {
            "marker": {
             "colorbar": {
              "outlinewidth": 0,
              "ticks": ""
             }
            },
            "type": "scattermapbox"
           }
          ],
          "scatterpolar": [
           {
            "marker": {
             "colorbar": {
              "outlinewidth": 0,
              "ticks": ""
             }
            },
            "type": "scatterpolar"
           }
          ],
          "scatterpolargl": [
           {
            "marker": {
             "colorbar": {
              "outlinewidth": 0,
              "ticks": ""
             }
            },
            "type": "scatterpolargl"
           }
          ],
          "scatterternary": [
           {
            "marker": {
             "colorbar": {
              "outlinewidth": 0,
              "ticks": ""
             }
            },
            "type": "scatterternary"
           }
          ],
          "surface": [
           {
            "colorbar": {
             "outlinewidth": 0,
             "ticks": ""
            },
            "colorscale": [
             [
              0,
              "#0d0887"
             ],
             [
              0.1111111111111111,
              "#46039f"
             ],
             [
              0.2222222222222222,
              "#7201a8"
             ],
             [
              0.3333333333333333,
              "#9c179e"
             ],
             [
              0.4444444444444444,
              "#bd3786"
             ],
             [
              0.5555555555555556,
              "#d8576b"
             ],
             [
              0.6666666666666666,
              "#ed7953"
             ],
             [
              0.7777777777777778,
              "#fb9f3a"
             ],
             [
              0.8888888888888888,
              "#fdca26"
             ],
             [
              1,
              "#f0f921"
             ]
            ],
            "type": "surface"
           }
          ],
          "table": [
           {
            "cells": {
             "fill": {
              "color": "#EBF0F8"
             },
             "line": {
              "color": "white"
             }
            },
            "header": {
             "fill": {
              "color": "#C8D4E3"
             },
             "line": {
              "color": "white"
             }
            },
            "type": "table"
           }
          ]
         },
         "layout": {
          "annotationdefaults": {
           "arrowcolor": "#2a3f5f",
           "arrowhead": 0,
           "arrowwidth": 1
          },
          "autotypenumbers": "strict",
          "coloraxis": {
           "colorbar": {
            "outlinewidth": 0,
            "ticks": ""
           }
          },
          "colorscale": {
           "diverging": [
            [
             0,
             "#8e0152"
            ],
            [
             0.1,
             "#c51b7d"
            ],
            [
             0.2,
             "#de77ae"
            ],
            [
             0.3,
             "#f1b6da"
            ],
            [
             0.4,
             "#fde0ef"
            ],
            [
             0.5,
             "#f7f7f7"
            ],
            [
             0.6,
             "#e6f5d0"
            ],
            [
             0.7,
             "#b8e186"
            ],
            [
             0.8,
             "#7fbc41"
            ],
            [
             0.9,
             "#4d9221"
            ],
            [
             1,
             "#276419"
            ]
           ],
           "sequential": [
            [
             0,
             "#0d0887"
            ],
            [
             0.1111111111111111,
             "#46039f"
            ],
            [
             0.2222222222222222,
             "#7201a8"
            ],
            [
             0.3333333333333333,
             "#9c179e"
            ],
            [
             0.4444444444444444,
             "#bd3786"
            ],
            [
             0.5555555555555556,
             "#d8576b"
            ],
            [
             0.6666666666666666,
             "#ed7953"
            ],
            [
             0.7777777777777778,
             "#fb9f3a"
            ],
            [
             0.8888888888888888,
             "#fdca26"
            ],
            [
             1,
             "#f0f921"
            ]
           ],
           "sequentialminus": [
            [
             0,
             "#0d0887"
            ],
            [
             0.1111111111111111,
             "#46039f"
            ],
            [
             0.2222222222222222,
             "#7201a8"
            ],
            [
             0.3333333333333333,
             "#9c179e"
            ],
            [
             0.4444444444444444,
             "#bd3786"
            ],
            [
             0.5555555555555556,
             "#d8576b"
            ],
            [
             0.6666666666666666,
             "#ed7953"
            ],
            [
             0.7777777777777778,
             "#fb9f3a"
            ],
            [
             0.8888888888888888,
             "#fdca26"
            ],
            [
             1,
             "#f0f921"
            ]
           ]
          },
          "colorway": [
           "#636efa",
           "#EF553B",
           "#00cc96",
           "#ab63fa",
           "#FFA15A",
           "#19d3f3",
           "#FF6692",
           "#B6E880",
           "#FF97FF",
           "#FECB52"
          ],
          "font": {
           "color": "#2a3f5f"
          },
          "geo": {
           "bgcolor": "white",
           "lakecolor": "white",
           "landcolor": "#E5ECF6",
           "showlakes": true,
           "showland": true,
           "subunitcolor": "white"
          },
          "hoverlabel": {
           "align": "left"
          },
          "hovermode": "closest",
          "mapbox": {
           "style": "light"
          },
          "paper_bgcolor": "white",
          "plot_bgcolor": "#E5ECF6",
          "polar": {
           "angularaxis": {
            "gridcolor": "white",
            "linecolor": "white",
            "ticks": ""
           },
           "bgcolor": "#E5ECF6",
           "radialaxis": {
            "gridcolor": "white",
            "linecolor": "white",
            "ticks": ""
           }
          },
          "scene": {
           "xaxis": {
            "backgroundcolor": "#E5ECF6",
            "gridcolor": "white",
            "gridwidth": 2,
            "linecolor": "white",
            "showbackground": true,
            "ticks": "",
            "zerolinecolor": "white"
           },
           "yaxis": {
            "backgroundcolor": "#E5ECF6",
            "gridcolor": "white",
            "gridwidth": 2,
            "linecolor": "white",
            "showbackground": true,
            "ticks": "",
            "zerolinecolor": "white"
           },
           "zaxis": {
            "backgroundcolor": "#E5ECF6",
            "gridcolor": "white",
            "gridwidth": 2,
            "linecolor": "white",
            "showbackground": true,
            "ticks": "",
            "zerolinecolor": "white"
           }
          },
          "shapedefaults": {
           "line": {
            "color": "#2a3f5f"
           }
          },
          "ternary": {
           "aaxis": {
            "gridcolor": "white",
            "linecolor": "white",
            "ticks": ""
           },
           "baxis": {
            "gridcolor": "white",
            "linecolor": "white",
            "ticks": ""
           },
           "bgcolor": "#E5ECF6",
           "caxis": {
            "gridcolor": "white",
            "linecolor": "white",
            "ticks": ""
           }
          },
          "title": {
           "x": 0.05
          },
          "xaxis": {
           "automargin": true,
           "gridcolor": "white",
           "linecolor": "white",
           "ticks": "",
           "title": {
            "standoff": 15
           },
           "zerolinecolor": "white",
           "zerolinewidth": 2
          },
          "yaxis": {
           "automargin": true,
           "gridcolor": "white",
           "linecolor": "white",
           "ticks": "",
           "title": {
            "standoff": 15
           },
           "zerolinecolor": "white",
           "zerolinewidth": 2
          }
         }
        },
        "xaxis": {
         "anchor": "y",
         "domain": [
          0,
          1
         ],
         "title": {
          "text": "value"
         }
        },
        "yaxis": {
         "anchor": "x",
         "domain": [
          0,
          1
         ],
         "title": {
          "text": "count"
         }
        }
       }
      }
     },
     "metadata": {},
     "output_type": "display_data"
    }
   ],
   "source": [
    "# health risk assessment and gender count by provider\n",
    "malesxprovider = data.groupby(\"servicing_provider_id\").member_sex.sum()\n",
    "males_propxprovider = malesxprovider.values / patientsxprovider.values\n",
    "print(np.min(males_propxprovider))\n",
    "print(np.max(males_propxprovider))\n",
    "px.histogram(males_propxprovider)\n",
    "# nope no probider services only males or females "
   ]
  },
  {
   "cell_type": "code",
   "execution_count": 584,
   "id": "fa4981f2",
   "metadata": {},
   "outputs": [
    {
     "data": {
      "application/vnd.plotly.v1+json": {
       "config": {
        "plotlyServerURL": "https://plot.ly"
       },
       "data": [
        {
         "alignmentgroup": "True",
         "boxpoints": "all",
         "hovertemplate": "health_risk_assesment=%{x}<br>servicing_provider_id=%{y}<extra></extra>",
         "legendgroup": "",
         "marker": {
          "color": "#636efa"
         },
         "name": "",
         "notched": false,
         "offsetgroup": "",
         "orientation": "h",
         "showlegend": false,
         "type": "box",
         "x": {
          "bdata": "BwMCBAcGAQkCAgcBBwkHBwkDAgQCBQUGBgkFBQUGBwIEAwoGBgQJBAIHBAgFCAQJCQkDAwEIBQQHBgMGCAMCBQgICQQGCAcCBQcDBgYDBQEDBAMDAgUEAggIBAUFBQUCAwQEBQcDAwUCBwcDBwgHBwkFBwUGCQcFBgUEAgUEBQkFAwQCBAIIBAgEAgcIAwcCAgQHBQMEAwUGBwMDBggFAgEDCQYFBAYGBggEAwcIAgoDBQMFAQgEAgQBBAMEBgMHAgcFAggIBAQGBwYEAgMGAgUJBAYHBQMIBAQIAwgDBAcHBAgIBgQGAgcICQUGBwIIBQQHBAUCBAQBAgQJBgcFBgIFBQgEBQYDBQYDAwcJAwQCBQQDBwgCBgQCBwMFBAkCBAYHBAIDAwQDAgMHCQYGCQEBCQcEBgMEBwcCCQUGAQkFBAoFAwcDBwMGBQgDCQUFBwMHAwcJCAgCBgcIBgQGBQcDAwEIBAMEBgUFBgkFBAQHBwgFAwQHBwUGCAEFBQYDBAgJCQIGBQIDAwYJBgQGCQQEBAgFAwQEAgIFBwcEAgMJBAQFBQYCBAQJAwgIAQQCCAIJBwEECAcGBQcICQEEBggIBwcDBgMEAwYGCgkJBAQHAwoGBwQEBQYIBQQEBAQDCAkJAwkIAwgJCAMGBQYGBggCBwIEAwkGBwMFAgMJAwkIAwQEBggFBAcBAwMHBwYEBQQDBgMHBQgFBwQDBQMJCAIDBAQGBgkCCQcGBgkHBwECBgYGBwgFBQQCBQYFCAgGBQIGBgIECQICBgQEAgYIBAcFBwQGBAgFAwYECAkHBwIHCQIIBAQHBgEGAwQJBwUGBwcDCAkHBQcDBAQEAwcGCAUECAgGBQMECQQCBggHBAIIBQIHBAkDBAYHAQMCBwcHAgUGBgQGBQMFAwQGCAIJCAIDCQMJBQEECAQCBgQCBAMDBgQIBgQHBAUGCQMHBAUFAwgFBgMEBQUFAwUHAwcFBgoBBwQDBgYCAgcEBgkEBQMHBwgDBgYCBQUEAgUEAwIGAgcDAgkIBQIFBgYCBwQDBQQCBAQDCQgICAQDBwEHBAQFBgUIAwUDBAgFAgIEBAcHBQkDBggFCQQHCQoEAwMDBwgEAwUBBAQCAgcEBgcDAwUGBwUDBwIHAgIFAgMDCgYDCAMHAwYDBAUGAQgHCQYEBwQEAwgFAgEJBQMCBQQDAwYEAwIEBwUGBQMIAwYJAwMEBAcFBwkFBAQIBwQFBQQGBwYHAwIJBwcFCAUDBQIEBQQJBAgDBwMIBwkFBwIIBggHCQIHBwcHBAQHAwEDCAIFBQMIBwMIAwgEBwcEBAMDAwYFCQYDCQQJCAMICQQCAgcIAgUGAgYHBggGCAYDBQEKAQcCBQQHAgMHBQUGBQUEAwQDBgUIAwYJAwcHBwQIAwgEBAYHCQgFBQMFBwQGBwkFBQUDAwgHBQkGCAcJCAMEAwUDAwcJAgkIBQEJBwYEBAgDBQUHBQYDCQQFBQQDAwYGBwMIBwQFBQIEBAEFBwIDBwcKBAQCBgoJBQoJBgMICgMHAwIHAQgFBwIEBgEHBAcGBwYDBgMGBAcGBAgHBwMFCAYGBQQGBgMEAgYFBAYBCAUHAwcHCQMECAgDBAMFBgIGBwgBCggCAwYIBwUFAwgJCQUFAgQICAkHBQMEBAQKBwQDBAgEBQgFBAIDAwMGBwUHBwUEBgkGAwcDBwQDBgkIAwICBAUBBQYICQoHBAgCBAIBBQQFBAUJAgkHAgIDAQcIAgMCBAIGBAQECQYEBQYHBgQIBwQGBwcCCAgJBgQGBgIHBQYIBgcIBwkCAggFBAMDBggDBQgIBwUEBwcFAwgFAwkDBgIHAwgFCQgDBQMBAgMDCAYICAQJBwUHAQMDBgYIAwUJBwMEBQYHAgYCAQMDBQQECAYCBwgEBgUDAwYHBAYCBAgCAwEFBgYIBQICBAQEAwkFBwYIBwUFBwYHCgMFCAUHAgcIBgYCAwYDCAEECQUFAwMJBggHBAgCBQEDAQIHBAYEAgcHCAQDAQICBAUCBgkFAwkJBwMHBgMIBgYDBQcJBgUBBAQDBQgGAwQFBwUEBQUKBggDCQcHBAQEAwkGBwUHAQQGBgEFBwgIBAcDAggFAwgIBgkCBgMBBAYDAgUFCQMEAwUKBAYBBAcGBQUDCAcJAQIGCQUHBAQGCQgHBAcJAgMCBgIEBwIHCQMCBgQJCQUECQcGAwIEAwQGBQYHAQIDBQEDBwEEAwYGAgQJBQcEAwcHAQgEBAUDBwYEBwQHBgMEBQMFCQQGCgYGCgkGBAUJBggFBgcJCAkJBwUDAwkGBAMDBAYDBAYFBwUEBQQCBgMIBgcBCAkDBQMJBwMIAwUHAwcJBwkJAwgDBQcDAwQDBAUDAwkJAwkIBgMDCQQCBgcBCAUDCAUGBQkDBQcDBQUFBQIFBgUKBQMIAwgCBQcIAgIGAgcDCQUHBQMEBAcKCAgFBAgDBwcFBgIGAwEGAgEFBQICAwcGCAUGAwgJCAcKCAUFBwUDAwMDAggIBAMFBQkHBQgBCQgHCAcHAwYEBQEEBQMDBwQJAgkHBAIDCQIFCAUEAgcDCQcJBwgBBQQJBwgFBQMHAgQECgYGAwYIBwUIBwQCBgkHCAYIBwIGBAMJBwUHAwQFCQkICQYDBwMGAwQCAwMKBwMDCAICAwQGAwYGCQYEAQMGAwIEBQIGCgUEBwMDBwYGAwgKBAQDBQICCQUHBQUGBAYIBgMIAwQDAwQCBAgGAwYHBgIHBgIFBQQHBwYEBgYCCQMBBgcFBAMIBQcDCAQGBgQCAwQECAIIBQMFBQYEBAQEAgMECQQDAwcGBAgHBQQECQgHBQcIAggFAgQGBwYECgMFAgECCAMFAwQEBgYHCAkIBQYEBgIGAwUGBAYGBQQEBgYHAQQHBQgHAgQJAwUICAgFAgcHCAMFAgYGCAQEAwQGBQQGBQcFBAQFCAUGAggJBwMBBQYIBwYJCAcDBgQGBAYJBgQEBgcEBwIEBAQIBgQEAggEBAMIAgQFBwMDAgQCBQQEAgQGBgIGAwQIBAICCQkGBAgFAgYEBgUJAQgIBwIGBQUKCAUIBggGAwMCBgkCAwUFAwMHAgMFBQQEAQUJAggJAwUHBggFBwMEAQMFBAkGBgcEBwcDCAcEBgMFCAUBBAcFAgUDBAUGBQQEBQUHBAcGCgkEBgkFCgUCBAIGBwUFBAMDCAMHCQkHBgUDBgcGCQIHBAIDBQQEBQgIAwEDBwYGBwIDCggGAwYDCAUHBwQFBAcJCAkGBQYICQgCCAcHBgUBBAUGAQcEBQUGBAYDBQIGBQQCAwQCAQYCAgUFAwIICAUGBwUDBgIIAwMEBQMDCQkEBwYCBggGBwIGBgQCBAkHCQgGBQUIBQcHAQgDBwIIBQgCBwIIBAQDBgEHBwQHBgQCCAMFBAIDBAcJAQcGCQQHAwEIAwkDAgQDAwUGAgQCBAgIAgMDBQMJBAIFBQcHBwYHAwUDCAkFCAQJBAcHBwYCBgUGAQkGCAQGBQgDCAQIAwgGBAMJCQgEBQMGAwUGAgMFBQYCBAQEBAIBBAQGAwkHBQgJBwMEAwQHBgUHCgYDAwMIBAMGAwUCCQYIBgcGBgQHBgcFCAQBBgIFBAIDAgkGBggFBwUECQQCAgMEAgMHAgQCBQYICAgGAwEDBAYIBAcEAQQICQIGAgcHBAUIBQcJBwQHCQMFAwMEBAIEAQkECgoGBQIJAwMJCgMBAgQIBgQDBwUGAwEFAgMCBgIECQIIAQUIBAQHCQQCBAMICAIJBgQDBwYECAMHBQIIBAQBBQkEBgQDCAUGAgEDBggEBQQHBwQIBAgDBgYIAQcGCQgCCAcFCAUEBAgBAgIFCAUDCAUJBwkGAgcDBQIGBwECBQQFBwIJCAUHBAMEBQoEAggBAwYGBgUIBgUHCQUCCQcJBAMGBQYGCQgCBAMHBgUJAQgIAgYGBQcEAgUFBQcCBAQGCAIGAggJBgEDAwQEBAYGAwIEAwYHBggIAQUIAwQGAwgHAggFAgUIBgcFBwMDBAYBAwcEAQgEBwYIAwMBAwIDAgMFBwUBAwcJBwMCAwcJAwUEAgQGBQQEAwYFBAkHBQYCBgQHAwYFBAkHBAkFAwQJBQcFBwcEAwUFAgUGBQcDBQQCBQcCAwQEAwQJBQUHBwIEAgcBBwYFAgcJBQQFCgkGCQcFBQICBwcDCAMGCAUJBwMHAggIBwQFBQgJBAcDBwICCAcIAggDAwgCBgQDCAYHAwQFAwQCCAgEBAUCBgQECAYDAwEHBgQDCAcGBQYFAgkCCQkCBAMDCQIFBgMFBQMCAwYFBwYEBAMDAQYGBwUGAwcFAgQDBAUHCAgIBQQFAgYDBQcCBggFAwQIBgQICAgCBQUFAgUGBAMIBAcCAgYFAwcIBwQEBQICBQQIAwQEBggHAwQGCQkGAgcEAwYGCQQGAwMIBAMCBwIJAQMDAwUEBwUCAwMFCQcCBAUEAwcDBwIHAgMDBwcIBQUHBQQFCQUFBgYDBQUJBAcDBwUBAwUECQUIAwoCBwYDAwQEBAQEBQMDBwMHAgUIBQMDBAYEBgUECQkFCAcDCQYBBAkCBgIFCAMCCgYDBAQCAwkEBwQEBQMGBAYDBwgEAwYHAggDBAkJCAkFBAICBgIJBwYHBgQGBAIDBAYGBwYDBQkIBgUJCAUHBgMGBwMIBgQICQQJBQkECQUKBAIEBgQFBwcCCAgJAgkECAUDBgQECAYFAgoEBgUDAgICBwQCBgQCBQMBBAIIBwQHBgcHBgYCBQMJBwYGAgIDBAYGAwUJBgcIBgIDBAQCBAICBwMGBAQEBQkCAgcJBQcEBgUIAgYCAQcHBAIBAgQGAgcGAwcGCQcCAwMEBAQECAMCBAYJBgMDBQIEAwMBBwMCBQgFBwQDBgcJBQIGBwMGBQQIBQgDBQgCBgUCBwEEBAgCCQMFAwIGBgMDCAgIBwMEBQYCCQUDAQcFAwIFBwQFBAUDBwgBAwIIAgcCCQgFCQIJCgMDCgQIBgEGBAEHBAIHCAIJBwQECAgECQIEBwQHBAYGBwMDBgkEBQYFAgoGBAgFBwYFAQYIAgMDAQQGBwcDAwEEBAMEBAIFBwcFAgIEAwUDAwEEBAMCAQMDCQcFBgIHCAQHBwUEBgcIAggBAwQDAwYGBgQGAgICBQgIBgcEBAIDAwcICAMICAkHBgYIBQUEAQYIBwcEAQMIBAQDBQgEBAcEAggCBAQGBgUDAwYGAwUHBQcECAIHBwEFBgoGAgcHCAYECAcIAgUDAgcJAwUDCQgEBAcDCAQGBgMDBAUCCAMGBQIECQQIBQcEBQcIAwkGBgUHBQcEAwQGAgcDBwYGBgMGBAIBCAYGBQMIAwIEBQUDBQcDCAgFCAkIBwIHCQIJAgcEAwIEBwUHBAkHBQQHAwgDBQIJCAMHCAYEAgQEBAkDBgcFBAMGBwEHAwYJBQkGBQUFCAIEBgIFAwUHCQQFBwUDAwUEBAcGBgIEAQYGBwQFBAkEAwYGBAIGAgQICAMFCAQGCQMIAgUFCQkCCQYIBAMBBwYGBwUGBggBAggIAggDAggCBgQDAgcKCAYJBgMCBwQIAgMDCAMEBgQECAIGAgcHAwYDBwYJBAQJBgUBAwoDAgUECAYFBQUFAwMCBAQJBwMEAgoEBQQJBAcDAgIGCQMHAgcFAgYHCQEICAM=",
          "dtype": "i1"
         },
         "x0": " ",
         "xaxis": "x",
         "y": {
          "bdata": "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",
          "dtype": "i1"
         },
         "y0": " ",
         "yaxis": "y"
        }
       ],
       "layout": {
        "boxmode": "group",
        "legend": {
         "tracegroupgap": 0
        },
        "template": {
         "data": {
          "bar": [
           {
            "error_x": {
             "color": "#2a3f5f"
            },
            "error_y": {
             "color": "#2a3f5f"
            },
            "marker": {
             "line": {
              "color": "#E5ECF6",
              "width": 0.5
             },
             "pattern": {
              "fillmode": "overlay",
              "size": 10,
              "solidity": 0.2
             }
            },
            "type": "bar"
           }
          ],
          "barpolar": [
           {
            "marker": {
             "line": {
              "color": "#E5ECF6",
              "width": 0.5
             },
             "pattern": {
              "fillmode": "overlay",
              "size": 10,
              "solidity": 0.2
             }
            },
            "type": "barpolar"
           }
          ],
          "carpet": [
           {
            "aaxis": {
             "endlinecolor": "#2a3f5f",
             "gridcolor": "white",
             "linecolor": "white",
             "minorgridcolor": "white",
             "startlinecolor": "#2a3f5f"
            },
            "baxis": {
             "endlinecolor": "#2a3f5f",
             "gridcolor": "white",
             "linecolor": "white",
             "minorgridcolor": "white",
             "startlinecolor": "#2a3f5f"
            },
            "type": "carpet"
           }
          ],
          "choropleth": [
           {
            "colorbar": {
             "outlinewidth": 0,
             "ticks": ""
            },
            "type": "choropleth"
           }
          ],
          "contour": [
           {
            "colorbar": {
             "outlinewidth": 0,
             "ticks": ""
            },
            "colorscale": [
             [
              0,
              "#0d0887"
             ],
             [
              0.1111111111111111,
              "#46039f"
             ],
             [
              0.2222222222222222,
              "#7201a8"
             ],
             [
              0.3333333333333333,
              "#9c179e"
             ],
             [
              0.4444444444444444,
              "#bd3786"
             ],
             [
              0.5555555555555556,
              "#d8576b"
             ],
             [
              0.6666666666666666,
              "#ed7953"
             ],
             [
              0.7777777777777778,
              "#fb9f3a"
             ],
             [
              0.8888888888888888,
              "#fdca26"
             ],
             [
              1,
              "#f0f921"
             ]
            ],
            "type": "contour"
           }
          ],
          "contourcarpet": [
           {
            "colorbar": {
             "outlinewidth": 0,
             "ticks": ""
            },
            "type": "contourcarpet"
           }
          ],
          "heatmap": [
           {
            "colorbar": {
             "outlinewidth": 0,
             "ticks": ""
            },
            "colorscale": [
             [
              0,
              "#0d0887"
             ],
             [
              0.1111111111111111,
              "#46039f"
             ],
             [
              0.2222222222222222,
              "#7201a8"
             ],
             [
              0.3333333333333333,
              "#9c179e"
             ],
             [
              0.4444444444444444,
              "#bd3786"
             ],
             [
              0.5555555555555556,
              "#d8576b"
             ],
             [
              0.6666666666666666,
              "#ed7953"
             ],
             [
              0.7777777777777778,
              "#fb9f3a"
             ],
             [
              0.8888888888888888,
              "#fdca26"
             ],
             [
              1,
              "#f0f921"
             ]
            ],
            "type": "heatmap"
           }
          ],
          "histogram": [
           {
            "marker": {
             "pattern": {
              "fillmode": "overlay",
              "size": 10,
              "solidity": 0.2
             }
            },
            "type": "histogram"
           }
          ],
          "histogram2d": [
           {
            "colorbar": {
             "outlinewidth": 0,
             "ticks": ""
            },
            "colorscale": [
             [
              0,
              "#0d0887"
             ],
             [
              0.1111111111111111,
              "#46039f"
             ],
             [
              0.2222222222222222,
              "#7201a8"
             ],
             [
              0.3333333333333333,
              "#9c179e"
             ],
             [
              0.4444444444444444,
              "#bd3786"
             ],
             [
              0.5555555555555556,
              "#d8576b"
             ],
             [
              0.6666666666666666,
              "#ed7953"
             ],
             [
              0.7777777777777778,
              "#fb9f3a"
             ],
             [
              0.8888888888888888,
              "#fdca26"
             ],
             [
              1,
              "#f0f921"
             ]
            ],
            "type": "histogram2d"
           }
          ],
          "histogram2dcontour": [
           {
            "colorbar": {
             "outlinewidth": 0,
             "ticks": ""
            },
            "colorscale": [
             [
              0,
              "#0d0887"
             ],
             [
              0.1111111111111111,
              "#46039f"
             ],
             [
              0.2222222222222222,
              "#7201a8"
             ],
             [
              0.3333333333333333,
              "#9c179e"
             ],
             [
              0.4444444444444444,
              "#bd3786"
             ],
             [
              0.5555555555555556,
              "#d8576b"
             ],
             [
              0.6666666666666666,
              "#ed7953"
             ],
             [
              0.7777777777777778,
              "#fb9f3a"
             ],
             [
              0.8888888888888888,
              "#fdca26"
             ],
             [
              1,
              "#f0f921"
             ]
            ],
            "type": "histogram2dcontour"
           }
          ],
          "mesh3d": [
           {
            "colorbar": {
             "outlinewidth": 0,
             "ticks": ""
            },
            "type": "mesh3d"
           }
          ],
          "parcoords": [
           {
            "line": {
             "colorbar": {
              "outlinewidth": 0,
              "ticks": ""
             }
            },
            "type": "parcoords"
           }
          ],
          "pie": [
           {
            "automargin": true,
            "type": "pie"
           }
          ],
          "scatter": [
           {
            "fillpattern": {
             "fillmode": "overlay",
             "size": 10,
             "solidity": 0.2
            },
            "type": "scatter"
           }
          ],
          "scatter3d": [
           {
            "line": {
             "colorbar": {
              "outlinewidth": 0,
              "ticks": ""
             }
            },
            "marker": {
             "colorbar": {
              "outlinewidth": 0,
              "ticks": ""
             }
            },
            "type": "scatter3d"
           }
          ],
          "scattercarpet": [
           {
            "marker": {
             "colorbar": {
              "outlinewidth": 0,
              "ticks": ""
             }
            },
            "type": "scattercarpet"
           }
          ],
          "scattergeo": [
           {
            "marker": {
             "colorbar": {
              "outlinewidth": 0,
              "ticks": ""
             }
            },
            "type": "scattergeo"
           }
          ],
          "scattergl": [
           {
            "marker": {
             "colorbar": {
              "outlinewidth": 0,
              "ticks": ""
             }
            },
            "type": "scattergl"
           }
          ],
          "scattermap": [
           {
            "marker": {
             "colorbar": {
              "outlinewidth": 0,
              "ticks": ""
             }
            },
            "type": "scattermap"
           }
          ],
          "scattermapbox": [
           {
            "marker": {
             "colorbar": {
              "outlinewidth": 0,
              "ticks": ""
             }
            },
            "type": "scattermapbox"
           }
          ],
          "scatterpolar": [
           {
            "marker": {
             "colorbar": {
              "outlinewidth": 0,
              "ticks": ""
             }
            },
            "type": "scatterpolar"
           }
          ],
          "scatterpolargl": [
           {
            "marker": {
             "colorbar": {
              "outlinewidth": 0,
              "ticks": ""
             }
            },
            "type": "scatterpolargl"
           }
          ],
          "scatterternary": [
           {
            "marker": {
             "colorbar": {
              "outlinewidth": 0,
              "ticks": ""
             }
            },
            "type": "scatterternary"
           }
          ],
          "surface": [
           {
            "colorbar": {
             "outlinewidth": 0,
             "ticks": ""
            },
            "colorscale": [
             [
              0,
              "#0d0887"
             ],
             [
              0.1111111111111111,
              "#46039f"
             ],
             [
              0.2222222222222222,
              "#7201a8"
             ],
             [
              0.3333333333333333,
              "#9c179e"
             ],
             [
              0.4444444444444444,
              "#bd3786"
             ],
             [
              0.5555555555555556,
              "#d8576b"
             ],
             [
              0.6666666666666666,
              "#ed7953"
             ],
             [
              0.7777777777777778,
              "#fb9f3a"
             ],
             [
              0.8888888888888888,
              "#fdca26"
             ],
             [
              1,
              "#f0f921"
             ]
            ],
            "type": "surface"
           }
          ],
          "table": [
           {
            "cells": {
             "fill": {
              "color": "#EBF0F8"
             },
             "line": {
              "color": "white"
             }
            },
            "header": {
             "fill": {
              "color": "#C8D4E3"
             },
             "line": {
              "color": "white"
             }
            },
            "type": "table"
           }
          ]
         },
         "layout": {
          "annotationdefaults": {
           "arrowcolor": "#2a3f5f",
           "arrowhead": 0,
           "arrowwidth": 1
          },
          "autotypenumbers": "strict",
          "coloraxis": {
           "colorbar": {
            "outlinewidth": 0,
            "ticks": ""
           }
          },
          "colorscale": {
           "diverging": [
            [
             0,
             "#8e0152"
            ],
            [
             0.1,
             "#c51b7d"
            ],
            [
             0.2,
             "#de77ae"
            ],
            [
             0.3,
             "#f1b6da"
            ],
            [
             0.4,
             "#fde0ef"
            ],
            [
             0.5,
             "#f7f7f7"
            ],
            [
             0.6,
             "#e6f5d0"
            ],
            [
             0.7,
             "#b8e186"
            ],
            [
             0.8,
             "#7fbc41"
            ],
            [
             0.9,
             "#4d9221"
            ],
            [
             1,
             "#276419"
            ]
           ],
           "sequential": [
            [
             0,
             "#0d0887"
            ],
            [
             0.1111111111111111,
             "#46039f"
            ],
            [
             0.2222222222222222,
             "#7201a8"
            ],
            [
             0.3333333333333333,
             "#9c179e"
            ],
            [
             0.4444444444444444,
             "#bd3786"
            ],
            [
             0.5555555555555556,
             "#d8576b"
            ],
            [
             0.6666666666666666,
             "#ed7953"
            ],
            [
             0.7777777777777778,
             "#fb9f3a"
            ],
            [
             0.8888888888888888,
             "#fdca26"
            ],
            [
             1,
             "#f0f921"
            ]
           ],
           "sequentialminus": [
            [
             0,
             "#0d0887"
            ],
            [
             0.1111111111111111,
             "#46039f"
            ],
            [
             0.2222222222222222,
             "#7201a8"
            ],
            [
             0.3333333333333333,
             "#9c179e"
            ],
            [
             0.4444444444444444,
             "#bd3786"
            ],
            [
             0.5555555555555556,
             "#d8576b"
            ],
            [
             0.6666666666666666,
             "#ed7953"
            ],
            [
             0.7777777777777778,
             "#fb9f3a"
            ],
            [
             0.8888888888888888,
             "#fdca26"
            ],
            [
             1,
             "#f0f921"
            ]
           ]
          },
          "colorway": [
           "#636efa",
           "#EF553B",
           "#00cc96",
           "#ab63fa",
           "#FFA15A",
           "#19d3f3",
           "#FF6692",
           "#B6E880",
           "#FF97FF",
           "#FECB52"
          ],
          "font": {
           "color": "#2a3f5f"
          },
          "geo": {
           "bgcolor": "white",
           "lakecolor": "white",
           "landcolor": "#E5ECF6",
           "showlakes": true,
           "showland": true,
           "subunitcolor": "white"
          },
          "hoverlabel": {
           "align": "left"
          },
          "hovermode": "closest",
          "mapbox": {
           "style": "light"
          },
          "paper_bgcolor": "white",
          "plot_bgcolor": "#E5ECF6",
          "polar": {
           "angularaxis": {
            "gridcolor": "white",
            "linecolor": "white",
            "ticks": ""
           },
           "bgcolor": "#E5ECF6",
           "radialaxis": {
            "gridcolor": "white",
            "linecolor": "white",
            "ticks": ""
           }
          },
          "scene": {
           "xaxis": {
            "backgroundcolor": "#E5ECF6",
            "gridcolor": "white",
            "gridwidth": 2,
            "linecolor": "white",
            "showbackground": true,
            "ticks": "",
            "zerolinecolor": "white"
           },
           "yaxis": {
            "backgroundcolor": "#E5ECF6",
            "gridcolor": "white",
            "gridwidth": 2,
            "linecolor": "white",
            "showbackground": true,
            "ticks": "",
            "zerolinecolor": "white"
           },
           "zaxis": {
            "backgroundcolor": "#E5ECF6",
            "gridcolor": "white",
            "gridwidth": 2,
            "linecolor": "white",
            "showbackground": true,
            "ticks": "",
            "zerolinecolor": "white"
           }
          },
          "shapedefaults": {
           "line": {
            "color": "#2a3f5f"
           }
          },
          "ternary": {
           "aaxis": {
            "gridcolor": "white",
            "linecolor": "white",
            "ticks": ""
           },
           "baxis": {
            "gridcolor": "white",
            "linecolor": "white",
            "ticks": ""
           },
           "bgcolor": "#E5ECF6",
           "caxis": {
            "gridcolor": "white",
            "linecolor": "white",
            "ticks": ""
           }
          },
          "title": {
           "x": 0.05
          },
          "xaxis": {
           "automargin": true,
           "gridcolor": "white",
           "linecolor": "white",
           "ticks": "",
           "title": {
            "standoff": 15
           },
           "zerolinecolor": "white",
           "zerolinewidth": 2
          },
          "yaxis": {
           "automargin": true,
           "gridcolor": "white",
           "linecolor": "white",
           "ticks": "",
           "title": {
            "standoff": 15
           },
           "zerolinecolor": "white",
           "zerolinewidth": 2
          }
         }
        },
        "title": {
         "text": "Health Risk Assessment by Provider (Horizontal Box Plot)"
        },
        "xaxis": {
         "anchor": "y",
         "domain": [
          0,
          1
         ],
         "title": {
          "text": "health_risk_assesment"
         }
        },
        "yaxis": {
         "anchor": "x",
         "domain": [
          0,
          1
         ],
         "title": {
          "text": "servicing_provider_id"
         }
        }
       }
      }
     },
     "metadata": {},
     "output_type": "display_data"
    }
   ],
   "source": [
    "px.box(\n",
    "    data,\n",
    "    x=\"health_risk_assesment\",\n",
    "    y=\"servicing_provider_id\",\n",
    "    orientation=\"h\",\n",
    "    points=\"all\",\n",
    "    title=\"Health Risk Assessment by Provider (Horizontal Box Plot)\"\n",
    ")"
   ]
  },
  {
   "cell_type": "code",
   "execution_count": 585,
   "id": "64a14d02",
   "metadata": {},
   "outputs": [
    {
     "name": "stdout",
     "output_type": "stream",
     "text": [
      "health_risk_assesment\n",
      "9     62\n",
      "10    19\n",
      "8     14\n",
      "7      1\n",
      "Name: count, dtype: int64\n"
     ]
    }
   ],
   "source": [
    "# health risk assessment by provider \n",
    "hrasxprovider = data.groupby(\"servicing_provider_id\").health_risk_assesment.nunique()\n",
    "print(hrasxprovider.value_counts())\n",
    "# looks like 7 providers have only 1 health risk assessment score which could be leading to the issues downstream? "
   ]
  },
  {
   "cell_type": "code",
   "execution_count": 586,
   "id": "14e80fbb",
   "metadata": {},
   "outputs": [
    {
     "name": "stdout",
     "output_type": "stream",
     "text": [
      "outcome\n",
      "False    2413\n",
      "True     1834\n",
      "Name: count, dtype: int64\n",
      "outcome\n",
      "failure    2413\n",
      "Name: count, dtype: int64\n",
      "outcome\n",
      "1    2413\n",
      "0    1834\n",
      "Name: count, dtype: int64\n",
      "event_id\n",
      "1    4247\n",
      "Name: count, dtype: int64\n"
     ]
    }
   ],
   "source": [
    "# lets understand patient results \n",
    "\n",
    "# are there any missing values \n",
    "print(data.outcome.isna().value_counts())\n",
    "# yes between 1/2-1/3 are missing outcomes \n",
    "\n",
    "# what are the nonmissing outcomes \n",
    "print(data.outcome.value_counts())\n",
    "\n",
    "# so we come to our first assumption; Na's in outcome are successes (only alternative is failure)\n",
    "# in which case we can either take a comparartive approach or a survival approach if we interpret this as no followup\n",
    "\n",
    "# is there only 2 outcome per patient? \n",
    "print(data.groupby(\"member_id\").outcome.nunique().value_counts() )\n",
    "# yes! \n",
    "\n",
    "# how many visits per patient\n",
    "print(data.groupby(\"member_id\").event_id.nunique().value_counts())\n",
    "# okay so we have a single outcome per patient, and a single visit per patient"
   ]
  },
  {
   "cell_type": "code",
   "execution_count": 587,
   "id": "56167f29",
   "metadata": {},
   "outputs": [],
   "source": [
    "# creating a new data frame under the comparison approach \n",
    "data_outcome_compare = data.copy()\n",
    "\n",
    "data_outcome_compare[\"outcome\"] = data.outcome.fillna(\"pass\")"
   ]
  },
  {
   "cell_type": "code",
   "execution_count": 722,
   "id": "de09b2c1",
   "metadata": {},
   "outputs": [
    {
     "data": {
      "application/vnd.plotly.v1+json": {
       "config": {
        "plotlyServerURL": "https://plot.ly"
       },
       "data": [
        {
         "hovertemplate": "outcome=pass<br>health_risk_assesment=%{x}<br>member_age=%{y}<br>member_id=%{marker.size}<extra></extra>",
         "legendgroup": "pass",
         "marker": {
          "color": "#636efa",
          "size": {
           "bdata": "LlM0GRcJCgMoYEArEg8HBRg7IRwODwgIARAdICcaGw0FCAcgJBwYDA0NBxkkHRcWEQgFHiUjEw4VEgUUHBoYGhEMCgEIGBYUExEMDQIDEBMJDg0ICAM=",
           "dtype": "i1"
          },
          "sizemode": "area",
          "sizeref": 0.24,
          "symbol": "circle"
         },
         "mode": "markers",
         "name": "pass",
         "orientation": "v",
         "showlegend": true,
         "type": "scatter",
         "x": {
          "bdata": "AQIDBAUGBwgBAgMEBQYHCAECAwQFBgcICQECAwQFBgcICQECAwQFBgcICQIDBAUGBwgJAgMEBQYHCAkCAwQFBgcICQoCAwQFBgcICQoCAwQFBgcICQo=",
          "dtype": "i1"
         },
         "xaxis": "x",
         "y": {
          "bdata": "QEBAQEBAQEBBQUFBQUFBQUJCQkJCQkJCQkNDQ0NDQ0NDQ0REREREREREREVFRUVFRUVFRkZGRkZGRkZHR0dHR0dHR0dISEhISEhISEhJSUlJSUlJSUk=",
          "dtype": "i1"
         },
         "yaxis": "y"
        },
        {
         "hovertemplate": "outcome=failure<br>health_risk_assesment=%{x}<br>member_age=%{y}<br>member_id=%{marker.size}<extra></extra>",
         "legendgroup": "failure",
         "marker": {
          "color": "#EF553B",
          "size": {
           "bdata": "CyowFBMPEAclKSkVFRACBxYkJyssKREIGykrMCkaEQMSKScuNSAVARUrISU0MhwFDyUuKig0IAQCGBYrLDQkLAoBFRgjNCgnLgoRFxkaKx0lFA==",
           "dtype": "i1"
          },
          "sizemode": "area",
          "sizeref": 0.24,
          "symbol": "circle"
         },
         "mode": "markers",
         "name": "failure",
         "orientation": "v",
         "showlegend": true,
         "type": "scatter",
         "x": {
          "bdata": "AgMEBQYHCAIDBAUGBwgJAgMEBQYHCAkCAwQFBgcICQIDBAUGBwgJAgMEBQYHCAkCAwQFBgcICQoCAwQFBgcICQoCAwQFBgcICQoDBAUGBwgJCg==",
          "dtype": "i1"
         },
         "xaxis": "x",
         "y": {
          "bdata": "QEBAQEBAQEFBQUFBQUFBQkJCQkJCQkJDQ0NDQ0NDQ0RERERERERERUVFRUVFRUVGRkZGRkZGRkZHR0dHR0dHR0dISEhISEhISEhJSUlJSUlJSQ==",
          "dtype": "i1"
         },
         "yaxis": "y"
        }
       ],
       "layout": {
        "annotations": [
         {
          "bgcolor": "white",
          "font": {
           "color": "black",
           "size": 14
          },
          "showarrow": false,
          "text": "Correlation: 0.38",
          "x": 0.05,
          "xref": "paper",
          "y": 0.95,
          "yref": "paper"
         }
        ],
        "legend": {
         "itemsizing": "constant",
         "title": {
          "text": "outcome"
         },
         "tracegroupgap": 0
        },
        "margin": {
         "t": 60
        },
        "template": {
         "data": {
          "bar": [
           {
            "error_x": {
             "color": "#2a3f5f"
            },
            "error_y": {
             "color": "#2a3f5f"
            },
            "marker": {
             "line": {
              "color": "#E5ECF6",
              "width": 0.5
             },
             "pattern": {
              "fillmode": "overlay",
              "size": 10,
              "solidity": 0.2
             }
            },
            "type": "bar"
           }
          ],
          "barpolar": [
           {
            "marker": {
             "line": {
              "color": "#E5ECF6",
              "width": 0.5
             },
             "pattern": {
              "fillmode": "overlay",
              "size": 10,
              "solidity": 0.2
             }
            },
            "type": "barpolar"
           }
          ],
          "carpet": [
           {
            "aaxis": {
             "endlinecolor": "#2a3f5f",
             "gridcolor": "white",
             "linecolor": "white",
             "minorgridcolor": "white",
             "startlinecolor": "#2a3f5f"
            },
            "baxis": {
             "endlinecolor": "#2a3f5f",
             "gridcolor": "white",
             "linecolor": "white",
             "minorgridcolor": "white",
             "startlinecolor": "#2a3f5f"
            },
            "type": "carpet"
           }
          ],
          "choropleth": [
           {
            "colorbar": {
             "outlinewidth": 0,
             "ticks": ""
            },
            "type": "choropleth"
           }
          ],
          "contour": [
           {
            "colorbar": {
             "outlinewidth": 0,
             "ticks": ""
            },
            "colorscale": [
             [
              0,
              "#0d0887"
             ],
             [
              0.1111111111111111,
              "#46039f"
             ],
             [
              0.2222222222222222,
              "#7201a8"
             ],
             [
              0.3333333333333333,
              "#9c179e"
             ],
             [
              0.4444444444444444,
              "#bd3786"
             ],
             [
              0.5555555555555556,
              "#d8576b"
             ],
             [
              0.6666666666666666,
              "#ed7953"
             ],
             [
              0.7777777777777778,
              "#fb9f3a"
             ],
             [
              0.8888888888888888,
              "#fdca26"
             ],
             [
              1,
              "#f0f921"
             ]
            ],
            "type": "contour"
           }
          ],
          "contourcarpet": [
           {
            "colorbar": {
             "outlinewidth": 0,
             "ticks": ""
            },
            "type": "contourcarpet"
           }
          ],
          "heatmap": [
           {
            "colorbar": {
             "outlinewidth": 0,
             "ticks": ""
            },
            "colorscale": [
             [
              0,
              "#0d0887"
             ],
             [
              0.1111111111111111,
              "#46039f"
             ],
             [
              0.2222222222222222,
              "#7201a8"
             ],
             [
              0.3333333333333333,
              "#9c179e"
             ],
             [
              0.4444444444444444,
              "#bd3786"
             ],
             [
              0.5555555555555556,
              "#d8576b"
             ],
             [
              0.6666666666666666,
              "#ed7953"
             ],
             [
              0.7777777777777778,
              "#fb9f3a"
             ],
             [
              0.8888888888888888,
              "#fdca26"
             ],
             [
              1,
              "#f0f921"
             ]
            ],
            "type": "heatmap"
           }
          ],
          "histogram": [
           {
            "marker": {
             "pattern": {
              "fillmode": "overlay",
              "size": 10,
              "solidity": 0.2
             }
            },
            "type": "histogram"
           }
          ],
          "histogram2d": [
           {
            "colorbar": {
             "outlinewidth": 0,
             "ticks": ""
            },
            "colorscale": [
             [
              0,
              "#0d0887"
             ],
             [
              0.1111111111111111,
              "#46039f"
             ],
             [
              0.2222222222222222,
              "#7201a8"
             ],
             [
              0.3333333333333333,
              "#9c179e"
             ],
             [
              0.4444444444444444,
              "#bd3786"
             ],
             [
              0.5555555555555556,
              "#d8576b"
             ],
             [
              0.6666666666666666,
              "#ed7953"
             ],
             [
              0.7777777777777778,
              "#fb9f3a"
             ],
             [
              0.8888888888888888,
              "#fdca26"
             ],
             [
              1,
              "#f0f921"
             ]
            ],
            "type": "histogram2d"
           }
          ],
          "histogram2dcontour": [
           {
            "colorbar": {
             "outlinewidth": 0,
             "ticks": ""
            },
            "colorscale": [
             [
              0,
              "#0d0887"
             ],
             [
              0.1111111111111111,
              "#46039f"
             ],
             [
              0.2222222222222222,
              "#7201a8"
             ],
             [
              0.3333333333333333,
              "#9c179e"
             ],
             [
              0.4444444444444444,
              "#bd3786"
             ],
             [
              0.5555555555555556,
              "#d8576b"
             ],
             [
              0.6666666666666666,
              "#ed7953"
             ],
             [
              0.7777777777777778,
              "#fb9f3a"
             ],
             [
              0.8888888888888888,
              "#fdca26"
             ],
             [
              1,
              "#f0f921"
             ]
            ],
            "type": "histogram2dcontour"
           }
          ],
          "mesh3d": [
           {
            "colorbar": {
             "outlinewidth": 0,
             "ticks": ""
            },
            "type": "mesh3d"
           }
          ],
          "parcoords": [
           {
            "line": {
             "colorbar": {
              "outlinewidth": 0,
              "ticks": ""
             }
            },
            "type": "parcoords"
           }
          ],
          "pie": [
           {
            "automargin": true,
            "type": "pie"
           }
          ],
          "scatter": [
           {
            "fillpattern": {
             "fillmode": "overlay",
             "size": 10,
             "solidity": 0.2
            },
            "type": "scatter"
           }
          ],
          "scatter3d": [
           {
            "line": {
             "colorbar": {
              "outlinewidth": 0,
              "ticks": ""
             }
            },
            "marker": {
             "colorbar": {
              "outlinewidth": 0,
              "ticks": ""
             }
            },
            "type": "scatter3d"
           }
          ],
          "scattercarpet": [
           {
            "marker": {
             "colorbar": {
              "outlinewidth": 0,
              "ticks": ""
             }
            },
            "type": "scattercarpet"
           }
          ],
          "scattergeo": [
           {
            "marker": {
             "colorbar": {
              "outlinewidth": 0,
              "ticks": ""
             }
            },
            "type": "scattergeo"
           }
          ],
          "scattergl": [
           {
            "marker": {
             "colorbar": {
              "outlinewidth": 0,
              "ticks": ""
             }
            },
            "type": "scattergl"
           }
          ],
          "scattermap": [
           {
            "marker": {
             "colorbar": {
              "outlinewidth": 0,
              "ticks": ""
             }
            },
            "type": "scattermap"
           }
          ],
          "scattermapbox": [
           {
            "marker": {
             "colorbar": {
              "outlinewidth": 0,
              "ticks": ""
             }
            },
            "type": "scattermapbox"
           }
          ],
          "scatterpolar": [
           {
            "marker": {
             "colorbar": {
              "outlinewidth": 0,
              "ticks": ""
             }
            },
            "type": "scatterpolar"
           }
          ],
          "scatterpolargl": [
           {
            "marker": {
             "colorbar": {
              "outlinewidth": 0,
              "ticks": ""
             }
            },
            "type": "scatterpolargl"
           }
          ],
          "scatterternary": [
           {
            "marker": {
             "colorbar": {
              "outlinewidth": 0,
              "ticks": ""
             }
            },
            "type": "scatterternary"
           }
          ],
          "surface": [
           {
            "colorbar": {
             "outlinewidth": 0,
             "ticks": ""
            },
            "colorscale": [
             [
              0,
              "#0d0887"
             ],
             [
              0.1111111111111111,
              "#46039f"
             ],
             [
              0.2222222222222222,
              "#7201a8"
             ],
             [
              0.3333333333333333,
              "#9c179e"
             ],
             [
              0.4444444444444444,
              "#bd3786"
             ],
             [
              0.5555555555555556,
              "#d8576b"
             ],
             [
              0.6666666666666666,
              "#ed7953"
             ],
             [
              0.7777777777777778,
              "#fb9f3a"
             ],
             [
              0.8888888888888888,
              "#fdca26"
             ],
             [
              1,
              "#f0f921"
             ]
            ],
            "type": "surface"
           }
          ],
          "table": [
           {
            "cells": {
             "fill": {
              "color": "#EBF0F8"
             },
             "line": {
              "color": "white"
             }
            },
            "header": {
             "fill": {
              "color": "#C8D4E3"
             },
             "line": {
              "color": "white"
             }
            },
            "type": "table"
           }
          ]
         },
         "layout": {
          "annotationdefaults": {
           "arrowcolor": "#2a3f5f",
           "arrowhead": 0,
           "arrowwidth": 1
          },
          "autotypenumbers": "strict",
          "coloraxis": {
           "colorbar": {
            "outlinewidth": 0,
            "ticks": ""
           }
          },
          "colorscale": {
           "diverging": [
            [
             0,
             "#8e0152"
            ],
            [
             0.1,
             "#c51b7d"
            ],
            [
             0.2,
             "#de77ae"
            ],
            [
             0.3,
             "#f1b6da"
            ],
            [
             0.4,
             "#fde0ef"
            ],
            [
             0.5,
             "#f7f7f7"
            ],
            [
             0.6,
             "#e6f5d0"
            ],
            [
             0.7,
             "#b8e186"
            ],
            [
             0.8,
             "#7fbc41"
            ],
            [
             0.9,
             "#4d9221"
            ],
            [
             1,
             "#276419"
            ]
           ],
           "sequential": [
            [
             0,
             "#0d0887"
            ],
            [
             0.1111111111111111,
             "#46039f"
            ],
            [
             0.2222222222222222,
             "#7201a8"
            ],
            [
             0.3333333333333333,
             "#9c179e"
            ],
            [
             0.4444444444444444,
             "#bd3786"
            ],
            [
             0.5555555555555556,
             "#d8576b"
            ],
            [
             0.6666666666666666,
             "#ed7953"
            ],
            [
             0.7777777777777778,
             "#fb9f3a"
            ],
            [
             0.8888888888888888,
             "#fdca26"
            ],
            [
             1,
             "#f0f921"
            ]
           ],
           "sequentialminus": [
            [
             0,
             "#0d0887"
            ],
            [
             0.1111111111111111,
             "#46039f"
            ],
            [
             0.2222222222222222,
             "#7201a8"
            ],
            [
             0.3333333333333333,
             "#9c179e"
            ],
            [
             0.4444444444444444,
             "#bd3786"
            ],
            [
             0.5555555555555556,
             "#d8576b"
            ],
            [
             0.6666666666666666,
             "#ed7953"
            ],
            [
             0.7777777777777778,
             "#fb9f3a"
            ],
            [
             0.8888888888888888,
             "#fdca26"
            ],
            [
             1,
             "#f0f921"
            ]
           ]
          },
          "colorway": [
           "#636efa",
           "#EF553B",
           "#00cc96",
           "#ab63fa",
           "#FFA15A",
           "#19d3f3",
           "#FF6692",
           "#B6E880",
           "#FF97FF",
           "#FECB52"
          ],
          "font": {
           "color": "#2a3f5f"
          },
          "geo": {
           "bgcolor": "white",
           "lakecolor": "white",
           "landcolor": "#E5ECF6",
           "showlakes": true,
           "showland": true,
           "subunitcolor": "white"
          },
          "hoverlabel": {
           "align": "left"
          },
          "hovermode": "closest",
          "mapbox": {
           "style": "light"
          },
          "paper_bgcolor": "white",
          "plot_bgcolor": "#E5ECF6",
          "polar": {
           "angularaxis": {
            "gridcolor": "white",
            "linecolor": "white",
            "ticks": ""
           },
           "bgcolor": "#E5ECF6",
           "radialaxis": {
            "gridcolor": "white",
            "linecolor": "white",
            "ticks": ""
           }
          },
          "scene": {
           "xaxis": {
            "backgroundcolor": "#E5ECF6",
            "gridcolor": "white",
            "gridwidth": 2,
            "linecolor": "white",
            "showbackground": true,
            "ticks": "",
            "zerolinecolor": "white"
           },
           "yaxis": {
            "backgroundcolor": "#E5ECF6",
            "gridcolor": "white",
            "gridwidth": 2,
            "linecolor": "white",
            "showbackground": true,
            "ticks": "",
            "zerolinecolor": "white"
           },
           "zaxis": {
            "backgroundcolor": "#E5ECF6",
            "gridcolor": "white",
            "gridwidth": 2,
            "linecolor": "white",
            "showbackground": true,
            "ticks": "",
            "zerolinecolor": "white"
           }
          },
          "shapedefaults": {
           "line": {
            "color": "#2a3f5f"
           }
          },
          "ternary": {
           "aaxis": {
            "gridcolor": "white",
            "linecolor": "white",
            "ticks": ""
           },
           "baxis": {
            "gridcolor": "white",
            "linecolor": "white",
            "ticks": ""
           },
           "bgcolor": "#E5ECF6",
           "caxis": {
            "gridcolor": "white",
            "linecolor": "white",
            "ticks": ""
           }
          },
          "title": {
           "x": 0.05
          },
          "xaxis": {
           "automargin": true,
           "gridcolor": "white",
           "linecolor": "white",
           "ticks": "",
           "title": {
            "standoff": 15
           },
           "zerolinecolor": "white",
           "zerolinewidth": 2
          },
          "yaxis": {
           "automargin": true,
           "gridcolor": "white",
           "linecolor": "white",
           "ticks": "",
           "title": {
            "standoff": 15
           },
           "zerolinecolor": "white",
           "zerolinewidth": 2
          }
         }
        },
        "xaxis": {
         "anchor": "y",
         "domain": [
          0,
          1
         ],
         "title": {
          "text": "health_risk_assesment"
         }
        },
        "yaxis": {
         "anchor": "x",
         "domain": [
          0,
          1
         ],
         "title": {
          "text": "member_age"
         }
        }
       }
      }
     },
     "metadata": {},
     "output_type": "display_data"
    }
   ],
   "source": [
    "# lets check member age too \n",
    "data_outcome_compare[\"member_age\"].isna().value_counts()\n",
    "# no missing values\n",
    "data_outcome_compare_count = data_outcome_compare.groupby([\"member_age\", \"health_risk_assesment\", \"outcome\"]).member_id.count().reset_index()\n",
    "fig = px.scatter(x=\"health_risk_assesment\", y=\"member_age\", size=\"member_id\",  data_frame=data_outcome_compare_count, color=\"outcome\")\n",
    "age_risk_corr = data_outcome_compare[[\"health_risk_assesment\", \"member_age\"]].corr().iloc[0,1]\n",
    "fig.add_annotation(\n",
    "    xref=\"paper\", yref=\"paper\", x=0.05, y=0.95,\n",
    "    text=f\"Correlation: {age_risk_corr:.2f}\",\n",
    "    showarrow=False,\n",
    "    font=dict(size=14, color=\"black\"),\n",
    "    bgcolor=\"white\"\n",
    ")\n",
    "fig.show()\n",
    "# doesnt appear to be a strong relationship between age and outcome, but we can see that the health risk assessment at the extremes relates to age"
   ]
  },
  {
   "cell_type": "code",
   "execution_count": 589,
   "id": "8cf6a971",
   "metadata": {},
   "outputs": [
    {
     "data": {
      "application/vnd.plotly.v1+json": {
       "config": {
        "plotlyServerURL": "https://plot.ly"
       },
       "data": [
        {
         "alignmentgroup": "True",
         "hovertemplate": "outcome=pass<br>member_sex=F<br>health_risk_assesment=%{x}<br>count=%{y}<extra></extra>",
         "legendgroup": "pass",
         "marker": {
          "color": "#636efa",
          "pattern": {
           "shape": ""
          }
         },
         "name": "pass",
         "offsetgroup": "pass",
         "orientation": "v",
         "showlegend": true,
         "textposition": "auto",
         "type": "bar",
         "x": {
          "bdata": "AgMBBAYFBwgJ",
          "dtype": "i1"
         },
         "xaxis": "x",
         "y": {
          "bdata": "AgG/AIUAgwBfAFsASAAqAA0A",
          "dtype": "i2"
         },
         "yaxis": "y"
        },
        {
         "alignmentgroup": "True",
         "hovertemplate": "outcome=pass<br>member_sex=M<br>health_risk_assesment=%{x}<br>count=%{y}<extra></extra>",
         "legendgroup": "pass",
         "marker": {
          "color": "#636efa",
          "pattern": {
           "shape": ""
          }
         },
         "name": "pass",
         "offsetgroup": "pass",
         "orientation": "v",
         "showlegend": false,
         "textposition": "auto",
         "type": "bar",
         "x": {
          "bdata": "AwQCBQYHCAkK",
          "dtype": "i1"
         },
         "xaxis": "x2",
         "y": {
          "bdata": "pwCjAH8AbQBOAEAAMgAsAAYA",
          "dtype": "i2"
         },
         "yaxis": "y2"
        },
        {
         "alignmentgroup": "True",
         "hovertemplate": "outcome=failure<br>member_sex=F<br>health_risk_assesment=%{x}<br>count=%{y}<extra></extra>",
         "legendgroup": "failure",
         "marker": {
          "color": "#EF553B",
          "pattern": {
           "shape": ""
          }
         },
         "name": "failure",
         "offsetgroup": "failure",
         "orientation": "v",
         "showlegend": true,
         "textposition": "auto",
         "type": "bar",
         "x": {
          "bdata": "BgcEBQgDCQI=",
          "dtype": "i1"
         },
         "xaxis": "x",
         "y": {
          "bdata": "zgDJALQAqACRAIMAMgAfAA==",
          "dtype": "i2"
         },
         "yaxis": "y"
        },
        {
         "alignmentgroup": "True",
         "hovertemplate": "outcome=failure<br>member_sex=M<br>health_risk_assesment=%{x}<br>count=%{y}<extra></extra>",
         "legendgroup": "failure",
         "marker": {
          "color": "#EF553B",
          "pattern": {
           "shape": ""
          }
         },
         "name": "failure",
         "offsetgroup": "failure",
         "orientation": "v",
         "showlegend": false,
         "textposition": "auto",
         "type": "bar",
         "x": {
          "bdata": "BwUJCAQGAwoC",
          "dtype": "i1"
         },
         "xaxis": "x2",
         "y": {
          "bdata": "yADEAMIAwACwAKwAcQAsAA4A",
          "dtype": "i2"
         },
         "yaxis": "y2"
        }
       ],
       "layout": {
        "annotations": [
         {
          "font": {},
          "showarrow": false,
          "text": "member_sex=F",
          "x": 0.245,
          "xanchor": "center",
          "xref": "paper",
          "y": 1,
          "yanchor": "bottom",
          "yref": "paper"
         },
         {
          "font": {},
          "showarrow": false,
          "text": "member_sex=M",
          "x": 0.755,
          "xanchor": "center",
          "xref": "paper",
          "y": 1,
          "yanchor": "bottom",
          "yref": "paper"
         }
        ],
        "barmode": "group",
        "legend": {
         "title": {
          "text": "outcome"
         },
         "tracegroupgap": 0
        },
        "margin": {
         "t": 60
        },
        "template": {
         "data": {
          "bar": [
           {
            "error_x": {
             "color": "#2a3f5f"
            },
            "error_y": {
             "color": "#2a3f5f"
            },
            "marker": {
             "line": {
              "color": "#E5ECF6",
              "width": 0.5
             },
             "pattern": {
              "fillmode": "overlay",
              "size": 10,
              "solidity": 0.2
             }
            },
            "type": "bar"
           }
          ],
          "barpolar": [
           {
            "marker": {
             "line": {
              "color": "#E5ECF6",
              "width": 0.5
             },
             "pattern": {
              "fillmode": "overlay",
              "size": 10,
              "solidity": 0.2
             }
            },
            "type": "barpolar"
           }
          ],
          "carpet": [
           {
            "aaxis": {
             "endlinecolor": "#2a3f5f",
             "gridcolor": "white",
             "linecolor": "white",
             "minorgridcolor": "white",
             "startlinecolor": "#2a3f5f"
            },
            "baxis": {
             "endlinecolor": "#2a3f5f",
             "gridcolor": "white",
             "linecolor": "white",
             "minorgridcolor": "white",
             "startlinecolor": "#2a3f5f"
            },
            "type": "carpet"
           }
          ],
          "choropleth": [
           {
            "colorbar": {
             "outlinewidth": 0,
             "ticks": ""
            },
            "type": "choropleth"
           }
          ],
          "contour": [
           {
            "colorbar": {
             "outlinewidth": 0,
             "ticks": ""
            },
            "colorscale": [
             [
              0,
              "#0d0887"
             ],
             [
              0.1111111111111111,
              "#46039f"
             ],
             [
              0.2222222222222222,
              "#7201a8"
             ],
             [
              0.3333333333333333,
              "#9c179e"
             ],
             [
              0.4444444444444444,
              "#bd3786"
             ],
             [
              0.5555555555555556,
              "#d8576b"
             ],
             [
              0.6666666666666666,
              "#ed7953"
             ],
             [
              0.7777777777777778,
              "#fb9f3a"
             ],
             [
              0.8888888888888888,
              "#fdca26"
             ],
             [
              1,
              "#f0f921"
             ]
            ],
            "type": "contour"
           }
          ],
          "contourcarpet": [
           {
            "colorbar": {
             "outlinewidth": 0,
             "ticks": ""
            },
            "type": "contourcarpet"
           }
          ],
          "heatmap": [
           {
            "colorbar": {
             "outlinewidth": 0,
             "ticks": ""
            },
            "colorscale": [
             [
              0,
              "#0d0887"
             ],
             [
              0.1111111111111111,
              "#46039f"
             ],
             [
              0.2222222222222222,
              "#7201a8"
             ],
             [
              0.3333333333333333,
              "#9c179e"
             ],
             [
              0.4444444444444444,
              "#bd3786"
             ],
             [
              0.5555555555555556,
              "#d8576b"
             ],
             [
              0.6666666666666666,
              "#ed7953"
             ],
             [
              0.7777777777777778,
              "#fb9f3a"
             ],
             [
              0.8888888888888888,
              "#fdca26"
             ],
             [
              1,
              "#f0f921"
             ]
            ],
            "type": "heatmap"
           }
          ],
          "histogram": [
           {
            "marker": {
             "pattern": {
              "fillmode": "overlay",
              "size": 10,
              "solidity": 0.2
             }
            },
            "type": "histogram"
           }
          ],
          "histogram2d": [
           {
            "colorbar": {
             "outlinewidth": 0,
             "ticks": ""
            },
            "colorscale": [
             [
              0,
              "#0d0887"
             ],
             [
              0.1111111111111111,
              "#46039f"
             ],
             [
              0.2222222222222222,
              "#7201a8"
             ],
             [
              0.3333333333333333,
              "#9c179e"
             ],
             [
              0.4444444444444444,
              "#bd3786"
             ],
             [
              0.5555555555555556,
              "#d8576b"
             ],
             [
              0.6666666666666666,
              "#ed7953"
             ],
             [
              0.7777777777777778,
              "#fb9f3a"
             ],
             [
              0.8888888888888888,
              "#fdca26"
             ],
             [
              1,
              "#f0f921"
             ]
            ],
            "type": "histogram2d"
           }
          ],
          "histogram2dcontour": [
           {
            "colorbar": {
             "outlinewidth": 0,
             "ticks": ""
            },
            "colorscale": [
             [
              0,
              "#0d0887"
             ],
             [
              0.1111111111111111,
              "#46039f"
             ],
             [
              0.2222222222222222,
              "#7201a8"
             ],
             [
              0.3333333333333333,
              "#9c179e"
             ],
             [
              0.4444444444444444,
              "#bd3786"
             ],
             [
              0.5555555555555556,
              "#d8576b"
             ],
             [
              0.6666666666666666,
              "#ed7953"
             ],
             [
              0.7777777777777778,
              "#fb9f3a"
             ],
             [
              0.8888888888888888,
              "#fdca26"
             ],
             [
              1,
              "#f0f921"
             ]
            ],
            "type": "histogram2dcontour"
           }
          ],
          "mesh3d": [
           {
            "colorbar": {
             "outlinewidth": 0,
             "ticks": ""
            },
            "type": "mesh3d"
           }
          ],
          "parcoords": [
           {
            "line": {
             "colorbar": {
              "outlinewidth": 0,
              "ticks": ""
             }
            },
            "type": "parcoords"
           }
          ],
          "pie": [
           {
            "automargin": true,
            "type": "pie"
           }
          ],
          "scatter": [
           {
            "fillpattern": {
             "fillmode": "overlay",
             "size": 10,
             "solidity": 0.2
            },
            "type": "scatter"
           }
          ],
          "scatter3d": [
           {
            "line": {
             "colorbar": {
              "outlinewidth": 0,
              "ticks": ""
             }
            },
            "marker": {
             "colorbar": {
              "outlinewidth": 0,
              "ticks": ""
             }
            },
            "type": "scatter3d"
           }
          ],
          "scattercarpet": [
           {
            "marker": {
             "colorbar": {
              "outlinewidth": 0,
              "ticks": ""
             }
            },
            "type": "scattercarpet"
           }
          ],
          "scattergeo": [
           {
            "marker": {
             "colorbar": {
              "outlinewidth": 0,
              "ticks": ""
             }
            },
            "type": "scattergeo"
           }
          ],
          "scattergl": [
           {
            "marker": {
             "colorbar": {
              "outlinewidth": 0,
              "ticks": ""
             }
            },
            "type": "scattergl"
           }
          ],
          "scattermap": [
           {
            "marker": {
             "colorbar": {
              "outlinewidth": 0,
              "ticks": ""
             }
            },
            "type": "scattermap"
           }
          ],
          "scattermapbox": [
           {
            "marker": {
             "colorbar": {
              "outlinewidth": 0,
              "ticks": ""
             }
            },
            "type": "scattermapbox"
           }
          ],
          "scatterpolar": [
           {
            "marker": {
             "colorbar": {
              "outlinewidth": 0,
              "ticks": ""
             }
            },
            "type": "scatterpolar"
           }
          ],
          "scatterpolargl": [
           {
            "marker": {
             "colorbar": {
              "outlinewidth": 0,
              "ticks": ""
             }
            },
            "type": "scatterpolargl"
           }
          ],
          "scatterternary": [
           {
            "marker": {
             "colorbar": {
              "outlinewidth": 0,
              "ticks": ""
             }
            },
            "type": "scatterternary"
           }
          ],
          "surface": [
           {
            "colorbar": {
             "outlinewidth": 0,
             "ticks": ""
            },
            "colorscale": [
             [
              0,
              "#0d0887"
             ],
             [
              0.1111111111111111,
              "#46039f"
             ],
             [
              0.2222222222222222,
              "#7201a8"
             ],
             [
              0.3333333333333333,
              "#9c179e"
             ],
             [
              0.4444444444444444,
              "#bd3786"
             ],
             [
              0.5555555555555556,
              "#d8576b"
             ],
             [
              0.6666666666666666,
              "#ed7953"
             ],
             [
              0.7777777777777778,
              "#fb9f3a"
             ],
             [
              0.8888888888888888,
              "#fdca26"
             ],
             [
              1,
              "#f0f921"
             ]
            ],
            "type": "surface"
           }
          ],
          "table": [
           {
            "cells": {
             "fill": {
              "color": "#EBF0F8"
             },
             "line": {
              "color": "white"
             }
            },
            "header": {
             "fill": {
              "color": "#C8D4E3"
             },
             "line": {
              "color": "white"
             }
            },
            "type": "table"
           }
          ]
         },
         "layout": {
          "annotationdefaults": {
           "arrowcolor": "#2a3f5f",
           "arrowhead": 0,
           "arrowwidth": 1
          },
          "autotypenumbers": "strict",
          "coloraxis": {
           "colorbar": {
            "outlinewidth": 0,
            "ticks": ""
           }
          },
          "colorscale": {
           "diverging": [
            [
             0,
             "#8e0152"
            ],
            [
             0.1,
             "#c51b7d"
            ],
            [
             0.2,
             "#de77ae"
            ],
            [
             0.3,
             "#f1b6da"
            ],
            [
             0.4,
             "#fde0ef"
            ],
            [
             0.5,
             "#f7f7f7"
            ],
            [
             0.6,
             "#e6f5d0"
            ],
            [
             0.7,
             "#b8e186"
            ],
            [
             0.8,
             "#7fbc41"
            ],
            [
             0.9,
             "#4d9221"
            ],
            [
             1,
             "#276419"
            ]
           ],
           "sequential": [
            [
             0,
             "#0d0887"
            ],
            [
             0.1111111111111111,
             "#46039f"
            ],
            [
             0.2222222222222222,
             "#7201a8"
            ],
            [
             0.3333333333333333,
             "#9c179e"
            ],
            [
             0.4444444444444444,
             "#bd3786"
            ],
            [
             0.5555555555555556,
             "#d8576b"
            ],
            [
             0.6666666666666666,
             "#ed7953"
            ],
            [
             0.7777777777777778,
             "#fb9f3a"
            ],
            [
             0.8888888888888888,
             "#fdca26"
            ],
            [
             1,
             "#f0f921"
            ]
           ],
           "sequentialminus": [
            [
             0,
             "#0d0887"
            ],
            [
             0.1111111111111111,
             "#46039f"
            ],
            [
             0.2222222222222222,
             "#7201a8"
            ],
            [
             0.3333333333333333,
             "#9c179e"
            ],
            [
             0.4444444444444444,
             "#bd3786"
            ],
            [
             0.5555555555555556,
             "#d8576b"
            ],
            [
             0.6666666666666666,
             "#ed7953"
            ],
            [
             0.7777777777777778,
             "#fb9f3a"
            ],
            [
             0.8888888888888888,
             "#fdca26"
            ],
            [
             1,
             "#f0f921"
            ]
           ]
          },
          "colorway": [
           "#636efa",
           "#EF553B",
           "#00cc96",
           "#ab63fa",
           "#FFA15A",
           "#19d3f3",
           "#FF6692",
           "#B6E880",
           "#FF97FF",
           "#FECB52"
          ],
          "font": {
           "color": "#2a3f5f"
          },
          "geo": {
           "bgcolor": "white",
           "lakecolor": "white",
           "landcolor": "#E5ECF6",
           "showlakes": true,
           "showland": true,
           "subunitcolor": "white"
          },
          "hoverlabel": {
           "align": "left"
          },
          "hovermode": "closest",
          "mapbox": {
           "style": "light"
          },
          "paper_bgcolor": "white",
          "plot_bgcolor": "#E5ECF6",
          "polar": {
           "angularaxis": {
            "gridcolor": "white",
            "linecolor": "white",
            "ticks": ""
           },
           "bgcolor": "#E5ECF6",
           "radialaxis": {
            "gridcolor": "white",
            "linecolor": "white",
            "ticks": ""
           }
          },
          "scene": {
           "xaxis": {
            "backgroundcolor": "#E5ECF6",
            "gridcolor": "white",
            "gridwidth": 2,
            "linecolor": "white",
            "showbackground": true,
            "ticks": "",
            "zerolinecolor": "white"
           },
           "yaxis": {
            "backgroundcolor": "#E5ECF6",
            "gridcolor": "white",
            "gridwidth": 2,
            "linecolor": "white",
            "showbackground": true,
            "ticks": "",
            "zerolinecolor": "white"
           },
           "zaxis": {
            "backgroundcolor": "#E5ECF6",
            "gridcolor": "white",
            "gridwidth": 2,
            "linecolor": "white",
            "showbackground": true,
            "ticks": "",
            "zerolinecolor": "white"
           }
          },
          "shapedefaults": {
           "line": {
            "color": "#2a3f5f"
           }
          },
          "ternary": {
           "aaxis": {
            "gridcolor": "white",
            "linecolor": "white",
            "ticks": ""
           },
           "baxis": {
            "gridcolor": "white",
            "linecolor": "white",
            "ticks": ""
           },
           "bgcolor": "#E5ECF6",
           "caxis": {
            "gridcolor": "white",
            "linecolor": "white",
            "ticks": ""
           }
          },
          "title": {
           "x": 0.05
          },
          "xaxis": {
           "automargin": true,
           "gridcolor": "white",
           "linecolor": "white",
           "ticks": "",
           "title": {
            "standoff": 15
           },
           "zerolinecolor": "white",
           "zerolinewidth": 2
          },
          "yaxis": {
           "automargin": true,
           "gridcolor": "white",
           "linecolor": "white",
           "ticks": "",
           "title": {
            "standoff": 15
           },
           "zerolinecolor": "white",
           "zerolinewidth": 2
          }
         }
        },
        "xaxis": {
         "anchor": "y",
         "domain": [
          0,
          0.49
         ],
         "title": {
          "text": "health_risk_assesment"
         }
        },
        "xaxis2": {
         "anchor": "y2",
         "domain": [
          0.51,
          1
         ],
         "matches": "x",
         "title": {
          "text": "health_risk_assesment"
         }
        },
        "yaxis": {
         "anchor": "x",
         "domain": [
          0,
          1
         ],
         "title": {
          "text": "count"
         }
        },
        "yaxis2": {
         "anchor": "x2",
         "domain": [
          0,
          1
         ],
         "matches": "y",
         "showticklabels": false
        }
       }
      }
     },
     "metadata": {},
     "output_type": "display_data"
    }
   ],
   "source": [
    "categorical_features = [\"member_sex\", \"health_risk_assesment\"]\n",
    "cat_plot = data_outcome_compare[[\"member_sex\", \"health_risk_assesment\", \"outcome\"]].value_counts().reset_index()\n",
    "cat_plot[\"member_sex\"] = cat_plot[\"member_sex\"].replace({0:\"F\", 1:\"M\"})\n",
    "px.bar(cat_plot, x=\"health_risk_assesment\", y=\"count\", color=\"outcome\", facet_col=\"member_sex\", barmode=\"group\")\n",
    "# doesnt apprear to be strong difference between M and F"
   ]
  },
  {
   "cell_type": "code",
   "execution_count": 713,
   "id": "af7c064d",
   "metadata": {},
   "outputs": [
    {
     "name": "stderr",
     "output_type": "stream",
     "text": [
      "/var/folders/y_/kv1q88q92mz481dwnsnd3sk00000gn/T/ipykernel_52569/2615631612.py:3: UserWarning:\n",
      "\n",
      "Could not infer format, so each element will be parsed individually, falling back to `dateutil`. To ensure parsing is consistent and as-expected, please specify a format.\n",
      "\n"
     ]
    },
    {
     "data": {
      "application/vnd.plotly.v1+json": {
       "config": {
        "plotlyServerURL": "https://plot.ly"
       },
       "data": [
        {
         "hovertemplate": "outcome=failure<br>treatment_date=%{x}<br>member_id=%{y}<extra></extra>",
         "legendgroup": "failure",
         "line": {
          "color": "#636efa",
          "dash": "solid"
         },
         "marker": {
          "symbol": "circle"
         },
         "mode": "lines+markers",
         "name": "failure",
         "orientation": "v",
         "showlegend": true,
         "type": "scatter",
         "x": [
          "2015-01-01T00:00:00.000000000",
          "2015-01-02T00:00:00.000000000",
          "2015-01-03T00:00:00.000000000",
          "2015-01-04T00:00:00.000000000",
          "2015-01-05T00:00:00.000000000",
          "2015-01-06T00:00:00.000000000",
          "2015-01-07T00:00:00.000000000",
          "2015-01-08T00:00:00.000000000",
          "2015-01-09T00:00:00.000000000",
          "2015-01-10T00:00:00.000000000",
          "2015-01-11T00:00:00.000000000",
          "2015-01-12T00:00:00.000000000",
          "2015-01-13T00:00:00.000000000",
          "2015-01-14T00:00:00.000000000",
          "2015-01-15T00:00:00.000000000",
          "2015-01-16T00:00:00.000000000",
          "2015-01-17T00:00:00.000000000",
          "2015-01-18T00:00:00.000000000",
          "2015-01-19T00:00:00.000000000",
          "2015-01-20T00:00:00.000000000",
          "2015-01-21T00:00:00.000000000",
          "2015-01-22T00:00:00.000000000",
          "2015-01-23T00:00:00.000000000",
          "2015-01-24T00:00:00.000000000",
          "2015-01-25T00:00:00.000000000",
          "2015-01-26T00:00:00.000000000",
          "2015-01-27T00:00:00.000000000",
          "2015-01-28T00:00:00.000000000",
          "2015-01-29T00:00:00.000000000",
          "2015-01-30T00:00:00.000000000",
          "2015-01-31T00:00:00.000000000",
          "2015-02-01T00:00:00.000000000",
          "2015-02-02T00:00:00.000000000",
          "2015-02-03T00:00:00.000000000",
          "2015-02-04T00:00:00.000000000",
          "2015-02-05T00:00:00.000000000",
          "2015-02-06T00:00:00.000000000",
          "2015-02-07T00:00:00.000000000",
          "2015-02-08T00:00:00.000000000",
          "2015-02-09T00:00:00.000000000",
          "2015-02-10T00:00:00.000000000",
          "2015-02-11T00:00:00.000000000",
          "2015-02-12T00:00:00.000000000",
          "2015-02-13T00:00:00.000000000",
          "2015-02-14T00:00:00.000000000",
          "2015-02-15T00:00:00.000000000",
          "2015-02-16T00:00:00.000000000",
          "2015-02-17T00:00:00.000000000",
          "2015-02-18T00:00:00.000000000",
          "2015-02-19T00:00:00.000000000",
          "2015-02-20T00:00:00.000000000",
          "2015-02-21T00:00:00.000000000",
          "2015-02-22T00:00:00.000000000",
          "2015-02-23T00:00:00.000000000",
          "2015-02-24T00:00:00.000000000",
          "2015-02-25T00:00:00.000000000",
          "2015-02-26T00:00:00.000000000",
          "2015-02-27T00:00:00.000000000",
          "2015-02-28T00:00:00.000000000",
          "2015-03-01T00:00:00.000000000",
          "2015-03-02T00:00:00.000000000",
          "2015-03-03T00:00:00.000000000",
          "2015-03-04T00:00:00.000000000",
          "2015-03-05T00:00:00.000000000",
          "2015-03-06T00:00:00.000000000",
          "2015-03-07T00:00:00.000000000",
          "2015-03-08T00:00:00.000000000",
          "2015-03-09T00:00:00.000000000",
          "2015-03-10T00:00:00.000000000",
          "2015-03-11T00:00:00.000000000",
          "2015-03-12T00:00:00.000000000",
          "2015-03-13T00:00:00.000000000",
          "2015-03-14T00:00:00.000000000",
          "2015-03-15T00:00:00.000000000",
          "2015-03-16T00:00:00.000000000",
          "2015-03-17T00:00:00.000000000",
          "2015-03-18T00:00:00.000000000",
          "2015-03-19T00:00:00.000000000",
          "2015-03-20T00:00:00.000000000",
          "2015-03-21T00:00:00.000000000",
          "2015-03-22T00:00:00.000000000",
          "2015-03-23T00:00:00.000000000",
          "2015-03-24T00:00:00.000000000",
          "2015-03-25T00:00:00.000000000",
          "2015-03-26T00:00:00.000000000",
          "2015-03-27T00:00:00.000000000",
          "2015-03-28T00:00:00.000000000",
          "2015-03-29T00:00:00.000000000",
          "2015-03-30T00:00:00.000000000",
          "2015-03-31T00:00:00.000000000",
          "2015-04-01T00:00:00.000000000",
          "2015-04-02T00:00:00.000000000",
          "2015-04-03T00:00:00.000000000",
          "2015-04-04T00:00:00.000000000",
          "2015-04-05T00:00:00.000000000",
          "2015-04-06T00:00:00.000000000",
          "2015-04-07T00:00:00.000000000",
          "2015-04-08T00:00:00.000000000",
          "2015-04-09T00:00:00.000000000",
          "2015-04-10T00:00:00.000000000",
          "2015-04-11T00:00:00.000000000",
          "2015-04-12T00:00:00.000000000",
          "2015-04-13T00:00:00.000000000",
          "2015-04-14T00:00:00.000000000",
          "2015-04-15T00:00:00.000000000",
          "2015-04-16T00:00:00.000000000",
          "2015-04-17T00:00:00.000000000",
          "2015-04-18T00:00:00.000000000",
          "2015-04-19T00:00:00.000000000",
          "2015-04-20T00:00:00.000000000",
          "2015-04-21T00:00:00.000000000",
          "2015-04-22T00:00:00.000000000",
          "2015-04-23T00:00:00.000000000",
          "2015-04-24T00:00:00.000000000",
          "2015-04-25T00:00:00.000000000",
          "2015-04-26T00:00:00.000000000",
          "2015-04-27T00:00:00.000000000",
          "2015-04-28T00:00:00.000000000",
          "2015-04-29T00:00:00.000000000",
          "2015-04-30T00:00:00.000000000",
          "2015-05-01T00:00:00.000000000",
          "2015-05-02T00:00:00.000000000",
          "2015-05-03T00:00:00.000000000",
          "2015-05-04T00:00:00.000000000",
          "2015-05-05T00:00:00.000000000",
          "2015-05-06T00:00:00.000000000",
          "2015-05-07T00:00:00.000000000",
          "2015-05-08T00:00:00.000000000",
          "2015-05-09T00:00:00.000000000",
          "2015-05-10T00:00:00.000000000",
          "2015-05-11T00:00:00.000000000",
          "2015-05-12T00:00:00.000000000",
          "2015-05-13T00:00:00.000000000",
          "2015-05-14T00:00:00.000000000",
          "2015-05-15T00:00:00.000000000",
          "2015-05-16T00:00:00.000000000",
          "2015-05-17T00:00:00.000000000",
          "2015-05-18T00:00:00.000000000",
          "2015-05-19T00:00:00.000000000",
          "2015-05-20T00:00:00.000000000",
          "2015-05-21T00:00:00.000000000",
          "2015-05-22T00:00:00.000000000",
          "2015-05-23T00:00:00.000000000",
          "2015-05-24T00:00:00.000000000",
          "2015-05-25T00:00:00.000000000",
          "2015-05-26T00:00:00.000000000",
          "2015-05-27T00:00:00.000000000",
          "2015-05-28T00:00:00.000000000",
          "2015-05-29T00:00:00.000000000",
          "2015-05-30T00:00:00.000000000",
          "2015-05-31T00:00:00.000000000",
          "2015-06-01T00:00:00.000000000",
          "2015-06-02T00:00:00.000000000",
          "2015-06-03T00:00:00.000000000",
          "2015-06-04T00:00:00.000000000",
          "2015-06-05T00:00:00.000000000",
          "2015-06-06T00:00:00.000000000",
          "2015-06-07T00:00:00.000000000",
          "2015-06-08T00:00:00.000000000",
          "2015-06-09T00:00:00.000000000",
          "2015-06-10T00:00:00.000000000",
          "2015-06-11T00:00:00.000000000",
          "2015-06-12T00:00:00.000000000",
          "2015-06-13T00:00:00.000000000",
          "2015-06-14T00:00:00.000000000",
          "2015-06-15T00:00:00.000000000",
          "2015-06-16T00:00:00.000000000",
          "2015-06-17T00:00:00.000000000",
          "2015-06-18T00:00:00.000000000",
          "2015-06-19T00:00:00.000000000",
          "2015-06-20T00:00:00.000000000",
          "2015-06-21T00:00:00.000000000",
          "2015-06-22T00:00:00.000000000",
          "2015-06-23T00:00:00.000000000",
          "2015-06-24T00:00:00.000000000",
          "2015-06-25T00:00:00.000000000",
          "2015-06-26T00:00:00.000000000",
          "2015-06-27T00:00:00.000000000",
          "2015-06-28T00:00:00.000000000",
          "2015-06-29T00:00:00.000000000",
          "2015-06-30T00:00:00.000000000",
          "2015-07-01T00:00:00.000000000",
          "2015-07-02T00:00:00.000000000",
          "2015-07-03T00:00:00.000000000",
          "2015-07-04T00:00:00.000000000",
          "2015-07-05T00:00:00.000000000",
          "2015-07-06T00:00:00.000000000",
          "2015-07-07T00:00:00.000000000",
          "2015-07-08T00:00:00.000000000",
          "2015-07-09T00:00:00.000000000",
          "2015-07-10T00:00:00.000000000",
          "2015-07-11T00:00:00.000000000",
          "2015-07-12T00:00:00.000000000",
          "2015-07-13T00:00:00.000000000",
          "2015-07-14T00:00:00.000000000",
          "2015-07-15T00:00:00.000000000",
          "2015-07-16T00:00:00.000000000",
          "2015-07-17T00:00:00.000000000",
          "2015-07-18T00:00:00.000000000",
          "2015-07-19T00:00:00.000000000",
          "2015-07-20T00:00:00.000000000",
          "2015-07-21T00:00:00.000000000",
          "2015-07-22T00:00:00.000000000",
          "2015-07-23T00:00:00.000000000",
          "2015-07-24T00:00:00.000000000",
          "2015-07-25T00:00:00.000000000",
          "2015-07-26T00:00:00.000000000",
          "2015-07-27T00:00:00.000000000",
          "2015-07-28T00:00:00.000000000",
          "2015-07-29T00:00:00.000000000",
          "2015-07-30T00:00:00.000000000",
          "2015-07-31T00:00:00.000000000",
          "2015-08-01T00:00:00.000000000",
          "2015-08-02T00:00:00.000000000",
          "2015-08-03T00:00:00.000000000",
          "2015-08-04T00:00:00.000000000",
          "2015-08-05T00:00:00.000000000",
          "2015-08-06T00:00:00.000000000",
          "2015-08-07T00:00:00.000000000",
          "2015-08-08T00:00:00.000000000",
          "2015-08-09T00:00:00.000000000",
          "2015-08-10T00:00:00.000000000",
          "2015-08-11T00:00:00.000000000",
          "2015-08-12T00:00:00.000000000",
          "2015-08-13T00:00:00.000000000",
          "2015-08-14T00:00:00.000000000",
          "2015-08-15T00:00:00.000000000",
          "2015-08-16T00:00:00.000000000",
          "2015-08-17T00:00:00.000000000",
          "2015-08-18T00:00:00.000000000",
          "2015-08-19T00:00:00.000000000",
          "2015-08-20T00:00:00.000000000",
          "2015-08-21T00:00:00.000000000",
          "2015-08-22T00:00:00.000000000",
          "2015-08-23T00:00:00.000000000",
          "2015-08-24T00:00:00.000000000",
          "2015-08-25T00:00:00.000000000",
          "2015-08-26T00:00:00.000000000",
          "2015-08-27T00:00:00.000000000",
          "2015-08-28T00:00:00.000000000",
          "2015-08-29T00:00:00.000000000",
          "2015-08-30T00:00:00.000000000",
          "2015-08-31T00:00:00.000000000",
          "2015-09-01T00:00:00.000000000",
          "2015-09-02T00:00:00.000000000",
          "2015-09-03T00:00:00.000000000",
          "2015-09-04T00:00:00.000000000",
          "2015-09-05T00:00:00.000000000",
          "2015-09-06T00:00:00.000000000",
          "2015-09-07T00:00:00.000000000",
          "2015-09-08T00:00:00.000000000",
          "2015-09-09T00:00:00.000000000",
          "2015-09-10T00:00:00.000000000",
          "2015-09-11T00:00:00.000000000",
          "2015-09-12T00:00:00.000000000",
          "2015-09-13T00:00:00.000000000",
          "2015-09-14T00:00:00.000000000",
          "2015-09-15T00:00:00.000000000",
          "2015-09-16T00:00:00.000000000",
          "2015-09-17T00:00:00.000000000",
          "2015-09-18T00:00:00.000000000",
          "2015-09-19T00:00:00.000000000",
          "2015-09-20T00:00:00.000000000",
          "2015-09-21T00:00:00.000000000",
          "2015-09-22T00:00:00.000000000",
          "2015-09-23T00:00:00.000000000",
          "2015-09-24T00:00:00.000000000",
          "2015-09-25T00:00:00.000000000",
          "2015-09-26T00:00:00.000000000",
          "2015-09-27T00:00:00.000000000",
          "2015-09-28T00:00:00.000000000",
          "2015-09-29T00:00:00.000000000",
          "2015-09-30T00:00:00.000000000",
          "2015-10-01T00:00:00.000000000",
          "2015-10-02T00:00:00.000000000",
          "2015-10-03T00:00:00.000000000",
          "2015-10-04T00:00:00.000000000",
          "2015-10-05T00:00:00.000000000",
          "2015-10-06T00:00:00.000000000",
          "2015-10-07T00:00:00.000000000",
          "2015-10-08T00:00:00.000000000",
          "2015-10-09T00:00:00.000000000",
          "2015-10-10T00:00:00.000000000",
          "2015-10-11T00:00:00.000000000",
          "2015-10-12T00:00:00.000000000",
          "2015-10-13T00:00:00.000000000",
          "2015-10-14T00:00:00.000000000",
          "2015-10-15T00:00:00.000000000",
          "2015-10-16T00:00:00.000000000",
          "2015-10-17T00:00:00.000000000",
          "2015-10-18T00:00:00.000000000",
          "2015-10-19T00:00:00.000000000",
          "2015-10-20T00:00:00.000000000",
          "2015-10-21T00:00:00.000000000",
          "2015-10-22T00:00:00.000000000",
          "2015-10-23T00:00:00.000000000",
          "2015-10-24T00:00:00.000000000",
          "2015-10-25T00:00:00.000000000",
          "2015-10-26T00:00:00.000000000",
          "2015-10-27T00:00:00.000000000",
          "2015-10-28T00:00:00.000000000",
          "2015-10-29T00:00:00.000000000",
          "2015-10-30T00:00:00.000000000",
          "2015-10-31T00:00:00.000000000",
          "2015-11-01T00:00:00.000000000",
          "2015-11-02T00:00:00.000000000",
          "2015-11-03T00:00:00.000000000",
          "2015-11-04T00:00:00.000000000",
          "2015-11-05T00:00:00.000000000",
          "2015-11-06T00:00:00.000000000",
          "2015-11-07T00:00:00.000000000",
          "2015-11-08T00:00:00.000000000",
          "2015-11-09T00:00:00.000000000",
          "2015-11-10T00:00:00.000000000",
          "2015-11-11T00:00:00.000000000",
          "2015-11-12T00:00:00.000000000",
          "2015-11-13T00:00:00.000000000",
          "2015-11-14T00:00:00.000000000",
          "2015-11-15T00:00:00.000000000",
          "2015-11-16T00:00:00.000000000",
          "2015-11-17T00:00:00.000000000",
          "2015-11-18T00:00:00.000000000",
          "2015-11-19T00:00:00.000000000",
          "2015-11-20T00:00:00.000000000",
          "2015-11-21T00:00:00.000000000",
          "2015-11-22T00:00:00.000000000",
          "2015-11-23T00:00:00.000000000",
          "2015-11-24T00:00:00.000000000",
          "2015-11-25T00:00:00.000000000",
          "2015-11-26T00:00:00.000000000",
          "2015-11-27T00:00:00.000000000",
          "2015-11-28T00:00:00.000000000",
          "2015-11-29T00:00:00.000000000",
          "2015-11-30T00:00:00.000000000",
          "2015-12-01T00:00:00.000000000",
          "2015-12-02T00:00:00.000000000",
          "2015-12-03T00:00:00.000000000",
          "2015-12-04T00:00:00.000000000",
          "2015-12-05T00:00:00.000000000",
          "2015-12-06T00:00:00.000000000",
          "2015-12-07T00:00:00.000000000",
          "2015-12-08T00:00:00.000000000",
          "2015-12-09T00:00:00.000000000",
          "2015-12-10T00:00:00.000000000",
          "2015-12-11T00:00:00.000000000",
          "2015-12-12T00:00:00.000000000",
          "2015-12-13T00:00:00.000000000",
          "2015-12-14T00:00:00.000000000",
          "2015-12-15T00:00:00.000000000",
          "2015-12-16T00:00:00.000000000",
          "2015-12-17T00:00:00.000000000",
          "2015-12-18T00:00:00.000000000",
          "2015-12-19T00:00:00.000000000",
          "2015-12-20T00:00:00.000000000",
          "2015-12-21T00:00:00.000000000",
          "2015-12-22T00:00:00.000000000",
          "2015-12-23T00:00:00.000000000",
          "2015-12-24T00:00:00.000000000",
          "2015-12-25T00:00:00.000000000",
          "2015-12-26T00:00:00.000000000",
          "2015-12-27T00:00:00.000000000",
          "2015-12-28T00:00:00.000000000",
          "2015-12-29T00:00:00.000000000",
          "2015-12-30T00:00:00.000000000",
          "2015-12-31T00:00:00.000000000"
         ],
         "xaxis": "x",
         "y": {
          "bdata": "BgcGBwcFBAcFCQQHAwUEBQYICAQFBAkCCQIMBAgLCAkEBwMDCAkECQMGDAUJBwcGCgcLAwcJBAEHBQYGCAoHBwYFBQUICQUIBAMEEAUECQYDAwYJCwkJCAwGCgsHBAkLBwUFBAIHBggFBQYDCAQHCAcHCAIHBQgOBgsMCAQIBwgFCQQCBAYGCAgGBwYFBAUHBwMDCQ0IBgYGCQgHBQcEBQMHCwgHBwYGBgcEBwQICgUDCAYGBAkIAwkHCQUKBgUHBAQFBg0ICgsJCQUGCwQHBAcJAwUJBgMHBgQIBAULCgcGDAIIBwgGCAoIBwgFBAYGBwwECgUJBwYIBQgDBwcFCwcGAggJBAUHAgcBCwcJCAcGCAUGCAQIBgUIAwgGBAYFCgUIBgYDCQkFCgcKAgIHAgQGBgQJBAcHBwoFBAoEBAQICAUMCQYKBAsGAwkEBwcGBwQEBwMMBQkFBgYEBQUECgsFBgoJCA4JBAoIAwc=",
          "dtype": "i1"
         },
         "yaxis": "y"
        }
       ],
       "layout": {
        "legend": {
         "title": {
          "text": "outcome"
         },
         "tracegroupgap": 0
        },
        "margin": {
         "t": 60
        },
        "template": {
         "data": {
          "bar": [
           {
            "error_x": {
             "color": "#2a3f5f"
            },
            "error_y": {
             "color": "#2a3f5f"
            },
            "marker": {
             "line": {
              "color": "#E5ECF6",
              "width": 0.5
             },
             "pattern": {
              "fillmode": "overlay",
              "size": 10,
              "solidity": 0.2
             }
            },
            "type": "bar"
           }
          ],
          "barpolar": [
           {
            "marker": {
             "line": {
              "color": "#E5ECF6",
              "width": 0.5
             },
             "pattern": {
              "fillmode": "overlay",
              "size": 10,
              "solidity": 0.2
             }
            },
            "type": "barpolar"
           }
          ],
          "carpet": [
           {
            "aaxis": {
             "endlinecolor": "#2a3f5f",
             "gridcolor": "white",
             "linecolor": "white",
             "minorgridcolor": "white",
             "startlinecolor": "#2a3f5f"
            },
            "baxis": {
             "endlinecolor": "#2a3f5f",
             "gridcolor": "white",
             "linecolor": "white",
             "minorgridcolor": "white",
             "startlinecolor": "#2a3f5f"
            },
            "type": "carpet"
           }
          ],
          "choropleth": [
           {
            "colorbar": {
             "outlinewidth": 0,
             "ticks": ""
            },
            "type": "choropleth"
           }
          ],
          "contour": [
           {
            "colorbar": {
             "outlinewidth": 0,
             "ticks": ""
            },
            "colorscale": [
             [
              0,
              "#0d0887"
             ],
             [
              0.1111111111111111,
              "#46039f"
             ],
             [
              0.2222222222222222,
              "#7201a8"
             ],
             [
              0.3333333333333333,
              "#9c179e"
             ],
             [
              0.4444444444444444,
              "#bd3786"
             ],
             [
              0.5555555555555556,
              "#d8576b"
             ],
             [
              0.6666666666666666,
              "#ed7953"
             ],
             [
              0.7777777777777778,
              "#fb9f3a"
             ],
             [
              0.8888888888888888,
              "#fdca26"
             ],
             [
              1,
              "#f0f921"
             ]
            ],
            "type": "contour"
           }
          ],
          "contourcarpet": [
           {
            "colorbar": {
             "outlinewidth": 0,
             "ticks": ""
            },
            "type": "contourcarpet"
           }
          ],
          "heatmap": [
           {
            "colorbar": {
             "outlinewidth": 0,
             "ticks": ""
            },
            "colorscale": [
             [
              0,
              "#0d0887"
             ],
             [
              0.1111111111111111,
              "#46039f"
             ],
             [
              0.2222222222222222,
              "#7201a8"
             ],
             [
              0.3333333333333333,
              "#9c179e"
             ],
             [
              0.4444444444444444,
              "#bd3786"
             ],
             [
              0.5555555555555556,
              "#d8576b"
             ],
             [
              0.6666666666666666,
              "#ed7953"
             ],
             [
              0.7777777777777778,
              "#fb9f3a"
             ],
             [
              0.8888888888888888,
              "#fdca26"
             ],
             [
              1,
              "#f0f921"
             ]
            ],
            "type": "heatmap"
           }
          ],
          "histogram": [
           {
            "marker": {
             "pattern": {
              "fillmode": "overlay",
              "size": 10,
              "solidity": 0.2
             }
            },
            "type": "histogram"
           }
          ],
          "histogram2d": [
           {
            "colorbar": {
             "outlinewidth": 0,
             "ticks": ""
            },
            "colorscale": [
             [
              0,
              "#0d0887"
             ],
             [
              0.1111111111111111,
              "#46039f"
             ],
             [
              0.2222222222222222,
              "#7201a8"
             ],
             [
              0.3333333333333333,
              "#9c179e"
             ],
             [
              0.4444444444444444,
              "#bd3786"
             ],
             [
              0.5555555555555556,
              "#d8576b"
             ],
             [
              0.6666666666666666,
              "#ed7953"
             ],
             [
              0.7777777777777778,
              "#fb9f3a"
             ],
             [
              0.8888888888888888,
              "#fdca26"
             ],
             [
              1,
              "#f0f921"
             ]
            ],
            "type": "histogram2d"
           }
          ],
          "histogram2dcontour": [
           {
            "colorbar": {
             "outlinewidth": 0,
             "ticks": ""
            },
            "colorscale": [
             [
              0,
              "#0d0887"
             ],
             [
              0.1111111111111111,
              "#46039f"
             ],
             [
              0.2222222222222222,
              "#7201a8"
             ],
             [
              0.3333333333333333,
              "#9c179e"
             ],
             [
              0.4444444444444444,
              "#bd3786"
             ],
             [
              0.5555555555555556,
              "#d8576b"
             ],
             [
              0.6666666666666666,
              "#ed7953"
             ],
             [
              0.7777777777777778,
              "#fb9f3a"
             ],
             [
              0.8888888888888888,
              "#fdca26"
             ],
             [
              1,
              "#f0f921"
             ]
            ],
            "type": "histogram2dcontour"
           }
          ],
          "mesh3d": [
           {
            "colorbar": {
             "outlinewidth": 0,
             "ticks": ""
            },
            "type": "mesh3d"
           }
          ],
          "parcoords": [
           {
            "line": {
             "colorbar": {
              "outlinewidth": 0,
              "ticks": ""
             }
            },
            "type": "parcoords"
           }
          ],
          "pie": [
           {
            "automargin": true,
            "type": "pie"
           }
          ],
          "scatter": [
           {
            "fillpattern": {
             "fillmode": "overlay",
             "size": 10,
             "solidity": 0.2
            },
            "type": "scatter"
           }
          ],
          "scatter3d": [
           {
            "line": {
             "colorbar": {
              "outlinewidth": 0,
              "ticks": ""
             }
            },
            "marker": {
             "colorbar": {
              "outlinewidth": 0,
              "ticks": ""
             }
            },
            "type": "scatter3d"
           }
          ],
          "scattercarpet": [
           {
            "marker": {
             "colorbar": {
              "outlinewidth": 0,
              "ticks": ""
             }
            },
            "type": "scattercarpet"
           }
          ],
          "scattergeo": [
           {
            "marker": {
             "colorbar": {
              "outlinewidth": 0,
              "ticks": ""
             }
            },
            "type": "scattergeo"
           }
          ],
          "scattergl": [
           {
            "marker": {
             "colorbar": {
              "outlinewidth": 0,
              "ticks": ""
             }
            },
            "type": "scattergl"
           }
          ],
          "scattermap": [
           {
            "marker": {
             "colorbar": {
              "outlinewidth": 0,
              "ticks": ""
             }
            },
            "type": "scattermap"
           }
          ],
          "scattermapbox": [
           {
            "marker": {
             "colorbar": {
              "outlinewidth": 0,
              "ticks": ""
             }
            },
            "type": "scattermapbox"
           }
          ],
          "scatterpolar": [
           {
            "marker": {
             "colorbar": {
              "outlinewidth": 0,
              "ticks": ""
             }
            },
            "type": "scatterpolar"
           }
          ],
          "scatterpolargl": [
           {
            "marker": {
             "colorbar": {
              "outlinewidth": 0,
              "ticks": ""
             }
            },
            "type": "scatterpolargl"
           }
          ],
          "scatterternary": [
           {
            "marker": {
             "colorbar": {
              "outlinewidth": 0,
              "ticks": ""
             }
            },
            "type": "scatterternary"
           }
          ],
          "surface": [
           {
            "colorbar": {
             "outlinewidth": 0,
             "ticks": ""
            },
            "colorscale": [
             [
              0,
              "#0d0887"
             ],
             [
              0.1111111111111111,
              "#46039f"
             ],
             [
              0.2222222222222222,
              "#7201a8"
             ],
             [
              0.3333333333333333,
              "#9c179e"
             ],
             [
              0.4444444444444444,
              "#bd3786"
             ],
             [
              0.5555555555555556,
              "#d8576b"
             ],
             [
              0.6666666666666666,
              "#ed7953"
             ],
             [
              0.7777777777777778,
              "#fb9f3a"
             ],
             [
              0.8888888888888888,
              "#fdca26"
             ],
             [
              1,
              "#f0f921"
             ]
            ],
            "type": "surface"
           }
          ],
          "table": [
           {
            "cells": {
             "fill": {
              "color": "#EBF0F8"
             },
             "line": {
              "color": "white"
             }
            },
            "header": {
             "fill": {
              "color": "#C8D4E3"
             },
             "line": {
              "color": "white"
             }
            },
            "type": "table"
           }
          ]
         },
         "layout": {
          "annotationdefaults": {
           "arrowcolor": "#2a3f5f",
           "arrowhead": 0,
           "arrowwidth": 1
          },
          "autotypenumbers": "strict",
          "coloraxis": {
           "colorbar": {
            "outlinewidth": 0,
            "ticks": ""
           }
          },
          "colorscale": {
           "diverging": [
            [
             0,
             "#8e0152"
            ],
            [
             0.1,
             "#c51b7d"
            ],
            [
             0.2,
             "#de77ae"
            ],
            [
             0.3,
             "#f1b6da"
            ],
            [
             0.4,
             "#fde0ef"
            ],
            [
             0.5,
             "#f7f7f7"
            ],
            [
             0.6,
             "#e6f5d0"
            ],
            [
             0.7,
             "#b8e186"
            ],
            [
             0.8,
             "#7fbc41"
            ],
            [
             0.9,
             "#4d9221"
            ],
            [
             1,
             "#276419"
            ]
           ],
           "sequential": [
            [
             0,
             "#0d0887"
            ],
            [
             0.1111111111111111,
             "#46039f"
            ],
            [
             0.2222222222222222,
             "#7201a8"
            ],
            [
             0.3333333333333333,
             "#9c179e"
            ],
            [
             0.4444444444444444,
             "#bd3786"
            ],
            [
             0.5555555555555556,
             "#d8576b"
            ],
            [
             0.6666666666666666,
             "#ed7953"
            ],
            [
             0.7777777777777778,
             "#fb9f3a"
            ],
            [
             0.8888888888888888,
             "#fdca26"
            ],
            [
             1,
             "#f0f921"
            ]
           ],
           "sequentialminus": [
            [
             0,
             "#0d0887"
            ],
            [
             0.1111111111111111,
             "#46039f"
            ],
            [
             0.2222222222222222,
             "#7201a8"
            ],
            [
             0.3333333333333333,
             "#9c179e"
            ],
            [
             0.4444444444444444,
             "#bd3786"
            ],
            [
             0.5555555555555556,
             "#d8576b"
            ],
            [
             0.6666666666666666,
             "#ed7953"
            ],
            [
             0.7777777777777778,
             "#fb9f3a"
            ],
            [
             0.8888888888888888,
             "#fdca26"
            ],
            [
             1,
             "#f0f921"
            ]
           ]
          },
          "colorway": [
           "#636efa",
           "#EF553B",
           "#00cc96",
           "#ab63fa",
           "#FFA15A",
           "#19d3f3",
           "#FF6692",
           "#B6E880",
           "#FF97FF",
           "#FECB52"
          ],
          "font": {
           "color": "#2a3f5f"
          },
          "geo": {
           "bgcolor": "white",
           "lakecolor": "white",
           "landcolor": "#E5ECF6",
           "showlakes": true,
           "showland": true,
           "subunitcolor": "white"
          },
          "hoverlabel": {
           "align": "left"
          },
          "hovermode": "closest",
          "mapbox": {
           "style": "light"
          },
          "paper_bgcolor": "white",
          "plot_bgcolor": "#E5ECF6",
          "polar": {
           "angularaxis": {
            "gridcolor": "white",
            "linecolor": "white",
            "ticks": ""
           },
           "bgcolor": "#E5ECF6",
           "radialaxis": {
            "gridcolor": "white",
            "linecolor": "white",
            "ticks": ""
           }
          },
          "scene": {
           "xaxis": {
            "backgroundcolor": "#E5ECF6",
            "gridcolor": "white",
            "gridwidth": 2,
            "linecolor": "white",
            "showbackground": true,
            "ticks": "",
            "zerolinecolor": "white"
           },
           "yaxis": {
            "backgroundcolor": "#E5ECF6",
            "gridcolor": "white",
            "gridwidth": 2,
            "linecolor": "white",
            "showbackground": true,
            "ticks": "",
            "zerolinecolor": "white"
           },
           "zaxis": {
            "backgroundcolor": "#E5ECF6",
            "gridcolor": "white",
            "gridwidth": 2,
            "linecolor": "white",
            "showbackground": true,
            "ticks": "",
            "zerolinecolor": "white"
           }
          },
          "shapedefaults": {
           "line": {
            "color": "#2a3f5f"
           }
          },
          "ternary": {
           "aaxis": {
            "gridcolor": "white",
            "linecolor": "white",
            "ticks": ""
           },
           "baxis": {
            "gridcolor": "white",
            "linecolor": "white",
            "ticks": ""
           },
           "bgcolor": "#E5ECF6",
           "caxis": {
            "gridcolor": "white",
            "linecolor": "white",
            "ticks": ""
           }
          },
          "title": {
           "x": 0.05
          },
          "xaxis": {
           "automargin": true,
           "gridcolor": "white",
           "linecolor": "white",
           "ticks": "",
           "title": {
            "standoff": 15
           },
           "zerolinecolor": "white",
           "zerolinewidth": 2
          },
          "yaxis": {
           "automargin": true,
           "gridcolor": "white",
           "linecolor": "white",
           "ticks": "",
           "title": {
            "standoff": 15
           },
           "zerolinecolor": "white",
           "zerolinewidth": 2
          }
         }
        },
        "xaxis": {
         "anchor": "y",
         "domain": [
          0,
          1
         ],
         "title": {
          "text": "treatment_date"
         }
        },
        "yaxis": {
         "anchor": "x",
         "domain": [
          0,
          1
         ],
         "title": {
          "text": "member_id"
         }
        }
       }
      }
     },
     "metadata": {},
     "output_type": "display_data"
    }
   ],
   "source": [
    "# plot by time \n",
    "data_by_time = data.groupby([\"treatment_date\", \"outcome\"]).member_id.nunique().reset_index()\n",
    "data_by_time[\"treatment_date\"] = pd.to_datetime(data_by_time[\"treatment_date\"])\n",
    "px.line(data_by_time.sort_values(\"treatment_date\"), x=\"treatment_date\", y=\"member_id\", color=\"outcome\", markers=True)\n",
    "# doesnt appear to be a strong trend over time, but we can see that the number"
   ]
  },
  {
   "cell_type": "markdown",
   "id": "fe436910",
   "metadata": {},
   "source": [
    "#### Given that health risk assessment involves gender and age we may want to assess colinearity prior to using them in the model "
   ]
  },
  {
   "cell_type": "code",
   "execution_count": 591,
   "id": "63839081",
   "metadata": {},
   "outputs": [],
   "source": [
    "#vif\n",
    "\n",
    "def calculate_vif(df, features):\n",
    "    \"\"\"\n",
    "    Calculate Variance Inflation Factor (VIF) for a set of features.\n",
    "\n",
    "    Parameters:\n",
    "    - df: pandas DataFrame containing the data\n",
    "    - features: list of column names to assess\n",
    "\n",
    "    Returns:\n",
    "    - vif_df: DataFrame with features and their VIF scores\n",
    "    \"\"\"\n",
    "    X = df[features].copy()\n",
    "    # If categorical, get dummies\n",
    "    X = pd.get_dummies(X, drop_first=True)\n",
    "    vif_data = []\n",
    "    for i in range(X.shape[1]):\n",
    "        vif = variance_inflation_factor(X.values, i)\n",
    "        vif_data.append({\"feature\": X.columns[i], \"VIF\": vif})\n",
    "    return pd.DataFrame(vif_data) "
   ]
  },
  {
   "cell_type": "code",
   "execution_count": 723,
   "id": "aa93388d",
   "metadata": {},
   "outputs": [
    {
     "name": "stdout",
     "output_type": "stream",
     "text": [
      "                 feature       VIF\n",
      "0             member_age  6.910881\n",
      "1             member_sex  2.076714\n",
      "2  health_risk_assesment  6.981396\n",
      "moderate colinearity between member age and health risk assessment, might consider removing age from the model\n"
     ]
    },
    {
     "name": "stderr",
     "output_type": "stream",
     "text": [
      "/Library/Frameworks/Python.framework/Versions/3.13/lib/python3.13/site-packages/statsmodels/tools/tools.py:274: RuntimeWarning:\n",
      "\n",
      "divide by zero encountered in dot\n",
      "\n",
      "/Library/Frameworks/Python.framework/Versions/3.13/lib/python3.13/site-packages/statsmodels/tools/tools.py:274: RuntimeWarning:\n",
      "\n",
      "overflow encountered in dot\n",
      "\n",
      "/Library/Frameworks/Python.framework/Versions/3.13/lib/python3.13/site-packages/statsmodels/tools/tools.py:274: RuntimeWarning:\n",
      "\n",
      "invalid value encountered in dot\n",
      "\n",
      "/Library/Frameworks/Python.framework/Versions/3.13/lib/python3.13/site-packages/statsmodels/regression/linear_model.py:409: RuntimeWarning:\n",
      "\n",
      "divide by zero encountered in dot\n",
      "\n",
      "/Library/Frameworks/Python.framework/Versions/3.13/lib/python3.13/site-packages/statsmodels/regression/linear_model.py:409: RuntimeWarning:\n",
      "\n",
      "overflow encountered in dot\n",
      "\n",
      "/Library/Frameworks/Python.framework/Versions/3.13/lib/python3.13/site-packages/statsmodels/regression/linear_model.py:409: RuntimeWarning:\n",
      "\n",
      "invalid value encountered in dot\n",
      "\n",
      "/Library/Frameworks/Python.framework/Versions/3.13/lib/python3.13/site-packages/statsmodels/regression/linear_model.py:1723: RuntimeWarning:\n",
      "\n",
      "divide by zero encountered in dot\n",
      "\n",
      "/Library/Frameworks/Python.framework/Versions/3.13/lib/python3.13/site-packages/statsmodels/regression/linear_model.py:1723: RuntimeWarning:\n",
      "\n",
      "overflow encountered in dot\n",
      "\n",
      "/Library/Frameworks/Python.framework/Versions/3.13/lib/python3.13/site-packages/statsmodels/regression/linear_model.py:1723: RuntimeWarning:\n",
      "\n",
      "invalid value encountered in dot\n",
      "\n"
     ]
    },
    {
     "data": {
      "application/vnd.plotly.v1+json": {
       "config": {
        "plotlyServerURL": "https://plot.ly"
       },
       "data": [
        {
         "hovertemplate": "feature=%{x}<br>VIF=%{y}<extra></extra>",
         "legendgroup": "",
         "marker": {
          "color": "#636efa",
          "pattern": {
           "shape": ""
          }
         },
         "name": "",
         "orientation": "v",
         "showlegend": false,
         "textposition": "auto",
         "type": "bar",
         "x": [
          "member_age",
          "member_sex",
          "health_risk_assesment"
         ],
         "xaxis": "x",
         "y": {
          "bdata": "tbZP8b2kG0A1ue1sHJ0AQF/PqA7z7BtA",
          "dtype": "f8"
         },
         "yaxis": "y"
        }
       ],
       "layout": {
        "barmode": "relative",
        "legend": {
         "tracegroupgap": 0
        },
        "template": {
         "data": {
          "bar": [
           {
            "error_x": {
             "color": "#2a3f5f"
            },
            "error_y": {
             "color": "#2a3f5f"
            },
            "marker": {
             "line": {
              "color": "#E5ECF6",
              "width": 0.5
             },
             "pattern": {
              "fillmode": "overlay",
              "size": 10,
              "solidity": 0.2
             }
            },
            "type": "bar"
           }
          ],
          "barpolar": [
           {
            "marker": {
             "line": {
              "color": "#E5ECF6",
              "width": 0.5
             },
             "pattern": {
              "fillmode": "overlay",
              "size": 10,
              "solidity": 0.2
             }
            },
            "type": "barpolar"
           }
          ],
          "carpet": [
           {
            "aaxis": {
             "endlinecolor": "#2a3f5f",
             "gridcolor": "white",
             "linecolor": "white",
             "minorgridcolor": "white",
             "startlinecolor": "#2a3f5f"
            },
            "baxis": {
             "endlinecolor": "#2a3f5f",
             "gridcolor": "white",
             "linecolor": "white",
             "minorgridcolor": "white",
             "startlinecolor": "#2a3f5f"
            },
            "type": "carpet"
           }
          ],
          "choropleth": [
           {
            "colorbar": {
             "outlinewidth": 0,
             "ticks": ""
            },
            "type": "choropleth"
           }
          ],
          "contour": [
           {
            "colorbar": {
             "outlinewidth": 0,
             "ticks": ""
            },
            "colorscale": [
             [
              0,
              "#0d0887"
             ],
             [
              0.1111111111111111,
              "#46039f"
             ],
             [
              0.2222222222222222,
              "#7201a8"
             ],
             [
              0.3333333333333333,
              "#9c179e"
             ],
             [
              0.4444444444444444,
              "#bd3786"
             ],
             [
              0.5555555555555556,
              "#d8576b"
             ],
             [
              0.6666666666666666,
              "#ed7953"
             ],
             [
              0.7777777777777778,
              "#fb9f3a"
             ],
             [
              0.8888888888888888,
              "#fdca26"
             ],
             [
              1,
              "#f0f921"
             ]
            ],
            "type": "contour"
           }
          ],
          "contourcarpet": [
           {
            "colorbar": {
             "outlinewidth": 0,
             "ticks": ""
            },
            "type": "contourcarpet"
           }
          ],
          "heatmap": [
           {
            "colorbar": {
             "outlinewidth": 0,
             "ticks": ""
            },
            "colorscale": [
             [
              0,
              "#0d0887"
             ],
             [
              0.1111111111111111,
              "#46039f"
             ],
             [
              0.2222222222222222,
              "#7201a8"
             ],
             [
              0.3333333333333333,
              "#9c179e"
             ],
             [
              0.4444444444444444,
              "#bd3786"
             ],
             [
              0.5555555555555556,
              "#d8576b"
             ],
             [
              0.6666666666666666,
              "#ed7953"
             ],
             [
              0.7777777777777778,
              "#fb9f3a"
             ],
             [
              0.8888888888888888,
              "#fdca26"
             ],
             [
              1,
              "#f0f921"
             ]
            ],
            "type": "heatmap"
           }
          ],
          "histogram": [
           {
            "marker": {
             "pattern": {
              "fillmode": "overlay",
              "size": 10,
              "solidity": 0.2
             }
            },
            "type": "histogram"
           }
          ],
          "histogram2d": [
           {
            "colorbar": {
             "outlinewidth": 0,
             "ticks": ""
            },
            "colorscale": [
             [
              0,
              "#0d0887"
             ],
             [
              0.1111111111111111,
              "#46039f"
             ],
             [
              0.2222222222222222,
              "#7201a8"
             ],
             [
              0.3333333333333333,
              "#9c179e"
             ],
             [
              0.4444444444444444,
              "#bd3786"
             ],
             [
              0.5555555555555556,
              "#d8576b"
             ],
             [
              0.6666666666666666,
              "#ed7953"
             ],
             [
              0.7777777777777778,
              "#fb9f3a"
             ],
             [
              0.8888888888888888,
              "#fdca26"
             ],
             [
              1,
              "#f0f921"
             ]
            ],
            "type": "histogram2d"
           }
          ],
          "histogram2dcontour": [
           {
            "colorbar": {
             "outlinewidth": 0,
             "ticks": ""
            },
            "colorscale": [
             [
              0,
              "#0d0887"
             ],
             [
              0.1111111111111111,
              "#46039f"
             ],
             [
              0.2222222222222222,
              "#7201a8"
             ],
             [
              0.3333333333333333,
              "#9c179e"
             ],
             [
              0.4444444444444444,
              "#bd3786"
             ],
             [
              0.5555555555555556,
              "#d8576b"
             ],
             [
              0.6666666666666666,
              "#ed7953"
             ],
             [
              0.7777777777777778,
              "#fb9f3a"
             ],
             [
              0.8888888888888888,
              "#fdca26"
             ],
             [
              1,
              "#f0f921"
             ]
            ],
            "type": "histogram2dcontour"
           }
          ],
          "mesh3d": [
           {
            "colorbar": {
             "outlinewidth": 0,
             "ticks": ""
            },
            "type": "mesh3d"
           }
          ],
          "parcoords": [
           {
            "line": {
             "colorbar": {
              "outlinewidth": 0,
              "ticks": ""
             }
            },
            "type": "parcoords"
           }
          ],
          "pie": [
           {
            "automargin": true,
            "type": "pie"
           }
          ],
          "scatter": [
           {
            "fillpattern": {
             "fillmode": "overlay",
             "size": 10,
             "solidity": 0.2
            },
            "type": "scatter"
           }
          ],
          "scatter3d": [
           {
            "line": {
             "colorbar": {
              "outlinewidth": 0,
              "ticks": ""
             }
            },
            "marker": {
             "colorbar": {
              "outlinewidth": 0,
              "ticks": ""
             }
            },
            "type": "scatter3d"
           }
          ],
          "scattercarpet": [
           {
            "marker": {
             "colorbar": {
              "outlinewidth": 0,
              "ticks": ""
             }
            },
            "type": "scattercarpet"
           }
          ],
          "scattergeo": [
           {
            "marker": {
             "colorbar": {
              "outlinewidth": 0,
              "ticks": ""
             }
            },
            "type": "scattergeo"
           }
          ],
          "scattergl": [
           {
            "marker": {
             "colorbar": {
              "outlinewidth": 0,
              "ticks": ""
             }
            },
            "type": "scattergl"
           }
          ],
          "scattermap": [
           {
            "marker": {
             "colorbar": {
              "outlinewidth": 0,
              "ticks": ""
             }
            },
            "type": "scattermap"
           }
          ],
          "scattermapbox": [
           {
            "marker": {
             "colorbar": {
              "outlinewidth": 0,
              "ticks": ""
             }
            },
            "type": "scattermapbox"
           }
          ],
          "scatterpolar": [
           {
            "marker": {
             "colorbar": {
              "outlinewidth": 0,
              "ticks": ""
             }
            },
            "type": "scatterpolar"
           }
          ],
          "scatterpolargl": [
           {
            "marker": {
             "colorbar": {
              "outlinewidth": 0,
              "ticks": ""
             }
            },
            "type": "scatterpolargl"
           }
          ],
          "scatterternary": [
           {
            "marker": {
             "colorbar": {
              "outlinewidth": 0,
              "ticks": ""
             }
            },
            "type": "scatterternary"
           }
          ],
          "surface": [
           {
            "colorbar": {
             "outlinewidth": 0,
             "ticks": ""
            },
            "colorscale": [
             [
              0,
              "#0d0887"
             ],
             [
              0.1111111111111111,
              "#46039f"
             ],
             [
              0.2222222222222222,
              "#7201a8"
             ],
             [
              0.3333333333333333,
              "#9c179e"
             ],
             [
              0.4444444444444444,
              "#bd3786"
             ],
             [
              0.5555555555555556,
              "#d8576b"
             ],
             [
              0.6666666666666666,
              "#ed7953"
             ],
             [
              0.7777777777777778,
              "#fb9f3a"
             ],
             [
              0.8888888888888888,
              "#fdca26"
             ],
             [
              1,
              "#f0f921"
             ]
            ],
            "type": "surface"
           }
          ],
          "table": [
           {
            "cells": {
             "fill": {
              "color": "#EBF0F8"
             },
             "line": {
              "color": "white"
             }
            },
            "header": {
             "fill": {
              "color": "#C8D4E3"
             },
             "line": {
              "color": "white"
             }
            },
            "type": "table"
           }
          ]
         },
         "layout": {
          "annotationdefaults": {
           "arrowcolor": "#2a3f5f",
           "arrowhead": 0,
           "arrowwidth": 1
          },
          "autotypenumbers": "strict",
          "coloraxis": {
           "colorbar": {
            "outlinewidth": 0,
            "ticks": ""
           }
          },
          "colorscale": {
           "diverging": [
            [
             0,
             "#8e0152"
            ],
            [
             0.1,
             "#c51b7d"
            ],
            [
             0.2,
             "#de77ae"
            ],
            [
             0.3,
             "#f1b6da"
            ],
            [
             0.4,
             "#fde0ef"
            ],
            [
             0.5,
             "#f7f7f7"
            ],
            [
             0.6,
             "#e6f5d0"
            ],
            [
             0.7,
             "#b8e186"
            ],
            [
             0.8,
             "#7fbc41"
            ],
            [
             0.9,
             "#4d9221"
            ],
            [
             1,
             "#276419"
            ]
           ],
           "sequential": [
            [
             0,
             "#0d0887"
            ],
            [
             0.1111111111111111,
             "#46039f"
            ],
            [
             0.2222222222222222,
             "#7201a8"
            ],
            [
             0.3333333333333333,
             "#9c179e"
            ],
            [
             0.4444444444444444,
             "#bd3786"
            ],
            [
             0.5555555555555556,
             "#d8576b"
            ],
            [
             0.6666666666666666,
             "#ed7953"
            ],
            [
             0.7777777777777778,
             "#fb9f3a"
            ],
            [
             0.8888888888888888,
             "#fdca26"
            ],
            [
             1,
             "#f0f921"
            ]
           ],
           "sequentialminus": [
            [
             0,
             "#0d0887"
            ],
            [
             0.1111111111111111,
             "#46039f"
            ],
            [
             0.2222222222222222,
             "#7201a8"
            ],
            [
             0.3333333333333333,
             "#9c179e"
            ],
            [
             0.4444444444444444,
             "#bd3786"
            ],
            [
             0.5555555555555556,
             "#d8576b"
            ],
            [
             0.6666666666666666,
             "#ed7953"
            ],
            [
             0.7777777777777778,
             "#fb9f3a"
            ],
            [
             0.8888888888888888,
             "#fdca26"
            ],
            [
             1,
             "#f0f921"
            ]
           ]
          },
          "colorway": [
           "#636efa",
           "#EF553B",
           "#00cc96",
           "#ab63fa",
           "#FFA15A",
           "#19d3f3",
           "#FF6692",
           "#B6E880",
           "#FF97FF",
           "#FECB52"
          ],
          "font": {
           "color": "#2a3f5f"
          },
          "geo": {
           "bgcolor": "white",
           "lakecolor": "white",
           "landcolor": "#E5ECF6",
           "showlakes": true,
           "showland": true,
           "subunitcolor": "white"
          },
          "hoverlabel": {
           "align": "left"
          },
          "hovermode": "closest",
          "mapbox": {
           "style": "light"
          },
          "paper_bgcolor": "white",
          "plot_bgcolor": "#E5ECF6",
          "polar": {
           "angularaxis": {
            "gridcolor": "white",
            "linecolor": "white",
            "ticks": ""
           },
           "bgcolor": "#E5ECF6",
           "radialaxis": {
            "gridcolor": "white",
            "linecolor": "white",
            "ticks": ""
           }
          },
          "scene": {
           "xaxis": {
            "backgroundcolor": "#E5ECF6",
            "gridcolor": "white",
            "gridwidth": 2,
            "linecolor": "white",
            "showbackground": true,
            "ticks": "",
            "zerolinecolor": "white"
           },
           "yaxis": {
            "backgroundcolor": "#E5ECF6",
            "gridcolor": "white",
            "gridwidth": 2,
            "linecolor": "white",
            "showbackground": true,
            "ticks": "",
            "zerolinecolor": "white"
           },
           "zaxis": {
            "backgroundcolor": "#E5ECF6",
            "gridcolor": "white",
            "gridwidth": 2,
            "linecolor": "white",
            "showbackground": true,
            "ticks": "",
            "zerolinecolor": "white"
           }
          },
          "shapedefaults": {
           "line": {
            "color": "#2a3f5f"
           }
          },
          "ternary": {
           "aaxis": {
            "gridcolor": "white",
            "linecolor": "white",
            "ticks": ""
           },
           "baxis": {
            "gridcolor": "white",
            "linecolor": "white",
            "ticks": ""
           },
           "bgcolor": "#E5ECF6",
           "caxis": {
            "gridcolor": "white",
            "linecolor": "white",
            "ticks": ""
           }
          },
          "title": {
           "x": 0.05
          },
          "xaxis": {
           "automargin": true,
           "gridcolor": "white",
           "linecolor": "white",
           "ticks": "",
           "title": {
            "standoff": 15
           },
           "zerolinecolor": "white",
           "zerolinewidth": 2
          },
          "yaxis": {
           "automargin": true,
           "gridcolor": "white",
           "linecolor": "white",
           "ticks": "",
           "title": {
            "standoff": 15
           },
           "zerolinecolor": "white",
           "zerolinewidth": 2
          }
         }
        },
        "title": {
         "text": "Variance Inflation Factor (VIF) for Features"
        },
        "xaxis": {
         "anchor": "y",
         "domain": [
          0,
          1
         ],
         "title": {
          "text": "feature"
         }
        },
        "yaxis": {
         "anchor": "x",
         "domain": [
          0,
          1
         ],
         "title": {
          "text": "VIF"
         }
        }
       }
      }
     },
     "metadata": {},
     "output_type": "display_data"
    }
   ],
   "source": [
    "vif_df = calculate_vif(data_outcome_compare, features=[\"member_age\", \"member_sex\", \"health_risk_assesment\"])\n",
    "print(vif_df)\n",
    "print(\"moderate colinearity between member age and health risk assessment, might consider removing age from the model\")\n",
    "px.bar(vif_df, x=\"feature\", y=\"VIF\", title=\"Variance Inflation Factor (VIF) for Features\")"
   ]
  },
  {
   "cell_type": "code",
   "execution_count": null,
   "id": "c7f5b59c",
   "metadata": {},
   "outputs": [],
   "source": [
    "import pymc as pm\n",
    "import numpy as np\n",
    "import pandas as pd\n",
    "import arviz as az\n",
    "from sklearn.preprocessing import StandardScaler, LabelEncoder\n",
    "\n",
    "def fit_hierarchical_logistic_model(df, covariates, target_col, provider_col, standardize=True, draws=2000, tune=1000, chains=4):\n",
    "    \"\"\"\n",
    "    Fits a Bayesian hierarchical logistic regression model using PyMC.\n",
    "\n",
    "    Parameters:\n",
    "    - df: pandas DataFrame with all data\n",
    "    - covariates: list of column names to use as fixed effects\n",
    "    - target_col: name of the binary outcome column (0/1)\n",
    "    - provider_col: name of the provider/grouping column\n",
    "    - standardize: whether to standardize covariates\n",
    "    - draws, tune, chains: MCMC settings\n",
    "\n",
    "    Returns:\n",
    "    - idata: ArviZ InferenceData object\n",
    "    \"\"\"\n",
    "    df = df.copy()\n",
    "\n",
    "    # Encode provider as integer\n",
    "    provider_encoder = LabelEncoder()\n",
    "    df[\"provider_idx\"] = provider_encoder.fit_transform(df[provider_col])\n",
    "    n_providers = df[\"provider_idx\"].nunique()\n",
    "\n",
    "    # binarize the target column if not already binary\n",
    "    if df[target_col].dtype != 'int' and df[target_col].dtype != 'bool':\n",
    "        df[target_col] = df[target_col].apply(lambda x: 1 if x == 'pass' else 0)\n",
    "    \n",
    "\n",
    "    # Optionally standardize covariates\n",
    "    if standardize:\n",
    "        scaler = StandardScaler()\n",
    "        df[covariates] = scaler.fit_transform(df[covariates])\n",
    "\n",
    "    X = df[covariates].values\n",
    "    y = df[target_col].values\n",
    "    provider_idx = df[\"provider_idx\"].values\n",
    "\n",
    "    with pm.Model() as model:\n",
    "        # Hyperprior for provider random effects\n",
    "        sigma_provider = pm.HalfNormal(\"sigma_provider\", sigma=1.0)\n",
    "\n",
    "        # Random intercepts for each provider\n",
    "        provider_offset = pm.Normal(\"provider_offset\", mu=0.0, sigma=1.0, shape=n_providers)\n",
    "        provider_effect = pm.Deterministic(\"mu_provider\", provider_offset * sigma_provider)\n",
    "\n",
    "        # Intercept\n",
    "        intercept = pm.Normal(\"intercept\", mu=0.0, sigma=2.5)\n",
    "\n",
    "        # Fixed effect coefficients\n",
    "        betas = pm.Normal(\"betas\", mu=0.0, sigma=0.5, shape=X.shape[1])\n",
    "\n",
    "        # Linear model\n",
    "        mu = intercept + pm.math.dot(X, betas) + provider_effect[provider_idx]\n",
    "\n",
    "        # Likelihood (logistic)\n",
    "        theta = pm.Deterministic(\"theta\", pm.math.sigmoid(mu))\n",
    "        print(y)\n",
    "        y_obs = pm.Bernoulli(\"y_obs\", p=theta, observed=y)\n",
    "        \n",
    "        # Sampling\n",
    "        idata = pm.sample(draws=draws, tune=tune, chains=chains, target_accept=0.9, return_inferencedata=True)\n",
    "\n",
    "    return idata, provider_encoder"
   ]
  },
  {
   "cell_type": "code",
   "execution_count": 600,
   "id": "9259449c",
   "metadata": {},
   "outputs": [],
   "source": [
    "import matplotlib.pyplot as plt\n",
    "import arviz as az\n",
    "import numpy as np\n",
    "\n",
    "def plot_model_coefficients(idata, provider_encoder, covariates, hdi_prob=0.94):\n",
    "    \"\"\"\n",
    "    Plots posterior summaries of provider random effects and fixed effect coefficients.\n",
    "\n",
    "    Parameters:\n",
    "    - idata: ArviZ InferenceData object returned from PyMC sampling\n",
    "    - provider_encoder: Fitted LabelEncoder object from model fitting\n",
    "    - covariates: List of covariate names used in the model\n",
    "    - hdi_prob: Width of the highest density interval (default: 94%)\n",
    "    \"\"\"\n",
    "    posterior = idata.posterior\n",
    "\n",
    "    # ---- Provider Random Effects ----\n",
    "    provider_effects = posterior['mu_provider'].stack(draws=(\"chain\", \"draw\")).values\n",
    "    n_providers = provider_effects.shape[0]\n",
    "\n",
    "    provider_means = provider_effects.mean(axis=1)\n",
    "    provider_hdis = np.array([\n",
    "        az.hdi(provider_effects[i, :], hdi_prob=hdi_prob)\n",
    "        for i in range(n_providers)\n",
    "    ])\n",
    "\n",
    "    provider_labels = provider_encoder.inverse_transform(np.arange(n_providers))\n",
    "\n",
    "    plt.figure(figsize=(10, 6))\n",
    "    plt.errorbar(provider_means, np.arange(n_providers),\n",
    "                 xerr=[provider_means - provider_hdis[:, 0], provider_hdis[:, 1] - provider_means],\n",
    "                 fmt='o', capsize=4)\n",
    "    plt.yticks(np.arange(n_providers), provider_labels)\n",
    "    plt.axvline(0, color='gray', linestyle='--')\n",
    "    plt.title(\"Provider Random Effects (mu_provider)\")\n",
    "    plt.xlabel(\"Effect Size\")\n",
    "    plt.ylabel(\"Provider\")\n",
    "    plt.tight_layout()\n",
    "    plt.show()\n",
    "\n",
    "    # ---- Fixed Effect Coefficients ----\n",
    "    betas = posterior['betas'].stack(draws=(\"chain\", \"draw\")).values\n",
    "    n_covariates = betas.shape[0]\n",
    "\n",
    "    beta_means = betas.mean(axis=1)\n",
    "    beta_hdis = np.array([\n",
    "        az.hdi(betas[i, :], hdi_prob=hdi_prob)\n",
    "        for i in range(n_covariates)\n",
    "    ])\n",
    "\n",
    "    plt.figure(figsize=(8, 5))\n",
    "    plt.errorbar(beta_means, np.arange(n_covariates),\n",
    "                 xerr=[beta_means - beta_hdis[:, 0], beta_hdis[:, 1] - beta_means],\n",
    "                 fmt='o', capsize=4)\n",
    "    plt.yticks(np.arange(n_covariates), covariates)\n",
    "    plt.axvline(0, color='gray', linestyle='--')\n",
    "    plt.title(\"Fixed Effect Coefficients (betas)\")\n",
    "    plt.xlabel(\"Effect Size\")\n",
    "    plt.ylabel(\"Covariates\")\n",
    "    plt.tight_layout()\n",
    "    plt.show()\n"
   ]
  },
  {
   "cell_type": "code",
   "execution_count": 601,
   "id": "2d52b377",
   "metadata": {},
   "outputs": [
    {
     "name": "stderr",
     "output_type": "stream",
     "text": [
      "Initializing NUTS using jitter+adapt_diag...\n"
     ]
    },
    {
     "name": "stdout",
     "output_type": "stream",
     "text": [
      "[0 0 1 ... 0 0 0]\n"
     ]
    },
    {
     "name": "stderr",
     "output_type": "stream",
     "text": [
      "Multiprocess sampling (4 chains in 4 jobs)\n",
      "NUTS: [sigma_provider, provider_offset, intercept, betas]\n"
     ]
    },
    {
     "data": {
      "application/vnd.jupyter.widget-view+json": {
       "model_id": "26c4f99da21c416697af770a1fc3e861",
       "version_major": 2,
       "version_minor": 0
      },
      "text/plain": [
       "Output()"
      ]
     },
     "metadata": {},
     "output_type": "display_data"
    },
    {
     "data": {
      "text/html": [
       "<pre style=\"white-space:pre;overflow-x:auto;line-height:normal;font-family:Menlo,'DejaVu Sans Mono',consolas,'Courier New',monospace\"></pre>\n"
      ],
      "text/plain": []
     },
     "metadata": {},
     "output_type": "display_data"
    },
    {
     "name": "stderr",
     "output_type": "stream",
     "text": [
      "Sampling 4 chains for 1_000 tune and 2_000 draw iterations (4_000 + 8_000 draws total) took 11 seconds.\n"
     ]
    },
    {
     "data": {
      "text/html": [
       "\n",
       "            <div>\n",
       "              <div class='xr-header'>\n",
       "                <div class=\"xr-obj-type\">arviz.InferenceData</div>\n",
       "              </div>\n",
       "              <ul class=\"xr-sections group-sections\">\n",
       "              \n",
       "            <li class = \"xr-section-item\">\n",
       "                  <input id=\"idata_posterior2c68ea66-339d-4801-9e56-d4629caf5d6a\" class=\"xr-section-summary-in\" type=\"checkbox\">\n",
       "                  <label for=\"idata_posterior2c68ea66-339d-4801-9e56-d4629caf5d6a\" class = \"xr-section-summary\">posterior</label>\n",
       "                  <div class=\"xr-section-inline-details\"></div>\n",
       "                  <div class=\"xr-section-details\">\n",
       "                      <ul id=\"xr-dataset-coord-list\" class=\"xr-var-list\">\n",
       "                          <div style=\"padding-left:2rem;\"><div><svg style=\"position: absolute; width: 0; height: 0; overflow: hidden\">\n",
       "<defs>\n",
       "<symbol id=\"icon-database\" viewBox=\"0 0 32 32\">\n",
       "<path d=\"M16 0c-8.837 0-16 2.239-16 5v4c0 2.761 7.163 5 16 5s16-2.239 16-5v-4c0-2.761-7.163-5-16-5z\"></path>\n",
       "<path d=\"M16 17c-8.837 0-16-2.239-16-5v6c0 2.761 7.163 5 16 5s16-2.239 16-5v-6c0 2.761-7.163 5-16 5z\"></path>\n",
       "<path d=\"M16 26c-8.837 0-16-2.239-16-5v6c0 2.761 7.163 5 16 5s16-2.239 16-5v-6c0 2.761-7.163 5-16 5z\"></path>\n",
       "</symbol>\n",
       "<symbol id=\"icon-file-text2\" viewBox=\"0 0 32 32\">\n",
       "<path d=\"M28.681 7.159c-0.694-0.947-1.662-2.053-2.724-3.116s-2.169-2.030-3.116-2.724c-1.612-1.182-2.393-1.319-2.841-1.319h-15.5c-1.378 0-2.5 1.121-2.5 2.5v27c0 1.378 1.122 2.5 2.5 2.5h23c1.378 0 2.5-1.122 2.5-2.5v-19.5c0-0.448-0.137-1.23-1.319-2.841zM24.543 5.457c0.959 0.959 1.712 1.825 2.268 2.543h-4.811v-4.811c0.718 0.556 1.584 1.309 2.543 2.268zM28 29.5c0 0.271-0.229 0.5-0.5 0.5h-23c-0.271 0-0.5-0.229-0.5-0.5v-27c0-0.271 0.229-0.5 0.5-0.5 0 0 15.499-0 15.5 0v7c0 0.552 0.448 1 1 1h7v19.5z\"></path>\n",
       "<path d=\"M23 26h-14c-0.552 0-1-0.448-1-1s0.448-1 1-1h14c0.552 0 1 0.448 1 1s-0.448 1-1 1z\"></path>\n",
       "<path d=\"M23 22h-14c-0.552 0-1-0.448-1-1s0.448-1 1-1h14c0.552 0 1 0.448 1 1s-0.448 1-1 1z\"></path>\n",
       "<path d=\"M23 18h-14c-0.552 0-1-0.448-1-1s0.448-1 1-1h14c0.552 0 1 0.448 1 1s-0.448 1-1 1z\"></path>\n",
       "</symbol>\n",
       "</defs>\n",
       "</svg>\n",
       "<style>/* CSS stylesheet for displaying xarray objects in jupyterlab.\n",
       " *\n",
       " */\n",
       "\n",
       ":root {\n",
       "  --xr-font-color0: var(\n",
       "    --jp-content-font-color0,\n",
       "    var(--pst-color-text-base rgba(0, 0, 0, 1))\n",
       "  );\n",
       "  --xr-font-color2: var(\n",
       "    --jp-content-font-color2,\n",
       "    var(--pst-color-text-base, rgba(0, 0, 0, 0.54))\n",
       "  );\n",
       "  --xr-font-color3: var(\n",
       "    --jp-content-font-color3,\n",
       "    var(--pst-color-text-base, rgba(0, 0, 0, 0.38))\n",
       "  );\n",
       "  --xr-border-color: var(\n",
       "    --jp-border-color2,\n",
       "    hsl(from var(--pst-color-on-background, white) h s calc(l - 10))\n",
       "  );\n",
       "  --xr-disabled-color: var(\n",
       "    --jp-layout-color3,\n",
       "    hsl(from var(--pst-color-on-background, white) h s calc(l - 40))\n",
       "  );\n",
       "  --xr-background-color: var(\n",
       "    --jp-layout-color0,\n",
       "    var(--pst-color-on-background, white)\n",
       "  );\n",
       "  --xr-background-color-row-even: var(\n",
       "    --jp-layout-color1,\n",
       "    hsl(from var(--pst-color-on-background, white) h s calc(l - 5))\n",
       "  );\n",
       "  --xr-background-color-row-odd: var(\n",
       "    --jp-layout-color2,\n",
       "    hsl(from var(--pst-color-on-background, white) h s calc(l - 15))\n",
       "  );\n",
       "}\n",
       "\n",
       "html[theme=\"dark\"],\n",
       "html[data-theme=\"dark\"],\n",
       "body[data-theme=\"dark\"],\n",
       "body.vscode-dark {\n",
       "  --xr-font-color0: var(\n",
       "    --jp-content-font-color0,\n",
       "    var(--pst-color-text-base, rgba(255, 255, 255, 1))\n",
       "  );\n",
       "  --xr-font-color2: var(\n",
       "    --jp-content-font-color2,\n",
       "    var(--pst-color-text-base, rgba(255, 255, 255, 0.54))\n",
       "  );\n",
       "  --xr-font-color3: var(\n",
       "    --jp-content-font-color3,\n",
       "    var(--pst-color-text-base, rgba(255, 255, 255, 0.38))\n",
       "  );\n",
       "  --xr-border-color: var(\n",
       "    --jp-border-color2,\n",
       "    hsl(from var(--pst-color-on-background, #111111) h s calc(l + 10))\n",
       "  );\n",
       "  --xr-disabled-color: var(\n",
       "    --jp-layout-color3,\n",
       "    hsl(from var(--pst-color-on-background, #111111) h s calc(l + 40))\n",
       "  );\n",
       "  --xr-background-color: var(\n",
       "    --jp-layout-color0,\n",
       "    var(--pst-color-on-background, #111111)\n",
       "  );\n",
       "  --xr-background-color-row-even: var(\n",
       "    --jp-layout-color1,\n",
       "    hsl(from var(--pst-color-on-background, #111111) h s calc(l + 5))\n",
       "  );\n",
       "  --xr-background-color-row-odd: var(\n",
       "    --jp-layout-color2,\n",
       "    hsl(from var(--pst-color-on-background, #111111) h s calc(l + 15))\n",
       "  );\n",
       "}\n",
       "\n",
       ".xr-wrap {\n",
       "  display: block !important;\n",
       "  min-width: 300px;\n",
       "  max-width: 700px;\n",
       "}\n",
       "\n",
       ".xr-text-repr-fallback {\n",
       "  /* fallback to plain text repr when CSS is not injected (untrusted notebook) */\n",
       "  display: none;\n",
       "}\n",
       "\n",
       ".xr-header {\n",
       "  padding-top: 6px;\n",
       "  padding-bottom: 6px;\n",
       "  margin-bottom: 4px;\n",
       "  border-bottom: solid 1px var(--xr-border-color);\n",
       "}\n",
       "\n",
       ".xr-header > div,\n",
       ".xr-header > ul {\n",
       "  display: inline;\n",
       "  margin-top: 0;\n",
       "  margin-bottom: 0;\n",
       "}\n",
       "\n",
       ".xr-obj-type,\n",
       ".xr-array-name {\n",
       "  margin-left: 2px;\n",
       "  margin-right: 10px;\n",
       "}\n",
       "\n",
       ".xr-obj-type {\n",
       "  color: var(--xr-font-color2);\n",
       "}\n",
       "\n",
       ".xr-sections {\n",
       "  padding-left: 0 !important;\n",
       "  display: grid;\n",
       "  grid-template-columns: 150px auto auto 1fr 0 20px 0 20px;\n",
       "}\n",
       "\n",
       ".xr-section-item {\n",
       "  display: contents;\n",
       "}\n",
       "\n",
       ".xr-section-item input {\n",
       "  display: inline-block;\n",
       "  opacity: 0;\n",
       "  height: 0;\n",
       "}\n",
       "\n",
       ".xr-section-item input + label {\n",
       "  color: var(--xr-disabled-color);\n",
       "  border: 2px solid transparent !important;\n",
       "}\n",
       "\n",
       ".xr-section-item input:enabled + label {\n",
       "  cursor: pointer;\n",
       "  color: var(--xr-font-color2);\n",
       "}\n",
       "\n",
       ".xr-section-item input:focus + label {\n",
       "  border: 2px solid var(--xr-font-color0) !important;\n",
       "}\n",
       "\n",
       ".xr-section-item input:enabled + label:hover {\n",
       "  color: var(--xr-font-color0);\n",
       "}\n",
       "\n",
       ".xr-section-summary {\n",
       "  grid-column: 1;\n",
       "  color: var(--xr-font-color2);\n",
       "  font-weight: 500;\n",
       "}\n",
       "\n",
       ".xr-section-summary > span {\n",
       "  display: inline-block;\n",
       "  padding-left: 0.5em;\n",
       "}\n",
       "\n",
       ".xr-section-summary-in:disabled + label {\n",
       "  color: var(--xr-font-color2);\n",
       "}\n",
       "\n",
       ".xr-section-summary-in + label:before {\n",
       "  display: inline-block;\n",
       "  content: \"►\";\n",
       "  font-size: 11px;\n",
       "  width: 15px;\n",
       "  text-align: center;\n",
       "}\n",
       "\n",
       ".xr-section-summary-in:disabled + label:before {\n",
       "  color: var(--xr-disabled-color);\n",
       "}\n",
       "\n",
       ".xr-section-summary-in:checked + label:before {\n",
       "  content: \"▼\";\n",
       "}\n",
       "\n",
       ".xr-section-summary-in:checked + label > span {\n",
       "  display: none;\n",
       "}\n",
       "\n",
       ".xr-section-summary,\n",
       ".xr-section-inline-details {\n",
       "  padding-top: 4px;\n",
       "  padding-bottom: 4px;\n",
       "}\n",
       "\n",
       ".xr-section-inline-details {\n",
       "  grid-column: 2 / -1;\n",
       "}\n",
       "\n",
       ".xr-section-details {\n",
       "  display: none;\n",
       "  grid-column: 1 / -1;\n",
       "  margin-bottom: 5px;\n",
       "}\n",
       "\n",
       ".xr-section-summary-in:checked ~ .xr-section-details {\n",
       "  display: contents;\n",
       "}\n",
       "\n",
       ".xr-array-wrap {\n",
       "  grid-column: 1 / -1;\n",
       "  display: grid;\n",
       "  grid-template-columns: 20px auto;\n",
       "}\n",
       "\n",
       ".xr-array-wrap > label {\n",
       "  grid-column: 1;\n",
       "  vertical-align: top;\n",
       "}\n",
       "\n",
       ".xr-preview {\n",
       "  color: var(--xr-font-color3);\n",
       "}\n",
       "\n",
       ".xr-array-preview,\n",
       ".xr-array-data {\n",
       "  padding: 0 5px !important;\n",
       "  grid-column: 2;\n",
       "}\n",
       "\n",
       ".xr-array-data,\n",
       ".xr-array-in:checked ~ .xr-array-preview {\n",
       "  display: none;\n",
       "}\n",
       "\n",
       ".xr-array-in:checked ~ .xr-array-data,\n",
       ".xr-array-preview {\n",
       "  display: inline-block;\n",
       "}\n",
       "\n",
       ".xr-dim-list {\n",
       "  display: inline-block !important;\n",
       "  list-style: none;\n",
       "  padding: 0 !important;\n",
       "  margin: 0;\n",
       "}\n",
       "\n",
       ".xr-dim-list li {\n",
       "  display: inline-block;\n",
       "  padding: 0;\n",
       "  margin: 0;\n",
       "}\n",
       "\n",
       ".xr-dim-list:before {\n",
       "  content: \"(\";\n",
       "}\n",
       "\n",
       ".xr-dim-list:after {\n",
       "  content: \")\";\n",
       "}\n",
       "\n",
       ".xr-dim-list li:not(:last-child):after {\n",
       "  content: \",\";\n",
       "  padding-right: 5px;\n",
       "}\n",
       "\n",
       ".xr-has-index {\n",
       "  font-weight: bold;\n",
       "}\n",
       "\n",
       ".xr-var-list,\n",
       ".xr-var-item {\n",
       "  display: contents;\n",
       "}\n",
       "\n",
       ".xr-var-item > div,\n",
       ".xr-var-item label,\n",
       ".xr-var-item > .xr-var-name span {\n",
       "  background-color: var(--xr-background-color-row-even);\n",
       "  border-color: var(--xr-background-color-row-odd);\n",
       "  margin-bottom: 0;\n",
       "  padding-top: 2px;\n",
       "}\n",
       "\n",
       ".xr-var-item > .xr-var-name:hover span {\n",
       "  padding-right: 5px;\n",
       "}\n",
       "\n",
       ".xr-var-list > li:nth-child(odd) > div,\n",
       ".xr-var-list > li:nth-child(odd) > label,\n",
       ".xr-var-list > li:nth-child(odd) > .xr-var-name span {\n",
       "  background-color: var(--xr-background-color-row-odd);\n",
       "  border-color: var(--xr-background-color-row-even);\n",
       "}\n",
       "\n",
       ".xr-var-name {\n",
       "  grid-column: 1;\n",
       "}\n",
       "\n",
       ".xr-var-dims {\n",
       "  grid-column: 2;\n",
       "}\n",
       "\n",
       ".xr-var-dtype {\n",
       "  grid-column: 3;\n",
       "  text-align: right;\n",
       "  color: var(--xr-font-color2);\n",
       "}\n",
       "\n",
       ".xr-var-preview {\n",
       "  grid-column: 4;\n",
       "}\n",
       "\n",
       ".xr-index-preview {\n",
       "  grid-column: 2 / 5;\n",
       "  color: var(--xr-font-color2);\n",
       "}\n",
       "\n",
       ".xr-var-name,\n",
       ".xr-var-dims,\n",
       ".xr-var-dtype,\n",
       ".xr-preview,\n",
       ".xr-attrs dt {\n",
       "  white-space: nowrap;\n",
       "  overflow: hidden;\n",
       "  text-overflow: ellipsis;\n",
       "  padding-right: 10px;\n",
       "}\n",
       "\n",
       ".xr-var-name:hover,\n",
       ".xr-var-dims:hover,\n",
       ".xr-var-dtype:hover,\n",
       ".xr-attrs dt:hover {\n",
       "  overflow: visible;\n",
       "  width: auto;\n",
       "  z-index: 1;\n",
       "}\n",
       "\n",
       ".xr-var-attrs,\n",
       ".xr-var-data,\n",
       ".xr-index-data {\n",
       "  display: none;\n",
       "  border-top: 2px dotted var(--xr-background-color);\n",
       "  padding-bottom: 20px !important;\n",
       "  padding-top: 10px !important;\n",
       "}\n",
       "\n",
       ".xr-var-attrs-in + label,\n",
       ".xr-var-data-in + label,\n",
       ".xr-index-data-in + label {\n",
       "  padding: 0 1px;\n",
       "}\n",
       "\n",
       ".xr-var-attrs-in:checked ~ .xr-var-attrs,\n",
       ".xr-var-data-in:checked ~ .xr-var-data,\n",
       ".xr-index-data-in:checked ~ .xr-index-data {\n",
       "  display: block;\n",
       "}\n",
       "\n",
       ".xr-var-data > table {\n",
       "  float: right;\n",
       "}\n",
       "\n",
       ".xr-var-data > pre,\n",
       ".xr-index-data > pre,\n",
       ".xr-var-data > table > tbody > tr {\n",
       "  background-color: transparent !important;\n",
       "}\n",
       "\n",
       ".xr-var-name span,\n",
       ".xr-var-data,\n",
       ".xr-index-name div,\n",
       ".xr-index-data,\n",
       ".xr-attrs {\n",
       "  padding-left: 25px !important;\n",
       "}\n",
       "\n",
       ".xr-attrs,\n",
       ".xr-var-attrs,\n",
       ".xr-var-data,\n",
       ".xr-index-data {\n",
       "  grid-column: 1 / -1;\n",
       "}\n",
       "\n",
       "dl.xr-attrs {\n",
       "  padding: 0;\n",
       "  margin: 0;\n",
       "  display: grid;\n",
       "  grid-template-columns: 125px auto;\n",
       "}\n",
       "\n",
       ".xr-attrs dt,\n",
       ".xr-attrs dd {\n",
       "  padding: 0;\n",
       "  margin: 0;\n",
       "  float: left;\n",
       "  padding-right: 10px;\n",
       "  width: auto;\n",
       "}\n",
       "\n",
       ".xr-attrs dt {\n",
       "  font-weight: normal;\n",
       "  grid-column: 1;\n",
       "}\n",
       "\n",
       ".xr-attrs dt:hover span {\n",
       "  display: inline-block;\n",
       "  background: var(--xr-background-color);\n",
       "  padding-right: 10px;\n",
       "}\n",
       "\n",
       ".xr-attrs dd {\n",
       "  grid-column: 2;\n",
       "  white-space: pre-wrap;\n",
       "  word-break: break-all;\n",
       "}\n",
       "\n",
       ".xr-icon-database,\n",
       ".xr-icon-file-text2,\n",
       ".xr-no-icon {\n",
       "  display: inline-block;\n",
       "  vertical-align: middle;\n",
       "  width: 1em;\n",
       "  height: 1.5em !important;\n",
       "  stroke-width: 0;\n",
       "  stroke: currentColor;\n",
       "  fill: currentColor;\n",
       "}\n",
       "\n",
       ".xr-var-attrs-in:checked + label > .xr-icon-file-text2,\n",
       ".xr-var-data-in:checked + label > .xr-icon-database,\n",
       ".xr-index-data-in:checked + label > .xr-icon-database {\n",
       "  color: var(--xr-font-color0);\n",
       "  filter: drop-shadow(1px 1px 5px var(--xr-font-color2));\n",
       "  stroke-width: 0.8px;\n",
       "}\n",
       "</style><pre class='xr-text-repr-fallback'>&lt;xarray.Dataset&gt; Size: 284MB\n",
       "Dimensions:                (chain: 4, draw: 2000, provider_offset_dim_0: 96,\n",
       "                            betas_dim_0: 2, mu_provider_dim_0: 96,\n",
       "                            theta_dim_0: 4247)\n",
       "Coordinates:\n",
       "  * chain                  (chain) int64 32B 0 1 2 3\n",
       "  * draw                   (draw) int64 16kB 0 1 2 3 4 ... 1996 1997 1998 1999\n",
       "  * provider_offset_dim_0  (provider_offset_dim_0) int64 768B 0 1 2 ... 93 94 95\n",
       "  * betas_dim_0            (betas_dim_0) int64 16B 0 1\n",
       "  * mu_provider_dim_0      (mu_provider_dim_0) int64 768B 0 1 2 3 ... 93 94 95\n",
       "  * theta_dim_0            (theta_dim_0) int64 34kB 0 1 2 3 ... 4244 4245 4246\n",
       "Data variables:\n",
       "    provider_offset        (chain, draw, provider_offset_dim_0) float64 6MB 0...\n",
       "    intercept              (chain, draw) float64 64kB -0.3606 -0.286 ... -0.3622\n",
       "    betas                  (chain, draw, betas_dim_0) float64 128kB -0.04553 ...\n",
       "    sigma_provider         (chain, draw) float64 64kB 0.05165 0.1337 ... 0.06076\n",
       "    mu_provider            (chain, draw, mu_provider_dim_0) float64 6MB 0.006...\n",
       "    theta                  (chain, draw, theta_dim_0) float64 272MB 0.234 ......\n",
       "Attributes:\n",
       "    created_at:                 2025-08-08T17:47:58.685883+00:00\n",
       "    arviz_version:              0.22.0\n",
       "    inference_library:          pymc\n",
       "    inference_library_version:  5.25.1\n",
       "    sampling_time:              10.95399808883667\n",
       "    tuning_steps:               1000</pre><div class='xr-wrap' style='display:none'><div class='xr-header'><div class='xr-obj-type'>xarray.Dataset</div></div><ul class='xr-sections'><li class='xr-section-item'><input id='section-a9f4b562-4e81-40f6-86d1-fbfd29e31287' class='xr-section-summary-in' type='checkbox' disabled ><label for='section-a9f4b562-4e81-40f6-86d1-fbfd29e31287' class='xr-section-summary'  title='Expand/collapse section'>Dimensions:</label><div class='xr-section-inline-details'><ul class='xr-dim-list'><li><span class='xr-has-index'>chain</span>: 4</li><li><span class='xr-has-index'>draw</span>: 2000</li><li><span class='xr-has-index'>provider_offset_dim_0</span>: 96</li><li><span class='xr-has-index'>betas_dim_0</span>: 2</li><li><span class='xr-has-index'>mu_provider_dim_0</span>: 96</li><li><span class='xr-has-index'>theta_dim_0</span>: 4247</li></ul></div><div class='xr-section-details'></div></li><li class='xr-section-item'><input id='section-171270a3-dd06-4346-a6bc-8d49319fae24' class='xr-section-summary-in' type='checkbox'  checked><label for='section-171270a3-dd06-4346-a6bc-8d49319fae24' class='xr-section-summary' >Coordinates: <span>(6)</span></label><div class='xr-section-inline-details'></div><div class='xr-section-details'><ul class='xr-var-list'><li class='xr-var-item'><div class='xr-var-name'><span class='xr-has-index'>chain</span></div><div class='xr-var-dims'>(chain)</div><div class='xr-var-dtype'>int64</div><div class='xr-var-preview xr-preview'>0 1 2 3</div><input id='attrs-68bf3fc1-e7fe-4d2f-9fee-a736467ce74d' class='xr-var-attrs-in' type='checkbox' disabled><label for='attrs-68bf3fc1-e7fe-4d2f-9fee-a736467ce74d' title='Show/Hide attributes'><svg class='icon xr-icon-file-text2'><use xlink:href='#icon-file-text2'></use></svg></label><input id='data-a0831c99-820f-4e01-bc8f-1282471dcfcc' class='xr-var-data-in' type='checkbox'><label for='data-a0831c99-820f-4e01-bc8f-1282471dcfcc' title='Show/Hide data repr'><svg class='icon xr-icon-database'><use xlink:href='#icon-database'></use></svg></label><div class='xr-var-attrs'><dl class='xr-attrs'></dl></div><div class='xr-var-data'><pre>array([0, 1, 2, 3])</pre></div></li><li class='xr-var-item'><div class='xr-var-name'><span class='xr-has-index'>draw</span></div><div class='xr-var-dims'>(draw)</div><div class='xr-var-dtype'>int64</div><div class='xr-var-preview xr-preview'>0 1 2 3 4 ... 1996 1997 1998 1999</div><input id='attrs-3410fa43-e137-4d3f-b903-b037e59d7f1a' class='xr-var-attrs-in' type='checkbox' disabled><label for='attrs-3410fa43-e137-4d3f-b903-b037e59d7f1a' title='Show/Hide attributes'><svg class='icon xr-icon-file-text2'><use xlink:href='#icon-file-text2'></use></svg></label><input id='data-39171057-7efe-478a-ac9b-dda1c7b41d91' class='xr-var-data-in' type='checkbox'><label for='data-39171057-7efe-478a-ac9b-dda1c7b41d91' title='Show/Hide data repr'><svg class='icon xr-icon-database'><use xlink:href='#icon-database'></use></svg></label><div class='xr-var-attrs'><dl class='xr-attrs'></dl></div><div class='xr-var-data'><pre>array([   0,    1,    2, ..., 1997, 1998, 1999], shape=(2000,))</pre></div></li><li class='xr-var-item'><div class='xr-var-name'><span class='xr-has-index'>provider_offset_dim_0</span></div><div class='xr-var-dims'>(provider_offset_dim_0)</div><div class='xr-var-dtype'>int64</div><div class='xr-var-preview xr-preview'>0 1 2 3 4 5 6 ... 90 91 92 93 94 95</div><input id='attrs-5ab87301-d11c-407e-ae09-7afc0a1c7a60' class='xr-var-attrs-in' type='checkbox' disabled><label for='attrs-5ab87301-d11c-407e-ae09-7afc0a1c7a60' title='Show/Hide attributes'><svg class='icon xr-icon-file-text2'><use xlink:href='#icon-file-text2'></use></svg></label><input id='data-a0af403b-bb89-4d4c-b025-371e63460661' class='xr-var-data-in' type='checkbox'><label for='data-a0af403b-bb89-4d4c-b025-371e63460661' title='Show/Hide data repr'><svg class='icon xr-icon-database'><use xlink:href='#icon-database'></use></svg></label><div class='xr-var-attrs'><dl class='xr-attrs'></dl></div><div class='xr-var-data'><pre>array([ 0,  1,  2,  3,  4,  5,  6,  7,  8,  9, 10, 11, 12, 13, 14, 15, 16, 17,\n",
       "       18, 19, 20, 21, 22, 23, 24, 25, 26, 27, 28, 29, 30, 31, 32, 33, 34, 35,\n",
       "       36, 37, 38, 39, 40, 41, 42, 43, 44, 45, 46, 47, 48, 49, 50, 51, 52, 53,\n",
       "       54, 55, 56, 57, 58, 59, 60, 61, 62, 63, 64, 65, 66, 67, 68, 69, 70, 71,\n",
       "       72, 73, 74, 75, 76, 77, 78, 79, 80, 81, 82, 83, 84, 85, 86, 87, 88, 89,\n",
       "       90, 91, 92, 93, 94, 95])</pre></div></li><li class='xr-var-item'><div class='xr-var-name'><span class='xr-has-index'>betas_dim_0</span></div><div class='xr-var-dims'>(betas_dim_0)</div><div class='xr-var-dtype'>int64</div><div class='xr-var-preview xr-preview'>0 1</div><input id='attrs-b11ac12a-bbda-4818-9e78-564496285f9e' class='xr-var-attrs-in' type='checkbox' disabled><label for='attrs-b11ac12a-bbda-4818-9e78-564496285f9e' title='Show/Hide attributes'><svg class='icon xr-icon-file-text2'><use xlink:href='#icon-file-text2'></use></svg></label><input id='data-2381a532-a539-477f-9bc8-d1c72bd7ff89' class='xr-var-data-in' type='checkbox'><label for='data-2381a532-a539-477f-9bc8-d1c72bd7ff89' title='Show/Hide data repr'><svg class='icon xr-icon-database'><use xlink:href='#icon-database'></use></svg></label><div class='xr-var-attrs'><dl class='xr-attrs'></dl></div><div class='xr-var-data'><pre>array([0, 1])</pre></div></li><li class='xr-var-item'><div class='xr-var-name'><span class='xr-has-index'>mu_provider_dim_0</span></div><div class='xr-var-dims'>(mu_provider_dim_0)</div><div class='xr-var-dtype'>int64</div><div class='xr-var-preview xr-preview'>0 1 2 3 4 5 6 ... 90 91 92 93 94 95</div><input id='attrs-4fd0d358-0cb1-4278-870b-de69809516a4' class='xr-var-attrs-in' type='checkbox' disabled><label for='attrs-4fd0d358-0cb1-4278-870b-de69809516a4' title='Show/Hide attributes'><svg class='icon xr-icon-file-text2'><use xlink:href='#icon-file-text2'></use></svg></label><input id='data-af0992be-44bd-4dbe-bc40-3d230b4ee33f' class='xr-var-data-in' type='checkbox'><label for='data-af0992be-44bd-4dbe-bc40-3d230b4ee33f' title='Show/Hide data repr'><svg class='icon xr-icon-database'><use xlink:href='#icon-database'></use></svg></label><div class='xr-var-attrs'><dl class='xr-attrs'></dl></div><div class='xr-var-data'><pre>array([ 0,  1,  2,  3,  4,  5,  6,  7,  8,  9, 10, 11, 12, 13, 14, 15, 16, 17,\n",
       "       18, 19, 20, 21, 22, 23, 24, 25, 26, 27, 28, 29, 30, 31, 32, 33, 34, 35,\n",
       "       36, 37, 38, 39, 40, 41, 42, 43, 44, 45, 46, 47, 48, 49, 50, 51, 52, 53,\n",
       "       54, 55, 56, 57, 58, 59, 60, 61, 62, 63, 64, 65, 66, 67, 68, 69, 70, 71,\n",
       "       72, 73, 74, 75, 76, 77, 78, 79, 80, 81, 82, 83, 84, 85, 86, 87, 88, 89,\n",
       "       90, 91, 92, 93, 94, 95])</pre></div></li><li class='xr-var-item'><div class='xr-var-name'><span class='xr-has-index'>theta_dim_0</span></div><div class='xr-var-dims'>(theta_dim_0)</div><div class='xr-var-dtype'>int64</div><div class='xr-var-preview xr-preview'>0 1 2 3 4 ... 4243 4244 4245 4246</div><input id='attrs-a0b6a07c-7421-4ed5-9e66-cc7828ab2ce1' class='xr-var-attrs-in' type='checkbox' disabled><label for='attrs-a0b6a07c-7421-4ed5-9e66-cc7828ab2ce1' title='Show/Hide attributes'><svg class='icon xr-icon-file-text2'><use xlink:href='#icon-file-text2'></use></svg></label><input id='data-ea9ea832-7190-4e64-805b-fb541423d95c' class='xr-var-data-in' type='checkbox'><label for='data-ea9ea832-7190-4e64-805b-fb541423d95c' title='Show/Hide data repr'><svg class='icon xr-icon-database'><use xlink:href='#icon-database'></use></svg></label><div class='xr-var-attrs'><dl class='xr-attrs'></dl></div><div class='xr-var-data'><pre>array([   0,    1,    2, ..., 4244, 4245, 4246], shape=(4247,))</pre></div></li></ul></div></li><li class='xr-section-item'><input id='section-1ba7e201-eb17-4377-898e-2611eab8760d' class='xr-section-summary-in' type='checkbox'  checked><label for='section-1ba7e201-eb17-4377-898e-2611eab8760d' class='xr-section-summary' >Data variables: <span>(6)</span></label><div class='xr-section-inline-details'></div><div class='xr-section-details'><ul class='xr-var-list'><li class='xr-var-item'><div class='xr-var-name'><span>provider_offset</span></div><div class='xr-var-dims'>(chain, draw, provider_offset_dim_0)</div><div class='xr-var-dtype'>float64</div><div class='xr-var-preview xr-preview'>0.1235 -0.03067 ... -0.6035 -1.163</div><input id='attrs-efc0daa8-7ed2-4446-a37e-682bb574da2f' class='xr-var-attrs-in' type='checkbox' disabled><label for='attrs-efc0daa8-7ed2-4446-a37e-682bb574da2f' title='Show/Hide attributes'><svg class='icon xr-icon-file-text2'><use xlink:href='#icon-file-text2'></use></svg></label><input id='data-0b043936-4d2a-4fe1-8873-64b5073d2e9f' class='xr-var-data-in' type='checkbox'><label for='data-0b043936-4d2a-4fe1-8873-64b5073d2e9f' title='Show/Hide data repr'><svg class='icon xr-icon-database'><use xlink:href='#icon-database'></use></svg></label><div class='xr-var-attrs'><dl class='xr-attrs'></dl></div><div class='xr-var-data'><pre>array([[[ 1.23502916e-01, -3.06663763e-02,  2.56713131e-01, ...,\n",
       "         -2.59648832e-01,  1.74845535e+00,  2.88624588e-01],\n",
       "        [-1.34272797e-03,  1.30136816e+00, -1.08123300e+00, ...,\n",
       "          1.38692692e-01, -1.45265302e+00,  9.68881339e-02],\n",
       "        [ 1.15719750e+00,  5.67530433e-02,  7.72217213e-01, ...,\n",
       "         -1.26423665e+00, -8.30887867e-01, -2.37219439e-01],\n",
       "        ...,\n",
       "        [-3.57991005e-01, -4.49985312e-01, -6.00386929e-01, ...,\n",
       "          1.82060809e+00, -2.63839093e-01, -5.06054459e-01],\n",
       "        [ 8.06400050e-01,  7.22923589e-02,  2.48988819e-01, ...,\n",
       "         -2.48951891e+00,  2.83580392e-02,  8.41094386e-01],\n",
       "        [ 3.95745773e-01, -5.34688839e-01,  9.53187346e-01, ...,\n",
       "          1.83708104e+00, -2.27894245e-01, -3.19948008e-01]],\n",
       "\n",
       "       [[-2.07849919e+00, -3.80363623e-02,  1.38320495e+00, ...,\n",
       "         -8.66143623e-01, -6.93003003e-01,  1.26563533e+00],\n",
       "        [ 1.36396878e+00,  6.75257687e-01, -1.90741324e+00, ...,\n",
       "          1.08580622e+00,  9.21624499e-01, -1.27545903e+00],\n",
       "        [-1.12291727e+00, -2.22130237e+00,  6.90598630e-01, ...,\n",
       "          1.64090776e-01, -1.85631283e-01,  8.23991801e-01],\n",
       "...\n",
       "          2.70527644e+00,  4.53651465e-01, -4.49466024e-01],\n",
       "        [ 8.42240902e-01, -4.01872622e-01, -1.18472728e+00, ...,\n",
       "          2.41924020e+00,  8.54366567e-01,  1.61582005e+00],\n",
       "        [-1.70318191e-02, -2.19138229e+00, -2.43231603e-01, ...,\n",
       "         -4.59527433e-01, -9.35574801e-01, -1.48307027e-01]],\n",
       "\n",
       "       [[ 5.71209125e-01, -9.15422431e-01, -9.75439627e-01, ...,\n",
       "          4.32031610e-01,  1.45603831e-01, -8.06116806e-01],\n",
       "        [ 3.53814502e-01, -2.29850985e+00,  1.18195561e+00, ...,\n",
       "          2.10824092e-01,  7.75421637e-01,  7.64981386e-01],\n",
       "        [-1.24340196e-01,  2.18171523e+00, -1.34303322e+00, ...,\n",
       "         -7.93675408e-01, -8.45978362e-01, -6.04278019e-01],\n",
       "        ...,\n",
       "        [-2.46889365e-01,  8.45697069e-01,  9.83998733e-01, ...,\n",
       "          7.70204659e-01,  5.02308081e-01, -6.25022009e-01],\n",
       "        [ 3.18426164e-01, -1.00865455e+00, -1.06225233e+00, ...,\n",
       "         -1.04226181e+00, -5.75554712e-01,  7.36367136e-01],\n",
       "        [ 9.36295890e-01,  4.05582417e-02,  9.52249055e-01, ...,\n",
       "          2.61587776e-02, -6.03456365e-01, -1.16348905e+00]]],\n",
       "      shape=(4, 2000, 96))</pre></div></li><li class='xr-var-item'><div class='xr-var-name'><span>intercept</span></div><div class='xr-var-dims'>(chain, draw)</div><div class='xr-var-dtype'>float64</div><div class='xr-var-preview xr-preview'>-0.3606 -0.286 ... -0.3345 -0.3622</div><input id='attrs-106ab723-98bc-410a-8495-6da15047b09b' class='xr-var-attrs-in' type='checkbox' disabled><label for='attrs-106ab723-98bc-410a-8495-6da15047b09b' title='Show/Hide attributes'><svg class='icon xr-icon-file-text2'><use xlink:href='#icon-file-text2'></use></svg></label><input id='data-e53a3220-2a31-4e43-9a0d-05a6b6b754eb' class='xr-var-data-in' type='checkbox'><label for='data-e53a3220-2a31-4e43-9a0d-05a6b6b754eb' title='Show/Hide data repr'><svg class='icon xr-icon-database'><use xlink:href='#icon-database'></use></svg></label><div class='xr-var-attrs'><dl class='xr-attrs'></dl></div><div class='xr-var-data'><pre>array([[-0.36056442, -0.28603388, -0.40610783, ..., -0.29010234,\n",
       "        -0.35776456, -0.34648727],\n",
       "       [-0.33549875, -0.40254191, -0.38683239, ..., -0.25146165,\n",
       "        -0.27463492, -0.31510953],\n",
       "       [-0.39832105, -0.38516273, -0.31850581, ..., -0.39005627,\n",
       "        -0.36401428, -0.34963275],\n",
       "       [-0.31266783, -0.35289007, -0.34397329, ..., -0.33223032,\n",
       "        -0.33446472, -0.36218751]], shape=(4, 2000))</pre></div></li><li class='xr-var-item'><div class='xr-var-name'><span>betas</span></div><div class='xr-var-dims'>(chain, draw, betas_dim_0)</div><div class='xr-var-dtype'>float64</div><div class='xr-var-preview xr-preview'>-0.04553 -1.005 ... -0.9342</div><input id='attrs-cf8b053e-0ccc-4c61-abd3-699d45e713b4' class='xr-var-attrs-in' type='checkbox' disabled><label for='attrs-cf8b053e-0ccc-4c61-abd3-699d45e713b4' title='Show/Hide attributes'><svg class='icon xr-icon-file-text2'><use xlink:href='#icon-file-text2'></use></svg></label><input id='data-da7cffbb-9b22-42d4-8e03-70fb86e09599' class='xr-var-data-in' type='checkbox'><label for='data-da7cffbb-9b22-42d4-8e03-70fb86e09599' title='Show/Hide data repr'><svg class='icon xr-icon-database'><use xlink:href='#icon-database'></use></svg></label><div class='xr-var-attrs'><dl class='xr-attrs'></dl></div><div class='xr-var-data'><pre>array([[[-0.04553477, -1.00525653],\n",
       "        [-0.06797838, -0.98703348],\n",
       "        [-0.01692021, -1.01189596],\n",
       "        ...,\n",
       "        [-0.04776328, -0.92285852],\n",
       "        [ 0.00206522, -1.06937086],\n",
       "        [-0.07671195, -0.91273309]],\n",
       "\n",
       "       [[-0.06590817, -1.03696105],\n",
       "        [ 0.00625976, -1.00968167],\n",
       "        [-0.05768076, -0.99068588],\n",
       "        ...,\n",
       "        [-0.03659976, -0.95540687],\n",
       "        [-0.02973351, -0.97356085],\n",
       "        [-0.02299063, -1.00211509]],\n",
       "\n",
       "       [[-0.04268147, -1.07365604],\n",
       "        [-0.04921678, -1.06885951],\n",
       "        [ 0.00940598, -0.98421351],\n",
       "        ...,\n",
       "        [ 0.04515661, -1.02120619],\n",
       "        [ 0.06283379, -1.00121721],\n",
       "        [-0.01374713, -1.06297681]],\n",
       "\n",
       "       [[-0.0410373 , -1.05371272],\n",
       "        [ 0.00492215, -1.00352195],\n",
       "        [-0.06055294, -0.98295261],\n",
       "        ...,\n",
       "        [-0.01522841, -0.94631196],\n",
       "        [-0.03837717, -1.07530287],\n",
       "        [-0.00326642, -0.93419838]]], shape=(4, 2000, 2))</pre></div></li><li class='xr-var-item'><div class='xr-var-name'><span>sigma_provider</span></div><div class='xr-var-dims'>(chain, draw)</div><div class='xr-var-dtype'>float64</div><div class='xr-var-preview xr-preview'>0.05165 0.1337 ... 0.02207 0.06076</div><input id='attrs-8d43e470-a61f-4b7c-9681-3edad52e84db' class='xr-var-attrs-in' type='checkbox' disabled><label for='attrs-8d43e470-a61f-4b7c-9681-3edad52e84db' title='Show/Hide attributes'><svg class='icon xr-icon-file-text2'><use xlink:href='#icon-file-text2'></use></svg></label><input id='data-2b2dbb51-77cd-485c-9bf4-a4499852d9e2' class='xr-var-data-in' type='checkbox'><label for='data-2b2dbb51-77cd-485c-9bf4-a4499852d9e2' title='Show/Hide data repr'><svg class='icon xr-icon-database'><use xlink:href='#icon-database'></use></svg></label><div class='xr-var-attrs'><dl class='xr-attrs'></dl></div><div class='xr-var-data'><pre>array([[0.05164572, 0.13366011, 0.19477128, ..., 0.10041722, 0.15987675,\n",
       "        0.02920441],\n",
       "       [0.07766142, 0.07572851, 0.00725718, ..., 0.14625085, 0.05549918,\n",
       "        0.02820312],\n",
       "       [0.04875901, 0.04033991, 0.08438203, ..., 0.03653576, 0.02083285,\n",
       "        0.00811732],\n",
       "       [0.02755119, 0.01411906, 0.04545097, ..., 0.02639898, 0.02206569,\n",
       "        0.06075794]], shape=(4, 2000))</pre></div></li><li class='xr-var-item'><div class='xr-var-name'><span>mu_provider</span></div><div class='xr-var-dims'>(chain, draw, mu_provider_dim_0)</div><div class='xr-var-dtype'>float64</div><div class='xr-var-preview xr-preview'>0.006378 -0.001584 ... -0.07069</div><input id='attrs-b277ed47-2a86-482a-90e5-dcf0ef6db712' class='xr-var-attrs-in' type='checkbox' disabled><label for='attrs-b277ed47-2a86-482a-90e5-dcf0ef6db712' title='Show/Hide attributes'><svg class='icon xr-icon-file-text2'><use xlink:href='#icon-file-text2'></use></svg></label><input id='data-f95e135d-4382-48a8-9a42-12eb79d33fe7' class='xr-var-data-in' type='checkbox'><label for='data-f95e135d-4382-48a8-9a42-12eb79d33fe7' title='Show/Hide data repr'><svg class='icon xr-icon-database'><use xlink:href='#icon-database'></use></svg></label><div class='xr-var-attrs'><dl class='xr-attrs'></dl></div><div class='xr-var-data'><pre>array([[[ 6.37839698e-03, -1.58378707e-03,  1.32581344e-02, ...,\n",
       "         -1.34097508e-02,  9.03002347e-02,  1.49062245e-02],\n",
       "        [-1.79469163e-04,  1.73941007e-01, -1.44517718e-01, ...,\n",
       "          1.85376799e-02, -1.94161756e-01,  1.29500783e-02],\n",
       "        [ 2.25388841e-01,  1.10538631e-02,  1.50405737e-01, ...,\n",
       "         -2.46236995e-01, -1.61833096e-01, -4.62035345e-02],\n",
       "        ...,\n",
       "        [-3.59484607e-02, -4.51862730e-02, -6.02891849e-02, ...,\n",
       "          1.82820399e-01, -2.64939876e-02, -5.08165808e-02],\n",
       "        [ 1.28924616e-01,  1.15578671e-02,  3.98075222e-02, ...,\n",
       "         -3.98016182e-01,  4.53379102e-03,  1.34471433e-01],\n",
       "        [ 1.15575235e-02, -1.56152743e-02,  2.78372780e-02, ...,\n",
       "          5.36508755e-02, -6.65551791e-03, -9.34389413e-03]],\n",
       "\n",
       "       [[-1.61419206e-01, -2.95395806e-03,  1.07421666e-01, ...,\n",
       "         -6.72659470e-02, -5.38195999e-02,  9.82910421e-02],\n",
       "        [ 1.03291324e-01,  5.11362591e-02, -1.44445565e-01, ...,\n",
       "          8.22264881e-02,  6.97932510e-02, -9.65886131e-02],\n",
       "        [-8.14920943e-03, -1.61203845e-02,  5.01179653e-03, ...,\n",
       "          1.19083581e-03, -1.34715909e-03,  5.97985439e-03],\n",
       "...\n",
       "          9.88393302e-02,  1.65745010e-02, -1.64215827e-02],\n",
       "        [ 1.75462805e-02, -8.37215306e-03, -2.46812486e-02, ...,\n",
       "          5.03996742e-02,  1.77988927e-02,  3.36621408e-02],\n",
       "        [-1.38252691e-04, -1.77881468e-02, -1.97438826e-03, ...,\n",
       "         -3.73013028e-03, -7.59435813e-03, -1.20385530e-03]],\n",
       "\n",
       "       [[ 1.57374903e-02, -2.52209761e-02, -2.68745212e-02, ...,\n",
       "          1.19029844e-02,  4.01155861e-03, -2.22094762e-02],\n",
       "        [ 4.99552882e-03, -3.24528025e-02,  1.66881043e-02, ...,\n",
       "          2.97663838e-03,  1.09482260e-02,  1.08008195e-02],\n",
       "        [-5.65138209e-03,  9.91610658e-02, -6.10421580e-02, ...,\n",
       "         -3.60733143e-02, -3.84505341e-02, -2.74650199e-02],\n",
       "        ...,\n",
       "        [-6.51762638e-03,  2.23255365e-02,  2.59765588e-02, ...,\n",
       "          2.03326142e-02,  1.32604189e-02, -1.64999409e-02],\n",
       "        [ 7.02629265e-03, -2.22566575e-02, -2.34393294e-02, ...,\n",
       "         -2.29982248e-02, -1.27000112e-02,  1.62484481e-02],\n",
       "        [ 5.68874119e-02,  2.46423532e-03,  5.78566934e-02, ...,\n",
       "          1.58935351e-03, -3.66647672e-02, -7.06912008e-02]]],\n",
       "      shape=(4, 2000, 96))</pre></div></li><li class='xr-var-item'><div class='xr-var-name'><span>theta</span></div><div class='xr-var-dims'>(chain, draw, theta_dim_0)</div><div class='xr-var-dtype'>float64</div><div class='xr-var-preview xr-preview'>0.234 0.6656 ... 0.1672 0.6428</div><input id='attrs-10b86a72-6a61-4c7e-8194-f821912bdd6e' class='xr-var-attrs-in' type='checkbox' disabled><label for='attrs-10b86a72-6a61-4c7e-8194-f821912bdd6e' title='Show/Hide attributes'><svg class='icon xr-icon-file-text2'><use xlink:href='#icon-file-text2'></use></svg></label><input id='data-ebba3801-bdc0-4515-a0ca-b06eed28b800' class='xr-var-data-in' type='checkbox'><label for='data-ebba3801-bdc0-4515-a0ca-b06eed28b800' title='Show/Hide data repr'><svg class='icon xr-icon-database'><use xlink:href='#icon-database'></use></svg></label><div class='xr-var-attrs'><dl class='xr-attrs'></dl></div><div class='xr-var-data'><pre>array([[[0.23398976, 0.66558325, 0.72752932, ..., 0.16777611,\n",
       "         0.17276664, 0.64251099],\n",
       "        [0.23881438, 0.61062147, 0.75312201, ..., 0.20177537,\n",
       "         0.1902579 , 0.67017691],\n",
       "        [0.20324726, 0.65800589, 0.76511186, ..., 0.21029529,\n",
       "         0.15321849, 0.56277218],\n",
       "        ...,\n",
       "        [0.29041346, 0.67559034, 0.73240189, ..., 0.18846972,\n",
       "         0.18916489, 0.64555774],\n",
       "        [0.20513132, 0.59179161, 0.76149175, ..., 0.16240425,\n",
       "         0.1719625 , 0.62345151],\n",
       "        [0.27109421, 0.65668858, 0.69796476, ..., 0.19162078,\n",
       "         0.19327678, 0.61723855]],\n",
       "\n",
       "       [[0.25644215, 0.66460036, 0.72879203, ..., 0.18080293,\n",
       "         0.18582367, 0.64188764],\n",
       "        [0.22453296, 0.63486391, 0.7414953 , ..., 0.13705489,\n",
       "         0.14471962, 0.646633  ],\n",
       "        [0.24184152, 0.65049916, 0.71877585, ..., 0.17226083,\n",
       "         0.17208381, 0.62441751],\n",
       "...\n",
       "        [0.21916385, 0.61605644, 0.7445747 , ..., 0.14590025,\n",
       "         0.14967898, 0.66082454],\n",
       "        [0.22477377, 0.62970235, 0.74532191, ..., 0.1587555 ,\n",
       "         0.16065209, 0.66263435],\n",
       "        [0.22895732, 0.66535472, 0.75279369, ..., 0.15851791,\n",
       "         0.15768296, 0.65853837]],\n",
       "\n",
       "       [[0.24785749, 0.67128829, 0.75021375, ..., 0.1719094 ,\n",
       "         0.16508879, 0.65657508],\n",
       "        [0.23943943, 0.64301803, 0.7420305 , ..., 0.16267372,\n",
       "         0.16651842, 0.64574977],\n",
       "        [0.2398113 , 0.66962037, 0.7287268 , ..., 0.18780474,\n",
       "         0.17524137, 0.64278249],\n",
       "        ...,\n",
       "        [0.24746516, 0.64694516, 0.73094274, ..., 0.1845634 ,\n",
       "         0.17871167, 0.64364813],\n",
       "        [0.23933519, 0.67196524, 0.75453232, ..., 0.15808101,\n",
       "         0.16328219, 0.65308784],\n",
       "        [0.23955564, 0.63514699, 0.72374798, ..., 0.19097436,\n",
       "         0.16716176, 0.64284053]]], shape=(4, 2000, 4247))</pre></div></li></ul></div></li><li class='xr-section-item'><input id='section-25c47144-2978-4e9b-9fdd-f2b7dc946d4f' class='xr-section-summary-in' type='checkbox'  ><label for='section-25c47144-2978-4e9b-9fdd-f2b7dc946d4f' class='xr-section-summary' >Indexes: <span>(6)</span></label><div class='xr-section-inline-details'></div><div class='xr-section-details'><ul class='xr-var-list'><li class='xr-var-item'><div class='xr-index-name'><div>chain</div></div><div class='xr-index-preview'>PandasIndex</div><input type='checkbox' disabled/><label></label><input id='index-e659208e-55f7-4e83-a7b3-0a5773cfdd42' class='xr-index-data-in' type='checkbox'/><label for='index-e659208e-55f7-4e83-a7b3-0a5773cfdd42' title='Show/Hide index repr'><svg class='icon xr-icon-database'><use xlink:href='#icon-database'></use></svg></label><div class='xr-index-data'><pre>PandasIndex(Index([0, 1, 2, 3], dtype=&#x27;int64&#x27;, name=&#x27;chain&#x27;))</pre></div></li><li class='xr-var-item'><div class='xr-index-name'><div>draw</div></div><div class='xr-index-preview'>PandasIndex</div><input type='checkbox' disabled/><label></label><input id='index-0a02d411-1fc3-4633-a152-0ca94ef0cf75' class='xr-index-data-in' type='checkbox'/><label for='index-0a02d411-1fc3-4633-a152-0ca94ef0cf75' title='Show/Hide index repr'><svg class='icon xr-icon-database'><use xlink:href='#icon-database'></use></svg></label><div class='xr-index-data'><pre>PandasIndex(Index([   0,    1,    2,    3,    4,    5,    6,    7,    8,    9,\n",
       "       ...\n",
       "       1990, 1991, 1992, 1993, 1994, 1995, 1996, 1997, 1998, 1999],\n",
       "      dtype=&#x27;int64&#x27;, name=&#x27;draw&#x27;, length=2000))</pre></div></li><li class='xr-var-item'><div class='xr-index-name'><div>provider_offset_dim_0</div></div><div class='xr-index-preview'>PandasIndex</div><input type='checkbox' disabled/><label></label><input id='index-91139ea3-b31f-422a-b632-49852b12424e' class='xr-index-data-in' type='checkbox'/><label for='index-91139ea3-b31f-422a-b632-49852b12424e' title='Show/Hide index repr'><svg class='icon xr-icon-database'><use xlink:href='#icon-database'></use></svg></label><div class='xr-index-data'><pre>PandasIndex(Index([ 0,  1,  2,  3,  4,  5,  6,  7,  8,  9, 10, 11, 12, 13, 14, 15, 16, 17,\n",
       "       18, 19, 20, 21, 22, 23, 24, 25, 26, 27, 28, 29, 30, 31, 32, 33, 34, 35,\n",
       "       36, 37, 38, 39, 40, 41, 42, 43, 44, 45, 46, 47, 48, 49, 50, 51, 52, 53,\n",
       "       54, 55, 56, 57, 58, 59, 60, 61, 62, 63, 64, 65, 66, 67, 68, 69, 70, 71,\n",
       "       72, 73, 74, 75, 76, 77, 78, 79, 80, 81, 82, 83, 84, 85, 86, 87, 88, 89,\n",
       "       90, 91, 92, 93, 94, 95],\n",
       "      dtype=&#x27;int64&#x27;, name=&#x27;provider_offset_dim_0&#x27;))</pre></div></li><li class='xr-var-item'><div class='xr-index-name'><div>betas_dim_0</div></div><div class='xr-index-preview'>PandasIndex</div><input type='checkbox' disabled/><label></label><input id='index-2625b776-e940-4c71-b17a-5ecac7120556' class='xr-index-data-in' type='checkbox'/><label for='index-2625b776-e940-4c71-b17a-5ecac7120556' title='Show/Hide index repr'><svg class='icon xr-icon-database'><use xlink:href='#icon-database'></use></svg></label><div class='xr-index-data'><pre>PandasIndex(Index([0, 1], dtype=&#x27;int64&#x27;, name=&#x27;betas_dim_0&#x27;))</pre></div></li><li class='xr-var-item'><div class='xr-index-name'><div>mu_provider_dim_0</div></div><div class='xr-index-preview'>PandasIndex</div><input type='checkbox' disabled/><label></label><input id='index-a7bea97a-5388-4007-b157-0a3de013e112' class='xr-index-data-in' type='checkbox'/><label for='index-a7bea97a-5388-4007-b157-0a3de013e112' title='Show/Hide index repr'><svg class='icon xr-icon-database'><use xlink:href='#icon-database'></use></svg></label><div class='xr-index-data'><pre>PandasIndex(Index([ 0,  1,  2,  3,  4,  5,  6,  7,  8,  9, 10, 11, 12, 13, 14, 15, 16, 17,\n",
       "       18, 19, 20, 21, 22, 23, 24, 25, 26, 27, 28, 29, 30, 31, 32, 33, 34, 35,\n",
       "       36, 37, 38, 39, 40, 41, 42, 43, 44, 45, 46, 47, 48, 49, 50, 51, 52, 53,\n",
       "       54, 55, 56, 57, 58, 59, 60, 61, 62, 63, 64, 65, 66, 67, 68, 69, 70, 71,\n",
       "       72, 73, 74, 75, 76, 77, 78, 79, 80, 81, 82, 83, 84, 85, 86, 87, 88, 89,\n",
       "       90, 91, 92, 93, 94, 95],\n",
       "      dtype=&#x27;int64&#x27;, name=&#x27;mu_provider_dim_0&#x27;))</pre></div></li><li class='xr-var-item'><div class='xr-index-name'><div>theta_dim_0</div></div><div class='xr-index-preview'>PandasIndex</div><input type='checkbox' disabled/><label></label><input id='index-3c90c2ae-0c6f-41a8-9a61-878b4938e665' class='xr-index-data-in' type='checkbox'/><label for='index-3c90c2ae-0c6f-41a8-9a61-878b4938e665' title='Show/Hide index repr'><svg class='icon xr-icon-database'><use xlink:href='#icon-database'></use></svg></label><div class='xr-index-data'><pre>PandasIndex(Index([   0,    1,    2,    3,    4,    5,    6,    7,    8,    9,\n",
       "       ...\n",
       "       4237, 4238, 4239, 4240, 4241, 4242, 4243, 4244, 4245, 4246],\n",
       "      dtype=&#x27;int64&#x27;, name=&#x27;theta_dim_0&#x27;, length=4247))</pre></div></li></ul></div></li><li class='xr-section-item'><input id='section-9e4b7101-cf21-4c15-bd2f-5b2716f7f66c' class='xr-section-summary-in' type='checkbox'  checked><label for='section-9e4b7101-cf21-4c15-bd2f-5b2716f7f66c' class='xr-section-summary' >Attributes: <span>(6)</span></label><div class='xr-section-inline-details'></div><div class='xr-section-details'><dl class='xr-attrs'><dt><span>created_at :</span></dt><dd>2025-08-08T17:47:58.685883+00:00</dd><dt><span>arviz_version :</span></dt><dd>0.22.0</dd><dt><span>inference_library :</span></dt><dd>pymc</dd><dt><span>inference_library_version :</span></dt><dd>5.25.1</dd><dt><span>sampling_time :</span></dt><dd>10.95399808883667</dd><dt><span>tuning_steps :</span></dt><dd>1000</dd></dl></div></li></ul></div></div><br></div>\n",
       "                      </ul>\n",
       "                  </div>\n",
       "            </li>\n",
       "            \n",
       "            <li class = \"xr-section-item\">\n",
       "                  <input id=\"idata_sample_stats16efa818-4d2b-4150-992a-1fb1580a793d\" class=\"xr-section-summary-in\" type=\"checkbox\">\n",
       "                  <label for=\"idata_sample_stats16efa818-4d2b-4150-992a-1fb1580a793d\" class = \"xr-section-summary\">sample_stats</label>\n",
       "                  <div class=\"xr-section-inline-details\"></div>\n",
       "                  <div class=\"xr-section-details\">\n",
       "                      <ul id=\"xr-dataset-coord-list\" class=\"xr-var-list\">\n",
       "                          <div style=\"padding-left:2rem;\"><div><svg style=\"position: absolute; width: 0; height: 0; overflow: hidden\">\n",
       "<defs>\n",
       "<symbol id=\"icon-database\" viewBox=\"0 0 32 32\">\n",
       "<path d=\"M16 0c-8.837 0-16 2.239-16 5v4c0 2.761 7.163 5 16 5s16-2.239 16-5v-4c0-2.761-7.163-5-16-5z\"></path>\n",
       "<path d=\"M16 17c-8.837 0-16-2.239-16-5v6c0 2.761 7.163 5 16 5s16-2.239 16-5v-6c0 2.761-7.163 5-16 5z\"></path>\n",
       "<path d=\"M16 26c-8.837 0-16-2.239-16-5v6c0 2.761 7.163 5 16 5s16-2.239 16-5v-6c0 2.761-7.163 5-16 5z\"></path>\n",
       "</symbol>\n",
       "<symbol id=\"icon-file-text2\" viewBox=\"0 0 32 32\">\n",
       "<path d=\"M28.681 7.159c-0.694-0.947-1.662-2.053-2.724-3.116s-2.169-2.030-3.116-2.724c-1.612-1.182-2.393-1.319-2.841-1.319h-15.5c-1.378 0-2.5 1.121-2.5 2.5v27c0 1.378 1.122 2.5 2.5 2.5h23c1.378 0 2.5-1.122 2.5-2.5v-19.5c0-0.448-0.137-1.23-1.319-2.841zM24.543 5.457c0.959 0.959 1.712 1.825 2.268 2.543h-4.811v-4.811c0.718 0.556 1.584 1.309 2.543 2.268zM28 29.5c0 0.271-0.229 0.5-0.5 0.5h-23c-0.271 0-0.5-0.229-0.5-0.5v-27c0-0.271 0.229-0.5 0.5-0.5 0 0 15.499-0 15.5 0v7c0 0.552 0.448 1 1 1h7v19.5z\"></path>\n",
       "<path d=\"M23 26h-14c-0.552 0-1-0.448-1-1s0.448-1 1-1h14c0.552 0 1 0.448 1 1s-0.448 1-1 1z\"></path>\n",
       "<path d=\"M23 22h-14c-0.552 0-1-0.448-1-1s0.448-1 1-1h14c0.552 0 1 0.448 1 1s-0.448 1-1 1z\"></path>\n",
       "<path d=\"M23 18h-14c-0.552 0-1-0.448-1-1s0.448-1 1-1h14c0.552 0 1 0.448 1 1s-0.448 1-1 1z\"></path>\n",
       "</symbol>\n",
       "</defs>\n",
       "</svg>\n",
       "<style>/* CSS stylesheet for displaying xarray objects in jupyterlab.\n",
       " *\n",
       " */\n",
       "\n",
       ":root {\n",
       "  --xr-font-color0: var(\n",
       "    --jp-content-font-color0,\n",
       "    var(--pst-color-text-base rgba(0, 0, 0, 1))\n",
       "  );\n",
       "  --xr-font-color2: var(\n",
       "    --jp-content-font-color2,\n",
       "    var(--pst-color-text-base, rgba(0, 0, 0, 0.54))\n",
       "  );\n",
       "  --xr-font-color3: var(\n",
       "    --jp-content-font-color3,\n",
       "    var(--pst-color-text-base, rgba(0, 0, 0, 0.38))\n",
       "  );\n",
       "  --xr-border-color: var(\n",
       "    --jp-border-color2,\n",
       "    hsl(from var(--pst-color-on-background, white) h s calc(l - 10))\n",
       "  );\n",
       "  --xr-disabled-color: var(\n",
       "    --jp-layout-color3,\n",
       "    hsl(from var(--pst-color-on-background, white) h s calc(l - 40))\n",
       "  );\n",
       "  --xr-background-color: var(\n",
       "    --jp-layout-color0,\n",
       "    var(--pst-color-on-background, white)\n",
       "  );\n",
       "  --xr-background-color-row-even: var(\n",
       "    --jp-layout-color1,\n",
       "    hsl(from var(--pst-color-on-background, white) h s calc(l - 5))\n",
       "  );\n",
       "  --xr-background-color-row-odd: var(\n",
       "    --jp-layout-color2,\n",
       "    hsl(from var(--pst-color-on-background, white) h s calc(l - 15))\n",
       "  );\n",
       "}\n",
       "\n",
       "html[theme=\"dark\"],\n",
       "html[data-theme=\"dark\"],\n",
       "body[data-theme=\"dark\"],\n",
       "body.vscode-dark {\n",
       "  --xr-font-color0: var(\n",
       "    --jp-content-font-color0,\n",
       "    var(--pst-color-text-base, rgba(255, 255, 255, 1))\n",
       "  );\n",
       "  --xr-font-color2: var(\n",
       "    --jp-content-font-color2,\n",
       "    var(--pst-color-text-base, rgba(255, 255, 255, 0.54))\n",
       "  );\n",
       "  --xr-font-color3: var(\n",
       "    --jp-content-font-color3,\n",
       "    var(--pst-color-text-base, rgba(255, 255, 255, 0.38))\n",
       "  );\n",
       "  --xr-border-color: var(\n",
       "    --jp-border-color2,\n",
       "    hsl(from var(--pst-color-on-background, #111111) h s calc(l + 10))\n",
       "  );\n",
       "  --xr-disabled-color: var(\n",
       "    --jp-layout-color3,\n",
       "    hsl(from var(--pst-color-on-background, #111111) h s calc(l + 40))\n",
       "  );\n",
       "  --xr-background-color: var(\n",
       "    --jp-layout-color0,\n",
       "    var(--pst-color-on-background, #111111)\n",
       "  );\n",
       "  --xr-background-color-row-even: var(\n",
       "    --jp-layout-color1,\n",
       "    hsl(from var(--pst-color-on-background, #111111) h s calc(l + 5))\n",
       "  );\n",
       "  --xr-background-color-row-odd: var(\n",
       "    --jp-layout-color2,\n",
       "    hsl(from var(--pst-color-on-background, #111111) h s calc(l + 15))\n",
       "  );\n",
       "}\n",
       "\n",
       ".xr-wrap {\n",
       "  display: block !important;\n",
       "  min-width: 300px;\n",
       "  max-width: 700px;\n",
       "}\n",
       "\n",
       ".xr-text-repr-fallback {\n",
       "  /* fallback to plain text repr when CSS is not injected (untrusted notebook) */\n",
       "  display: none;\n",
       "}\n",
       "\n",
       ".xr-header {\n",
       "  padding-top: 6px;\n",
       "  padding-bottom: 6px;\n",
       "  margin-bottom: 4px;\n",
       "  border-bottom: solid 1px var(--xr-border-color);\n",
       "}\n",
       "\n",
       ".xr-header > div,\n",
       ".xr-header > ul {\n",
       "  display: inline;\n",
       "  margin-top: 0;\n",
       "  margin-bottom: 0;\n",
       "}\n",
       "\n",
       ".xr-obj-type,\n",
       ".xr-array-name {\n",
       "  margin-left: 2px;\n",
       "  margin-right: 10px;\n",
       "}\n",
       "\n",
       ".xr-obj-type {\n",
       "  color: var(--xr-font-color2);\n",
       "}\n",
       "\n",
       ".xr-sections {\n",
       "  padding-left: 0 !important;\n",
       "  display: grid;\n",
       "  grid-template-columns: 150px auto auto 1fr 0 20px 0 20px;\n",
       "}\n",
       "\n",
       ".xr-section-item {\n",
       "  display: contents;\n",
       "}\n",
       "\n",
       ".xr-section-item input {\n",
       "  display: inline-block;\n",
       "  opacity: 0;\n",
       "  height: 0;\n",
       "}\n",
       "\n",
       ".xr-section-item input + label {\n",
       "  color: var(--xr-disabled-color);\n",
       "  border: 2px solid transparent !important;\n",
       "}\n",
       "\n",
       ".xr-section-item input:enabled + label {\n",
       "  cursor: pointer;\n",
       "  color: var(--xr-font-color2);\n",
       "}\n",
       "\n",
       ".xr-section-item input:focus + label {\n",
       "  border: 2px solid var(--xr-font-color0) !important;\n",
       "}\n",
       "\n",
       ".xr-section-item input:enabled + label:hover {\n",
       "  color: var(--xr-font-color0);\n",
       "}\n",
       "\n",
       ".xr-section-summary {\n",
       "  grid-column: 1;\n",
       "  color: var(--xr-font-color2);\n",
       "  font-weight: 500;\n",
       "}\n",
       "\n",
       ".xr-section-summary > span {\n",
       "  display: inline-block;\n",
       "  padding-left: 0.5em;\n",
       "}\n",
       "\n",
       ".xr-section-summary-in:disabled + label {\n",
       "  color: var(--xr-font-color2);\n",
       "}\n",
       "\n",
       ".xr-section-summary-in + label:before {\n",
       "  display: inline-block;\n",
       "  content: \"►\";\n",
       "  font-size: 11px;\n",
       "  width: 15px;\n",
       "  text-align: center;\n",
       "}\n",
       "\n",
       ".xr-section-summary-in:disabled + label:before {\n",
       "  color: var(--xr-disabled-color);\n",
       "}\n",
       "\n",
       ".xr-section-summary-in:checked + label:before {\n",
       "  content: \"▼\";\n",
       "}\n",
       "\n",
       ".xr-section-summary-in:checked + label > span {\n",
       "  display: none;\n",
       "}\n",
       "\n",
       ".xr-section-summary,\n",
       ".xr-section-inline-details {\n",
       "  padding-top: 4px;\n",
       "  padding-bottom: 4px;\n",
       "}\n",
       "\n",
       ".xr-section-inline-details {\n",
       "  grid-column: 2 / -1;\n",
       "}\n",
       "\n",
       ".xr-section-details {\n",
       "  display: none;\n",
       "  grid-column: 1 / -1;\n",
       "  margin-bottom: 5px;\n",
       "}\n",
       "\n",
       ".xr-section-summary-in:checked ~ .xr-section-details {\n",
       "  display: contents;\n",
       "}\n",
       "\n",
       ".xr-array-wrap {\n",
       "  grid-column: 1 / -1;\n",
       "  display: grid;\n",
       "  grid-template-columns: 20px auto;\n",
       "}\n",
       "\n",
       ".xr-array-wrap > label {\n",
       "  grid-column: 1;\n",
       "  vertical-align: top;\n",
       "}\n",
       "\n",
       ".xr-preview {\n",
       "  color: var(--xr-font-color3);\n",
       "}\n",
       "\n",
       ".xr-array-preview,\n",
       ".xr-array-data {\n",
       "  padding: 0 5px !important;\n",
       "  grid-column: 2;\n",
       "}\n",
       "\n",
       ".xr-array-data,\n",
       ".xr-array-in:checked ~ .xr-array-preview {\n",
       "  display: none;\n",
       "}\n",
       "\n",
       ".xr-array-in:checked ~ .xr-array-data,\n",
       ".xr-array-preview {\n",
       "  display: inline-block;\n",
       "}\n",
       "\n",
       ".xr-dim-list {\n",
       "  display: inline-block !important;\n",
       "  list-style: none;\n",
       "  padding: 0 !important;\n",
       "  margin: 0;\n",
       "}\n",
       "\n",
       ".xr-dim-list li {\n",
       "  display: inline-block;\n",
       "  padding: 0;\n",
       "  margin: 0;\n",
       "}\n",
       "\n",
       ".xr-dim-list:before {\n",
       "  content: \"(\";\n",
       "}\n",
       "\n",
       ".xr-dim-list:after {\n",
       "  content: \")\";\n",
       "}\n",
       "\n",
       ".xr-dim-list li:not(:last-child):after {\n",
       "  content: \",\";\n",
       "  padding-right: 5px;\n",
       "}\n",
       "\n",
       ".xr-has-index {\n",
       "  font-weight: bold;\n",
       "}\n",
       "\n",
       ".xr-var-list,\n",
       ".xr-var-item {\n",
       "  display: contents;\n",
       "}\n",
       "\n",
       ".xr-var-item > div,\n",
       ".xr-var-item label,\n",
       ".xr-var-item > .xr-var-name span {\n",
       "  background-color: var(--xr-background-color-row-even);\n",
       "  border-color: var(--xr-background-color-row-odd);\n",
       "  margin-bottom: 0;\n",
       "  padding-top: 2px;\n",
       "}\n",
       "\n",
       ".xr-var-item > .xr-var-name:hover span {\n",
       "  padding-right: 5px;\n",
       "}\n",
       "\n",
       ".xr-var-list > li:nth-child(odd) > div,\n",
       ".xr-var-list > li:nth-child(odd) > label,\n",
       ".xr-var-list > li:nth-child(odd) > .xr-var-name span {\n",
       "  background-color: var(--xr-background-color-row-odd);\n",
       "  border-color: var(--xr-background-color-row-even);\n",
       "}\n",
       "\n",
       ".xr-var-name {\n",
       "  grid-column: 1;\n",
       "}\n",
       "\n",
       ".xr-var-dims {\n",
       "  grid-column: 2;\n",
       "}\n",
       "\n",
       ".xr-var-dtype {\n",
       "  grid-column: 3;\n",
       "  text-align: right;\n",
       "  color: var(--xr-font-color2);\n",
       "}\n",
       "\n",
       ".xr-var-preview {\n",
       "  grid-column: 4;\n",
       "}\n",
       "\n",
       ".xr-index-preview {\n",
       "  grid-column: 2 / 5;\n",
       "  color: var(--xr-font-color2);\n",
       "}\n",
       "\n",
       ".xr-var-name,\n",
       ".xr-var-dims,\n",
       ".xr-var-dtype,\n",
       ".xr-preview,\n",
       ".xr-attrs dt {\n",
       "  white-space: nowrap;\n",
       "  overflow: hidden;\n",
       "  text-overflow: ellipsis;\n",
       "  padding-right: 10px;\n",
       "}\n",
       "\n",
       ".xr-var-name:hover,\n",
       ".xr-var-dims:hover,\n",
       ".xr-var-dtype:hover,\n",
       ".xr-attrs dt:hover {\n",
       "  overflow: visible;\n",
       "  width: auto;\n",
       "  z-index: 1;\n",
       "}\n",
       "\n",
       ".xr-var-attrs,\n",
       ".xr-var-data,\n",
       ".xr-index-data {\n",
       "  display: none;\n",
       "  border-top: 2px dotted var(--xr-background-color);\n",
       "  padding-bottom: 20px !important;\n",
       "  padding-top: 10px !important;\n",
       "}\n",
       "\n",
       ".xr-var-attrs-in + label,\n",
       ".xr-var-data-in + label,\n",
       ".xr-index-data-in + label {\n",
       "  padding: 0 1px;\n",
       "}\n",
       "\n",
       ".xr-var-attrs-in:checked ~ .xr-var-attrs,\n",
       ".xr-var-data-in:checked ~ .xr-var-data,\n",
       ".xr-index-data-in:checked ~ .xr-index-data {\n",
       "  display: block;\n",
       "}\n",
       "\n",
       ".xr-var-data > table {\n",
       "  float: right;\n",
       "}\n",
       "\n",
       ".xr-var-data > pre,\n",
       ".xr-index-data > pre,\n",
       ".xr-var-data > table > tbody > tr {\n",
       "  background-color: transparent !important;\n",
       "}\n",
       "\n",
       ".xr-var-name span,\n",
       ".xr-var-data,\n",
       ".xr-index-name div,\n",
       ".xr-index-data,\n",
       ".xr-attrs {\n",
       "  padding-left: 25px !important;\n",
       "}\n",
       "\n",
       ".xr-attrs,\n",
       ".xr-var-attrs,\n",
       ".xr-var-data,\n",
       ".xr-index-data {\n",
       "  grid-column: 1 / -1;\n",
       "}\n",
       "\n",
       "dl.xr-attrs {\n",
       "  padding: 0;\n",
       "  margin: 0;\n",
       "  display: grid;\n",
       "  grid-template-columns: 125px auto;\n",
       "}\n",
       "\n",
       ".xr-attrs dt,\n",
       ".xr-attrs dd {\n",
       "  padding: 0;\n",
       "  margin: 0;\n",
       "  float: left;\n",
       "  padding-right: 10px;\n",
       "  width: auto;\n",
       "}\n",
       "\n",
       ".xr-attrs dt {\n",
       "  font-weight: normal;\n",
       "  grid-column: 1;\n",
       "}\n",
       "\n",
       ".xr-attrs dt:hover span {\n",
       "  display: inline-block;\n",
       "  background: var(--xr-background-color);\n",
       "  padding-right: 10px;\n",
       "}\n",
       "\n",
       ".xr-attrs dd {\n",
       "  grid-column: 2;\n",
       "  white-space: pre-wrap;\n",
       "  word-break: break-all;\n",
       "}\n",
       "\n",
       ".xr-icon-database,\n",
       ".xr-icon-file-text2,\n",
       ".xr-no-icon {\n",
       "  display: inline-block;\n",
       "  vertical-align: middle;\n",
       "  width: 1em;\n",
       "  height: 1.5em !important;\n",
       "  stroke-width: 0;\n",
       "  stroke: currentColor;\n",
       "  fill: currentColor;\n",
       "}\n",
       "\n",
       ".xr-var-attrs-in:checked + label > .xr-icon-file-text2,\n",
       ".xr-var-data-in:checked + label > .xr-icon-database,\n",
       ".xr-index-data-in:checked + label > .xr-icon-database {\n",
       "  color: var(--xr-font-color0);\n",
       "  filter: drop-shadow(1px 1px 5px var(--xr-font-color2));\n",
       "  stroke-width: 0.8px;\n",
       "}\n",
       "</style><pre class='xr-text-repr-fallback'>&lt;xarray.Dataset&gt; Size: 1MB\n",
       "Dimensions:                (chain: 4, draw: 2000)\n",
       "Coordinates:\n",
       "  * chain                  (chain) int64 32B 0 1 2 3\n",
       "  * draw                   (draw) int64 16kB 0 1 2 3 4 ... 1996 1997 1998 1999\n",
       "Data variables: (12/18)\n",
       "    reached_max_treedepth  (chain, draw) bool 8kB False False ... False False\n",
       "    energy                 (chain, draw) float64 64kB 2.667e+03 ... 2.693e+03\n",
       "    perf_counter_diff      (chain, draw) float64 64kB 0.00232 ... 0.002444\n",
       "    divergences            (chain, draw) int64 64kB 0 0 0 0 0 0 ... 0 0 0 0 0 0\n",
       "    diverging              (chain, draw) bool 8kB False False ... False False\n",
       "    step_size              (chain, draw) float64 64kB 0.218 0.218 ... 0.2202\n",
       "    ...                     ...\n",
       "    perf_counter_start     (chain, draw) float64 64kB 3.655e+05 ... 3.656e+05\n",
       "    tree_depth             (chain, draw) int64 64kB 4 4 4 4 4 4 ... 4 4 4 4 4 4\n",
       "    largest_eigval         (chain, draw) float64 64kB nan nan nan ... nan nan\n",
       "    lp                     (chain, draw) float64 64kB -2.631e+03 ... -2.641e+03\n",
       "    smallest_eigval        (chain, draw) float64 64kB nan nan nan ... nan nan\n",
       "    n_steps                (chain, draw) float64 64kB 15.0 15.0 ... 15.0 15.0\n",
       "Attributes:\n",
       "    created_at:                 2025-08-08T17:47:58.695341+00:00\n",
       "    arviz_version:              0.22.0\n",
       "    inference_library:          pymc\n",
       "    inference_library_version:  5.25.1\n",
       "    sampling_time:              10.95399808883667\n",
       "    tuning_steps:               1000</pre><div class='xr-wrap' style='display:none'><div class='xr-header'><div class='xr-obj-type'>xarray.Dataset</div></div><ul class='xr-sections'><li class='xr-section-item'><input id='section-c60dd5d1-ebc8-49c7-9e41-dd97341a209d' class='xr-section-summary-in' type='checkbox' disabled ><label for='section-c60dd5d1-ebc8-49c7-9e41-dd97341a209d' class='xr-section-summary'  title='Expand/collapse section'>Dimensions:</label><div class='xr-section-inline-details'><ul class='xr-dim-list'><li><span class='xr-has-index'>chain</span>: 4</li><li><span class='xr-has-index'>draw</span>: 2000</li></ul></div><div class='xr-section-details'></div></li><li class='xr-section-item'><input id='section-e5425377-c724-4711-a72a-6371b215e36e' class='xr-section-summary-in' type='checkbox'  checked><label for='section-e5425377-c724-4711-a72a-6371b215e36e' class='xr-section-summary' >Coordinates: <span>(2)</span></label><div class='xr-section-inline-details'></div><div class='xr-section-details'><ul class='xr-var-list'><li class='xr-var-item'><div class='xr-var-name'><span class='xr-has-index'>chain</span></div><div class='xr-var-dims'>(chain)</div><div class='xr-var-dtype'>int64</div><div class='xr-var-preview xr-preview'>0 1 2 3</div><input id='attrs-3e43f4b1-46af-49dd-9910-6edc86b46d87' class='xr-var-attrs-in' type='checkbox' disabled><label for='attrs-3e43f4b1-46af-49dd-9910-6edc86b46d87' title='Show/Hide attributes'><svg class='icon xr-icon-file-text2'><use xlink:href='#icon-file-text2'></use></svg></label><input id='data-29b9f509-6c4a-4d92-bbac-b1bf0322bbd3' class='xr-var-data-in' type='checkbox'><label for='data-29b9f509-6c4a-4d92-bbac-b1bf0322bbd3' title='Show/Hide data repr'><svg class='icon xr-icon-database'><use xlink:href='#icon-database'></use></svg></label><div class='xr-var-attrs'><dl class='xr-attrs'></dl></div><div class='xr-var-data'><pre>array([0, 1, 2, 3])</pre></div></li><li class='xr-var-item'><div class='xr-var-name'><span class='xr-has-index'>draw</span></div><div class='xr-var-dims'>(draw)</div><div class='xr-var-dtype'>int64</div><div class='xr-var-preview xr-preview'>0 1 2 3 4 ... 1996 1997 1998 1999</div><input id='attrs-a65fecab-368c-4484-b959-5f2644c9b72a' class='xr-var-attrs-in' type='checkbox' disabled><label for='attrs-a65fecab-368c-4484-b959-5f2644c9b72a' title='Show/Hide attributes'><svg class='icon xr-icon-file-text2'><use xlink:href='#icon-file-text2'></use></svg></label><input id='data-b1e7ed1b-8491-4034-81e2-62ef13eb4f37' class='xr-var-data-in' type='checkbox'><label for='data-b1e7ed1b-8491-4034-81e2-62ef13eb4f37' title='Show/Hide data repr'><svg class='icon xr-icon-database'><use xlink:href='#icon-database'></use></svg></label><div class='xr-var-attrs'><dl class='xr-attrs'></dl></div><div class='xr-var-data'><pre>array([   0,    1,    2, ..., 1997, 1998, 1999], shape=(2000,))</pre></div></li></ul></div></li><li class='xr-section-item'><input id='section-fb1f8fb7-c7c1-48d3-a39a-a6c51fb45d7b' class='xr-section-summary-in' type='checkbox'  ><label for='section-fb1f8fb7-c7c1-48d3-a39a-a6c51fb45d7b' class='xr-section-summary' >Data variables: <span>(18)</span></label><div class='xr-section-inline-details'></div><div class='xr-section-details'><ul class='xr-var-list'><li class='xr-var-item'><div class='xr-var-name'><span>reached_max_treedepth</span></div><div class='xr-var-dims'>(chain, draw)</div><div class='xr-var-dtype'>bool</div><div class='xr-var-preview xr-preview'>False False False ... False False</div><input id='attrs-38926eb7-a104-427e-af67-07df36191b57' class='xr-var-attrs-in' type='checkbox' disabled><label for='attrs-38926eb7-a104-427e-af67-07df36191b57' title='Show/Hide attributes'><svg class='icon xr-icon-file-text2'><use xlink:href='#icon-file-text2'></use></svg></label><input id='data-d402d05e-715e-4092-a542-886aa06cbba9' class='xr-var-data-in' type='checkbox'><label for='data-d402d05e-715e-4092-a542-886aa06cbba9' title='Show/Hide data repr'><svg class='icon xr-icon-database'><use xlink:href='#icon-database'></use></svg></label><div class='xr-var-attrs'><dl class='xr-attrs'></dl></div><div class='xr-var-data'><pre>array([[False, False, False, ..., False, False, False],\n",
       "       [False, False, False, ..., False, False, False],\n",
       "       [False, False, False, ..., False, False, False],\n",
       "       [False, False, False, ..., False, False, False]], shape=(4, 2000))</pre></div></li><li class='xr-var-item'><div class='xr-var-name'><span>energy</span></div><div class='xr-var-dims'>(chain, draw)</div><div class='xr-var-dtype'>float64</div><div class='xr-var-preview xr-preview'>2.667e+03 2.681e+03 ... 2.693e+03</div><input id='attrs-3d986181-c856-4314-b78d-207b1c5879c9' class='xr-var-attrs-in' type='checkbox' disabled><label for='attrs-3d986181-c856-4314-b78d-207b1c5879c9' title='Show/Hide attributes'><svg class='icon xr-icon-file-text2'><use xlink:href='#icon-file-text2'></use></svg></label><input id='data-162de660-58eb-4e78-95b3-c06e0035811b' class='xr-var-data-in' type='checkbox'><label for='data-162de660-58eb-4e78-95b3-c06e0035811b' title='Show/Hide data repr'><svg class='icon xr-icon-database'><use xlink:href='#icon-database'></use></svg></label><div class='xr-var-attrs'><dl class='xr-attrs'></dl></div><div class='xr-var-data'><pre>array([[2667.35773462, 2681.46886915, 2669.92389434, ..., 2676.39139463,\n",
       "        2666.83363424, 2682.88402166],\n",
       "       [2692.71896676, 2679.23004826, 2667.40951278, ..., 2666.42482056,\n",
       "        2678.54187606, 2690.56002777],\n",
       "       [2667.21226424, 2674.7125121 , 2685.98443221, ..., 2690.72065492,\n",
       "        2695.11735459, 2686.94717821],\n",
       "       [2693.81165581, 2681.6719742 , 2681.81413736, ..., 2688.89194936,\n",
       "        2694.51746754, 2693.40071429]], shape=(4, 2000))</pre></div></li><li class='xr-var-item'><div class='xr-var-name'><span>perf_counter_diff</span></div><div class='xr-var-dims'>(chain, draw)</div><div class='xr-var-dtype'>float64</div><div class='xr-var-preview xr-preview'>0.00232 0.002473 ... 0.002444</div><input id='attrs-fda73745-3444-493e-9187-026557f3ec12' class='xr-var-attrs-in' type='checkbox' disabled><label for='attrs-fda73745-3444-493e-9187-026557f3ec12' title='Show/Hide attributes'><svg class='icon xr-icon-file-text2'><use xlink:href='#icon-file-text2'></use></svg></label><input id='data-6118f310-5c3e-437e-a1ea-a9f8e4761360' class='xr-var-data-in' type='checkbox'><label for='data-6118f310-5c3e-437e-a1ea-a9f8e4761360' title='Show/Hide data repr'><svg class='icon xr-icon-database'><use xlink:href='#icon-database'></use></svg></label><div class='xr-var-attrs'><dl class='xr-attrs'></dl></div><div class='xr-var-data'><pre>array([[0.0023205 , 0.002473  , 0.0024645 , ..., 0.00238363, 0.00243521,\n",
       "        0.00232792],\n",
       "       [0.00226463, 0.00232892, 0.00231296, ..., 0.00217542, 0.00215958,\n",
       "        0.00226412],\n",
       "       [0.00213013, 0.00203192, 0.0023405 , ..., 0.00204867, 0.001986  ,\n",
       "        0.00201408],\n",
       "       [0.00230088, 0.0022325 , 0.00219983, ..., 0.00243092, 0.00241238,\n",
       "        0.00244413]], shape=(4, 2000))</pre></div></li><li class='xr-var-item'><div class='xr-var-name'><span>divergences</span></div><div class='xr-var-dims'>(chain, draw)</div><div class='xr-var-dtype'>int64</div><div class='xr-var-preview xr-preview'>0 0 0 0 0 0 0 0 ... 0 0 0 0 0 0 0 0</div><input id='attrs-2f03cc24-d75e-4bc7-a956-e16ce7648ab0' class='xr-var-attrs-in' type='checkbox' disabled><label for='attrs-2f03cc24-d75e-4bc7-a956-e16ce7648ab0' title='Show/Hide attributes'><svg class='icon xr-icon-file-text2'><use xlink:href='#icon-file-text2'></use></svg></label><input id='data-d17017bd-c4a3-48fd-a58e-dca0fc22413b' class='xr-var-data-in' type='checkbox'><label for='data-d17017bd-c4a3-48fd-a58e-dca0fc22413b' title='Show/Hide data repr'><svg class='icon xr-icon-database'><use xlink:href='#icon-database'></use></svg></label><div class='xr-var-attrs'><dl class='xr-attrs'></dl></div><div class='xr-var-data'><pre>array([[0, 0, 0, ..., 0, 0, 0],\n",
       "       [0, 0, 0, ..., 0, 0, 0],\n",
       "       [0, 0, 0, ..., 0, 0, 0],\n",
       "       [0, 0, 0, ..., 0, 0, 0]], shape=(4, 2000))</pre></div></li><li class='xr-var-item'><div class='xr-var-name'><span>diverging</span></div><div class='xr-var-dims'>(chain, draw)</div><div class='xr-var-dtype'>bool</div><div class='xr-var-preview xr-preview'>False False False ... False False</div><input id='attrs-59b2d87c-0daa-48f6-aecd-c6be43ed9c1a' class='xr-var-attrs-in' type='checkbox' disabled><label for='attrs-59b2d87c-0daa-48f6-aecd-c6be43ed9c1a' title='Show/Hide attributes'><svg class='icon xr-icon-file-text2'><use xlink:href='#icon-file-text2'></use></svg></label><input id='data-b7e9be41-5f60-41f4-81e1-055ea3090ed0' class='xr-var-data-in' type='checkbox'><label for='data-b7e9be41-5f60-41f4-81e1-055ea3090ed0' title='Show/Hide data repr'><svg class='icon xr-icon-database'><use xlink:href='#icon-database'></use></svg></label><div class='xr-var-attrs'><dl class='xr-attrs'></dl></div><div class='xr-var-data'><pre>array([[False, False, False, ..., False, False, False],\n",
       "       [False, False, False, ..., False, False, False],\n",
       "       [False, False, False, ..., False, False, False],\n",
       "       [False, False, False, ..., False, False, False]], shape=(4, 2000))</pre></div></li><li class='xr-var-item'><div class='xr-var-name'><span>step_size</span></div><div class='xr-var-dims'>(chain, draw)</div><div class='xr-var-dtype'>float64</div><div class='xr-var-preview xr-preview'>0.218 0.218 0.218 ... 0.2202 0.2202</div><input id='attrs-193762d7-b0e7-4b3d-8e26-e53ed5fc560f' class='xr-var-attrs-in' type='checkbox' disabled><label for='attrs-193762d7-b0e7-4b3d-8e26-e53ed5fc560f' title='Show/Hide attributes'><svg class='icon xr-icon-file-text2'><use xlink:href='#icon-file-text2'></use></svg></label><input id='data-3362ab19-7f74-46c4-a0fc-4a00c2fd38c2' class='xr-var-data-in' type='checkbox'><label for='data-3362ab19-7f74-46c4-a0fc-4a00c2fd38c2' title='Show/Hide data repr'><svg class='icon xr-icon-database'><use xlink:href='#icon-database'></use></svg></label><div class='xr-var-attrs'><dl class='xr-attrs'></dl></div><div class='xr-var-data'><pre>array([[0.21800486, 0.21800486, 0.21800486, ..., 0.21800486, 0.21800486,\n",
       "        0.21800486],\n",
       "       [0.31677131, 0.31677131, 0.31677131, ..., 0.31677131, 0.31677131,\n",
       "        0.31677131],\n",
       "       [0.33624195, 0.33624195, 0.33624195, ..., 0.33624195, 0.33624195,\n",
       "        0.33624195],\n",
       "       [0.22020807, 0.22020807, 0.22020807, ..., 0.22020807, 0.22020807,\n",
       "        0.22020807]], shape=(4, 2000))</pre></div></li><li class='xr-var-item'><div class='xr-var-name'><span>index_in_trajectory</span></div><div class='xr-var-dims'>(chain, draw)</div><div class='xr-var-dtype'>int64</div><div class='xr-var-preview xr-preview'>-10 -7 -6 -15 -11 ... -9 -4 -13 -9</div><input id='attrs-034a05ea-3368-48cc-a6a5-823e4c196b7c' class='xr-var-attrs-in' type='checkbox' disabled><label for='attrs-034a05ea-3368-48cc-a6a5-823e4c196b7c' title='Show/Hide attributes'><svg class='icon xr-icon-file-text2'><use xlink:href='#icon-file-text2'></use></svg></label><input id='data-409ef178-f7b1-4960-91c0-05fdf7f030f1' class='xr-var-data-in' type='checkbox'><label for='data-409ef178-f7b1-4960-91c0-05fdf7f030f1' title='Show/Hide data repr'><svg class='icon xr-icon-database'><use xlink:href='#icon-database'></use></svg></label><div class='xr-var-attrs'><dl class='xr-attrs'></dl></div><div class='xr-var-data'><pre>array([[-10,  -7,  -6, ...,  10,  10,  14],\n",
       "       [ -7,  -8,   7, ...,   5,  -3,  -7],\n",
       "       [ 13,  -2,  -9, ...,  -7,   4,   5],\n",
       "       [  3,  -5, -13, ...,  -4, -13,  -9]], shape=(4, 2000))</pre></div></li><li class='xr-var-item'><div class='xr-var-name'><span>energy_error</span></div><div class='xr-var-dims'>(chain, draw)</div><div class='xr-var-dtype'>float64</div><div class='xr-var-preview xr-preview'>0.08005 -0.07362 ... 0.09857 -1.31</div><input id='attrs-9331a01a-59fb-4703-9fd4-030f85439824' class='xr-var-attrs-in' type='checkbox' disabled><label for='attrs-9331a01a-59fb-4703-9fd4-030f85439824' title='Show/Hide attributes'><svg class='icon xr-icon-file-text2'><use xlink:href='#icon-file-text2'></use></svg></label><input id='data-b2a5edc9-d9e1-4bc1-8f56-0146dbd6a654' class='xr-var-data-in' type='checkbox'><label for='data-b2a5edc9-d9e1-4bc1-8f56-0146dbd6a654' title='Show/Hide data repr'><svg class='icon xr-icon-database'><use xlink:href='#icon-database'></use></svg></label><div class='xr-var-attrs'><dl class='xr-attrs'></dl></div><div class='xr-var-data'><pre>array([[ 0.08005207, -0.07362135, -0.09689835, ..., -0.11058765,\n",
       "        -0.10967432,  0.34523686],\n",
       "       [-0.06484221, -0.09523363, -0.09191139, ...,  0.30640461,\n",
       "         1.04009401, -1.66485633],\n",
       "       [ 0.2668569 ,  0.01140514, -0.08122388, ...,  0.11642287,\n",
       "        -0.2320931 ,  0.20712911],\n",
       "       [-0.14769507, -0.19768738,  0.008395  , ...,  0.14618967,\n",
       "         0.09857288, -1.30974225]], shape=(4, 2000))</pre></div></li><li class='xr-var-item'><div class='xr-var-name'><span>process_time_diff</span></div><div class='xr-var-dims'>(chain, draw)</div><div class='xr-var-dtype'>float64</div><div class='xr-var-preview xr-preview'>0.00232 0.002474 ... 0.002444</div><input id='attrs-768671eb-d1ad-4cf3-8603-70539b2c4aae' class='xr-var-attrs-in' type='checkbox' disabled><label for='attrs-768671eb-d1ad-4cf3-8603-70539b2c4aae' title='Show/Hide attributes'><svg class='icon xr-icon-file-text2'><use xlink:href='#icon-file-text2'></use></svg></label><input id='data-d5c2c08e-f703-4261-908a-f01dcff8b646' class='xr-var-data-in' type='checkbox'><label for='data-d5c2c08e-f703-4261-908a-f01dcff8b646' title='Show/Hide data repr'><svg class='icon xr-icon-database'><use xlink:href='#icon-database'></use></svg></label><div class='xr-var-attrs'><dl class='xr-attrs'></dl></div><div class='xr-var-data'><pre>array([[0.00232 , 0.002474, 0.002465, ..., 0.00237 , 0.002414, 0.002328],\n",
       "       [0.002264, 0.002329, 0.002313, ..., 0.002176, 0.00216 , 0.002215],\n",
       "       [0.002131, 0.002032, 0.00234 , ..., 0.002037, 0.001986, 0.002014],\n",
       "       [0.0023  , 0.002232, 0.0022  , ..., 0.002431, 0.002412, 0.002444]],\n",
       "      shape=(4, 2000))</pre></div></li><li class='xr-var-item'><div class='xr-var-name'><span>max_energy_error</span></div><div class='xr-var-dims'>(chain, draw)</div><div class='xr-var-dtype'>float64</div><div class='xr-var-preview xr-preview'>-0.2987 -0.2442 ... -0.3449 -1.928</div><input id='attrs-81a75d61-05bf-4b22-b980-2c9ce39dced4' class='xr-var-attrs-in' type='checkbox' disabled><label for='attrs-81a75d61-05bf-4b22-b980-2c9ce39dced4' title='Show/Hide attributes'><svg class='icon xr-icon-file-text2'><use xlink:href='#icon-file-text2'></use></svg></label><input id='data-51141b18-925a-4a99-82f7-ccf26fe7b2ef' class='xr-var-data-in' type='checkbox'><label for='data-51141b18-925a-4a99-82f7-ccf26fe7b2ef' title='Show/Hide data repr'><svg class='icon xr-icon-database'><use xlink:href='#icon-database'></use></svg></label><div class='xr-var-attrs'><dl class='xr-attrs'></dl></div><div class='xr-var-data'><pre>array([[-0.29871382, -0.24423931, -0.27162414, ..., -0.11058765,\n",
       "        -0.18288593,  0.52780546],\n",
       "       [-0.06484221, -0.32760492, -0.20054427, ...,  0.31864309,\n",
       "        13.70007544, -2.51467271],\n",
       "       [ 0.2668569 , -0.10943998, -0.27150082, ..., -0.23638024,\n",
       "        -0.2320931 ,  0.20712911],\n",
       "       [-0.69468187,  0.45361969,  0.30005721, ..., -0.21872455,\n",
       "        -0.34485244, -1.92781615]], shape=(4, 2000))</pre></div></li><li class='xr-var-item'><div class='xr-var-name'><span>acceptance_rate</span></div><div class='xr-var-dims'>(chain, draw)</div><div class='xr-var-dtype'>float64</div><div class='xr-var-preview xr-preview'>0.9804 0.9455 0.9801 ... 0.9592 1.0</div><input id='attrs-4b716f96-736a-4a5f-8be6-07c3f4a97525' class='xr-var-attrs-in' type='checkbox' disabled><label for='attrs-4b716f96-736a-4a5f-8be6-07c3f4a97525' title='Show/Hide attributes'><svg class='icon xr-icon-file-text2'><use xlink:href='#icon-file-text2'></use></svg></label><input id='data-bce0c5a7-1b17-414a-a4f0-8edeb55bdd50' class='xr-var-data-in' type='checkbox'><label for='data-bce0c5a7-1b17-414a-a4f0-8edeb55bdd50' title='Show/Hide data repr'><svg class='icon xr-icon-database'><use xlink:href='#icon-database'></use></svg></label><div class='xr-var-attrs'><dl class='xr-attrs'></dl></div><div class='xr-var-data'><pre>array([[0.98036496, 0.94553812, 0.98006112, ..., 0.98957998, 0.98475257,\n",
       "        0.72792884],\n",
       "       [0.99628131, 0.98315538, 0.98839075, ..., 0.87134263, 0.16899309,\n",
       "        0.96408766],\n",
       "       [0.86238519, 0.99538841, 0.94094263, ..., 0.96404076, 0.97195137,\n",
       "        0.9045372 ],\n",
       "       [1.        , 0.96582481, 0.9049568 , ..., 0.96209579, 0.95918349,\n",
       "        1.        ]], shape=(4, 2000))</pre></div></li><li class='xr-var-item'><div class='xr-var-name'><span>step_size_bar</span></div><div class='xr-var-dims'>(chain, draw)</div><div class='xr-var-dtype'>float64</div><div class='xr-var-preview xr-preview'>0.2649 0.2649 ... 0.2476 0.2476</div><input id='attrs-40feb212-aa54-4ac6-8b1c-ea5ece499b0b' class='xr-var-attrs-in' type='checkbox' disabled><label for='attrs-40feb212-aa54-4ac6-8b1c-ea5ece499b0b' title='Show/Hide attributes'><svg class='icon xr-icon-file-text2'><use xlink:href='#icon-file-text2'></use></svg></label><input id='data-ab4ab958-35cd-4a79-9b10-6201c0baaf62' class='xr-var-data-in' type='checkbox'><label for='data-ab4ab958-35cd-4a79-9b10-6201c0baaf62' title='Show/Hide data repr'><svg class='icon xr-icon-database'><use xlink:href='#icon-database'></use></svg></label><div class='xr-var-attrs'><dl class='xr-attrs'></dl></div><div class='xr-var-data'><pre>array([[0.26485531, 0.26485531, 0.26485531, ..., 0.26485531, 0.26485531,\n",
       "        0.26485531],\n",
       "       [0.26619944, 0.26619944, 0.26619944, ..., 0.26619944, 0.26619944,\n",
       "        0.26619944],\n",
       "       [0.25178007, 0.25178007, 0.25178007, ..., 0.25178007, 0.25178007,\n",
       "        0.25178007],\n",
       "       [0.24761492, 0.24761492, 0.24761492, ..., 0.24761492, 0.24761492,\n",
       "        0.24761492]], shape=(4, 2000))</pre></div></li><li class='xr-var-item'><div class='xr-var-name'><span>perf_counter_start</span></div><div class='xr-var-dims'>(chain, draw)</div><div class='xr-var-dtype'>float64</div><div class='xr-var-preview xr-preview'>3.655e+05 3.655e+05 ... 3.656e+05</div><input id='attrs-1e102892-1f58-4dd4-a09a-efcac06d6049' class='xr-var-attrs-in' type='checkbox' disabled><label for='attrs-1e102892-1f58-4dd4-a09a-efcac06d6049' title='Show/Hide attributes'><svg class='icon xr-icon-file-text2'><use xlink:href='#icon-file-text2'></use></svg></label><input id='data-782074c0-ad04-4c42-a192-905998be9bc9' class='xr-var-data-in' type='checkbox'><label for='data-782074c0-ad04-4c42-a192-905998be9bc9' title='Show/Hide data repr'><svg class='icon xr-icon-database'><use xlink:href='#icon-database'></use></svg></label><div class='xr-var-attrs'><dl class='xr-attrs'></dl></div><div class='xr-var-data'><pre>array([[365547.24687721, 365547.24923242, 365547.25174108, ...,\n",
       "        365552.51137113, 365552.51379683, 365552.51627696],\n",
       "       [365547.37596346, 365547.37826612, 365547.38062692, ...,\n",
       "        365552.58632496, 365552.58852754, 365552.59071321],\n",
       "       [365547.62852471, 365547.63068758, 365547.63275025, ...,\n",
       "        365552.82472846, 365552.82681175, 365552.828828  ],\n",
       "       [365547.162576  , 365547.16492083, 365547.16718946, ...,\n",
       "        365552.45041337, 365552.45287612, 365552.45532575]],\n",
       "      shape=(4, 2000))</pre></div></li><li class='xr-var-item'><div class='xr-var-name'><span>tree_depth</span></div><div class='xr-var-dims'>(chain, draw)</div><div class='xr-var-dtype'>int64</div><div class='xr-var-preview xr-preview'>4 4 4 4 4 4 4 4 ... 4 4 4 4 4 4 4 4</div><input id='attrs-f2c726f9-7269-443d-8b33-e3a396ccb332' class='xr-var-attrs-in' type='checkbox' disabled><label for='attrs-f2c726f9-7269-443d-8b33-e3a396ccb332' title='Show/Hide attributes'><svg class='icon xr-icon-file-text2'><use xlink:href='#icon-file-text2'></use></svg></label><input id='data-d88eb174-f6fd-465a-9416-937684f850b9' class='xr-var-data-in' type='checkbox'><label for='data-d88eb174-f6fd-465a-9416-937684f850b9' title='Show/Hide data repr'><svg class='icon xr-icon-database'><use xlink:href='#icon-database'></use></svg></label><div class='xr-var-attrs'><dl class='xr-attrs'></dl></div><div class='xr-var-data'><pre>array([[4, 4, 4, ..., 4, 4, 4],\n",
       "       [4, 4, 4, ..., 4, 4, 4],\n",
       "       [4, 4, 4, ..., 4, 4, 4],\n",
       "       [4, 4, 4, ..., 4, 4, 4]], shape=(4, 2000))</pre></div></li><li class='xr-var-item'><div class='xr-var-name'><span>largest_eigval</span></div><div class='xr-var-dims'>(chain, draw)</div><div class='xr-var-dtype'>float64</div><div class='xr-var-preview xr-preview'>nan nan nan nan ... nan nan nan nan</div><input id='attrs-5ff1ddc2-fd8a-469d-a384-c3dc6e9ae5ee' class='xr-var-attrs-in' type='checkbox' disabled><label for='attrs-5ff1ddc2-fd8a-469d-a384-c3dc6e9ae5ee' title='Show/Hide attributes'><svg class='icon xr-icon-file-text2'><use xlink:href='#icon-file-text2'></use></svg></label><input id='data-d1fdfef7-f7fb-48fa-8826-2dcd6949a574' class='xr-var-data-in' type='checkbox'><label for='data-d1fdfef7-f7fb-48fa-8826-2dcd6949a574' title='Show/Hide data repr'><svg class='icon xr-icon-database'><use xlink:href='#icon-database'></use></svg></label><div class='xr-var-attrs'><dl class='xr-attrs'></dl></div><div class='xr-var-data'><pre>array([[nan, nan, nan, ..., nan, nan, nan],\n",
       "       [nan, nan, nan, ..., nan, nan, nan],\n",
       "       [nan, nan, nan, ..., nan, nan, nan],\n",
       "       [nan, nan, nan, ..., nan, nan, nan]], shape=(4, 2000))</pre></div></li><li class='xr-var-item'><div class='xr-var-name'><span>lp</span></div><div class='xr-var-dims'>(chain, draw)</div><div class='xr-var-dtype'>float64</div><div class='xr-var-preview xr-preview'>-2.631e+03 ... -2.641e+03</div><input id='attrs-d25fdf20-57f1-4f6a-8c2c-a45975f55cc8' class='xr-var-attrs-in' type='checkbox' disabled><label for='attrs-d25fdf20-57f1-4f6a-8c2c-a45975f55cc8' title='Show/Hide attributes'><svg class='icon xr-icon-file-text2'><use xlink:href='#icon-file-text2'></use></svg></label><input id='data-4ee30622-d31b-46a0-a307-759970b22ff7' class='xr-var-data-in' type='checkbox'><label for='data-4ee30622-d31b-46a0-a307-759970b22ff7' title='Show/Hide data repr'><svg class='icon xr-icon-database'><use xlink:href='#icon-database'></use></svg></label><div class='xr-var-attrs'><dl class='xr-attrs'></dl></div><div class='xr-var-data'><pre>array([[-2631.01601462, -2627.87630757, -2620.61799528, ...,\n",
       "        -2625.00111205, -2619.02689695, -2635.3933893 ],\n",
       "       [-2635.89047165, -2628.00611711, -2625.59772053, ...,\n",
       "        -2632.71312949, -2629.34693229, -2641.00451527],\n",
       "       [-2630.18419728, -2631.15265263, -2630.31712041, ...,\n",
       "        -2643.9896739 , -2632.8446569 , -2641.3485403 ],\n",
       "       [-2636.94389503, -2627.68225086, -2626.93264994, ...,\n",
       "        -2645.00030448, -2647.34091643, -2641.01285388]], shape=(4, 2000))</pre></div></li><li class='xr-var-item'><div class='xr-var-name'><span>smallest_eigval</span></div><div class='xr-var-dims'>(chain, draw)</div><div class='xr-var-dtype'>float64</div><div class='xr-var-preview xr-preview'>nan nan nan nan ... nan nan nan nan</div><input id='attrs-69c41a6c-2d37-4aee-9932-2cc1f4ba60ff' class='xr-var-attrs-in' type='checkbox' disabled><label for='attrs-69c41a6c-2d37-4aee-9932-2cc1f4ba60ff' title='Show/Hide attributes'><svg class='icon xr-icon-file-text2'><use xlink:href='#icon-file-text2'></use></svg></label><input id='data-dfc99afc-9884-4e42-aa9b-4ef32e2c3357' class='xr-var-data-in' type='checkbox'><label for='data-dfc99afc-9884-4e42-aa9b-4ef32e2c3357' title='Show/Hide data repr'><svg class='icon xr-icon-database'><use xlink:href='#icon-database'></use></svg></label><div class='xr-var-attrs'><dl class='xr-attrs'></dl></div><div class='xr-var-data'><pre>array([[nan, nan, nan, ..., nan, nan, nan],\n",
       "       [nan, nan, nan, ..., nan, nan, nan],\n",
       "       [nan, nan, nan, ..., nan, nan, nan],\n",
       "       [nan, nan, nan, ..., nan, nan, nan]], shape=(4, 2000))</pre></div></li><li class='xr-var-item'><div class='xr-var-name'><span>n_steps</span></div><div class='xr-var-dims'>(chain, draw)</div><div class='xr-var-dtype'>float64</div><div class='xr-var-preview xr-preview'>15.0 15.0 15.0 ... 15.0 15.0 15.0</div><input id='attrs-91fcc307-5cc9-4f13-a528-1b4ef7171676' class='xr-var-attrs-in' type='checkbox' disabled><label for='attrs-91fcc307-5cc9-4f13-a528-1b4ef7171676' title='Show/Hide attributes'><svg class='icon xr-icon-file-text2'><use xlink:href='#icon-file-text2'></use></svg></label><input id='data-b6c2650e-a49a-464a-97ed-219e386d8079' class='xr-var-data-in' type='checkbox'><label for='data-b6c2650e-a49a-464a-97ed-219e386d8079' title='Show/Hide data repr'><svg class='icon xr-icon-database'><use xlink:href='#icon-database'></use></svg></label><div class='xr-var-attrs'><dl class='xr-attrs'></dl></div><div class='xr-var-data'><pre>array([[15., 15., 15., ..., 15., 15., 15.],\n",
       "       [15., 15., 15., ..., 15., 15., 15.],\n",
       "       [15., 15., 15., ..., 15., 15., 15.],\n",
       "       [15., 15., 15., ..., 15., 15., 15.]], shape=(4, 2000))</pre></div></li></ul></div></li><li class='xr-section-item'><input id='section-881ec5a0-da53-4759-b9ec-1c5b73d81dd5' class='xr-section-summary-in' type='checkbox'  ><label for='section-881ec5a0-da53-4759-b9ec-1c5b73d81dd5' class='xr-section-summary' >Indexes: <span>(2)</span></label><div class='xr-section-inline-details'></div><div class='xr-section-details'><ul class='xr-var-list'><li class='xr-var-item'><div class='xr-index-name'><div>chain</div></div><div class='xr-index-preview'>PandasIndex</div><input type='checkbox' disabled/><label></label><input id='index-8a5b37eb-eaed-4553-a192-5d6284124f54' class='xr-index-data-in' type='checkbox'/><label for='index-8a5b37eb-eaed-4553-a192-5d6284124f54' title='Show/Hide index repr'><svg class='icon xr-icon-database'><use xlink:href='#icon-database'></use></svg></label><div class='xr-index-data'><pre>PandasIndex(Index([0, 1, 2, 3], dtype=&#x27;int64&#x27;, name=&#x27;chain&#x27;))</pre></div></li><li class='xr-var-item'><div class='xr-index-name'><div>draw</div></div><div class='xr-index-preview'>PandasIndex</div><input type='checkbox' disabled/><label></label><input id='index-7d298f67-ab10-4baa-8a31-0ee84f9d17d5' class='xr-index-data-in' type='checkbox'/><label for='index-7d298f67-ab10-4baa-8a31-0ee84f9d17d5' title='Show/Hide index repr'><svg class='icon xr-icon-database'><use xlink:href='#icon-database'></use></svg></label><div class='xr-index-data'><pre>PandasIndex(Index([   0,    1,    2,    3,    4,    5,    6,    7,    8,    9,\n",
       "       ...\n",
       "       1990, 1991, 1992, 1993, 1994, 1995, 1996, 1997, 1998, 1999],\n",
       "      dtype=&#x27;int64&#x27;, name=&#x27;draw&#x27;, length=2000))</pre></div></li></ul></div></li><li class='xr-section-item'><input id='section-f87f4b2b-4a57-4c0a-be6d-72099943f794' class='xr-section-summary-in' type='checkbox'  checked><label for='section-f87f4b2b-4a57-4c0a-be6d-72099943f794' class='xr-section-summary' >Attributes: <span>(6)</span></label><div class='xr-section-inline-details'></div><div class='xr-section-details'><dl class='xr-attrs'><dt><span>created_at :</span></dt><dd>2025-08-08T17:47:58.695341+00:00</dd><dt><span>arviz_version :</span></dt><dd>0.22.0</dd><dt><span>inference_library :</span></dt><dd>pymc</dd><dt><span>inference_library_version :</span></dt><dd>5.25.1</dd><dt><span>sampling_time :</span></dt><dd>10.95399808883667</dd><dt><span>tuning_steps :</span></dt><dd>1000</dd></dl></div></li></ul></div></div><br></div>\n",
       "                      </ul>\n",
       "                  </div>\n",
       "            </li>\n",
       "            \n",
       "            <li class = \"xr-section-item\">\n",
       "                  <input id=\"idata_observed_dataa918d772-b9a9-4990-8b11-c7225fae7eb3\" class=\"xr-section-summary-in\" type=\"checkbox\">\n",
       "                  <label for=\"idata_observed_dataa918d772-b9a9-4990-8b11-c7225fae7eb3\" class = \"xr-section-summary\">observed_data</label>\n",
       "                  <div class=\"xr-section-inline-details\"></div>\n",
       "                  <div class=\"xr-section-details\">\n",
       "                      <ul id=\"xr-dataset-coord-list\" class=\"xr-var-list\">\n",
       "                          <div style=\"padding-left:2rem;\"><div><svg style=\"position: absolute; width: 0; height: 0; overflow: hidden\">\n",
       "<defs>\n",
       "<symbol id=\"icon-database\" viewBox=\"0 0 32 32\">\n",
       "<path d=\"M16 0c-8.837 0-16 2.239-16 5v4c0 2.761 7.163 5 16 5s16-2.239 16-5v-4c0-2.761-7.163-5-16-5z\"></path>\n",
       "<path d=\"M16 17c-8.837 0-16-2.239-16-5v6c0 2.761 7.163 5 16 5s16-2.239 16-5v-6c0 2.761-7.163 5-16 5z\"></path>\n",
       "<path d=\"M16 26c-8.837 0-16-2.239-16-5v6c0 2.761 7.163 5 16 5s16-2.239 16-5v-6c0 2.761-7.163 5-16 5z\"></path>\n",
       "</symbol>\n",
       "<symbol id=\"icon-file-text2\" viewBox=\"0 0 32 32\">\n",
       "<path d=\"M28.681 7.159c-0.694-0.947-1.662-2.053-2.724-3.116s-2.169-2.030-3.116-2.724c-1.612-1.182-2.393-1.319-2.841-1.319h-15.5c-1.378 0-2.5 1.121-2.5 2.5v27c0 1.378 1.122 2.5 2.5 2.5h23c1.378 0 2.5-1.122 2.5-2.5v-19.5c0-0.448-0.137-1.23-1.319-2.841zM24.543 5.457c0.959 0.959 1.712 1.825 2.268 2.543h-4.811v-4.811c0.718 0.556 1.584 1.309 2.543 2.268zM28 29.5c0 0.271-0.229 0.5-0.5 0.5h-23c-0.271 0-0.5-0.229-0.5-0.5v-27c0-0.271 0.229-0.5 0.5-0.5 0 0 15.499-0 15.5 0v7c0 0.552 0.448 1 1 1h7v19.5z\"></path>\n",
       "<path d=\"M23 26h-14c-0.552 0-1-0.448-1-1s0.448-1 1-1h14c0.552 0 1 0.448 1 1s-0.448 1-1 1z\"></path>\n",
       "<path d=\"M23 22h-14c-0.552 0-1-0.448-1-1s0.448-1 1-1h14c0.552 0 1 0.448 1 1s-0.448 1-1 1z\"></path>\n",
       "<path d=\"M23 18h-14c-0.552 0-1-0.448-1-1s0.448-1 1-1h14c0.552 0 1 0.448 1 1s-0.448 1-1 1z\"></path>\n",
       "</symbol>\n",
       "</defs>\n",
       "</svg>\n",
       "<style>/* CSS stylesheet for displaying xarray objects in jupyterlab.\n",
       " *\n",
       " */\n",
       "\n",
       ":root {\n",
       "  --xr-font-color0: var(\n",
       "    --jp-content-font-color0,\n",
       "    var(--pst-color-text-base rgba(0, 0, 0, 1))\n",
       "  );\n",
       "  --xr-font-color2: var(\n",
       "    --jp-content-font-color2,\n",
       "    var(--pst-color-text-base, rgba(0, 0, 0, 0.54))\n",
       "  );\n",
       "  --xr-font-color3: var(\n",
       "    --jp-content-font-color3,\n",
       "    var(--pst-color-text-base, rgba(0, 0, 0, 0.38))\n",
       "  );\n",
       "  --xr-border-color: var(\n",
       "    --jp-border-color2,\n",
       "    hsl(from var(--pst-color-on-background, white) h s calc(l - 10))\n",
       "  );\n",
       "  --xr-disabled-color: var(\n",
       "    --jp-layout-color3,\n",
       "    hsl(from var(--pst-color-on-background, white) h s calc(l - 40))\n",
       "  );\n",
       "  --xr-background-color: var(\n",
       "    --jp-layout-color0,\n",
       "    var(--pst-color-on-background, white)\n",
       "  );\n",
       "  --xr-background-color-row-even: var(\n",
       "    --jp-layout-color1,\n",
       "    hsl(from var(--pst-color-on-background, white) h s calc(l - 5))\n",
       "  );\n",
       "  --xr-background-color-row-odd: var(\n",
       "    --jp-layout-color2,\n",
       "    hsl(from var(--pst-color-on-background, white) h s calc(l - 15))\n",
       "  );\n",
       "}\n",
       "\n",
       "html[theme=\"dark\"],\n",
       "html[data-theme=\"dark\"],\n",
       "body[data-theme=\"dark\"],\n",
       "body.vscode-dark {\n",
       "  --xr-font-color0: var(\n",
       "    --jp-content-font-color0,\n",
       "    var(--pst-color-text-base, rgba(255, 255, 255, 1))\n",
       "  );\n",
       "  --xr-font-color2: var(\n",
       "    --jp-content-font-color2,\n",
       "    var(--pst-color-text-base, rgba(255, 255, 255, 0.54))\n",
       "  );\n",
       "  --xr-font-color3: var(\n",
       "    --jp-content-font-color3,\n",
       "    var(--pst-color-text-base, rgba(255, 255, 255, 0.38))\n",
       "  );\n",
       "  --xr-border-color: var(\n",
       "    --jp-border-color2,\n",
       "    hsl(from var(--pst-color-on-background, #111111) h s calc(l + 10))\n",
       "  );\n",
       "  --xr-disabled-color: var(\n",
       "    --jp-layout-color3,\n",
       "    hsl(from var(--pst-color-on-background, #111111) h s calc(l + 40))\n",
       "  );\n",
       "  --xr-background-color: var(\n",
       "    --jp-layout-color0,\n",
       "    var(--pst-color-on-background, #111111)\n",
       "  );\n",
       "  --xr-background-color-row-even: var(\n",
       "    --jp-layout-color1,\n",
       "    hsl(from var(--pst-color-on-background, #111111) h s calc(l + 5))\n",
       "  );\n",
       "  --xr-background-color-row-odd: var(\n",
       "    --jp-layout-color2,\n",
       "    hsl(from var(--pst-color-on-background, #111111) h s calc(l + 15))\n",
       "  );\n",
       "}\n",
       "\n",
       ".xr-wrap {\n",
       "  display: block !important;\n",
       "  min-width: 300px;\n",
       "  max-width: 700px;\n",
       "}\n",
       "\n",
       ".xr-text-repr-fallback {\n",
       "  /* fallback to plain text repr when CSS is not injected (untrusted notebook) */\n",
       "  display: none;\n",
       "}\n",
       "\n",
       ".xr-header {\n",
       "  padding-top: 6px;\n",
       "  padding-bottom: 6px;\n",
       "  margin-bottom: 4px;\n",
       "  border-bottom: solid 1px var(--xr-border-color);\n",
       "}\n",
       "\n",
       ".xr-header > div,\n",
       ".xr-header > ul {\n",
       "  display: inline;\n",
       "  margin-top: 0;\n",
       "  margin-bottom: 0;\n",
       "}\n",
       "\n",
       ".xr-obj-type,\n",
       ".xr-array-name {\n",
       "  margin-left: 2px;\n",
       "  margin-right: 10px;\n",
       "}\n",
       "\n",
       ".xr-obj-type {\n",
       "  color: var(--xr-font-color2);\n",
       "}\n",
       "\n",
       ".xr-sections {\n",
       "  padding-left: 0 !important;\n",
       "  display: grid;\n",
       "  grid-template-columns: 150px auto auto 1fr 0 20px 0 20px;\n",
       "}\n",
       "\n",
       ".xr-section-item {\n",
       "  display: contents;\n",
       "}\n",
       "\n",
       ".xr-section-item input {\n",
       "  display: inline-block;\n",
       "  opacity: 0;\n",
       "  height: 0;\n",
       "}\n",
       "\n",
       ".xr-section-item input + label {\n",
       "  color: var(--xr-disabled-color);\n",
       "  border: 2px solid transparent !important;\n",
       "}\n",
       "\n",
       ".xr-section-item input:enabled + label {\n",
       "  cursor: pointer;\n",
       "  color: var(--xr-font-color2);\n",
       "}\n",
       "\n",
       ".xr-section-item input:focus + label {\n",
       "  border: 2px solid var(--xr-font-color0) !important;\n",
       "}\n",
       "\n",
       ".xr-section-item input:enabled + label:hover {\n",
       "  color: var(--xr-font-color0);\n",
       "}\n",
       "\n",
       ".xr-section-summary {\n",
       "  grid-column: 1;\n",
       "  color: var(--xr-font-color2);\n",
       "  font-weight: 500;\n",
       "}\n",
       "\n",
       ".xr-section-summary > span {\n",
       "  display: inline-block;\n",
       "  padding-left: 0.5em;\n",
       "}\n",
       "\n",
       ".xr-section-summary-in:disabled + label {\n",
       "  color: var(--xr-font-color2);\n",
       "}\n",
       "\n",
       ".xr-section-summary-in + label:before {\n",
       "  display: inline-block;\n",
       "  content: \"►\";\n",
       "  font-size: 11px;\n",
       "  width: 15px;\n",
       "  text-align: center;\n",
       "}\n",
       "\n",
       ".xr-section-summary-in:disabled + label:before {\n",
       "  color: var(--xr-disabled-color);\n",
       "}\n",
       "\n",
       ".xr-section-summary-in:checked + label:before {\n",
       "  content: \"▼\";\n",
       "}\n",
       "\n",
       ".xr-section-summary-in:checked + label > span {\n",
       "  display: none;\n",
       "}\n",
       "\n",
       ".xr-section-summary,\n",
       ".xr-section-inline-details {\n",
       "  padding-top: 4px;\n",
       "  padding-bottom: 4px;\n",
       "}\n",
       "\n",
       ".xr-section-inline-details {\n",
       "  grid-column: 2 / -1;\n",
       "}\n",
       "\n",
       ".xr-section-details {\n",
       "  display: none;\n",
       "  grid-column: 1 / -1;\n",
       "  margin-bottom: 5px;\n",
       "}\n",
       "\n",
       ".xr-section-summary-in:checked ~ .xr-section-details {\n",
       "  display: contents;\n",
       "}\n",
       "\n",
       ".xr-array-wrap {\n",
       "  grid-column: 1 / -1;\n",
       "  display: grid;\n",
       "  grid-template-columns: 20px auto;\n",
       "}\n",
       "\n",
       ".xr-array-wrap > label {\n",
       "  grid-column: 1;\n",
       "  vertical-align: top;\n",
       "}\n",
       "\n",
       ".xr-preview {\n",
       "  color: var(--xr-font-color3);\n",
       "}\n",
       "\n",
       ".xr-array-preview,\n",
       ".xr-array-data {\n",
       "  padding: 0 5px !important;\n",
       "  grid-column: 2;\n",
       "}\n",
       "\n",
       ".xr-array-data,\n",
       ".xr-array-in:checked ~ .xr-array-preview {\n",
       "  display: none;\n",
       "}\n",
       "\n",
       ".xr-array-in:checked ~ .xr-array-data,\n",
       ".xr-array-preview {\n",
       "  display: inline-block;\n",
       "}\n",
       "\n",
       ".xr-dim-list {\n",
       "  display: inline-block !important;\n",
       "  list-style: none;\n",
       "  padding: 0 !important;\n",
       "  margin: 0;\n",
       "}\n",
       "\n",
       ".xr-dim-list li {\n",
       "  display: inline-block;\n",
       "  padding: 0;\n",
       "  margin: 0;\n",
       "}\n",
       "\n",
       ".xr-dim-list:before {\n",
       "  content: \"(\";\n",
       "}\n",
       "\n",
       ".xr-dim-list:after {\n",
       "  content: \")\";\n",
       "}\n",
       "\n",
       ".xr-dim-list li:not(:last-child):after {\n",
       "  content: \",\";\n",
       "  padding-right: 5px;\n",
       "}\n",
       "\n",
       ".xr-has-index {\n",
       "  font-weight: bold;\n",
       "}\n",
       "\n",
       ".xr-var-list,\n",
       ".xr-var-item {\n",
       "  display: contents;\n",
       "}\n",
       "\n",
       ".xr-var-item > div,\n",
       ".xr-var-item label,\n",
       ".xr-var-item > .xr-var-name span {\n",
       "  background-color: var(--xr-background-color-row-even);\n",
       "  border-color: var(--xr-background-color-row-odd);\n",
       "  margin-bottom: 0;\n",
       "  padding-top: 2px;\n",
       "}\n",
       "\n",
       ".xr-var-item > .xr-var-name:hover span {\n",
       "  padding-right: 5px;\n",
       "}\n",
       "\n",
       ".xr-var-list > li:nth-child(odd) > div,\n",
       ".xr-var-list > li:nth-child(odd) > label,\n",
       ".xr-var-list > li:nth-child(odd) > .xr-var-name span {\n",
       "  background-color: var(--xr-background-color-row-odd);\n",
       "  border-color: var(--xr-background-color-row-even);\n",
       "}\n",
       "\n",
       ".xr-var-name {\n",
       "  grid-column: 1;\n",
       "}\n",
       "\n",
       ".xr-var-dims {\n",
       "  grid-column: 2;\n",
       "}\n",
       "\n",
       ".xr-var-dtype {\n",
       "  grid-column: 3;\n",
       "  text-align: right;\n",
       "  color: var(--xr-font-color2);\n",
       "}\n",
       "\n",
       ".xr-var-preview {\n",
       "  grid-column: 4;\n",
       "}\n",
       "\n",
       ".xr-index-preview {\n",
       "  grid-column: 2 / 5;\n",
       "  color: var(--xr-font-color2);\n",
       "}\n",
       "\n",
       ".xr-var-name,\n",
       ".xr-var-dims,\n",
       ".xr-var-dtype,\n",
       ".xr-preview,\n",
       ".xr-attrs dt {\n",
       "  white-space: nowrap;\n",
       "  overflow: hidden;\n",
       "  text-overflow: ellipsis;\n",
       "  padding-right: 10px;\n",
       "}\n",
       "\n",
       ".xr-var-name:hover,\n",
       ".xr-var-dims:hover,\n",
       ".xr-var-dtype:hover,\n",
       ".xr-attrs dt:hover {\n",
       "  overflow: visible;\n",
       "  width: auto;\n",
       "  z-index: 1;\n",
       "}\n",
       "\n",
       ".xr-var-attrs,\n",
       ".xr-var-data,\n",
       ".xr-index-data {\n",
       "  display: none;\n",
       "  border-top: 2px dotted var(--xr-background-color);\n",
       "  padding-bottom: 20px !important;\n",
       "  padding-top: 10px !important;\n",
       "}\n",
       "\n",
       ".xr-var-attrs-in + label,\n",
       ".xr-var-data-in + label,\n",
       ".xr-index-data-in + label {\n",
       "  padding: 0 1px;\n",
       "}\n",
       "\n",
       ".xr-var-attrs-in:checked ~ .xr-var-attrs,\n",
       ".xr-var-data-in:checked ~ .xr-var-data,\n",
       ".xr-index-data-in:checked ~ .xr-index-data {\n",
       "  display: block;\n",
       "}\n",
       "\n",
       ".xr-var-data > table {\n",
       "  float: right;\n",
       "}\n",
       "\n",
       ".xr-var-data > pre,\n",
       ".xr-index-data > pre,\n",
       ".xr-var-data > table > tbody > tr {\n",
       "  background-color: transparent !important;\n",
       "}\n",
       "\n",
       ".xr-var-name span,\n",
       ".xr-var-data,\n",
       ".xr-index-name div,\n",
       ".xr-index-data,\n",
       ".xr-attrs {\n",
       "  padding-left: 25px !important;\n",
       "}\n",
       "\n",
       ".xr-attrs,\n",
       ".xr-var-attrs,\n",
       ".xr-var-data,\n",
       ".xr-index-data {\n",
       "  grid-column: 1 / -1;\n",
       "}\n",
       "\n",
       "dl.xr-attrs {\n",
       "  padding: 0;\n",
       "  margin: 0;\n",
       "  display: grid;\n",
       "  grid-template-columns: 125px auto;\n",
       "}\n",
       "\n",
       ".xr-attrs dt,\n",
       ".xr-attrs dd {\n",
       "  padding: 0;\n",
       "  margin: 0;\n",
       "  float: left;\n",
       "  padding-right: 10px;\n",
       "  width: auto;\n",
       "}\n",
       "\n",
       ".xr-attrs dt {\n",
       "  font-weight: normal;\n",
       "  grid-column: 1;\n",
       "}\n",
       "\n",
       ".xr-attrs dt:hover span {\n",
       "  display: inline-block;\n",
       "  background: var(--xr-background-color);\n",
       "  padding-right: 10px;\n",
       "}\n",
       "\n",
       ".xr-attrs dd {\n",
       "  grid-column: 2;\n",
       "  white-space: pre-wrap;\n",
       "  word-break: break-all;\n",
       "}\n",
       "\n",
       ".xr-icon-database,\n",
       ".xr-icon-file-text2,\n",
       ".xr-no-icon {\n",
       "  display: inline-block;\n",
       "  vertical-align: middle;\n",
       "  width: 1em;\n",
       "  height: 1.5em !important;\n",
       "  stroke-width: 0;\n",
       "  stroke: currentColor;\n",
       "  fill: currentColor;\n",
       "}\n",
       "\n",
       ".xr-var-attrs-in:checked + label > .xr-icon-file-text2,\n",
       ".xr-var-data-in:checked + label > .xr-icon-database,\n",
       ".xr-index-data-in:checked + label > .xr-icon-database {\n",
       "  color: var(--xr-font-color0);\n",
       "  filter: drop-shadow(1px 1px 5px var(--xr-font-color2));\n",
       "  stroke-width: 0.8px;\n",
       "}\n",
       "</style><pre class='xr-text-repr-fallback'>&lt;xarray.Dataset&gt; Size: 68kB\n",
       "Dimensions:      (y_obs_dim_0: 4247)\n",
       "Coordinates:\n",
       "  * y_obs_dim_0  (y_obs_dim_0) int64 34kB 0 1 2 3 4 ... 4242 4243 4244 4245 4246\n",
       "Data variables:\n",
       "    y_obs        (y_obs_dim_0) int64 34kB 0 0 1 0 1 1 1 1 1 ... 1 0 0 0 1 0 0 0\n",
       "Attributes:\n",
       "    created_at:                 2025-08-08T17:47:58.697559+00:00\n",
       "    arviz_version:              0.22.0\n",
       "    inference_library:          pymc\n",
       "    inference_library_version:  5.25.1</pre><div class='xr-wrap' style='display:none'><div class='xr-header'><div class='xr-obj-type'>xarray.Dataset</div></div><ul class='xr-sections'><li class='xr-section-item'><input id='section-e53acce9-66e3-403d-b0d4-03a35fce526c' class='xr-section-summary-in' type='checkbox' disabled ><label for='section-e53acce9-66e3-403d-b0d4-03a35fce526c' class='xr-section-summary'  title='Expand/collapse section'>Dimensions:</label><div class='xr-section-inline-details'><ul class='xr-dim-list'><li><span class='xr-has-index'>y_obs_dim_0</span>: 4247</li></ul></div><div class='xr-section-details'></div></li><li class='xr-section-item'><input id='section-032e208a-f7c0-4e80-a705-fc144159e72a' class='xr-section-summary-in' type='checkbox'  checked><label for='section-032e208a-f7c0-4e80-a705-fc144159e72a' class='xr-section-summary' >Coordinates: <span>(1)</span></label><div class='xr-section-inline-details'></div><div class='xr-section-details'><ul class='xr-var-list'><li class='xr-var-item'><div class='xr-var-name'><span class='xr-has-index'>y_obs_dim_0</span></div><div class='xr-var-dims'>(y_obs_dim_0)</div><div class='xr-var-dtype'>int64</div><div class='xr-var-preview xr-preview'>0 1 2 3 4 ... 4243 4244 4245 4246</div><input id='attrs-b0e573e4-0816-4602-9150-eb676a64fd50' class='xr-var-attrs-in' type='checkbox' disabled><label for='attrs-b0e573e4-0816-4602-9150-eb676a64fd50' title='Show/Hide attributes'><svg class='icon xr-icon-file-text2'><use xlink:href='#icon-file-text2'></use></svg></label><input id='data-f022c313-72a9-49b2-bd9b-87c54eb0474c' class='xr-var-data-in' type='checkbox'><label for='data-f022c313-72a9-49b2-bd9b-87c54eb0474c' title='Show/Hide data repr'><svg class='icon xr-icon-database'><use xlink:href='#icon-database'></use></svg></label><div class='xr-var-attrs'><dl class='xr-attrs'></dl></div><div class='xr-var-data'><pre>array([   0,    1,    2, ..., 4244, 4245, 4246], shape=(4247,))</pre></div></li></ul></div></li><li class='xr-section-item'><input id='section-683add16-ea2e-47c7-87c9-03214e316d7d' class='xr-section-summary-in' type='checkbox'  checked><label for='section-683add16-ea2e-47c7-87c9-03214e316d7d' class='xr-section-summary' >Data variables: <span>(1)</span></label><div class='xr-section-inline-details'></div><div class='xr-section-details'><ul class='xr-var-list'><li class='xr-var-item'><div class='xr-var-name'><span>y_obs</span></div><div class='xr-var-dims'>(y_obs_dim_0)</div><div class='xr-var-dtype'>int64</div><div class='xr-var-preview xr-preview'>0 0 1 0 1 1 1 1 ... 1 0 0 0 1 0 0 0</div><input id='attrs-fe988e50-ae8d-42e1-8d05-83f18d93c8c5' class='xr-var-attrs-in' type='checkbox' disabled><label for='attrs-fe988e50-ae8d-42e1-8d05-83f18d93c8c5' title='Show/Hide attributes'><svg class='icon xr-icon-file-text2'><use xlink:href='#icon-file-text2'></use></svg></label><input id='data-06280566-710f-4cfc-bba2-f427486f3ba7' class='xr-var-data-in' type='checkbox'><label for='data-06280566-710f-4cfc-bba2-f427486f3ba7' title='Show/Hide data repr'><svg class='icon xr-icon-database'><use xlink:href='#icon-database'></use></svg></label><div class='xr-var-attrs'><dl class='xr-attrs'></dl></div><div class='xr-var-data'><pre>array([0, 0, 1, ..., 0, 0, 0], shape=(4247,))</pre></div></li></ul></div></li><li class='xr-section-item'><input id='section-ea4d36ad-408f-400c-b0d3-0ffb50485a65' class='xr-section-summary-in' type='checkbox'  ><label for='section-ea4d36ad-408f-400c-b0d3-0ffb50485a65' class='xr-section-summary' >Indexes: <span>(1)</span></label><div class='xr-section-inline-details'></div><div class='xr-section-details'><ul class='xr-var-list'><li class='xr-var-item'><div class='xr-index-name'><div>y_obs_dim_0</div></div><div class='xr-index-preview'>PandasIndex</div><input type='checkbox' disabled/><label></label><input id='index-27300835-7e1b-4170-bcb3-446cd1e33e94' class='xr-index-data-in' type='checkbox'/><label for='index-27300835-7e1b-4170-bcb3-446cd1e33e94' title='Show/Hide index repr'><svg class='icon xr-icon-database'><use xlink:href='#icon-database'></use></svg></label><div class='xr-index-data'><pre>PandasIndex(Index([   0,    1,    2,    3,    4,    5,    6,    7,    8,    9,\n",
       "       ...\n",
       "       4237, 4238, 4239, 4240, 4241, 4242, 4243, 4244, 4245, 4246],\n",
       "      dtype=&#x27;int64&#x27;, name=&#x27;y_obs_dim_0&#x27;, length=4247))</pre></div></li></ul></div></li><li class='xr-section-item'><input id='section-3c461042-54db-4eb2-b359-704b7a91ddc1' class='xr-section-summary-in' type='checkbox'  checked><label for='section-3c461042-54db-4eb2-b359-704b7a91ddc1' class='xr-section-summary' >Attributes: <span>(4)</span></label><div class='xr-section-inline-details'></div><div class='xr-section-details'><dl class='xr-attrs'><dt><span>created_at :</span></dt><dd>2025-08-08T17:47:58.697559+00:00</dd><dt><span>arviz_version :</span></dt><dd>0.22.0</dd><dt><span>inference_library :</span></dt><dd>pymc</dd><dt><span>inference_library_version :</span></dt><dd>5.25.1</dd></dl></div></li></ul></div></div><br></div>\n",
       "                      </ul>\n",
       "                  </div>\n",
       "            </li>\n",
       "            \n",
       "              </ul>\n",
       "            </div>\n",
       "            <style> /* CSS stylesheet for displaying InferenceData objects in jupyterlab.\n",
       " *\n",
       " */\n",
       "\n",
       ":root {\n",
       "  --xr-font-color0: var(--jp-content-font-color0, rgba(0, 0, 0, 1));\n",
       "  --xr-font-color2: var(--jp-content-font-color2, rgba(0, 0, 0, 0.54));\n",
       "  --xr-font-color3: var(--jp-content-font-color3, rgba(0, 0, 0, 0.38));\n",
       "  --xr-border-color: var(--jp-border-color2, #e0e0e0);\n",
       "  --xr-disabled-color: var(--jp-layout-color3, #bdbdbd);\n",
       "  --xr-background-color: var(--jp-layout-color0, white);\n",
       "  --xr-background-color-row-even: var(--jp-layout-color1, white);\n",
       "  --xr-background-color-row-odd: var(--jp-layout-color2, #eeeeee);\n",
       "}\n",
       "\n",
       "html[theme=dark],\n",
       "body.vscode-dark {\n",
       "  --xr-font-color0: rgba(255, 255, 255, 1);\n",
       "  --xr-font-color2: rgba(255, 255, 255, 0.54);\n",
       "  --xr-font-color3: rgba(255, 255, 255, 0.38);\n",
       "  --xr-border-color: #1F1F1F;\n",
       "  --xr-disabled-color: #515151;\n",
       "  --xr-background-color: #111111;\n",
       "  --xr-background-color-row-even: #111111;\n",
       "  --xr-background-color-row-odd: #313131;\n",
       "}\n",
       "\n",
       ".xr-wrap {\n",
       "  display: block;\n",
       "  min-width: 300px;\n",
       "  max-width: 700px;\n",
       "}\n",
       "\n",
       ".xr-text-repr-fallback {\n",
       "  /* fallback to plain text repr when CSS is not injected (untrusted notebook) */\n",
       "  display: none;\n",
       "}\n",
       "\n",
       ".xr-header {\n",
       "  padding-top: 6px;\n",
       "  padding-bottom: 6px;\n",
       "  margin-bottom: 4px;\n",
       "  border-bottom: solid 1px var(--xr-border-color);\n",
       "}\n",
       "\n",
       ".xr-header > div,\n",
       ".xr-header > ul {\n",
       "  display: inline;\n",
       "  margin-top: 0;\n",
       "  margin-bottom: 0;\n",
       "}\n",
       "\n",
       ".xr-obj-type,\n",
       ".xr-array-name {\n",
       "  margin-left: 2px;\n",
       "  margin-right: 10px;\n",
       "}\n",
       "\n",
       ".xr-obj-type {\n",
       "  color: var(--xr-font-color2);\n",
       "}\n",
       "\n",
       ".xr-sections {\n",
       "  padding-left: 0 !important;\n",
       "  display: grid;\n",
       "  grid-template-columns: 150px auto auto 1fr 20px 20px;\n",
       "}\n",
       "\n",
       ".xr-sections.group-sections {\n",
       "  grid-template-columns: auto;\n",
       "}\n",
       "\n",
       ".xr-section-item {\n",
       "  display: contents;\n",
       "}\n",
       "\n",
       ".xr-section-item input {\n",
       "  display: none;\n",
       "}\n",
       "\n",
       ".xr-section-item input + label {\n",
       "  color: var(--xr-disabled-color);\n",
       "}\n",
       "\n",
       ".xr-section-item input:enabled + label {\n",
       "  cursor: pointer;\n",
       "  color: var(--xr-font-color2);\n",
       "}\n",
       "\n",
       ".xr-section-item input:enabled + label:hover {\n",
       "  color: var(--xr-font-color0);\n",
       "}\n",
       "\n",
       ".xr-section-summary {\n",
       "  grid-column: 1;\n",
       "  color: var(--xr-font-color2);\n",
       "  font-weight: 500;\n",
       "}\n",
       "\n",
       ".xr-section-summary > span {\n",
       "  display: inline-block;\n",
       "  padding-left: 0.5em;\n",
       "}\n",
       "\n",
       ".xr-section-summary-in:disabled + label {\n",
       "  color: var(--xr-font-color2);\n",
       "}\n",
       "\n",
       ".xr-section-summary-in + label:before {\n",
       "  display: inline-block;\n",
       "  content: '►';\n",
       "  font-size: 11px;\n",
       "  width: 15px;\n",
       "  text-align: center;\n",
       "}\n",
       "\n",
       ".xr-section-summary-in:disabled + label:before {\n",
       "  color: var(--xr-disabled-color);\n",
       "}\n",
       "\n",
       ".xr-section-summary-in:checked + label:before {\n",
       "  content: '▼';\n",
       "}\n",
       "\n",
       ".xr-section-summary-in:checked + label > span {\n",
       "  display: none;\n",
       "}\n",
       "\n",
       ".xr-section-summary,\n",
       ".xr-section-inline-details {\n",
       "  padding-top: 4px;\n",
       "  padding-bottom: 4px;\n",
       "}\n",
       "\n",
       ".xr-section-inline-details {\n",
       "  grid-column: 2 / -1;\n",
       "}\n",
       "\n",
       ".xr-section-details {\n",
       "  display: none;\n",
       "  grid-column: 1 / -1;\n",
       "  margin-bottom: 5px;\n",
       "}\n",
       "\n",
       ".xr-section-summary-in:checked ~ .xr-section-details {\n",
       "  display: contents;\n",
       "}\n",
       "\n",
       ".xr-array-wrap {\n",
       "  grid-column: 1 / -1;\n",
       "  display: grid;\n",
       "  grid-template-columns: 20px auto;\n",
       "}\n",
       "\n",
       ".xr-array-wrap > label {\n",
       "  grid-column: 1;\n",
       "  vertical-align: top;\n",
       "}\n",
       "\n",
       ".xr-preview {\n",
       "  color: var(--xr-font-color3);\n",
       "}\n",
       "\n",
       ".xr-array-preview,\n",
       ".xr-array-data {\n",
       "  padding: 0 5px !important;\n",
       "  grid-column: 2;\n",
       "}\n",
       "\n",
       ".xr-array-data,\n",
       ".xr-array-in:checked ~ .xr-array-preview {\n",
       "  display: none;\n",
       "}\n",
       "\n",
       ".xr-array-in:checked ~ .xr-array-data,\n",
       ".xr-array-preview {\n",
       "  display: inline-block;\n",
       "}\n",
       "\n",
       ".xr-dim-list {\n",
       "  display: inline-block !important;\n",
       "  list-style: none;\n",
       "  padding: 0 !important;\n",
       "  margin: 0;\n",
       "}\n",
       "\n",
       ".xr-dim-list li {\n",
       "  display: inline-block;\n",
       "  padding: 0;\n",
       "  margin: 0;\n",
       "}\n",
       "\n",
       ".xr-dim-list:before {\n",
       "  content: '(';\n",
       "}\n",
       "\n",
       ".xr-dim-list:after {\n",
       "  content: ')';\n",
       "}\n",
       "\n",
       ".xr-dim-list li:not(:last-child):after {\n",
       "  content: ',';\n",
       "  padding-right: 5px;\n",
       "}\n",
       "\n",
       ".xr-has-index {\n",
       "  font-weight: bold;\n",
       "}\n",
       "\n",
       ".xr-var-list,\n",
       ".xr-var-item {\n",
       "  display: contents;\n",
       "}\n",
       "\n",
       ".xr-var-item > div,\n",
       ".xr-var-item label,\n",
       ".xr-var-item > .xr-var-name span {\n",
       "  background-color: var(--xr-background-color-row-even);\n",
       "  margin-bottom: 0;\n",
       "}\n",
       "\n",
       ".xr-var-item > .xr-var-name:hover span {\n",
       "  padding-right: 5px;\n",
       "}\n",
       "\n",
       ".xr-var-list > li:nth-child(odd) > div,\n",
       ".xr-var-list > li:nth-child(odd) > label,\n",
       ".xr-var-list > li:nth-child(odd) > .xr-var-name span {\n",
       "  background-color: var(--xr-background-color-row-odd);\n",
       "}\n",
       "\n",
       ".xr-var-name {\n",
       "  grid-column: 1;\n",
       "}\n",
       "\n",
       ".xr-var-dims {\n",
       "  grid-column: 2;\n",
       "}\n",
       "\n",
       ".xr-var-dtype {\n",
       "  grid-column: 3;\n",
       "  text-align: right;\n",
       "  color: var(--xr-font-color2);\n",
       "}\n",
       "\n",
       ".xr-var-preview {\n",
       "  grid-column: 4;\n",
       "}\n",
       "\n",
       ".xr-var-name,\n",
       ".xr-var-dims,\n",
       ".xr-var-dtype,\n",
       ".xr-preview,\n",
       ".xr-attrs dt {\n",
       "  white-space: nowrap;\n",
       "  overflow: hidden;\n",
       "  text-overflow: ellipsis;\n",
       "  padding-right: 10px;\n",
       "}\n",
       "\n",
       ".xr-var-name:hover,\n",
       ".xr-var-dims:hover,\n",
       ".xr-var-dtype:hover,\n",
       ".xr-attrs dt:hover {\n",
       "  overflow: visible;\n",
       "  width: auto;\n",
       "  z-index: 1;\n",
       "}\n",
       "\n",
       ".xr-var-attrs,\n",
       ".xr-var-data {\n",
       "  display: none;\n",
       "  background-color: var(--xr-background-color) !important;\n",
       "  padding-bottom: 5px !important;\n",
       "}\n",
       "\n",
       ".xr-var-attrs-in:checked ~ .xr-var-attrs,\n",
       ".xr-var-data-in:checked ~ .xr-var-data {\n",
       "  display: block;\n",
       "}\n",
       "\n",
       ".xr-var-data > table {\n",
       "  float: right;\n",
       "}\n",
       "\n",
       ".xr-var-name span,\n",
       ".xr-var-data,\n",
       ".xr-attrs {\n",
       "  padding-left: 25px !important;\n",
       "}\n",
       "\n",
       ".xr-attrs,\n",
       ".xr-var-attrs,\n",
       ".xr-var-data {\n",
       "  grid-column: 1 / -1;\n",
       "}\n",
       "\n",
       "dl.xr-attrs {\n",
       "  padding: 0;\n",
       "  margin: 0;\n",
       "  display: grid;\n",
       "  grid-template-columns: 125px auto;\n",
       "}\n",
       "\n",
       ".xr-attrs dt,\n",
       ".xr-attrs dd {\n",
       "  padding: 0;\n",
       "  margin: 0;\n",
       "  float: left;\n",
       "  padding-right: 10px;\n",
       "  width: auto;\n",
       "}\n",
       "\n",
       ".xr-attrs dt {\n",
       "  font-weight: normal;\n",
       "  grid-column: 1;\n",
       "}\n",
       "\n",
       ".xr-attrs dt:hover span {\n",
       "  display: inline-block;\n",
       "  background: var(--xr-background-color);\n",
       "  padding-right: 10px;\n",
       "}\n",
       "\n",
       ".xr-attrs dd {\n",
       "  grid-column: 2;\n",
       "  white-space: pre-wrap;\n",
       "  word-break: break-all;\n",
       "}\n",
       "\n",
       ".xr-icon-database,\n",
       ".xr-icon-file-text2 {\n",
       "  display: inline-block;\n",
       "  vertical-align: middle;\n",
       "  width: 1em;\n",
       "  height: 1.5em !important;\n",
       "  stroke-width: 0;\n",
       "  stroke: currentColor;\n",
       "  fill: currentColor;\n",
       "}\n",
       ".xr-wrap{width:700px!important;} </style>"
      ],
      "text/plain": [
       "Inference data with groups:\n",
       "\t> posterior\n",
       "\t> sample_stats\n",
       "\t> observed_data"
      ]
     },
     "execution_count": 601,
     "metadata": {},
     "output_type": "execute_result"
    }
   ],
   "source": [
    "fit_data, provider_encoder = fit_hierarchical_logistic_model(\n",
    "    df=data_outcome_compare,\n",
    "    covariates=[\"member_sex\",\"health_risk_assesment\"],\n",
    "    target_col=\"outcome\",\n",
    "    provider_col=\"servicing_provider_id\"\n",
    ")\n",
    "\n",
    "fit_data"
   ]
  },
  {
   "cell_type": "code",
   "execution_count": 603,
   "id": "08500565",
   "metadata": {},
   "outputs": [
    {
     "data": {
      "image/png": "[encoded data removed]",
      "text/plain": [
       "<Figure size 1000x600 with 1 Axes>"
      ]
     },
     "metadata": {},
     "output_type": "display_data"
    },
    {
     "data": {
      "image/png": "[encoded data removed]",
      "text/plain": [
       "<Figure size 800x500 with 1 Axes>"
      ]
     },
     "metadata": {},
     "output_type": "display_data"
    }
   ],
   "source": [
    "plot_model_coefficients(fit_data, provider_encoder, [\"member_sex\", \"health_risk_assesment\"])"
   ]
  },
  {
   "cell_type": "code",
   "execution_count": 604,
   "id": "71837399",
   "metadata": {},
   "outputs": [],
   "source": [
    "results = az.summary(fit_data)"
   ]
  },
  {
   "cell_type": "code",
   "execution_count": null,
   "id": "1e394025",
   "metadata": {},
   "outputs": [],
   "source": [
    "# lets map back to provder effects \n",
    "mu_provider = fit_data.posterior[\"mu_provider\"]\n",
    "provider_means = mu_provider.mean(dim=(\"chain\", \"draw\")).values\n",
    "provider_ids = provider_encoder.inverse_transform(np.arange(len(provider_means)))"
   ]
  },
  {
   "cell_type": "code",
   "execution_count": null,
   "id": "c7e94dda",
   "metadata": {},
   "outputs": [],
   "source": [
    "provider_effects_df = pd.DataFrame({\n",
    "    \"provider_id\": provider_ids,\n",
    "    \"mu_provider_mean\": provider_means\n",
    "})"
   ]
  },
  {
   "cell_type": "code",
   "execution_count": null,
   "id": "a8c851f2",
   "metadata": {},
   "outputs": [
    {
     "data": {
      "application/vnd.plotly.v1+json": {
       "config": {
        "plotlyServerURL": "https://plot.ly"
       },
       "data": [
        {
         "bingroup": "x",
         "hovertemplate": "variable=mu_provider_mean<br>value=%{x}<br>count=%{y}<extra></extra>",
         "legendgroup": "mu_provider_mean",
         "marker": {
          "color": "#636efa",
          "pattern": {
           "shape": ""
          }
         },
         "name": "mu_provider_mean",
         "orientation": "v",
         "showlegend": true,
         "type": "histogram",
         "x": {
          "bdata": "O0QSSYb/jT+GFAm4Fa+Hv1sSvrxdhYS/4orx+3xTXj9gnoQD7wShP5YJB3VryXC/qzmmI186Xr8Ea//df0+avyJg91DI9X2/mJd47BHPk79lCpusoy6UPypt7BQ64XS/enV11yDvir81r1+tj5xBPyS/n1EORG0/9zHqJH1Qkr8cJvYp5Udrv9itAO+dCIu/mP71FMiA8T6tLCRTSouVv6W3ZpTR8HG/qfzB23pyoz+B3kZMEtp8P238Hhtop3w/2DPjFz/ZfT+F7nSLJBZ/PzlDV4Iyt3E/bfFxJd08lj8OGp9m59pxv4mqIvQBrYu/dVhMbA7Lc7/FsVztOJJ0P1oFdaqrgVw/eFspp7uFg7+OeYk4IZuav2NVlXS3c4e/ez70bpkXdT8j5aJAkXKkP4wHX+C7qJ+/TAAWfiTPiD8QXLrhBXJ/P61vUmFx0X8/S9Y9/+xkfz+u//wwfAmav7l+WrZ5uZY/KOOaB2JoX7/yYGrr6WGUP6Sm9w/DR6G/XTqQDjPrib/m7MIlKWh9P6iBPYyc6Wa/J/sX2YekOT/HO1JVcO5nv4Y35xDF3II/VSTToN77RT8mXf39Wk2Qv1/uVlJ7IKO/TdNc9+PFbL8ehGb1TCKEP7eXA4JYgoC/Ixa7lSpGVj892w3gp1YPv3E9CjqgDHM/3aJTMdyokz86drJ2D8ehPwbfWUTcCag/oJFv4RynjL/kmxn0hw2Gv2R3Zs/xMIs/LmeB+uwwjL8GHH4JzwV0P8WrqrLM4IA/t/VYFfd5X79+zuBNGTeav9l7qc7LhXm/HK3TN6cAkr/HhltItRqRPzNEVcuKsaQ/+tXWWeIkoD831ibQgYJwP3M3j1x3t1a/VhA5bww3Rb8ludoPzv2Yv424O3McRJs/5UFyOmVHg7/+l2ELSmV/vzSo1GW6H3a/qkKSNo+Xiz8YfqEPRrKeP64mYVIe63+/o0tz3t7VmL/jhDH/CECiP7RGmVv7N5u/CKYu/fXrn7/Z0/nKxxeFvypX9Zvm1IQ/",
          "dtype": "f8"
         },
         "xaxis": "x",
         "yaxis": "y"
        }
       ],
       "layout": {
        "barmode": "relative",
        "legend": {
         "title": {
          "text": "variable"
         },
         "tracegroupgap": 0
        },
        "margin": {
         "t": 60
        },
        "template": {
         "data": {
          "bar": [
           {
            "error_x": {
             "color": "#2a3f5f"
            },
            "error_y": {
             "color": "#2a3f5f"
            },
            "marker": {
             "line": {
              "color": "#E5ECF6",
              "width": 0.5
             },
             "pattern": {
              "fillmode": "overlay",
              "size": 10,
              "solidity": 0.2
             }
            },
            "type": "bar"
           }
          ],
          "barpolar": [
           {
            "marker": {
             "line": {
              "color": "#E5ECF6",
              "width": 0.5
             },
             "pattern": {
              "fillmode": "overlay",
              "size": 10,
              "solidity": 0.2
             }
            },
            "type": "barpolar"
           }
          ],
          "carpet": [
           {
            "aaxis": {
             "endlinecolor": "#2a3f5f",
             "gridcolor": "white",
             "linecolor": "white",
             "minorgridcolor": "white",
             "startlinecolor": "#2a3f5f"
            },
            "baxis": {
             "endlinecolor": "#2a3f5f",
             "gridcolor": "white",
             "linecolor": "white",
             "minorgridcolor": "white",
             "startlinecolor": "#2a3f5f"
            },
            "type": "carpet"
           }
          ],
          "choropleth": [
           {
            "colorbar": {
             "outlinewidth": 0,
             "ticks": ""
            },
            "type": "choropleth"
           }
          ],
          "contour": [
           {
            "colorbar": {
             "outlinewidth": 0,
             "ticks": ""
            },
            "colorscale": [
             [
              0,
              "#0d0887"
             ],
             [
              0.1111111111111111,
              "#46039f"
             ],
             [
              0.2222222222222222,
              "#7201a8"
             ],
             [
              0.3333333333333333,
              "#9c179e"
             ],
             [
              0.4444444444444444,
              "#bd3786"
             ],
             [
              0.5555555555555556,
              "#d8576b"
             ],
             [
              0.6666666666666666,
              "#ed7953"
             ],
             [
              0.7777777777777778,
              "#fb9f3a"
             ],
             [
              0.8888888888888888,
              "#fdca26"
             ],
             [
              1,
              "#f0f921"
             ]
            ],
            "type": "contour"
           }
          ],
          "contourcarpet": [
           {
            "colorbar": {
             "outlinewidth": 0,
             "ticks": ""
            },
            "type": "contourcarpet"
           }
          ],
          "heatmap": [
           {
            "colorbar": {
             "outlinewidth": 0,
             "ticks": ""
            },
            "colorscale": [
             [
              0,
              "#0d0887"
             ],
             [
              0.1111111111111111,
              "#46039f"
             ],
             [
              0.2222222222222222,
              "#7201a8"
             ],
             [
              0.3333333333333333,
              "#9c179e"
             ],
             [
              0.4444444444444444,
              "#bd3786"
             ],
             [
              0.5555555555555556,
              "#d8576b"
             ],
             [
              0.6666666666666666,
              "#ed7953"
             ],
             [
              0.7777777777777778,
              "#fb9f3a"
             ],
             [
              0.8888888888888888,
              "#fdca26"
             ],
             [
              1,
              "#f0f921"
             ]
            ],
            "type": "heatmap"
           }
          ],
          "histogram": [
           {
            "marker": {
             "pattern": {
              "fillmode": "overlay",
              "size": 10,
              "solidity": 0.2
             }
            },
            "type": "histogram"
           }
          ],
          "histogram2d": [
           {
            "colorbar": {
             "outlinewidth": 0,
             "ticks": ""
            },
            "colorscale": [
             [
              0,
              "#0d0887"
             ],
             [
              0.1111111111111111,
              "#46039f"
             ],
             [
              0.2222222222222222,
              "#7201a8"
             ],
             [
              0.3333333333333333,
              "#9c179e"
             ],
             [
              0.4444444444444444,
              "#bd3786"
             ],
             [
              0.5555555555555556,
              "#d8576b"
             ],
             [
              0.6666666666666666,
              "#ed7953"
             ],
             [
              0.7777777777777778,
              "#fb9f3a"
             ],
             [
              0.8888888888888888,
              "#fdca26"
             ],
             [
              1,
              "#f0f921"
             ]
            ],
            "type": "histogram2d"
           }
          ],
          "histogram2dcontour": [
           {
            "colorbar": {
             "outlinewidth": 0,
             "ticks": ""
            },
            "colorscale": [
             [
              0,
              "#0d0887"
             ],
             [
              0.1111111111111111,
              "#46039f"
             ],
             [
              0.2222222222222222,
              "#7201a8"
             ],
             [
              0.3333333333333333,
              "#9c179e"
             ],
             [
              0.4444444444444444,
              "#bd3786"
             ],
             [
              0.5555555555555556,
              "#d8576b"
             ],
             [
              0.6666666666666666,
              "#ed7953"
             ],
             [
              0.7777777777777778,
              "#fb9f3a"
             ],
             [
              0.8888888888888888,
              "#fdca26"
             ],
             [
              1,
              "#f0f921"
             ]
            ],
            "type": "histogram2dcontour"
           }
          ],
          "mesh3d": [
           {
            "colorbar": {
             "outlinewidth": 0,
             "ticks": ""
            },
            "type": "mesh3d"
           }
          ],
          "parcoords": [
           {
            "line": {
             "colorbar": {
              "outlinewidth": 0,
              "ticks": ""
             }
            },
            "type": "parcoords"
           }
          ],
          "pie": [
           {
            "automargin": true,
            "type": "pie"
           }
          ],
          "scatter": [
           {
            "fillpattern": {
             "fillmode": "overlay",
             "size": 10,
             "solidity": 0.2
            },
            "type": "scatter"
           }
          ],
          "scatter3d": [
           {
            "line": {
             "colorbar": {
              "outlinewidth": 0,
              "ticks": ""
             }
            },
            "marker": {
             "colorbar": {
              "outlinewidth": 0,
              "ticks": ""
             }
            },
            "type": "scatter3d"
           }
          ],
          "scattercarpet": [
           {
            "marker": {
             "colorbar": {
              "outlinewidth": 0,
              "ticks": ""
             }
            },
            "type": "scattercarpet"
           }
          ],
          "scattergeo": [
           {
            "marker": {
             "colorbar": {
              "outlinewidth": 0,
              "ticks": ""
             }
            },
            "type": "scattergeo"
           }
          ],
          "scattergl": [
           {
            "marker": {
             "colorbar": {
              "outlinewidth": 0,
              "ticks": ""
             }
            },
            "type": "scattergl"
           }
          ],
          "scattermap": [
           {
            "marker": {
             "colorbar": {
              "outlinewidth": 0,
              "ticks": ""
             }
            },
            "type": "scattermap"
           }
          ],
          "scattermapbox": [
           {
            "marker": {
             "colorbar": {
              "outlinewidth": 0,
              "ticks": ""
             }
            },
            "type": "scattermapbox"
           }
          ],
          "scatterpolar": [
           {
            "marker": {
             "colorbar": {
              "outlinewidth": 0,
              "ticks": ""
             }
            },
            "type": "scatterpolar"
           }
          ],
          "scatterpolargl": [
           {
            "marker": {
             "colorbar": {
              "outlinewidth": 0,
              "ticks": ""
             }
            },
            "type": "scatterpolargl"
           }
          ],
          "scatterternary": [
           {
            "marker": {
             "colorbar": {
              "outlinewidth": 0,
              "ticks": ""
             }
            },
            "type": "scatterternary"
           }
          ],
          "surface": [
           {
            "colorbar": {
             "outlinewidth": 0,
             "ticks": ""
            },
            "colorscale": [
             [
              0,
              "#0d0887"
             ],
             [
              0.1111111111111111,
              "#46039f"
             ],
             [
              0.2222222222222222,
              "#7201a8"
             ],
             [
              0.3333333333333333,
              "#9c179e"
             ],
             [
              0.4444444444444444,
              "#bd3786"
             ],
             [
              0.5555555555555556,
              "#d8576b"
             ],
             [
              0.6666666666666666,
              "#ed7953"
             ],
             [
              0.7777777777777778,
              "#fb9f3a"
             ],
             [
              0.8888888888888888,
              "#fdca26"
             ],
             [
              1,
              "#f0f921"
             ]
            ],
            "type": "surface"
           }
          ],
          "table": [
           {
            "cells": {
             "fill": {
              "color": "#EBF0F8"
             },
             "line": {
              "color": "white"
             }
            },
            "header": {
             "fill": {
              "color": "#C8D4E3"
             },
             "line": {
              "color": "white"
             }
            },
            "type": "table"
           }
          ]
         },
         "layout": {
          "annotationdefaults": {
           "arrowcolor": "#2a3f5f",
           "arrowhead": 0,
           "arrowwidth": 1
          },
          "autotypenumbers": "strict",
          "coloraxis": {
           "colorbar": {
            "outlinewidth": 0,
            "ticks": ""
           }
          },
          "colorscale": {
           "diverging": [
            [
             0,
             "#8e0152"
            ],
            [
             0.1,
             "#c51b7d"
            ],
            [
             0.2,
             "#de77ae"
            ],
            [
             0.3,
             "#f1b6da"
            ],
            [
             0.4,
             "#fde0ef"
            ],
            [
             0.5,
             "#f7f7f7"
            ],
            [
             0.6,
             "#e6f5d0"
            ],
            [
             0.7,
             "#b8e186"
            ],
            [
             0.8,
             "#7fbc41"
            ],
            [
             0.9,
             "#4d9221"
            ],
            [
             1,
             "#276419"
            ]
           ],
           "sequential": [
            [
             0,
             "#0d0887"
            ],
            [
             0.1111111111111111,
             "#46039f"
            ],
            [
             0.2222222222222222,
             "#7201a8"
            ],
            [
             0.3333333333333333,
             "#9c179e"
            ],
            [
             0.4444444444444444,
             "#bd3786"
            ],
            [
             0.5555555555555556,
             "#d8576b"
            ],
            [
             0.6666666666666666,
             "#ed7953"
            ],
            [
             0.7777777777777778,
             "#fb9f3a"
            ],
            [
             0.8888888888888888,
             "#fdca26"
            ],
            [
             1,
             "#f0f921"
            ]
           ],
           "sequentialminus": [
            [
             0,
             "#0d0887"
            ],
            [
             0.1111111111111111,
             "#46039f"
            ],
            [
             0.2222222222222222,
             "#7201a8"
            ],
            [
             0.3333333333333333,
             "#9c179e"
            ],
            [
             0.4444444444444444,
             "#bd3786"
            ],
            [
             0.5555555555555556,
             "#d8576b"
            ],
            [
             0.6666666666666666,
             "#ed7953"
            ],
            [
             0.7777777777777778,
             "#fb9f3a"
            ],
            [
             0.8888888888888888,
             "#fdca26"
            ],
            [
             1,
             "#f0f921"
            ]
           ]
          },
          "colorway": [
           "#636efa",
           "#EF553B",
           "#00cc96",
           "#ab63fa",
           "#FFA15A",
           "#19d3f3",
           "#FF6692",
           "#B6E880",
           "#FF97FF",
           "#FECB52"
          ],
          "font": {
           "color": "#2a3f5f"
          },
          "geo": {
           "bgcolor": "white",
           "lakecolor": "white",
           "landcolor": "#E5ECF6",
           "showlakes": true,
           "showland": true,
           "subunitcolor": "white"
          },
          "hoverlabel": {
           "align": "left"
          },
          "hovermode": "closest",
          "mapbox": {
           "style": "light"
          },
          "paper_bgcolor": "white",
          "plot_bgcolor": "#E5ECF6",
          "polar": {
           "angularaxis": {
            "gridcolor": "white",
            "linecolor": "white",
            "ticks": ""
           },
           "bgcolor": "#E5ECF6",
           "radialaxis": {
            "gridcolor": "white",
            "linecolor": "white",
            "ticks": ""
           }
          },
          "scene": {
           "xaxis": {
            "backgroundcolor": "#E5ECF6",
            "gridcolor": "white",
            "gridwidth": 2,
            "linecolor": "white",
            "showbackground": true,
            "ticks": "",
            "zerolinecolor": "white"
           },
           "yaxis": {
            "backgroundcolor": "#E5ECF6",
            "gridcolor": "white",
            "gridwidth": 2,
            "linecolor": "white",
            "showbackground": true,
            "ticks": "",
            "zerolinecolor": "white"
           },
           "zaxis": {
            "backgroundcolor": "#E5ECF6",
            "gridcolor": "white",
            "gridwidth": 2,
            "linecolor": "white",
            "showbackground": true,
            "ticks": "",
            "zerolinecolor": "white"
           }
          },
          "shapedefaults": {
           "line": {
            "color": "#2a3f5f"
           }
          },
          "ternary": {
           "aaxis": {
            "gridcolor": "white",
            "linecolor": "white",
            "ticks": ""
           },
           "baxis": {
            "gridcolor": "white",
            "linecolor": "white",
            "ticks": ""
           },
           "bgcolor": "#E5ECF6",
           "caxis": {
            "gridcolor": "white",
            "linecolor": "white",
            "ticks": ""
           }
          },
          "title": {
           "x": 0.05
          },
          "xaxis": {
           "automargin": true,
           "gridcolor": "white",
           "linecolor": "white",
           "ticks": "",
           "title": {
            "standoff": 15
           },
           "zerolinecolor": "white",
           "zerolinewidth": 2
          },
          "yaxis": {
           "automargin": true,
           "gridcolor": "white",
           "linecolor": "white",
           "ticks": "",
           "title": {
            "standoff": 15
           },
           "zerolinecolor": "white",
           "zerolinewidth": 2
          }
         }
        },
        "xaxis": {
         "anchor": "y",
         "domain": [
          0,
          1
         ],
         "title": {
          "text": "value"
         }
        },
        "yaxis": {
         "anchor": "x",
         "domain": [
          0,
          1
         ],
         "title": {
          "text": "count"
         }
        }
       }
      }
     },
     "metadata": {},
     "output_type": "display_data"
    }
   ],
   "source": [
    "px.histogram(provider_effects_df.mu_provider_mean)"
   ]
  },
  {
   "cell_type": "code",
   "execution_count": null,
   "id": "82651d67",
   "metadata": {},
   "outputs": [
    {
     "data": {
      "text/html": [
       "<div>\n",
       "<style scoped>\n",
       "    .dataframe tbody tr th:only-of-type {\n",
       "        vertical-align: middle;\n",
       "    }\n",
       "\n",
       "    .dataframe tbody tr th {\n",
       "        vertical-align: top;\n",
       "    }\n",
       "\n",
       "    .dataframe thead th {\n",
       "        text-align: right;\n",
       "    }\n",
       "</style>\n",
       "<table border=\"1\" class=\"dataframe\">\n",
       "  <thead>\n",
       "    <tr style=\"text-align: right;\">\n",
       "      <th></th>\n",
       "      <th>mean</th>\n",
       "      <th>sd</th>\n",
       "      <th>hdi_3%</th>\n",
       "      <th>hdi_97%</th>\n",
       "      <th>mcse_mean</th>\n",
       "      <th>mcse_sd</th>\n",
       "      <th>ess_bulk</th>\n",
       "      <th>ess_tail</th>\n",
       "      <th>r_hat</th>\n",
       "    </tr>\n",
       "  </thead>\n",
       "  <tbody>\n",
       "    <tr>\n",
       "      <th>mu_provider[56]</th>\n",
       "      <td>-0.038</td>\n",
       "      <td>0.089</td>\n",
       "      <td>-0.224</td>\n",
       "      <td>0.112</td>\n",
       "      <td>0.001</td>\n",
       "      <td>0.001</td>\n",
       "      <td>5727.0</td>\n",
       "      <td>5665.0</td>\n",
       "      <td>1.0</td>\n",
       "    </tr>\n",
       "    <tr>\n",
       "      <th>mu_provider[47]</th>\n",
       "      <td>-0.033</td>\n",
       "      <td>0.087</td>\n",
       "      <td>-0.209</td>\n",
       "      <td>0.125</td>\n",
       "      <td>0.001</td>\n",
       "      <td>0.002</td>\n",
       "      <td>7199.0</td>\n",
       "      <td>5749.0</td>\n",
       "      <td>1.0</td>\n",
       "    </tr>\n",
       "    <tr>\n",
       "      <th>mu_provider[93]</th>\n",
       "      <td>-0.033</td>\n",
       "      <td>0.084</td>\n",
       "      <td>-0.215</td>\n",
       "      <td>0.115</td>\n",
       "      <td>0.001</td>\n",
       "      <td>0.002</td>\n",
       "      <td>6538.0</td>\n",
       "      <td>4771.0</td>\n",
       "      <td>1.0</td>\n",
       "    </tr>\n",
       "    <tr>\n",
       "      <th>mu_provider[38]</th>\n",
       "      <td>-0.030</td>\n",
       "      <td>0.085</td>\n",
       "      <td>-0.208</td>\n",
       "      <td>0.123</td>\n",
       "      <td>0.001</td>\n",
       "      <td>0.002</td>\n",
       "      <td>7597.0</td>\n",
       "      <td>5423.0</td>\n",
       "      <td>1.0</td>\n",
       "    </tr>\n",
       "    <tr>\n",
       "      <th>mu_provider[92]</th>\n",
       "      <td>-0.029</td>\n",
       "      <td>0.088</td>\n",
       "      <td>-0.211</td>\n",
       "      <td>0.132</td>\n",
       "      <td>0.001</td>\n",
       "      <td>0.002</td>\n",
       "      <td>7689.0</td>\n",
       "      <td>5304.0</td>\n",
       "      <td>1.0</td>\n",
       "    </tr>\n",
       "    <tr>\n",
       "      <th>...</th>\n",
       "      <td>...</td>\n",
       "      <td>...</td>\n",
       "      <td>...</td>\n",
       "      <td>...</td>\n",
       "      <td>...</td>\n",
       "      <td>...</td>\n",
       "      <td>...</td>\n",
       "      <td>...</td>\n",
       "      <td>...</td>\n",
       "    </tr>\n",
       "    <tr>\n",
       "      <th>mu_provider[91]</th>\n",
       "      <td>0.036</td>\n",
       "      <td>0.087</td>\n",
       "      <td>-0.106</td>\n",
       "      <td>0.224</td>\n",
       "      <td>0.001</td>\n",
       "      <td>0.002</td>\n",
       "      <td>6563.0</td>\n",
       "      <td>5821.0</td>\n",
       "      <td>1.0</td>\n",
       "    </tr>\n",
       "    <tr>\n",
       "      <th>mu_provider[21]</th>\n",
       "      <td>0.038</td>\n",
       "      <td>0.091</td>\n",
       "      <td>-0.118</td>\n",
       "      <td>0.234</td>\n",
       "      <td>0.001</td>\n",
       "      <td>0.002</td>\n",
       "      <td>6334.0</td>\n",
       "      <td>5534.0</td>\n",
       "      <td>1.0</td>\n",
       "    </tr>\n",
       "    <tr>\n",
       "      <th>mu_provider[37]</th>\n",
       "      <td>0.039</td>\n",
       "      <td>0.087</td>\n",
       "      <td>-0.100</td>\n",
       "      <td>0.232</td>\n",
       "      <td>0.001</td>\n",
       "      <td>0.002</td>\n",
       "      <td>6400.0</td>\n",
       "      <td>5289.0</td>\n",
       "      <td>1.0</td>\n",
       "    </tr>\n",
       "    <tr>\n",
       "      <th>mu_provider[77]</th>\n",
       "      <td>0.040</td>\n",
       "      <td>0.090</td>\n",
       "      <td>-0.105</td>\n",
       "      <td>0.237</td>\n",
       "      <td>0.001</td>\n",
       "      <td>0.002</td>\n",
       "      <td>6039.0</td>\n",
       "      <td>5107.0</td>\n",
       "      <td>1.0</td>\n",
       "    </tr>\n",
       "    <tr>\n",
       "      <th>mu_provider[65]</th>\n",
       "      <td>0.047</td>\n",
       "      <td>0.095</td>\n",
       "      <td>-0.102</td>\n",
       "      <td>0.243</td>\n",
       "      <td>0.001</td>\n",
       "      <td>0.002</td>\n",
       "      <td>5663.0</td>\n",
       "      <td>5607.0</td>\n",
       "      <td>1.0</td>\n",
       "    </tr>\n",
       "  </tbody>\n",
       "</table>\n",
       "<p>96 rows × 9 columns</p>\n",
       "</div>"
      ],
      "text/plain": [
       "                  mean     sd  hdi_3%  hdi_97%  mcse_mean  mcse_sd  ess_bulk  \\\n",
       "mu_provider[56] -0.038  0.089  -0.224    0.112      0.001    0.001    5727.0   \n",
       "mu_provider[47] -0.033  0.087  -0.209    0.125      0.001    0.002    7199.0   \n",
       "mu_provider[93] -0.033  0.084  -0.215    0.115      0.001    0.002    6538.0   \n",
       "mu_provider[38] -0.030  0.085  -0.208    0.123      0.001    0.002    7597.0   \n",
       "mu_provider[92] -0.029  0.088  -0.211    0.132      0.001    0.002    7689.0   \n",
       "...                ...    ...     ...      ...        ...      ...       ...   \n",
       "mu_provider[91]  0.036  0.087  -0.106    0.224      0.001    0.002    6563.0   \n",
       "mu_provider[21]  0.038  0.091  -0.118    0.234      0.001    0.002    6334.0   \n",
       "mu_provider[37]  0.039  0.087  -0.100    0.232      0.001    0.002    6400.0   \n",
       "mu_provider[77]  0.040  0.090  -0.105    0.237      0.001    0.002    6039.0   \n",
       "mu_provider[65]  0.047  0.095  -0.102    0.243      0.001    0.002    5663.0   \n",
       "\n",
       "                 ess_tail  r_hat  \n",
       "mu_provider[56]    5665.0    1.0  \n",
       "mu_provider[47]    5749.0    1.0  \n",
       "mu_provider[93]    4771.0    1.0  \n",
       "mu_provider[38]    5423.0    1.0  \n",
       "mu_provider[92]    5304.0    1.0  \n",
       "...                   ...    ...  \n",
       "mu_provider[91]    5821.0    1.0  \n",
       "mu_provider[21]    5534.0    1.0  \n",
       "mu_provider[37]    5289.0    1.0  \n",
       "mu_provider[77]    5107.0    1.0  \n",
       "mu_provider[65]    5607.0    1.0  \n",
       "\n",
       "[96 rows x 9 columns]"
      ]
     },
     "execution_count": 485,
     "metadata": {},
     "output_type": "execute_result"
    }
   ],
   "source": [
    "provider_mu_hdi"
   ]
  },
  {
   "cell_type": "code",
   "execution_count": null,
   "id": "eccddf39",
   "metadata": {},
   "outputs": [
    {
     "data": {
      "image/png": "[encoded data removed]",
      "text/plain": [
       "<Figure size 1000x800 with 1 Axes>"
      ]
     },
     "metadata": {},
     "output_type": "display_data"
    }
   ],
   "source": [
    "provider_mu_hdi = az.summary(fit_data, var_names=[\"mu_provider\"], hdi_prob=0.94)\n",
    "\n",
    "\n",
    "provider_mu_hdi = provider_mu_hdi.sort_values(\"mean\")\n",
    "\n",
    "# Plot\n",
    "plt.figure(figsize=(10, 8))\n",
    "plt.errorbar(\n",
    "    x=provider_mu_hdi[\"mean\"],  # x-axis: mean effect\n",
    "    y=range(len(provider_mu_hdi)),  # y-axis: providers, numeric order\n",
    "    xerr=[provider_mu_hdi[\"mean\"] - provider_mu_hdi[\"hdi_3%\"], \n",
    "          provider_mu_hdi[\"hdi_97%\"] - provider_mu_hdi[\"mean\"]],  # error bars (HDI)\n",
    "    fmt='o',\n",
    "    ecolor='gray',\n",
    "    capsize=3,\n",
    "    linestyle='None'\n",
    ")\n",
    "plt.axvline(0, color='red', linestyle='--', label='No Effect')  # vertical line at 0\n",
    "# Set y-ticks as provider names (sorted)\n",
    "#plt.yticks(range(len(provider_mu_hdi)), provider_mu_hdi['provider'])\n",
    "plt.xlabel(\"Estimated Provider Effect (mean with 94% HDI)\")\n",
    "plt.ylabel(\"Provider\")\n",
    "plt.title(\"Provider Effects with 94% HDI Intervals, Sorted by Mean\")\n",
    "plt.gca().invert_yaxis()  # Optional: to have highest effect at top\n",
    "plt.legend()\n",
    "plt.tight_layout()\n",
    "plt.show()"
   ]
  },
  {
   "cell_type": "code",
   "execution_count": null,
   "id": "08d39d8f",
   "metadata": {},
   "outputs": [],
   "source": [
    "# conclusion would be consider failure as a binary outcome there are some providers that have more of an effect on outcome than others within this cohort"
   ]
  },
  {
   "cell_type": "code",
   "execution_count": null,
   "id": "49d13f84",
   "metadata": {},
   "outputs": [],
   "source": [
    "def provider_propensity_matching(\n",
    "    df,\n",
    "    covariates,\n",
    "    outcome_col,\n",
    "    provider_col,\n",
    "    id_col=None,\n",
    "    n_neighbors=3,\n",
    "    caliper=0.05,\n",
    "    min_sample_size=10,\n",
    "    standardize=True,\n",
    "):\n",
    "    results = []\n",
    "    providers = df[provider_col].unique()\n",
    "\n",
    "    for provider in tqdm(providers, desc=\"Evaluating providers\"):\n",
    "        df_provider = df[df[provider_col] == provider].copy()\n",
    "        # need to subsample the other providers to avoid biasing the propensity score model\n",
    "        df_others = df[df[provider_col] != provider].copy().sample(300)\n",
    "\n",
    "        if len(df_provider) < min_sample_size:\n",
    "            continue\n",
    "\n",
    "        # Combine for propensity score model\n",
    "        df_provider['group'] = 1\n",
    "        df_others['group'] = 0\n",
    "        df_all = pd.concat([df_provider, df_others])\n",
    "\n",
    "        # Optional: standardize covariates\n",
    "        X = df_all[covariates].copy()\n",
    "\n",
    "        if standardize:\n",
    "            scaler = StandardScaler()\n",
    "            X = scaler.fit_transform(X)\n",
    "\n",
    "        # Propensity score model\n",
    "        ps_model = LogisticRegression(class_weight='balanced', max_iter=1000)\n",
    "        ps_model.fit(X, df_all[\"group\"])\n",
    "        df_all[\"propensity_score\"] = ps_model.predict_proba(X)[:, 1]\n",
    "\n",
    "        # Split again with scores\n",
    "        treated = df_all[df_all[\"group\"] == 1]\n",
    "        control = df_all[df_all[\"group\"] == 0]\n",
    "\n",
    "        # Nearest neighbor matching with caliper\n",
    "        nn = NearestNeighbors(n_neighbors=n_neighbors)\n",
    "        nn.fit(control[[\"propensity_score\"]])\n",
    "        distances, indices = nn.kneighbors(treated[[\"propensity_score\"]])\n",
    "\n",
    "        matches = []\n",
    "        for i, (dist, idxs) in enumerate(zip(distances, indices)):\n",
    "            if dist[0] <= caliper:\n",
    "                matches.append((treated.index[i], control.index[idxs[0]]))\n",
    "\n",
    "        if not matches:\n",
    "            continue\n",
    "\n",
    "        # Create matched dataframe\n",
    "        matched_rows = []\n",
    "        for treat_idx, control_idx in matches:\n",
    "            matched_rows.append(df_all.loc[treat_idx])\n",
    "            matched_rows.append(df_all.loc[control_idx])\n",
    "\n",
    "        df_matched = pd.DataFrame(matched_rows)\n",
    "\n",
    "        # Count outcomes\n",
    "        outcome_table = pd.crosstab(df_matched[\"group\"], df_matched[outcome_col])\n",
    "\n",
    "        # Skip if table is malformed\n",
    "        if outcome_table.shape != (2, 2):\n",
    "            continue\n",
    "\n",
    "        # Fisher's exact test\n",
    "        oddsratio, p_value = fisher_exact(outcome_table, alternative='greater')\n",
    "\n",
    "        results.append({\n",
    "            \"provider\": provider,\n",
    "            \"n_treated\": len(treated),\n",
    "            \"n_matched\": len(matched_rows) // 2,\n",
    "            \"odds_ratio\": oddsratio,\n",
    "            \"p_value\": p_value,\n",
    "            \"outcome_table\": outcome_table.to_dict()\n",
    "        })\n",
    "\n",
    "    return pd.DataFrame(results)\n"
   ]
  },
  {
   "cell_type": "code",
   "execution_count": null,
   "id": "efdaa182",
   "metadata": {},
   "outputs": [
    {
     "name": "stderr",
     "output_type": "stream",
     "text": [
      "Evaluating providers: 100%|██████████| 96/96 [00:00<00:00, 186.38it/s]\n"
     ]
    }
   ],
   "source": [
    "provider_propensity_matched_scores = provider_propensity_matching(\n",
    "    data_outcome_compare,\n",
    "    covariates=[\"member_sex\", \"health_risk_assesment\"],\n",
    "    outcome_col=\"outcome\",\n",
    "    provider_col=\"servicing_provider_id\",\n",
    "    id_col=None,\n",
    "    n_neighbors=1,\n",
    "    caliper=0.05,\n",
    "    min_sample_size=10,\n",
    "    standardize=False,\n",
    ")"
   ]
  },
  {
   "cell_type": "code",
   "execution_count": null,
   "id": "41bec28f",
   "metadata": {},
   "outputs": [
    {
     "data": {
      "text/plain": [
       "event_id                    int64\n",
       "servicing_provider_id       int64\n",
       "servicing_provider_name    object\n",
       "treatment_date             object\n",
       "member_id                   int64\n",
       "member_age                  int64\n",
       "member_sex                  int64\n",
       "health_risk_assesment       int64\n",
       "outcome                    object\n",
       "dtype: object"
      ]
     },
     "execution_count": 527,
     "metadata": {},
     "output_type": "execute_result"
    }
   ],
   "source": [
    "data_outcome_compare.dtypes"
   ]
  },
  {
   "cell_type": "code",
   "execution_count": null,
   "id": "d82e1b87",
   "metadata": {},
   "outputs": [],
   "source": [
    "significant_effect_providers = provider_propensity_matched_scores.query(\"p_value < 0.05\").sort_values(\"odds_ratio\", ascending=False )"
   ]
  },
  {
   "cell_type": "code",
   "execution_count": null,
   "id": "1e8d6daf",
   "metadata": {},
   "outputs": [
    {
     "name": "stdout",
     "output_type": "stream",
     "text": [
      "13.541666666666666\n"
     ]
    }
   ],
   "source": [
    "print((len(significant_effect_providers)/ len(provider_propensity_matched_scores))*100)"
   ]
  },
  {
   "cell_type": "code",
   "execution_count": null,
   "id": "c7538162",
   "metadata": {},
   "outputs": [
    {
     "data": {
      "text/html": [
       "<div>\n",
       "<style scoped>\n",
       "    .dataframe tbody tr th:only-of-type {\n",
       "        vertical-align: middle;\n",
       "    }\n",
       "\n",
       "    .dataframe tbody tr th {\n",
       "        vertical-align: top;\n",
       "    }\n",
       "\n",
       "    .dataframe thead th {\n",
       "        text-align: right;\n",
       "    }\n",
       "</style>\n",
       "<table border=\"1\" class=\"dataframe\">\n",
       "  <thead>\n",
       "    <tr style=\"text-align: right;\">\n",
       "      <th></th>\n",
       "      <th>provider</th>\n",
       "      <th>n_treated</th>\n",
       "      <th>n_matched</th>\n",
       "      <th>odds_ratio</th>\n",
       "      <th>p_value</th>\n",
       "      <th>outcome_table</th>\n",
       "    </tr>\n",
       "  </thead>\n",
       "  <tbody>\n",
       "    <tr>\n",
       "      <th>51</th>\n",
       "      <td>1</td>\n",
       "      <td>46</td>\n",
       "      <td>46</td>\n",
       "      <td>3.653846</td>\n",
       "      <td>0.005977</td>\n",
       "      <td>{'failure': {0: 38, 1: 26}, 'pass': {0: 8, 1: ...</td>\n",
       "    </tr>\n",
       "    <tr>\n",
       "      <th>44</th>\n",
       "      <td>2</td>\n",
       "      <td>42</td>\n",
       "      <td>42</td>\n",
       "      <td>6.500000</td>\n",
       "      <td>0.002736</td>\n",
       "      <td>{'failure': {0: 39, 1: 28}, 'pass': {0: 3, 1: ...</td>\n",
       "    </tr>\n",
       "    <tr>\n",
       "      <th>34</th>\n",
       "      <td>4</td>\n",
       "      <td>38</td>\n",
       "      <td>38</td>\n",
       "      <td>4.317460</td>\n",
       "      <td>0.005816</td>\n",
       "      <td>{'failure': {0: 32, 1: 21}, 'pass': {0: 6, 1: ...</td>\n",
       "    </tr>\n",
       "    <tr>\n",
       "      <th>57</th>\n",
       "      <td>15</td>\n",
       "      <td>47</td>\n",
       "      <td>47</td>\n",
       "      <td>2.643357</td>\n",
       "      <td>0.024640</td>\n",
       "      <td>{'failure': {0: 36, 1: 26}, 'pass': {0: 11, 1:...</td>\n",
       "    </tr>\n",
       "    <tr>\n",
       "      <th>47</th>\n",
       "      <td>19</td>\n",
       "      <td>44</td>\n",
       "      <td>44</td>\n",
       "      <td>9.461538</td>\n",
       "      <td>0.000151</td>\n",
       "      <td>{'failure': {0: 41, 1: 26}, 'pass': {0: 3, 1: ...</td>\n",
       "    </tr>\n",
       "    <tr>\n",
       "      <th>73</th>\n",
       "      <td>32</td>\n",
       "      <td>40</td>\n",
       "      <td>40</td>\n",
       "      <td>11.158730</td>\n",
       "      <td>0.000052</td>\n",
       "      <td>{'failure': {0: 37, 1: 21}, 'pass': {0: 3, 1: ...</td>\n",
       "    </tr>\n",
       "    <tr>\n",
       "      <th>55</th>\n",
       "      <td>42</td>\n",
       "      <td>26</td>\n",
       "      <td>26</td>\n",
       "      <td>3.600000</td>\n",
       "      <td>0.037298</td>\n",
       "      <td>{'failure': {0: 21, 1: 14}, 'pass': {0: 5, 1: ...</td>\n",
       "    </tr>\n",
       "    <tr>\n",
       "      <th>38</th>\n",
       "      <td>45</td>\n",
       "      <td>47</td>\n",
       "      <td>47</td>\n",
       "      <td>2.226087</td>\n",
       "      <td>0.046710</td>\n",
       "      <td>{'failure': {0: 32, 1: 23}, 'pass': {0: 15, 1:...</td>\n",
       "    </tr>\n",
       "    <tr>\n",
       "      <th>4</th>\n",
       "      <td>59</td>\n",
       "      <td>34</td>\n",
       "      <td>34</td>\n",
       "      <td>3.250000</td>\n",
       "      <td>0.021597</td>\n",
       "      <td>{'failure': {0: 26, 1: 17}, 'pass': {0: 8, 1: ...</td>\n",
       "    </tr>\n",
       "    <tr>\n",
       "      <th>37</th>\n",
       "      <td>60</td>\n",
       "      <td>43</td>\n",
       "      <td>43</td>\n",
       "      <td>2.869565</td>\n",
       "      <td>0.020427</td>\n",
       "      <td>{'failure': {0: 33, 1: 23}, 'pass': {0: 10, 1:...</td>\n",
       "    </tr>\n",
       "    <tr>\n",
       "      <th>46</th>\n",
       "      <td>66</td>\n",
       "      <td>45</td>\n",
       "      <td>45</td>\n",
       "      <td>3.294118</td>\n",
       "      <td>0.005460</td>\n",
       "      <td>{'failure': {0: 30, 1: 17}, 'pass': {0: 15, 1:...</td>\n",
       "    </tr>\n",
       "    <tr>\n",
       "      <th>64</th>\n",
       "      <td>78</td>\n",
       "      <td>44</td>\n",
       "      <td>44</td>\n",
       "      <td>2.302632</td>\n",
       "      <td>0.043388</td>\n",
       "      <td>{'failure': {0: 28, 1: 19}, 'pass': {0: 16, 1:...</td>\n",
       "    </tr>\n",
       "    <tr>\n",
       "      <th>35</th>\n",
       "      <td>84</td>\n",
       "      <td>47</td>\n",
       "      <td>47</td>\n",
       "      <td>2.880000</td>\n",
       "      <td>0.010981</td>\n",
       "      <td>{'failure': {0: 32, 1: 20}, 'pass': {0: 15, 1:...</td>\n",
       "    </tr>\n",
       "  </tbody>\n",
       "</table>\n",
       "</div>"
      ],
      "text/plain": [
       "    provider  n_treated  n_matched  odds_ratio   p_value  \\\n",
       "51         1         46         46    3.653846  0.005977   \n",
       "44         2         42         42    6.500000  0.002736   \n",
       "34         4         38         38    4.317460  0.005816   \n",
       "57        15         47         47    2.643357  0.024640   \n",
       "47        19         44         44    9.461538  0.000151   \n",
       "73        32         40         40   11.158730  0.000052   \n",
       "55        42         26         26    3.600000  0.037298   \n",
       "38        45         47         47    2.226087  0.046710   \n",
       "4         59         34         34    3.250000  0.021597   \n",
       "37        60         43         43    2.869565  0.020427   \n",
       "46        66         45         45    3.294118  0.005460   \n",
       "64        78         44         44    2.302632  0.043388   \n",
       "35        84         47         47    2.880000  0.010981   \n",
       "\n",
       "                                        outcome_table  \n",
       "51  {'failure': {0: 38, 1: 26}, 'pass': {0: 8, 1: ...  \n",
       "44  {'failure': {0: 39, 1: 28}, 'pass': {0: 3, 1: ...  \n",
       "34  {'failure': {0: 32, 1: 21}, 'pass': {0: 6, 1: ...  \n",
       "57  {'failure': {0: 36, 1: 26}, 'pass': {0: 11, 1:...  \n",
       "47  {'failure': {0: 41, 1: 26}, 'pass': {0: 3, 1: ...  \n",
       "73  {'failure': {0: 37, 1: 21}, 'pass': {0: 3, 1: ...  \n",
       "55  {'failure': {0: 21, 1: 14}, 'pass': {0: 5, 1: ...  \n",
       "38  {'failure': {0: 32, 1: 23}, 'pass': {0: 15, 1:...  \n",
       "4   {'failure': {0: 26, 1: 17}, 'pass': {0: 8, 1: ...  \n",
       "37  {'failure': {0: 33, 1: 23}, 'pass': {0: 10, 1:...  \n",
       "46  {'failure': {0: 30, 1: 17}, 'pass': {0: 15, 1:...  \n",
       "64  {'failure': {0: 28, 1: 19}, 'pass': {0: 16, 1:...  \n",
       "35  {'failure': {0: 32, 1: 20}, 'pass': {0: 15, 1:...  "
      ]
     },
     "execution_count": 530,
     "metadata": {},
     "output_type": "execute_result"
    }
   ],
   "source": [
    "significant_effect_providers.sort_values(\"provider\")"
   ]
  },
  {
   "cell_type": "code",
   "execution_count": null,
   "id": "8cd1a9db",
   "metadata": {},
   "outputs": [],
   "source": [
    "outcomes_df = pd.DataFrame(outcomes_prop_xprovider, index=outcomesxprovider.index)\n",
    "outcomes_df_odds = outcomes_df.merge(provider_propensity_matched_scores[[\"provider\", \"odds_ratio\", \"p_value\"]],left_on=\"servicing_provider_id\", right_on=\"provider\").sort_values(\"odds_ratio\", ascending=False)\n",
    "outcomes_df_odds.rename(columns={0: \"proportion_failed\"}, inplace=True)"
   ]
  },
  {
   "cell_type": "code",
   "execution_count": null,
   "id": "42822219",
   "metadata": {},
   "outputs": [
    {
     "data": {
      "application/vnd.plotly.v1+json": {
       "config": {
        "plotlyServerURL": "https://plot.ly"
       },
       "data": [
        {
         "customdata": {
          "bdata": "IBMCBAEqQjsOVDwPTj0tNgMQXU1PXDopCFAWDAYFJTJSWBcJHyFAPlkbHDdMQxorKCcmJFM/ES9HGR1RVwoiNQcLM2BGSTgYSF9bNERFS1USVhU5HhQNMF4uMSwjSkFa",
          "dtype": "i1",
          "shape": "96, 1"
         },
         "hovertemplate": "odds_ratio=%{x}<br>proportion_failed=%{y}<br>provider=%{customdata[0]}<br>p_value=%{marker.color}<extra></extra>",
         "legendgroup": "",
         "marker": {
          "color": {
           "bdata": "GDUq5vNJCz/m+DlWPdAjP/4oS6IRamY/G6ZslkPSdz/Pov06/Xp4PyS9hrPFGKM/25jjW8dcdj/C18Chih2WPwysvxKdp7E/OCkNOUh9hj/kbiHvt+qUP73wz5kpO5k/X0IXJec2pj/bDNhw4KS5PzKJjYtp6qc/bDeNzmPksz8Fagpb1te1P6l86/vBvrY/WL7T9dVNxD8/eDqme4PAP23/uLpajLs/xPaCjpgowT+mSHFOO7DBP7XsGnJo9sY/SkgWVBjyxz/Oc18fz1PIP96vdwcgNMk/q9PZEXaCyT9JD2Xc88DKPzjOYAZYitA/TQMM6aoD0T/cF5QcXR3RPxEUOVO/JtU/ERQ5U78m1T+LICZ4p+TVP0IokY26ztk/13XW76lG2j/HBbXQx4jaP7VHsd8r1No/AgAAAAAA4D8BAAAAAADgP////////98//P//////3z+FKFXQgOLiP2BKEixszeI/6+ePGfpc4j8qWoGeb5DiP8yLEwhdj+I/9ehpQvH+4j/vb8HNDJriP+rd9aE3TOI/becW32AU4z+mRoNSJtziP4gLCuTAF+U/iAsK5MAX5T+zO6PqCR7lPzl5FBIfPuU/YISjcZRP5T9whGxPmGLlPy6KokpfbuU/6nivRMXQ5T/sjeDZuSDmPyOCUCXJpOc/NnchAKy/5z/Qle2PSSzoP5oWW2S5nOk/Hmxx2eLK6T+9/EOnGuLqP41oOOmN++o/FA/zB6QA6z+KUp1oSCLrPwR5Xq7Uoes/T0Jf3Nm16z8az4w1rdLrP5CCZiiXAew//IFQU5nf7D+FDVlEeuXtPylTtjwhcO0/8HFIGhkS7j9EuMq/Xq7tP6m9sViZAu8/X3uGZJ4S7j+AkdsdDyzvPzjJah2FKO8/GB+ygcg47z/9D6Gy/yPvP2isggyznO8/aI8jlFKK7z8L4N/jjc7vP6wS+KM2x+8/YPx4vQDm7z9S2IMoaPPvP+f35pgy8e8/goRU2ZL47z9Kqvq+TujvP0/V0gCK/+8/",
           "dtype": "f8"
          },
          "coloraxis": "coloraxis",
          "symbol": "circle"
         },
         "mode": "markers",
         "name": "",
         "orientation": "v",
         "showlegend": false,
         "type": "scatter",
         "x": {
          "bdata": "FEVRFEVRJkDFTuzETuwiQAAAAAAAABpAURRFURRFEUCxEzuxEzsNQM3MzMzMzAxAWlpaWlpaCkAAAAAAAAAKQNDPz8/PzwdACtejcD0KB0BvetOb3vQGQIgM9yqYJQVAvYbyGsprAkDRRRdddNEBQB2Boq0GzwFAnN70pje9AUDCEBoMocEAQF100UUXXQBAMsYYY4wx/j9u27Zt27b9PxbTWUxnMf0/KK+hvIby/D9URmVURmX8Px0QGe5VMPs/U0oppZRS+j+gUeJnlPj5PzaU11BeQ/k/ntiJndgJ+T8oKCgoKCj4P3108tHJR/c/WtFIwDev9j8HaZAGaZD2PwAAAAAAYPU/AAAAAABg9T9f6IVe6IX0P1100UUXXfQ/UPqkT/qk8z+SJEmSJEnzPxju1MhR5/I/IQtZyEIW8j+0mM5iOovxP48czal9hvE/S8oBkeFe8T8AAAAAAADwPwAAAAAAAPA/AAAAAAAA8D8AAAAAAADwPwAAAAAAAPA/AAAAAAAA8D8AAAAAAADwPwAAAAAAAPA/AAAAAAAA8D8AAAAAAADwPxWo9SsFau0/Faj1KwVq7T85juM4jmPtPx3UQR3UQe0/yXa+nxov7T8NOEiOaBrtP9hQXkN5De0/nZycnJyc7D+ogzqogzrsP6uqqqqqquo/LKivoL6C6j8xb2dIzNvpPwAAAAAAgOg/L7rooosu6D+yne+nxkvnPxp367wCGuc/DHG7YcYQ5z/ONttss83mP8P1KFyPwuU/ZlmWZVmW5T9VVVVVVVXlP+i0gU4b6OQ/5DiO4zgO5D8luzZRsmvjPzXOIKj9c+I/sBH/GvGv4T/zGsprKK/hPwghhBBCCOE/UFBQUFBQ4D88S9jNbyHgP94CTN4CTN4/ntiJndiJ3T8pXI/C9SjcP2CWgrvYeNs/11prrbXW2j8jn3WDKfLZP7aJkl2bKNk/Fl/xFV/x1T8/9LFLPjfVP0OHNz+2gNQ/uBJ+K+G30j83mCKfdYPRP1oLBXRsvss/",
          "dtype": "f8"
         },
         "xaxis": "x",
         "y": {
          "bdata": "zczMzMzM4D/poosuuujiP1VVVVVVVeU/8xrKayiv4T8hC1nIQhbiP7ETO7ETO+E/2IIt2IIt2D8AAAAAAADgP9u2bdu2beM/bdR3Nuo72z9H3BF3xB3hP0d9Z6O+s+E/o4suuuii2z/kOI7jOI7jP31no76zUd8/ZmZmZmZm4j+nrClrypriPzi96U1veuM/jC666KKL5j8AAAAAAADgP2ejvrNR39k/qV2J2pWo3T9MriAmVxDjP5qZmZmZmeE/q6qqqqqq5D9H3BF3xB3hP6OLLrroots/R31no76z4T9iJ3ZiJ3biP7OmrClryto/xOQKYnIF4T9VVVVVVVXhP3fEHXFH3OE/d8QdcUfc4T8/NNaHxvrgP+Q4juM4juM/uxK1K1G74j84velNb3rjP6uqqqqqqt4/HMdxHMdx5D+jiy666KLbP89GfWejvuM/PzTWh8b64D8zMzMzMzPjP1100UUXXeQ/MzMzMzMz4z8/NNaHxvrgPxW8nIKXU+A/chzHcRzH4T+SJEmSJEnmPy4ZgnW0ed8/MzMzMzMz4z82ZU1ZU9bkPwAAAAAAAOI/AAAAAAAA4j9BTK4gJlfgP3Icx3Ecx+E/L7rooosu4j+nrClrypriP5IkSZIkSeI/chzHcRzH4T9lk0022WTjP3TRRRdddOE/o4suuuii4z9sKK+hvIbiPxEREREREeE/d8QdcUfc4T9fX19fX1/fP8VO7MRO7OQ/aKwPjfWh4T8QjfWhsT7kPwAAAAAAAOA/ZHA+Budj4D8zMzMzMzPjPzVIgzRIg+Q/d8QdcUfc4T9jOovpLKbjP+sGU+SzbuA/g/MxOB+D4z/T0tLS0tLiPwnLPY2w3OM/IiIiIiIi4j/aS2gvob3kP11BTK4gJuc/9DzP8zzP4z+O4ziO4zjmP1VVVVVVVeM/jC666KKL5j+HtW9Y+4blP1VVVVVVVeM/OL3pTW964z/sxE7sxE7kP9R3Nuo7G+U/Ut/ZqO9s5D/0BX1BX9DXP29ln0NqguE/",
          "dtype": "f8"
         },
         "yaxis": "y"
        }
       ],
       "layout": {
        "coloraxis": {
         "colorbar": {
          "title": {
           "text": "p_value"
          }
         },
         "colorscale": [
          [
           0,
           "#0d0887"
          ],
          [
           0.1111111111111111,
           "#46039f"
          ],
          [
           0.2222222222222222,
           "#7201a8"
          ],
          [
           0.3333333333333333,
           "#9c179e"
          ],
          [
           0.4444444444444444,
           "#bd3786"
          ],
          [
           0.5555555555555556,
           "#d8576b"
          ],
          [
           0.6666666666666666,
           "#ed7953"
          ],
          [
           0.7777777777777778,
           "#fb9f3a"
          ],
          [
           0.8888888888888888,
           "#fdca26"
          ],
          [
           1,
           "#f0f921"
          ]
         ]
        },
        "legend": {
         "tracegroupgap": 0
        },
        "template": {
         "data": {
          "bar": [
           {
            "error_x": {
             "color": "#2a3f5f"
            },
            "error_y": {
             "color": "#2a3f5f"
            },
            "marker": {
             "line": {
              "color": "#E5ECF6",
              "width": 0.5
             },
             "pattern": {
              "fillmode": "overlay",
              "size": 10,
              "solidity": 0.2
             }
            },
            "type": "bar"
           }
          ],
          "barpolar": [
           {
            "marker": {
             "line": {
              "color": "#E5ECF6",
              "width": 0.5
             },
             "pattern": {
              "fillmode": "overlay",
              "size": 10,
              "solidity": 0.2
             }
            },
            "type": "barpolar"
           }
          ],
          "carpet": [
           {
            "aaxis": {
             "endlinecolor": "#2a3f5f",
             "gridcolor": "white",
             "linecolor": "white",
             "minorgridcolor": "white",
             "startlinecolor": "#2a3f5f"
            },
            "baxis": {
             "endlinecolor": "#2a3f5f",
             "gridcolor": "white",
             "linecolor": "white",
             "minorgridcolor": "white",
             "startlinecolor": "#2a3f5f"
            },
            "type": "carpet"
           }
          ],
          "choropleth": [
           {
            "colorbar": {
             "outlinewidth": 0,
             "ticks": ""
            },
            "type": "choropleth"
           }
          ],
          "contour": [
           {
            "colorbar": {
             "outlinewidth": 0,
             "ticks": ""
            },
            "colorscale": [
             [
              0,
              "#0d0887"
             ],
             [
              0.1111111111111111,
              "#46039f"
             ],
             [
              0.2222222222222222,
              "#7201a8"
             ],
             [
              0.3333333333333333,
              "#9c179e"
             ],
             [
              0.4444444444444444,
              "#bd3786"
             ],
             [
              0.5555555555555556,
              "#d8576b"
             ],
             [
              0.6666666666666666,
              "#ed7953"
             ],
             [
              0.7777777777777778,
              "#fb9f3a"
             ],
             [
              0.8888888888888888,
              "#fdca26"
             ],
             [
              1,
              "#f0f921"
             ]
            ],
            "type": "contour"
           }
          ],
          "contourcarpet": [
           {
            "colorbar": {
             "outlinewidth": 0,
             "ticks": ""
            },
            "type": "contourcarpet"
           }
          ],
          "heatmap": [
           {
            "colorbar": {
             "outlinewidth": 0,
             "ticks": ""
            },
            "colorscale": [
             [
              0,
              "#0d0887"
             ],
             [
              0.1111111111111111,
              "#46039f"
             ],
             [
              0.2222222222222222,
              "#7201a8"
             ],
             [
              0.3333333333333333,
              "#9c179e"
             ],
             [
              0.4444444444444444,
              "#bd3786"
             ],
             [
              0.5555555555555556,
              "#d8576b"
             ],
             [
              0.6666666666666666,
              "#ed7953"
             ],
             [
              0.7777777777777778,
              "#fb9f3a"
             ],
             [
              0.8888888888888888,
              "#fdca26"
             ],
             [
              1,
              "#f0f921"
             ]
            ],
            "type": "heatmap"
           }
          ],
          "histogram": [
           {
            "marker": {
             "pattern": {
              "fillmode": "overlay",
              "size": 10,
              "solidity": 0.2
             }
            },
            "type": "histogram"
           }
          ],
          "histogram2d": [
           {
            "colorbar": {
             "outlinewidth": 0,
             "ticks": ""
            },
            "colorscale": [
             [
              0,
              "#0d0887"
             ],
             [
              0.1111111111111111,
              "#46039f"
             ],
             [
              0.2222222222222222,
              "#7201a8"
             ],
             [
              0.3333333333333333,
              "#9c179e"
             ],
             [
              0.4444444444444444,
              "#bd3786"
             ],
             [
              0.5555555555555556,
              "#d8576b"
             ],
             [
              0.6666666666666666,
              "#ed7953"
             ],
             [
              0.7777777777777778,
              "#fb9f3a"
             ],
             [
              0.8888888888888888,
              "#fdca26"
             ],
             [
              1,
              "#f0f921"
             ]
            ],
            "type": "histogram2d"
           }
          ],
          "histogram2dcontour": [
           {
            "colorbar": {
             "outlinewidth": 0,
             "ticks": ""
            },
            "colorscale": [
             [
              0,
              "#0d0887"
             ],
             [
              0.1111111111111111,
              "#46039f"
             ],
             [
              0.2222222222222222,
              "#7201a8"
             ],
             [
              0.3333333333333333,
              "#9c179e"
             ],
             [
              0.4444444444444444,
              "#bd3786"
             ],
             [
              0.5555555555555556,
              "#d8576b"
             ],
             [
              0.6666666666666666,
              "#ed7953"
             ],
             [
              0.7777777777777778,
              "#fb9f3a"
             ],
             [
              0.8888888888888888,
              "#fdca26"
             ],
             [
              1,
              "#f0f921"
             ]
            ],
            "type": "histogram2dcontour"
           }
          ],
          "mesh3d": [
           {
            "colorbar": {
             "outlinewidth": 0,
             "ticks": ""
            },
            "type": "mesh3d"
           }
          ],
          "parcoords": [
           {
            "line": {
             "colorbar": {
              "outlinewidth": 0,
              "ticks": ""
             }
            },
            "type": "parcoords"
           }
          ],
          "pie": [
           {
            "automargin": true,
            "type": "pie"
           }
          ],
          "scatter": [
           {
            "fillpattern": {
             "fillmode": "overlay",
             "size": 10,
             "solidity": 0.2
            },
            "type": "scatter"
           }
          ],
          "scatter3d": [
           {
            "line": {
             "colorbar": {
              "outlinewidth": 0,
              "ticks": ""
             }
            },
            "marker": {
             "colorbar": {
              "outlinewidth": 0,
              "ticks": ""
             }
            },
            "type": "scatter3d"
           }
          ],
          "scattercarpet": [
           {
            "marker": {
             "colorbar": {
              "outlinewidth": 0,
              "ticks": ""
             }
            },
            "type": "scattercarpet"
           }
          ],
          "scattergeo": [
           {
            "marker": {
             "colorbar": {
              "outlinewidth": 0,
              "ticks": ""
             }
            },
            "type": "scattergeo"
           }
          ],
          "scattergl": [
           {
            "marker": {
             "colorbar": {
              "outlinewidth": 0,
              "ticks": ""
             }
            },
            "type": "scattergl"
           }
          ],
          "scattermap": [
           {
            "marker": {
             "colorbar": {
              "outlinewidth": 0,
              "ticks": ""
             }
            },
            "type": "scattermap"
           }
          ],
          "scattermapbox": [
           {
            "marker": {
             "colorbar": {
              "outlinewidth": 0,
              "ticks": ""
             }
            },
            "type": "scattermapbox"
           }
          ],
          "scatterpolar": [
           {
            "marker": {
             "colorbar": {
              "outlinewidth": 0,
              "ticks": ""
             }
            },
            "type": "scatterpolar"
           }
          ],
          "scatterpolargl": [
           {
            "marker": {
             "colorbar": {
              "outlinewidth": 0,
              "ticks": ""
             }
            },
            "type": "scatterpolargl"
           }
          ],
          "scatterternary": [
           {
            "marker": {
             "colorbar": {
              "outlinewidth": 0,
              "ticks": ""
             }
            },
            "type": "scatterternary"
           }
          ],
          "surface": [
           {
            "colorbar": {
             "outlinewidth": 0,
             "ticks": ""
            },
            "colorscale": [
             [
              0,
              "#0d0887"
             ],
             [
              0.1111111111111111,
              "#46039f"
             ],
             [
              0.2222222222222222,
              "#7201a8"
             ],
             [
              0.3333333333333333,
              "#9c179e"
             ],
             [
              0.4444444444444444,
              "#bd3786"
             ],
             [
              0.5555555555555556,
              "#d8576b"
             ],
             [
              0.6666666666666666,
              "#ed7953"
             ],
             [
              0.7777777777777778,
              "#fb9f3a"
             ],
             [
              0.8888888888888888,
              "#fdca26"
             ],
             [
              1,
              "#f0f921"
             ]
            ],
            "type": "surface"
           }
          ],
          "table": [
           {
            "cells": {
             "fill": {
              "color": "#EBF0F8"
             },
             "line": {
              "color": "white"
             }
            },
            "header": {
             "fill": {
              "color": "#C8D4E3"
             },
             "line": {
              "color": "white"
             }
            },
            "type": "table"
           }
          ]
         },
         "layout": {
          "annotationdefaults": {
           "arrowcolor": "#2a3f5f",
           "arrowhead": 0,
           "arrowwidth": 1
          },
          "autotypenumbers": "strict",
          "coloraxis": {
           "colorbar": {
            "outlinewidth": 0,
            "ticks": ""
           }
          },
          "colorscale": {
           "diverging": [
            [
             0,
             "#8e0152"
            ],
            [
             0.1,
             "#c51b7d"
            ],
            [
             0.2,
             "#de77ae"
            ],
            [
             0.3,
             "#f1b6da"
            ],
            [
             0.4,
             "#fde0ef"
            ],
            [
             0.5,
             "#f7f7f7"
            ],
            [
             0.6,
             "#e6f5d0"
            ],
            [
             0.7,
             "#b8e186"
            ],
            [
             0.8,
             "#7fbc41"
            ],
            [
             0.9,
             "#4d9221"
            ],
            [
             1,
             "#276419"
            ]
           ],
           "sequential": [
            [
             0,
             "#0d0887"
            ],
            [
             0.1111111111111111,
             "#46039f"
            ],
            [
             0.2222222222222222,
             "#7201a8"
            ],
            [
             0.3333333333333333,
             "#9c179e"
            ],
            [
             0.4444444444444444,
             "#bd3786"
            ],
            [
             0.5555555555555556,
             "#d8576b"
            ],
            [
             0.6666666666666666,
             "#ed7953"
            ],
            [
             0.7777777777777778,
             "#fb9f3a"
            ],
            [
             0.8888888888888888,
             "#fdca26"
            ],
            [
             1,
             "#f0f921"
            ]
           ],
           "sequentialminus": [
            [
             0,
             "#0d0887"
            ],
            [
             0.1111111111111111,
             "#46039f"
            ],
            [
             0.2222222222222222,
             "#7201a8"
            ],
            [
             0.3333333333333333,
             "#9c179e"
            ],
            [
             0.4444444444444444,
             "#bd3786"
            ],
            [
             0.5555555555555556,
             "#d8576b"
            ],
            [
             0.6666666666666666,
             "#ed7953"
            ],
            [
             0.7777777777777778,
             "#fb9f3a"
            ],
            [
             0.8888888888888888,
             "#fdca26"
            ],
            [
             1,
             "#f0f921"
            ]
           ]
          },
          "colorway": [
           "#636efa",
           "#EF553B",
           "#00cc96",
           "#ab63fa",
           "#FFA15A",
           "#19d3f3",
           "#FF6692",
           "#B6E880",
           "#FF97FF",
           "#FECB52"
          ],
          "font": {
           "color": "#2a3f5f"
          },
          "geo": {
           "bgcolor": "white",
           "lakecolor": "white",
           "landcolor": "#E5ECF6",
           "showlakes": true,
           "showland": true,
           "subunitcolor": "white"
          },
          "hoverlabel": {
           "align": "left"
          },
          "hovermode": "closest",
          "mapbox": {
           "style": "light"
          },
          "paper_bgcolor": "white",
          "plot_bgcolor": "#E5ECF6",
          "polar": {
           "angularaxis": {
            "gridcolor": "white",
            "linecolor": "white",
            "ticks": ""
           },
           "bgcolor": "#E5ECF6",
           "radialaxis": {
            "gridcolor": "white",
            "linecolor": "white",
            "ticks": ""
           }
          },
          "scene": {
           "xaxis": {
            "backgroundcolor": "#E5ECF6",
            "gridcolor": "white",
            "gridwidth": 2,
            "linecolor": "white",
            "showbackground": true,
            "ticks": "",
            "zerolinecolor": "white"
           },
           "yaxis": {
            "backgroundcolor": "#E5ECF6",
            "gridcolor": "white",
            "gridwidth": 2,
            "linecolor": "white",
            "showbackground": true,
            "ticks": "",
            "zerolinecolor": "white"
           },
           "zaxis": {
            "backgroundcolor": "#E5ECF6",
            "gridcolor": "white",
            "gridwidth": 2,
            "linecolor": "white",
            "showbackground": true,
            "ticks": "",
            "zerolinecolor": "white"
           }
          },
          "shapedefaults": {
           "line": {
            "color": "#2a3f5f"
           }
          },
          "ternary": {
           "aaxis": {
            "gridcolor": "white",
            "linecolor": "white",
            "ticks": ""
           },
           "baxis": {
            "gridcolor": "white",
            "linecolor": "white",
            "ticks": ""
           },
           "bgcolor": "#E5ECF6",
           "caxis": {
            "gridcolor": "white",
            "linecolor": "white",
            "ticks": ""
           }
          },
          "title": {
           "x": 0.05
          },
          "xaxis": {
           "automargin": true,
           "gridcolor": "white",
           "linecolor": "white",
           "ticks": "",
           "title": {
            "standoff": 15
           },
           "zerolinecolor": "white",
           "zerolinewidth": 2
          },
          "yaxis": {
           "automargin": true,
           "gridcolor": "white",
           "linecolor": "white",
           "ticks": "",
           "title": {
            "standoff": 15
           },
           "zerolinecolor": "white",
           "zerolinewidth": 2
          }
         }
        },
        "title": {
         "text": "Provider Outcomes with Propensity Score Matching"
        },
        "xaxis": {
         "anchor": "y",
         "domain": [
          0,
          1
         ],
         "title": {
          "text": "odds_ratio"
         }
        },
        "yaxis": {
         "anchor": "x",
         "domain": [
          0,
          1
         ],
         "title": {
          "text": "proportion_failed"
         }
        }
       }
      }
     },
     "metadata": {},
     "output_type": "display_data"
    }
   ],
   "source": [
    "px.scatter(outcomes_df_odds, x=\"odds_ratio\", y=\"proportion_failed\", color=\"p_value\", hover_data=[\"provider\"], title=\"Provider Outcomes with Propensity Score Matching\")"
   ]
  },
  {
   "cell_type": "code",
   "execution_count": null,
   "id": "711234e9",
   "metadata": {},
   "outputs": [],
   "source": []
  },
  {
   "cell_type": "code",
   "execution_count": null,
   "id": "44452c99",
   "metadata": {},
   "outputs": [
    {
     "name": "stdout",
     "output_type": "stream",
     "text": [
      "    provider  odds_ratio  health_risk_assesment\n",
      "0          1    3.653846               6.653846\n",
      "1          2    6.500000               6.321429\n",
      "2          3    2.094545               6.000000\n",
      "3          4    4.317460               5.238095\n",
      "4          5    1.455026               6.611111\n",
      "..       ...         ...                    ...\n",
      "91        92    1.809211               6.947368\n",
      "92        93    1.887097               5.774194\n",
      "93        94    0.405405               5.621622\n",
      "94        95    0.666667               5.791667\n",
      "95        96    0.728000               5.720000\n",
      "\n",
      "[96 rows x 3 columns]\n"
     ]
    },
    {
     "data": {
      "application/vnd.plotly.v1+json": {
       "config": {
        "plotlyServerURL": "https://plot.ly"
       },
       "data": [
        {
         "customdata": {
          "bdata": "AQIDBAUGBwgJCgsMDQ4PEBESExQVFhcYGRobHB0eHyAhIiMkJSYnKCkqKywtLi8wMTIzNDU2Nzg5Ojs8PT4/QEFCQ0RFRkdISUpLTE1OT1BRUlNUVVZXWFlaW1xdXl9g",
          "dtype": "i1",
          "shape": "96, 1"
         },
         "hovertemplate": "odds_ratio=%{x}<br>health_risk_assesment=%{y}<br>provider=%{customdata[0]}<extra></extra>",
         "legendgroup": "",
         "marker": {
          "color": "#636efa",
          "symbol": "circle"
         },
         "mode": "markers",
         "name": "",
         "orientation": "v",
         "showlegend": false,
         "type": "scatter",
         "x": {
          "bdata": "sRM7sRM7DUAAAAAAAAAaQMIQGgyhwQBAURRFURRFEUB9dPLRyUf3PygoKCgoKPg/MW9nSMzb6T9TSimllFL6P1100UUXXfQ/qIM6qIM67D8AAAAAAIDoP57YiZ3YCfk/YJaCu9h42z/Qz8/Pz88HQIgM9yqYJQVAXXTRRRddAEAVqPUrBWrtPwghhBBCCOE/xU7sxE7sIkApXI/C9SjcPzxL2M1vIeA/NpTXUF5D+T9f6IVe6IX0P8P1KFyPwuU/yXa+nxov7T8AAAAAAADwP48czal9hvE/S8oBkeFe8T8NOEiOaBrtP57YiZ3Yid0/UPqkT/qk8z8URVEURVEmQJIkSZIkSfM/q6qqqqqq6j9Dhzc/toDUPwAAAAAAAPA/WtFIwDev9j8AAAAAAADwPwAAAAAAAPA/AAAAAAAA8D8dEBnuVTD7P83MzMzMzAxAAAAAAAAA8D8/9LFLPjfVPx2Boq0GzwFAtomSXZso2T85juM4jmPtP9daa6211to/Fl/xFV/x1T8HaZAGaZD2Py+66KKLLug/5DiO4zgO5D8sqK+gvoLqP5ze9KY3vQFAAAAAAAAA8D/ONttss83mP94CTN4CTN4/VEZlVEZl/D8AAAAAAAAKQG9605ve9AZA0UUXXXTRAUAhC1nIQhbyPxWo9SsFau0/GO7UyFHn8j83mCKfdYPRP1paWlpaWgpAAAAAAAAA8D8luzZRsmvjPzXOIKj9c+I/GnfrvAIa5z8d1EEd1EHtP2ZZlmVZluU/DHG7YcYQ5z+4En4r4bfSP7AR/xrxr+E/AAAAAAAA8D9u27Zt27b9P72G8hrKawJAFtNZTGcx/T+gUeJnlPj5P9hQXkN5De0/AAAAAABg9T8AAAAAAADwPwrXo3A9CgdA8xrKayiv4T9QUFBQUFDgP52cnJycnOw/AAAAAABg9T+0mM5iOovxP1oLBXRsvss/6LSBThvo5D8or6G8hvL8PzLGGGOMMf4/I591gyny2T9VVVVVVVXlP7Kd76fGS+c/",
          "dtype": "f8"
         },
         "xaxis": "x",
         "y": {
          "bdata": "2Ymd2ImdGkCSJEmSJEkZQAAAAAAAABhAPc/zPM/zFEAcx3Ecx3EaQHd3d3d3dxVARhdddNFFF0DXWmuttdYWQHTRRRdddBdAZmZmZmZmFUAAAAAAAAAbQNmJndiJnRZAEpZ7GmG5F0APDw8PDw8XQCd2Yid2YhlASZIkSZIkF0CO4ziO4zgWQOQ4juM4jhZAip3YiZ3YGUAAAAAAAAAYQMVXfMVXfBlADeU1lNdQGkAndmIndmIXQAzDMAzDMBRAPQrXo3A9GkDZiZ3YiZ0aQD6NsNzTCBtAAAAAAAAAGkC4HoXrUbgWQMVO7MRO7BhAq6qqqqqqGEAAAAAAAAAYQLdt27Zt2xdAVVVVVVVVFUBba6211loXQBiGYRiGYRhAzczMzMzMGEDe3d3d3d0ZQAAAAAAAABhAAAAAAAAAG0C66KKLLroYQCVJkiRJkhhA4XoUrkfhFkAffPDBBx8YQL3pTW960xdAuacRlnsaGUAAAAAAAIAYQLbWWmuttRZA27Zt27ZtF0A7sRM7sRMXQFVVVVVVVRZAVVVVVVVVF0B7Ce0ltJcYQJze9KY3vRlAq6qqqqqqGUC21lprrbUWQOLh4eHh4RdASZIkSZIkGEDEw8PDw8MXQJGFLGQhCxVAAAAAAAAAGEAtZCELWcgaQDmO4ziO4xhAIQtZyEIWFkAAAAAAAEAXQDw8PDw8PBhA5DiO4ziOGEAWX/EVX/EZQFFeQ3kN5RVALS0tLS0tGUB7FK5H4XoYQAzDMAzDMBhAJrSX0F5CF0AAAAAAAAAWQFK4HoXrURhAbtu2bdu2F0DNzMzMzMwXQCivobyG8hpAG8prKK+hGEAhC1nIQhYWQKuqqqqqqhdAAAAAAAAAGEC3bdu2bdsWQM3MzMzMzBdAMzMzMzMzFUC1tLS0tLQYQJqZmZmZmRhAAAAAAAAAGUAN5TWU11AWQEdY7mmE5RZA16NwPQrXF0CivIbyGsobQBljjDHGGBdAyWfdYIp8FkCrqqqqqioXQOF6FK5H4RZA",
          "dtype": "f8"
         },
         "yaxis": "y"
        }
       ],
       "layout": {
        "legend": {
         "tracegroupgap": 0
        },
        "template": {
         "data": {
          "bar": [
           {
            "error_x": {
             "color": "#2a3f5f"
            },
            "error_y": {
             "color": "#2a3f5f"
            },
            "marker": {
             "line": {
              "color": "#E5ECF6",
              "width": 0.5
             },
             "pattern": {
              "fillmode": "overlay",
              "size": 10,
              "solidity": 0.2
             }
            },
            "type": "bar"
           }
          ],
          "barpolar": [
           {
            "marker": {
             "line": {
              "color": "#E5ECF6",
              "width": 0.5
             },
             "pattern": {
              "fillmode": "overlay",
              "size": 10,
              "solidity": 0.2
             }
            },
            "type": "barpolar"
           }
          ],
          "carpet": [
           {
            "aaxis": {
             "endlinecolor": "#2a3f5f",
             "gridcolor": "white",
             "linecolor": "white",
             "minorgridcolor": "white",
             "startlinecolor": "#2a3f5f"
            },
            "baxis": {
             "endlinecolor": "#2a3f5f",
             "gridcolor": "white",
             "linecolor": "white",
             "minorgridcolor": "white",
             "startlinecolor": "#2a3f5f"
            },
            "type": "carpet"
           }
          ],
          "choropleth": [
           {
            "colorbar": {
             "outlinewidth": 0,
             "ticks": ""
            },
            "type": "choropleth"
           }
          ],
          "contour": [
           {
            "colorbar": {
             "outlinewidth": 0,
             "ticks": ""
            },
            "colorscale": [
             [
              0,
              "#0d0887"
             ],
             [
              0.1111111111111111,
              "#46039f"
             ],
             [
              0.2222222222222222,
              "#7201a8"
             ],
             [
              0.3333333333333333,
              "#9c179e"
             ],
             [
              0.4444444444444444,
              "#bd3786"
             ],
             [
              0.5555555555555556,
              "#d8576b"
             ],
             [
              0.6666666666666666,
              "#ed7953"
             ],
             [
              0.7777777777777778,
              "#fb9f3a"
             ],
             [
              0.8888888888888888,
              "#fdca26"
             ],
             [
              1,
              "#f0f921"
             ]
            ],
            "type": "contour"
           }
          ],
          "contourcarpet": [
           {
            "colorbar": {
             "outlinewidth": 0,
             "ticks": ""
            },
            "type": "contourcarpet"
           }
          ],
          "heatmap": [
           {
            "colorbar": {
             "outlinewidth": 0,
             "ticks": ""
            },
            "colorscale": [
             [
              0,
              "#0d0887"
             ],
             [
              0.1111111111111111,
              "#46039f"
             ],
             [
              0.2222222222222222,
              "#7201a8"
             ],
             [
              0.3333333333333333,
              "#9c179e"
             ],
             [
              0.4444444444444444,
              "#bd3786"
             ],
             [
              0.5555555555555556,
              "#d8576b"
             ],
             [
              0.6666666666666666,
              "#ed7953"
             ],
             [
              0.7777777777777778,
              "#fb9f3a"
             ],
             [
              0.8888888888888888,
              "#fdca26"
             ],
             [
              1,
              "#f0f921"
             ]
            ],
            "type": "heatmap"
           }
          ],
          "histogram": [
           {
            "marker": {
             "pattern": {
              "fillmode": "overlay",
              "size": 10,
              "solidity": 0.2
             }
            },
            "type": "histogram"
           }
          ],
          "histogram2d": [
           {
            "colorbar": {
             "outlinewidth": 0,
             "ticks": ""
            },
            "colorscale": [
             [
              0,
              "#0d0887"
             ],
             [
              0.1111111111111111,
              "#46039f"
             ],
             [
              0.2222222222222222,
              "#7201a8"
             ],
             [
              0.3333333333333333,
              "#9c179e"
             ],
             [
              0.4444444444444444,
              "#bd3786"
             ],
             [
              0.5555555555555556,
              "#d8576b"
             ],
             [
              0.6666666666666666,
              "#ed7953"
             ],
             [
              0.7777777777777778,
              "#fb9f3a"
             ],
             [
              0.8888888888888888,
              "#fdca26"
             ],
             [
              1,
              "#f0f921"
             ]
            ],
            "type": "histogram2d"
           }
          ],
          "histogram2dcontour": [
           {
            "colorbar": {
             "outlinewidth": 0,
             "ticks": ""
            },
            "colorscale": [
             [
              0,
              "#0d0887"
             ],
             [
              0.1111111111111111,
              "#46039f"
             ],
             [
              0.2222222222222222,
              "#7201a8"
             ],
             [
              0.3333333333333333,
              "#9c179e"
             ],
             [
              0.4444444444444444,
              "#bd3786"
             ],
             [
              0.5555555555555556,
              "#d8576b"
             ],
             [
              0.6666666666666666,
              "#ed7953"
             ],
             [
              0.7777777777777778,
              "#fb9f3a"
             ],
             [
              0.8888888888888888,
              "#fdca26"
             ],
             [
              1,
              "#f0f921"
             ]
            ],
            "type": "histogram2dcontour"
           }
          ],
          "mesh3d": [
           {
            "colorbar": {
             "outlinewidth": 0,
             "ticks": ""
            },
            "type": "mesh3d"
           }
          ],
          "parcoords": [
           {
            "line": {
             "colorbar": {
              "outlinewidth": 0,
              "ticks": ""
             }
            },
            "type": "parcoords"
           }
          ],
          "pie": [
           {
            "automargin": true,
            "type": "pie"
           }
          ],
          "scatter": [
           {
            "fillpattern": {
             "fillmode": "overlay",
             "size": 10,
             "solidity": 0.2
            },
            "type": "scatter"
           }
          ],
          "scatter3d": [
           {
            "line": {
             "colorbar": {
              "outlinewidth": 0,
              "ticks": ""
             }
            },
            "marker": {
             "colorbar": {
              "outlinewidth": 0,
              "ticks": ""
             }
            },
            "type": "scatter3d"
           }
          ],
          "scattercarpet": [
           {
            "marker": {
             "colorbar": {
              "outlinewidth": 0,
              "ticks": ""
             }
            },
            "type": "scattercarpet"
           }
          ],
          "scattergeo": [
           {
            "marker": {
             "colorbar": {
              "outlinewidth": 0,
              "ticks": ""
             }
            },
            "type": "scattergeo"
           }
          ],
          "scattergl": [
           {
            "marker": {
             "colorbar": {
              "outlinewidth": 0,
              "ticks": ""
             }
            },
            "type": "scattergl"
           }
          ],
          "scattermap": [
           {
            "marker": {
             "colorbar": {
              "outlinewidth": 0,
              "ticks": ""
             }
            },
            "type": "scattermap"
           }
          ],
          "scattermapbox": [
           {
            "marker": {
             "colorbar": {
              "outlinewidth": 0,
              "ticks": ""
             }
            },
            "type": "scattermapbox"
           }
          ],
          "scatterpolar": [
           {
            "marker": {
             "colorbar": {
              "outlinewidth": 0,
              "ticks": ""
             }
            },
            "type": "scatterpolar"
           }
          ],
          "scatterpolargl": [
           {
            "marker": {
             "colorbar": {
              "outlinewidth": 0,
              "ticks": ""
             }
            },
            "type": "scatterpolargl"
           }
          ],
          "scatterternary": [
           {
            "marker": {
             "colorbar": {
              "outlinewidth": 0,
              "ticks": ""
             }
            },
            "type": "scatterternary"
           }
          ],
          "surface": [
           {
            "colorbar": {
             "outlinewidth": 0,
             "ticks": ""
            },
            "colorscale": [
             [
              0,
              "#0d0887"
             ],
             [
              0.1111111111111111,
              "#46039f"
             ],
             [
              0.2222222222222222,
              "#7201a8"
             ],
             [
              0.3333333333333333,
              "#9c179e"
             ],
             [
              0.4444444444444444,
              "#bd3786"
             ],
             [
              0.5555555555555556,
              "#d8576b"
             ],
             [
              0.6666666666666666,
              "#ed7953"
             ],
             [
              0.7777777777777778,
              "#fb9f3a"
             ],
             [
              0.8888888888888888,
              "#fdca26"
             ],
             [
              1,
              "#f0f921"
             ]
            ],
            "type": "surface"
           }
          ],
          "table": [
           {
            "cells": {
             "fill": {
              "color": "#EBF0F8"
             },
             "line": {
              "color": "white"
             }
            },
            "header": {
             "fill": {
              "color": "#C8D4E3"
             },
             "line": {
              "color": "white"
             }
            },
            "type": "table"
           }
          ]
         },
         "layout": {
          "annotationdefaults": {
           "arrowcolor": "#2a3f5f",
           "arrowhead": 0,
           "arrowwidth": 1
          },
          "autotypenumbers": "strict",
          "coloraxis": {
           "colorbar": {
            "outlinewidth": 0,
            "ticks": ""
           }
          },
          "colorscale": {
           "diverging": [
            [
             0,
             "#8e0152"
            ],
            [
             0.1,
             "#c51b7d"
            ],
            [
             0.2,
             "#de77ae"
            ],
            [
             0.3,
             "#f1b6da"
            ],
            [
             0.4,
             "#fde0ef"
            ],
            [
             0.5,
             "#f7f7f7"
            ],
            [
             0.6,
             "#e6f5d0"
            ],
            [
             0.7,
             "#b8e186"
            ],
            [
             0.8,
             "#7fbc41"
            ],
            [
             0.9,
             "#4d9221"
            ],
            [
             1,
             "#276419"
            ]
           ],
           "sequential": [
            [
             0,
             "#0d0887"
            ],
            [
             0.1111111111111111,
             "#46039f"
            ],
            [
             0.2222222222222222,
             "#7201a8"
            ],
            [
             0.3333333333333333,
             "#9c179e"
            ],
            [
             0.4444444444444444,
             "#bd3786"
            ],
            [
             0.5555555555555556,
             "#d8576b"
            ],
            [
             0.6666666666666666,
             "#ed7953"
            ],
            [
             0.7777777777777778,
             "#fb9f3a"
            ],
            [
             0.8888888888888888,
             "#fdca26"
            ],
            [
             1,
             "#f0f921"
            ]
           ],
           "sequentialminus": [
            [
             0,
             "#0d0887"
            ],
            [
             0.1111111111111111,
             "#46039f"
            ],
            [
             0.2222222222222222,
             "#7201a8"
            ],
            [
             0.3333333333333333,
             "#9c179e"
            ],
            [
             0.4444444444444444,
             "#bd3786"
            ],
            [
             0.5555555555555556,
             "#d8576b"
            ],
            [
             0.6666666666666666,
             "#ed7953"
            ],
            [
             0.7777777777777778,
             "#fb9f3a"
            ],
            [
             0.8888888888888888,
             "#fdca26"
            ],
            [
             1,
             "#f0f921"
            ]
           ]
          },
          "colorway": [
           "#636efa",
           "#EF553B",
           "#00cc96",
           "#ab63fa",
           "#FFA15A",
           "#19d3f3",
           "#FF6692",
           "#B6E880",
           "#FF97FF",
           "#FECB52"
          ],
          "font": {
           "color": "#2a3f5f"
          },
          "geo": {
           "bgcolor": "white",
           "lakecolor": "white",
           "landcolor": "#E5ECF6",
           "showlakes": true,
           "showland": true,
           "subunitcolor": "white"
          },
          "hoverlabel": {
           "align": "left"
          },
          "hovermode": "closest",
          "mapbox": {
           "style": "light"
          },
          "paper_bgcolor": "white",
          "plot_bgcolor": "#E5ECF6",
          "polar": {
           "angularaxis": {
            "gridcolor": "white",
            "linecolor": "white",
            "ticks": ""
           },
           "bgcolor": "#E5ECF6",
           "radialaxis": {
            "gridcolor": "white",
            "linecolor": "white",
            "ticks": ""
           }
          },
          "scene": {
           "xaxis": {
            "backgroundcolor": "#E5ECF6",
            "gridcolor": "white",
            "gridwidth": 2,
            "linecolor": "white",
            "showbackground": true,
            "ticks": "",
            "zerolinecolor": "white"
           },
           "yaxis": {
            "backgroundcolor": "#E5ECF6",
            "gridcolor": "white",
            "gridwidth": 2,
            "linecolor": "white",
            "showbackground": true,
            "ticks": "",
            "zerolinecolor": "white"
           },
           "zaxis": {
            "backgroundcolor": "#E5ECF6",
            "gridcolor": "white",
            "gridwidth": 2,
            "linecolor": "white",
            "showbackground": true,
            "ticks": "",
            "zerolinecolor": "white"
           }
          },
          "shapedefaults": {
           "line": {
            "color": "#2a3f5f"
           }
          },
          "ternary": {
           "aaxis": {
            "gridcolor": "white",
            "linecolor": "white",
            "ticks": ""
           },
           "baxis": {
            "gridcolor": "white",
            "linecolor": "white",
            "ticks": ""
           },
           "bgcolor": "#E5ECF6",
           "caxis": {
            "gridcolor": "white",
            "linecolor": "white",
            "ticks": ""
           }
          },
          "title": {
           "x": 0.05
          },
          "xaxis": {
           "automargin": true,
           "gridcolor": "white",
           "linecolor": "white",
           "ticks": "",
           "title": {
            "standoff": 15
           },
           "zerolinecolor": "white",
           "zerolinewidth": 2
          },
          "yaxis": {
           "automargin": true,
           "gridcolor": "white",
           "linecolor": "white",
           "ticks": "",
           "title": {
            "standoff": 15
           },
           "zerolinecolor": "white",
           "zerolinewidth": 2
          }
         }
        },
        "title": {
         "text": "Provider Outcomes with Propensity Score Matching"
        },
        "xaxis": {
         "anchor": "y",
         "domain": [
          0,
          1
         ],
         "title": {
          "text": "odds_ratio"
         }
        },
        "yaxis": {
         "anchor": "x",
         "domain": [
          0,
          1
         ],
         "title": {
          "text": "health_risk_assesment"
         }
        }
       }
      }
     },
     "metadata": {},
     "output_type": "display_data"
    }
   ],
   "source": [
    "# what about doing a log reg just on the health risk analysis and provider to see if there is a gain in information\n",
    "outcomes_df_odds_hra = outcomes_df_odds.merge(data_outcome_compare[[\"servicing_provider_id\", \"health_risk_assesment\", \"member_id\", \"outcome\"]], left_on=\"provider\", right_on=\"servicing_provider_id\")\n",
    "outcomes_df_odds_hra_failed = outcomes_df_odds_hra.query(\"outcome == 'failure'\").groupby([\"provider\", \"odds_ratio\"]).health_risk_assesment.mean().reset_index()\n",
    "print(outcomes_df_odds_hra_failed)\n",
    "\n",
    "outcomes_df_odds_hra_failed[[\"odds_ratio\", \"health_risk_assesment\"]].corr()\n",
    "px.scatter(outcomes_df_odds_hra_failed, x=\"odds_ratio\", y=\"health_risk_assesment\", hover_data=[\"provider\"], title=\"Provider Outcomes with Propensity Score Matching\")\n"
   ]
  },
  {
   "cell_type": "code",
   "execution_count": null,
   "id": "ec1c8c2f",
   "metadata": {},
   "outputs": [],
   "source": [
    "# all the above was done under the assumption failure was binary... \n",
    "# however we might want to consider a survival analysis given that we have the time of each visit\n",
    "# although we dont have the time of the failure event  \n",
    "# add this into what we would do if we had the data (maybe simulate?)\n",
    "# TODO simulate this data if we can "
   ]
  },
  {
   "cell_type": "code",
   "execution_count": null,
   "id": "6fa4a68e",
   "metadata": {},
   "outputs": [],
   "source": [
    "# TODO try a reduced model provider and or health risk assessment\n",
    "# if we want to compare the full model with the reduced model we can use WAIC\n",
    "#az.compare({\"full\": idata1, \"reduced\": idata2}, method=\"WAIC\")"
   ]
  },
  {
   "cell_type": "markdown",
   "id": "cca4f23f",
   "metadata": {},
   "source": [
    "# Covariate adjusted emprirical null "
   ]
  },
  {
   "cell_type": "code",
   "execution_count": null,
   "id": "208e0483",
   "metadata": {},
   "outputs": [],
   "source": [
    "import numpy as np\n",
    "import pandas as pd\n",
    "from sklearn.linear_model import LogisticRegression\n",
    "from sklearn.utils import resample\n",
    "from tqdm import tqdm\n",
    "\n",
    "def empirical_null_provider_failures(df, target_col, provider_col, covariates, n_simulations=1000, random_state=42):\n",
    "    \"\"\"\n",
    "    Compare observed provider failure rates to an empirical null conditioned on covariates.\n",
    "\n",
    "    Parameters:\n",
    "    - df: DataFrame with data\n",
    "    - target_col: column name for binary outcome (0/1)\n",
    "    - provider_col: column name for provider/grouping\n",
    "    - covariates: list of covariates to condition on\n",
    "    - n_simulations: number of simulations for null distribution\n",
    "\n",
    "    Returns:\n",
    "    - results_df: DataFrame with observed, expected mean, p-value, and CI per provider\n",
    "    \"\"\"\n",
    "    df = df.copy()\n",
    "    df = df.dropna(subset=[target_col] + covariates + [provider_col])\n",
    "    # binarize target column \n",
    "    df[target_col] = df[target_col].apply(lambda x: 1 if x == 'failure' else 0)\n",
    "    # Fit logistic regression to estimate P(failure | covariates)\n",
    "    X = df[covariates]\n",
    "    y = df[target_col]\n",
    "    model = LogisticRegression(max_iter=1000)\n",
    "    model.fit(X, y)\n",
    "    df['pred_prob'] = model.predict_proba(X)[:, 1]\n",
    "\n",
    "    provider_results = []\n",
    "\n",
    "    for provider, group in tqdm(df.groupby(provider_col), desc=\"Simulating nulls by provider\"):\n",
    "        n = len(group)\n",
    "        # true failure rate per provider\n",
    "        observed_fail_rate = group[target_col].mean()\n",
    "        predicted_probs = group['pred_prob'].values\n",
    "\n",
    "        # Simulate n_simulations provider-level failure rates\n",
    "        sim_fail_rates = []\n",
    "        for _ in range(n_simulations):\n",
    "            # simulate outcomes based on predicted probabilities for that providers patients based only on covariates\n",
    "            simulated_outcomes = np.random.binomial(n=1, p=predicted_probs)\n",
    "            sim_fail_rates.append(simulated_outcomes.mean())\n",
    "\n",
    "        sim_fail_rates = np.array(sim_fail_rates)\n",
    "        # determine p-value and confidence intervals\n",
    "        lower = np.percentile(sim_fail_rates, 2.5)\n",
    "        upper = np.percentile(sim_fail_rates, 97.5)\n",
    "        p_value = (np.sum(sim_fail_rates >= observed_fail_rate) + 1) / (n_simulations + 1) if observed_fail_rate > sim_fail_rates.mean() else (np.sum(sim_fail_rates <= observed_fail_rate) + 1) / (n_simulations + 1)\n",
    "\n",
    "        provider_results.append({\n",
    "            \"provider\": provider,\n",
    "            \"observed_failure_rate\": observed_fail_rate,\n",
    "            \"expected_mean\": sim_fail_rates.mean(),\n",
    "            \"lower_95_CI\": lower,\n",
    "            \"upper_95_CI\": upper,\n",
    "            \"p_value\": p_value\n",
    "        })\n",
    "\n",
    "    results_df = pd.DataFrame(provider_results)\n",
    "    return results_df\n"
   ]
  },
  {
   "cell_type": "code",
   "execution_count": 615,
   "id": "38436741",
   "metadata": {},
   "outputs": [
    {
     "name": "stderr",
     "output_type": "stream",
     "text": [
      "/Library/Frameworks/Python.framework/Versions/3.13/lib/python3.13/site-packages/sklearn/linear_model/_linear_loss.py:200: RuntimeWarning:\n",
      "\n",
      "divide by zero encountered in matmul\n",
      "\n",
      "/Library/Frameworks/Python.framework/Versions/3.13/lib/python3.13/site-packages/sklearn/linear_model/_linear_loss.py:200: RuntimeWarning:\n",
      "\n",
      "overflow encountered in matmul\n",
      "\n",
      "/Library/Frameworks/Python.framework/Versions/3.13/lib/python3.13/site-packages/sklearn/linear_model/_linear_loss.py:200: RuntimeWarning:\n",
      "\n",
      "invalid value encountered in matmul\n",
      "\n",
      "/Library/Frameworks/Python.framework/Versions/3.13/lib/python3.13/site-packages/sklearn/utils/extmath.py:203: RuntimeWarning:\n",
      "\n",
      "divide by zero encountered in matmul\n",
      "\n",
      "/Library/Frameworks/Python.framework/Versions/3.13/lib/python3.13/site-packages/sklearn/utils/extmath.py:203: RuntimeWarning:\n",
      "\n",
      "overflow encountered in matmul\n",
      "\n",
      "/Library/Frameworks/Python.framework/Versions/3.13/lib/python3.13/site-packages/sklearn/utils/extmath.py:203: RuntimeWarning:\n",
      "\n",
      "invalid value encountered in matmul\n",
      "\n"
     ]
    },
    {
     "name": "stdout",
     "output_type": "stream",
     "text": [
      "      member_sex  health_risk_assesment\n",
      "0              0                      7\n",
      "1              0                      3\n",
      "2              1                      2\n",
      "3              0                      4\n",
      "4              1                      7\n",
      "...          ...                    ...\n",
      "4242           0                      9\n",
      "4243           0                      1\n",
      "4244           0                      8\n",
      "4245           0                      8\n",
      "4246           1                      3\n",
      "\n",
      "[4247 rows x 2 columns]\n"
     ]
    },
    {
     "name": "stderr",
     "output_type": "stream",
     "text": [
      "Simulating nulls by provider: 100%|██████████| 96/96 [00:00<00:00, 153.26it/s]\n"
     ]
    }
   ],
   "source": [
    "empirical_null_covariate_test = empirical_null_provider_failures(data_outcome_compare, \"outcome\", \"servicing_provider_id\", [\"member_sex\", \"health_risk_assesment\"])"
   ]
  },
  {
   "cell_type": "code",
   "execution_count": 622,
   "id": "4ffa13c8",
   "metadata": {},
   "outputs": [
    {
     "data": {
      "text/plain": [
       "member_sex  health_risk_assesment  outcome\n",
       "0           1                      pass       133\n",
       "            2                      failure     31\n",
       "                                   pass       258\n",
       "            3                      failure    131\n",
       "                                   pass       191\n",
       "            4                      failure    180\n",
       "                                   pass       131\n",
       "            5                      failure    168\n",
       "                                   pass        91\n",
       "            6                      failure    206\n",
       "                                   pass        95\n",
       "            7                      failure    201\n",
       "                                   pass        72\n",
       "            8                      failure    145\n",
       "                                   pass        42\n",
       "            9                      failure     50\n",
       "                                   pass        13\n",
       "1           2                      failure     14\n",
       "                                   pass       127\n",
       "            3                      failure    113\n",
       "                                   pass       167\n",
       "            4                      failure    176\n",
       "                                   pass       163\n",
       "            5                      failure    196\n",
       "                                   pass       109\n",
       "            6                      failure    172\n",
       "                                   pass        78\n",
       "            7                      failure    200\n",
       "                                   pass        64\n",
       "            8                      failure    192\n",
       "                                   pass        50\n",
       "            9                      failure    194\n",
       "                                   pass        44\n",
       "            10                     failure     44\n",
       "                                   pass         6\n",
       "Name: member_id, dtype: int64"
      ]
     },
     "execution_count": 622,
     "metadata": {},
     "output_type": "execute_result"
    }
   ],
   "source": [
    "# addressing issues in log reg above, could be because all females with a health risk assesment of 1 all pass \n",
    "# and there are no men with a health risk assessment of 1\n",
    "data_outcome_compare.groupby([\"member_sex\", \"health_risk_assesment\", \"outcome\"]).member_id.count().sort_index()"
   ]
  },
  {
   "cell_type": "code",
   "execution_count": 613,
   "id": "28debd5b",
   "metadata": {},
   "outputs": [
    {
     "data": {
      "text/html": [
       "<div>\n",
       "<style scoped>\n",
       "    .dataframe tbody tr th:only-of-type {\n",
       "        vertical-align: middle;\n",
       "    }\n",
       "\n",
       "    .dataframe tbody tr th {\n",
       "        vertical-align: top;\n",
       "    }\n",
       "\n",
       "    .dataframe thead th {\n",
       "        text-align: right;\n",
       "    }\n",
       "</style>\n",
       "<table border=\"1\" class=\"dataframe\">\n",
       "  <thead>\n",
       "    <tr style=\"text-align: right;\">\n",
       "      <th></th>\n",
       "      <th>provider</th>\n",
       "      <th>observed_failure_rate</th>\n",
       "      <th>expected_mean</th>\n",
       "      <th>lower_95_CI</th>\n",
       "      <th>upper_95_CI</th>\n",
       "      <th>p_value</th>\n",
       "    </tr>\n",
       "  </thead>\n",
       "  <tbody>\n",
       "    <tr>\n",
       "      <th>56</th>\n",
       "      <td>57</td>\n",
       "      <td>0.723404</td>\n",
       "      <td>0.591532</td>\n",
       "      <td>0.468085</td>\n",
       "      <td>0.723404</td>\n",
       "      <td>0.030969</td>\n",
       "    </tr>\n",
       "    <tr>\n",
       "      <th>37</th>\n",
       "      <td>38</td>\n",
       "      <td>0.491803</td>\n",
       "      <td>0.603951</td>\n",
       "      <td>0.491803</td>\n",
       "      <td>0.704918</td>\n",
       "      <td>0.033966</td>\n",
       "    </tr>\n",
       "    <tr>\n",
       "      <th>91</th>\n",
       "      <td>92</td>\n",
       "      <td>0.463415</td>\n",
       "      <td>0.597537</td>\n",
       "      <td>0.463415</td>\n",
       "      <td>0.731707</td>\n",
       "      <td>0.028971</td>\n",
       "    </tr>\n",
       "    <tr>\n",
       "      <th>21</th>\n",
       "      <td>22</td>\n",
       "      <td>0.431818</td>\n",
       "      <td>0.566636</td>\n",
       "      <td>0.431818</td>\n",
       "      <td>0.704545</td>\n",
       "      <td>0.032967</td>\n",
       "    </tr>\n",
       "    <tr>\n",
       "      <th>77</th>\n",
       "      <td>78</td>\n",
       "      <td>0.431818</td>\n",
       "      <td>0.579273</td>\n",
       "      <td>0.453977</td>\n",
       "      <td>0.727273</td>\n",
       "      <td>0.025974</td>\n",
       "    </tr>\n",
       "    <tr>\n",
       "      <th>88</th>\n",
       "      <td>89</td>\n",
       "      <td>0.431818</td>\n",
       "      <td>0.543023</td>\n",
       "      <td>0.409091</td>\n",
       "      <td>0.681818</td>\n",
       "      <td>0.049950</td>\n",
       "    </tr>\n",
       "    <tr>\n",
       "      <th>4</th>\n",
       "      <td>5</td>\n",
       "      <td>0.418605</td>\n",
       "      <td>0.540628</td>\n",
       "      <td>0.418605</td>\n",
       "      <td>0.674419</td>\n",
       "      <td>0.049950</td>\n",
       "    </tr>\n",
       "    <tr>\n",
       "      <th>65</th>\n",
       "      <td>66</td>\n",
       "      <td>0.377778</td>\n",
       "      <td>0.545622</td>\n",
       "      <td>0.422222</td>\n",
       "      <td>0.688889</td>\n",
       "      <td>0.011988</td>\n",
       "    </tr>\n",
       "    <tr>\n",
       "      <th>64</th>\n",
       "      <td>65</td>\n",
       "      <td>0.372093</td>\n",
       "      <td>0.499953</td>\n",
       "      <td>0.372093</td>\n",
       "      <td>0.627907</td>\n",
       "      <td>0.035964</td>\n",
       "    </tr>\n",
       "  </tbody>\n",
       "</table>\n",
       "</div>"
      ],
      "text/plain": [
       "    provider  observed_failure_rate  expected_mean  lower_95_CI  upper_95_CI  \\\n",
       "56        57               0.723404       0.591532     0.468085     0.723404   \n",
       "37        38               0.491803       0.603951     0.491803     0.704918   \n",
       "91        92               0.463415       0.597537     0.463415     0.731707   \n",
       "21        22               0.431818       0.566636     0.431818     0.704545   \n",
       "77        78               0.431818       0.579273     0.453977     0.727273   \n",
       "88        89               0.431818       0.543023     0.409091     0.681818   \n",
       "4          5               0.418605       0.540628     0.418605     0.674419   \n",
       "65        66               0.377778       0.545622     0.422222     0.688889   \n",
       "64        65               0.372093       0.499953     0.372093     0.627907   \n",
       "\n",
       "     p_value  \n",
       "56  0.030969  \n",
       "37  0.033966  \n",
       "91  0.028971  \n",
       "21  0.032967  \n",
       "77  0.025974  \n",
       "88  0.049950  \n",
       "4   0.049950  \n",
       "65  0.011988  \n",
       "64  0.035964  "
      ]
     },
     "execution_count": 613,
     "metadata": {},
     "output_type": "execute_result"
    }
   ],
   "source": [
    "empirical_null_covariate_test.query(\"p_value < 0.05\").sort_values(\"observed_failure_rate\", ascending=False)"
   ]
  },
  {
   "cell_type": "markdown",
   "id": "21f843be",
   "metadata": {},
   "source": [
    "# data we wish we had \n",
    "- BMI\n",
    "- ZIPCODE \n",
    "- Medications \n",
    "- Time of follow up failure or last followup "
   ]
  },
  {
   "cell_type": "code",
   "execution_count": 624,
   "id": "a1d37231",
   "metadata": {},
   "outputs": [],
   "source": [
    "import pandas as pd\n",
    "import numpy as np\n",
    "\n",
    "def generate_later_timestamp_column(df, reference_col, new_col='later_timestamp', min_days=1, max_days=30, seed=None):\n",
    "    \"\"\"\n",
    "    Adds a new timestamp column where each value is after the corresponding value in `reference_col`.\n",
    "\n",
    "    Parameters:\n",
    "    - df: pandas DataFrame\n",
    "    - reference_col: name of the column with base timestamps\n",
    "    - new_col: name of the new column to create\n",
    "    - min_days: minimum number of days after the reference date\n",
    "    - max_days: maximum number of days after the reference date\n",
    "    - seed: random seed for reproducibility\n",
    "\n",
    "    Returns:\n",
    "    - df with the new column added\n",
    "    \"\"\"\n",
    "    if seed is not None:\n",
    "        np.random.seed(seed)\n",
    "\n",
    "    # Ensure the reference column is in datetime format\n",
    "    df = df.copy()\n",
    "    df[reference_col] = pd.to_datetime(df[reference_col])\n",
    "\n",
    "    # Generate random number of days to add\n",
    "    days_to_add = np.random.randint(min_days, max_days + 1, size=len(df))\n",
    "    df[new_col] = df[reference_col] + pd.to_timedelta(days_to_add, unit='D')\n",
    "\n",
    "    return df\n"
   ]
  },
  {
   "cell_type": "code",
   "execution_count": 629,
   "id": "c9262065",
   "metadata": {},
   "outputs": [
    {
     "name": "stderr",
     "output_type": "stream",
     "text": [
      "/var/folders/y_/kv1q88q92mz481dwnsnd3sk00000gn/T/ipykernel_52569/200865074.py:24: UserWarning:\n",
      "\n",
      "Could not infer format, so each element will be parsed individually, falling back to `dateutil`. To ensure parsing is consistent and as-expected, please specify a format.\n",
      "\n"
     ]
    }
   ],
   "source": [
    "data_time_synth = generate_later_timestamp_column(data, \"treatment_date\", new_col='followup_date', min_days=30, max_days=360, seed=None)"
   ]
  },
  {
   "cell_type": "code",
   "execution_count": null,
   "id": "59c615b1",
   "metadata": {},
   "outputs": [],
   "source": [
    "# lets create a survival analysis to determine the effect of provider and covariates on time to failure\n",
    "\n",
    "def cox_provider_effect(\n",
    "    df, \n",
    "    start_col,\n",
    "    end_col, \n",
    "    event_col, \n",
    "    provider_col, \n",
    "    covariates=['member_sex', 'health_risk_assesment']\n",
    "):\n",
    "    \"\"\"\n",
    "    Fits a Cox proportional hazards model with provider as a factor and specified covariates.\n",
    "\n",
    "    Parameters:\n",
    "    - df: pandas DataFrame with survival data\n",
    "    - duration_col: name of the time-to-event column\n",
    "    - event_col: name of the event indicator column (1=event, 0=censor)\n",
    "    - provider_col: name of the provider categorical column\n",
    "    - covariates: list of covariate column names to adjust for\n",
    "\n",
    "    Returns:\n",
    "    - model: fitted lifelines CoxPHFitter object\n",
    "    - summary_df: DataFrame with model summary including provider hazard ratios and covariates\n",
    "    \"\"\"\n",
    "    df = df.copy()\n",
    "    df[event_col] = df[event_col].apply(lambda x: 1 if x == 'failure' else 0)\n",
    "    df[\"duration\"] = df[end_col] - df[start_col]\n",
    "    df[\"duration\"] = df[\"duration\"].dt.days  # Convert timedelta to days\n",
    "    \n",
    "    # Convert provider to categorical and create dummies (one-hot encode, drop one to avoid collinearity)\n",
    "    provider_dummies = pd.get_dummies(df[provider_col], prefix='provider', drop_first=True)\n",
    "\n",
    "    # Combine covariates\n",
    "    X = pd.concat([provider_dummies, df[covariates]], axis=1)\n",
    "\n",
    "    # Combine with duration and event columns\n",
    "    survival_df = pd.concat([df[[\"duration\", event_col]], X], axis=1)\n",
    "\n",
    "    # Fit Cox model\n",
    "    cph = CoxPHFitter()\n",
    "    cph.fit(survival_df, duration_col=\"duration\", event_col=event_col)\n",
    "\n",
    "    return cph, cph.summary"
   ]
  },
  {
   "cell_type": "code",
   "execution_count": 666,
   "id": "ce2a80e6",
   "metadata": {},
   "outputs": [],
   "source": [
    "def bayesian_cox_model(\n",
    "    df,\n",
    "    start_col,\n",
    "    end_col,\n",
    "    event_col,\n",
    "    provider_col,\n",
    "    covariates=[\"member_sex\", \"health_risk_assesment\"],\n",
    "    draws=1000,\n",
    "    tune=1000,\n",
    "    chains=4,\n",
    "):\n",
    "    \"\"\"\n",
    "    Fit a Bayesian Cox-style survival model using exponential hazards with right-censoring.\n",
    "    \"\"\"\n",
    "\n",
    "    df = df.copy()\n",
    "\n",
    "    # Binary outcome: 1 = failure, 0 = censored\n",
    "    df[event_col] = df[event_col].apply(lambda x: 1 if x == \"failure\" else 0)\n",
    "\n",
    "    # Duration in days\n",
    "    df[\"duration\"] = (df[end_col] - df[start_col]).dt.days\n",
    "    df = df.dropna(subset=[\"duration\", event_col] + covariates)\n",
    "\n",
    "    # Encode providers\n",
    "    provider_codes, provider_names = pd.factorize(df[provider_col])\n",
    "    n_providers = len(provider_names)\n",
    "\n",
    "    # Design matrix\n",
    "    X = dmatrix(\"0 + \" + \" + \".join(covariates), df, return_type=\"dataframe\")\n",
    "    X = (X - X.mean()) / X.std()\n",
    "\n",
    "    duration = df[\"duration\"].values\n",
    "    event = df[event_col].values\n",
    "    provider_codes = np.asarray(provider_codes)\n",
    "\n",
    "    with pm.Model() as model:\n",
    "        # Priors\n",
    "        log_h0 = pm.Normal(\"log_h0\", mu=0, sigma=5)\n",
    "        beta = pm.Normal(\"beta\", mu=0, sigma=1, shape=X.shape[1])\n",
    "        sigma_provider = pm.HalfNormal(\"sigma_provider\", sigma=1)\n",
    "        provider_offset = pm.Normal(\"provider_offset\", mu=0, sigma=1, shape=n_providers)\n",
    "        provider_effect = pm.Deterministic(\"provider_effect\", provider_offset * sigma_provider)\n",
    "\n",
    "        # Linear predictor and hazard\n",
    "        linear_pred = pm.math.dot(X.values, beta) + provider_effect[provider_codes]\n",
    "        hazard = pm.math.exp(log_h0 + linear_pred)\n",
    "\n",
    "        # Custom log-likelihood for exponential survival model with censoring\n",
    "        def logp_exp_survival(t, event, hazard):\n",
    "            # log-likelihood:\n",
    "            # for events:     log(h) - h * t\n",
    "            # for censored:   - h * t\n",
    "            loglik = event * pm.math.log(hazard) - hazard * t\n",
    "            return pm.math.sum(loglik)\n",
    "\n",
    "        # Use a custom distribution to define the likelihood\n",
    "        pm.Potential(\"likelihood\", logp_exp_survival(duration, event, hazard))\n",
    "\n",
    "        idata = pm.sample(draws=draws, tune=tune, chains=chains, target_accept=0.9, return_inferencedata=True)\n",
    "\n",
    "    return model, idata, provider_names"
   ]
  },
  {
   "cell_type": "code",
   "execution_count": 668,
   "id": "1bfe94e4",
   "metadata": {},
   "outputs": [
    {
     "name": "stderr",
     "output_type": "stream",
     "text": [
      "Initializing NUTS using jitter+adapt_diag...\n",
      "Multiprocess sampling (4 chains in 4 jobs)\n",
      "NUTS: [log_h0, beta, sigma_provider, provider_offset]\n"
     ]
    },
    {
     "data": {
      "application/vnd.jupyter.widget-view+json": {
       "model_id": "bfc3c5637956498393865077bfeca9fe",
       "version_major": 2,
       "version_minor": 0
      },
      "text/plain": [
       "Output()"
      ]
     },
     "metadata": {},
     "output_type": "display_data"
    },
    {
     "data": {
      "text/html": [
       "<pre style=\"white-space:pre;overflow-x:auto;line-height:normal;font-family:Menlo,'DejaVu Sans Mono',consolas,'Courier New',monospace\"></pre>\n"
      ],
      "text/plain": []
     },
     "metadata": {},
     "output_type": "display_data"
    },
    {
     "name": "stderr",
     "output_type": "stream",
     "text": [
      "Sampling 4 chains for 1_000 tune and 1_000 draw iterations (4_000 + 4_000 draws total) took 4 seconds.\n"
     ]
    }
   ],
   "source": [
    "coxmodel, coxdata, provider_names = bayesian_cox_model(data_time_synth, \"treatment_date\",\"followup_date\", \"outcome\", \"servicing_provider_id\", covariates=['member_sex', 'health_risk_assesment'])"
   ]
  },
  {
   "cell_type": "code",
   "execution_count": null,
   "id": "9532ec23",
   "metadata": {},
   "outputs": [],
   "source": [
    "def plot_bayesian_cox_effects(idata, provider_names, covariate_names, hdi_prob=0.95):\n",
    "    import matplotlib.pyplot as plt\n",
    "    import arviz as az\n",
    "\n",
    "    # PROVIDER EFFECTS\n",
    "    provider_effects = idata.posterior[\"provider_effect\"]\n",
    "    provider_hdi = az.hdi(provider_effects, hdi_prob=hdi_prob)\n",
    "    provider_means = provider_effects.mean(dim=[\"chain\", \"draw\"])\n",
    "\n",
    "    provider_dim = list(provider_means.dims)[0]  \n",
    "\n",
    "    plt.figure(figsize=(10, len(provider_names) * 0.3 + 3))\n",
    "    for i, name in enumerate(provider_names):\n",
    "        mean_val = provider_means.sel({provider_dim: i}).values.item()\n",
    "        lower = provider_hdi.sel({provider_dim: i, \"hdi\": \"lower\"})[\"provider_effect\"]\n",
    "        upper = provider_hdi.sel({provider_dim: i, \"hdi\": \"higher\"})[\"provider_effect\"]\n",
    "        plt.errorbar(mean_val, i, xerr=[[mean_val - lower], [upper - mean_val]], fmt=\"o\", color=\"black\")\n",
    "\n",
    "    plt.axvline(0, linestyle=\"--\", color=\"red\", alpha=0.5)\n",
    "    plt.yticks(range(len(provider_names)), provider_names)\n",
    "    plt.title(\"Provider Effects (Posterior Mean ± 95% HDI)\")\n",
    "    plt.xlabel(\"Effect on log hazard\")\n",
    "    plt.tight_layout()\n",
    "    plt.show()\n",
    "\n",
    "    # COVARIATE EFFECTS\n",
    "    beta_effects = idata.posterior[\"beta\"]\n",
    "    beta_means = beta_effects.mean(dim=[\"chain\", \"draw\"])\n",
    "    beta_hdi = az.hdi(beta_effects, hdi_prob=hdi_prob)\n",
    "    beta_dim = list(beta_means.dims)[0]\n",
    "\n",
    "    plt.figure(figsize=(8, len(covariate_names) * 0.6 + 2))\n",
    "    for i, cov in enumerate(covariate_names):\n",
    "        mean_val = beta_means.sel({beta_dim: i}).values.item()\n",
    "        lower = beta_hdi.sel({beta_dim: i, \"hdi\": \"lower\"})[\"beta\"]\n",
    "        upper = beta_hdi.sel({beta_dim: i, \"hdi\": \"higher\"})[\"beta\"]\n",
    "        plt.errorbar(mean_val, i, xerr=[[mean_val - lower], [upper - mean_val]], fmt=\"o\", color=\"blue\")\n",
    "\n",
    "    plt.axvline(0, linestyle=\"--\", color=\"red\", alpha=0.5)\n",
    "    plt.yticks(range(len(covariate_names)), covariate_names)\n",
    "    plt.title(\"Covariate Effects (Posterior Mean ± 95% HDI)\")\n",
    "    plt.xlabel(\"Effect on log hazard\")\n",
    "    plt.tight_layout()\n",
    "    plt.show()\n"
   ]
  }
 ],
 "metadata": {
  "kernelspec": {
   "display_name": "Python 3",
   "language": "python",
   "name": "python3"
  },
  "language_info": {
   "codemirror_mode": {
    "name": "ipython",
    "version": 3
   },
   "file_extension": ".py",
   "mimetype": "text/x-python",
   "name": "python",
   "nbconvert_exporter": "python",
   "pygments_lexer": "ipython3",
   "version": "3.13.5"
  }
 },
 "nbformat": 4,
 "nbformat_minor": 5
}
