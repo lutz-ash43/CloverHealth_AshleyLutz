{
 "cells": [
  {
   "cell_type": "code",
   "execution_count": 21,
   "id": "f130cfa2",
   "metadata": {},
   "outputs": [],
   "source": [
    "# Standard library\n",
    "import numpy as np\n",
    "import pandas as pd\n",
    "\n",
    "# Visualization libraries\n",
    "import matplotlib.pyplot as plt\n",
    "import plotly.express as px\n",
    "import seaborn as sns\n",
    "\n",
    "# Custom modules\n",
    "from empirical_null import empirical_null_provider_failures\n",
    "from hierarchical_bayes import fit_hierarchical_logistic_model, plot_bayesian_coefficients\n",
    "from survival_analysis import bayesian_cox_model, plot_bayesian_cox_effects\n",
    "from utils import calculate_vif, generate_later_timestamp_column"
   ]
  },
  {
   "cell_type": "markdown",
   "id": "c3cc52f9",
   "metadata": {},
   "source": [
    "# Clover Health Technical \n",
    "### Overall Goal : using data provided qualify/quanitify doctor's efficacy wrt a certain medical condition to provide data driven guidance on whether or not an insureance company considering adding physicians should have concerns about any/all individual physicians \n",
    "\n",
    "1. ie. If you were to only consider the provider's effectiveness with regard to this particular\n",
    "treatment, would you recommend reaching out to any of these doctors in particular? If so, which\n",
    "ones, and why?\n",
    "\n",
    "### Strategy : \n",
    "- Exploratory data analysis, understand if there is any bias or trends that may be affecting the data ie; do ay physicians only treat certain types of patients in terms of covariates? Is there a time bias to patient outcomes? Are any other covariates highly associated with outcome? How many patients does each physician see? ect. \n",
    "- Evaluate effect of physician on outcome \n",
    "    - Assumptions : \n",
    "        - nan in outcome is a positive results (lack of health failure)\n",
    "        - Size of data provided is equivalent to size of population (solutions are not optimized for scale)\n",
    "    - Method 1 : \n",
    "        - Use a heirarchical bayesian logistic regression to determine the probability that any given provider has an increased likelihood of a failure while accounting for covariates\n",
    "    - Method 2 :  \n",
    "        - Using a covariate adjusted empirical null to determine whether any providers have significantly different than expected failure rates while accounting for covariates\n",
    "\n"
   ]
  },
  {
   "cell_type": "markdown",
   "id": "c79ee3f0",
   "metadata": {},
   "source": [
    "#### Exploratory Data Analysis "
   ]
  },
  {
   "cell_type": "code",
   "execution_count": 22,
   "id": "ee300b65",
   "metadata": {},
   "outputs": [],
   "source": [
    "data = pd.read_csv(\"data/Product_Data.csv\")"
   ]
  },
  {
   "cell_type": "code",
   "execution_count": 23,
   "id": "8a45bcf3",
   "metadata": {},
   "outputs": [
    {
     "name": "stdout",
     "output_type": "stream",
     "text": [
      "number of unique provider ids : 96\n",
      "number of unique patient ids : 4247\n",
      "count\n",
      "1    96\n",
      "Name: count, dtype: int64\n",
      "outcome\n",
      "False    2413\n",
      "True     1834\n",
      "Name: count, dtype: int64\n",
      "outcome\n",
      "failure    2413\n",
      "Name: count, dtype: int64\n",
      "outcomes are ['failure' nan]\n",
      "outcome\n",
      "1    2413\n",
      "0    1834\n",
      "Name: count, dtype: int64\n",
      "number of patients with multiple outcomes: 0\n",
      "event_id\n",
      "1    4247\n",
      "Name: count, dtype: int64\n",
      "number of patients with multiple visits: 0\n",
      "servicing_provider_id\n",
      "1    4247\n",
      "Name: count, dtype: int64\n",
      "number of patients with multiple providers: 0\n"
     ]
    },
    {
     "data": {
      "text/plain": [
       "event_id  servicing_provider_id  servicing_provider_name  treatment_date  member_id  member_age  member_sex  health_risk_assesment  outcome\n",
       "False     False                  False                    False           False      False       False       False                  False      2413\n",
       "                                                                                                                                    True       1834\n",
       "Name: count, dtype: int64"
      ]
     },
     "execution_count": 23,
     "metadata": {},
     "output_type": "execute_result"
    }
   ],
   "source": [
    "# number of providers and number of patients \n",
    "print(f\"number of unique provider ids : {data.servicing_provider_id.nunique()}\")\n",
    "print(f\"number of unique patient ids : {data.member_id.nunique()}\")\n",
    "\n",
    "# we also have servicing name, how does this map to id \n",
    "print(data[[\"servicing_provider_id\", \"servicing_provider_name\"]].drop_duplicates().value_counts().value_counts())\n",
    "# looks like there is a one to one mapping for each servicing provider name and servicing provider id \n",
    "\n",
    "# lets understand patient results \n",
    "\n",
    "# are there any missing values \n",
    "print(data.outcome.isna().value_counts())\n",
    "# yes between 1/2-1/3 are missing outcomes \n",
    "\n",
    "# what are the nonmissing outcomes \n",
    "print(data.outcome.value_counts())\n",
    "print(f\"outcomes are {data.outcome.unique()}\")\n",
    "# so we come to our first assumption; Na's in outcome are successes (only alternative is failure)\n",
    "# in which case we can either take a comparartive approach or a survival approach if we interpret this as no followup\n",
    "\n",
    "# is there only 2 outcome per patient? \n",
    "print(data.groupby(\"member_id\").outcome.nunique().value_counts() )\n",
    "print(f\"number of patients with multiple outcomes: {data.groupby('member_id').outcome.nunique().value_counts().get(2, 0)}\")\n",
    "\n",
    "# how many visits per patient\n",
    "print(data.groupby(\"member_id\").event_id.nunique().value_counts())\n",
    "print(f\"number of patients with multiple visits: {data.groupby('member_id').event_id.nunique().value_counts().get(2, 0)}\")\n",
    "# okay so we have a single outcome per patient, and a single visit per patient\n",
    "\n",
    "print(data.groupby(\"member_id\").servicing_provider_id.nunique().value_counts())\n",
    "print(f\"number of patients with multiple providers: {data.groupby('member_id').servicing_provider_id.nunique().value_counts().get(2, 0)}\")\n",
    "# all patients only see 1 provider \n",
    "\n",
    "# lets just check for NA's \n",
    "data.isna().value_counts()\n",
    "# outcome is the only column with NA's"
   ]
  },
  {
   "cell_type": "code",
   "execution_count": 24,
   "id": "a4a387d7",
   "metadata": {},
   "outputs": [
    {
     "name": "stdout",
     "output_type": "stream",
     "text": [
      "providers have on average 44.24 patients, with a std of 6.36\n"
     ]
    },
    {
     "data": {
      "application/vnd.plotly.v1+json": {
       "config": {
        "plotlyServerURL": "https://plot.ly"
       },
       "data": [
        {
         "bingroup": "x",
         "hovertemplate": "variable=member_id<br>value=%{x}<br>count=%{y}<extra></extra>",
         "legendgroup": "member_id",
         "marker": {
          "color": "#636efa",
          "pattern": {
           "shape": ""
          }
         },
         "name": "member_id",
         "orientation": "v",
         "showlegend": true,
         "type": "histogram",
         "x": {
          "bdata": "LiorJis0JjAkIS0vMBwvLjA6LCQ2LDEqLDEvMSsqKSguLC8jLz04JCgaMTQvMC8sLjArKywoKDEvLyIrJCQwMCstPDklNC0pMS8pLCgsLysqKysvIh4kKyw1JyksNygz",
          "dtype": "i1"
         },
         "xaxis": "x",
         "yaxis": "y"
        }
       ],
       "layout": {
        "annotations": [
         {
          "showarrow": false,
          "text": "Mean",
          "x": 44.239583333333336,
          "xanchor": "right",
          "xref": "x",
          "y": 1,
          "yanchor": "top",
          "yref": "y domain"
         }
        ],
        "barmode": "relative",
        "legend": {
         "title": {
          "text": "variable"
         },
         "tracegroupgap": 0
        },
        "shapes": [
         {
          "line": {
           "color": "red",
           "dash": "dash"
          },
          "type": "line",
          "x0": 44.239583333333336,
          "x1": 44.239583333333336,
          "xref": "x",
          "y0": 0,
          "y1": 1,
          "yref": "y domain"
         }
        ],
        "template": {
         "data": {
          "bar": [
           {
            "error_x": {
             "color": "#2a3f5f"
            },
            "error_y": {
             "color": "#2a3f5f"
            },
            "marker": {
             "line": {
              "color": "#E5ECF6",
              "width": 0.5
             },
             "pattern": {
              "fillmode": "overlay",
              "size": 10,
              "solidity": 0.2
             }
            },
            "type": "bar"
           }
          ],
          "barpolar": [
           {
            "marker": {
             "line": {
              "color": "#E5ECF6",
              "width": 0.5
             },
             "pattern": {
              "fillmode": "overlay",
              "size": 10,
              "solidity": 0.2
             }
            },
            "type": "barpolar"
           }
          ],
          "carpet": [
           {
            "aaxis": {
             "endlinecolor": "#2a3f5f",
             "gridcolor": "white",
             "linecolor": "white",
             "minorgridcolor": "white",
             "startlinecolor": "#2a3f5f"
            },
            "baxis": {
             "endlinecolor": "#2a3f5f",
             "gridcolor": "white",
             "linecolor": "white",
             "minorgridcolor": "white",
             "startlinecolor": "#2a3f5f"
            },
            "type": "carpet"
           }
          ],
          "choropleth": [
           {
            "colorbar": {
             "outlinewidth": 0,
             "ticks": ""
            },
            "type": "choropleth"
           }
          ],
          "contour": [
           {
            "colorbar": {
             "outlinewidth": 0,
             "ticks": ""
            },
            "colorscale": [
             [
              0,
              "#0d0887"
             ],
             [
              0.1111111111111111,
              "#46039f"
             ],
             [
              0.2222222222222222,
              "#7201a8"
             ],
             [
              0.3333333333333333,
              "#9c179e"
             ],
             [
              0.4444444444444444,
              "#bd3786"
             ],
             [
              0.5555555555555556,
              "#d8576b"
             ],
             [
              0.6666666666666666,
              "#ed7953"
             ],
             [
              0.7777777777777778,
              "#fb9f3a"
             ],
             [
              0.8888888888888888,
              "#fdca26"
             ],
             [
              1,
              "#f0f921"
             ]
            ],
            "type": "contour"
           }
          ],
          "contourcarpet": [
           {
            "colorbar": {
             "outlinewidth": 0,
             "ticks": ""
            },
            "type": "contourcarpet"
           }
          ],
          "heatmap": [
           {
            "colorbar": {
             "outlinewidth": 0,
             "ticks": ""
            },
            "colorscale": [
             [
              0,
              "#0d0887"
             ],
             [
              0.1111111111111111,
              "#46039f"
             ],
             [
              0.2222222222222222,
              "#7201a8"
             ],
             [
              0.3333333333333333,
              "#9c179e"
             ],
             [
              0.4444444444444444,
              "#bd3786"
             ],
             [
              0.5555555555555556,
              "#d8576b"
             ],
             [
              0.6666666666666666,
              "#ed7953"
             ],
             [
              0.7777777777777778,
              "#fb9f3a"
             ],
             [
              0.8888888888888888,
              "#fdca26"
             ],
             [
              1,
              "#f0f921"
             ]
            ],
            "type": "heatmap"
           }
          ],
          "histogram": [
           {
            "marker": {
             "pattern": {
              "fillmode": "overlay",
              "size": 10,
              "solidity": 0.2
             }
            },
            "type": "histogram"
           }
          ],
          "histogram2d": [
           {
            "colorbar": {
             "outlinewidth": 0,
             "ticks": ""
            },
            "colorscale": [
             [
              0,
              "#0d0887"
             ],
             [
              0.1111111111111111,
              "#46039f"
             ],
             [
              0.2222222222222222,
              "#7201a8"
             ],
             [
              0.3333333333333333,
              "#9c179e"
             ],
             [
              0.4444444444444444,
              "#bd3786"
             ],
             [
              0.5555555555555556,
              "#d8576b"
             ],
             [
              0.6666666666666666,
              "#ed7953"
             ],
             [
              0.7777777777777778,
              "#fb9f3a"
             ],
             [
              0.8888888888888888,
              "#fdca26"
             ],
             [
              1,
              "#f0f921"
             ]
            ],
            "type": "histogram2d"
           }
          ],
          "histogram2dcontour": [
           {
            "colorbar": {
             "outlinewidth": 0,
             "ticks": ""
            },
            "colorscale": [
             [
              0,
              "#0d0887"
             ],
             [
              0.1111111111111111,
              "#46039f"
             ],
             [
              0.2222222222222222,
              "#7201a8"
             ],
             [
              0.3333333333333333,
              "#9c179e"
             ],
             [
              0.4444444444444444,
              "#bd3786"
             ],
             [
              0.5555555555555556,
              "#d8576b"
             ],
             [
              0.6666666666666666,
              "#ed7953"
             ],
             [
              0.7777777777777778,
              "#fb9f3a"
             ],
             [
              0.8888888888888888,
              "#fdca26"
             ],
             [
              1,
              "#f0f921"
             ]
            ],
            "type": "histogram2dcontour"
           }
          ],
          "mesh3d": [
           {
            "colorbar": {
             "outlinewidth": 0,
             "ticks": ""
            },
            "type": "mesh3d"
           }
          ],
          "parcoords": [
           {
            "line": {
             "colorbar": {
              "outlinewidth": 0,
              "ticks": ""
             }
            },
            "type": "parcoords"
           }
          ],
          "pie": [
           {
            "automargin": true,
            "type": "pie"
           }
          ],
          "scatter": [
           {
            "fillpattern": {
             "fillmode": "overlay",
             "size": 10,
             "solidity": 0.2
            },
            "type": "scatter"
           }
          ],
          "scatter3d": [
           {
            "line": {
             "colorbar": {
              "outlinewidth": 0,
              "ticks": ""
             }
            },
            "marker": {
             "colorbar": {
              "outlinewidth": 0,
              "ticks": ""
             }
            },
            "type": "scatter3d"
           }
          ],
          "scattercarpet": [
           {
            "marker": {
             "colorbar": {
              "outlinewidth": 0,
              "ticks": ""
             }
            },
            "type": "scattercarpet"
           }
          ],
          "scattergeo": [
           {
            "marker": {
             "colorbar": {
              "outlinewidth": 0,
              "ticks": ""
             }
            },
            "type": "scattergeo"
           }
          ],
          "scattergl": [
           {
            "marker": {
             "colorbar": {
              "outlinewidth": 0,
              "ticks": ""
             }
            },
            "type": "scattergl"
           }
          ],
          "scattermap": [
           {
            "marker": {
             "colorbar": {
              "outlinewidth": 0,
              "ticks": ""
             }
            },
            "type": "scattermap"
           }
          ],
          "scattermapbox": [
           {
            "marker": {
             "colorbar": {
              "outlinewidth": 0,
              "ticks": ""
             }
            },
            "type": "scattermapbox"
           }
          ],
          "scatterpolar": [
           {
            "marker": {
             "colorbar": {
              "outlinewidth": 0,
              "ticks": ""
             }
            },
            "type": "scatterpolar"
           }
          ],
          "scatterpolargl": [
           {
            "marker": {
             "colorbar": {
              "outlinewidth": 0,
              "ticks": ""
             }
            },
            "type": "scatterpolargl"
           }
          ],
          "scatterternary": [
           {
            "marker": {
             "colorbar": {
              "outlinewidth": 0,
              "ticks": ""
             }
            },
            "type": "scatterternary"
           }
          ],
          "surface": [
           {
            "colorbar": {
             "outlinewidth": 0,
             "ticks": ""
            },
            "colorscale": [
             [
              0,
              "#0d0887"
             ],
             [
              0.1111111111111111,
              "#46039f"
             ],
             [
              0.2222222222222222,
              "#7201a8"
             ],
             [
              0.3333333333333333,
              "#9c179e"
             ],
             [
              0.4444444444444444,
              "#bd3786"
             ],
             [
              0.5555555555555556,
              "#d8576b"
             ],
             [
              0.6666666666666666,
              "#ed7953"
             ],
             [
              0.7777777777777778,
              "#fb9f3a"
             ],
             [
              0.8888888888888888,
              "#fdca26"
             ],
             [
              1,
              "#f0f921"
             ]
            ],
            "type": "surface"
           }
          ],
          "table": [
           {
            "cells": {
             "fill": {
              "color": "#EBF0F8"
             },
             "line": {
              "color": "white"
             }
            },
            "header": {
             "fill": {
              "color": "#C8D4E3"
             },
             "line": {
              "color": "white"
             }
            },
            "type": "table"
           }
          ]
         },
         "layout": {
          "annotationdefaults": {
           "arrowcolor": "#2a3f5f",
           "arrowhead": 0,
           "arrowwidth": 1
          },
          "autotypenumbers": "strict",
          "coloraxis": {
           "colorbar": {
            "outlinewidth": 0,
            "ticks": ""
           }
          },
          "colorscale": {
           "diverging": [
            [
             0,
             "#8e0152"
            ],
            [
             0.1,
             "#c51b7d"
            ],
            [
             0.2,
             "#de77ae"
            ],
            [
             0.3,
             "#f1b6da"
            ],
            [
             0.4,
             "#fde0ef"
            ],
            [
             0.5,
             "#f7f7f7"
            ],
            [
             0.6,
             "#e6f5d0"
            ],
            [
             0.7,
             "#b8e186"
            ],
            [
             0.8,
             "#7fbc41"
            ],
            [
             0.9,
             "#4d9221"
            ],
            [
             1,
             "#276419"
            ]
           ],
           "sequential": [
            [
             0,
             "#0d0887"
            ],
            [
             0.1111111111111111,
             "#46039f"
            ],
            [
             0.2222222222222222,
             "#7201a8"
            ],
            [
             0.3333333333333333,
             "#9c179e"
            ],
            [
             0.4444444444444444,
             "#bd3786"
            ],
            [
             0.5555555555555556,
             "#d8576b"
            ],
            [
             0.6666666666666666,
             "#ed7953"
            ],
            [
             0.7777777777777778,
             "#fb9f3a"
            ],
            [
             0.8888888888888888,
             "#fdca26"
            ],
            [
             1,
             "#f0f921"
            ]
           ],
           "sequentialminus": [
            [
             0,
             "#0d0887"
            ],
            [
             0.1111111111111111,
             "#46039f"
            ],
            [
             0.2222222222222222,
             "#7201a8"
            ],
            [
             0.3333333333333333,
             "#9c179e"
            ],
            [
             0.4444444444444444,
             "#bd3786"
            ],
            [
             0.5555555555555556,
             "#d8576b"
            ],
            [
             0.6666666666666666,
             "#ed7953"
            ],
            [
             0.7777777777777778,
             "#fb9f3a"
            ],
            [
             0.8888888888888888,
             "#fdca26"
            ],
            [
             1,
             "#f0f921"
            ]
           ]
          },
          "colorway": [
           "#636efa",
           "#EF553B",
           "#00cc96",
           "#ab63fa",
           "#FFA15A",
           "#19d3f3",
           "#FF6692",
           "#B6E880",
           "#FF97FF",
           "#FECB52"
          ],
          "font": {
           "color": "#2a3f5f"
          },
          "geo": {
           "bgcolor": "white",
           "lakecolor": "white",
           "landcolor": "#E5ECF6",
           "showlakes": true,
           "showland": true,
           "subunitcolor": "white"
          },
          "hoverlabel": {
           "align": "left"
          },
          "hovermode": "closest",
          "mapbox": {
           "style": "light"
          },
          "paper_bgcolor": "white",
          "plot_bgcolor": "#E5ECF6",
          "polar": {
           "angularaxis": {
            "gridcolor": "white",
            "linecolor": "white",
            "ticks": ""
           },
           "bgcolor": "#E5ECF6",
           "radialaxis": {
            "gridcolor": "white",
            "linecolor": "white",
            "ticks": ""
           }
          },
          "scene": {
           "xaxis": {
            "backgroundcolor": "#E5ECF6",
            "gridcolor": "white",
            "gridwidth": 2,
            "linecolor": "white",
            "showbackground": true,
            "ticks": "",
            "zerolinecolor": "white"
           },
           "yaxis": {
            "backgroundcolor": "#E5ECF6",
            "gridcolor": "white",
            "gridwidth": 2,
            "linecolor": "white",
            "showbackground": true,
            "ticks": "",
            "zerolinecolor": "white"
           },
           "zaxis": {
            "backgroundcolor": "#E5ECF6",
            "gridcolor": "white",
            "gridwidth": 2,
            "linecolor": "white",
            "showbackground": true,
            "ticks": "",
            "zerolinecolor": "white"
           }
          },
          "shapedefaults": {
           "line": {
            "color": "#2a3f5f"
           }
          },
          "ternary": {
           "aaxis": {
            "gridcolor": "white",
            "linecolor": "white",
            "ticks": ""
           },
           "baxis": {
            "gridcolor": "white",
            "linecolor": "white",
            "ticks": ""
           },
           "bgcolor": "#E5ECF6",
           "caxis": {
            "gridcolor": "white",
            "linecolor": "white",
            "ticks": ""
           }
          },
          "title": {
           "x": 0.05
          },
          "xaxis": {
           "automargin": true,
           "gridcolor": "white",
           "linecolor": "white",
           "ticks": "",
           "title": {
            "standoff": 15
           },
           "zerolinecolor": "white",
           "zerolinewidth": 2
          },
          "yaxis": {
           "automargin": true,
           "gridcolor": "white",
           "linecolor": "white",
           "ticks": "",
           "title": {
            "standoff": 15
           },
           "zerolinecolor": "white",
           "zerolinewidth": 2
          }
         }
        },
        "title": {
         "text": "Patients per Provider"
        },
        "xaxis": {
         "anchor": "y",
         "domain": [
          0,
          1
         ],
         "title": {
          "text": "value"
         }
        },
        "yaxis": {
         "anchor": "x",
         "domain": [
          0,
          1
         ],
         "title": {
          "text": "count"
         }
        }
       }
      }
     },
     "metadata": {},
     "output_type": "display_data"
    }
   ],
   "source": [
    "# what about how many patients each provider sees \n",
    "patientsxprovider = data.groupby(\"servicing_provider_id\").member_id.nunique()\n",
    "print(f\"providers have on average {patientsxprovider.mean():.2f} patients, with a std of {patientsxprovider.std():.2f}\")\n",
    "fig = px.histogram(patientsxprovider, title=\"Patients per Provider\")\n",
    "fig.add_vline(x=patientsxprovider.mean(), line_color=\"red\", line_dash=\"dash\", annotation_text=\"Mean\", annotation_position=\"top left\")\n",
    "fig.show()\n"
   ]
  },
  {
   "cell_type": "code",
   "execution_count": 25,
   "id": "0f8a93d0",
   "metadata": {},
   "outputs": [
    {
     "data": {
      "application/vnd.plotly.v1+json": {
       "config": {
        "plotlyServerURL": "https://plot.ly"
       },
       "data": [
        {
         "bingroup": "x",
         "hovertemplate": "variable=0<br>value=%{x}<br>count=%{y}<extra></extra>",
         "legendgroup": "0",
         "marker": {
          "color": "#636efa",
          "pattern": {
           "shape": ""
          }
         },
         "name": "0",
         "orientation": "v",
         "showlegend": true,
         "type": "histogram",
         "x": {
          "bdata": "IQtZyEIW4j9VVVVVVVXlP6esKWvKmuI/8xrKayiv4T+zpqwpa8raP2IndmInduI/bCivobyG4j+rqqqqqqrkP+Q4juM4juM/ZZNNNtlk4z8RERERERHhP0d9Z6O+s+E/VVVVVVVV4z/btm3btm3jP0d9Z6O+s+E/OL3pTW964z8AAAAAAADiPwnLPY2w3OM/6aKLLrro4j+O4ziO4zjmP9pLaC+hveQ/o4suuuii2z8/NNaHxvrgPwAAAAAAAOA/L7rooosu4j8/NNaHxvrgP89GfWejvuM/PzTWh8b64D+nrClrypriP/Q8z/M8z+M/uxK1K1G74j/NzMzMzMzgPzi96U1veuM/dNFFF1104T/UdzbqOxvlPzMzMzMzM+M/xOQKYnIF4T8uGYJ1tHnfP5IkSZIkSeY/chzHcRzH4T+amZmZmZnhP7ETO7ETO+E/FbycgpdT4D/sxE7sxE7kP31no76zUd8/VVVVVVVV4z9BTK4gJlfgP4wuuuiii+Y/OL3pTW964z9VVVVVVVXhP3fEHXFH3OE/d8QdcUfc4T+jiy666KLjP2ZmZmZmZuI/MzMzMzMz4z8QjfWhsT7kP11BTK4gJuc/TK4gJlcQ4z8AAAAAAADgP0fcEXfEHeE/5DiO4ziO4z8cx3Ecx3HkPwAAAAAAAOI/q6qqqqqq3j/0BX1BX9DXP9iCLdiCLdg/MzMzMzMz4z9jOovpLKbjP+sGU+SzbuA/xU7sxE7s5D9yHMdxHMfhP2RwPgbnY+A/aKwPjfWh4T9S39mo72zkP4PzMTgfg+M/XXTRRRdd5D8AAAAAAADgP6OLLrroots/Z6O+s1Hf2T9H3BF3xB3hP5IkSZIkSeI/d8QdcUfc4T82ZU1ZU9bkP23UdzbqO9s/09LS0tLS4j8iIiIiIiLiP3Icx3Ecx+E/d8QdcUfc4T+jiy666KLbP29ln0NqguE/NUiDNEiD5D+pXYnalajdP4wuuuiii+Y/h7VvWPuG5T8zMzMzMzPjP19fX19fX98/",
          "dtype": "f8"
         },
         "xaxis": "x",
         "yaxis": "y"
        }
       ],
       "layout": {
        "barmode": "relative",
        "legend": {
         "title": {
          "text": "variable"
         },
         "tracegroupgap": 0
        },
        "margin": {
         "t": 60
        },
        "template": {
         "data": {
          "bar": [
           {
            "error_x": {
             "color": "#2a3f5f"
            },
            "error_y": {
             "color": "#2a3f5f"
            },
            "marker": {
             "line": {
              "color": "#E5ECF6",
              "width": 0.5
             },
             "pattern": {
              "fillmode": "overlay",
              "size": 10,
              "solidity": 0.2
             }
            },
            "type": "bar"
           }
          ],
          "barpolar": [
           {
            "marker": {
             "line": {
              "color": "#E5ECF6",
              "width": 0.5
             },
             "pattern": {
              "fillmode": "overlay",
              "size": 10,
              "solidity": 0.2
             }
            },
            "type": "barpolar"
           }
          ],
          "carpet": [
           {
            "aaxis": {
             "endlinecolor": "#2a3f5f",
             "gridcolor": "white",
             "linecolor": "white",
             "minorgridcolor": "white",
             "startlinecolor": "#2a3f5f"
            },
            "baxis": {
             "endlinecolor": "#2a3f5f",
             "gridcolor": "white",
             "linecolor": "white",
             "minorgridcolor": "white",
             "startlinecolor": "#2a3f5f"
            },
            "type": "carpet"
           }
          ],
          "choropleth": [
           {
            "colorbar": {
             "outlinewidth": 0,
             "ticks": ""
            },
            "type": "choropleth"
           }
          ],
          "contour": [
           {
            "colorbar": {
             "outlinewidth": 0,
             "ticks": ""
            },
            "colorscale": [
             [
              0,
              "#0d0887"
             ],
             [
              0.1111111111111111,
              "#46039f"
             ],
             [
              0.2222222222222222,
              "#7201a8"
             ],
             [
              0.3333333333333333,
              "#9c179e"
             ],
             [
              0.4444444444444444,
              "#bd3786"
             ],
             [
              0.5555555555555556,
              "#d8576b"
             ],
             [
              0.6666666666666666,
              "#ed7953"
             ],
             [
              0.7777777777777778,
              "#fb9f3a"
             ],
             [
              0.8888888888888888,
              "#fdca26"
             ],
             [
              1,
              "#f0f921"
             ]
            ],
            "type": "contour"
           }
          ],
          "contourcarpet": [
           {
            "colorbar": {
             "outlinewidth": 0,
             "ticks": ""
            },
            "type": "contourcarpet"
           }
          ],
          "heatmap": [
           {
            "colorbar": {
             "outlinewidth": 0,
             "ticks": ""
            },
            "colorscale": [
             [
              0,
              "#0d0887"
             ],
             [
              0.1111111111111111,
              "#46039f"
             ],
             [
              0.2222222222222222,
              "#7201a8"
             ],
             [
              0.3333333333333333,
              "#9c179e"
             ],
             [
              0.4444444444444444,
              "#bd3786"
             ],
             [
              0.5555555555555556,
              "#d8576b"
             ],
             [
              0.6666666666666666,
              "#ed7953"
             ],
             [
              0.7777777777777778,
              "#fb9f3a"
             ],
             [
              0.8888888888888888,
              "#fdca26"
             ],
             [
              1,
              "#f0f921"
             ]
            ],
            "type": "heatmap"
           }
          ],
          "histogram": [
           {
            "marker": {
             "pattern": {
              "fillmode": "overlay",
              "size": 10,
              "solidity": 0.2
             }
            },
            "type": "histogram"
           }
          ],
          "histogram2d": [
           {
            "colorbar": {
             "outlinewidth": 0,
             "ticks": ""
            },
            "colorscale": [
             [
              0,
              "#0d0887"
             ],
             [
              0.1111111111111111,
              "#46039f"
             ],
             [
              0.2222222222222222,
              "#7201a8"
             ],
             [
              0.3333333333333333,
              "#9c179e"
             ],
             [
              0.4444444444444444,
              "#bd3786"
             ],
             [
              0.5555555555555556,
              "#d8576b"
             ],
             [
              0.6666666666666666,
              "#ed7953"
             ],
             [
              0.7777777777777778,
              "#fb9f3a"
             ],
             [
              0.8888888888888888,
              "#fdca26"
             ],
             [
              1,
              "#f0f921"
             ]
            ],
            "type": "histogram2d"
           }
          ],
          "histogram2dcontour": [
           {
            "colorbar": {
             "outlinewidth": 0,
             "ticks": ""
            },
            "colorscale": [
             [
              0,
              "#0d0887"
             ],
             [
              0.1111111111111111,
              "#46039f"
             ],
             [
              0.2222222222222222,
              "#7201a8"
             ],
             [
              0.3333333333333333,
              "#9c179e"
             ],
             [
              0.4444444444444444,
              "#bd3786"
             ],
             [
              0.5555555555555556,
              "#d8576b"
             ],
             [
              0.6666666666666666,
              "#ed7953"
             ],
             [
              0.7777777777777778,
              "#fb9f3a"
             ],
             [
              0.8888888888888888,
              "#fdca26"
             ],
             [
              1,
              "#f0f921"
             ]
            ],
            "type": "histogram2dcontour"
           }
          ],
          "mesh3d": [
           {
            "colorbar": {
             "outlinewidth": 0,
             "ticks": ""
            },
            "type": "mesh3d"
           }
          ],
          "parcoords": [
           {
            "line": {
             "colorbar": {
              "outlinewidth": 0,
              "ticks": ""
             }
            },
            "type": "parcoords"
           }
          ],
          "pie": [
           {
            "automargin": true,
            "type": "pie"
           }
          ],
          "scatter": [
           {
            "fillpattern": {
             "fillmode": "overlay",
             "size": 10,
             "solidity": 0.2
            },
            "type": "scatter"
           }
          ],
          "scatter3d": [
           {
            "line": {
             "colorbar": {
              "outlinewidth": 0,
              "ticks": ""
             }
            },
            "marker": {
             "colorbar": {
              "outlinewidth": 0,
              "ticks": ""
             }
            },
            "type": "scatter3d"
           }
          ],
          "scattercarpet": [
           {
            "marker": {
             "colorbar": {
              "outlinewidth": 0,
              "ticks": ""
             }
            },
            "type": "scattercarpet"
           }
          ],
          "scattergeo": [
           {
            "marker": {
             "colorbar": {
              "outlinewidth": 0,
              "ticks": ""
             }
            },
            "type": "scattergeo"
           }
          ],
          "scattergl": [
           {
            "marker": {
             "colorbar": {
              "outlinewidth": 0,
              "ticks": ""
             }
            },
            "type": "scattergl"
           }
          ],
          "scattermap": [
           {
            "marker": {
             "colorbar": {
              "outlinewidth": 0,
              "ticks": ""
             }
            },
            "type": "scattermap"
           }
          ],
          "scattermapbox": [
           {
            "marker": {
             "colorbar": {
              "outlinewidth": 0,
              "ticks": ""
             }
            },
            "type": "scattermapbox"
           }
          ],
          "scatterpolar": [
           {
            "marker": {
             "colorbar": {
              "outlinewidth": 0,
              "ticks": ""
             }
            },
            "type": "scatterpolar"
           }
          ],
          "scatterpolargl": [
           {
            "marker": {
             "colorbar": {
              "outlinewidth": 0,
              "ticks": ""
             }
            },
            "type": "scatterpolargl"
           }
          ],
          "scatterternary": [
           {
            "marker": {
             "colorbar": {
              "outlinewidth": 0,
              "ticks": ""
             }
            },
            "type": "scatterternary"
           }
          ],
          "surface": [
           {
            "colorbar": {
             "outlinewidth": 0,
             "ticks": ""
            },
            "colorscale": [
             [
              0,
              "#0d0887"
             ],
             [
              0.1111111111111111,
              "#46039f"
             ],
             [
              0.2222222222222222,
              "#7201a8"
             ],
             [
              0.3333333333333333,
              "#9c179e"
             ],
             [
              0.4444444444444444,
              "#bd3786"
             ],
             [
              0.5555555555555556,
              "#d8576b"
             ],
             [
              0.6666666666666666,
              "#ed7953"
             ],
             [
              0.7777777777777778,
              "#fb9f3a"
             ],
             [
              0.8888888888888888,
              "#fdca26"
             ],
             [
              1,
              "#f0f921"
             ]
            ],
            "type": "surface"
           }
          ],
          "table": [
           {
            "cells": {
             "fill": {
              "color": "#EBF0F8"
             },
             "line": {
              "color": "white"
             }
            },
            "header": {
             "fill": {
              "color": "#C8D4E3"
             },
             "line": {
              "color": "white"
             }
            },
            "type": "table"
           }
          ]
         },
         "layout": {
          "annotationdefaults": {
           "arrowcolor": "#2a3f5f",
           "arrowhead": 0,
           "arrowwidth": 1
          },
          "autotypenumbers": "strict",
          "coloraxis": {
           "colorbar": {
            "outlinewidth": 0,
            "ticks": ""
           }
          },
          "colorscale": {
           "diverging": [
            [
             0,
             "#8e0152"
            ],
            [
             0.1,
             "#c51b7d"
            ],
            [
             0.2,
             "#de77ae"
            ],
            [
             0.3,
             "#f1b6da"
            ],
            [
             0.4,
             "#fde0ef"
            ],
            [
             0.5,
             "#f7f7f7"
            ],
            [
             0.6,
             "#e6f5d0"
            ],
            [
             0.7,
             "#b8e186"
            ],
            [
             0.8,
             "#7fbc41"
            ],
            [
             0.9,
             "#4d9221"
            ],
            [
             1,
             "#276419"
            ]
           ],
           "sequential": [
            [
             0,
             "#0d0887"
            ],
            [
             0.1111111111111111,
             "#46039f"
            ],
            [
             0.2222222222222222,
             "#7201a8"
            ],
            [
             0.3333333333333333,
             "#9c179e"
            ],
            [
             0.4444444444444444,
             "#bd3786"
            ],
            [
             0.5555555555555556,
             "#d8576b"
            ],
            [
             0.6666666666666666,
             "#ed7953"
            ],
            [
             0.7777777777777778,
             "#fb9f3a"
            ],
            [
             0.8888888888888888,
             "#fdca26"
            ],
            [
             1,
             "#f0f921"
            ]
           ],
           "sequentialminus": [
            [
             0,
             "#0d0887"
            ],
            [
             0.1111111111111111,
             "#46039f"
            ],
            [
             0.2222222222222222,
             "#7201a8"
            ],
            [
             0.3333333333333333,
             "#9c179e"
            ],
            [
             0.4444444444444444,
             "#bd3786"
            ],
            [
             0.5555555555555556,
             "#d8576b"
            ],
            [
             0.6666666666666666,
             "#ed7953"
            ],
            [
             0.7777777777777778,
             "#fb9f3a"
            ],
            [
             0.8888888888888888,
             "#fdca26"
            ],
            [
             1,
             "#f0f921"
            ]
           ]
          },
          "colorway": [
           "#636efa",
           "#EF553B",
           "#00cc96",
           "#ab63fa",
           "#FFA15A",
           "#19d3f3",
           "#FF6692",
           "#B6E880",
           "#FF97FF",
           "#FECB52"
          ],
          "font": {
           "color": "#2a3f5f"
          },
          "geo": {
           "bgcolor": "white",
           "lakecolor": "white",
           "landcolor": "#E5ECF6",
           "showlakes": true,
           "showland": true,
           "subunitcolor": "white"
          },
          "hoverlabel": {
           "align": "left"
          },
          "hovermode": "closest",
          "mapbox": {
           "style": "light"
          },
          "paper_bgcolor": "white",
          "plot_bgcolor": "#E5ECF6",
          "polar": {
           "angularaxis": {
            "gridcolor": "white",
            "linecolor": "white",
            "ticks": ""
           },
           "bgcolor": "#E5ECF6",
           "radialaxis": {
            "gridcolor": "white",
            "linecolor": "white",
            "ticks": ""
           }
          },
          "scene": {
           "xaxis": {
            "backgroundcolor": "#E5ECF6",
            "gridcolor": "white",
            "gridwidth": 2,
            "linecolor": "white",
            "showbackground": true,
            "ticks": "",
            "zerolinecolor": "white"
           },
           "yaxis": {
            "backgroundcolor": "#E5ECF6",
            "gridcolor": "white",
            "gridwidth": 2,
            "linecolor": "white",
            "showbackground": true,
            "ticks": "",
            "zerolinecolor": "white"
           },
           "zaxis": {
            "backgroundcolor": "#E5ECF6",
            "gridcolor": "white",
            "gridwidth": 2,
            "linecolor": "white",
            "showbackground": true,
            "ticks": "",
            "zerolinecolor": "white"
           }
          },
          "shapedefaults": {
           "line": {
            "color": "#2a3f5f"
           }
          },
          "ternary": {
           "aaxis": {
            "gridcolor": "white",
            "linecolor": "white",
            "ticks": ""
           },
           "baxis": {
            "gridcolor": "white",
            "linecolor": "white",
            "ticks": ""
           },
           "bgcolor": "#E5ECF6",
           "caxis": {
            "gridcolor": "white",
            "linecolor": "white",
            "ticks": ""
           }
          },
          "title": {
           "x": 0.05
          },
          "xaxis": {
           "automargin": true,
           "gridcolor": "white",
           "linecolor": "white",
           "ticks": "",
           "title": {
            "standoff": 15
           },
           "zerolinecolor": "white",
           "zerolinewidth": 2
          },
          "yaxis": {
           "automargin": true,
           "gridcolor": "white",
           "linecolor": "white",
           "ticks": "",
           "title": {
            "standoff": 15
           },
           "zerolinecolor": "white",
           "zerolinewidth": 2
          }
         }
        },
        "xaxis": {
         "anchor": "y",
         "domain": [
          0,
          1
         ],
         "title": {
          "text": "value"
         }
        },
        "yaxis": {
         "anchor": "x",
         "domain": [
          0,
          1
         ],
         "title": {
          "text": "count"
         }
        }
       }
      }
     },
     "metadata": {},
     "output_type": "display_data"
    }
   ],
   "source": [
    "# what about how many patients each provider sees \n",
    "outcomesxprovider = data.groupby(\"servicing_provider_id\").outcome.count()\n",
    "# lets look at this with respect to proportion of patients that fail\n",
    "outcomes_prop_xprovider = outcomesxprovider.values / patientsxprovider.values\n",
    "px.histogram(outcomes_prop_xprovider)\n",
    "# proportion of patients that fail is normally distributed, maybe slightly skewed left"
   ]
  },
  {
   "cell_type": "code",
   "execution_count": 26,
   "id": "4e9973f3",
   "metadata": {},
   "outputs": [
    {
     "name": "stdout",
     "output_type": "stream",
     "text": [
      "health_risk_assesment\n",
      "9     62\n",
      "10    19\n",
      "8     14\n",
      "7      1\n",
      "Name: count, dtype: int64\n",
      "7 providers see patients with only 1 health risk assessment score, most providers see patients with 1 several health risk assessment scores\n"
     ]
    }
   ],
   "source": [
    "# health risk assessment by provider \n",
    "hrasxprovider = data.groupby(\"servicing_provider_id\").health_risk_assesment.nunique()\n",
    "print(hrasxprovider.value_counts())\n",
    "print(\"7 providers see patients with only 1 health risk assessment score, most providers see patients with 1 several health risk assessment scores\")"
   ]
  },
  {
   "cell_type": "code",
   "execution_count": 27,
   "id": "3ce0d736",
   "metadata": {},
   "outputs": [],
   "source": [
    "# ASSUMPTION 1 : NA in outcome is a success \n",
    "data_outcome_compare = data.copy()\n",
    "data_outcome_compare[\"outcome\"] = data.outcome.fillna(\"pass\")"
   ]
  },
  {
   "cell_type": "code",
   "execution_count": 28,
   "id": "c7f87374",
   "metadata": {},
   "outputs": [
    {
     "name": "stderr",
     "output_type": "stream",
     "text": [
      "/var/folders/y_/kv1q88q92mz481dwnsnd3sk00000gn/T/ipykernel_73107/52941218.py:3: UserWarning:\n",
      "\n",
      "Could not infer format, so each element will be parsed individually, falling back to `dateutil`. To ensure parsing is consistent and as-expected, please specify a format.\n",
      "\n"
     ]
    },
    {
     "data": {
      "application/vnd.plotly.v1+json": {
       "config": {
        "plotlyServerURL": "https://plot.ly"
       },
       "data": [
        {
         "hovertemplate": "outcome=failure<br>treatment_date=%{x}<br>member_id=%{y}<extra></extra>",
         "legendgroup": "failure",
         "line": {
          "color": "#636efa",
          "dash": "solid"
         },
         "marker": {
          "symbol": "circle"
         },
         "mode": "lines+markers",
         "name": "failure",
         "orientation": "v",
         "showlegend": true,
         "type": "scatter",
         "x": [
          "2015-01-01T00:00:00.000000000",
          "2015-01-02T00:00:00.000000000",
          "2015-01-03T00:00:00.000000000",
          "2015-01-04T00:00:00.000000000",
          "2015-01-05T00:00:00.000000000",
          "2015-01-06T00:00:00.000000000",
          "2015-01-07T00:00:00.000000000",
          "2015-01-08T00:00:00.000000000",
          "2015-01-09T00:00:00.000000000",
          "2015-01-10T00:00:00.000000000",
          "2015-01-11T00:00:00.000000000",
          "2015-01-12T00:00:00.000000000",
          "2015-01-13T00:00:00.000000000",
          "2015-01-14T00:00:00.000000000",
          "2015-01-15T00:00:00.000000000",
          "2015-01-16T00:00:00.000000000",
          "2015-01-17T00:00:00.000000000",
          "2015-01-18T00:00:00.000000000",
          "2015-01-19T00:00:00.000000000",
          "2015-01-20T00:00:00.000000000",
          "2015-01-21T00:00:00.000000000",
          "2015-01-22T00:00:00.000000000",
          "2015-01-23T00:00:00.000000000",
          "2015-01-24T00:00:00.000000000",
          "2015-01-25T00:00:00.000000000",
          "2015-01-26T00:00:00.000000000",
          "2015-01-27T00:00:00.000000000",
          "2015-01-28T00:00:00.000000000",
          "2015-01-29T00:00:00.000000000",
          "2015-01-30T00:00:00.000000000",
          "2015-01-31T00:00:00.000000000",
          "2015-02-01T00:00:00.000000000",
          "2015-02-02T00:00:00.000000000",
          "2015-02-03T00:00:00.000000000",
          "2015-02-04T00:00:00.000000000",
          "2015-02-05T00:00:00.000000000",
          "2015-02-06T00:00:00.000000000",
          "2015-02-07T00:00:00.000000000",
          "2015-02-08T00:00:00.000000000",
          "2015-02-09T00:00:00.000000000",
          "2015-02-10T00:00:00.000000000",
          "2015-02-11T00:00:00.000000000",
          "2015-02-12T00:00:00.000000000",
          "2015-02-13T00:00:00.000000000",
          "2015-02-14T00:00:00.000000000",
          "2015-02-15T00:00:00.000000000",
          "2015-02-16T00:00:00.000000000",
          "2015-02-17T00:00:00.000000000",
          "2015-02-18T00:00:00.000000000",
          "2015-02-19T00:00:00.000000000",
          "2015-02-20T00:00:00.000000000",
          "2015-02-21T00:00:00.000000000",
          "2015-02-22T00:00:00.000000000",
          "2015-02-23T00:00:00.000000000",
          "2015-02-24T00:00:00.000000000",
          "2015-02-25T00:00:00.000000000",
          "2015-02-26T00:00:00.000000000",
          "2015-02-27T00:00:00.000000000",
          "2015-02-28T00:00:00.000000000",
          "2015-03-01T00:00:00.000000000",
          "2015-03-02T00:00:00.000000000",
          "2015-03-03T00:00:00.000000000",
          "2015-03-04T00:00:00.000000000",
          "2015-03-05T00:00:00.000000000",
          "2015-03-06T00:00:00.000000000",
          "2015-03-07T00:00:00.000000000",
          "2015-03-08T00:00:00.000000000",
          "2015-03-09T00:00:00.000000000",
          "2015-03-10T00:00:00.000000000",
          "2015-03-11T00:00:00.000000000",
          "2015-03-12T00:00:00.000000000",
          "2015-03-13T00:00:00.000000000",
          "2015-03-14T00:00:00.000000000",
          "2015-03-15T00:00:00.000000000",
          "2015-03-16T00:00:00.000000000",
          "2015-03-17T00:00:00.000000000",
          "2015-03-18T00:00:00.000000000",
          "2015-03-19T00:00:00.000000000",
          "2015-03-20T00:00:00.000000000",
          "2015-03-21T00:00:00.000000000",
          "2015-03-22T00:00:00.000000000",
          "2015-03-23T00:00:00.000000000",
          "2015-03-24T00:00:00.000000000",
          "2015-03-25T00:00:00.000000000",
          "2015-03-26T00:00:00.000000000",
          "2015-03-27T00:00:00.000000000",
          "2015-03-28T00:00:00.000000000",
          "2015-03-29T00:00:00.000000000",
          "2015-03-30T00:00:00.000000000",
          "2015-03-31T00:00:00.000000000",
          "2015-04-01T00:00:00.000000000",
          "2015-04-02T00:00:00.000000000",
          "2015-04-03T00:00:00.000000000",
          "2015-04-04T00:00:00.000000000",
          "2015-04-05T00:00:00.000000000",
          "2015-04-06T00:00:00.000000000",
          "2015-04-07T00:00:00.000000000",
          "2015-04-08T00:00:00.000000000",
          "2015-04-09T00:00:00.000000000",
          "2015-04-10T00:00:00.000000000",
          "2015-04-11T00:00:00.000000000",
          "2015-04-12T00:00:00.000000000",
          "2015-04-13T00:00:00.000000000",
          "2015-04-14T00:00:00.000000000",
          "2015-04-15T00:00:00.000000000",
          "2015-04-16T00:00:00.000000000",
          "2015-04-17T00:00:00.000000000",
          "2015-04-18T00:00:00.000000000",
          "2015-04-19T00:00:00.000000000",
          "2015-04-20T00:00:00.000000000",
          "2015-04-21T00:00:00.000000000",
          "2015-04-22T00:00:00.000000000",
          "2015-04-23T00:00:00.000000000",
          "2015-04-24T00:00:00.000000000",
          "2015-04-25T00:00:00.000000000",
          "2015-04-26T00:00:00.000000000",
          "2015-04-27T00:00:00.000000000",
          "2015-04-28T00:00:00.000000000",
          "2015-04-29T00:00:00.000000000",
          "2015-04-30T00:00:00.000000000",
          "2015-05-01T00:00:00.000000000",
          "2015-05-02T00:00:00.000000000",
          "2015-05-03T00:00:00.000000000",
          "2015-05-04T00:00:00.000000000",
          "2015-05-05T00:00:00.000000000",
          "2015-05-06T00:00:00.000000000",
          "2015-05-07T00:00:00.000000000",
          "2015-05-08T00:00:00.000000000",
          "2015-05-09T00:00:00.000000000",
          "2015-05-10T00:00:00.000000000",
          "2015-05-11T00:00:00.000000000",
          "2015-05-12T00:00:00.000000000",
          "2015-05-13T00:00:00.000000000",
          "2015-05-14T00:00:00.000000000",
          "2015-05-15T00:00:00.000000000",
          "2015-05-16T00:00:00.000000000",
          "2015-05-17T00:00:00.000000000",
          "2015-05-18T00:00:00.000000000",
          "2015-05-19T00:00:00.000000000",
          "2015-05-20T00:00:00.000000000",
          "2015-05-21T00:00:00.000000000",
          "2015-05-22T00:00:00.000000000",
          "2015-05-23T00:00:00.000000000",
          "2015-05-24T00:00:00.000000000",
          "2015-05-25T00:00:00.000000000",
          "2015-05-26T00:00:00.000000000",
          "2015-05-27T00:00:00.000000000",
          "2015-05-28T00:00:00.000000000",
          "2015-05-29T00:00:00.000000000",
          "2015-05-30T00:00:00.000000000",
          "2015-05-31T00:00:00.000000000",
          "2015-06-01T00:00:00.000000000",
          "2015-06-02T00:00:00.000000000",
          "2015-06-03T00:00:00.000000000",
          "2015-06-04T00:00:00.000000000",
          "2015-06-05T00:00:00.000000000",
          "2015-06-06T00:00:00.000000000",
          "2015-06-07T00:00:00.000000000",
          "2015-06-08T00:00:00.000000000",
          "2015-06-09T00:00:00.000000000",
          "2015-06-10T00:00:00.000000000",
          "2015-06-11T00:00:00.000000000",
          "2015-06-12T00:00:00.000000000",
          "2015-06-13T00:00:00.000000000",
          "2015-06-14T00:00:00.000000000",
          "2015-06-15T00:00:00.000000000",
          "2015-06-16T00:00:00.000000000",
          "2015-06-17T00:00:00.000000000",
          "2015-06-18T00:00:00.000000000",
          "2015-06-19T00:00:00.000000000",
          "2015-06-20T00:00:00.000000000",
          "2015-06-21T00:00:00.000000000",
          "2015-06-22T00:00:00.000000000",
          "2015-06-23T00:00:00.000000000",
          "2015-06-24T00:00:00.000000000",
          "2015-06-25T00:00:00.000000000",
          "2015-06-26T00:00:00.000000000",
          "2015-06-27T00:00:00.000000000",
          "2015-06-28T00:00:00.000000000",
          "2015-06-29T00:00:00.000000000",
          "2015-06-30T00:00:00.000000000",
          "2015-07-01T00:00:00.000000000",
          "2015-07-02T00:00:00.000000000",
          "2015-07-03T00:00:00.000000000",
          "2015-07-04T00:00:00.000000000",
          "2015-07-05T00:00:00.000000000",
          "2015-07-06T00:00:00.000000000",
          "2015-07-07T00:00:00.000000000",
          "2015-07-08T00:00:00.000000000",
          "2015-07-09T00:00:00.000000000",
          "2015-07-10T00:00:00.000000000",
          "2015-07-11T00:00:00.000000000",
          "2015-07-12T00:00:00.000000000",
          "2015-07-13T00:00:00.000000000",
          "2015-07-14T00:00:00.000000000",
          "2015-07-15T00:00:00.000000000",
          "2015-07-16T00:00:00.000000000",
          "2015-07-17T00:00:00.000000000",
          "2015-07-18T00:00:00.000000000",
          "2015-07-19T00:00:00.000000000",
          "2015-07-20T00:00:00.000000000",
          "2015-07-21T00:00:00.000000000",
          "2015-07-22T00:00:00.000000000",
          "2015-07-23T00:00:00.000000000",
          "2015-07-24T00:00:00.000000000",
          "2015-07-25T00:00:00.000000000",
          "2015-07-26T00:00:00.000000000",
          "2015-07-27T00:00:00.000000000",
          "2015-07-28T00:00:00.000000000",
          "2015-07-29T00:00:00.000000000",
          "2015-07-30T00:00:00.000000000",
          "2015-07-31T00:00:00.000000000",
          "2015-08-01T00:00:00.000000000",
          "2015-08-02T00:00:00.000000000",
          "2015-08-03T00:00:00.000000000",
          "2015-08-04T00:00:00.000000000",
          "2015-08-05T00:00:00.000000000",
          "2015-08-06T00:00:00.000000000",
          "2015-08-07T00:00:00.000000000",
          "2015-08-08T00:00:00.000000000",
          "2015-08-09T00:00:00.000000000",
          "2015-08-10T00:00:00.000000000",
          "2015-08-11T00:00:00.000000000",
          "2015-08-12T00:00:00.000000000",
          "2015-08-13T00:00:00.000000000",
          "2015-08-14T00:00:00.000000000",
          "2015-08-15T00:00:00.000000000",
          "2015-08-16T00:00:00.000000000",
          "2015-08-17T00:00:00.000000000",
          "2015-08-18T00:00:00.000000000",
          "2015-08-19T00:00:00.000000000",
          "2015-08-20T00:00:00.000000000",
          "2015-08-21T00:00:00.000000000",
          "2015-08-22T00:00:00.000000000",
          "2015-08-23T00:00:00.000000000",
          "2015-08-24T00:00:00.000000000",
          "2015-08-25T00:00:00.000000000",
          "2015-08-26T00:00:00.000000000",
          "2015-08-27T00:00:00.000000000",
          "2015-08-28T00:00:00.000000000",
          "2015-08-29T00:00:00.000000000",
          "2015-08-30T00:00:00.000000000",
          "2015-08-31T00:00:00.000000000",
          "2015-09-01T00:00:00.000000000",
          "2015-09-02T00:00:00.000000000",
          "2015-09-03T00:00:00.000000000",
          "2015-09-04T00:00:00.000000000",
          "2015-09-05T00:00:00.000000000",
          "2015-09-06T00:00:00.000000000",
          "2015-09-07T00:00:00.000000000",
          "2015-09-08T00:00:00.000000000",
          "2015-09-09T00:00:00.000000000",
          "2015-09-10T00:00:00.000000000",
          "2015-09-11T00:00:00.000000000",
          "2015-09-12T00:00:00.000000000",
          "2015-09-13T00:00:00.000000000",
          "2015-09-14T00:00:00.000000000",
          "2015-09-15T00:00:00.000000000",
          "2015-09-16T00:00:00.000000000",
          "2015-09-17T00:00:00.000000000",
          "2015-09-18T00:00:00.000000000",
          "2015-09-19T00:00:00.000000000",
          "2015-09-20T00:00:00.000000000",
          "2015-09-21T00:00:00.000000000",
          "2015-09-22T00:00:00.000000000",
          "2015-09-23T00:00:00.000000000",
          "2015-09-24T00:00:00.000000000",
          "2015-09-25T00:00:00.000000000",
          "2015-09-26T00:00:00.000000000",
          "2015-09-27T00:00:00.000000000",
          "2015-09-28T00:00:00.000000000",
          "2015-09-29T00:00:00.000000000",
          "2015-09-30T00:00:00.000000000",
          "2015-10-01T00:00:00.000000000",
          "2015-10-02T00:00:00.000000000",
          "2015-10-03T00:00:00.000000000",
          "2015-10-04T00:00:00.000000000",
          "2015-10-05T00:00:00.000000000",
          "2015-10-06T00:00:00.000000000",
          "2015-10-07T00:00:00.000000000",
          "2015-10-08T00:00:00.000000000",
          "2015-10-09T00:00:00.000000000",
          "2015-10-10T00:00:00.000000000",
          "2015-10-11T00:00:00.000000000",
          "2015-10-12T00:00:00.000000000",
          "2015-10-13T00:00:00.000000000",
          "2015-10-14T00:00:00.000000000",
          "2015-10-15T00:00:00.000000000",
          "2015-10-16T00:00:00.000000000",
          "2015-10-17T00:00:00.000000000",
          "2015-10-18T00:00:00.000000000",
          "2015-10-19T00:00:00.000000000",
          "2015-10-20T00:00:00.000000000",
          "2015-10-21T00:00:00.000000000",
          "2015-10-22T00:00:00.000000000",
          "2015-10-23T00:00:00.000000000",
          "2015-10-24T00:00:00.000000000",
          "2015-10-25T00:00:00.000000000",
          "2015-10-26T00:00:00.000000000",
          "2015-10-27T00:00:00.000000000",
          "2015-10-28T00:00:00.000000000",
          "2015-10-29T00:00:00.000000000",
          "2015-10-30T00:00:00.000000000",
          "2015-10-31T00:00:00.000000000",
          "2015-11-01T00:00:00.000000000",
          "2015-11-02T00:00:00.000000000",
          "2015-11-03T00:00:00.000000000",
          "2015-11-04T00:00:00.000000000",
          "2015-11-05T00:00:00.000000000",
          "2015-11-06T00:00:00.000000000",
          "2015-11-07T00:00:00.000000000",
          "2015-11-08T00:00:00.000000000",
          "2015-11-09T00:00:00.000000000",
          "2015-11-10T00:00:00.000000000",
          "2015-11-11T00:00:00.000000000",
          "2015-11-12T00:00:00.000000000",
          "2015-11-13T00:00:00.000000000",
          "2015-11-14T00:00:00.000000000",
          "2015-11-15T00:00:00.000000000",
          "2015-11-16T00:00:00.000000000",
          "2015-11-17T00:00:00.000000000",
          "2015-11-18T00:00:00.000000000",
          "2015-11-19T00:00:00.000000000",
          "2015-11-20T00:00:00.000000000",
          "2015-11-21T00:00:00.000000000",
          "2015-11-22T00:00:00.000000000",
          "2015-11-23T00:00:00.000000000",
          "2015-11-24T00:00:00.000000000",
          "2015-11-25T00:00:00.000000000",
          "2015-11-26T00:00:00.000000000",
          "2015-11-27T00:00:00.000000000",
          "2015-11-28T00:00:00.000000000",
          "2015-11-29T00:00:00.000000000",
          "2015-11-30T00:00:00.000000000",
          "2015-12-01T00:00:00.000000000",
          "2015-12-02T00:00:00.000000000",
          "2015-12-03T00:00:00.000000000",
          "2015-12-04T00:00:00.000000000",
          "2015-12-05T00:00:00.000000000",
          "2015-12-06T00:00:00.000000000",
          "2015-12-07T00:00:00.000000000",
          "2015-12-08T00:00:00.000000000",
          "2015-12-09T00:00:00.000000000",
          "2015-12-10T00:00:00.000000000",
          "2015-12-11T00:00:00.000000000",
          "2015-12-12T00:00:00.000000000",
          "2015-12-13T00:00:00.000000000",
          "2015-12-14T00:00:00.000000000",
          "2015-12-15T00:00:00.000000000",
          "2015-12-16T00:00:00.000000000",
          "2015-12-17T00:00:00.000000000",
          "2015-12-18T00:00:00.000000000",
          "2015-12-19T00:00:00.000000000",
          "2015-12-20T00:00:00.000000000",
          "2015-12-21T00:00:00.000000000",
          "2015-12-22T00:00:00.000000000",
          "2015-12-23T00:00:00.000000000",
          "2015-12-24T00:00:00.000000000",
          "2015-12-25T00:00:00.000000000",
          "2015-12-26T00:00:00.000000000",
          "2015-12-27T00:00:00.000000000",
          "2015-12-28T00:00:00.000000000",
          "2015-12-29T00:00:00.000000000",
          "2015-12-30T00:00:00.000000000",
          "2015-12-31T00:00:00.000000000"
         ],
         "xaxis": "x",
         "y": {
          "bdata": "BgcGBwcFBAcFCQQHAwUEBQYICAQFBAkCCQIMBAgLCAkEBwMDCAkECQMGDAUJBwcGCgcLAwcJBAEHBQYGCAoHBwYFBQUICQUIBAMEEAUECQYDAwYJCwkJCAwGCgsHBAkLBwUFBAIHBggFBQYDCAQHCAcHCAIHBQgOBgsMCAQIBwgFCQQCBAYGCAgGBwYFBAUHBwMDCQ0IBgYGCQgHBQcEBQMHCwgHBwYGBgcEBwQICgUDCAYGBAkIAwkHCQUKBgUHBAQFBg0ICgsJCQUGCwQHBAcJAwUJBgMHBgQIBAULCgcGDAIIBwgGCAoIBwgFBAYGBwwECgUJBwYIBQgDBwcFCwcGAggJBAUHAgcBCwcJCAcGCAUGCAQIBgUIAwgGBAYFCgUIBgYDCQkFCgcKAgIHAgQGBgQJBAcHBwoFBAoEBAQICAUMCQYKBAsGAwkEBwcGBwQEBwMMBQkFBgYEBQUECgsFBgoJCA4JBAoIAwc=",
          "dtype": "i1"
         },
         "yaxis": "y"
        }
       ],
       "layout": {
        "legend": {
         "title": {
          "text": "outcome"
         },
         "tracegroupgap": 0
        },
        "margin": {
         "t": 60
        },
        "template": {
         "data": {
          "bar": [
           {
            "error_x": {
             "color": "#2a3f5f"
            },
            "error_y": {
             "color": "#2a3f5f"
            },
            "marker": {
             "line": {
              "color": "#E5ECF6",
              "width": 0.5
             },
             "pattern": {
              "fillmode": "overlay",
              "size": 10,
              "solidity": 0.2
             }
            },
            "type": "bar"
           }
          ],
          "barpolar": [
           {
            "marker": {
             "line": {
              "color": "#E5ECF6",
              "width": 0.5
             },
             "pattern": {
              "fillmode": "overlay",
              "size": 10,
              "solidity": 0.2
             }
            },
            "type": "barpolar"
           }
          ],
          "carpet": [
           {
            "aaxis": {
             "endlinecolor": "#2a3f5f",
             "gridcolor": "white",
             "linecolor": "white",
             "minorgridcolor": "white",
             "startlinecolor": "#2a3f5f"
            },
            "baxis": {
             "endlinecolor": "#2a3f5f",
             "gridcolor": "white",
             "linecolor": "white",
             "minorgridcolor": "white",
             "startlinecolor": "#2a3f5f"
            },
            "type": "carpet"
           }
          ],
          "choropleth": [
           {
            "colorbar": {
             "outlinewidth": 0,
             "ticks": ""
            },
            "type": "choropleth"
           }
          ],
          "contour": [
           {
            "colorbar": {
             "outlinewidth": 0,
             "ticks": ""
            },
            "colorscale": [
             [
              0,
              "#0d0887"
             ],
             [
              0.1111111111111111,
              "#46039f"
             ],
             [
              0.2222222222222222,
              "#7201a8"
             ],
             [
              0.3333333333333333,
              "#9c179e"
             ],
             [
              0.4444444444444444,
              "#bd3786"
             ],
             [
              0.5555555555555556,
              "#d8576b"
             ],
             [
              0.6666666666666666,
              "#ed7953"
             ],
             [
              0.7777777777777778,
              "#fb9f3a"
             ],
             [
              0.8888888888888888,
              "#fdca26"
             ],
             [
              1,
              "#f0f921"
             ]
            ],
            "type": "contour"
           }
          ],
          "contourcarpet": [
           {
            "colorbar": {
             "outlinewidth": 0,
             "ticks": ""
            },
            "type": "contourcarpet"
           }
          ],
          "heatmap": [
           {
            "colorbar": {
             "outlinewidth": 0,
             "ticks": ""
            },
            "colorscale": [
             [
              0,
              "#0d0887"
             ],
             [
              0.1111111111111111,
              "#46039f"
             ],
             [
              0.2222222222222222,
              "#7201a8"
             ],
             [
              0.3333333333333333,
              "#9c179e"
             ],
             [
              0.4444444444444444,
              "#bd3786"
             ],
             [
              0.5555555555555556,
              "#d8576b"
             ],
             [
              0.6666666666666666,
              "#ed7953"
             ],
             [
              0.7777777777777778,
              "#fb9f3a"
             ],
             [
              0.8888888888888888,
              "#fdca26"
             ],
             [
              1,
              "#f0f921"
             ]
            ],
            "type": "heatmap"
           }
          ],
          "histogram": [
           {
            "marker": {
             "pattern": {
              "fillmode": "overlay",
              "size": 10,
              "solidity": 0.2
             }
            },
            "type": "histogram"
           }
          ],
          "histogram2d": [
           {
            "colorbar": {
             "outlinewidth": 0,
             "ticks": ""
            },
            "colorscale": [
             [
              0,
              "#0d0887"
             ],
             [
              0.1111111111111111,
              "#46039f"
             ],
             [
              0.2222222222222222,
              "#7201a8"
             ],
             [
              0.3333333333333333,
              "#9c179e"
             ],
             [
              0.4444444444444444,
              "#bd3786"
             ],
             [
              0.5555555555555556,
              "#d8576b"
             ],
             [
              0.6666666666666666,
              "#ed7953"
             ],
             [
              0.7777777777777778,
              "#fb9f3a"
             ],
             [
              0.8888888888888888,
              "#fdca26"
             ],
             [
              1,
              "#f0f921"
             ]
            ],
            "type": "histogram2d"
           }
          ],
          "histogram2dcontour": [
           {
            "colorbar": {
             "outlinewidth": 0,
             "ticks": ""
            },
            "colorscale": [
             [
              0,
              "#0d0887"
             ],
             [
              0.1111111111111111,
              "#46039f"
             ],
             [
              0.2222222222222222,
              "#7201a8"
             ],
             [
              0.3333333333333333,
              "#9c179e"
             ],
             [
              0.4444444444444444,
              "#bd3786"
             ],
             [
              0.5555555555555556,
              "#d8576b"
             ],
             [
              0.6666666666666666,
              "#ed7953"
             ],
             [
              0.7777777777777778,
              "#fb9f3a"
             ],
             [
              0.8888888888888888,
              "#fdca26"
             ],
             [
              1,
              "#f0f921"
             ]
            ],
            "type": "histogram2dcontour"
           }
          ],
          "mesh3d": [
           {
            "colorbar": {
             "outlinewidth": 0,
             "ticks": ""
            },
            "type": "mesh3d"
           }
          ],
          "parcoords": [
           {
            "line": {
             "colorbar": {
              "outlinewidth": 0,
              "ticks": ""
             }
            },
            "type": "parcoords"
           }
          ],
          "pie": [
           {
            "automargin": true,
            "type": "pie"
           }
          ],
          "scatter": [
           {
            "fillpattern": {
             "fillmode": "overlay",
             "size": 10,
             "solidity": 0.2
            },
            "type": "scatter"
           }
          ],
          "scatter3d": [
           {
            "line": {
             "colorbar": {
              "outlinewidth": 0,
              "ticks": ""
             }
            },
            "marker": {
             "colorbar": {
              "outlinewidth": 0,
              "ticks": ""
             }
            },
            "type": "scatter3d"
           }
          ],
          "scattercarpet": [
           {
            "marker": {
             "colorbar": {
              "outlinewidth": 0,
              "ticks": ""
             }
            },
            "type": "scattercarpet"
           }
          ],
          "scattergeo": [
           {
            "marker": {
             "colorbar": {
              "outlinewidth": 0,
              "ticks": ""
             }
            },
            "type": "scattergeo"
           }
          ],
          "scattergl": [
           {
            "marker": {
             "colorbar": {
              "outlinewidth": 0,
              "ticks": ""
             }
            },
            "type": "scattergl"
           }
          ],
          "scattermap": [
           {
            "marker": {
             "colorbar": {
              "outlinewidth": 0,
              "ticks": ""
             }
            },
            "type": "scattermap"
           }
          ],
          "scattermapbox": [
           {
            "marker": {
             "colorbar": {
              "outlinewidth": 0,
              "ticks": ""
             }
            },
            "type": "scattermapbox"
           }
          ],
          "scatterpolar": [
           {
            "marker": {
             "colorbar": {
              "outlinewidth": 0,
              "ticks": ""
             }
            },
            "type": "scatterpolar"
           }
          ],
          "scatterpolargl": [
           {
            "marker": {
             "colorbar": {
              "outlinewidth": 0,
              "ticks": ""
             }
            },
            "type": "scatterpolargl"
           }
          ],
          "scatterternary": [
           {
            "marker": {
             "colorbar": {
              "outlinewidth": 0,
              "ticks": ""
             }
            },
            "type": "scatterternary"
           }
          ],
          "surface": [
           {
            "colorbar": {
             "outlinewidth": 0,
             "ticks": ""
            },
            "colorscale": [
             [
              0,
              "#0d0887"
             ],
             [
              0.1111111111111111,
              "#46039f"
             ],
             [
              0.2222222222222222,
              "#7201a8"
             ],
             [
              0.3333333333333333,
              "#9c179e"
             ],
             [
              0.4444444444444444,
              "#bd3786"
             ],
             [
              0.5555555555555556,
              "#d8576b"
             ],
             [
              0.6666666666666666,
              "#ed7953"
             ],
             [
              0.7777777777777778,
              "#fb9f3a"
             ],
             [
              0.8888888888888888,
              "#fdca26"
             ],
             [
              1,
              "#f0f921"
             ]
            ],
            "type": "surface"
           }
          ],
          "table": [
           {
            "cells": {
             "fill": {
              "color": "#EBF0F8"
             },
             "line": {
              "color": "white"
             }
            },
            "header": {
             "fill": {
              "color": "#C8D4E3"
             },
             "line": {
              "color": "white"
             }
            },
            "type": "table"
           }
          ]
         },
         "layout": {
          "annotationdefaults": {
           "arrowcolor": "#2a3f5f",
           "arrowhead": 0,
           "arrowwidth": 1
          },
          "autotypenumbers": "strict",
          "coloraxis": {
           "colorbar": {
            "outlinewidth": 0,
            "ticks": ""
           }
          },
          "colorscale": {
           "diverging": [
            [
             0,
             "#8e0152"
            ],
            [
             0.1,
             "#c51b7d"
            ],
            [
             0.2,
             "#de77ae"
            ],
            [
             0.3,
             "#f1b6da"
            ],
            [
             0.4,
             "#fde0ef"
            ],
            [
             0.5,
             "#f7f7f7"
            ],
            [
             0.6,
             "#e6f5d0"
            ],
            [
             0.7,
             "#b8e186"
            ],
            [
             0.8,
             "#7fbc41"
            ],
            [
             0.9,
             "#4d9221"
            ],
            [
             1,
             "#276419"
            ]
           ],
           "sequential": [
            [
             0,
             "#0d0887"
            ],
            [
             0.1111111111111111,
             "#46039f"
            ],
            [
             0.2222222222222222,
             "#7201a8"
            ],
            [
             0.3333333333333333,
             "#9c179e"
            ],
            [
             0.4444444444444444,
             "#bd3786"
            ],
            [
             0.5555555555555556,
             "#d8576b"
            ],
            [
             0.6666666666666666,
             "#ed7953"
            ],
            [
             0.7777777777777778,
             "#fb9f3a"
            ],
            [
             0.8888888888888888,
             "#fdca26"
            ],
            [
             1,
             "#f0f921"
            ]
           ],
           "sequentialminus": [
            [
             0,
             "#0d0887"
            ],
            [
             0.1111111111111111,
             "#46039f"
            ],
            [
             0.2222222222222222,
             "#7201a8"
            ],
            [
             0.3333333333333333,
             "#9c179e"
            ],
            [
             0.4444444444444444,
             "#bd3786"
            ],
            [
             0.5555555555555556,
             "#d8576b"
            ],
            [
             0.6666666666666666,
             "#ed7953"
            ],
            [
             0.7777777777777778,
             "#fb9f3a"
            ],
            [
             0.8888888888888888,
             "#fdca26"
            ],
            [
             1,
             "#f0f921"
            ]
           ]
          },
          "colorway": [
           "#636efa",
           "#EF553B",
           "#00cc96",
           "#ab63fa",
           "#FFA15A",
           "#19d3f3",
           "#FF6692",
           "#B6E880",
           "#FF97FF",
           "#FECB52"
          ],
          "font": {
           "color": "#2a3f5f"
          },
          "geo": {
           "bgcolor": "white",
           "lakecolor": "white",
           "landcolor": "#E5ECF6",
           "showlakes": true,
           "showland": true,
           "subunitcolor": "white"
          },
          "hoverlabel": {
           "align": "left"
          },
          "hovermode": "closest",
          "mapbox": {
           "style": "light"
          },
          "paper_bgcolor": "white",
          "plot_bgcolor": "#E5ECF6",
          "polar": {
           "angularaxis": {
            "gridcolor": "white",
            "linecolor": "white",
            "ticks": ""
           },
           "bgcolor": "#E5ECF6",
           "radialaxis": {
            "gridcolor": "white",
            "linecolor": "white",
            "ticks": ""
           }
          },
          "scene": {
           "xaxis": {
            "backgroundcolor": "#E5ECF6",
            "gridcolor": "white",
            "gridwidth": 2,
            "linecolor": "white",
            "showbackground": true,
            "ticks": "",
            "zerolinecolor": "white"
           },
           "yaxis": {
            "backgroundcolor": "#E5ECF6",
            "gridcolor": "white",
            "gridwidth": 2,
            "linecolor": "white",
            "showbackground": true,
            "ticks": "",
            "zerolinecolor": "white"
           },
           "zaxis": {
            "backgroundcolor": "#E5ECF6",
            "gridcolor": "white",
            "gridwidth": 2,
            "linecolor": "white",
            "showbackground": true,
            "ticks": "",
            "zerolinecolor": "white"
           }
          },
          "shapedefaults": {
           "line": {
            "color": "#2a3f5f"
           }
          },
          "ternary": {
           "aaxis": {
            "gridcolor": "white",
            "linecolor": "white",
            "ticks": ""
           },
           "baxis": {
            "gridcolor": "white",
            "linecolor": "white",
            "ticks": ""
           },
           "bgcolor": "#E5ECF6",
           "caxis": {
            "gridcolor": "white",
            "linecolor": "white",
            "ticks": ""
           }
          },
          "title": {
           "x": 0.05
          },
          "xaxis": {
           "automargin": true,
           "gridcolor": "white",
           "linecolor": "white",
           "ticks": "",
           "title": {
            "standoff": 15
           },
           "zerolinecolor": "white",
           "zerolinewidth": 2
          },
          "yaxis": {
           "automargin": true,
           "gridcolor": "white",
           "linecolor": "white",
           "ticks": "",
           "title": {
            "standoff": 15
           },
           "zerolinecolor": "white",
           "zerolinewidth": 2
          }
         }
        },
        "xaxis": {
         "anchor": "y",
         "domain": [
          0,
          1
         ],
         "title": {
          "text": "treatment_date"
         }
        },
        "yaxis": {
         "anchor": "x",
         "domain": [
          0,
          1
         ],
         "title": {
          "text": "member_id"
         }
        }
       }
      }
     },
     "metadata": {},
     "output_type": "display_data"
    }
   ],
   "source": [
    "# plot by time \n",
    "data_by_time = data.groupby([\"treatment_date\", \"outcome\"]).member_id.nunique().reset_index()\n",
    "data_by_time[\"treatment_date\"] = pd.to_datetime(data_by_time[\"treatment_date\"])\n",
    "px.line(data_by_time.sort_values(\"treatment_date\"), x=\"treatment_date\", y=\"member_id\", color=\"outcome\", markers=True)\n",
    "# doesnt appear to be a strong trend over time"
   ]
  },
  {
   "cell_type": "code",
   "execution_count": 29,
   "id": "8793884c",
   "metadata": {},
   "outputs": [
    {
     "data": {
      "application/vnd.plotly.v1+json": {
       "config": {
        "plotlyServerURL": "https://plot.ly"
       },
       "data": [
        {
         "hovertemplate": "outcome=pass<br>health_risk_assesment=%{x}<br>member_age=%{y}<br>member_id=%{marker.size}<extra></extra>",
         "legendgroup": "pass",
         "marker": {
          "color": "#636efa",
          "size": {
           "bdata": "LlM0GRcJCgMoYEArEg8HBRg7IRwODwgIARAdICcaGw0FCAcgJBwYDA0NBxkkHRcWEQgFHiUjEw4VEgUUHBoYGhEMCgEIGBYUExEMDQIDEBMJDg0ICAM=",
           "dtype": "i1"
          },
          "sizemode": "area",
          "sizeref": 0.24,
          "symbol": "circle"
         },
         "mode": "markers",
         "name": "pass",
         "orientation": "v",
         "showlegend": true,
         "type": "scatter",
         "x": {
          "bdata": "AQIDBAUGBwgBAgMEBQYHCAECAwQFBgcICQECAwQFBgcICQECAwQFBgcICQIDBAUGBwgJAgMEBQYHCAkCAwQFBgcICQoCAwQFBgcICQoCAwQFBgcICQo=",
          "dtype": "i1"
         },
         "xaxis": "x",
         "y": {
          "bdata": "QEBAQEBAQEBBQUFBQUFBQUJCQkJCQkJCQkNDQ0NDQ0NDQ0REREREREREREVFRUVFRUVFRkZGRkZGRkZHR0dHR0dHR0dISEhISEhISEhJSUlJSUlJSUk=",
          "dtype": "i1"
         },
         "yaxis": "y"
        },
        {
         "hovertemplate": "outcome=failure<br>health_risk_assesment=%{x}<br>member_age=%{y}<br>member_id=%{marker.size}<extra></extra>",
         "legendgroup": "failure",
         "marker": {
          "color": "#EF553B",
          "size": {
           "bdata": "CyowFBMPEAclKSkVFRACBxYkJyssKREIGykrMCkaEQMSKScuNSAVARUrISU0MhwFDyUuKig0IAQCGBYrLDQkLAoBFRgjNCgnLgoRFxkaKx0lFA==",
           "dtype": "i1"
          },
          "sizemode": "area",
          "sizeref": 0.24,
          "symbol": "circle"
         },
         "mode": "markers",
         "name": "failure",
         "orientation": "v",
         "showlegend": true,
         "type": "scatter",
         "x": {
          "bdata": "AgMEBQYHCAIDBAUGBwgJAgMEBQYHCAkCAwQFBgcICQIDBAUGBwgJAgMEBQYHCAkCAwQFBgcICQoCAwQFBgcICQoCAwQFBgcICQoDBAUGBwgJCg==",
          "dtype": "i1"
         },
         "xaxis": "x",
         "y": {
          "bdata": "QEBAQEBAQEFBQUFBQUFBQkJCQkJCQkJDQ0NDQ0NDQ0RERERERERERUVFRUVFRUVGRkZGRkZGRkZHR0dHR0dHR0dISEhISEhISEhJSUlJSUlJSQ==",
          "dtype": "i1"
         },
         "yaxis": "y"
        }
       ],
       "layout": {
        "annotations": [
         {
          "bgcolor": "white",
          "font": {
           "color": "black",
           "size": 14
          },
          "showarrow": false,
          "text": "Correlation: 0.38",
          "x": 0.05,
          "xref": "paper",
          "y": 0.95,
          "yref": "paper"
         }
        ],
        "legend": {
         "itemsizing": "constant",
         "title": {
          "text": "outcome"
         },
         "tracegroupgap": 0
        },
        "margin": {
         "t": 60
        },
        "template": {
         "data": {
          "bar": [
           {
            "error_x": {
             "color": "#2a3f5f"
            },
            "error_y": {
             "color": "#2a3f5f"
            },
            "marker": {
             "line": {
              "color": "#E5ECF6",
              "width": 0.5
             },
             "pattern": {
              "fillmode": "overlay",
              "size": 10,
              "solidity": 0.2
             }
            },
            "type": "bar"
           }
          ],
          "barpolar": [
           {
            "marker": {
             "line": {
              "color": "#E5ECF6",
              "width": 0.5
             },
             "pattern": {
              "fillmode": "overlay",
              "size": 10,
              "solidity": 0.2
             }
            },
            "type": "barpolar"
           }
          ],
          "carpet": [
           {
            "aaxis": {
             "endlinecolor": "#2a3f5f",
             "gridcolor": "white",
             "linecolor": "white",
             "minorgridcolor": "white",
             "startlinecolor": "#2a3f5f"
            },
            "baxis": {
             "endlinecolor": "#2a3f5f",
             "gridcolor": "white",
             "linecolor": "white",
             "minorgridcolor": "white",
             "startlinecolor": "#2a3f5f"
            },
            "type": "carpet"
           }
          ],
          "choropleth": [
           {
            "colorbar": {
             "outlinewidth": 0,
             "ticks": ""
            },
            "type": "choropleth"
           }
          ],
          "contour": [
           {
            "colorbar": {
             "outlinewidth": 0,
             "ticks": ""
            },
            "colorscale": [
             [
              0,
              "#0d0887"
             ],
             [
              0.1111111111111111,
              "#46039f"
             ],
             [
              0.2222222222222222,
              "#7201a8"
             ],
             [
              0.3333333333333333,
              "#9c179e"
             ],
             [
              0.4444444444444444,
              "#bd3786"
             ],
             [
              0.5555555555555556,
              "#d8576b"
             ],
             [
              0.6666666666666666,
              "#ed7953"
             ],
             [
              0.7777777777777778,
              "#fb9f3a"
             ],
             [
              0.8888888888888888,
              "#fdca26"
             ],
             [
              1,
              "#f0f921"
             ]
            ],
            "type": "contour"
           }
          ],
          "contourcarpet": [
           {
            "colorbar": {
             "outlinewidth": 0,
             "ticks": ""
            },
            "type": "contourcarpet"
           }
          ],
          "heatmap": [
           {
            "colorbar": {
             "outlinewidth": 0,
             "ticks": ""
            },
            "colorscale": [
             [
              0,
              "#0d0887"
             ],
             [
              0.1111111111111111,
              "#46039f"
             ],
             [
              0.2222222222222222,
              "#7201a8"
             ],
             [
              0.3333333333333333,
              "#9c179e"
             ],
             [
              0.4444444444444444,
              "#bd3786"
             ],
             [
              0.5555555555555556,
              "#d8576b"
             ],
             [
              0.6666666666666666,
              "#ed7953"
             ],
             [
              0.7777777777777778,
              "#fb9f3a"
             ],
             [
              0.8888888888888888,
              "#fdca26"
             ],
             [
              1,
              "#f0f921"
             ]
            ],
            "type": "heatmap"
           }
          ],
          "histogram": [
           {
            "marker": {
             "pattern": {
              "fillmode": "overlay",
              "size": 10,
              "solidity": 0.2
             }
            },
            "type": "histogram"
           }
          ],
          "histogram2d": [
           {
            "colorbar": {
             "outlinewidth": 0,
             "ticks": ""
            },
            "colorscale": [
             [
              0,
              "#0d0887"
             ],
             [
              0.1111111111111111,
              "#46039f"
             ],
             [
              0.2222222222222222,
              "#7201a8"
             ],
             [
              0.3333333333333333,
              "#9c179e"
             ],
             [
              0.4444444444444444,
              "#bd3786"
             ],
             [
              0.5555555555555556,
              "#d8576b"
             ],
             [
              0.6666666666666666,
              "#ed7953"
             ],
             [
              0.7777777777777778,
              "#fb9f3a"
             ],
             [
              0.8888888888888888,
              "#fdca26"
             ],
             [
              1,
              "#f0f921"
             ]
            ],
            "type": "histogram2d"
           }
          ],
          "histogram2dcontour": [
           {
            "colorbar": {
             "outlinewidth": 0,
             "ticks": ""
            },
            "colorscale": [
             [
              0,
              "#0d0887"
             ],
             [
              0.1111111111111111,
              "#46039f"
             ],
             [
              0.2222222222222222,
              "#7201a8"
             ],
             [
              0.3333333333333333,
              "#9c179e"
             ],
             [
              0.4444444444444444,
              "#bd3786"
             ],
             [
              0.5555555555555556,
              "#d8576b"
             ],
             [
              0.6666666666666666,
              "#ed7953"
             ],
             [
              0.7777777777777778,
              "#fb9f3a"
             ],
             [
              0.8888888888888888,
              "#fdca26"
             ],
             [
              1,
              "#f0f921"
             ]
            ],
            "type": "histogram2dcontour"
           }
          ],
          "mesh3d": [
           {
            "colorbar": {
             "outlinewidth": 0,
             "ticks": ""
            },
            "type": "mesh3d"
           }
          ],
          "parcoords": [
           {
            "line": {
             "colorbar": {
              "outlinewidth": 0,
              "ticks": ""
             }
            },
            "type": "parcoords"
           }
          ],
          "pie": [
           {
            "automargin": true,
            "type": "pie"
           }
          ],
          "scatter": [
           {
            "fillpattern": {
             "fillmode": "overlay",
             "size": 10,
             "solidity": 0.2
            },
            "type": "scatter"
           }
          ],
          "scatter3d": [
           {
            "line": {
             "colorbar": {
              "outlinewidth": 0,
              "ticks": ""
             }
            },
            "marker": {
             "colorbar": {
              "outlinewidth": 0,
              "ticks": ""
             }
            },
            "type": "scatter3d"
           }
          ],
          "scattercarpet": [
           {
            "marker": {
             "colorbar": {
              "outlinewidth": 0,
              "ticks": ""
             }
            },
            "type": "scattercarpet"
           }
          ],
          "scattergeo": [
           {
            "marker": {
             "colorbar": {
              "outlinewidth": 0,
              "ticks": ""
             }
            },
            "type": "scattergeo"
           }
          ],
          "scattergl": [
           {
            "marker": {
             "colorbar": {
              "outlinewidth": 0,
              "ticks": ""
             }
            },
            "type": "scattergl"
           }
          ],
          "scattermap": [
           {
            "marker": {
             "colorbar": {
              "outlinewidth": 0,
              "ticks": ""
             }
            },
            "type": "scattermap"
           }
          ],
          "scattermapbox": [
           {
            "marker": {
             "colorbar": {
              "outlinewidth": 0,
              "ticks": ""
             }
            },
            "type": "scattermapbox"
           }
          ],
          "scatterpolar": [
           {
            "marker": {
             "colorbar": {
              "outlinewidth": 0,
              "ticks": ""
             }
            },
            "type": "scatterpolar"
           }
          ],
          "scatterpolargl": [
           {
            "marker": {
             "colorbar": {
              "outlinewidth": 0,
              "ticks": ""
             }
            },
            "type": "scatterpolargl"
           }
          ],
          "scatterternary": [
           {
            "marker": {
             "colorbar": {
              "outlinewidth": 0,
              "ticks": ""
             }
            },
            "type": "scatterternary"
           }
          ],
          "surface": [
           {
            "colorbar": {
             "outlinewidth": 0,
             "ticks": ""
            },
            "colorscale": [
             [
              0,
              "#0d0887"
             ],
             [
              0.1111111111111111,
              "#46039f"
             ],
             [
              0.2222222222222222,
              "#7201a8"
             ],
             [
              0.3333333333333333,
              "#9c179e"
             ],
             [
              0.4444444444444444,
              "#bd3786"
             ],
             [
              0.5555555555555556,
              "#d8576b"
             ],
             [
              0.6666666666666666,
              "#ed7953"
             ],
             [
              0.7777777777777778,
              "#fb9f3a"
             ],
             [
              0.8888888888888888,
              "#fdca26"
             ],
             [
              1,
              "#f0f921"
             ]
            ],
            "type": "surface"
           }
          ],
          "table": [
           {
            "cells": {
             "fill": {
              "color": "#EBF0F8"
             },
             "line": {
              "color": "white"
             }
            },
            "header": {
             "fill": {
              "color": "#C8D4E3"
             },
             "line": {
              "color": "white"
             }
            },
            "type": "table"
           }
          ]
         },
         "layout": {
          "annotationdefaults": {
           "arrowcolor": "#2a3f5f",
           "arrowhead": 0,
           "arrowwidth": 1
          },
          "autotypenumbers": "strict",
          "coloraxis": {
           "colorbar": {
            "outlinewidth": 0,
            "ticks": ""
           }
          },
          "colorscale": {
           "diverging": [
            [
             0,
             "#8e0152"
            ],
            [
             0.1,
             "#c51b7d"
            ],
            [
             0.2,
             "#de77ae"
            ],
            [
             0.3,
             "#f1b6da"
            ],
            [
             0.4,
             "#fde0ef"
            ],
            [
             0.5,
             "#f7f7f7"
            ],
            [
             0.6,
             "#e6f5d0"
            ],
            [
             0.7,
             "#b8e186"
            ],
            [
             0.8,
             "#7fbc41"
            ],
            [
             0.9,
             "#4d9221"
            ],
            [
             1,
             "#276419"
            ]
           ],
           "sequential": [
            [
             0,
             "#0d0887"
            ],
            [
             0.1111111111111111,
             "#46039f"
            ],
            [
             0.2222222222222222,
             "#7201a8"
            ],
            [
             0.3333333333333333,
             "#9c179e"
            ],
            [
             0.4444444444444444,
             "#bd3786"
            ],
            [
             0.5555555555555556,
             "#d8576b"
            ],
            [
             0.6666666666666666,
             "#ed7953"
            ],
            [
             0.7777777777777778,
             "#fb9f3a"
            ],
            [
             0.8888888888888888,
             "#fdca26"
            ],
            [
             1,
             "#f0f921"
            ]
           ],
           "sequentialminus": [
            [
             0,
             "#0d0887"
            ],
            [
             0.1111111111111111,
             "#46039f"
            ],
            [
             0.2222222222222222,
             "#7201a8"
            ],
            [
             0.3333333333333333,
             "#9c179e"
            ],
            [
             0.4444444444444444,
             "#bd3786"
            ],
            [
             0.5555555555555556,
             "#d8576b"
            ],
            [
             0.6666666666666666,
             "#ed7953"
            ],
            [
             0.7777777777777778,
             "#fb9f3a"
            ],
            [
             0.8888888888888888,
             "#fdca26"
            ],
            [
             1,
             "#f0f921"
            ]
           ]
          },
          "colorway": [
           "#636efa",
           "#EF553B",
           "#00cc96",
           "#ab63fa",
           "#FFA15A",
           "#19d3f3",
           "#FF6692",
           "#B6E880",
           "#FF97FF",
           "#FECB52"
          ],
          "font": {
           "color": "#2a3f5f"
          },
          "geo": {
           "bgcolor": "white",
           "lakecolor": "white",
           "landcolor": "#E5ECF6",
           "showlakes": true,
           "showland": true,
           "subunitcolor": "white"
          },
          "hoverlabel": {
           "align": "left"
          },
          "hovermode": "closest",
          "mapbox": {
           "style": "light"
          },
          "paper_bgcolor": "white",
          "plot_bgcolor": "#E5ECF6",
          "polar": {
           "angularaxis": {
            "gridcolor": "white",
            "linecolor": "white",
            "ticks": ""
           },
           "bgcolor": "#E5ECF6",
           "radialaxis": {
            "gridcolor": "white",
            "linecolor": "white",
            "ticks": ""
           }
          },
          "scene": {
           "xaxis": {
            "backgroundcolor": "#E5ECF6",
            "gridcolor": "white",
            "gridwidth": 2,
            "linecolor": "white",
            "showbackground": true,
            "ticks": "",
            "zerolinecolor": "white"
           },
           "yaxis": {
            "backgroundcolor": "#E5ECF6",
            "gridcolor": "white",
            "gridwidth": 2,
            "linecolor": "white",
            "showbackground": true,
            "ticks": "",
            "zerolinecolor": "white"
           },
           "zaxis": {
            "backgroundcolor": "#E5ECF6",
            "gridcolor": "white",
            "gridwidth": 2,
            "linecolor": "white",
            "showbackground": true,
            "ticks": "",
            "zerolinecolor": "white"
           }
          },
          "shapedefaults": {
           "line": {
            "color": "#2a3f5f"
           }
          },
          "ternary": {
           "aaxis": {
            "gridcolor": "white",
            "linecolor": "white",
            "ticks": ""
           },
           "baxis": {
            "gridcolor": "white",
            "linecolor": "white",
            "ticks": ""
           },
           "bgcolor": "#E5ECF6",
           "caxis": {
            "gridcolor": "white",
            "linecolor": "white",
            "ticks": ""
           }
          },
          "title": {
           "x": 0.05
          },
          "xaxis": {
           "automargin": true,
           "gridcolor": "white",
           "linecolor": "white",
           "ticks": "",
           "title": {
            "standoff": 15
           },
           "zerolinecolor": "white",
           "zerolinewidth": 2
          },
          "yaxis": {
           "automargin": true,
           "gridcolor": "white",
           "linecolor": "white",
           "ticks": "",
           "title": {
            "standoff": 15
           },
           "zerolinecolor": "white",
           "zerolinewidth": 2
          }
         }
        },
        "xaxis": {
         "anchor": "y",
         "domain": [
          0,
          1
         ],
         "title": {
          "text": "health_risk_assesment"
         }
        },
        "yaxis": {
         "anchor": "x",
         "domain": [
          0,
          1
         ],
         "title": {
          "text": "member_age"
         }
        }
       }
      }
     },
     "metadata": {},
     "output_type": "display_data"
    }
   ],
   "source": [
    "# lets check member age too \n",
    "data_outcome_compare[\"member_age\"].isna().value_counts()\n",
    "# no missing values\n",
    "data_outcome_compare_count = data_outcome_compare.groupby([\"member_age\", \"health_risk_assesment\", \"outcome\"]).member_id.count().reset_index()\n",
    "fig = px.scatter(x=\"health_risk_assesment\", y=\"member_age\", size=\"member_id\",  data_frame=data_outcome_compare_count, color=\"outcome\")\n",
    "age_risk_corr = data_outcome_compare[[\"health_risk_assesment\", \"member_age\"]].corr().iloc[0,1]\n",
    "fig.add_annotation(\n",
    "    xref=\"paper\", yref=\"paper\", x=0.05, y=0.95,\n",
    "    text=f\"Correlation: {age_risk_corr:.2f}\",\n",
    "    showarrow=False,\n",
    "    font=dict(size=14, color=\"black\"),\n",
    "    bgcolor=\"white\"\n",
    ")\n",
    "fig.show()\n",
    "# doesnt appear to be a strong relationship between age and outcome, but we can see that the health risk assessment at the extremes relates to age"
   ]
  },
  {
   "cell_type": "code",
   "execution_count": 30,
   "id": "4ff403f1",
   "metadata": {},
   "outputs": [
    {
     "data": {
      "application/vnd.plotly.v1+json": {
       "config": {
        "plotlyServerURL": "https://plot.ly"
       },
       "data": [
        {
         "alignmentgroup": "True",
         "hovertemplate": "outcome=pass<br>member_sex=F<br>health_risk_assesment=%{x}<br>count=%{y}<extra></extra>",
         "legendgroup": "pass",
         "marker": {
          "color": "#636efa",
          "pattern": {
           "shape": ""
          }
         },
         "name": "pass",
         "offsetgroup": "pass",
         "orientation": "v",
         "showlegend": true,
         "textposition": "auto",
         "type": "bar",
         "x": {
          "bdata": "AgMBBAYFBwgJ",
          "dtype": "i1"
         },
         "xaxis": "x",
         "y": {
          "bdata": "AgG/AIUAgwBfAFsASAAqAA0A",
          "dtype": "i2"
         },
         "yaxis": "y"
        },
        {
         "alignmentgroup": "True",
         "hovertemplate": "outcome=pass<br>member_sex=M<br>health_risk_assesment=%{x}<br>count=%{y}<extra></extra>",
         "legendgroup": "pass",
         "marker": {
          "color": "#636efa",
          "pattern": {
           "shape": ""
          }
         },
         "name": "pass",
         "offsetgroup": "pass",
         "orientation": "v",
         "showlegend": false,
         "textposition": "auto",
         "type": "bar",
         "x": {
          "bdata": "AwQCBQYHCAkK",
          "dtype": "i1"
         },
         "xaxis": "x2",
         "y": {
          "bdata": "pwCjAH8AbQBOAEAAMgAsAAYA",
          "dtype": "i2"
         },
         "yaxis": "y2"
        },
        {
         "alignmentgroup": "True",
         "hovertemplate": "outcome=failure<br>member_sex=F<br>health_risk_assesment=%{x}<br>count=%{y}<extra></extra>",
         "legendgroup": "failure",
         "marker": {
          "color": "#EF553B",
          "pattern": {
           "shape": ""
          }
         },
         "name": "failure",
         "offsetgroup": "failure",
         "orientation": "v",
         "showlegend": true,
         "textposition": "auto",
         "type": "bar",
         "x": {
          "bdata": "BgcEBQgDCQI=",
          "dtype": "i1"
         },
         "xaxis": "x",
         "y": {
          "bdata": "zgDJALQAqACRAIMAMgAfAA==",
          "dtype": "i2"
         },
         "yaxis": "y"
        },
        {
         "alignmentgroup": "True",
         "hovertemplate": "outcome=failure<br>member_sex=M<br>health_risk_assesment=%{x}<br>count=%{y}<extra></extra>",
         "legendgroup": "failure",
         "marker": {
          "color": "#EF553B",
          "pattern": {
           "shape": ""
          }
         },
         "name": "failure",
         "offsetgroup": "failure",
         "orientation": "v",
         "showlegend": false,
         "textposition": "auto",
         "type": "bar",
         "x": {
          "bdata": "BwUJCAQGAwoC",
          "dtype": "i1"
         },
         "xaxis": "x2",
         "y": {
          "bdata": "yADEAMIAwACwAKwAcQAsAA4A",
          "dtype": "i2"
         },
         "yaxis": "y2"
        }
       ],
       "layout": {
        "annotations": [
         {
          "font": {},
          "showarrow": false,
          "text": "member_sex=F",
          "x": 0.245,
          "xanchor": "center",
          "xref": "paper",
          "y": 1,
          "yanchor": "bottom",
          "yref": "paper"
         },
         {
          "font": {},
          "showarrow": false,
          "text": "member_sex=M",
          "x": 0.755,
          "xanchor": "center",
          "xref": "paper",
          "y": 1,
          "yanchor": "bottom",
          "yref": "paper"
         }
        ],
        "barmode": "group",
        "legend": {
         "title": {
          "text": "outcome"
         },
         "tracegroupgap": 0
        },
        "margin": {
         "t": 60
        },
        "template": {
         "data": {
          "bar": [
           {
            "error_x": {
             "color": "#2a3f5f"
            },
            "error_y": {
             "color": "#2a3f5f"
            },
            "marker": {
             "line": {
              "color": "#E5ECF6",
              "width": 0.5
             },
             "pattern": {
              "fillmode": "overlay",
              "size": 10,
              "solidity": 0.2
             }
            },
            "type": "bar"
           }
          ],
          "barpolar": [
           {
            "marker": {
             "line": {
              "color": "#E5ECF6",
              "width": 0.5
             },
             "pattern": {
              "fillmode": "overlay",
              "size": 10,
              "solidity": 0.2
             }
            },
            "type": "barpolar"
           }
          ],
          "carpet": [
           {
            "aaxis": {
             "endlinecolor": "#2a3f5f",
             "gridcolor": "white",
             "linecolor": "white",
             "minorgridcolor": "white",
             "startlinecolor": "#2a3f5f"
            },
            "baxis": {
             "endlinecolor": "#2a3f5f",
             "gridcolor": "white",
             "linecolor": "white",
             "minorgridcolor": "white",
             "startlinecolor": "#2a3f5f"
            },
            "type": "carpet"
           }
          ],
          "choropleth": [
           {
            "colorbar": {
             "outlinewidth": 0,
             "ticks": ""
            },
            "type": "choropleth"
           }
          ],
          "contour": [
           {
            "colorbar": {
             "outlinewidth": 0,
             "ticks": ""
            },
            "colorscale": [
             [
              0,
              "#0d0887"
             ],
             [
              0.1111111111111111,
              "#46039f"
             ],
             [
              0.2222222222222222,
              "#7201a8"
             ],
             [
              0.3333333333333333,
              "#9c179e"
             ],
             [
              0.4444444444444444,
              "#bd3786"
             ],
             [
              0.5555555555555556,
              "#d8576b"
             ],
             [
              0.6666666666666666,
              "#ed7953"
             ],
             [
              0.7777777777777778,
              "#fb9f3a"
             ],
             [
              0.8888888888888888,
              "#fdca26"
             ],
             [
              1,
              "#f0f921"
             ]
            ],
            "type": "contour"
           }
          ],
          "contourcarpet": [
           {
            "colorbar": {
             "outlinewidth": 0,
             "ticks": ""
            },
            "type": "contourcarpet"
           }
          ],
          "heatmap": [
           {
            "colorbar": {
             "outlinewidth": 0,
             "ticks": ""
            },
            "colorscale": [
             [
              0,
              "#0d0887"
             ],
             [
              0.1111111111111111,
              "#46039f"
             ],
             [
              0.2222222222222222,
              "#7201a8"
             ],
             [
              0.3333333333333333,
              "#9c179e"
             ],
             [
              0.4444444444444444,
              "#bd3786"
             ],
             [
              0.5555555555555556,
              "#d8576b"
             ],
             [
              0.6666666666666666,
              "#ed7953"
             ],
             [
              0.7777777777777778,
              "#fb9f3a"
             ],
             [
              0.8888888888888888,
              "#fdca26"
             ],
             [
              1,
              "#f0f921"
             ]
            ],
            "type": "heatmap"
           }
          ],
          "histogram": [
           {
            "marker": {
             "pattern": {
              "fillmode": "overlay",
              "size": 10,
              "solidity": 0.2
             }
            },
            "type": "histogram"
           }
          ],
          "histogram2d": [
           {
            "colorbar": {
             "outlinewidth": 0,
             "ticks": ""
            },
            "colorscale": [
             [
              0,
              "#0d0887"
             ],
             [
              0.1111111111111111,
              "#46039f"
             ],
             [
              0.2222222222222222,
              "#7201a8"
             ],
             [
              0.3333333333333333,
              "#9c179e"
             ],
             [
              0.4444444444444444,
              "#bd3786"
             ],
             [
              0.5555555555555556,
              "#d8576b"
             ],
             [
              0.6666666666666666,
              "#ed7953"
             ],
             [
              0.7777777777777778,
              "#fb9f3a"
             ],
             [
              0.8888888888888888,
              "#fdca26"
             ],
             [
              1,
              "#f0f921"
             ]
            ],
            "type": "histogram2d"
           }
          ],
          "histogram2dcontour": [
           {
            "colorbar": {
             "outlinewidth": 0,
             "ticks": ""
            },
            "colorscale": [
             [
              0,
              "#0d0887"
             ],
             [
              0.1111111111111111,
              "#46039f"
             ],
             [
              0.2222222222222222,
              "#7201a8"
             ],
             [
              0.3333333333333333,
              "#9c179e"
             ],
             [
              0.4444444444444444,
              "#bd3786"
             ],
             [
              0.5555555555555556,
              "#d8576b"
             ],
             [
              0.6666666666666666,
              "#ed7953"
             ],
             [
              0.7777777777777778,
              "#fb9f3a"
             ],
             [
              0.8888888888888888,
              "#fdca26"
             ],
             [
              1,
              "#f0f921"
             ]
            ],
            "type": "histogram2dcontour"
           }
          ],
          "mesh3d": [
           {
            "colorbar": {
             "outlinewidth": 0,
             "ticks": ""
            },
            "type": "mesh3d"
           }
          ],
          "parcoords": [
           {
            "line": {
             "colorbar": {
              "outlinewidth": 0,
              "ticks": ""
             }
            },
            "type": "parcoords"
           }
          ],
          "pie": [
           {
            "automargin": true,
            "type": "pie"
           }
          ],
          "scatter": [
           {
            "fillpattern": {
             "fillmode": "overlay",
             "size": 10,
             "solidity": 0.2
            },
            "type": "scatter"
           }
          ],
          "scatter3d": [
           {
            "line": {
             "colorbar": {
              "outlinewidth": 0,
              "ticks": ""
             }
            },
            "marker": {
             "colorbar": {
              "outlinewidth": 0,
              "ticks": ""
             }
            },
            "type": "scatter3d"
           }
          ],
          "scattercarpet": [
           {
            "marker": {
             "colorbar": {
              "outlinewidth": 0,
              "ticks": ""
             }
            },
            "type": "scattercarpet"
           }
          ],
          "scattergeo": [
           {
            "marker": {
             "colorbar": {
              "outlinewidth": 0,
              "ticks": ""
             }
            },
            "type": "scattergeo"
           }
          ],
          "scattergl": [
           {
            "marker": {
             "colorbar": {
              "outlinewidth": 0,
              "ticks": ""
             }
            },
            "type": "scattergl"
           }
          ],
          "scattermap": [
           {
            "marker": {
             "colorbar": {
              "outlinewidth": 0,
              "ticks": ""
             }
            },
            "type": "scattermap"
           }
          ],
          "scattermapbox": [
           {
            "marker": {
             "colorbar": {
              "outlinewidth": 0,
              "ticks": ""
             }
            },
            "type": "scattermapbox"
           }
          ],
          "scatterpolar": [
           {
            "marker": {
             "colorbar": {
              "outlinewidth": 0,
              "ticks": ""
             }
            },
            "type": "scatterpolar"
           }
          ],
          "scatterpolargl": [
           {
            "marker": {
             "colorbar": {
              "outlinewidth": 0,
              "ticks": ""
             }
            },
            "type": "scatterpolargl"
           }
          ],
          "scatterternary": [
           {
            "marker": {
             "colorbar": {
              "outlinewidth": 0,
              "ticks": ""
             }
            },
            "type": "scatterternary"
           }
          ],
          "surface": [
           {
            "colorbar": {
             "outlinewidth": 0,
             "ticks": ""
            },
            "colorscale": [
             [
              0,
              "#0d0887"
             ],
             [
              0.1111111111111111,
              "#46039f"
             ],
             [
              0.2222222222222222,
              "#7201a8"
             ],
             [
              0.3333333333333333,
              "#9c179e"
             ],
             [
              0.4444444444444444,
              "#bd3786"
             ],
             [
              0.5555555555555556,
              "#d8576b"
             ],
             [
              0.6666666666666666,
              "#ed7953"
             ],
             [
              0.7777777777777778,
              "#fb9f3a"
             ],
             [
              0.8888888888888888,
              "#fdca26"
             ],
             [
              1,
              "#f0f921"
             ]
            ],
            "type": "surface"
           }
          ],
          "table": [
           {
            "cells": {
             "fill": {
              "color": "#EBF0F8"
             },
             "line": {
              "color": "white"
             }
            },
            "header": {
             "fill": {
              "color": "#C8D4E3"
             },
             "line": {
              "color": "white"
             }
            },
            "type": "table"
           }
          ]
         },
         "layout": {
          "annotationdefaults": {
           "arrowcolor": "#2a3f5f",
           "arrowhead": 0,
           "arrowwidth": 1
          },
          "autotypenumbers": "strict",
          "coloraxis": {
           "colorbar": {
            "outlinewidth": 0,
            "ticks": ""
           }
          },
          "colorscale": {
           "diverging": [
            [
             0,
             "#8e0152"
            ],
            [
             0.1,
             "#c51b7d"
            ],
            [
             0.2,
             "#de77ae"
            ],
            [
             0.3,
             "#f1b6da"
            ],
            [
             0.4,
             "#fde0ef"
            ],
            [
             0.5,
             "#f7f7f7"
            ],
            [
             0.6,
             "#e6f5d0"
            ],
            [
             0.7,
             "#b8e186"
            ],
            [
             0.8,
             "#7fbc41"
            ],
            [
             0.9,
             "#4d9221"
            ],
            [
             1,
             "#276419"
            ]
           ],
           "sequential": [
            [
             0,
             "#0d0887"
            ],
            [
             0.1111111111111111,
             "#46039f"
            ],
            [
             0.2222222222222222,
             "#7201a8"
            ],
            [
             0.3333333333333333,
             "#9c179e"
            ],
            [
             0.4444444444444444,
             "#bd3786"
            ],
            [
             0.5555555555555556,
             "#d8576b"
            ],
            [
             0.6666666666666666,
             "#ed7953"
            ],
            [
             0.7777777777777778,
             "#fb9f3a"
            ],
            [
             0.8888888888888888,
             "#fdca26"
            ],
            [
             1,
             "#f0f921"
            ]
           ],
           "sequentialminus": [
            [
             0,
             "#0d0887"
            ],
            [
             0.1111111111111111,
             "#46039f"
            ],
            [
             0.2222222222222222,
             "#7201a8"
            ],
            [
             0.3333333333333333,
             "#9c179e"
            ],
            [
             0.4444444444444444,
             "#bd3786"
            ],
            [
             0.5555555555555556,
             "#d8576b"
            ],
            [
             0.6666666666666666,
             "#ed7953"
            ],
            [
             0.7777777777777778,
             "#fb9f3a"
            ],
            [
             0.8888888888888888,
             "#fdca26"
            ],
            [
             1,
             "#f0f921"
            ]
           ]
          },
          "colorway": [
           "#636efa",
           "#EF553B",
           "#00cc96",
           "#ab63fa",
           "#FFA15A",
           "#19d3f3",
           "#FF6692",
           "#B6E880",
           "#FF97FF",
           "#FECB52"
          ],
          "font": {
           "color": "#2a3f5f"
          },
          "geo": {
           "bgcolor": "white",
           "lakecolor": "white",
           "landcolor": "#E5ECF6",
           "showlakes": true,
           "showland": true,
           "subunitcolor": "white"
          },
          "hoverlabel": {
           "align": "left"
          },
          "hovermode": "closest",
          "mapbox": {
           "style": "light"
          },
          "paper_bgcolor": "white",
          "plot_bgcolor": "#E5ECF6",
          "polar": {
           "angularaxis": {
            "gridcolor": "white",
            "linecolor": "white",
            "ticks": ""
           },
           "bgcolor": "#E5ECF6",
           "radialaxis": {
            "gridcolor": "white",
            "linecolor": "white",
            "ticks": ""
           }
          },
          "scene": {
           "xaxis": {
            "backgroundcolor": "#E5ECF6",
            "gridcolor": "white",
            "gridwidth": 2,
            "linecolor": "white",
            "showbackground": true,
            "ticks": "",
            "zerolinecolor": "white"
           },
           "yaxis": {
            "backgroundcolor": "#E5ECF6",
            "gridcolor": "white",
            "gridwidth": 2,
            "linecolor": "white",
            "showbackground": true,
            "ticks": "",
            "zerolinecolor": "white"
           },
           "zaxis": {
            "backgroundcolor": "#E5ECF6",
            "gridcolor": "white",
            "gridwidth": 2,
            "linecolor": "white",
            "showbackground": true,
            "ticks": "",
            "zerolinecolor": "white"
           }
          },
          "shapedefaults": {
           "line": {
            "color": "#2a3f5f"
           }
          },
          "ternary": {
           "aaxis": {
            "gridcolor": "white",
            "linecolor": "white",
            "ticks": ""
           },
           "baxis": {
            "gridcolor": "white",
            "linecolor": "white",
            "ticks": ""
           },
           "bgcolor": "#E5ECF6",
           "caxis": {
            "gridcolor": "white",
            "linecolor": "white",
            "ticks": ""
           }
          },
          "title": {
           "x": 0.05
          },
          "xaxis": {
           "automargin": true,
           "gridcolor": "white",
           "linecolor": "white",
           "ticks": "",
           "title": {
            "standoff": 15
           },
           "zerolinecolor": "white",
           "zerolinewidth": 2
          },
          "yaxis": {
           "automargin": true,
           "gridcolor": "white",
           "linecolor": "white",
           "ticks": "",
           "title": {
            "standoff": 15
           },
           "zerolinecolor": "white",
           "zerolinewidth": 2
          }
         }
        },
        "xaxis": {
         "anchor": "y",
         "domain": [
          0,
          0.49
         ],
         "title": {
          "text": "health_risk_assesment"
         }
        },
        "xaxis2": {
         "anchor": "y2",
         "domain": [
          0.51,
          1
         ],
         "matches": "x",
         "title": {
          "text": "health_risk_assesment"
         }
        },
        "yaxis": {
         "anchor": "x",
         "domain": [
          0,
          1
         ],
         "title": {
          "text": "count"
         }
        },
        "yaxis2": {
         "anchor": "x2",
         "domain": [
          0,
          1
         ],
         "matches": "y",
         "showticklabels": false
        }
       }
      }
     },
     "metadata": {},
     "output_type": "display_data"
    }
   ],
   "source": [
    "cat_plot = data_outcome_compare[[\"member_sex\", \"health_risk_assesment\", \"outcome\"]].value_counts().reset_index()\n",
    "cat_plot[\"member_sex\"] = cat_plot[\"member_sex\"].replace({0:\"F\", 1:\"M\"})\n",
    "px.bar(cat_plot, x=\"health_risk_assesment\", y=\"count\", color=\"outcome\", facet_col=\"member_sex\", barmode=\"group\")\n",
    "# Females do seem to have more positive outcomes at higher health risk assesment scores"
   ]
  },
  {
   "cell_type": "markdown",
   "id": "defd0615",
   "metadata": {},
   "source": [
    "Looks like there is a moderate global correlation between age and health risk assesment and we know form our information that age and sex are incorporated into this measures. Since we plan to use bayesian methods we should probably want to assess for colinearity "
   ]
  },
  {
   "cell_type": "code",
   "execution_count": 31,
   "id": "537c9907",
   "metadata": {},
   "outputs": [
    {
     "name": "stderr",
     "output_type": "stream",
     "text": [
      "/Library/Frameworks/Python.framework/Versions/3.13/lib/python3.13/site-packages/statsmodels/tools/tools.py:274: RuntimeWarning:\n",
      "\n",
      "divide by zero encountered in dot\n",
      "\n",
      "/Library/Frameworks/Python.framework/Versions/3.13/lib/python3.13/site-packages/statsmodels/tools/tools.py:274: RuntimeWarning:\n",
      "\n",
      "overflow encountered in dot\n",
      "\n",
      "/Library/Frameworks/Python.framework/Versions/3.13/lib/python3.13/site-packages/statsmodels/tools/tools.py:274: RuntimeWarning:\n",
      "\n",
      "invalid value encountered in dot\n",
      "\n",
      "/Library/Frameworks/Python.framework/Versions/3.13/lib/python3.13/site-packages/statsmodels/regression/linear_model.py:409: RuntimeWarning:\n",
      "\n",
      "divide by zero encountered in dot\n",
      "\n",
      "/Library/Frameworks/Python.framework/Versions/3.13/lib/python3.13/site-packages/statsmodels/regression/linear_model.py:409: RuntimeWarning:\n",
      "\n",
      "overflow encountered in dot\n",
      "\n",
      "/Library/Frameworks/Python.framework/Versions/3.13/lib/python3.13/site-packages/statsmodels/regression/linear_model.py:409: RuntimeWarning:\n",
      "\n",
      "invalid value encountered in dot\n",
      "\n",
      "/Library/Frameworks/Python.framework/Versions/3.13/lib/python3.13/site-packages/statsmodels/regression/linear_model.py:1723: RuntimeWarning:\n",
      "\n",
      "divide by zero encountered in dot\n",
      "\n",
      "/Library/Frameworks/Python.framework/Versions/3.13/lib/python3.13/site-packages/statsmodels/regression/linear_model.py:1723: RuntimeWarning:\n",
      "\n",
      "overflow encountered in dot\n",
      "\n",
      "/Library/Frameworks/Python.framework/Versions/3.13/lib/python3.13/site-packages/statsmodels/regression/linear_model.py:1723: RuntimeWarning:\n",
      "\n",
      "invalid value encountered in dot\n",
      "\n"
     ]
    },
    {
     "data": {
      "application/vnd.plotly.v1+json": {
       "config": {
        "plotlyServerURL": "https://plot.ly"
       },
       "data": [
        {
         "hovertemplate": "feature=%{x}<br>VIF=%{y}<extra></extra>",
         "legendgroup": "",
         "marker": {
          "color": "#636efa",
          "pattern": {
           "shape": ""
          }
         },
         "name": "",
         "orientation": "v",
         "showlegend": false,
         "textposition": "auto",
         "type": "bar",
         "x": [
          "member_age",
          "health_risk_assesment",
          "member_sex"
         ],
         "xaxis": "x",
         "y": {
          "bdata": "tbZP8b2kG0Bfz6gO8+wbQDW57WwcnQBA",
          "dtype": "f8"
         },
         "yaxis": "y"
        }
       ],
       "layout": {
        "barmode": "relative",
        "legend": {
         "tracegroupgap": 0
        },
        "template": {
         "data": {
          "bar": [
           {
            "error_x": {
             "color": "#2a3f5f"
            },
            "error_y": {
             "color": "#2a3f5f"
            },
            "marker": {
             "line": {
              "color": "#E5ECF6",
              "width": 0.5
             },
             "pattern": {
              "fillmode": "overlay",
              "size": 10,
              "solidity": 0.2
             }
            },
            "type": "bar"
           }
          ],
          "barpolar": [
           {
            "marker": {
             "line": {
              "color": "#E5ECF6",
              "width": 0.5
             },
             "pattern": {
              "fillmode": "overlay",
              "size": 10,
              "solidity": 0.2
             }
            },
            "type": "barpolar"
           }
          ],
          "carpet": [
           {
            "aaxis": {
             "endlinecolor": "#2a3f5f",
             "gridcolor": "white",
             "linecolor": "white",
             "minorgridcolor": "white",
             "startlinecolor": "#2a3f5f"
            },
            "baxis": {
             "endlinecolor": "#2a3f5f",
             "gridcolor": "white",
             "linecolor": "white",
             "minorgridcolor": "white",
             "startlinecolor": "#2a3f5f"
            },
            "type": "carpet"
           }
          ],
          "choropleth": [
           {
            "colorbar": {
             "outlinewidth": 0,
             "ticks": ""
            },
            "type": "choropleth"
           }
          ],
          "contour": [
           {
            "colorbar": {
             "outlinewidth": 0,
             "ticks": ""
            },
            "colorscale": [
             [
              0,
              "#0d0887"
             ],
             [
              0.1111111111111111,
              "#46039f"
             ],
             [
              0.2222222222222222,
              "#7201a8"
             ],
             [
              0.3333333333333333,
              "#9c179e"
             ],
             [
              0.4444444444444444,
              "#bd3786"
             ],
             [
              0.5555555555555556,
              "#d8576b"
             ],
             [
              0.6666666666666666,
              "#ed7953"
             ],
             [
              0.7777777777777778,
              "#fb9f3a"
             ],
             [
              0.8888888888888888,
              "#fdca26"
             ],
             [
              1,
              "#f0f921"
             ]
            ],
            "type": "contour"
           }
          ],
          "contourcarpet": [
           {
            "colorbar": {
             "outlinewidth": 0,
             "ticks": ""
            },
            "type": "contourcarpet"
           }
          ],
          "heatmap": [
           {
            "colorbar": {
             "outlinewidth": 0,
             "ticks": ""
            },
            "colorscale": [
             [
              0,
              "#0d0887"
             ],
             [
              0.1111111111111111,
              "#46039f"
             ],
             [
              0.2222222222222222,
              "#7201a8"
             ],
             [
              0.3333333333333333,
              "#9c179e"
             ],
             [
              0.4444444444444444,
              "#bd3786"
             ],
             [
              0.5555555555555556,
              "#d8576b"
             ],
             [
              0.6666666666666666,
              "#ed7953"
             ],
             [
              0.7777777777777778,
              "#fb9f3a"
             ],
             [
              0.8888888888888888,
              "#fdca26"
             ],
             [
              1,
              "#f0f921"
             ]
            ],
            "type": "heatmap"
           }
          ],
          "histogram": [
           {
            "marker": {
             "pattern": {
              "fillmode": "overlay",
              "size": 10,
              "solidity": 0.2
             }
            },
            "type": "histogram"
           }
          ],
          "histogram2d": [
           {
            "colorbar": {
             "outlinewidth": 0,
             "ticks": ""
            },
            "colorscale": [
             [
              0,
              "#0d0887"
             ],
             [
              0.1111111111111111,
              "#46039f"
             ],
             [
              0.2222222222222222,
              "#7201a8"
             ],
             [
              0.3333333333333333,
              "#9c179e"
             ],
             [
              0.4444444444444444,
              "#bd3786"
             ],
             [
              0.5555555555555556,
              "#d8576b"
             ],
             [
              0.6666666666666666,
              "#ed7953"
             ],
             [
              0.7777777777777778,
              "#fb9f3a"
             ],
             [
              0.8888888888888888,
              "#fdca26"
             ],
             [
              1,
              "#f0f921"
             ]
            ],
            "type": "histogram2d"
           }
          ],
          "histogram2dcontour": [
           {
            "colorbar": {
             "outlinewidth": 0,
             "ticks": ""
            },
            "colorscale": [
             [
              0,
              "#0d0887"
             ],
             [
              0.1111111111111111,
              "#46039f"
             ],
             [
              0.2222222222222222,
              "#7201a8"
             ],
             [
              0.3333333333333333,
              "#9c179e"
             ],
             [
              0.4444444444444444,
              "#bd3786"
             ],
             [
              0.5555555555555556,
              "#d8576b"
             ],
             [
              0.6666666666666666,
              "#ed7953"
             ],
             [
              0.7777777777777778,
              "#fb9f3a"
             ],
             [
              0.8888888888888888,
              "#fdca26"
             ],
             [
              1,
              "#f0f921"
             ]
            ],
            "type": "histogram2dcontour"
           }
          ],
          "mesh3d": [
           {
            "colorbar": {
             "outlinewidth": 0,
             "ticks": ""
            },
            "type": "mesh3d"
           }
          ],
          "parcoords": [
           {
            "line": {
             "colorbar": {
              "outlinewidth": 0,
              "ticks": ""
             }
            },
            "type": "parcoords"
           }
          ],
          "pie": [
           {
            "automargin": true,
            "type": "pie"
           }
          ],
          "scatter": [
           {
            "fillpattern": {
             "fillmode": "overlay",
             "size": 10,
             "solidity": 0.2
            },
            "type": "scatter"
           }
          ],
          "scatter3d": [
           {
            "line": {
             "colorbar": {
              "outlinewidth": 0,
              "ticks": ""
             }
            },
            "marker": {
             "colorbar": {
              "outlinewidth": 0,
              "ticks": ""
             }
            },
            "type": "scatter3d"
           }
          ],
          "scattercarpet": [
           {
            "marker": {
             "colorbar": {
              "outlinewidth": 0,
              "ticks": ""
             }
            },
            "type": "scattercarpet"
           }
          ],
          "scattergeo": [
           {
            "marker": {
             "colorbar": {
              "outlinewidth": 0,
              "ticks": ""
             }
            },
            "type": "scattergeo"
           }
          ],
          "scattergl": [
           {
            "marker": {
             "colorbar": {
              "outlinewidth": 0,
              "ticks": ""
             }
            },
            "type": "scattergl"
           }
          ],
          "scattermap": [
           {
            "marker": {
             "colorbar": {
              "outlinewidth": 0,
              "ticks": ""
             }
            },
            "type": "scattermap"
           }
          ],
          "scattermapbox": [
           {
            "marker": {
             "colorbar": {
              "outlinewidth": 0,
              "ticks": ""
             }
            },
            "type": "scattermapbox"
           }
          ],
          "scatterpolar": [
           {
            "marker": {
             "colorbar": {
              "outlinewidth": 0,
              "ticks": ""
             }
            },
            "type": "scatterpolar"
           }
          ],
          "scatterpolargl": [
           {
            "marker": {
             "colorbar": {
              "outlinewidth": 0,
              "ticks": ""
             }
            },
            "type": "scatterpolargl"
           }
          ],
          "scatterternary": [
           {
            "marker": {
             "colorbar": {
              "outlinewidth": 0,
              "ticks": ""
             }
            },
            "type": "scatterternary"
           }
          ],
          "surface": [
           {
            "colorbar": {
             "outlinewidth": 0,
             "ticks": ""
            },
            "colorscale": [
             [
              0,
              "#0d0887"
             ],
             [
              0.1111111111111111,
              "#46039f"
             ],
             [
              0.2222222222222222,
              "#7201a8"
             ],
             [
              0.3333333333333333,
              "#9c179e"
             ],
             [
              0.4444444444444444,
              "#bd3786"
             ],
             [
              0.5555555555555556,
              "#d8576b"
             ],
             [
              0.6666666666666666,
              "#ed7953"
             ],
             [
              0.7777777777777778,
              "#fb9f3a"
             ],
             [
              0.8888888888888888,
              "#fdca26"
             ],
             [
              1,
              "#f0f921"
             ]
            ],
            "type": "surface"
           }
          ],
          "table": [
           {
            "cells": {
             "fill": {
              "color": "#EBF0F8"
             },
             "line": {
              "color": "white"
             }
            },
            "header": {
             "fill": {
              "color": "#C8D4E3"
             },
             "line": {
              "color": "white"
             }
            },
            "type": "table"
           }
          ]
         },
         "layout": {
          "annotationdefaults": {
           "arrowcolor": "#2a3f5f",
           "arrowhead": 0,
           "arrowwidth": 1
          },
          "autotypenumbers": "strict",
          "coloraxis": {
           "colorbar": {
            "outlinewidth": 0,
            "ticks": ""
           }
          },
          "colorscale": {
           "diverging": [
            [
             0,
             "#8e0152"
            ],
            [
             0.1,
             "#c51b7d"
            ],
            [
             0.2,
             "#de77ae"
            ],
            [
             0.3,
             "#f1b6da"
            ],
            [
             0.4,
             "#fde0ef"
            ],
            [
             0.5,
             "#f7f7f7"
            ],
            [
             0.6,
             "#e6f5d0"
            ],
            [
             0.7,
             "#b8e186"
            ],
            [
             0.8,
             "#7fbc41"
            ],
            [
             0.9,
             "#4d9221"
            ],
            [
             1,
             "#276419"
            ]
           ],
           "sequential": [
            [
             0,
             "#0d0887"
            ],
            [
             0.1111111111111111,
             "#46039f"
            ],
            [
             0.2222222222222222,
             "#7201a8"
            ],
            [
             0.3333333333333333,
             "#9c179e"
            ],
            [
             0.4444444444444444,
             "#bd3786"
            ],
            [
             0.5555555555555556,
             "#d8576b"
            ],
            [
             0.6666666666666666,
             "#ed7953"
            ],
            [
             0.7777777777777778,
             "#fb9f3a"
            ],
            [
             0.8888888888888888,
             "#fdca26"
            ],
            [
             1,
             "#f0f921"
            ]
           ],
           "sequentialminus": [
            [
             0,
             "#0d0887"
            ],
            [
             0.1111111111111111,
             "#46039f"
            ],
            [
             0.2222222222222222,
             "#7201a8"
            ],
            [
             0.3333333333333333,
             "#9c179e"
            ],
            [
             0.4444444444444444,
             "#bd3786"
            ],
            [
             0.5555555555555556,
             "#d8576b"
            ],
            [
             0.6666666666666666,
             "#ed7953"
            ],
            [
             0.7777777777777778,
             "#fb9f3a"
            ],
            [
             0.8888888888888888,
             "#fdca26"
            ],
            [
             1,
             "#f0f921"
            ]
           ]
          },
          "colorway": [
           "#636efa",
           "#EF553B",
           "#00cc96",
           "#ab63fa",
           "#FFA15A",
           "#19d3f3",
           "#FF6692",
           "#B6E880",
           "#FF97FF",
           "#FECB52"
          ],
          "font": {
           "color": "#2a3f5f"
          },
          "geo": {
           "bgcolor": "white",
           "lakecolor": "white",
           "landcolor": "#E5ECF6",
           "showlakes": true,
           "showland": true,
           "subunitcolor": "white"
          },
          "hoverlabel": {
           "align": "left"
          },
          "hovermode": "closest",
          "mapbox": {
           "style": "light"
          },
          "paper_bgcolor": "white",
          "plot_bgcolor": "#E5ECF6",
          "polar": {
           "angularaxis": {
            "gridcolor": "white",
            "linecolor": "white",
            "ticks": ""
           },
           "bgcolor": "#E5ECF6",
           "radialaxis": {
            "gridcolor": "white",
            "linecolor": "white",
            "ticks": ""
           }
          },
          "scene": {
           "xaxis": {
            "backgroundcolor": "#E5ECF6",
            "gridcolor": "white",
            "gridwidth": 2,
            "linecolor": "white",
            "showbackground": true,
            "ticks": "",
            "zerolinecolor": "white"
           },
           "yaxis": {
            "backgroundcolor": "#E5ECF6",
            "gridcolor": "white",
            "gridwidth": 2,
            "linecolor": "white",
            "showbackground": true,
            "ticks": "",
            "zerolinecolor": "white"
           },
           "zaxis": {
            "backgroundcolor": "#E5ECF6",
            "gridcolor": "white",
            "gridwidth": 2,
            "linecolor": "white",
            "showbackground": true,
            "ticks": "",
            "zerolinecolor": "white"
           }
          },
          "shapedefaults": {
           "line": {
            "color": "#2a3f5f"
           }
          },
          "ternary": {
           "aaxis": {
            "gridcolor": "white",
            "linecolor": "white",
            "ticks": ""
           },
           "baxis": {
            "gridcolor": "white",
            "linecolor": "white",
            "ticks": ""
           },
           "bgcolor": "#E5ECF6",
           "caxis": {
            "gridcolor": "white",
            "linecolor": "white",
            "ticks": ""
           }
          },
          "title": {
           "x": 0.05
          },
          "xaxis": {
           "automargin": true,
           "gridcolor": "white",
           "linecolor": "white",
           "ticks": "",
           "title": {
            "standoff": 15
           },
           "zerolinecolor": "white",
           "zerolinewidth": 2
          },
          "yaxis": {
           "automargin": true,
           "gridcolor": "white",
           "linecolor": "white",
           "ticks": "",
           "title": {
            "standoff": 15
           },
           "zerolinecolor": "white",
           "zerolinewidth": 2
          }
         }
        },
        "title": {
         "text": "Variance Inflation Factor (VIF) for Features"
        },
        "xaxis": {
         "anchor": "y",
         "domain": [
          0,
          1
         ],
         "title": {
          "text": "feature"
         }
        },
        "yaxis": {
         "anchor": "x",
         "domain": [
          0,
          1
         ],
         "title": {
          "text": "VIF"
         }
        }
       }
      }
     },
     "metadata": {},
     "output_type": "display_data"
    },
    {
     "name": "stdout",
     "output_type": "stream",
     "text": [
      "Warning: The following features have VIF > 5 and indicate multicollinearity: ['member_age', 'health_risk_assesment']\n",
      "One of these will be dropped for downstream analysis to reduce collinearity.\n"
     ]
    }
   ],
   "source": [
    "vif_df = calculate_vif(data_outcome_compare, [\"member_age\", \"health_risk_assesment\", \"member_sex\"])\n",
    "px.bar(vif_df, x=\"feature\", y=\"VIF\", title=\"Variance Inflation Factor (VIF) for Features\").show()\n",
    "\n",
    "high_vif_features = vif_df.query(\"VIF > 5\")\n",
    "if not high_vif_features.empty:\n",
    "    print(f\"Warning: The following features have VIF > 5 and indicate multicollinearity: {list(high_vif_features['feature'])}\")\n",
    "    print(\"One of these will be dropped for downstream analysis to reduce collinearity.\")"
   ]
  },
  {
   "cell_type": "markdown",
   "id": "0c176882",
   "metadata": {},
   "source": [
    "#### Method 1 : Hierarchical Bayesian Logistic Regression\n",
    " - Using a heirarchical bayesian logistic regression we can calculate an effect for every provider against the global mean separate from the effect of the covariates. \n",
    " - This approach is relatively scalable, assesses all providers in one model, and quantifies the effect of provider relative to other covariates "
   ]
  },
  {
   "cell_type": "code",
   "execution_count": 32,
   "id": "878c8b28",
   "metadata": {},
   "outputs": [
    {
     "name": "stdout",
     "output_type": "stream",
     "text": [
      "[1 1 0 ... 1 1 1]\n"
     ]
    },
    {
     "name": "stderr",
     "output_type": "stream",
     "text": [
      "Initializing NUTS using jitter+adapt_diag...\n",
      "Multiprocess sampling (4 chains in 4 jobs)\n",
      "NUTS: [sigma_provider, provider_offset, intercept, betas]\n"
     ]
    },
    {
     "data": {
      "application/vnd.jupyter.widget-view+json": {
       "model_id": "5e81f53e187245599c76383579ed4135",
       "version_major": 2,
       "version_minor": 0
      },
      "text/plain": [
       "Output()"
      ]
     },
     "metadata": {},
     "output_type": "display_data"
    },
    {
     "data": {
      "text/html": [
       "<pre style=\"white-space:pre;overflow-x:auto;line-height:normal;font-family:Menlo,'DejaVu Sans Mono',consolas,'Courier New',monospace\"></pre>\n"
      ],
      "text/plain": []
     },
     "metadata": {},
     "output_type": "display_data"
    },
    {
     "name": "stderr",
     "output_type": "stream",
     "text": [
      "Sampling 4 chains for 1_000 tune and 2_000 draw iterations (4_000 + 8_000 draws total) took 11 seconds.\n",
      "There was 1 divergence after tuning. Increase `target_accept` or reparameterize.\n"
     ]
    }
   ],
   "source": [
    "fit_data, provider_encoder = fit_hierarchical_logistic_model(\n",
    "    df=data_outcome_compare,\n",
    "    covariates=[\"member_sex\",\"health_risk_assesment\"],\n",
    "    target_col=\"outcome\",\n",
    "    provider_col=\"servicing_provider_id\"\n",
    ")"
   ]
  },
  {
   "cell_type": "code",
   "execution_count": 33,
   "id": "8f61ec8d",
   "metadata": {},
   "outputs": [
    {
     "data": {
      "image/png": "[encoded data removed]",
      "text/plain": [
       "<Figure size 1000x3180 with 1 Axes>"
      ]
     },
     "metadata": {},
     "output_type": "display_data"
    },
    {
     "data": {
      "image/png": "[encoded data removed]",
      "text/plain": [
       "<Figure size 800x320 with 1 Axes>"
      ]
     },
     "metadata": {},
     "output_type": "display_data"
    }
   ],
   "source": [
    "plot_bayesian_coefficients(fit_data, provider_encoder, [\"member_sex\", \"health_risk_assesment\"])"
   ]
  },
  {
   "cell_type": "markdown",
   "id": "c1215cd1",
   "metadata": {},
   "source": [
    "#### Results and interpretation of Hierarchical bayes : \n",
    "- Looking at the results from our hierarchical logistic regression we can see that all the HDI (highest density interval) for all providers covers 0 and no provider has an average effect greater than 0.1.\n",
    "- while certain providers do have an average effect greater or above 0, the width of the  intervals suggests these is no real effect of any given provider on the probability of the outcome (pass or failure)\n",
    "- By comparison the health_risk_assesment effect has a beta of ~ 1 indicating a large effect on outcome. \n",
    "- Member sex has a smaller affect, similar in magnitude to the provider effects."
   ]
  },
  {
   "cell_type": "markdown",
   "id": "6ea62659",
   "metadata": {},
   "source": [
    "#### Method 2 : Covariate Adjusted Empirical Null \n",
    " - For each provider train a logistic regression model on other providers patients predicting outcome by covariate alone. Use this model to determine a probability of failure for each patient of this provider based on covariates alone. Use these probabilities to inform a binomial distribution for n permutations to construct a distribution of expected failure proportions for each physician given their patient covariates. Compare the physicians actually failure rate to the constructed null to determine if their failure rate is significantly deviated from the expected. \n",
    " - Essentially this analysis seeks to answer the question; Is the number of failures for a given physicians significantly different from what would be expected given their patients covariates. \n",
    " - This approach is computationally expensive as it employs permutation per provider,  it also quantifies and qualifies the effect of a physician has on their patients given their patients covariates. "
   ]
  },
  {
   "cell_type": "code",
   "execution_count": 34,
   "id": "ae6a0050",
   "metadata": {},
   "outputs": [
    {
     "name": "stderr",
     "output_type": "stream",
     "text": [
      "Simulating nulls by provider:   0%|          | 0/96 [00:00<?, ?it/s]/Library/Frameworks/Python.framework/Versions/3.13/lib/python3.13/site-packages/sklearn/linear_model/_linear_loss.py:200: RuntimeWarning:\n",
      "\n",
      "divide by zero encountered in matmul\n",
      "\n",
      "/Library/Frameworks/Python.framework/Versions/3.13/lib/python3.13/site-packages/sklearn/linear_model/_linear_loss.py:200: RuntimeWarning:\n",
      "\n",
      "overflow encountered in matmul\n",
      "\n",
      "/Library/Frameworks/Python.framework/Versions/3.13/lib/python3.13/site-packages/sklearn/linear_model/_linear_loss.py:200: RuntimeWarning:\n",
      "\n",
      "invalid value encountered in matmul\n",
      "\n",
      "/Library/Frameworks/Python.framework/Versions/3.13/lib/python3.13/site-packages/sklearn/linear_model/_linear_loss.py:200: RuntimeWarning:\n",
      "\n",
      "divide by zero encountered in matmul\n",
      "\n",
      "/Library/Frameworks/Python.framework/Versions/3.13/lib/python3.13/site-packages/sklearn/linear_model/_linear_loss.py:200: RuntimeWarning:\n",
      "\n",
      "overflow encountered in matmul\n",
      "\n",
      "/Library/Frameworks/Python.framework/Versions/3.13/lib/python3.13/site-packages/sklearn/linear_model/_linear_loss.py:200: RuntimeWarning:\n",
      "\n",
      "invalid value encountered in matmul\n",
      "\n",
      "/Library/Frameworks/Python.framework/Versions/3.13/lib/python3.13/site-packages/sklearn/linear_model/_linear_loss.py:200: RuntimeWarning:\n",
      "\n",
      "divide by zero encountered in matmul\n",
      "\n",
      "/Library/Frameworks/Python.framework/Versions/3.13/lib/python3.13/site-packages/sklearn/linear_model/_linear_loss.py:200: RuntimeWarning:\n",
      "\n",
      "overflow encountered in matmul\n",
      "\n",
      "/Library/Frameworks/Python.framework/Versions/3.13/lib/python3.13/site-packages/sklearn/linear_model/_linear_loss.py:200: RuntimeWarning:\n",
      "\n",
      "invalid value encountered in matmul\n",
      "\n",
      "/Library/Frameworks/Python.framework/Versions/3.13/lib/python3.13/site-packages/sklearn/linear_model/_linear_loss.py:200: RuntimeWarning:\n",
      "\n",
      "divide by zero encountered in matmul\n",
      "\n",
      "/Library/Frameworks/Python.framework/Versions/3.13/lib/python3.13/site-packages/sklearn/linear_model/_linear_loss.py:200: RuntimeWarning:\n",
      "\n",
      "overflow encountered in matmul\n",
      "\n",
      "/Library/Frameworks/Python.framework/Versions/3.13/lib/python3.13/site-packages/sklearn/linear_model/_linear_loss.py:200: RuntimeWarning:\n",
      "\n",
      "invalid value encountered in matmul\n",
      "\n",
      "/Library/Frameworks/Python.framework/Versions/3.13/lib/python3.13/site-packages/sklearn/linear_model/_linear_loss.py:200: RuntimeWarning:\n",
      "\n",
      "divide by zero encountered in matmul\n",
      "\n",
      "/Library/Frameworks/Python.framework/Versions/3.13/lib/python3.13/site-packages/sklearn/linear_model/_linear_loss.py:200: RuntimeWarning:\n",
      "\n",
      "overflow encountered in matmul\n",
      "\n",
      "/Library/Frameworks/Python.framework/Versions/3.13/lib/python3.13/site-packages/sklearn/linear_model/_linear_loss.py:200: RuntimeWarning:\n",
      "\n",
      "invalid value encountered in matmul\n",
      "\n",
      "/Library/Frameworks/Python.framework/Versions/3.13/lib/python3.13/site-packages/sklearn/linear_model/_linear_loss.py:200: RuntimeWarning:\n",
      "\n",
      "divide by zero encountered in matmul\n",
      "\n",
      "/Library/Frameworks/Python.framework/Versions/3.13/lib/python3.13/site-packages/sklearn/linear_model/_linear_loss.py:200: RuntimeWarning:\n",
      "\n",
      "overflow encountered in matmul\n",
      "\n",
      "/Library/Frameworks/Python.framework/Versions/3.13/lib/python3.13/site-packages/sklearn/linear_model/_linear_loss.py:200: RuntimeWarning:\n",
      "\n",
      "invalid value encountered in matmul\n",
      "\n",
      "/Library/Frameworks/Python.framework/Versions/3.13/lib/python3.13/site-packages/sklearn/linear_model/_linear_loss.py:200: RuntimeWarning:\n",
      "\n",
      "divide by zero encountered in matmul\n",
      "\n",
      "/Library/Frameworks/Python.framework/Versions/3.13/lib/python3.13/site-packages/sklearn/linear_model/_linear_loss.py:200: RuntimeWarning:\n",
      "\n",
      "overflow encountered in matmul\n",
      "\n",
      "/Library/Frameworks/Python.framework/Versions/3.13/lib/python3.13/site-packages/sklearn/linear_model/_linear_loss.py:200: RuntimeWarning:\n",
      "\n",
      "invalid value encountered in matmul\n",
      "\n",
      "/Library/Frameworks/Python.framework/Versions/3.13/lib/python3.13/site-packages/sklearn/linear_model/_linear_loss.py:200: RuntimeWarning:\n",
      "\n",
      "divide by zero encountered in matmul\n",
      "\n",
      "/Library/Frameworks/Python.framework/Versions/3.13/lib/python3.13/site-packages/sklearn/linear_model/_linear_loss.py:200: RuntimeWarning:\n",
      "\n",
      "overflow encountered in matmul\n",
      "\n",
      "/Library/Frameworks/Python.framework/Versions/3.13/lib/python3.13/site-packages/sklearn/linear_model/_linear_loss.py:200: RuntimeWarning:\n",
      "\n",
      "invalid value encountered in matmul\n",
      "\n",
      "/Library/Frameworks/Python.framework/Versions/3.13/lib/python3.13/site-packages/sklearn/linear_model/_linear_loss.py:200: RuntimeWarning:\n",
      "\n",
      "divide by zero encountered in matmul\n",
      "\n",
      "/Library/Frameworks/Python.framework/Versions/3.13/lib/python3.13/site-packages/sklearn/linear_model/_linear_loss.py:200: RuntimeWarning:\n",
      "\n",
      "overflow encountered in matmul\n",
      "\n",
      "/Library/Frameworks/Python.framework/Versions/3.13/lib/python3.13/site-packages/sklearn/linear_model/_linear_loss.py:200: RuntimeWarning:\n",
      "\n",
      "invalid value encountered in matmul\n",
      "\n",
      "/Library/Frameworks/Python.framework/Versions/3.13/lib/python3.13/site-packages/sklearn/linear_model/_linear_loss.py:200: RuntimeWarning:\n",
      "\n",
      "divide by zero encountered in matmul\n",
      "\n",
      "/Library/Frameworks/Python.framework/Versions/3.13/lib/python3.13/site-packages/sklearn/linear_model/_linear_loss.py:200: RuntimeWarning:\n",
      "\n",
      "overflow encountered in matmul\n",
      "\n",
      "/Library/Frameworks/Python.framework/Versions/3.13/lib/python3.13/site-packages/sklearn/linear_model/_linear_loss.py:200: RuntimeWarning:\n",
      "\n",
      "invalid value encountered in matmul\n",
      "\n",
      "Simulating nulls by provider:  10%|█         | 10/96 [00:00<00:00, 96.32it/s]/Library/Frameworks/Python.framework/Versions/3.13/lib/python3.13/site-packages/sklearn/linear_model/_linear_loss.py:200: RuntimeWarning:\n",
      "\n",
      "divide by zero encountered in matmul\n",
      "\n",
      "/Library/Frameworks/Python.framework/Versions/3.13/lib/python3.13/site-packages/sklearn/linear_model/_linear_loss.py:200: RuntimeWarning:\n",
      "\n",
      "overflow encountered in matmul\n",
      "\n",
      "/Library/Frameworks/Python.framework/Versions/3.13/lib/python3.13/site-packages/sklearn/linear_model/_linear_loss.py:200: RuntimeWarning:\n",
      "\n",
      "invalid value encountered in matmul\n",
      "\n",
      "/Library/Frameworks/Python.framework/Versions/3.13/lib/python3.13/site-packages/sklearn/linear_model/_linear_loss.py:200: RuntimeWarning:\n",
      "\n",
      "divide by zero encountered in matmul\n",
      "\n",
      "/Library/Frameworks/Python.framework/Versions/3.13/lib/python3.13/site-packages/sklearn/linear_model/_linear_loss.py:200: RuntimeWarning:\n",
      "\n",
      "overflow encountered in matmul\n",
      "\n",
      "/Library/Frameworks/Python.framework/Versions/3.13/lib/python3.13/site-packages/sklearn/linear_model/_linear_loss.py:200: RuntimeWarning:\n",
      "\n",
      "invalid value encountered in matmul\n",
      "\n",
      "/Library/Frameworks/Python.framework/Versions/3.13/lib/python3.13/site-packages/sklearn/linear_model/_linear_loss.py:200: RuntimeWarning:\n",
      "\n",
      "divide by zero encountered in matmul\n",
      "\n",
      "/Library/Frameworks/Python.framework/Versions/3.13/lib/python3.13/site-packages/sklearn/linear_model/_linear_loss.py:200: RuntimeWarning:\n",
      "\n",
      "overflow encountered in matmul\n",
      "\n",
      "/Library/Frameworks/Python.framework/Versions/3.13/lib/python3.13/site-packages/sklearn/linear_model/_linear_loss.py:200: RuntimeWarning:\n",
      "\n",
      "invalid value encountered in matmul\n",
      "\n",
      "/Library/Frameworks/Python.framework/Versions/3.13/lib/python3.13/site-packages/sklearn/linear_model/_linear_loss.py:200: RuntimeWarning:\n",
      "\n",
      "divide by zero encountered in matmul\n",
      "\n",
      "/Library/Frameworks/Python.framework/Versions/3.13/lib/python3.13/site-packages/sklearn/linear_model/_linear_loss.py:200: RuntimeWarning:\n",
      "\n",
      "overflow encountered in matmul\n",
      "\n",
      "/Library/Frameworks/Python.framework/Versions/3.13/lib/python3.13/site-packages/sklearn/linear_model/_linear_loss.py:200: RuntimeWarning:\n",
      "\n",
      "invalid value encountered in matmul\n",
      "\n",
      "/Library/Frameworks/Python.framework/Versions/3.13/lib/python3.13/site-packages/sklearn/linear_model/_linear_loss.py:200: RuntimeWarning:\n",
      "\n",
      "divide by zero encountered in matmul\n",
      "\n",
      "/Library/Frameworks/Python.framework/Versions/3.13/lib/python3.13/site-packages/sklearn/linear_model/_linear_loss.py:200: RuntimeWarning:\n",
      "\n",
      "overflow encountered in matmul\n",
      "\n",
      "/Library/Frameworks/Python.framework/Versions/3.13/lib/python3.13/site-packages/sklearn/linear_model/_linear_loss.py:200: RuntimeWarning:\n",
      "\n",
      "invalid value encountered in matmul\n",
      "\n",
      "/Library/Frameworks/Python.framework/Versions/3.13/lib/python3.13/site-packages/sklearn/linear_model/_linear_loss.py:200: RuntimeWarning:\n",
      "\n",
      "divide by zero encountered in matmul\n",
      "\n",
      "/Library/Frameworks/Python.framework/Versions/3.13/lib/python3.13/site-packages/sklearn/linear_model/_linear_loss.py:200: RuntimeWarning:\n",
      "\n",
      "overflow encountered in matmul\n",
      "\n",
      "/Library/Frameworks/Python.framework/Versions/3.13/lib/python3.13/site-packages/sklearn/linear_model/_linear_loss.py:200: RuntimeWarning:\n",
      "\n",
      "invalid value encountered in matmul\n",
      "\n",
      "/Library/Frameworks/Python.framework/Versions/3.13/lib/python3.13/site-packages/sklearn/linear_model/_linear_loss.py:200: RuntimeWarning:\n",
      "\n",
      "divide by zero encountered in matmul\n",
      "\n",
      "/Library/Frameworks/Python.framework/Versions/3.13/lib/python3.13/site-packages/sklearn/linear_model/_linear_loss.py:200: RuntimeWarning:\n",
      "\n",
      "overflow encountered in matmul\n",
      "\n",
      "/Library/Frameworks/Python.framework/Versions/3.13/lib/python3.13/site-packages/sklearn/linear_model/_linear_loss.py:200: RuntimeWarning:\n",
      "\n",
      "invalid value encountered in matmul\n",
      "\n",
      "/Library/Frameworks/Python.framework/Versions/3.13/lib/python3.13/site-packages/sklearn/linear_model/_linear_loss.py:200: RuntimeWarning:\n",
      "\n",
      "divide by zero encountered in matmul\n",
      "\n",
      "/Library/Frameworks/Python.framework/Versions/3.13/lib/python3.13/site-packages/sklearn/linear_model/_linear_loss.py:200: RuntimeWarning:\n",
      "\n",
      "overflow encountered in matmul\n",
      "\n",
      "/Library/Frameworks/Python.framework/Versions/3.13/lib/python3.13/site-packages/sklearn/linear_model/_linear_loss.py:200: RuntimeWarning:\n",
      "\n",
      "invalid value encountered in matmul\n",
      "\n",
      "/Library/Frameworks/Python.framework/Versions/3.13/lib/python3.13/site-packages/sklearn/linear_model/_linear_loss.py:200: RuntimeWarning:\n",
      "\n",
      "divide by zero encountered in matmul\n",
      "\n",
      "/Library/Frameworks/Python.framework/Versions/3.13/lib/python3.13/site-packages/sklearn/linear_model/_linear_loss.py:200: RuntimeWarning:\n",
      "\n",
      "overflow encountered in matmul\n",
      "\n",
      "/Library/Frameworks/Python.framework/Versions/3.13/lib/python3.13/site-packages/sklearn/linear_model/_linear_loss.py:200: RuntimeWarning:\n",
      "\n",
      "invalid value encountered in matmul\n",
      "\n",
      "/Library/Frameworks/Python.framework/Versions/3.13/lib/python3.13/site-packages/sklearn/linear_model/_linear_loss.py:200: RuntimeWarning:\n",
      "\n",
      "divide by zero encountered in matmul\n",
      "\n",
      "/Library/Frameworks/Python.framework/Versions/3.13/lib/python3.13/site-packages/sklearn/linear_model/_linear_loss.py:200: RuntimeWarning:\n",
      "\n",
      "overflow encountered in matmul\n",
      "\n",
      "/Library/Frameworks/Python.framework/Versions/3.13/lib/python3.13/site-packages/sklearn/linear_model/_linear_loss.py:200: RuntimeWarning:\n",
      "\n",
      "invalid value encountered in matmul\n",
      "\n",
      "/Library/Frameworks/Python.framework/Versions/3.13/lib/python3.13/site-packages/sklearn/linear_model/_linear_loss.py:200: RuntimeWarning:\n",
      "\n",
      "divide by zero encountered in matmul\n",
      "\n",
      "/Library/Frameworks/Python.framework/Versions/3.13/lib/python3.13/site-packages/sklearn/linear_model/_linear_loss.py:200: RuntimeWarning:\n",
      "\n",
      "overflow encountered in matmul\n",
      "\n",
      "/Library/Frameworks/Python.framework/Versions/3.13/lib/python3.13/site-packages/sklearn/linear_model/_linear_loss.py:200: RuntimeWarning:\n",
      "\n",
      "invalid value encountered in matmul\n",
      "\n",
      "Simulating nulls by provider:  22%|██▏       | 21/96 [00:00<00:00, 101.07it/s]/Library/Frameworks/Python.framework/Versions/3.13/lib/python3.13/site-packages/sklearn/linear_model/_linear_loss.py:200: RuntimeWarning:\n",
      "\n",
      "divide by zero encountered in matmul\n",
      "\n",
      "/Library/Frameworks/Python.framework/Versions/3.13/lib/python3.13/site-packages/sklearn/linear_model/_linear_loss.py:200: RuntimeWarning:\n",
      "\n",
      "overflow encountered in matmul\n",
      "\n",
      "/Library/Frameworks/Python.framework/Versions/3.13/lib/python3.13/site-packages/sklearn/linear_model/_linear_loss.py:200: RuntimeWarning:\n",
      "\n",
      "invalid value encountered in matmul\n",
      "\n",
      "/Library/Frameworks/Python.framework/Versions/3.13/lib/python3.13/site-packages/sklearn/linear_model/_linear_loss.py:200: RuntimeWarning:\n",
      "\n",
      "divide by zero encountered in matmul\n",
      "\n",
      "/Library/Frameworks/Python.framework/Versions/3.13/lib/python3.13/site-packages/sklearn/linear_model/_linear_loss.py:200: RuntimeWarning:\n",
      "\n",
      "overflow encountered in matmul\n",
      "\n",
      "/Library/Frameworks/Python.framework/Versions/3.13/lib/python3.13/site-packages/sklearn/linear_model/_linear_loss.py:200: RuntimeWarning:\n",
      "\n",
      "invalid value encountered in matmul\n",
      "\n",
      "/Library/Frameworks/Python.framework/Versions/3.13/lib/python3.13/site-packages/sklearn/linear_model/_linear_loss.py:200: RuntimeWarning:\n",
      "\n",
      "divide by zero encountered in matmul\n",
      "\n",
      "/Library/Frameworks/Python.framework/Versions/3.13/lib/python3.13/site-packages/sklearn/linear_model/_linear_loss.py:200: RuntimeWarning:\n",
      "\n",
      "overflow encountered in matmul\n",
      "\n",
      "/Library/Frameworks/Python.framework/Versions/3.13/lib/python3.13/site-packages/sklearn/linear_model/_linear_loss.py:200: RuntimeWarning:\n",
      "\n",
      "invalid value encountered in matmul\n",
      "\n",
      "/Library/Frameworks/Python.framework/Versions/3.13/lib/python3.13/site-packages/sklearn/linear_model/_linear_loss.py:200: RuntimeWarning:\n",
      "\n",
      "divide by zero encountered in matmul\n",
      "\n",
      "/Library/Frameworks/Python.framework/Versions/3.13/lib/python3.13/site-packages/sklearn/linear_model/_linear_loss.py:200: RuntimeWarning:\n",
      "\n",
      "overflow encountered in matmul\n",
      "\n",
      "/Library/Frameworks/Python.framework/Versions/3.13/lib/python3.13/site-packages/sklearn/linear_model/_linear_loss.py:200: RuntimeWarning:\n",
      "\n",
      "invalid value encountered in matmul\n",
      "\n",
      "/Library/Frameworks/Python.framework/Versions/3.13/lib/python3.13/site-packages/sklearn/linear_model/_linear_loss.py:200: RuntimeWarning:\n",
      "\n",
      "divide by zero encountered in matmul\n",
      "\n",
      "/Library/Frameworks/Python.framework/Versions/3.13/lib/python3.13/site-packages/sklearn/linear_model/_linear_loss.py:200: RuntimeWarning:\n",
      "\n",
      "overflow encountered in matmul\n",
      "\n",
      "/Library/Frameworks/Python.framework/Versions/3.13/lib/python3.13/site-packages/sklearn/linear_model/_linear_loss.py:200: RuntimeWarning:\n",
      "\n",
      "invalid value encountered in matmul\n",
      "\n",
      "/Library/Frameworks/Python.framework/Versions/3.13/lib/python3.13/site-packages/sklearn/linear_model/_linear_loss.py:200: RuntimeWarning:\n",
      "\n",
      "divide by zero encountered in matmul\n",
      "\n",
      "/Library/Frameworks/Python.framework/Versions/3.13/lib/python3.13/site-packages/sklearn/linear_model/_linear_loss.py:200: RuntimeWarning:\n",
      "\n",
      "overflow encountered in matmul\n",
      "\n",
      "/Library/Frameworks/Python.framework/Versions/3.13/lib/python3.13/site-packages/sklearn/linear_model/_linear_loss.py:200: RuntimeWarning:\n",
      "\n",
      "invalid value encountered in matmul\n",
      "\n",
      "/Library/Frameworks/Python.framework/Versions/3.13/lib/python3.13/site-packages/sklearn/linear_model/_linear_loss.py:200: RuntimeWarning:\n",
      "\n",
      "divide by zero encountered in matmul\n",
      "\n",
      "/Library/Frameworks/Python.framework/Versions/3.13/lib/python3.13/site-packages/sklearn/linear_model/_linear_loss.py:200: RuntimeWarning:\n",
      "\n",
      "overflow encountered in matmul\n",
      "\n",
      "/Library/Frameworks/Python.framework/Versions/3.13/lib/python3.13/site-packages/sklearn/linear_model/_linear_loss.py:200: RuntimeWarning:\n",
      "\n",
      "invalid value encountered in matmul\n",
      "\n",
      "/Library/Frameworks/Python.framework/Versions/3.13/lib/python3.13/site-packages/sklearn/linear_model/_linear_loss.py:200: RuntimeWarning:\n",
      "\n",
      "divide by zero encountered in matmul\n",
      "\n",
      "/Library/Frameworks/Python.framework/Versions/3.13/lib/python3.13/site-packages/sklearn/linear_model/_linear_loss.py:200: RuntimeWarning:\n",
      "\n",
      "overflow encountered in matmul\n",
      "\n",
      "/Library/Frameworks/Python.framework/Versions/3.13/lib/python3.13/site-packages/sklearn/linear_model/_linear_loss.py:200: RuntimeWarning:\n",
      "\n",
      "invalid value encountered in matmul\n",
      "\n",
      "/Library/Frameworks/Python.framework/Versions/3.13/lib/python3.13/site-packages/sklearn/linear_model/_linear_loss.py:200: RuntimeWarning:\n",
      "\n",
      "divide by zero encountered in matmul\n",
      "\n",
      "/Library/Frameworks/Python.framework/Versions/3.13/lib/python3.13/site-packages/sklearn/linear_model/_linear_loss.py:200: RuntimeWarning:\n",
      "\n",
      "overflow encountered in matmul\n",
      "\n",
      "/Library/Frameworks/Python.framework/Versions/3.13/lib/python3.13/site-packages/sklearn/linear_model/_linear_loss.py:200: RuntimeWarning:\n",
      "\n",
      "invalid value encountered in matmul\n",
      "\n",
      "/Library/Frameworks/Python.framework/Versions/3.13/lib/python3.13/site-packages/sklearn/linear_model/_linear_loss.py:200: RuntimeWarning:\n",
      "\n",
      "divide by zero encountered in matmul\n",
      "\n",
      "/Library/Frameworks/Python.framework/Versions/3.13/lib/python3.13/site-packages/sklearn/linear_model/_linear_loss.py:200: RuntimeWarning:\n",
      "\n",
      "overflow encountered in matmul\n",
      "\n",
      "/Library/Frameworks/Python.framework/Versions/3.13/lib/python3.13/site-packages/sklearn/linear_model/_linear_loss.py:200: RuntimeWarning:\n",
      "\n",
      "invalid value encountered in matmul\n",
      "\n",
      "/Library/Frameworks/Python.framework/Versions/3.13/lib/python3.13/site-packages/sklearn/linear_model/_linear_loss.py:200: RuntimeWarning:\n",
      "\n",
      "divide by zero encountered in matmul\n",
      "\n",
      "/Library/Frameworks/Python.framework/Versions/3.13/lib/python3.13/site-packages/sklearn/linear_model/_linear_loss.py:200: RuntimeWarning:\n",
      "\n",
      "overflow encountered in matmul\n",
      "\n",
      "/Library/Frameworks/Python.framework/Versions/3.13/lib/python3.13/site-packages/sklearn/linear_model/_linear_loss.py:200: RuntimeWarning:\n",
      "\n",
      "invalid value encountered in matmul\n",
      "\n",
      "Simulating nulls by provider:  33%|███▎      | 32/96 [00:00<00:00, 102.58it/s]/Library/Frameworks/Python.framework/Versions/3.13/lib/python3.13/site-packages/sklearn/linear_model/_linear_loss.py:200: RuntimeWarning:\n",
      "\n",
      "divide by zero encountered in matmul\n",
      "\n",
      "/Library/Frameworks/Python.framework/Versions/3.13/lib/python3.13/site-packages/sklearn/linear_model/_linear_loss.py:200: RuntimeWarning:\n",
      "\n",
      "overflow encountered in matmul\n",
      "\n",
      "/Library/Frameworks/Python.framework/Versions/3.13/lib/python3.13/site-packages/sklearn/linear_model/_linear_loss.py:200: RuntimeWarning:\n",
      "\n",
      "invalid value encountered in matmul\n",
      "\n",
      "/Library/Frameworks/Python.framework/Versions/3.13/lib/python3.13/site-packages/sklearn/linear_model/_linear_loss.py:200: RuntimeWarning:\n",
      "\n",
      "divide by zero encountered in matmul\n",
      "\n",
      "/Library/Frameworks/Python.framework/Versions/3.13/lib/python3.13/site-packages/sklearn/linear_model/_linear_loss.py:200: RuntimeWarning:\n",
      "\n",
      "overflow encountered in matmul\n",
      "\n",
      "/Library/Frameworks/Python.framework/Versions/3.13/lib/python3.13/site-packages/sklearn/linear_model/_linear_loss.py:200: RuntimeWarning:\n",
      "\n",
      "invalid value encountered in matmul\n",
      "\n",
      "/Library/Frameworks/Python.framework/Versions/3.13/lib/python3.13/site-packages/sklearn/linear_model/_linear_loss.py:200: RuntimeWarning:\n",
      "\n",
      "divide by zero encountered in matmul\n",
      "\n",
      "/Library/Frameworks/Python.framework/Versions/3.13/lib/python3.13/site-packages/sklearn/linear_model/_linear_loss.py:200: RuntimeWarning:\n",
      "\n",
      "overflow encountered in matmul\n",
      "\n",
      "/Library/Frameworks/Python.framework/Versions/3.13/lib/python3.13/site-packages/sklearn/linear_model/_linear_loss.py:200: RuntimeWarning:\n",
      "\n",
      "invalid value encountered in matmul\n",
      "\n",
      "/Library/Frameworks/Python.framework/Versions/3.13/lib/python3.13/site-packages/sklearn/linear_model/_linear_loss.py:200: RuntimeWarning:\n",
      "\n",
      "divide by zero encountered in matmul\n",
      "\n",
      "/Library/Frameworks/Python.framework/Versions/3.13/lib/python3.13/site-packages/sklearn/linear_model/_linear_loss.py:200: RuntimeWarning:\n",
      "\n",
      "overflow encountered in matmul\n",
      "\n",
      "/Library/Frameworks/Python.framework/Versions/3.13/lib/python3.13/site-packages/sklearn/linear_model/_linear_loss.py:200: RuntimeWarning:\n",
      "\n",
      "invalid value encountered in matmul\n",
      "\n",
      "/Library/Frameworks/Python.framework/Versions/3.13/lib/python3.13/site-packages/sklearn/linear_model/_linear_loss.py:200: RuntimeWarning:\n",
      "\n",
      "divide by zero encountered in matmul\n",
      "\n",
      "/Library/Frameworks/Python.framework/Versions/3.13/lib/python3.13/site-packages/sklearn/linear_model/_linear_loss.py:200: RuntimeWarning:\n",
      "\n",
      "overflow encountered in matmul\n",
      "\n",
      "/Library/Frameworks/Python.framework/Versions/3.13/lib/python3.13/site-packages/sklearn/linear_model/_linear_loss.py:200: RuntimeWarning:\n",
      "\n",
      "invalid value encountered in matmul\n",
      "\n",
      "/Library/Frameworks/Python.framework/Versions/3.13/lib/python3.13/site-packages/sklearn/linear_model/_linear_loss.py:200: RuntimeWarning:\n",
      "\n",
      "divide by zero encountered in matmul\n",
      "\n",
      "/Library/Frameworks/Python.framework/Versions/3.13/lib/python3.13/site-packages/sklearn/linear_model/_linear_loss.py:200: RuntimeWarning:\n",
      "\n",
      "overflow encountered in matmul\n",
      "\n",
      "/Library/Frameworks/Python.framework/Versions/3.13/lib/python3.13/site-packages/sklearn/linear_model/_linear_loss.py:200: RuntimeWarning:\n",
      "\n",
      "invalid value encountered in matmul\n",
      "\n",
      "/Library/Frameworks/Python.framework/Versions/3.13/lib/python3.13/site-packages/sklearn/linear_model/_linear_loss.py:200: RuntimeWarning:\n",
      "\n",
      "divide by zero encountered in matmul\n",
      "\n",
      "/Library/Frameworks/Python.framework/Versions/3.13/lib/python3.13/site-packages/sklearn/linear_model/_linear_loss.py:200: RuntimeWarning:\n",
      "\n",
      "overflow encountered in matmul\n",
      "\n",
      "/Library/Frameworks/Python.framework/Versions/3.13/lib/python3.13/site-packages/sklearn/linear_model/_linear_loss.py:200: RuntimeWarning:\n",
      "\n",
      "invalid value encountered in matmul\n",
      "\n",
      "/Library/Frameworks/Python.framework/Versions/3.13/lib/python3.13/site-packages/sklearn/linear_model/_linear_loss.py:200: RuntimeWarning:\n",
      "\n",
      "divide by zero encountered in matmul\n",
      "\n",
      "/Library/Frameworks/Python.framework/Versions/3.13/lib/python3.13/site-packages/sklearn/linear_model/_linear_loss.py:200: RuntimeWarning:\n",
      "\n",
      "overflow encountered in matmul\n",
      "\n",
      "/Library/Frameworks/Python.framework/Versions/3.13/lib/python3.13/site-packages/sklearn/linear_model/_linear_loss.py:200: RuntimeWarning:\n",
      "\n",
      "invalid value encountered in matmul\n",
      "\n",
      "/Library/Frameworks/Python.framework/Versions/3.13/lib/python3.13/site-packages/sklearn/linear_model/_linear_loss.py:200: RuntimeWarning:\n",
      "\n",
      "divide by zero encountered in matmul\n",
      "\n",
      "/Library/Frameworks/Python.framework/Versions/3.13/lib/python3.13/site-packages/sklearn/linear_model/_linear_loss.py:200: RuntimeWarning:\n",
      "\n",
      "overflow encountered in matmul\n",
      "\n",
      "/Library/Frameworks/Python.framework/Versions/3.13/lib/python3.13/site-packages/sklearn/linear_model/_linear_loss.py:200: RuntimeWarning:\n",
      "\n",
      "invalid value encountered in matmul\n",
      "\n",
      "/Library/Frameworks/Python.framework/Versions/3.13/lib/python3.13/site-packages/sklearn/linear_model/_linear_loss.py:200: RuntimeWarning:\n",
      "\n",
      "divide by zero encountered in matmul\n",
      "\n",
      "/Library/Frameworks/Python.framework/Versions/3.13/lib/python3.13/site-packages/sklearn/linear_model/_linear_loss.py:200: RuntimeWarning:\n",
      "\n",
      "overflow encountered in matmul\n",
      "\n",
      "/Library/Frameworks/Python.framework/Versions/3.13/lib/python3.13/site-packages/sklearn/linear_model/_linear_loss.py:200: RuntimeWarning:\n",
      "\n",
      "invalid value encountered in matmul\n",
      "\n",
      "/Library/Frameworks/Python.framework/Versions/3.13/lib/python3.13/site-packages/sklearn/linear_model/_linear_loss.py:200: RuntimeWarning:\n",
      "\n",
      "divide by zero encountered in matmul\n",
      "\n",
      "/Library/Frameworks/Python.framework/Versions/3.13/lib/python3.13/site-packages/sklearn/linear_model/_linear_loss.py:200: RuntimeWarning:\n",
      "\n",
      "overflow encountered in matmul\n",
      "\n",
      "/Library/Frameworks/Python.framework/Versions/3.13/lib/python3.13/site-packages/sklearn/linear_model/_linear_loss.py:200: RuntimeWarning:\n",
      "\n",
      "invalid value encountered in matmul\n",
      "\n",
      "Simulating nulls by provider:  45%|████▍     | 43/96 [00:00<00:00, 103.40it/s]/Library/Frameworks/Python.framework/Versions/3.13/lib/python3.13/site-packages/sklearn/linear_model/_linear_loss.py:200: RuntimeWarning:\n",
      "\n",
      "divide by zero encountered in matmul\n",
      "\n",
      "/Library/Frameworks/Python.framework/Versions/3.13/lib/python3.13/site-packages/sklearn/linear_model/_linear_loss.py:200: RuntimeWarning:\n",
      "\n",
      "overflow encountered in matmul\n",
      "\n",
      "/Library/Frameworks/Python.framework/Versions/3.13/lib/python3.13/site-packages/sklearn/linear_model/_linear_loss.py:200: RuntimeWarning:\n",
      "\n",
      "invalid value encountered in matmul\n",
      "\n",
      "/Library/Frameworks/Python.framework/Versions/3.13/lib/python3.13/site-packages/sklearn/linear_model/_linear_loss.py:200: RuntimeWarning:\n",
      "\n",
      "divide by zero encountered in matmul\n",
      "\n",
      "/Library/Frameworks/Python.framework/Versions/3.13/lib/python3.13/site-packages/sklearn/linear_model/_linear_loss.py:200: RuntimeWarning:\n",
      "\n",
      "overflow encountered in matmul\n",
      "\n",
      "/Library/Frameworks/Python.framework/Versions/3.13/lib/python3.13/site-packages/sklearn/linear_model/_linear_loss.py:200: RuntimeWarning:\n",
      "\n",
      "invalid value encountered in matmul\n",
      "\n",
      "/Library/Frameworks/Python.framework/Versions/3.13/lib/python3.13/site-packages/sklearn/linear_model/_linear_loss.py:200: RuntimeWarning:\n",
      "\n",
      "divide by zero encountered in matmul\n",
      "\n",
      "/Library/Frameworks/Python.framework/Versions/3.13/lib/python3.13/site-packages/sklearn/linear_model/_linear_loss.py:200: RuntimeWarning:\n",
      "\n",
      "overflow encountered in matmul\n",
      "\n",
      "/Library/Frameworks/Python.framework/Versions/3.13/lib/python3.13/site-packages/sklearn/linear_model/_linear_loss.py:200: RuntimeWarning:\n",
      "\n",
      "invalid value encountered in matmul\n",
      "\n",
      "/Library/Frameworks/Python.framework/Versions/3.13/lib/python3.13/site-packages/sklearn/linear_model/_linear_loss.py:200: RuntimeWarning:\n",
      "\n",
      "divide by zero encountered in matmul\n",
      "\n",
      "/Library/Frameworks/Python.framework/Versions/3.13/lib/python3.13/site-packages/sklearn/linear_model/_linear_loss.py:200: RuntimeWarning:\n",
      "\n",
      "overflow encountered in matmul\n",
      "\n",
      "/Library/Frameworks/Python.framework/Versions/3.13/lib/python3.13/site-packages/sklearn/linear_model/_linear_loss.py:200: RuntimeWarning:\n",
      "\n",
      "invalid value encountered in matmul\n",
      "\n",
      "/Library/Frameworks/Python.framework/Versions/3.13/lib/python3.13/site-packages/sklearn/linear_model/_linear_loss.py:200: RuntimeWarning:\n",
      "\n",
      "divide by zero encountered in matmul\n",
      "\n",
      "/Library/Frameworks/Python.framework/Versions/3.13/lib/python3.13/site-packages/sklearn/linear_model/_linear_loss.py:200: RuntimeWarning:\n",
      "\n",
      "overflow encountered in matmul\n",
      "\n",
      "/Library/Frameworks/Python.framework/Versions/3.13/lib/python3.13/site-packages/sklearn/linear_model/_linear_loss.py:200: RuntimeWarning:\n",
      "\n",
      "invalid value encountered in matmul\n",
      "\n",
      "/Library/Frameworks/Python.framework/Versions/3.13/lib/python3.13/site-packages/sklearn/linear_model/_linear_loss.py:200: RuntimeWarning:\n",
      "\n",
      "divide by zero encountered in matmul\n",
      "\n",
      "/Library/Frameworks/Python.framework/Versions/3.13/lib/python3.13/site-packages/sklearn/linear_model/_linear_loss.py:200: RuntimeWarning:\n",
      "\n",
      "overflow encountered in matmul\n",
      "\n",
      "/Library/Frameworks/Python.framework/Versions/3.13/lib/python3.13/site-packages/sklearn/linear_model/_linear_loss.py:200: RuntimeWarning:\n",
      "\n",
      "invalid value encountered in matmul\n",
      "\n",
      "/Library/Frameworks/Python.framework/Versions/3.13/lib/python3.13/site-packages/sklearn/linear_model/_linear_loss.py:200: RuntimeWarning:\n",
      "\n",
      "divide by zero encountered in matmul\n",
      "\n",
      "/Library/Frameworks/Python.framework/Versions/3.13/lib/python3.13/site-packages/sklearn/linear_model/_linear_loss.py:200: RuntimeWarning:\n",
      "\n",
      "overflow encountered in matmul\n",
      "\n",
      "/Library/Frameworks/Python.framework/Versions/3.13/lib/python3.13/site-packages/sklearn/linear_model/_linear_loss.py:200: RuntimeWarning:\n",
      "\n",
      "invalid value encountered in matmul\n",
      "\n",
      "/Library/Frameworks/Python.framework/Versions/3.13/lib/python3.13/site-packages/sklearn/linear_model/_linear_loss.py:200: RuntimeWarning:\n",
      "\n",
      "divide by zero encountered in matmul\n",
      "\n",
      "/Library/Frameworks/Python.framework/Versions/3.13/lib/python3.13/site-packages/sklearn/linear_model/_linear_loss.py:200: RuntimeWarning:\n",
      "\n",
      "overflow encountered in matmul\n",
      "\n",
      "/Library/Frameworks/Python.framework/Versions/3.13/lib/python3.13/site-packages/sklearn/linear_model/_linear_loss.py:200: RuntimeWarning:\n",
      "\n",
      "invalid value encountered in matmul\n",
      "\n",
      "/Library/Frameworks/Python.framework/Versions/3.13/lib/python3.13/site-packages/sklearn/linear_model/_linear_loss.py:200: RuntimeWarning:\n",
      "\n",
      "divide by zero encountered in matmul\n",
      "\n",
      "/Library/Frameworks/Python.framework/Versions/3.13/lib/python3.13/site-packages/sklearn/linear_model/_linear_loss.py:200: RuntimeWarning:\n",
      "\n",
      "overflow encountered in matmul\n",
      "\n",
      "/Library/Frameworks/Python.framework/Versions/3.13/lib/python3.13/site-packages/sklearn/linear_model/_linear_loss.py:200: RuntimeWarning:\n",
      "\n",
      "invalid value encountered in matmul\n",
      "\n",
      "/Library/Frameworks/Python.framework/Versions/3.13/lib/python3.13/site-packages/sklearn/linear_model/_linear_loss.py:200: RuntimeWarning:\n",
      "\n",
      "divide by zero encountered in matmul\n",
      "\n",
      "/Library/Frameworks/Python.framework/Versions/3.13/lib/python3.13/site-packages/sklearn/linear_model/_linear_loss.py:200: RuntimeWarning:\n",
      "\n",
      "overflow encountered in matmul\n",
      "\n",
      "/Library/Frameworks/Python.framework/Versions/3.13/lib/python3.13/site-packages/sklearn/linear_model/_linear_loss.py:200: RuntimeWarning:\n",
      "\n",
      "invalid value encountered in matmul\n",
      "\n",
      "/Library/Frameworks/Python.framework/Versions/3.13/lib/python3.13/site-packages/sklearn/linear_model/_linear_loss.py:200: RuntimeWarning:\n",
      "\n",
      "divide by zero encountered in matmul\n",
      "\n",
      "/Library/Frameworks/Python.framework/Versions/3.13/lib/python3.13/site-packages/sklearn/linear_model/_linear_loss.py:200: RuntimeWarning:\n",
      "\n",
      "overflow encountered in matmul\n",
      "\n",
      "/Library/Frameworks/Python.framework/Versions/3.13/lib/python3.13/site-packages/sklearn/linear_model/_linear_loss.py:200: RuntimeWarning:\n",
      "\n",
      "invalid value encountered in matmul\n",
      "\n",
      "Simulating nulls by provider:  56%|█████▋    | 54/96 [00:00<00:00, 103.50it/s]/Library/Frameworks/Python.framework/Versions/3.13/lib/python3.13/site-packages/sklearn/linear_model/_linear_loss.py:200: RuntimeWarning:\n",
      "\n",
      "divide by zero encountered in matmul\n",
      "\n",
      "/Library/Frameworks/Python.framework/Versions/3.13/lib/python3.13/site-packages/sklearn/linear_model/_linear_loss.py:200: RuntimeWarning:\n",
      "\n",
      "overflow encountered in matmul\n",
      "\n",
      "/Library/Frameworks/Python.framework/Versions/3.13/lib/python3.13/site-packages/sklearn/linear_model/_linear_loss.py:200: RuntimeWarning:\n",
      "\n",
      "invalid value encountered in matmul\n",
      "\n",
      "/Library/Frameworks/Python.framework/Versions/3.13/lib/python3.13/site-packages/sklearn/linear_model/_linear_loss.py:200: RuntimeWarning:\n",
      "\n",
      "divide by zero encountered in matmul\n",
      "\n",
      "/Library/Frameworks/Python.framework/Versions/3.13/lib/python3.13/site-packages/sklearn/linear_model/_linear_loss.py:200: RuntimeWarning:\n",
      "\n",
      "overflow encountered in matmul\n",
      "\n",
      "/Library/Frameworks/Python.framework/Versions/3.13/lib/python3.13/site-packages/sklearn/linear_model/_linear_loss.py:200: RuntimeWarning:\n",
      "\n",
      "invalid value encountered in matmul\n",
      "\n",
      "/Library/Frameworks/Python.framework/Versions/3.13/lib/python3.13/site-packages/sklearn/linear_model/_linear_loss.py:200: RuntimeWarning:\n",
      "\n",
      "divide by zero encountered in matmul\n",
      "\n",
      "/Library/Frameworks/Python.framework/Versions/3.13/lib/python3.13/site-packages/sklearn/linear_model/_linear_loss.py:200: RuntimeWarning:\n",
      "\n",
      "overflow encountered in matmul\n",
      "\n",
      "/Library/Frameworks/Python.framework/Versions/3.13/lib/python3.13/site-packages/sklearn/linear_model/_linear_loss.py:200: RuntimeWarning:\n",
      "\n",
      "invalid value encountered in matmul\n",
      "\n",
      "/Library/Frameworks/Python.framework/Versions/3.13/lib/python3.13/site-packages/sklearn/linear_model/_linear_loss.py:200: RuntimeWarning:\n",
      "\n",
      "divide by zero encountered in matmul\n",
      "\n",
      "/Library/Frameworks/Python.framework/Versions/3.13/lib/python3.13/site-packages/sklearn/linear_model/_linear_loss.py:200: RuntimeWarning:\n",
      "\n",
      "overflow encountered in matmul\n",
      "\n",
      "/Library/Frameworks/Python.framework/Versions/3.13/lib/python3.13/site-packages/sklearn/linear_model/_linear_loss.py:200: RuntimeWarning:\n",
      "\n",
      "invalid value encountered in matmul\n",
      "\n",
      "/Library/Frameworks/Python.framework/Versions/3.13/lib/python3.13/site-packages/sklearn/linear_model/_linear_loss.py:200: RuntimeWarning:\n",
      "\n",
      "divide by zero encountered in matmul\n",
      "\n",
      "/Library/Frameworks/Python.framework/Versions/3.13/lib/python3.13/site-packages/sklearn/linear_model/_linear_loss.py:200: RuntimeWarning:\n",
      "\n",
      "overflow encountered in matmul\n",
      "\n",
      "/Library/Frameworks/Python.framework/Versions/3.13/lib/python3.13/site-packages/sklearn/linear_model/_linear_loss.py:200: RuntimeWarning:\n",
      "\n",
      "invalid value encountered in matmul\n",
      "\n",
      "/Library/Frameworks/Python.framework/Versions/3.13/lib/python3.13/site-packages/sklearn/linear_model/_linear_loss.py:200: RuntimeWarning:\n",
      "\n",
      "divide by zero encountered in matmul\n",
      "\n",
      "/Library/Frameworks/Python.framework/Versions/3.13/lib/python3.13/site-packages/sklearn/linear_model/_linear_loss.py:200: RuntimeWarning:\n",
      "\n",
      "overflow encountered in matmul\n",
      "\n",
      "/Library/Frameworks/Python.framework/Versions/3.13/lib/python3.13/site-packages/sklearn/linear_model/_linear_loss.py:200: RuntimeWarning:\n",
      "\n",
      "invalid value encountered in matmul\n",
      "\n",
      "/Library/Frameworks/Python.framework/Versions/3.13/lib/python3.13/site-packages/sklearn/linear_model/_linear_loss.py:200: RuntimeWarning:\n",
      "\n",
      "divide by zero encountered in matmul\n",
      "\n",
      "/Library/Frameworks/Python.framework/Versions/3.13/lib/python3.13/site-packages/sklearn/linear_model/_linear_loss.py:200: RuntimeWarning:\n",
      "\n",
      "overflow encountered in matmul\n",
      "\n",
      "/Library/Frameworks/Python.framework/Versions/3.13/lib/python3.13/site-packages/sklearn/linear_model/_linear_loss.py:200: RuntimeWarning:\n",
      "\n",
      "invalid value encountered in matmul\n",
      "\n",
      "/Library/Frameworks/Python.framework/Versions/3.13/lib/python3.13/site-packages/sklearn/linear_model/_linear_loss.py:200: RuntimeWarning:\n",
      "\n",
      "divide by zero encountered in matmul\n",
      "\n",
      "/Library/Frameworks/Python.framework/Versions/3.13/lib/python3.13/site-packages/sklearn/linear_model/_linear_loss.py:200: RuntimeWarning:\n",
      "\n",
      "overflow encountered in matmul\n",
      "\n",
      "/Library/Frameworks/Python.framework/Versions/3.13/lib/python3.13/site-packages/sklearn/linear_model/_linear_loss.py:200: RuntimeWarning:\n",
      "\n",
      "invalid value encountered in matmul\n",
      "\n",
      "/Library/Frameworks/Python.framework/Versions/3.13/lib/python3.13/site-packages/sklearn/linear_model/_linear_loss.py:200: RuntimeWarning:\n",
      "\n",
      "divide by zero encountered in matmul\n",
      "\n",
      "/Library/Frameworks/Python.framework/Versions/3.13/lib/python3.13/site-packages/sklearn/linear_model/_linear_loss.py:200: RuntimeWarning:\n",
      "\n",
      "overflow encountered in matmul\n",
      "\n",
      "/Library/Frameworks/Python.framework/Versions/3.13/lib/python3.13/site-packages/sklearn/linear_model/_linear_loss.py:200: RuntimeWarning:\n",
      "\n",
      "invalid value encountered in matmul\n",
      "\n",
      "/Library/Frameworks/Python.framework/Versions/3.13/lib/python3.13/site-packages/sklearn/linear_model/_linear_loss.py:200: RuntimeWarning:\n",
      "\n",
      "divide by zero encountered in matmul\n",
      "\n",
      "/Library/Frameworks/Python.framework/Versions/3.13/lib/python3.13/site-packages/sklearn/linear_model/_linear_loss.py:200: RuntimeWarning:\n",
      "\n",
      "overflow encountered in matmul\n",
      "\n",
      "/Library/Frameworks/Python.framework/Versions/3.13/lib/python3.13/site-packages/sklearn/linear_model/_linear_loss.py:200: RuntimeWarning:\n",
      "\n",
      "invalid value encountered in matmul\n",
      "\n",
      "/Library/Frameworks/Python.framework/Versions/3.13/lib/python3.13/site-packages/sklearn/linear_model/_linear_loss.py:200: RuntimeWarning:\n",
      "\n",
      "divide by zero encountered in matmul\n",
      "\n",
      "/Library/Frameworks/Python.framework/Versions/3.13/lib/python3.13/site-packages/sklearn/linear_model/_linear_loss.py:200: RuntimeWarning:\n",
      "\n",
      "overflow encountered in matmul\n",
      "\n",
      "/Library/Frameworks/Python.framework/Versions/3.13/lib/python3.13/site-packages/sklearn/linear_model/_linear_loss.py:200: RuntimeWarning:\n",
      "\n",
      "invalid value encountered in matmul\n",
      "\n",
      "Simulating nulls by provider:  68%|██████▊   | 65/96 [00:00<00:00, 103.83it/s]/Library/Frameworks/Python.framework/Versions/3.13/lib/python3.13/site-packages/sklearn/linear_model/_linear_loss.py:200: RuntimeWarning:\n",
      "\n",
      "divide by zero encountered in matmul\n",
      "\n",
      "/Library/Frameworks/Python.framework/Versions/3.13/lib/python3.13/site-packages/sklearn/linear_model/_linear_loss.py:200: RuntimeWarning:\n",
      "\n",
      "overflow encountered in matmul\n",
      "\n",
      "/Library/Frameworks/Python.framework/Versions/3.13/lib/python3.13/site-packages/sklearn/linear_model/_linear_loss.py:200: RuntimeWarning:\n",
      "\n",
      "invalid value encountered in matmul\n",
      "\n",
      "/Library/Frameworks/Python.framework/Versions/3.13/lib/python3.13/site-packages/sklearn/linear_model/_linear_loss.py:200: RuntimeWarning:\n",
      "\n",
      "divide by zero encountered in matmul\n",
      "\n",
      "/Library/Frameworks/Python.framework/Versions/3.13/lib/python3.13/site-packages/sklearn/linear_model/_linear_loss.py:200: RuntimeWarning:\n",
      "\n",
      "overflow encountered in matmul\n",
      "\n",
      "/Library/Frameworks/Python.framework/Versions/3.13/lib/python3.13/site-packages/sklearn/linear_model/_linear_loss.py:200: RuntimeWarning:\n",
      "\n",
      "invalid value encountered in matmul\n",
      "\n",
      "/Library/Frameworks/Python.framework/Versions/3.13/lib/python3.13/site-packages/sklearn/linear_model/_linear_loss.py:200: RuntimeWarning:\n",
      "\n",
      "divide by zero encountered in matmul\n",
      "\n",
      "/Library/Frameworks/Python.framework/Versions/3.13/lib/python3.13/site-packages/sklearn/linear_model/_linear_loss.py:200: RuntimeWarning:\n",
      "\n",
      "overflow encountered in matmul\n",
      "\n",
      "/Library/Frameworks/Python.framework/Versions/3.13/lib/python3.13/site-packages/sklearn/linear_model/_linear_loss.py:200: RuntimeWarning:\n",
      "\n",
      "invalid value encountered in matmul\n",
      "\n",
      "/Library/Frameworks/Python.framework/Versions/3.13/lib/python3.13/site-packages/sklearn/linear_model/_linear_loss.py:200: RuntimeWarning:\n",
      "\n",
      "divide by zero encountered in matmul\n",
      "\n",
      "/Library/Frameworks/Python.framework/Versions/3.13/lib/python3.13/site-packages/sklearn/linear_model/_linear_loss.py:200: RuntimeWarning:\n",
      "\n",
      "overflow encountered in matmul\n",
      "\n",
      "/Library/Frameworks/Python.framework/Versions/3.13/lib/python3.13/site-packages/sklearn/linear_model/_linear_loss.py:200: RuntimeWarning:\n",
      "\n",
      "invalid value encountered in matmul\n",
      "\n",
      "/Library/Frameworks/Python.framework/Versions/3.13/lib/python3.13/site-packages/sklearn/linear_model/_linear_loss.py:200: RuntimeWarning:\n",
      "\n",
      "divide by zero encountered in matmul\n",
      "\n",
      "/Library/Frameworks/Python.framework/Versions/3.13/lib/python3.13/site-packages/sklearn/linear_model/_linear_loss.py:200: RuntimeWarning:\n",
      "\n",
      "overflow encountered in matmul\n",
      "\n",
      "/Library/Frameworks/Python.framework/Versions/3.13/lib/python3.13/site-packages/sklearn/linear_model/_linear_loss.py:200: RuntimeWarning:\n",
      "\n",
      "invalid value encountered in matmul\n",
      "\n",
      "/Library/Frameworks/Python.framework/Versions/3.13/lib/python3.13/site-packages/sklearn/linear_model/_linear_loss.py:200: RuntimeWarning:\n",
      "\n",
      "divide by zero encountered in matmul\n",
      "\n",
      "/Library/Frameworks/Python.framework/Versions/3.13/lib/python3.13/site-packages/sklearn/linear_model/_linear_loss.py:200: RuntimeWarning:\n",
      "\n",
      "overflow encountered in matmul\n",
      "\n",
      "/Library/Frameworks/Python.framework/Versions/3.13/lib/python3.13/site-packages/sklearn/linear_model/_linear_loss.py:200: RuntimeWarning:\n",
      "\n",
      "invalid value encountered in matmul\n",
      "\n",
      "/Library/Frameworks/Python.framework/Versions/3.13/lib/python3.13/site-packages/sklearn/linear_model/_linear_loss.py:200: RuntimeWarning:\n",
      "\n",
      "divide by zero encountered in matmul\n",
      "\n",
      "/Library/Frameworks/Python.framework/Versions/3.13/lib/python3.13/site-packages/sklearn/linear_model/_linear_loss.py:200: RuntimeWarning:\n",
      "\n",
      "overflow encountered in matmul\n",
      "\n",
      "/Library/Frameworks/Python.framework/Versions/3.13/lib/python3.13/site-packages/sklearn/linear_model/_linear_loss.py:200: RuntimeWarning:\n",
      "\n",
      "invalid value encountered in matmul\n",
      "\n",
      "/Library/Frameworks/Python.framework/Versions/3.13/lib/python3.13/site-packages/sklearn/linear_model/_linear_loss.py:200: RuntimeWarning:\n",
      "\n",
      "divide by zero encountered in matmul\n",
      "\n",
      "/Library/Frameworks/Python.framework/Versions/3.13/lib/python3.13/site-packages/sklearn/linear_model/_linear_loss.py:200: RuntimeWarning:\n",
      "\n",
      "overflow encountered in matmul\n",
      "\n",
      "/Library/Frameworks/Python.framework/Versions/3.13/lib/python3.13/site-packages/sklearn/linear_model/_linear_loss.py:200: RuntimeWarning:\n",
      "\n",
      "invalid value encountered in matmul\n",
      "\n",
      "/Library/Frameworks/Python.framework/Versions/3.13/lib/python3.13/site-packages/sklearn/linear_model/_linear_loss.py:200: RuntimeWarning:\n",
      "\n",
      "divide by zero encountered in matmul\n",
      "\n",
      "/Library/Frameworks/Python.framework/Versions/3.13/lib/python3.13/site-packages/sklearn/linear_model/_linear_loss.py:200: RuntimeWarning:\n",
      "\n",
      "overflow encountered in matmul\n",
      "\n",
      "/Library/Frameworks/Python.framework/Versions/3.13/lib/python3.13/site-packages/sklearn/linear_model/_linear_loss.py:200: RuntimeWarning:\n",
      "\n",
      "invalid value encountered in matmul\n",
      "\n",
      "/Library/Frameworks/Python.framework/Versions/3.13/lib/python3.13/site-packages/sklearn/linear_model/_linear_loss.py:200: RuntimeWarning:\n",
      "\n",
      "divide by zero encountered in matmul\n",
      "\n",
      "/Library/Frameworks/Python.framework/Versions/3.13/lib/python3.13/site-packages/sklearn/linear_model/_linear_loss.py:200: RuntimeWarning:\n",
      "\n",
      "overflow encountered in matmul\n",
      "\n",
      "/Library/Frameworks/Python.framework/Versions/3.13/lib/python3.13/site-packages/sklearn/linear_model/_linear_loss.py:200: RuntimeWarning:\n",
      "\n",
      "invalid value encountered in matmul\n",
      "\n",
      "/Library/Frameworks/Python.framework/Versions/3.13/lib/python3.13/site-packages/sklearn/linear_model/_linear_loss.py:200: RuntimeWarning:\n",
      "\n",
      "divide by zero encountered in matmul\n",
      "\n",
      "/Library/Frameworks/Python.framework/Versions/3.13/lib/python3.13/site-packages/sklearn/linear_model/_linear_loss.py:200: RuntimeWarning:\n",
      "\n",
      "overflow encountered in matmul\n",
      "\n",
      "/Library/Frameworks/Python.framework/Versions/3.13/lib/python3.13/site-packages/sklearn/linear_model/_linear_loss.py:200: RuntimeWarning:\n",
      "\n",
      "invalid value encountered in matmul\n",
      "\n",
      "Simulating nulls by provider:  79%|███████▉  | 76/96 [00:00<00:00, 104.17it/s]/Library/Frameworks/Python.framework/Versions/3.13/lib/python3.13/site-packages/sklearn/linear_model/_linear_loss.py:200: RuntimeWarning:\n",
      "\n",
      "divide by zero encountered in matmul\n",
      "\n",
      "/Library/Frameworks/Python.framework/Versions/3.13/lib/python3.13/site-packages/sklearn/linear_model/_linear_loss.py:200: RuntimeWarning:\n",
      "\n",
      "overflow encountered in matmul\n",
      "\n",
      "/Library/Frameworks/Python.framework/Versions/3.13/lib/python3.13/site-packages/sklearn/linear_model/_linear_loss.py:200: RuntimeWarning:\n",
      "\n",
      "invalid value encountered in matmul\n",
      "\n",
      "/Library/Frameworks/Python.framework/Versions/3.13/lib/python3.13/site-packages/sklearn/linear_model/_linear_loss.py:200: RuntimeWarning:\n",
      "\n",
      "divide by zero encountered in matmul\n",
      "\n",
      "/Library/Frameworks/Python.framework/Versions/3.13/lib/python3.13/site-packages/sklearn/linear_model/_linear_loss.py:200: RuntimeWarning:\n",
      "\n",
      "overflow encountered in matmul\n",
      "\n",
      "/Library/Frameworks/Python.framework/Versions/3.13/lib/python3.13/site-packages/sklearn/linear_model/_linear_loss.py:200: RuntimeWarning:\n",
      "\n",
      "invalid value encountered in matmul\n",
      "\n",
      "/Library/Frameworks/Python.framework/Versions/3.13/lib/python3.13/site-packages/sklearn/linear_model/_linear_loss.py:200: RuntimeWarning:\n",
      "\n",
      "divide by zero encountered in matmul\n",
      "\n",
      "/Library/Frameworks/Python.framework/Versions/3.13/lib/python3.13/site-packages/sklearn/linear_model/_linear_loss.py:200: RuntimeWarning:\n",
      "\n",
      "overflow encountered in matmul\n",
      "\n",
      "/Library/Frameworks/Python.framework/Versions/3.13/lib/python3.13/site-packages/sklearn/linear_model/_linear_loss.py:200: RuntimeWarning:\n",
      "\n",
      "invalid value encountered in matmul\n",
      "\n",
      "/Library/Frameworks/Python.framework/Versions/3.13/lib/python3.13/site-packages/sklearn/linear_model/_linear_loss.py:200: RuntimeWarning:\n",
      "\n",
      "divide by zero encountered in matmul\n",
      "\n",
      "/Library/Frameworks/Python.framework/Versions/3.13/lib/python3.13/site-packages/sklearn/linear_model/_linear_loss.py:200: RuntimeWarning:\n",
      "\n",
      "overflow encountered in matmul\n",
      "\n",
      "/Library/Frameworks/Python.framework/Versions/3.13/lib/python3.13/site-packages/sklearn/linear_model/_linear_loss.py:200: RuntimeWarning:\n",
      "\n",
      "invalid value encountered in matmul\n",
      "\n",
      "/Library/Frameworks/Python.framework/Versions/3.13/lib/python3.13/site-packages/sklearn/linear_model/_linear_loss.py:200: RuntimeWarning:\n",
      "\n",
      "divide by zero encountered in matmul\n",
      "\n",
      "/Library/Frameworks/Python.framework/Versions/3.13/lib/python3.13/site-packages/sklearn/linear_model/_linear_loss.py:200: RuntimeWarning:\n",
      "\n",
      "overflow encountered in matmul\n",
      "\n",
      "/Library/Frameworks/Python.framework/Versions/3.13/lib/python3.13/site-packages/sklearn/linear_model/_linear_loss.py:200: RuntimeWarning:\n",
      "\n",
      "invalid value encountered in matmul\n",
      "\n",
      "/Library/Frameworks/Python.framework/Versions/3.13/lib/python3.13/site-packages/sklearn/linear_model/_linear_loss.py:200: RuntimeWarning:\n",
      "\n",
      "divide by zero encountered in matmul\n",
      "\n",
      "/Library/Frameworks/Python.framework/Versions/3.13/lib/python3.13/site-packages/sklearn/linear_model/_linear_loss.py:200: RuntimeWarning:\n",
      "\n",
      "overflow encountered in matmul\n",
      "\n",
      "/Library/Frameworks/Python.framework/Versions/3.13/lib/python3.13/site-packages/sklearn/linear_model/_linear_loss.py:200: RuntimeWarning:\n",
      "\n",
      "invalid value encountered in matmul\n",
      "\n",
      "/Library/Frameworks/Python.framework/Versions/3.13/lib/python3.13/site-packages/sklearn/linear_model/_linear_loss.py:200: RuntimeWarning:\n",
      "\n",
      "divide by zero encountered in matmul\n",
      "\n",
      "/Library/Frameworks/Python.framework/Versions/3.13/lib/python3.13/site-packages/sklearn/linear_model/_linear_loss.py:200: RuntimeWarning:\n",
      "\n",
      "overflow encountered in matmul\n",
      "\n",
      "/Library/Frameworks/Python.framework/Versions/3.13/lib/python3.13/site-packages/sklearn/linear_model/_linear_loss.py:200: RuntimeWarning:\n",
      "\n",
      "invalid value encountered in matmul\n",
      "\n",
      "/Library/Frameworks/Python.framework/Versions/3.13/lib/python3.13/site-packages/sklearn/linear_model/_linear_loss.py:200: RuntimeWarning:\n",
      "\n",
      "divide by zero encountered in matmul\n",
      "\n",
      "/Library/Frameworks/Python.framework/Versions/3.13/lib/python3.13/site-packages/sklearn/linear_model/_linear_loss.py:200: RuntimeWarning:\n",
      "\n",
      "overflow encountered in matmul\n",
      "\n",
      "/Library/Frameworks/Python.framework/Versions/3.13/lib/python3.13/site-packages/sklearn/linear_model/_linear_loss.py:200: RuntimeWarning:\n",
      "\n",
      "invalid value encountered in matmul\n",
      "\n",
      "/Library/Frameworks/Python.framework/Versions/3.13/lib/python3.13/site-packages/sklearn/linear_model/_linear_loss.py:200: RuntimeWarning:\n",
      "\n",
      "divide by zero encountered in matmul\n",
      "\n",
      "/Library/Frameworks/Python.framework/Versions/3.13/lib/python3.13/site-packages/sklearn/linear_model/_linear_loss.py:200: RuntimeWarning:\n",
      "\n",
      "overflow encountered in matmul\n",
      "\n",
      "/Library/Frameworks/Python.framework/Versions/3.13/lib/python3.13/site-packages/sklearn/linear_model/_linear_loss.py:200: RuntimeWarning:\n",
      "\n",
      "invalid value encountered in matmul\n",
      "\n",
      "/Library/Frameworks/Python.framework/Versions/3.13/lib/python3.13/site-packages/sklearn/linear_model/_linear_loss.py:200: RuntimeWarning:\n",
      "\n",
      "divide by zero encountered in matmul\n",
      "\n",
      "/Library/Frameworks/Python.framework/Versions/3.13/lib/python3.13/site-packages/sklearn/linear_model/_linear_loss.py:200: RuntimeWarning:\n",
      "\n",
      "overflow encountered in matmul\n",
      "\n",
      "/Library/Frameworks/Python.framework/Versions/3.13/lib/python3.13/site-packages/sklearn/linear_model/_linear_loss.py:200: RuntimeWarning:\n",
      "\n",
      "invalid value encountered in matmul\n",
      "\n",
      "/Library/Frameworks/Python.framework/Versions/3.13/lib/python3.13/site-packages/sklearn/linear_model/_linear_loss.py:200: RuntimeWarning:\n",
      "\n",
      "divide by zero encountered in matmul\n",
      "\n",
      "/Library/Frameworks/Python.framework/Versions/3.13/lib/python3.13/site-packages/sklearn/linear_model/_linear_loss.py:200: RuntimeWarning:\n",
      "\n",
      "overflow encountered in matmul\n",
      "\n",
      "/Library/Frameworks/Python.framework/Versions/3.13/lib/python3.13/site-packages/sklearn/linear_model/_linear_loss.py:200: RuntimeWarning:\n",
      "\n",
      "invalid value encountered in matmul\n",
      "\n",
      "Simulating nulls by provider:  91%|█████████ | 87/96 [00:00<00:00, 104.88it/s]/Library/Frameworks/Python.framework/Versions/3.13/lib/python3.13/site-packages/sklearn/linear_model/_linear_loss.py:200: RuntimeWarning:\n",
      "\n",
      "divide by zero encountered in matmul\n",
      "\n",
      "/Library/Frameworks/Python.framework/Versions/3.13/lib/python3.13/site-packages/sklearn/linear_model/_linear_loss.py:200: RuntimeWarning:\n",
      "\n",
      "overflow encountered in matmul\n",
      "\n",
      "/Library/Frameworks/Python.framework/Versions/3.13/lib/python3.13/site-packages/sklearn/linear_model/_linear_loss.py:200: RuntimeWarning:\n",
      "\n",
      "invalid value encountered in matmul\n",
      "\n",
      "/Library/Frameworks/Python.framework/Versions/3.13/lib/python3.13/site-packages/sklearn/linear_model/_linear_loss.py:200: RuntimeWarning:\n",
      "\n",
      "divide by zero encountered in matmul\n",
      "\n",
      "/Library/Frameworks/Python.framework/Versions/3.13/lib/python3.13/site-packages/sklearn/linear_model/_linear_loss.py:200: RuntimeWarning:\n",
      "\n",
      "overflow encountered in matmul\n",
      "\n",
      "/Library/Frameworks/Python.framework/Versions/3.13/lib/python3.13/site-packages/sklearn/linear_model/_linear_loss.py:200: RuntimeWarning:\n",
      "\n",
      "invalid value encountered in matmul\n",
      "\n",
      "/Library/Frameworks/Python.framework/Versions/3.13/lib/python3.13/site-packages/sklearn/linear_model/_linear_loss.py:200: RuntimeWarning:\n",
      "\n",
      "divide by zero encountered in matmul\n",
      "\n",
      "/Library/Frameworks/Python.framework/Versions/3.13/lib/python3.13/site-packages/sklearn/linear_model/_linear_loss.py:200: RuntimeWarning:\n",
      "\n",
      "overflow encountered in matmul\n",
      "\n",
      "/Library/Frameworks/Python.framework/Versions/3.13/lib/python3.13/site-packages/sklearn/linear_model/_linear_loss.py:200: RuntimeWarning:\n",
      "\n",
      "invalid value encountered in matmul\n",
      "\n",
      "/Library/Frameworks/Python.framework/Versions/3.13/lib/python3.13/site-packages/sklearn/linear_model/_linear_loss.py:200: RuntimeWarning:\n",
      "\n",
      "divide by zero encountered in matmul\n",
      "\n",
      "/Library/Frameworks/Python.framework/Versions/3.13/lib/python3.13/site-packages/sklearn/linear_model/_linear_loss.py:200: RuntimeWarning:\n",
      "\n",
      "overflow encountered in matmul\n",
      "\n",
      "/Library/Frameworks/Python.framework/Versions/3.13/lib/python3.13/site-packages/sklearn/linear_model/_linear_loss.py:200: RuntimeWarning:\n",
      "\n",
      "invalid value encountered in matmul\n",
      "\n",
      "/Library/Frameworks/Python.framework/Versions/3.13/lib/python3.13/site-packages/sklearn/linear_model/_linear_loss.py:200: RuntimeWarning:\n",
      "\n",
      "divide by zero encountered in matmul\n",
      "\n",
      "/Library/Frameworks/Python.framework/Versions/3.13/lib/python3.13/site-packages/sklearn/linear_model/_linear_loss.py:200: RuntimeWarning:\n",
      "\n",
      "overflow encountered in matmul\n",
      "\n",
      "/Library/Frameworks/Python.framework/Versions/3.13/lib/python3.13/site-packages/sklearn/linear_model/_linear_loss.py:200: RuntimeWarning:\n",
      "\n",
      "invalid value encountered in matmul\n",
      "\n",
      "/Library/Frameworks/Python.framework/Versions/3.13/lib/python3.13/site-packages/sklearn/linear_model/_linear_loss.py:200: RuntimeWarning:\n",
      "\n",
      "divide by zero encountered in matmul\n",
      "\n",
      "/Library/Frameworks/Python.framework/Versions/3.13/lib/python3.13/site-packages/sklearn/linear_model/_linear_loss.py:200: RuntimeWarning:\n",
      "\n",
      "overflow encountered in matmul\n",
      "\n",
      "/Library/Frameworks/Python.framework/Versions/3.13/lib/python3.13/site-packages/sklearn/linear_model/_linear_loss.py:200: RuntimeWarning:\n",
      "\n",
      "invalid value encountered in matmul\n",
      "\n",
      "/Library/Frameworks/Python.framework/Versions/3.13/lib/python3.13/site-packages/sklearn/linear_model/_linear_loss.py:200: RuntimeWarning:\n",
      "\n",
      "divide by zero encountered in matmul\n",
      "\n",
      "/Library/Frameworks/Python.framework/Versions/3.13/lib/python3.13/site-packages/sklearn/linear_model/_linear_loss.py:200: RuntimeWarning:\n",
      "\n",
      "overflow encountered in matmul\n",
      "\n",
      "/Library/Frameworks/Python.framework/Versions/3.13/lib/python3.13/site-packages/sklearn/linear_model/_linear_loss.py:200: RuntimeWarning:\n",
      "\n",
      "invalid value encountered in matmul\n",
      "\n",
      "/Library/Frameworks/Python.framework/Versions/3.13/lib/python3.13/site-packages/sklearn/linear_model/_linear_loss.py:200: RuntimeWarning:\n",
      "\n",
      "divide by zero encountered in matmul\n",
      "\n",
      "/Library/Frameworks/Python.framework/Versions/3.13/lib/python3.13/site-packages/sklearn/linear_model/_linear_loss.py:200: RuntimeWarning:\n",
      "\n",
      "overflow encountered in matmul\n",
      "\n",
      "/Library/Frameworks/Python.framework/Versions/3.13/lib/python3.13/site-packages/sklearn/linear_model/_linear_loss.py:200: RuntimeWarning:\n",
      "\n",
      "invalid value encountered in matmul\n",
      "\n",
      "/Library/Frameworks/Python.framework/Versions/3.13/lib/python3.13/site-packages/sklearn/linear_model/_linear_loss.py:200: RuntimeWarning:\n",
      "\n",
      "divide by zero encountered in matmul\n",
      "\n",
      "/Library/Frameworks/Python.framework/Versions/3.13/lib/python3.13/site-packages/sklearn/linear_model/_linear_loss.py:200: RuntimeWarning:\n",
      "\n",
      "overflow encountered in matmul\n",
      "\n",
      "/Library/Frameworks/Python.framework/Versions/3.13/lib/python3.13/site-packages/sklearn/linear_model/_linear_loss.py:200: RuntimeWarning:\n",
      "\n",
      "invalid value encountered in matmul\n",
      "\n",
      "Simulating nulls by provider: 100%|██████████| 96/96 [00:00<00:00, 104.29it/s]\n"
     ]
    }
   ],
   "source": [
    "empirical_null_covariate_test=empirical_null_provider_failures(data_outcome_compare, \"outcome\", \"servicing_provider_id\", [\"health_risk_assesment\", \"member_sex\"], n_simulations=1000, random_state=42)"
   ]
  },
  {
   "cell_type": "code",
   "execution_count": 35,
   "id": "929f1745",
   "metadata": {},
   "outputs": [
    {
     "data": {
      "text/plain": [
       "member_sex  health_risk_assesment  outcome\n",
       "0           1                      pass       133\n",
       "            2                      failure     31\n",
       "                                   pass       258\n",
       "            3                      failure    131\n",
       "                                   pass       191\n",
       "            4                      failure    180\n",
       "                                   pass       131\n",
       "            5                      failure    168\n",
       "                                   pass        91\n",
       "            6                      failure    206\n",
       "                                   pass        95\n",
       "            7                      failure    201\n",
       "                                   pass        72\n",
       "            8                      failure    145\n",
       "                                   pass        42\n",
       "            9                      failure     50\n",
       "                                   pass        13\n",
       "1           2                      failure     14\n",
       "                                   pass       127\n",
       "            3                      failure    113\n",
       "                                   pass       167\n",
       "            4                      failure    176\n",
       "                                   pass       163\n",
       "            5                      failure    196\n",
       "                                   pass       109\n",
       "            6                      failure    172\n",
       "                                   pass        78\n",
       "            7                      failure    200\n",
       "                                   pass        64\n",
       "            8                      failure    192\n",
       "                                   pass        50\n",
       "            9                      failure    194\n",
       "                                   pass        44\n",
       "            10                     failure     44\n",
       "                                   pass         6\n",
       "Name: member_id, dtype: int64"
      ]
     },
     "execution_count": 35,
     "metadata": {},
     "output_type": "execute_result"
    }
   ],
   "source": [
    "# addressing issues in log reg above, could be because all females with a health risk assesment of 1 all pass \n",
    "# and there are no men with a health risk assessment of 1\n",
    "data_outcome_compare.groupby([\"member_sex\", \"health_risk_assesment\", \"outcome\"]).member_id.count().sort_index()"
   ]
  },
  {
   "cell_type": "code",
   "execution_count": 36,
   "id": "d3b38096",
   "metadata": {},
   "outputs": [
    {
     "data": {
      "application/vnd.plotly.v1+json": {
       "config": {
        "plotlyServerURL": "https://plot.ly"
       },
       "data": [
        {
         "hovertemplate": "Observed Failure Rate=%{x}<br>expected_mean=%{y}<br>P-Value=%{marker.color}<extra></extra>",
         "legendgroup": "",
         "marker": {
          "color": {
           "bdata": "4l4Fs6Qc0D9wbJjM4GnSP53jluL689Y/Fdeft2LO4T9fBbOkHBCpPzoVJZeJ9tw/X6yujWaX4D9wbJjM4GnCP+WAyHCvgtk/xAD18rrdxT/q5XW7K43IP4KyViU+hd8/kiRJkiRJ0j8iarnzr9DgP06ezXxYtt8/6uV1uyuNyD8aikTUcuffP58bdCpKLtM/ivbcoFNR4j8282HZfpDDP97jPd7jPd4/5IvVtdHsoj+sB5J9TanaPzxNAt/YMNk/DZ4mgW9s2D8mjHyxujbaP6rPtDX+bt4/iVru/Cs0xD/IIriwxUPfPx0FDKkzxtE/lkYMUC+v2z8GAZzuoyfdP2jaGn83j+A/EgPUy+t21z8GAZzuoye9PwUMqTPGkdY/uyuNGKBe3j+4CcpalfikP3BsmMzgabI/5IvVtdHs0j+20ewSRr7YPyNfrK6NZtc/+0FOns182D+qz7Q1/m6+P8LTJPCNDcM/4cIWD33/4T/9eSvmHLfEP3BsmMzgaaI/FDuxEzux0z9aoAVaoAXaP3FWfkKcld8/QL28bnel4T/iXgWzpBzgPxdogRZogdY/94OcPJv54D80xpHWUcDQP2VfU6p2sJ4/ZV9Tqnaw3j/9eSvmHLfUP3or5hy3FNc/L2Hki9W14T8hzspPiLPiP2D6pV/6pd8/AKf76EmHxz9wbJjM4GmiP0PqjHGkdYQ/xjjSOgoY0j8tKQdEhnvVP1IZlVEZldE/Kvw2QVmr0j9HDFAvr9vdPzKDp0ngG9s/lA4vCOB03z948wjVZ9q6P3OOW4rrz9s/eyDZ15SqzT8D1MvrdlfKP2VfU6p2sJ4/Kvw2QVmrsj+MfLG6NprdP2yj2SWMfOE/ukGnouQy4T8UO7ETO7HDPxEO4RAO4cA/Mo60jgKG1D8mjHyxujbaP6ei5DLRnts/UhmVURmV0T8RDuEQDuGwP2eXMPLF6to/qeXOv0JDwT/UJPCNDZOZP75jamDvmLo/5IvVtdHssj+mrfF38wjVP53jluL689Y/",
           "dtype": "f8"
          },
          "coloraxis": "coloraxis",
          "symbol": "circle"
         },
         "mode": "markers",
         "name": "",
         "orientation": "v",
         "showlegend": false,
         "type": "scatter",
         "x": {
          "bdata": "IQtZyEIW4j9VVVVVVVXlP6esKWvKmuI/8xrKayiv4T+zpqwpa8raP2IndmInduI/bCivobyG4j+rqqqqqqrkP+Q4juM4juM/ZZNNNtlk4z8RERERERHhP0d9Z6O+s+E/VVVVVVVV4z/btm3btm3jP0d9Z6O+s+E/OL3pTW964z8AAAAAAADiPwnLPY2w3OM/6aKLLrro4j+O4ziO4zjmP9pLaC+hveQ/o4suuuii2z8/NNaHxvrgPwAAAAAAAOA/L7rooosu4j8/NNaHxvrgP89GfWejvuM/PzTWh8b64D+nrClrypriP/Q8z/M8z+M/uxK1K1G74j/NzMzMzMzgPzi96U1veuM/dNFFF1104T/UdzbqOxvlPzMzMzMzM+M/xOQKYnIF4T8uGYJ1tHnfP5IkSZIkSeY/chzHcRzH4T+amZmZmZnhP7ETO7ETO+E/FbycgpdT4D/sxE7sxE7kP31no76zUd8/VVVVVVVV4z9BTK4gJlfgP4wuuuiii+Y/OL3pTW964z9VVVVVVVXhP3fEHXFH3OE/d8QdcUfc4T+jiy666KLjP2ZmZmZmZuI/MzMzMzMz4z8QjfWhsT7kP11BTK4gJuc/TK4gJlcQ4z8AAAAAAADgP0fcEXfEHeE/5DiO4ziO4z8cx3Ecx3HkPwAAAAAAAOI/q6qqqqqq3j/0BX1BX9DXP9iCLdiCLdg/MzMzMzMz4z9jOovpLKbjP+sGU+SzbuA/xU7sxE7s5D9yHMdxHMfhP2RwPgbnY+A/aKwPjfWh4T9S39mo72zkP4PzMTgfg+M/XXTRRRdd5D8AAAAAAADgP6OLLrroots/Z6O+s1Hf2T9H3BF3xB3hP5IkSZIkSeI/d8QdcUfc4T82ZU1ZU9bkP23UdzbqO9s/09LS0tLS4j8iIiIiIiLiP3Icx3Ecx+E/d8QdcUfc4T+jiy666KLbP29ln0NqguE/NUiDNEiD5D+pXYnalajdP4wuuuiii+Y/h7VvWPuG5T8zMzMzMzPjP19fX19fX98/",
          "dtype": "f8"
         },
         "xaxis": "x",
         "y": {
          "bdata": "vyE/AbbM4z+CA9wwS73jP8hLN4lBYOE/8ywpbu7E4T96/cqmrlPhP+2WEpre8+E/zE4zvGI04j8ED+aJ+vfhPxeSplScfeI/L+YfljGV4D81zIG84lrjP7mDS5k2OeE/K4cW2c634T9WUT5Bo/biP/pr5kht/OE/2VAcJrxN4T+0yHa+n5rhP3+W5YXYluI/rQFptCng4j+qy+0PMlTjP5ciSAdgUuQ/q1qHd0JF4j8Me4A2iLnhP9OMXIur4eA/e9aANNoU4z+wBuBQFcrhP1MKYb/IO+Q/oPG3K1Ja4z871X1SxBriP/JUWWxpB+I/bLiEUxgF4j+w4emVsozhP3f/sYMbseM/YCP+NeJf4D9zGWhpfxziP3adi4KftuE/0CEovYl94T9wFxb+8EbjP9GcuNtzXOM/DsCkvAeG4z+GyVTBqKTiPwT6lYjl5+I/YbAUNfIx4T/LLq/os5rhPzM05m8oIOI/cvbhM+xK4z/BLQJ6sJriPybrj+UxjOI/UGZZ/OoD4j8ta3VM8CDiP8/gcEJzdOE/5/HXtv/54T/pxceRr0/jP8IXJlMFo+M/ZtXnait24z+JGXFmgYjiP8IbMUOe8OI/+VVJH4ae4j9cAHGuuI/hP3WIMRBU5d8/JXOOdiut4z99rEI/omvkP77mQtKUSuI/ukkMAiuH4T+6Rs3WngfgP+DC9uLtfeE/7FG4HoXr4T8/3NYUzJDiP6eatk1ETuI/YuIb581t4z+6kqjIv1riP9FSTmAYOOE/SJ5phahA4T+oZVF8eXThPyu5gV/oxOI/jXQyr41Z4j9xio7k8h/iP9jp6AP1pOI/S/vjMGpZ4D8pWVCXaanhP4WkKRVnH+I/Dic0R9eo4T+q5dagMRLiP9QU1rVBdOA/f3Sd+YhL4T9gUSRy1OTgPxAMbzho/uA/vpdyZmd74z9oMIQGQ2jhP/krTjnVsuA/onTZWZNe4T+8cZ/ow1bjP+Mh9uoufOM/RAfHDQp24j/biv1l9+ThP/q7sdo2xuA/",
          "dtype": "f8"
         },
         "yaxis": "y"
        }
       ],
       "layout": {
        "coloraxis": {
         "colorbar": {
          "title": {
           "text": "P-Value"
          }
         },
         "colorscale": [
          [
           0,
           "#0d0887"
          ],
          [
           0.1111111111111111,
           "#46039f"
          ],
          [
           0.2222222222222222,
           "#7201a8"
          ],
          [
           0.3333333333333333,
           "#9c179e"
          ],
          [
           0.4444444444444444,
           "#bd3786"
          ],
          [
           0.5555555555555556,
           "#d8576b"
          ],
          [
           0.6666666666666666,
           "#ed7953"
          ],
          [
           0.7777777777777778,
           "#fb9f3a"
          ],
          [
           0.8888888888888888,
           "#fdca26"
          ],
          [
           1,
           "#f0f921"
          ]
         ]
        },
        "height": 500,
        "legend": {
         "tracegroupgap": 0
        },
        "shapes": [
         {
          "line": {
           "color": "black",
           "dash": "dash"
          },
          "type": "line",
          "x0": 0.37209302325581395,
          "x1": 0.723404255319149,
          "y0": 0.37209302325581395,
          "y1": 0.723404255319149
         }
        ],
        "template": {
         "data": {
          "bar": [
           {
            "error_x": {
             "color": "#2a3f5f"
            },
            "error_y": {
             "color": "#2a3f5f"
            },
            "marker": {
             "line": {
              "color": "#E5ECF6",
              "width": 0.5
             },
             "pattern": {
              "fillmode": "overlay",
              "size": 10,
              "solidity": 0.2
             }
            },
            "type": "bar"
           }
          ],
          "barpolar": [
           {
            "marker": {
             "line": {
              "color": "#E5ECF6",
              "width": 0.5
             },
             "pattern": {
              "fillmode": "overlay",
              "size": 10,
              "solidity": 0.2
             }
            },
            "type": "barpolar"
           }
          ],
          "carpet": [
           {
            "aaxis": {
             "endlinecolor": "#2a3f5f",
             "gridcolor": "white",
             "linecolor": "white",
             "minorgridcolor": "white",
             "startlinecolor": "#2a3f5f"
            },
            "baxis": {
             "endlinecolor": "#2a3f5f",
             "gridcolor": "white",
             "linecolor": "white",
             "minorgridcolor": "white",
             "startlinecolor": "#2a3f5f"
            },
            "type": "carpet"
           }
          ],
          "choropleth": [
           {
            "colorbar": {
             "outlinewidth": 0,
             "ticks": ""
            },
            "type": "choropleth"
           }
          ],
          "contour": [
           {
            "colorbar": {
             "outlinewidth": 0,
             "ticks": ""
            },
            "colorscale": [
             [
              0,
              "#0d0887"
             ],
             [
              0.1111111111111111,
              "#46039f"
             ],
             [
              0.2222222222222222,
              "#7201a8"
             ],
             [
              0.3333333333333333,
              "#9c179e"
             ],
             [
              0.4444444444444444,
              "#bd3786"
             ],
             [
              0.5555555555555556,
              "#d8576b"
             ],
             [
              0.6666666666666666,
              "#ed7953"
             ],
             [
              0.7777777777777778,
              "#fb9f3a"
             ],
             [
              0.8888888888888888,
              "#fdca26"
             ],
             [
              1,
              "#f0f921"
             ]
            ],
            "type": "contour"
           }
          ],
          "contourcarpet": [
           {
            "colorbar": {
             "outlinewidth": 0,
             "ticks": ""
            },
            "type": "contourcarpet"
           }
          ],
          "heatmap": [
           {
            "colorbar": {
             "outlinewidth": 0,
             "ticks": ""
            },
            "colorscale": [
             [
              0,
              "#0d0887"
             ],
             [
              0.1111111111111111,
              "#46039f"
             ],
             [
              0.2222222222222222,
              "#7201a8"
             ],
             [
              0.3333333333333333,
              "#9c179e"
             ],
             [
              0.4444444444444444,
              "#bd3786"
             ],
             [
              0.5555555555555556,
              "#d8576b"
             ],
             [
              0.6666666666666666,
              "#ed7953"
             ],
             [
              0.7777777777777778,
              "#fb9f3a"
             ],
             [
              0.8888888888888888,
              "#fdca26"
             ],
             [
              1,
              "#f0f921"
             ]
            ],
            "type": "heatmap"
           }
          ],
          "histogram": [
           {
            "marker": {
             "pattern": {
              "fillmode": "overlay",
              "size": 10,
              "solidity": 0.2
             }
            },
            "type": "histogram"
           }
          ],
          "histogram2d": [
           {
            "colorbar": {
             "outlinewidth": 0,
             "ticks": ""
            },
            "colorscale": [
             [
              0,
              "#0d0887"
             ],
             [
              0.1111111111111111,
              "#46039f"
             ],
             [
              0.2222222222222222,
              "#7201a8"
             ],
             [
              0.3333333333333333,
              "#9c179e"
             ],
             [
              0.4444444444444444,
              "#bd3786"
             ],
             [
              0.5555555555555556,
              "#d8576b"
             ],
             [
              0.6666666666666666,
              "#ed7953"
             ],
             [
              0.7777777777777778,
              "#fb9f3a"
             ],
             [
              0.8888888888888888,
              "#fdca26"
             ],
             [
              1,
              "#f0f921"
             ]
            ],
            "type": "histogram2d"
           }
          ],
          "histogram2dcontour": [
           {
            "colorbar": {
             "outlinewidth": 0,
             "ticks": ""
            },
            "colorscale": [
             [
              0,
              "#0d0887"
             ],
             [
              0.1111111111111111,
              "#46039f"
             ],
             [
              0.2222222222222222,
              "#7201a8"
             ],
             [
              0.3333333333333333,
              "#9c179e"
             ],
             [
              0.4444444444444444,
              "#bd3786"
             ],
             [
              0.5555555555555556,
              "#d8576b"
             ],
             [
              0.6666666666666666,
              "#ed7953"
             ],
             [
              0.7777777777777778,
              "#fb9f3a"
             ],
             [
              0.8888888888888888,
              "#fdca26"
             ],
             [
              1,
              "#f0f921"
             ]
            ],
            "type": "histogram2dcontour"
           }
          ],
          "mesh3d": [
           {
            "colorbar": {
             "outlinewidth": 0,
             "ticks": ""
            },
            "type": "mesh3d"
           }
          ],
          "parcoords": [
           {
            "line": {
             "colorbar": {
              "outlinewidth": 0,
              "ticks": ""
             }
            },
            "type": "parcoords"
           }
          ],
          "pie": [
           {
            "automargin": true,
            "type": "pie"
           }
          ],
          "scatter": [
           {
            "fillpattern": {
             "fillmode": "overlay",
             "size": 10,
             "solidity": 0.2
            },
            "type": "scatter"
           }
          ],
          "scatter3d": [
           {
            "line": {
             "colorbar": {
              "outlinewidth": 0,
              "ticks": ""
             }
            },
            "marker": {
             "colorbar": {
              "outlinewidth": 0,
              "ticks": ""
             }
            },
            "type": "scatter3d"
           }
          ],
          "scattercarpet": [
           {
            "marker": {
             "colorbar": {
              "outlinewidth": 0,
              "ticks": ""
             }
            },
            "type": "scattercarpet"
           }
          ],
          "scattergeo": [
           {
            "marker": {
             "colorbar": {
              "outlinewidth": 0,
              "ticks": ""
             }
            },
            "type": "scattergeo"
           }
          ],
          "scattergl": [
           {
            "marker": {
             "colorbar": {
              "outlinewidth": 0,
              "ticks": ""
             }
            },
            "type": "scattergl"
           }
          ],
          "scattermap": [
           {
            "marker": {
             "colorbar": {
              "outlinewidth": 0,
              "ticks": ""
             }
            },
            "type": "scattermap"
           }
          ],
          "scattermapbox": [
           {
            "marker": {
             "colorbar": {
              "outlinewidth": 0,
              "ticks": ""
             }
            },
            "type": "scattermapbox"
           }
          ],
          "scatterpolar": [
           {
            "marker": {
             "colorbar": {
              "outlinewidth": 0,
              "ticks": ""
             }
            },
            "type": "scatterpolar"
           }
          ],
          "scatterpolargl": [
           {
            "marker": {
             "colorbar": {
              "outlinewidth": 0,
              "ticks": ""
             }
            },
            "type": "scatterpolargl"
           }
          ],
          "scatterternary": [
           {
            "marker": {
             "colorbar": {
              "outlinewidth": 0,
              "ticks": ""
             }
            },
            "type": "scatterternary"
           }
          ],
          "surface": [
           {
            "colorbar": {
             "outlinewidth": 0,
             "ticks": ""
            },
            "colorscale": [
             [
              0,
              "#0d0887"
             ],
             [
              0.1111111111111111,
              "#46039f"
             ],
             [
              0.2222222222222222,
              "#7201a8"
             ],
             [
              0.3333333333333333,
              "#9c179e"
             ],
             [
              0.4444444444444444,
              "#bd3786"
             ],
             [
              0.5555555555555556,
              "#d8576b"
             ],
             [
              0.6666666666666666,
              "#ed7953"
             ],
             [
              0.7777777777777778,
              "#fb9f3a"
             ],
             [
              0.8888888888888888,
              "#fdca26"
             ],
             [
              1,
              "#f0f921"
             ]
            ],
            "type": "surface"
           }
          ],
          "table": [
           {
            "cells": {
             "fill": {
              "color": "#EBF0F8"
             },
             "line": {
              "color": "white"
             }
            },
            "header": {
             "fill": {
              "color": "#C8D4E3"
             },
             "line": {
              "color": "white"
             }
            },
            "type": "table"
           }
          ]
         },
         "layout": {
          "annotationdefaults": {
           "arrowcolor": "#2a3f5f",
           "arrowhead": 0,
           "arrowwidth": 1
          },
          "autotypenumbers": "strict",
          "coloraxis": {
           "colorbar": {
            "outlinewidth": 0,
            "ticks": ""
           }
          },
          "colorscale": {
           "diverging": [
            [
             0,
             "#8e0152"
            ],
            [
             0.1,
             "#c51b7d"
            ],
            [
             0.2,
             "#de77ae"
            ],
            [
             0.3,
             "#f1b6da"
            ],
            [
             0.4,
             "#fde0ef"
            ],
            [
             0.5,
             "#f7f7f7"
            ],
            [
             0.6,
             "#e6f5d0"
            ],
            [
             0.7,
             "#b8e186"
            ],
            [
             0.8,
             "#7fbc41"
            ],
            [
             0.9,
             "#4d9221"
            ],
            [
             1,
             "#276419"
            ]
           ],
           "sequential": [
            [
             0,
             "#0d0887"
            ],
            [
             0.1111111111111111,
             "#46039f"
            ],
            [
             0.2222222222222222,
             "#7201a8"
            ],
            [
             0.3333333333333333,
             "#9c179e"
            ],
            [
             0.4444444444444444,
             "#bd3786"
            ],
            [
             0.5555555555555556,
             "#d8576b"
            ],
            [
             0.6666666666666666,
             "#ed7953"
            ],
            [
             0.7777777777777778,
             "#fb9f3a"
            ],
            [
             0.8888888888888888,
             "#fdca26"
            ],
            [
             1,
             "#f0f921"
            ]
           ],
           "sequentialminus": [
            [
             0,
             "#0d0887"
            ],
            [
             0.1111111111111111,
             "#46039f"
            ],
            [
             0.2222222222222222,
             "#7201a8"
            ],
            [
             0.3333333333333333,
             "#9c179e"
            ],
            [
             0.4444444444444444,
             "#bd3786"
            ],
            [
             0.5555555555555556,
             "#d8576b"
            ],
            [
             0.6666666666666666,
             "#ed7953"
            ],
            [
             0.7777777777777778,
             "#fb9f3a"
            ],
            [
             0.8888888888888888,
             "#fdca26"
            ],
            [
             1,
             "#f0f921"
            ]
           ]
          },
          "colorway": [
           "#636efa",
           "#EF553B",
           "#00cc96",
           "#ab63fa",
           "#FFA15A",
           "#19d3f3",
           "#FF6692",
           "#B6E880",
           "#FF97FF",
           "#FECB52"
          ],
          "font": {
           "color": "#2a3f5f"
          },
          "geo": {
           "bgcolor": "white",
           "lakecolor": "white",
           "landcolor": "#E5ECF6",
           "showlakes": true,
           "showland": true,
           "subunitcolor": "white"
          },
          "hoverlabel": {
           "align": "left"
          },
          "hovermode": "closest",
          "mapbox": {
           "style": "light"
          },
          "paper_bgcolor": "white",
          "plot_bgcolor": "#E5ECF6",
          "polar": {
           "angularaxis": {
            "gridcolor": "white",
            "linecolor": "white",
            "ticks": ""
           },
           "bgcolor": "#E5ECF6",
           "radialaxis": {
            "gridcolor": "white",
            "linecolor": "white",
            "ticks": ""
           }
          },
          "scene": {
           "xaxis": {
            "backgroundcolor": "#E5ECF6",
            "gridcolor": "white",
            "gridwidth": 2,
            "linecolor": "white",
            "showbackground": true,
            "ticks": "",
            "zerolinecolor": "white"
           },
           "yaxis": {
            "backgroundcolor": "#E5ECF6",
            "gridcolor": "white",
            "gridwidth": 2,
            "linecolor": "white",
            "showbackground": true,
            "ticks": "",
            "zerolinecolor": "white"
           },
           "zaxis": {
            "backgroundcolor": "#E5ECF6",
            "gridcolor": "white",
            "gridwidth": 2,
            "linecolor": "white",
            "showbackground": true,
            "ticks": "",
            "zerolinecolor": "white"
           }
          },
          "shapedefaults": {
           "line": {
            "color": "#2a3f5f"
           }
          },
          "ternary": {
           "aaxis": {
            "gridcolor": "white",
            "linecolor": "white",
            "ticks": ""
           },
           "baxis": {
            "gridcolor": "white",
            "linecolor": "white",
            "ticks": ""
           },
           "bgcolor": "#E5ECF6",
           "caxis": {
            "gridcolor": "white",
            "linecolor": "white",
            "ticks": ""
           }
          },
          "title": {
           "x": 0.05
          },
          "xaxis": {
           "automargin": true,
           "gridcolor": "white",
           "linecolor": "white",
           "ticks": "",
           "title": {
            "standoff": 15
           },
           "zerolinecolor": "white",
           "zerolinewidth": 2
          },
          "yaxis": {
           "automargin": true,
           "gridcolor": "white",
           "linecolor": "white",
           "ticks": "",
           "title": {
            "standoff": 15
           },
           "zerolinecolor": "white",
           "zerolinewidth": 2
          }
         }
        },
        "title": {
         "text": "Observed vs Expected Failure Rate by Provider"
        },
        "width": 500,
        "xaxis": {
         "anchor": "y",
         "domain": [
          0,
          1
         ],
         "title": {
          "text": "Observed Failure Rate"
         }
        },
        "yaxis": {
         "anchor": "x",
         "domain": [
          0,
          1
         ],
         "title": {
          "text": "expected_mean"
         }
        }
       }
      }
     },
     "metadata": {},
     "output_type": "display_data"
    }
   ],
   "source": [
    "fig = px.scatter(empirical_null_covariate_test, \n",
    "    x=\"observed_failure_rate\", \n",
    "    y=\"expected_mean\", \n",
    "    color=\"p_value\", \n",
    "    title=\"Observed vs Expected Failure Rate by Provider\",\n",
    "    labels={\"observed_failure_rate\": \"Observed Failure Rate\", \"p_value\": \"P-Value\"}\n",
    ")\n",
    "\n",
    "# Add identity line (y = x)\n",
    "min_val = min(empirical_null_covariate_test[\"observed_failure_rate\"].min(), empirical_null_covariate_test[\"expected_mean\"].min())\n",
    "max_val = max(empirical_null_covariate_test[\"observed_failure_rate\"].max(), empirical_null_covariate_test[\"expected_mean\"].max())\n",
    "fig.add_shape(type=\"line\", x0=min_val, y0=min_val, x1=max_val, y1=max_val, line=dict(color=\"black\", dash=\"dash\"))\n",
    "fig.update_layout(height=500, width=500)\n",
    "fig.show()"
   ]
  },
  {
   "cell_type": "code",
   "execution_count": 37,
   "id": "745d5cec",
   "metadata": {},
   "outputs": [
    {
     "name": "stdout",
     "output_type": "stream",
     "text": [
      "Providers with observed failure rate greater than expected mean: [47, 56]\n"
     ]
    },
    {
     "data": {
      "text/html": [
       "<style type=\"text/css\">\n",
       "#T_6131f_row0_col0, #T_6131f_row0_col1, #T_6131f_row0_col2, #T_6131f_row0_col3, #T_6131f_row0_col4, #T_6131f_row0_col5, #T_6131f_row1_col0, #T_6131f_row1_col1, #T_6131f_row1_col2, #T_6131f_row1_col3, #T_6131f_row1_col4, #T_6131f_row1_col5 {\n",
       "  background-color: red;\n",
       "}\n",
       "#T_6131f_row2_col0, #T_6131f_row2_col1, #T_6131f_row2_col2, #T_6131f_row2_col3, #T_6131f_row2_col4, #T_6131f_row2_col5, #T_6131f_row3_col0, #T_6131f_row3_col1, #T_6131f_row3_col2, #T_6131f_row3_col3, #T_6131f_row3_col4, #T_6131f_row3_col5, #T_6131f_row4_col0, #T_6131f_row4_col1, #T_6131f_row4_col2, #T_6131f_row4_col3, #T_6131f_row4_col4, #T_6131f_row4_col5, #T_6131f_row5_col0, #T_6131f_row5_col1, #T_6131f_row5_col2, #T_6131f_row5_col3, #T_6131f_row5_col4, #T_6131f_row5_col5, #T_6131f_row6_col0, #T_6131f_row6_col1, #T_6131f_row6_col2, #T_6131f_row6_col3, #T_6131f_row6_col4, #T_6131f_row6_col5, #T_6131f_row7_col0, #T_6131f_row7_col1, #T_6131f_row7_col2, #T_6131f_row7_col3, #T_6131f_row7_col4, #T_6131f_row7_col5, #T_6131f_row8_col0, #T_6131f_row8_col1, #T_6131f_row8_col2, #T_6131f_row8_col3, #T_6131f_row8_col4, #T_6131f_row8_col5 {\n",
       "  background-color: green;\n",
       "}\n",
       "</style>\n",
       "<table id=\"T_6131f\">\n",
       "  <thead>\n",
       "    <tr>\n",
       "      <th class=\"blank level0\" >&nbsp;</th>\n",
       "      <th id=\"T_6131f_level0_col0\" class=\"col_heading level0 col0\" >provider</th>\n",
       "      <th id=\"T_6131f_level0_col1\" class=\"col_heading level0 col1\" >observed_failure_rate</th>\n",
       "      <th id=\"T_6131f_level0_col2\" class=\"col_heading level0 col2\" >expected_mean</th>\n",
       "      <th id=\"T_6131f_level0_col3\" class=\"col_heading level0 col3\" >lower_95_CI</th>\n",
       "      <th id=\"T_6131f_level0_col4\" class=\"col_heading level0 col4\" >upper_95_CI</th>\n",
       "      <th id=\"T_6131f_level0_col5\" class=\"col_heading level0 col5\" >p_value</th>\n",
       "    </tr>\n",
       "  </thead>\n",
       "  <tbody>\n",
       "    <tr>\n",
       "      <th id=\"T_6131f_level0_row0\" class=\"row_heading level0 row0\" >56</th>\n",
       "      <td id=\"T_6131f_row0_col0\" class=\"data row0 col0\" >57</td>\n",
       "      <td id=\"T_6131f_row0_col1\" class=\"data row0 col1\" >0.723404</td>\n",
       "      <td id=\"T_6131f_row0_col2\" class=\"data row0 col2\" >0.591872</td>\n",
       "      <td id=\"T_6131f_row0_col3\" class=\"data row0 col3\" >0.468085</td>\n",
       "      <td id=\"T_6131f_row0_col4\" class=\"data row0 col4\" >0.723404</td>\n",
       "      <td id=\"T_6131f_row0_col5\" class=\"data row0 col5\" >0.029970</td>\n",
       "    </tr>\n",
       "    <tr>\n",
       "      <th id=\"T_6131f_level0_row1\" class=\"row_heading level0 row1\" >47</th>\n",
       "      <td id=\"T_6131f_row1_col0\" class=\"data row1 col0\" >48</td>\n",
       "      <td id=\"T_6131f_row1_col1\" class=\"data row1 col1\" >0.704545</td>\n",
       "      <td id=\"T_6131f_row1_col2\" class=\"data row1 col2\" >0.579614</td>\n",
       "      <td id=\"T_6131f_row1_col3\" class=\"data row1 col3\" >0.454545</td>\n",
       "      <td id=\"T_6131f_row1_col4\" class=\"data row1 col4\" >0.704545</td>\n",
       "      <td id=\"T_6131f_row1_col5\" class=\"data row1 col5\" >0.035964</td>\n",
       "    </tr>\n",
       "    <tr>\n",
       "      <th id=\"T_6131f_level0_row2\" class=\"row_heading level0 row2\" >37</th>\n",
       "      <td id=\"T_6131f_row2_col0\" class=\"data row2 col0\" >38</td>\n",
       "      <td id=\"T_6131f_row2_col1\" class=\"data row2 col1\" >0.491803</td>\n",
       "      <td id=\"T_6131f_row2_col2\" class=\"data row2 col2\" >0.602410</td>\n",
       "      <td id=\"T_6131f_row2_col3\" class=\"data row2 col3\" >0.491393</td>\n",
       "      <td id=\"T_6131f_row2_col4\" class=\"data row2 col4\" >0.704918</td>\n",
       "      <td id=\"T_6131f_row2_col5\" class=\"data row2 col5\" >0.040959</td>\n",
       "    </tr>\n",
       "    <tr>\n",
       "      <th id=\"T_6131f_level0_row3\" class=\"row_heading level0 row3\" >91</th>\n",
       "      <td id=\"T_6131f_row3_col0\" class=\"data row3 col0\" >92</td>\n",
       "      <td id=\"T_6131f_row3_col1\" class=\"data row3 col1\" >0.463415</td>\n",
       "      <td id=\"T_6131f_row3_col2\" class=\"data row3 col2\" >0.604341</td>\n",
       "      <td id=\"T_6131f_row3_col3\" class=\"data row3 col3\" >0.487805</td>\n",
       "      <td id=\"T_6131f_row3_col4\" class=\"data row3 col4\" >0.731707</td>\n",
       "      <td id=\"T_6131f_row3_col5\" class=\"data row3 col5\" >0.024975</td>\n",
       "    </tr>\n",
       "    <tr>\n",
       "      <th id=\"T_6131f_level0_row4\" class=\"row_heading level0 row4\" >21</th>\n",
       "      <td id=\"T_6131f_row4_col0\" class=\"data row4 col0\" >22</td>\n",
       "      <td id=\"T_6131f_row4_col1\" class=\"data row4 col1\" >0.431818</td>\n",
       "      <td id=\"T_6131f_row4_col2\" class=\"data row4 col2\" >0.570955</td>\n",
       "      <td id=\"T_6131f_row4_col3\" class=\"data row4 col3\" >0.431818</td>\n",
       "      <td id=\"T_6131f_row4_col4\" class=\"data row4 col4\" >0.704545</td>\n",
       "      <td id=\"T_6131f_row4_col5\" class=\"data row4 col5\" >0.036963</td>\n",
       "    </tr>\n",
       "    <tr>\n",
       "      <th id=\"T_6131f_level0_row5\" class=\"row_heading level0 row5\" >77</th>\n",
       "      <td id=\"T_6131f_row5_col0\" class=\"data row5 col0\" >78</td>\n",
       "      <td id=\"T_6131f_row5_col1\" class=\"data row5 col1\" >0.431818</td>\n",
       "      <td id=\"T_6131f_row5_col2\" class=\"data row5 col2\" >0.582636</td>\n",
       "      <td id=\"T_6131f_row5_col3\" class=\"data row5 col3\" >0.431818</td>\n",
       "      <td id=\"T_6131f_row5_col4\" class=\"data row5 col4\" >0.704545</td>\n",
       "      <td id=\"T_6131f_row5_col5\" class=\"data row5 col5\" >0.029970</td>\n",
       "    </tr>\n",
       "    <tr>\n",
       "      <th id=\"T_6131f_level0_row6\" class=\"row_heading level0 row6\" >4</th>\n",
       "      <td id=\"T_6131f_row6_col0\" class=\"data row6 col0\" >5</td>\n",
       "      <td id=\"T_6131f_row6_col1\" class=\"data row6 col1\" >0.418605</td>\n",
       "      <td id=\"T_6131f_row6_col2\" class=\"data row6 col2\" >0.541465</td>\n",
       "      <td id=\"T_6131f_row6_col3\" class=\"data row6 col3\" >0.418605</td>\n",
       "      <td id=\"T_6131f_row6_col4\" class=\"data row6 col4\" >0.674419</td>\n",
       "      <td id=\"T_6131f_row6_col5\" class=\"data row6 col5\" >0.048951</td>\n",
       "    </tr>\n",
       "    <tr>\n",
       "      <th id=\"T_6131f_level0_row7\" class=\"row_heading level0 row7\" >65</th>\n",
       "      <td id=\"T_6131f_row7_col0\" class=\"data row7 col0\" >66</td>\n",
       "      <td id=\"T_6131f_row7_col1\" class=\"data row7 col1\" >0.377778</td>\n",
       "      <td id=\"T_6131f_row7_col2\" class=\"data row7 col2\" >0.546622</td>\n",
       "      <td id=\"T_6131f_row7_col3\" class=\"data row7 col3\" >0.422222</td>\n",
       "      <td id=\"T_6131f_row7_col4\" class=\"data row7 col4\" >0.688889</td>\n",
       "      <td id=\"T_6131f_row7_col5\" class=\"data row7 col5\" >0.009990</td>\n",
       "    </tr>\n",
       "    <tr>\n",
       "      <th id=\"T_6131f_level0_row8\" class=\"row_heading level0 row8\" >64</th>\n",
       "      <td id=\"T_6131f_row8_col0\" class=\"data row8 col0\" >65</td>\n",
       "      <td id=\"T_6131f_row8_col1\" class=\"data row8 col1\" >0.372093</td>\n",
       "      <td id=\"T_6131f_row8_col2\" class=\"data row8 col2\" >0.500930</td>\n",
       "      <td id=\"T_6131f_row8_col3\" class=\"data row8 col3\" >0.372093</td>\n",
       "      <td id=\"T_6131f_row8_col4\" class=\"data row8 col4\" >0.627907</td>\n",
       "      <td id=\"T_6131f_row8_col5\" class=\"data row8 col5\" >0.035964</td>\n",
       "    </tr>\n",
       "  </tbody>\n",
       "</table>\n"
      ],
      "text/plain": [
       "<pandas.io.formats.style.Styler at 0x12d34a990>"
      ]
     },
     "execution_count": 37,
     "metadata": {},
     "output_type": "execute_result"
    }
   ],
   "source": [
    "styled_df = empirical_null_covariate_test.query(\"p_value < 0.05\").sort_values(\"observed_failure_rate\", ascending=False)\n",
    "\n",
    "# Highlight rows based on observed vs expected failure rate\n",
    "def highlight_row(row):\n",
    "    color = 'background-color: red' if row['observed_failure_rate'] > row['expected_mean'] else 'background-color: green'\n",
    "    return [color] * len(row)\n",
    "empirical_null_styled_df = styled_df.style.apply(highlight_row, axis=1)\n",
    "\n",
    "bad_providers = empirical_null_covariate_test.query(\"observed_failure_rate > expected_mean & p_value < 0.05\").index.tolist()\n",
    "print(f\"Providers with observed failure rate greater than expected mean: {bad_providers}\")\n",
    "empirical_null_styled_df"
   ]
  },
  {
   "cell_type": "markdown",
   "id": "29b185f9",
   "metadata": {},
   "source": [
    "#### Results and interpretation of Empirical Null Analysis : \n",
    "- Most providers who deviate significantly from the expected failure rate actually have reduced failure rates, suggesting these providers are performing better than expected given their patients' gender and health risk assesment\n",
    "- This makes sense in the context of our previous model in which we determined no provider had a large effect on probability of failing outcome especially when compared to health risk assesment "
   ]
  },
  {
   "cell_type": "markdown",
   "id": "a09ebfbb",
   "metadata": {},
   "source": [
    "## Recommendation on reaching out to providers : \n",
    "- Given the results of both the heirarchical model and the empirical null comparison I would say there is no data at the moment to suggest most of these providers have reduced clinical efficacy. The two prospects the company may want to consider reaching out to would be provider 57 and 48 who performed significantly worse than expected compared to the covariate adjusted null. "
   ]
  },
  {
   "cell_type": "markdown",
   "id": "f7ccdf73",
   "metadata": {},
   "source": [
    "# What data could we use to improve our recommendations? How would that chance our analysis? \n",
    "2. What other data would be helpful in understanding which doctors to reach out to? What other\n",
    "data would help you evaluate the overall clinical effectiveness of the doctor? How would you use\n",
    "this data?\n",
    "\n",
    "#### Other data we would want access to \n",
    " - Zip code \n",
    "    - SDOH have been found to be very impactful on health outcomes, Zip code can be mapped to an ADI which would give insight into the socioeconomic status of different patients \n",
    "- Treatment location\n",
    "    - where are individuals recieving these treatments? Where are these physicians practicing? If care begins in an emergent situation rather than through a proactive or preventative visit that may also give some insight into the acuity of the conditions beyond their general health assesment \n",
    "- Time/Date of Event or Last Followup \n",
    "    - In the analyses above we made the assumption that individuals with no failure were healthy despite these values being NA in the original data cut. There is a chance these individuals just havent experienced the event yet. If we knew the dates of the events and the time since the last follow for individuals we dont have event data for we can investigate whether or not provider has an effect on the time to event, especially of interest if this is a chronic condition. \n",
    "- Disease duration\n",
    "    - If certain physicians focus on certain disease stages there might be a bias in the data (ie. If patients are more progressed in their disease they may be more likely to have a failure so if a physcians exclusively sees more progressed patients their failure rates may be inflated)\n",
    "- Medications/Therapeutics \n",
    "    - We have no insight into how the physicians are managing this disease condition; it might be that patients are electing for different treatments which is affecting their outcomes. "
   ]
  },
  {
   "cell_type": "markdown",
   "id": "0907d493",
   "metadata": {},
   "source": [
    "#### Ex. of advatageous data : Synthesizing Follow up/Event times\n",
    "\n",
    "- Synthesizing time to event and followup timestampts to explore how this information might change our analysis if we had access to it"
   ]
  },
  {
   "cell_type": "code",
   "execution_count": 38,
   "id": "31408bf5",
   "metadata": {},
   "outputs": [
    {
     "name": "stderr",
     "output_type": "stream",
     "text": [
      "/Users/ashley/Documents/CloverHealth_AshleyLutz/utils.py:45: UserWarning:\n",
      "\n",
      "Could not infer format, so each element will be parsed individually, falling back to `dateutil`. To ensure parsing is consistent and as-expected, please specify a format.\n",
      "\n"
     ]
    }
   ],
   "source": [
    "data_time_synth = generate_later_timestamp_column(data, \"treatment_date\", new_col='followup_date', min_days=30, max_days=360, seed=None)"
   ]
  },
  {
   "cell_type": "code",
   "execution_count": 39,
   "id": "ec24160e",
   "metadata": {},
   "outputs": [
    {
     "name": "stderr",
     "output_type": "stream",
     "text": [
      "Initializing NUTS using jitter+adapt_diag...\n",
      "Multiprocess sampling (4 chains in 4 jobs)\n",
      "NUTS: [log_h0, beta, sigma_provider, provider_offset]\n"
     ]
    },
    {
     "data": {
      "application/vnd.jupyter.widget-view+json": {
       "model_id": "ec0aeff5a1ec472287243a167a4762df",
       "version_major": 2,
       "version_minor": 0
      },
      "text/plain": [
       "Output()"
      ]
     },
     "metadata": {},
     "output_type": "display_data"
    },
    {
     "data": {
      "text/html": [
       "<pre style=\"white-space:pre;overflow-x:auto;line-height:normal;font-family:Menlo,'DejaVu Sans Mono',consolas,'Courier New',monospace\"></pre>\n"
      ],
      "text/plain": []
     },
     "metadata": {},
     "output_type": "display_data"
    },
    {
     "name": "stderr",
     "output_type": "stream",
     "text": [
      "Sampling 4 chains for 1_000 tune and 1_000 draw iterations (4_000 + 4_000 draws total) took 4 seconds.\n"
     ]
    }
   ],
   "source": [
    "coxmodel, coxdata, provider_names = bayesian_cox_model(data_time_synth, \"treatment_date\",\"followup_date\", \"outcome\", \"servicing_provider_id\", covariates=['member_sex', 'health_risk_assesment'])"
   ]
  },
  {
   "cell_type": "code",
   "execution_count": 40,
   "id": "f084ac8c",
   "metadata": {},
   "outputs": [
    {
     "data": {
      "image/png": "[encoded data removed]",
      "text/plain": [
       "<Figure size 1000x3180 with 1 Axes>"
      ]
     },
     "metadata": {},
     "output_type": "display_data"
    },
    {
     "data": {
      "image/png": "[encoded data removed]",
      "text/plain": [
       "<Figure size 800x320 with 1 Axes>"
      ]
     },
     "metadata": {},
     "output_type": "display_data"
    }
   ],
   "source": [
    "plot_bayesian_cox_effects(coxdata, provider_names, [\"member_sex\", \"healthcare_risk_assesment\"], hdi_prob=0.95)"
   ]
  },
  {
   "cell_type": "markdown",
   "id": "f3e8feae",
   "metadata": {},
   "source": [
    "#### Results and Interpretation : \n",
    "- Simulating follow up time and event times we can see how we could assess the provider effect with regard to time to event which would allow us to answer the question do providers have an effect of the time to failure or event"
   ]
  },
  {
   "cell_type": "code",
   "execution_count": null,
   "id": "737af4da",
   "metadata": {},
   "outputs": [],
   "source": []
  }
 ],
 "metadata": {
  "kernelspec": {
   "display_name": "Python 3",
   "language": "python",
   "name": "python3"
  },
  "language_info": {
   "codemirror_mode": {
    "name": "ipython",
    "version": 3
   },
   "file_extension": ".py",
   "mimetype": "text/x-python",
   "name": "python",
   "nbconvert_exporter": "python",
   "pygments_lexer": "ipython3",
   "version": "3.13.5"
  }
 },
 "nbformat": 4,
 "nbformat_minor": 5
}
