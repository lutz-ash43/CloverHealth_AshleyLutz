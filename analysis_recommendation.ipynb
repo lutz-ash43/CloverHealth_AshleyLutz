{
 "cells": [
  {
   "cell_type": "code",
   "execution_count": 1,
   "id": "f130cfa2",
   "metadata": {},
   "outputs": [],
   "source": [
    "# Standard library\n",
    "import numpy as np\n",
    "import pandas as pd\n",
    "import random\n",
    "import os\n",
    "\n",
    "# Visualization libraries\n",
    "import matplotlib.pyplot as plt\n",
    "import plotly.express as px\n",
    "import seaborn as sns\n",
    "import plotly.io as pio\n",
    "from IPython.display import Image\n",
    "\n",
    "# Custom modules\n",
    "from empirical_null import empirical_null_provider_failures, bootstrap_stability_check\n",
    "from hierarchical_bayes import fit_hierarchical_logistic_model, plot_bayesian_coefficients\n",
    "from survival_analysis import bayesian_cox_model, plot_bayesian_cox_effects\n",
    "from utils import calculate_vif, generate_later_timestamp_column, plot_outcome_by_physician_hra, compare_covariate_distributions_by_provider_quality, plot_failure_rates, cauchy_pvalue_combination\n",
    "\n",
    "import warnings\n",
    "warnings.filterwarnings('ignore')\n",
    "random.seed(54)  # For reproducibility\n",
    "\n",
    "output_dir = \"plots\"\n",
    "os.makedirs(output_dir, exist_ok=True)\n"
   ]
  },
  {
   "cell_type": "markdown",
   "id": "c3cc52f9",
   "metadata": {},
   "source": [
    "# Clover Health Technical \n",
    "### Overall Goal: Using data provided, qualify/quantify doctor's efficacy with respect to a certain medical condition to provide data-driven guidance on whether or not an insurance company considering adding physicians should have concerns about any/all individual physicians.\n",
    "\n",
    "1. If you were to only consider the provider's effectiveness with regard to this particular treatment, would you recommend reaching out to any of these doctors in particular? If so, which ones, and why?\n",
    "\n",
    "### Strategy:\n",
    "- Exploratory data analysis: understand if there is any bias or trends that may be affecting the data, i.e., do any physicians only treat certain types of patients in terms of covariates? Is there a time bias to patient outcomes? Are any other covariates highly associated with outcome? How many patients does each physician see? etc.\n",
    "- Evaluate effect of physician on outcome\n",
    "    - Assumptions:\n",
    "        - NaN in outcome is a positive result (lack of health failure)\n",
    "        - Size of data provided is equivalent to size of population (solutions are not optimized for scale)\n",
    "    - Method 1:\n",
    "        - Use a hierarchical Bayesian logistic regression to determine the probability that any given provider has an increased likelihood of a failure while accounting for covariates\n",
    "    - Method 2:  \n",
    "        - Use a covariate-adjusted empirical null to determine whether any providers have significantly different than expected failure rates while accounting for covariates\n",
    "\n"
   ]
  },
  {
   "cell_type": "markdown",
   "id": "c79ee3f0",
   "metadata": {},
   "source": [
    "#### Exploratory Data Analysis "
   ]
  },
  {
   "cell_type": "code",
   "execution_count": 2,
   "id": "ee300b65",
   "metadata": {},
   "outputs": [],
   "source": [
    "data = pd.read_csv(\"data/Product_Data.csv\")"
   ]
  },
  {
   "cell_type": "code",
   "execution_count": 3,
   "id": "8a45bcf3",
   "metadata": {},
   "outputs": [
    {
     "name": "stdout",
     "output_type": "stream",
     "text": [
      "number of unique provider ids : 96\n",
      "number of unique patient ids : 4247\n",
      "count\n",
      "1    96\n",
      "Name: count, dtype: int64\n",
      "outcome\n",
      "False    2413\n",
      "True     1834\n",
      "Name: count, dtype: int64\n",
      "outcome\n",
      "failure    2413\n",
      "Name: count, dtype: int64\n",
      "outcomes are ['failure' nan]\n",
      "outcome\n",
      "1    2413\n",
      "0    1834\n",
      "Name: count, dtype: int64\n",
      "number of patients with multiple outcomes: 0\n",
      "event_id\n",
      "1    4247\n",
      "Name: count, dtype: int64\n",
      "number of patients with multiple visits: 0\n",
      "servicing_provider_id\n",
      "1    4247\n",
      "Name: count, dtype: int64\n",
      "number of patients with multiple providers: 0\n"
     ]
    },
    {
     "data": {
      "text/plain": [
       "event_id  servicing_provider_id  servicing_provider_name  treatment_date  member_id  member_age  member_sex  health_risk_assesment  outcome\n",
       "False     False                  False                    False           False      False       False       False                  False      2413\n",
       "                                                                                                                                    True       1834\n",
       "Name: count, dtype: int64"
      ]
     },
     "execution_count": 3,
     "metadata": {},
     "output_type": "execute_result"
    }
   ],
   "source": [
    "# number of providers and number of patients \n",
    "print(f\"number of unique provider ids : {data.servicing_provider_id.nunique()}\")\n",
    "print(f\"number of unique patient ids : {data.member_id.nunique()}\")\n",
    "\n",
    "# we also have servicing name, how does this map to id \n",
    "print(data[[\"servicing_provider_id\", \"servicing_provider_name\"]].drop_duplicates().value_counts().value_counts())\n",
    "# looks like there is a one to one mapping for each servicing provider name and servicing provider id \n",
    "\n",
    "# lets understand patient results \n",
    "\n",
    "# are there any missing values \n",
    "print(data.outcome.isna().value_counts())\n",
    "# yes between 1/2-1/3 are missing outcomes \n",
    "\n",
    "# what are the nonmissing outcomes \n",
    "print(data.outcome.value_counts())\n",
    "print(f\"outcomes are {data.outcome.unique()}\")\n",
    "# so we come to our first assumption; Na's in outcome are successes (only alternative is failure)\n",
    "# in which case we can either take a comparartive approach or a survival approach if we interpret this as no followup\n",
    "\n",
    "# is there only 2 outcome per patient? \n",
    "print(data.groupby(\"member_id\").outcome.nunique().value_counts() )\n",
    "print(f\"number of patients with multiple outcomes: {data.groupby('member_id').outcome.nunique().value_counts().get(2, 0)}\")\n",
    "\n",
    "# how many visits per patient\n",
    "print(data.groupby(\"member_id\").event_id.nunique().value_counts())\n",
    "print(f\"number of patients with multiple visits: {data.groupby('member_id').event_id.nunique().value_counts().get(2, 0)}\")\n",
    "# okay so we have a single outcome per patient, and a single visit per patient\n",
    "\n",
    "print(data.groupby(\"member_id\").servicing_provider_id.nunique().value_counts())\n",
    "print(f\"number of patients with multiple providers: {data.groupby('member_id').servicing_provider_id.nunique().value_counts().get(2, 0)}\")\n",
    "# all patients only see 1 provider \n",
    "\n",
    "# lets just check for NA's \n",
    "data.isna().value_counts()\n",
    "# outcome is the only column with NA's"
   ]
  },
  {
   "cell_type": "code",
   "execution_count": 4,
   "id": "a4a387d7",
   "metadata": {},
   "outputs": [
    {
     "name": "stdout",
     "output_type": "stream",
     "text": [
      "providers have on average 44.24 patients, with a std of 6.36\n"
     ]
    },
    {
     "data": {
      "application/vnd.plotly.v1+json": {
       "config": {
        "plotlyServerURL": "https://plot.ly"
       },
       "data": [
        {
         "bingroup": "x",
         "hovertemplate": "variable=member_id<br>value=%{x}<br>count=%{y}<extra></extra>",
         "legendgroup": "member_id",
         "marker": {
          "color": "#636efa",
          "pattern": {
           "shape": ""
          }
         },
         "name": "member_id",
         "orientation": "v",
         "showlegend": true,
         "type": "histogram",
         "x": {
          "bdata": "LiorJis0JjAkIS0vMBwvLjA6LCQ2LDEqLDEvMSsqKSguLC8jLz04JCgaMTQvMC8sLjArKywoKDEvLyIrJCQwMCstPDklNC0pMS8pLCgsLysqKysvIh4kKyw1JyksNygz",
          "dtype": "i1"
         },
         "xaxis": "x",
         "yaxis": "y"
        }
       ],
       "layout": {
        "annotations": [
         {
          "showarrow": false,
          "text": "Mean",
          "x": 44.239583333333336,
          "xanchor": "right",
          "xref": "x",
          "y": 1,
          "yanchor": "top",
          "yref": "y domain"
         }
        ],
        "barmode": "relative",
        "legend": {
         "title": {
          "text": "variable"
         },
         "tracegroupgap": 0
        },
        "shapes": [
         {
          "line": {
           "color": "red",
           "dash": "dash"
          },
          "type": "line",
          "x0": 44.239583333333336,
          "x1": 44.239583333333336,
          "xref": "x",
          "y0": 0,
          "y1": 1,
          "yref": "y domain"
         }
        ],
        "template": {
         "data": {
          "bar": [
           {
            "error_x": {
             "color": "#2a3f5f"
            },
            "error_y": {
             "color": "#2a3f5f"
            },
            "marker": {
             "line": {
              "color": "#E5ECF6",
              "width": 0.5
             },
             "pattern": {
              "fillmode": "overlay",
              "size": 10,
              "solidity": 0.2
             }
            },
            "type": "bar"
           }
          ],
          "barpolar": [
           {
            "marker": {
             "line": {
              "color": "#E5ECF6",
              "width": 0.5
             },
             "pattern": {
              "fillmode": "overlay",
              "size": 10,
              "solidity": 0.2
             }
            },
            "type": "barpolar"
           }
          ],
          "carpet": [
           {
            "aaxis": {
             "endlinecolor": "#2a3f5f",
             "gridcolor": "white",
             "linecolor": "white",
             "minorgridcolor": "white",
             "startlinecolor": "#2a3f5f"
            },
            "baxis": {
             "endlinecolor": "#2a3f5f",
             "gridcolor": "white",
             "linecolor": "white",
             "minorgridcolor": "white",
             "startlinecolor": "#2a3f5f"
            },
            "type": "carpet"
           }
          ],
          "choropleth": [
           {
            "colorbar": {
             "outlinewidth": 0,
             "ticks": ""
            },
            "type": "choropleth"
           }
          ],
          "contour": [
           {
            "colorbar": {
             "outlinewidth": 0,
             "ticks": ""
            },
            "colorscale": [
             [
              0,
              "#0d0887"
             ],
             [
              0.1111111111111111,
              "#46039f"
             ],
             [
              0.2222222222222222,
              "#7201a8"
             ],
             [
              0.3333333333333333,
              "#9c179e"
             ],
             [
              0.4444444444444444,
              "#bd3786"
             ],
             [
              0.5555555555555556,
              "#d8576b"
             ],
             [
              0.6666666666666666,
              "#ed7953"
             ],
             [
              0.7777777777777778,
              "#fb9f3a"
             ],
             [
              0.8888888888888888,
              "#fdca26"
             ],
             [
              1,
              "#f0f921"
             ]
            ],
            "type": "contour"
           }
          ],
          "contourcarpet": [
           {
            "colorbar": {
             "outlinewidth": 0,
             "ticks": ""
            },
            "type": "contourcarpet"
           }
          ],
          "heatmap": [
           {
            "colorbar": {
             "outlinewidth": 0,
             "ticks": ""
            },
            "colorscale": [
             [
              0,
              "#0d0887"
             ],
             [
              0.1111111111111111,
              "#46039f"
             ],
             [
              0.2222222222222222,
              "#7201a8"
             ],
             [
              0.3333333333333333,
              "#9c179e"
             ],
             [
              0.4444444444444444,
              "#bd3786"
             ],
             [
              0.5555555555555556,
              "#d8576b"
             ],
             [
              0.6666666666666666,
              "#ed7953"
             ],
             [
              0.7777777777777778,
              "#fb9f3a"
             ],
             [
              0.8888888888888888,
              "#fdca26"
             ],
             [
              1,
              "#f0f921"
             ]
            ],
            "type": "heatmap"
           }
          ],
          "histogram": [
           {
            "marker": {
             "pattern": {
              "fillmode": "overlay",
              "size": 10,
              "solidity": 0.2
             }
            },
            "type": "histogram"
           }
          ],
          "histogram2d": [
           {
            "colorbar": {
             "outlinewidth": 0,
             "ticks": ""
            },
            "colorscale": [
             [
              0,
              "#0d0887"
             ],
             [
              0.1111111111111111,
              "#46039f"
             ],
             [
              0.2222222222222222,
              "#7201a8"
             ],
             [
              0.3333333333333333,
              "#9c179e"
             ],
             [
              0.4444444444444444,
              "#bd3786"
             ],
             [
              0.5555555555555556,
              "#d8576b"
             ],
             [
              0.6666666666666666,
              "#ed7953"
             ],
             [
              0.7777777777777778,
              "#fb9f3a"
             ],
             [
              0.8888888888888888,
              "#fdca26"
             ],
             [
              1,
              "#f0f921"
             ]
            ],
            "type": "histogram2d"
           }
          ],
          "histogram2dcontour": [
           {
            "colorbar": {
             "outlinewidth": 0,
             "ticks": ""
            },
            "colorscale": [
             [
              0,
              "#0d0887"
             ],
             [
              0.1111111111111111,
              "#46039f"
             ],
             [
              0.2222222222222222,
              "#7201a8"
             ],
             [
              0.3333333333333333,
              "#9c179e"
             ],
             [
              0.4444444444444444,
              "#bd3786"
             ],
             [
              0.5555555555555556,
              "#d8576b"
             ],
             [
              0.6666666666666666,
              "#ed7953"
             ],
             [
              0.7777777777777778,
              "#fb9f3a"
             ],
             [
              0.8888888888888888,
              "#fdca26"
             ],
             [
              1,
              "#f0f921"
             ]
            ],
            "type": "histogram2dcontour"
           }
          ],
          "mesh3d": [
           {
            "colorbar": {
             "outlinewidth": 0,
             "ticks": ""
            },
            "type": "mesh3d"
           }
          ],
          "parcoords": [
           {
            "line": {
             "colorbar": {
              "outlinewidth": 0,
              "ticks": ""
             }
            },
            "type": "parcoords"
           }
          ],
          "pie": [
           {
            "automargin": true,
            "type": "pie"
           }
          ],
          "scatter": [
           {
            "fillpattern": {
             "fillmode": "overlay",
             "size": 10,
             "solidity": 0.2
            },
            "type": "scatter"
           }
          ],
          "scatter3d": [
           {
            "line": {
             "colorbar": {
              "outlinewidth": 0,
              "ticks": ""
             }
            },
            "marker": {
             "colorbar": {
              "outlinewidth": 0,
              "ticks": ""
             }
            },
            "type": "scatter3d"
           }
          ],
          "scattercarpet": [
           {
            "marker": {
             "colorbar": {
              "outlinewidth": 0,
              "ticks": ""
             }
            },
            "type": "scattercarpet"
           }
          ],
          "scattergeo": [
           {
            "marker": {
             "colorbar": {
              "outlinewidth": 0,
              "ticks": ""
             }
            },
            "type": "scattergeo"
           }
          ],
          "scattergl": [
           {
            "marker": {
             "colorbar": {
              "outlinewidth": 0,
              "ticks": ""
             }
            },
            "type": "scattergl"
           }
          ],
          "scattermap": [
           {
            "marker": {
             "colorbar": {
              "outlinewidth": 0,
              "ticks": ""
             }
            },
            "type": "scattermap"
           }
          ],
          "scattermapbox": [
           {
            "marker": {
             "colorbar": {
              "outlinewidth": 0,
              "ticks": ""
             }
            },
            "type": "scattermapbox"
           }
          ],
          "scatterpolar": [
           {
            "marker": {
             "colorbar": {
              "outlinewidth": 0,
              "ticks": ""
             }
            },
            "type": "scatterpolar"
           }
          ],
          "scatterpolargl": [
           {
            "marker": {
             "colorbar": {
              "outlinewidth": 0,
              "ticks": ""
             }
            },
            "type": "scatterpolargl"
           }
          ],
          "scatterternary": [
           {
            "marker": {
             "colorbar": {
              "outlinewidth": 0,
              "ticks": ""
             }
            },
            "type": "scatterternary"
           }
          ],
          "surface": [
           {
            "colorbar": {
             "outlinewidth": 0,
             "ticks": ""
            },
            "colorscale": [
             [
              0,
              "#0d0887"
             ],
             [
              0.1111111111111111,
              "#46039f"
             ],
             [
              0.2222222222222222,
              "#7201a8"
             ],
             [
              0.3333333333333333,
              "#9c179e"
             ],
             [
              0.4444444444444444,
              "#bd3786"
             ],
             [
              0.5555555555555556,
              "#d8576b"
             ],
             [
              0.6666666666666666,
              "#ed7953"
             ],
             [
              0.7777777777777778,
              "#fb9f3a"
             ],
             [
              0.8888888888888888,
              "#fdca26"
             ],
             [
              1,
              "#f0f921"
             ]
            ],
            "type": "surface"
           }
          ],
          "table": [
           {
            "cells": {
             "fill": {
              "color": "#EBF0F8"
             },
             "line": {
              "color": "white"
             }
            },
            "header": {
             "fill": {
              "color": "#C8D4E3"
             },
             "line": {
              "color": "white"
             }
            },
            "type": "table"
           }
          ]
         },
         "layout": {
          "annotationdefaults": {
           "arrowcolor": "#2a3f5f",
           "arrowhead": 0,
           "arrowwidth": 1
          },
          "autotypenumbers": "strict",
          "coloraxis": {
           "colorbar": {
            "outlinewidth": 0,
            "ticks": ""
           }
          },
          "colorscale": {
           "diverging": [
            [
             0,
             "#8e0152"
            ],
            [
             0.1,
             "#c51b7d"
            ],
            [
             0.2,
             "#de77ae"
            ],
            [
             0.3,
             "#f1b6da"
            ],
            [
             0.4,
             "#fde0ef"
            ],
            [
             0.5,
             "#f7f7f7"
            ],
            [
             0.6,
             "#e6f5d0"
            ],
            [
             0.7,
             "#b8e186"
            ],
            [
             0.8,
             "#7fbc41"
            ],
            [
             0.9,
             "#4d9221"
            ],
            [
             1,
             "#276419"
            ]
           ],
           "sequential": [
            [
             0,
             "#0d0887"
            ],
            [
             0.1111111111111111,
             "#46039f"
            ],
            [
             0.2222222222222222,
             "#7201a8"
            ],
            [
             0.3333333333333333,
             "#9c179e"
            ],
            [
             0.4444444444444444,
             "#bd3786"
            ],
            [
             0.5555555555555556,
             "#d8576b"
            ],
            [
             0.6666666666666666,
             "#ed7953"
            ],
            [
             0.7777777777777778,
             "#fb9f3a"
            ],
            [
             0.8888888888888888,
             "#fdca26"
            ],
            [
             1,
             "#f0f921"
            ]
           ],
           "sequentialminus": [
            [
             0,
             "#0d0887"
            ],
            [
             0.1111111111111111,
             "#46039f"
            ],
            [
             0.2222222222222222,
             "#7201a8"
            ],
            [
             0.3333333333333333,
             "#9c179e"
            ],
            [
             0.4444444444444444,
             "#bd3786"
            ],
            [
             0.5555555555555556,
             "#d8576b"
            ],
            [
             0.6666666666666666,
             "#ed7953"
            ],
            [
             0.7777777777777778,
             "#fb9f3a"
            ],
            [
             0.8888888888888888,
             "#fdca26"
            ],
            [
             1,
             "#f0f921"
            ]
           ]
          },
          "colorway": [
           "#636efa",
           "#EF553B",
           "#00cc96",
           "#ab63fa",
           "#FFA15A",
           "#19d3f3",
           "#FF6692",
           "#B6E880",
           "#FF97FF",
           "#FECB52"
          ],
          "font": {
           "color": "#2a3f5f"
          },
          "geo": {
           "bgcolor": "white",
           "lakecolor": "white",
           "landcolor": "#E5ECF6",
           "showlakes": true,
           "showland": true,
           "subunitcolor": "white"
          },
          "hoverlabel": {
           "align": "left"
          },
          "hovermode": "closest",
          "mapbox": {
           "style": "light"
          },
          "paper_bgcolor": "white",
          "plot_bgcolor": "#E5ECF6",
          "polar": {
           "angularaxis": {
            "gridcolor": "white",
            "linecolor": "white",
            "ticks": ""
           },
           "bgcolor": "#E5ECF6",
           "radialaxis": {
            "gridcolor": "white",
            "linecolor": "white",
            "ticks": ""
           }
          },
          "scene": {
           "xaxis": {
            "backgroundcolor": "#E5ECF6",
            "gridcolor": "white",
            "gridwidth": 2,
            "linecolor": "white",
            "showbackground": true,
            "ticks": "",
            "zerolinecolor": "white"
           },
           "yaxis": {
            "backgroundcolor": "#E5ECF6",
            "gridcolor": "white",
            "gridwidth": 2,
            "linecolor": "white",
            "showbackground": true,
            "ticks": "",
            "zerolinecolor": "white"
           },
           "zaxis": {
            "backgroundcolor": "#E5ECF6",
            "gridcolor": "white",
            "gridwidth": 2,
            "linecolor": "white",
            "showbackground": true,
            "ticks": "",
            "zerolinecolor": "white"
           }
          },
          "shapedefaults": {
           "line": {
            "color": "#2a3f5f"
           }
          },
          "ternary": {
           "aaxis": {
            "gridcolor": "white",
            "linecolor": "white",
            "ticks": ""
           },
           "baxis": {
            "gridcolor": "white",
            "linecolor": "white",
            "ticks": ""
           },
           "bgcolor": "#E5ECF6",
           "caxis": {
            "gridcolor": "white",
            "linecolor": "white",
            "ticks": ""
           }
          },
          "title": {
           "x": 0.05
          },
          "xaxis": {
           "automargin": true,
           "gridcolor": "white",
           "linecolor": "white",
           "ticks": "",
           "title": {
            "standoff": 15
           },
           "zerolinecolor": "white",
           "zerolinewidth": 2
          },
          "yaxis": {
           "automargin": true,
           "gridcolor": "white",
           "linecolor": "white",
           "ticks": "",
           "title": {
            "standoff": 15
           },
           "zerolinecolor": "white",
           "zerolinewidth": 2
          }
         }
        },
        "title": {
         "text": "Patients per Provider"
        },
        "xaxis": {
         "anchor": "y",
         "domain": [
          0,
          1
         ],
         "title": {
          "text": "value"
         }
        },
        "yaxis": {
         "anchor": "x",
         "domain": [
          0,
          1
         ],
         "title": {
          "text": "count"
         }
        }
       }
      }
     },
     "metadata": {},
     "output_type": "display_data"
    }
   ],
   "source": [
    "# what about how many patients each provider sees \n",
    "patientsxprovider = data.groupby(\"servicing_provider_id\").member_id.nunique()\n",
    "print(f\"providers have on average {patientsxprovider.mean():.2f} patients, with a std of {patientsxprovider.std():.2f}\")\n",
    "fig = px.histogram(patientsxprovider, title=\"Patients per Provider\")\n",
    "fig.add_vline(x=patientsxprovider.mean(), line_color=\"red\", line_dash=\"dash\", annotation_text=\"Mean\", annotation_position=\"top left\")\n",
    "fig.show()\n",
    "\n",
    "fig_path = os.path.join(output_dir, \"patientsxproviders.png\")\n",
    "pio.write_image(fig, fig_path)"
   ]
  },
  {
   "cell_type": "code",
   "execution_count": 5,
   "id": "0f8a93d0",
   "metadata": {},
   "outputs": [
    {
     "data": {
      "application/vnd.plotly.v1+json": {
       "config": {
        "plotlyServerURL": "https://plot.ly"
       },
       "data": [
        {
         "bingroup": "x",
         "hovertemplate": "variable=0<br>value=%{x}<br>count=%{y}<extra></extra>",
         "legendgroup": "0",
         "marker": {
          "color": "#636efa",
          "pattern": {
           "shape": ""
          }
         },
         "name": "0",
         "orientation": "v",
         "showlegend": true,
         "type": "histogram",
         "x": {
          "bdata": "IQtZyEIW4j9VVVVVVVXlP6esKWvKmuI/8xrKayiv4T+zpqwpa8raP2IndmInduI/bCivobyG4j+rqqqqqqrkP+Q4juM4juM/ZZNNNtlk4z8RERERERHhP0d9Z6O+s+E/VVVVVVVV4z/btm3btm3jP0d9Z6O+s+E/OL3pTW964z8AAAAAAADiPwnLPY2w3OM/6aKLLrro4j+O4ziO4zjmP9pLaC+hveQ/o4suuuii2z8/NNaHxvrgPwAAAAAAAOA/L7rooosu4j8/NNaHxvrgP89GfWejvuM/PzTWh8b64D+nrClrypriP/Q8z/M8z+M/uxK1K1G74j/NzMzMzMzgPzi96U1veuM/dNFFF1104T/UdzbqOxvlPzMzMzMzM+M/xOQKYnIF4T8uGYJ1tHnfP5IkSZIkSeY/chzHcRzH4T+amZmZmZnhP7ETO7ETO+E/FbycgpdT4D/sxE7sxE7kP31no76zUd8/VVVVVVVV4z9BTK4gJlfgP4wuuuiii+Y/OL3pTW964z9VVVVVVVXhP3fEHXFH3OE/d8QdcUfc4T+jiy666KLjP2ZmZmZmZuI/MzMzMzMz4z8QjfWhsT7kP11BTK4gJuc/TK4gJlcQ4z8AAAAAAADgP0fcEXfEHeE/5DiO4ziO4z8cx3Ecx3HkPwAAAAAAAOI/q6qqqqqq3j/0BX1BX9DXP9iCLdiCLdg/MzMzMzMz4z9jOovpLKbjP+sGU+SzbuA/xU7sxE7s5D9yHMdxHMfhP2RwPgbnY+A/aKwPjfWh4T9S39mo72zkP4PzMTgfg+M/XXTRRRdd5D8AAAAAAADgP6OLLrroots/Z6O+s1Hf2T9H3BF3xB3hP5IkSZIkSeI/d8QdcUfc4T82ZU1ZU9bkP23UdzbqO9s/09LS0tLS4j8iIiIiIiLiP3Icx3Ecx+E/d8QdcUfc4T+jiy666KLbP29ln0NqguE/NUiDNEiD5D+pXYnalajdP4wuuuiii+Y/h7VvWPuG5T8zMzMzMzPjP19fX19fX98/",
          "dtype": "f8"
         },
         "xaxis": "x",
         "yaxis": "y"
        }
       ],
       "layout": {
        "barmode": "relative",
        "legend": {
         "title": {
          "text": "variable"
         },
         "tracegroupgap": 0
        },
        "margin": {
         "t": 60
        },
        "template": {
         "data": {
          "bar": [
           {
            "error_x": {
             "color": "#2a3f5f"
            },
            "error_y": {
             "color": "#2a3f5f"
            },
            "marker": {
             "line": {
              "color": "#E5ECF6",
              "width": 0.5
             },
             "pattern": {
              "fillmode": "overlay",
              "size": 10,
              "solidity": 0.2
             }
            },
            "type": "bar"
           }
          ],
          "barpolar": [
           {
            "marker": {
             "line": {
              "color": "#E5ECF6",
              "width": 0.5
             },
             "pattern": {
              "fillmode": "overlay",
              "size": 10,
              "solidity": 0.2
             }
            },
            "type": "barpolar"
           }
          ],
          "carpet": [
           {
            "aaxis": {
             "endlinecolor": "#2a3f5f",
             "gridcolor": "white",
             "linecolor": "white",
             "minorgridcolor": "white",
             "startlinecolor": "#2a3f5f"
            },
            "baxis": {
             "endlinecolor": "#2a3f5f",
             "gridcolor": "white",
             "linecolor": "white",
             "minorgridcolor": "white",
             "startlinecolor": "#2a3f5f"
            },
            "type": "carpet"
           }
          ],
          "choropleth": [
           {
            "colorbar": {
             "outlinewidth": 0,
             "ticks": ""
            },
            "type": "choropleth"
           }
          ],
          "contour": [
           {
            "colorbar": {
             "outlinewidth": 0,
             "ticks": ""
            },
            "colorscale": [
             [
              0,
              "#0d0887"
             ],
             [
              0.1111111111111111,
              "#46039f"
             ],
             [
              0.2222222222222222,
              "#7201a8"
             ],
             [
              0.3333333333333333,
              "#9c179e"
             ],
             [
              0.4444444444444444,
              "#bd3786"
             ],
             [
              0.5555555555555556,
              "#d8576b"
             ],
             [
              0.6666666666666666,
              "#ed7953"
             ],
             [
              0.7777777777777778,
              "#fb9f3a"
             ],
             [
              0.8888888888888888,
              "#fdca26"
             ],
             [
              1,
              "#f0f921"
             ]
            ],
            "type": "contour"
           }
          ],
          "contourcarpet": [
           {
            "colorbar": {
             "outlinewidth": 0,
             "ticks": ""
            },
            "type": "contourcarpet"
           }
          ],
          "heatmap": [
           {
            "colorbar": {
             "outlinewidth": 0,
             "ticks": ""
            },
            "colorscale": [
             [
              0,
              "#0d0887"
             ],
             [
              0.1111111111111111,
              "#46039f"
             ],
             [
              0.2222222222222222,
              "#7201a8"
             ],
             [
              0.3333333333333333,
              "#9c179e"
             ],
             [
              0.4444444444444444,
              "#bd3786"
             ],
             [
              0.5555555555555556,
              "#d8576b"
             ],
             [
              0.6666666666666666,
              "#ed7953"
             ],
             [
              0.7777777777777778,
              "#fb9f3a"
             ],
             [
              0.8888888888888888,
              "#fdca26"
             ],
             [
              1,
              "#f0f921"
             ]
            ],
            "type": "heatmap"
           }
          ],
          "histogram": [
           {
            "marker": {
             "pattern": {
              "fillmode": "overlay",
              "size": 10,
              "solidity": 0.2
             }
            },
            "type": "histogram"
           }
          ],
          "histogram2d": [
           {
            "colorbar": {
             "outlinewidth": 0,
             "ticks": ""
            },
            "colorscale": [
             [
              0,
              "#0d0887"
             ],
             [
              0.1111111111111111,
              "#46039f"
             ],
             [
              0.2222222222222222,
              "#7201a8"
             ],
             [
              0.3333333333333333,
              "#9c179e"
             ],
             [
              0.4444444444444444,
              "#bd3786"
             ],
             [
              0.5555555555555556,
              "#d8576b"
             ],
             [
              0.6666666666666666,
              "#ed7953"
             ],
             [
              0.7777777777777778,
              "#fb9f3a"
             ],
             [
              0.8888888888888888,
              "#fdca26"
             ],
             [
              1,
              "#f0f921"
             ]
            ],
            "type": "histogram2d"
           }
          ],
          "histogram2dcontour": [
           {
            "colorbar": {
             "outlinewidth": 0,
             "ticks": ""
            },
            "colorscale": [
             [
              0,
              "#0d0887"
             ],
             [
              0.1111111111111111,
              "#46039f"
             ],
             [
              0.2222222222222222,
              "#7201a8"
             ],
             [
              0.3333333333333333,
              "#9c179e"
             ],
             [
              0.4444444444444444,
              "#bd3786"
             ],
             [
              0.5555555555555556,
              "#d8576b"
             ],
             [
              0.6666666666666666,
              "#ed7953"
             ],
             [
              0.7777777777777778,
              "#fb9f3a"
             ],
             [
              0.8888888888888888,
              "#fdca26"
             ],
             [
              1,
              "#f0f921"
             ]
            ],
            "type": "histogram2dcontour"
           }
          ],
          "mesh3d": [
           {
            "colorbar": {
             "outlinewidth": 0,
             "ticks": ""
            },
            "type": "mesh3d"
           }
          ],
          "parcoords": [
           {
            "line": {
             "colorbar": {
              "outlinewidth": 0,
              "ticks": ""
             }
            },
            "type": "parcoords"
           }
          ],
          "pie": [
           {
            "automargin": true,
            "type": "pie"
           }
          ],
          "scatter": [
           {
            "fillpattern": {
             "fillmode": "overlay",
             "size": 10,
             "solidity": 0.2
            },
            "type": "scatter"
           }
          ],
          "scatter3d": [
           {
            "line": {
             "colorbar": {
              "outlinewidth": 0,
              "ticks": ""
             }
            },
            "marker": {
             "colorbar": {
              "outlinewidth": 0,
              "ticks": ""
             }
            },
            "type": "scatter3d"
           }
          ],
          "scattercarpet": [
           {
            "marker": {
             "colorbar": {
              "outlinewidth": 0,
              "ticks": ""
             }
            },
            "type": "scattercarpet"
           }
          ],
          "scattergeo": [
           {
            "marker": {
             "colorbar": {
              "outlinewidth": 0,
              "ticks": ""
             }
            },
            "type": "scattergeo"
           }
          ],
          "scattergl": [
           {
            "marker": {
             "colorbar": {
              "outlinewidth": 0,
              "ticks": ""
             }
            },
            "type": "scattergl"
           }
          ],
          "scattermap": [
           {
            "marker": {
             "colorbar": {
              "outlinewidth": 0,
              "ticks": ""
             }
            },
            "type": "scattermap"
           }
          ],
          "scattermapbox": [
           {
            "marker": {
             "colorbar": {
              "outlinewidth": 0,
              "ticks": ""
             }
            },
            "type": "scattermapbox"
           }
          ],
          "scatterpolar": [
           {
            "marker": {
             "colorbar": {
              "outlinewidth": 0,
              "ticks": ""
             }
            },
            "type": "scatterpolar"
           }
          ],
          "scatterpolargl": [
           {
            "marker": {
             "colorbar": {
              "outlinewidth": 0,
              "ticks": ""
             }
            },
            "type": "scatterpolargl"
           }
          ],
          "scatterternary": [
           {
            "marker": {
             "colorbar": {
              "outlinewidth": 0,
              "ticks": ""
             }
            },
            "type": "scatterternary"
           }
          ],
          "surface": [
           {
            "colorbar": {
             "outlinewidth": 0,
             "ticks": ""
            },
            "colorscale": [
             [
              0,
              "#0d0887"
             ],
             [
              0.1111111111111111,
              "#46039f"
             ],
             [
              0.2222222222222222,
              "#7201a8"
             ],
             [
              0.3333333333333333,
              "#9c179e"
             ],
             [
              0.4444444444444444,
              "#bd3786"
             ],
             [
              0.5555555555555556,
              "#d8576b"
             ],
             [
              0.6666666666666666,
              "#ed7953"
             ],
             [
              0.7777777777777778,
              "#fb9f3a"
             ],
             [
              0.8888888888888888,
              "#fdca26"
             ],
             [
              1,
              "#f0f921"
             ]
            ],
            "type": "surface"
           }
          ],
          "table": [
           {
            "cells": {
             "fill": {
              "color": "#EBF0F8"
             },
             "line": {
              "color": "white"
             }
            },
            "header": {
             "fill": {
              "color": "#C8D4E3"
             },
             "line": {
              "color": "white"
             }
            },
            "type": "table"
           }
          ]
         },
         "layout": {
          "annotationdefaults": {
           "arrowcolor": "#2a3f5f",
           "arrowhead": 0,
           "arrowwidth": 1
          },
          "autotypenumbers": "strict",
          "coloraxis": {
           "colorbar": {
            "outlinewidth": 0,
            "ticks": ""
           }
          },
          "colorscale": {
           "diverging": [
            [
             0,
             "#8e0152"
            ],
            [
             0.1,
             "#c51b7d"
            ],
            [
             0.2,
             "#de77ae"
            ],
            [
             0.3,
             "#f1b6da"
            ],
            [
             0.4,
             "#fde0ef"
            ],
            [
             0.5,
             "#f7f7f7"
            ],
            [
             0.6,
             "#e6f5d0"
            ],
            [
             0.7,
             "#b8e186"
            ],
            [
             0.8,
             "#7fbc41"
            ],
            [
             0.9,
             "#4d9221"
            ],
            [
             1,
             "#276419"
            ]
           ],
           "sequential": [
            [
             0,
             "#0d0887"
            ],
            [
             0.1111111111111111,
             "#46039f"
            ],
            [
             0.2222222222222222,
             "#7201a8"
            ],
            [
             0.3333333333333333,
             "#9c179e"
            ],
            [
             0.4444444444444444,
             "#bd3786"
            ],
            [
             0.5555555555555556,
             "#d8576b"
            ],
            [
             0.6666666666666666,
             "#ed7953"
            ],
            [
             0.7777777777777778,
             "#fb9f3a"
            ],
            [
             0.8888888888888888,
             "#fdca26"
            ],
            [
             1,
             "#f0f921"
            ]
           ],
           "sequentialminus": [
            [
             0,
             "#0d0887"
            ],
            [
             0.1111111111111111,
             "#46039f"
            ],
            [
             0.2222222222222222,
             "#7201a8"
            ],
            [
             0.3333333333333333,
             "#9c179e"
            ],
            [
             0.4444444444444444,
             "#bd3786"
            ],
            [
             0.5555555555555556,
             "#d8576b"
            ],
            [
             0.6666666666666666,
             "#ed7953"
            ],
            [
             0.7777777777777778,
             "#fb9f3a"
            ],
            [
             0.8888888888888888,
             "#fdca26"
            ],
            [
             1,
             "#f0f921"
            ]
           ]
          },
          "colorway": [
           "#636efa",
           "#EF553B",
           "#00cc96",
           "#ab63fa",
           "#FFA15A",
           "#19d3f3",
           "#FF6692",
           "#B6E880",
           "#FF97FF",
           "#FECB52"
          ],
          "font": {
           "color": "#2a3f5f"
          },
          "geo": {
           "bgcolor": "white",
           "lakecolor": "white",
           "landcolor": "#E5ECF6",
           "showlakes": true,
           "showland": true,
           "subunitcolor": "white"
          },
          "hoverlabel": {
           "align": "left"
          },
          "hovermode": "closest",
          "mapbox": {
           "style": "light"
          },
          "paper_bgcolor": "white",
          "plot_bgcolor": "#E5ECF6",
          "polar": {
           "angularaxis": {
            "gridcolor": "white",
            "linecolor": "white",
            "ticks": ""
           },
           "bgcolor": "#E5ECF6",
           "radialaxis": {
            "gridcolor": "white",
            "linecolor": "white",
            "ticks": ""
           }
          },
          "scene": {
           "xaxis": {
            "backgroundcolor": "#E5ECF6",
            "gridcolor": "white",
            "gridwidth": 2,
            "linecolor": "white",
            "showbackground": true,
            "ticks": "",
            "zerolinecolor": "white"
           },
           "yaxis": {
            "backgroundcolor": "#E5ECF6",
            "gridcolor": "white",
            "gridwidth": 2,
            "linecolor": "white",
            "showbackground": true,
            "ticks": "",
            "zerolinecolor": "white"
           },
           "zaxis": {
            "backgroundcolor": "#E5ECF6",
            "gridcolor": "white",
            "gridwidth": 2,
            "linecolor": "white",
            "showbackground": true,
            "ticks": "",
            "zerolinecolor": "white"
           }
          },
          "shapedefaults": {
           "line": {
            "color": "#2a3f5f"
           }
          },
          "ternary": {
           "aaxis": {
            "gridcolor": "white",
            "linecolor": "white",
            "ticks": ""
           },
           "baxis": {
            "gridcolor": "white",
            "linecolor": "white",
            "ticks": ""
           },
           "bgcolor": "#E5ECF6",
           "caxis": {
            "gridcolor": "white",
            "linecolor": "white",
            "ticks": ""
           }
          },
          "title": {
           "x": 0.05
          },
          "xaxis": {
           "automargin": true,
           "gridcolor": "white",
           "linecolor": "white",
           "ticks": "",
           "title": {
            "standoff": 15
           },
           "zerolinecolor": "white",
           "zerolinewidth": 2
          },
          "yaxis": {
           "automargin": true,
           "gridcolor": "white",
           "linecolor": "white",
           "ticks": "",
           "title": {
            "standoff": 15
           },
           "zerolinecolor": "white",
           "zerolinewidth": 2
          }
         }
        },
        "xaxis": {
         "anchor": "y",
         "domain": [
          0,
          1
         ],
         "title": {
          "text": "value"
         }
        },
        "yaxis": {
         "anchor": "x",
         "domain": [
          0,
          1
         ],
         "title": {
          "text": "count"
         }
        }
       }
      }
     },
     "metadata": {},
     "output_type": "display_data"
    }
   ],
   "source": [
    "# what about how many patients each provider sees \n",
    "outcomesxprovider = data.groupby(\"servicing_provider_id\").outcome.count()\n",
    "# lets look at this with respect to proportion of patients that fail\n",
    "outcomes_prop_xprovider = outcomesxprovider.values / patientsxprovider.values\n",
    "fig = px.histogram(outcomes_prop_xprovider)\n",
    "fig.show()\n",
    "# proportion of patients that fail is normally distributed, maybe slightly skewed left\n",
    "fig_path = os.path.join(output_dir, \"outcomesxprovider.png\")\n",
    "pio.write_image(fig, fig_path)"
   ]
  },
  {
   "cell_type": "code",
   "execution_count": 6,
   "id": "4e9973f3",
   "metadata": {},
   "outputs": [
    {
     "name": "stdout",
     "output_type": "stream",
     "text": [
      "health_risk_assesment\n",
      "9     62\n",
      "10    19\n",
      "8     14\n",
      "7      1\n",
      "Name: count, dtype: int64\n",
      "7 providers see patients with only 1 health risk assessment score, most providers see patients with several health risk assessment scores\n"
     ]
    }
   ],
   "source": [
    "# health risk assessment by provider \n",
    "hrasxprovider = data.groupby(\"servicing_provider_id\").health_risk_assesment.nunique()\n",
    "print(hrasxprovider.value_counts())\n",
    "print(\"7 providers see patients with only 1 health risk assessment score, most providers see patients with several health risk assessment scores\")"
   ]
  },
  {
   "cell_type": "code",
   "execution_count": 7,
   "id": "3ce0d736",
   "metadata": {},
   "outputs": [],
   "source": [
    "# ASSUMPTION 1 : NA in outcome is a success \n",
    "data_outcome_compare = data.copy()\n",
    "data_outcome_compare[\"outcome\"] = data.outcome.fillna(\"pass\")"
   ]
  },
  {
   "cell_type": "code",
   "execution_count": 8,
   "id": "c7f87374",
   "metadata": {},
   "outputs": [
    {
     "data": {
      "application/vnd.plotly.v1+json": {
       "config": {
        "plotlyServerURL": "https://plot.ly"
       },
       "data": [
        {
         "hovertemplate": "outcome=failure<br>treatment_date=%{x}<br>member_id=%{y}<extra></extra>",
         "legendgroup": "failure",
         "line": {
          "color": "#636efa",
          "dash": "solid"
         },
         "marker": {
          "symbol": "circle"
         },
         "mode": "lines+markers",
         "name": "failure",
         "orientation": "v",
         "showlegend": true,
         "type": "scatter",
         "x": [
          "2015-01-01T00:00:00",
          "2015-01-02T00:00:00",
          "2015-01-03T00:00:00",
          "2015-01-04T00:00:00",
          "2015-01-05T00:00:00",
          "2015-01-06T00:00:00",
          "2015-01-07T00:00:00",
          "2015-01-08T00:00:00",
          "2015-01-09T00:00:00",
          "2015-01-10T00:00:00",
          "2015-01-11T00:00:00",
          "2015-01-12T00:00:00",
          "2015-01-13T00:00:00",
          "2015-01-14T00:00:00",
          "2015-01-15T00:00:00",
          "2015-01-16T00:00:00",
          "2015-01-17T00:00:00",
          "2015-01-18T00:00:00",
          "2015-01-19T00:00:00",
          "2015-01-20T00:00:00",
          "2015-01-21T00:00:00",
          "2015-01-22T00:00:00",
          "2015-01-23T00:00:00",
          "2015-01-24T00:00:00",
          "2015-01-25T00:00:00",
          "2015-01-26T00:00:00",
          "2015-01-27T00:00:00",
          "2015-01-28T00:00:00",
          "2015-01-29T00:00:00",
          "2015-01-30T00:00:00",
          "2015-01-31T00:00:00",
          "2015-02-01T00:00:00",
          "2015-02-02T00:00:00",
          "2015-02-03T00:00:00",
          "2015-02-04T00:00:00",
          "2015-02-05T00:00:00",
          "2015-02-06T00:00:00",
          "2015-02-07T00:00:00",
          "2015-02-08T00:00:00",
          "2015-02-09T00:00:00",
          "2015-02-10T00:00:00",
          "2015-02-11T00:00:00",
          "2015-02-12T00:00:00",
          "2015-02-13T00:00:00",
          "2015-02-14T00:00:00",
          "2015-02-15T00:00:00",
          "2015-02-16T00:00:00",
          "2015-02-17T00:00:00",
          "2015-02-18T00:00:00",
          "2015-02-19T00:00:00",
          "2015-02-20T00:00:00",
          "2015-02-21T00:00:00",
          "2015-02-22T00:00:00",
          "2015-02-23T00:00:00",
          "2015-02-24T00:00:00",
          "2015-02-25T00:00:00",
          "2015-02-26T00:00:00",
          "2015-02-27T00:00:00",
          "2015-02-28T00:00:00",
          "2015-03-01T00:00:00",
          "2015-03-02T00:00:00",
          "2015-03-03T00:00:00",
          "2015-03-04T00:00:00",
          "2015-03-05T00:00:00",
          "2015-03-06T00:00:00",
          "2015-03-07T00:00:00",
          "2015-03-08T00:00:00",
          "2015-03-09T00:00:00",
          "2015-03-10T00:00:00",
          "2015-03-11T00:00:00",
          "2015-03-12T00:00:00",
          "2015-03-13T00:00:00",
          "2015-03-14T00:00:00",
          "2015-03-15T00:00:00",
          "2015-03-16T00:00:00",
          "2015-03-17T00:00:00",
          "2015-03-18T00:00:00",
          "2015-03-19T00:00:00",
          "2015-03-20T00:00:00",
          "2015-03-21T00:00:00",
          "2015-03-22T00:00:00",
          "2015-03-23T00:00:00",
          "2015-03-24T00:00:00",
          "2015-03-25T00:00:00",
          "2015-03-26T00:00:00",
          "2015-03-27T00:00:00",
          "2015-03-28T00:00:00",
          "2015-03-29T00:00:00",
          "2015-03-30T00:00:00",
          "2015-03-31T00:00:00",
          "2015-04-01T00:00:00",
          "2015-04-02T00:00:00",
          "2015-04-03T00:00:00",
          "2015-04-04T00:00:00",
          "2015-04-05T00:00:00",
          "2015-04-06T00:00:00",
          "2015-04-07T00:00:00",
          "2015-04-08T00:00:00",
          "2015-04-09T00:00:00",
          "2015-04-10T00:00:00",
          "2015-04-11T00:00:00",
          "2015-04-12T00:00:00",
          "2015-04-13T00:00:00",
          "2015-04-14T00:00:00",
          "2015-04-15T00:00:00",
          "2015-04-16T00:00:00",
          "2015-04-17T00:00:00",
          "2015-04-18T00:00:00",
          "2015-04-19T00:00:00",
          "2015-04-20T00:00:00",
          "2015-04-21T00:00:00",
          "2015-04-22T00:00:00",
          "2015-04-23T00:00:00",
          "2015-04-24T00:00:00",
          "2015-04-25T00:00:00",
          "2015-04-26T00:00:00",
          "2015-04-27T00:00:00",
          "2015-04-28T00:00:00",
          "2015-04-29T00:00:00",
          "2015-04-30T00:00:00",
          "2015-05-01T00:00:00",
          "2015-05-02T00:00:00",
          "2015-05-03T00:00:00",
          "2015-05-04T00:00:00",
          "2015-05-05T00:00:00",
          "2015-05-06T00:00:00",
          "2015-05-07T00:00:00",
          "2015-05-08T00:00:00",
          "2015-05-09T00:00:00",
          "2015-05-10T00:00:00",
          "2015-05-11T00:00:00",
          "2015-05-12T00:00:00",
          "2015-05-13T00:00:00",
          "2015-05-14T00:00:00",
          "2015-05-15T00:00:00",
          "2015-05-16T00:00:00",
          "2015-05-17T00:00:00",
          "2015-05-18T00:00:00",
          "2015-05-19T00:00:00",
          "2015-05-20T00:00:00",
          "2015-05-21T00:00:00",
          "2015-05-22T00:00:00",
          "2015-05-23T00:00:00",
          "2015-05-24T00:00:00",
          "2015-05-25T00:00:00",
          "2015-05-26T00:00:00",
          "2015-05-27T00:00:00",
          "2015-05-28T00:00:00",
          "2015-05-29T00:00:00",
          "2015-05-30T00:00:00",
          "2015-05-31T00:00:00",
          "2015-06-01T00:00:00",
          "2015-06-02T00:00:00",
          "2015-06-03T00:00:00",
          "2015-06-04T00:00:00",
          "2015-06-05T00:00:00",
          "2015-06-06T00:00:00",
          "2015-06-07T00:00:00",
          "2015-06-08T00:00:00",
          "2015-06-09T00:00:00",
          "2015-06-10T00:00:00",
          "2015-06-11T00:00:00",
          "2015-06-12T00:00:00",
          "2015-06-13T00:00:00",
          "2015-06-14T00:00:00",
          "2015-06-15T00:00:00",
          "2015-06-16T00:00:00",
          "2015-06-17T00:00:00",
          "2015-06-18T00:00:00",
          "2015-06-19T00:00:00",
          "2015-06-20T00:00:00",
          "2015-06-21T00:00:00",
          "2015-06-22T00:00:00",
          "2015-06-23T00:00:00",
          "2015-06-24T00:00:00",
          "2015-06-25T00:00:00",
          "2015-06-26T00:00:00",
          "2015-06-27T00:00:00",
          "2015-06-28T00:00:00",
          "2015-06-29T00:00:00",
          "2015-06-30T00:00:00",
          "2015-07-01T00:00:00",
          "2015-07-02T00:00:00",
          "2015-07-03T00:00:00",
          "2015-07-04T00:00:00",
          "2015-07-05T00:00:00",
          "2015-07-06T00:00:00",
          "2015-07-07T00:00:00",
          "2015-07-08T00:00:00",
          "2015-07-09T00:00:00",
          "2015-07-10T00:00:00",
          "2015-07-11T00:00:00",
          "2015-07-12T00:00:00",
          "2015-07-13T00:00:00",
          "2015-07-14T00:00:00",
          "2015-07-15T00:00:00",
          "2015-07-16T00:00:00",
          "2015-07-17T00:00:00",
          "2015-07-18T00:00:00",
          "2015-07-19T00:00:00",
          "2015-07-20T00:00:00",
          "2015-07-21T00:00:00",
          "2015-07-22T00:00:00",
          "2015-07-23T00:00:00",
          "2015-07-24T00:00:00",
          "2015-07-25T00:00:00",
          "2015-07-26T00:00:00",
          "2015-07-27T00:00:00",
          "2015-07-28T00:00:00",
          "2015-07-29T00:00:00",
          "2015-07-30T00:00:00",
          "2015-07-31T00:00:00",
          "2015-08-01T00:00:00",
          "2015-08-02T00:00:00",
          "2015-08-03T00:00:00",
          "2015-08-04T00:00:00",
          "2015-08-05T00:00:00",
          "2015-08-06T00:00:00",
          "2015-08-07T00:00:00",
          "2015-08-08T00:00:00",
          "2015-08-09T00:00:00",
          "2015-08-10T00:00:00",
          "2015-08-11T00:00:00",
          "2015-08-12T00:00:00",
          "2015-08-13T00:00:00",
          "2015-08-14T00:00:00",
          "2015-08-15T00:00:00",
          "2015-08-16T00:00:00",
          "2015-08-17T00:00:00",
          "2015-08-18T00:00:00",
          "2015-08-19T00:00:00",
          "2015-08-20T00:00:00",
          "2015-08-21T00:00:00",
          "2015-08-22T00:00:00",
          "2015-08-23T00:00:00",
          "2015-08-24T00:00:00",
          "2015-08-25T00:00:00",
          "2015-08-26T00:00:00",
          "2015-08-27T00:00:00",
          "2015-08-28T00:00:00",
          "2015-08-29T00:00:00",
          "2015-08-30T00:00:00",
          "2015-08-31T00:00:00",
          "2015-09-01T00:00:00",
          "2015-09-02T00:00:00",
          "2015-09-03T00:00:00",
          "2015-09-04T00:00:00",
          "2015-09-05T00:00:00",
          "2015-09-06T00:00:00",
          "2015-09-07T00:00:00",
          "2015-09-08T00:00:00",
          "2015-09-09T00:00:00",
          "2015-09-10T00:00:00",
          "2015-09-11T00:00:00",
          "2015-09-12T00:00:00",
          "2015-09-13T00:00:00",
          "2015-09-14T00:00:00",
          "2015-09-15T00:00:00",
          "2015-09-16T00:00:00",
          "2015-09-17T00:00:00",
          "2015-09-18T00:00:00",
          "2015-09-19T00:00:00",
          "2015-09-20T00:00:00",
          "2015-09-21T00:00:00",
          "2015-09-22T00:00:00",
          "2015-09-23T00:00:00",
          "2015-09-24T00:00:00",
          "2015-09-25T00:00:00",
          "2015-09-26T00:00:00",
          "2015-09-27T00:00:00",
          "2015-09-28T00:00:00",
          "2015-09-29T00:00:00",
          "2015-09-30T00:00:00",
          "2015-10-01T00:00:00",
          "2015-10-02T00:00:00",
          "2015-10-03T00:00:00",
          "2015-10-04T00:00:00",
          "2015-10-05T00:00:00",
          "2015-10-06T00:00:00",
          "2015-10-07T00:00:00",
          "2015-10-08T00:00:00",
          "2015-10-09T00:00:00",
          "2015-10-10T00:00:00",
          "2015-10-11T00:00:00",
          "2015-10-12T00:00:00",
          "2015-10-13T00:00:00",
          "2015-10-14T00:00:00",
          "2015-10-15T00:00:00",
          "2015-10-16T00:00:00",
          "2015-10-17T00:00:00",
          "2015-10-18T00:00:00",
          "2015-10-19T00:00:00",
          "2015-10-20T00:00:00",
          "2015-10-21T00:00:00",
          "2015-10-22T00:00:00",
          "2015-10-23T00:00:00",
          "2015-10-24T00:00:00",
          "2015-10-25T00:00:00",
          "2015-10-26T00:00:00",
          "2015-10-27T00:00:00",
          "2015-10-28T00:00:00",
          "2015-10-29T00:00:00",
          "2015-10-30T00:00:00",
          "2015-10-31T00:00:00",
          "2015-11-01T00:00:00",
          "2015-11-02T00:00:00",
          "2015-11-03T00:00:00",
          "2015-11-04T00:00:00",
          "2015-11-05T00:00:00",
          "2015-11-06T00:00:00",
          "2015-11-07T00:00:00",
          "2015-11-08T00:00:00",
          "2015-11-09T00:00:00",
          "2015-11-10T00:00:00",
          "2015-11-11T00:00:00",
          "2015-11-12T00:00:00",
          "2015-11-13T00:00:00",
          "2015-11-14T00:00:00",
          "2015-11-15T00:00:00",
          "2015-11-16T00:00:00",
          "2015-11-17T00:00:00",
          "2015-11-18T00:00:00",
          "2015-11-19T00:00:00",
          "2015-11-20T00:00:00",
          "2015-11-21T00:00:00",
          "2015-11-22T00:00:00",
          "2015-11-23T00:00:00",
          "2015-11-24T00:00:00",
          "2015-11-25T00:00:00",
          "2015-11-26T00:00:00",
          "2015-11-27T00:00:00",
          "2015-11-28T00:00:00",
          "2015-11-29T00:00:00",
          "2015-11-30T00:00:00",
          "2015-12-01T00:00:00",
          "2015-12-02T00:00:00",
          "2015-12-03T00:00:00",
          "2015-12-04T00:00:00",
          "2015-12-05T00:00:00",
          "2015-12-06T00:00:00",
          "2015-12-07T00:00:00",
          "2015-12-08T00:00:00",
          "2015-12-09T00:00:00",
          "2015-12-10T00:00:00",
          "2015-12-11T00:00:00",
          "2015-12-12T00:00:00",
          "2015-12-13T00:00:00",
          "2015-12-14T00:00:00",
          "2015-12-15T00:00:00",
          "2015-12-16T00:00:00",
          "2015-12-17T00:00:00",
          "2015-12-18T00:00:00",
          "2015-12-19T00:00:00",
          "2015-12-20T00:00:00",
          "2015-12-21T00:00:00",
          "2015-12-22T00:00:00",
          "2015-12-23T00:00:00",
          "2015-12-24T00:00:00",
          "2015-12-25T00:00:00",
          "2015-12-26T00:00:00",
          "2015-12-27T00:00:00",
          "2015-12-28T00:00:00",
          "2015-12-29T00:00:00",
          "2015-12-30T00:00:00",
          "2015-12-31T00:00:00"
         ],
         "xaxis": "x",
         "y": {
          "bdata": "BgcGBwcFBAcFCQQHAwUEBQYICAQFBAkCCQIMBAgLCAkEBwMDCAkECQMGDAUJBwcGCgcLAwcJBAEHBQYGCAoHBwYFBQUICQUIBAMEEAUECQYDAwYJCwkJCAwGCgsHBAkLBwUFBAIHBggFBQYDCAQHCAcHCAIHBQgOBgsMCAQIBwgFCQQCBAYGCAgGBwYFBAUHBwMDCQ0IBgYGCQgHBQcEBQMHCwgHBwYGBgcEBwQICgUDCAYGBAkIAwkHCQUKBgUHBAQFBg0ICgsJCQUGCwQHBAcJAwUJBgMHBgQIBAULCgcGDAIIBwgGCAoIBwgFBAYGBwwECgUJBwYIBQgDBwcFCwcGAggJBAUHAgcBCwcJCAcGCAUGCAQIBgUIAwgGBAYFCgUIBgYDCQkFCgcKAgIHAgQGBgQJBAcHBwoFBAoEBAQICAUMCQYKBAsGAwkEBwcGBwQEBwMMBQkFBgYEBQUECgsFBgoJCA4JBAoIAwc=",
          "dtype": "i1"
         },
         "yaxis": "y"
        }
       ],
       "layout": {
        "legend": {
         "title": {
          "text": "outcome"
         },
         "tracegroupgap": 0
        },
        "margin": {
         "t": 60
        },
        "template": {
         "data": {
          "bar": [
           {
            "error_x": {
             "color": "#2a3f5f"
            },
            "error_y": {
             "color": "#2a3f5f"
            },
            "marker": {
             "line": {
              "color": "#E5ECF6",
              "width": 0.5
             },
             "pattern": {
              "fillmode": "overlay",
              "size": 10,
              "solidity": 0.2
             }
            },
            "type": "bar"
           }
          ],
          "barpolar": [
           {
            "marker": {
             "line": {
              "color": "#E5ECF6",
              "width": 0.5
             },
             "pattern": {
              "fillmode": "overlay",
              "size": 10,
              "solidity": 0.2
             }
            },
            "type": "barpolar"
           }
          ],
          "carpet": [
           {
            "aaxis": {
             "endlinecolor": "#2a3f5f",
             "gridcolor": "white",
             "linecolor": "white",
             "minorgridcolor": "white",
             "startlinecolor": "#2a3f5f"
            },
            "baxis": {
             "endlinecolor": "#2a3f5f",
             "gridcolor": "white",
             "linecolor": "white",
             "minorgridcolor": "white",
             "startlinecolor": "#2a3f5f"
            },
            "type": "carpet"
           }
          ],
          "choropleth": [
           {
            "colorbar": {
             "outlinewidth": 0,
             "ticks": ""
            },
            "type": "choropleth"
           }
          ],
          "contour": [
           {
            "colorbar": {
             "outlinewidth": 0,
             "ticks": ""
            },
            "colorscale": [
             [
              0,
              "#0d0887"
             ],
             [
              0.1111111111111111,
              "#46039f"
             ],
             [
              0.2222222222222222,
              "#7201a8"
             ],
             [
              0.3333333333333333,
              "#9c179e"
             ],
             [
              0.4444444444444444,
              "#bd3786"
             ],
             [
              0.5555555555555556,
              "#d8576b"
             ],
             [
              0.6666666666666666,
              "#ed7953"
             ],
             [
              0.7777777777777778,
              "#fb9f3a"
             ],
             [
              0.8888888888888888,
              "#fdca26"
             ],
             [
              1,
              "#f0f921"
             ]
            ],
            "type": "contour"
           }
          ],
          "contourcarpet": [
           {
            "colorbar": {
             "outlinewidth": 0,
             "ticks": ""
            },
            "type": "contourcarpet"
           }
          ],
          "heatmap": [
           {
            "colorbar": {
             "outlinewidth": 0,
             "ticks": ""
            },
            "colorscale": [
             [
              0,
              "#0d0887"
             ],
             [
              0.1111111111111111,
              "#46039f"
             ],
             [
              0.2222222222222222,
              "#7201a8"
             ],
             [
              0.3333333333333333,
              "#9c179e"
             ],
             [
              0.4444444444444444,
              "#bd3786"
             ],
             [
              0.5555555555555556,
              "#d8576b"
             ],
             [
              0.6666666666666666,
              "#ed7953"
             ],
             [
              0.7777777777777778,
              "#fb9f3a"
             ],
             [
              0.8888888888888888,
              "#fdca26"
             ],
             [
              1,
              "#f0f921"
             ]
            ],
            "type": "heatmap"
           }
          ],
          "histogram": [
           {
            "marker": {
             "pattern": {
              "fillmode": "overlay",
              "size": 10,
              "solidity": 0.2
             }
            },
            "type": "histogram"
           }
          ],
          "histogram2d": [
           {
            "colorbar": {
             "outlinewidth": 0,
             "ticks": ""
            },
            "colorscale": [
             [
              0,
              "#0d0887"
             ],
             [
              0.1111111111111111,
              "#46039f"
             ],
             [
              0.2222222222222222,
              "#7201a8"
             ],
             [
              0.3333333333333333,
              "#9c179e"
             ],
             [
              0.4444444444444444,
              "#bd3786"
             ],
             [
              0.5555555555555556,
              "#d8576b"
             ],
             [
              0.6666666666666666,
              "#ed7953"
             ],
             [
              0.7777777777777778,
              "#fb9f3a"
             ],
             [
              0.8888888888888888,
              "#fdca26"
             ],
             [
              1,
              "#f0f921"
             ]
            ],
            "type": "histogram2d"
           }
          ],
          "histogram2dcontour": [
           {
            "colorbar": {
             "outlinewidth": 0,
             "ticks": ""
            },
            "colorscale": [
             [
              0,
              "#0d0887"
             ],
             [
              0.1111111111111111,
              "#46039f"
             ],
             [
              0.2222222222222222,
              "#7201a8"
             ],
             [
              0.3333333333333333,
              "#9c179e"
             ],
             [
              0.4444444444444444,
              "#bd3786"
             ],
             [
              0.5555555555555556,
              "#d8576b"
             ],
             [
              0.6666666666666666,
              "#ed7953"
             ],
             [
              0.7777777777777778,
              "#fb9f3a"
             ],
             [
              0.8888888888888888,
              "#fdca26"
             ],
             [
              1,
              "#f0f921"
             ]
            ],
            "type": "histogram2dcontour"
           }
          ],
          "mesh3d": [
           {
            "colorbar": {
             "outlinewidth": 0,
             "ticks": ""
            },
            "type": "mesh3d"
           }
          ],
          "parcoords": [
           {
            "line": {
             "colorbar": {
              "outlinewidth": 0,
              "ticks": ""
             }
            },
            "type": "parcoords"
           }
          ],
          "pie": [
           {
            "automargin": true,
            "type": "pie"
           }
          ],
          "scatter": [
           {
            "fillpattern": {
             "fillmode": "overlay",
             "size": 10,
             "solidity": 0.2
            },
            "type": "scatter"
           }
          ],
          "scatter3d": [
           {
            "line": {
             "colorbar": {
              "outlinewidth": 0,
              "ticks": ""
             }
            },
            "marker": {
             "colorbar": {
              "outlinewidth": 0,
              "ticks": ""
             }
            },
            "type": "scatter3d"
           }
          ],
          "scattercarpet": [
           {
            "marker": {
             "colorbar": {
              "outlinewidth": 0,
              "ticks": ""
             }
            },
            "type": "scattercarpet"
           }
          ],
          "scattergeo": [
           {
            "marker": {
             "colorbar": {
              "outlinewidth": 0,
              "ticks": ""
             }
            },
            "type": "scattergeo"
           }
          ],
          "scattergl": [
           {
            "marker": {
             "colorbar": {
              "outlinewidth": 0,
              "ticks": ""
             }
            },
            "type": "scattergl"
           }
          ],
          "scattermap": [
           {
            "marker": {
             "colorbar": {
              "outlinewidth": 0,
              "ticks": ""
             }
            },
            "type": "scattermap"
           }
          ],
          "scattermapbox": [
           {
            "marker": {
             "colorbar": {
              "outlinewidth": 0,
              "ticks": ""
             }
            },
            "type": "scattermapbox"
           }
          ],
          "scatterpolar": [
           {
            "marker": {
             "colorbar": {
              "outlinewidth": 0,
              "ticks": ""
             }
            },
            "type": "scatterpolar"
           }
          ],
          "scatterpolargl": [
           {
            "marker": {
             "colorbar": {
              "outlinewidth": 0,
              "ticks": ""
             }
            },
            "type": "scatterpolargl"
           }
          ],
          "scatterternary": [
           {
            "marker": {
             "colorbar": {
              "outlinewidth": 0,
              "ticks": ""
             }
            },
            "type": "scatterternary"
           }
          ],
          "surface": [
           {
            "colorbar": {
             "outlinewidth": 0,
             "ticks": ""
            },
            "colorscale": [
             [
              0,
              "#0d0887"
             ],
             [
              0.1111111111111111,
              "#46039f"
             ],
             [
              0.2222222222222222,
              "#7201a8"
             ],
             [
              0.3333333333333333,
              "#9c179e"
             ],
             [
              0.4444444444444444,
              "#bd3786"
             ],
             [
              0.5555555555555556,
              "#d8576b"
             ],
             [
              0.6666666666666666,
              "#ed7953"
             ],
             [
              0.7777777777777778,
              "#fb9f3a"
             ],
             [
              0.8888888888888888,
              "#fdca26"
             ],
             [
              1,
              "#f0f921"
             ]
            ],
            "type": "surface"
           }
          ],
          "table": [
           {
            "cells": {
             "fill": {
              "color": "#EBF0F8"
             },
             "line": {
              "color": "white"
             }
            },
            "header": {
             "fill": {
              "color": "#C8D4E3"
             },
             "line": {
              "color": "white"
             }
            },
            "type": "table"
           }
          ]
         },
         "layout": {
          "annotationdefaults": {
           "arrowcolor": "#2a3f5f",
           "arrowhead": 0,
           "arrowwidth": 1
          },
          "autotypenumbers": "strict",
          "coloraxis": {
           "colorbar": {
            "outlinewidth": 0,
            "ticks": ""
           }
          },
          "colorscale": {
           "diverging": [
            [
             0,
             "#8e0152"
            ],
            [
             0.1,
             "#c51b7d"
            ],
            [
             0.2,
             "#de77ae"
            ],
            [
             0.3,
             "#f1b6da"
            ],
            [
             0.4,
             "#fde0ef"
            ],
            [
             0.5,
             "#f7f7f7"
            ],
            [
             0.6,
             "#e6f5d0"
            ],
            [
             0.7,
             "#b8e186"
            ],
            [
             0.8,
             "#7fbc41"
            ],
            [
             0.9,
             "#4d9221"
            ],
            [
             1,
             "#276419"
            ]
           ],
           "sequential": [
            [
             0,
             "#0d0887"
            ],
            [
             0.1111111111111111,
             "#46039f"
            ],
            [
             0.2222222222222222,
             "#7201a8"
            ],
            [
             0.3333333333333333,
             "#9c179e"
            ],
            [
             0.4444444444444444,
             "#bd3786"
            ],
            [
             0.5555555555555556,
             "#d8576b"
            ],
            [
             0.6666666666666666,
             "#ed7953"
            ],
            [
             0.7777777777777778,
             "#fb9f3a"
            ],
            [
             0.8888888888888888,
             "#fdca26"
            ],
            [
             1,
             "#f0f921"
            ]
           ],
           "sequentialminus": [
            [
             0,
             "#0d0887"
            ],
            [
             0.1111111111111111,
             "#46039f"
            ],
            [
             0.2222222222222222,
             "#7201a8"
            ],
            [
             0.3333333333333333,
             "#9c179e"
            ],
            [
             0.4444444444444444,
             "#bd3786"
            ],
            [
             0.5555555555555556,
             "#d8576b"
            ],
            [
             0.6666666666666666,
             "#ed7953"
            ],
            [
             0.7777777777777778,
             "#fb9f3a"
            ],
            [
             0.8888888888888888,
             "#fdca26"
            ],
            [
             1,
             "#f0f921"
            ]
           ]
          },
          "colorway": [
           "#636efa",
           "#EF553B",
           "#00cc96",
           "#ab63fa",
           "#FFA15A",
           "#19d3f3",
           "#FF6692",
           "#B6E880",
           "#FF97FF",
           "#FECB52"
          ],
          "font": {
           "color": "#2a3f5f"
          },
          "geo": {
           "bgcolor": "white",
           "lakecolor": "white",
           "landcolor": "#E5ECF6",
           "showlakes": true,
           "showland": true,
           "subunitcolor": "white"
          },
          "hoverlabel": {
           "align": "left"
          },
          "hovermode": "closest",
          "mapbox": {
           "style": "light"
          },
          "paper_bgcolor": "white",
          "plot_bgcolor": "#E5ECF6",
          "polar": {
           "angularaxis": {
            "gridcolor": "white",
            "linecolor": "white",
            "ticks": ""
           },
           "bgcolor": "#E5ECF6",
           "radialaxis": {
            "gridcolor": "white",
            "linecolor": "white",
            "ticks": ""
           }
          },
          "scene": {
           "xaxis": {
            "backgroundcolor": "#E5ECF6",
            "gridcolor": "white",
            "gridwidth": 2,
            "linecolor": "white",
            "showbackground": true,
            "ticks": "",
            "zerolinecolor": "white"
           },
           "yaxis": {
            "backgroundcolor": "#E5ECF6",
            "gridcolor": "white",
            "gridwidth": 2,
            "linecolor": "white",
            "showbackground": true,
            "ticks": "",
            "zerolinecolor": "white"
           },
           "zaxis": {
            "backgroundcolor": "#E5ECF6",
            "gridcolor": "white",
            "gridwidth": 2,
            "linecolor": "white",
            "showbackground": true,
            "ticks": "",
            "zerolinecolor": "white"
           }
          },
          "shapedefaults": {
           "line": {
            "color": "#2a3f5f"
           }
          },
          "ternary": {
           "aaxis": {
            "gridcolor": "white",
            "linecolor": "white",
            "ticks": ""
           },
           "baxis": {
            "gridcolor": "white",
            "linecolor": "white",
            "ticks": ""
           },
           "bgcolor": "#E5ECF6",
           "caxis": {
            "gridcolor": "white",
            "linecolor": "white",
            "ticks": ""
           }
          },
          "title": {
           "x": 0.05
          },
          "xaxis": {
           "automargin": true,
           "gridcolor": "white",
           "linecolor": "white",
           "ticks": "",
           "title": {
            "standoff": 15
           },
           "zerolinecolor": "white",
           "zerolinewidth": 2
          },
          "yaxis": {
           "automargin": true,
           "gridcolor": "white",
           "linecolor": "white",
           "ticks": "",
           "title": {
            "standoff": 15
           },
           "zerolinecolor": "white",
           "zerolinewidth": 2
          }
         }
        },
        "xaxis": {
         "anchor": "y",
         "domain": [
          0,
          1
         ],
         "title": {
          "text": "treatment_date"
         }
        },
        "yaxis": {
         "anchor": "x",
         "domain": [
          0,
          1
         ],
         "title": {
          "text": "member_id"
         }
        }
       }
      }
     },
     "metadata": {},
     "output_type": "display_data"
    }
   ],
   "source": [
    "# plot by time \n",
    "data_by_time = data.groupby([\"treatment_date\", \"outcome\"]).member_id.nunique().reset_index()\n",
    "data_by_time[\"treatment_date\"] = pd.to_datetime(data_by_time[\"treatment_date\"])\n",
    "\n",
    "fig = px.line(data_by_time.sort_values(\"treatment_date\"), x=\"treatment_date\", y=\"member_id\", color=\"outcome\", markers=True)\n",
    "fig.show()\n",
    "# doesnt appear to be a strong trend over time\n",
    "fig_path = os.path.join(output_dir, \"outcomextime.png\")\n",
    "pio.write_image(fig, fig_path)"
   ]
  },
  {
   "cell_type": "code",
   "execution_count": 9,
   "id": "8793884c",
   "metadata": {},
   "outputs": [
    {
     "data": {
      "application/vnd.plotly.v1+json": {
       "config": {
        "plotlyServerURL": "https://plot.ly"
       },
       "data": [
        {
         "hovertemplate": "outcome=pass<br>health_risk_assesment=%{x}<br>member_age=%{y}<br>member_id=%{marker.size}<extra></extra>",
         "legendgroup": "pass",
         "marker": {
          "color": "#636efa",
          "size": {
           "bdata": "LlM0GRcJCgMoYEArEg8HBRg7IRwODwgIARAdICcaGw0FCAcgJBwYDA0NBxkkHRcWEQgFHiUjEw4VEgUUHBoYGhEMCgEIGBYUExEMDQIDEBMJDg0ICAM=",
           "dtype": "i1"
          },
          "sizemode": "area",
          "sizeref": 0.24,
          "symbol": "circle"
         },
         "mode": "markers",
         "name": "pass",
         "orientation": "v",
         "showlegend": true,
         "type": "scatter",
         "x": {
          "bdata": "AQIDBAUGBwgBAgMEBQYHCAECAwQFBgcICQECAwQFBgcICQECAwQFBgcICQIDBAUGBwgJAgMEBQYHCAkCAwQFBgcICQoCAwQFBgcICQoCAwQFBgcICQo=",
          "dtype": "i1"
         },
         "xaxis": "x",
         "y": {
          "bdata": "QEBAQEBAQEBBQUFBQUFBQUJCQkJCQkJCQkNDQ0NDQ0NDQ0REREREREREREVFRUVFRUVFRkZGRkZGRkZHR0dHR0dHR0dISEhISEhISEhJSUlJSUlJSUk=",
          "dtype": "i1"
         },
         "yaxis": "y"
        },
        {
         "hovertemplate": "outcome=failure<br>health_risk_assesment=%{x}<br>member_age=%{y}<br>member_id=%{marker.size}<extra></extra>",
         "legendgroup": "failure",
         "marker": {
          "color": "#EF553B",
          "size": {
           "bdata": "CyowFBMPEAclKSkVFRACBxYkJyssKREIGykrMCkaEQMSKScuNSAVARUrISU0MhwFDyUuKig0IAQCGBYrLDQkLAoBFRgjNCgnLgoRFxkaKx0lFA==",
           "dtype": "i1"
          },
          "sizemode": "area",
          "sizeref": 0.24,
          "symbol": "circle"
         },
         "mode": "markers",
         "name": "failure",
         "orientation": "v",
         "showlegend": true,
         "type": "scatter",
         "x": {
          "bdata": "AgMEBQYHCAIDBAUGBwgJAgMEBQYHCAkCAwQFBgcICQIDBAUGBwgJAgMEBQYHCAkCAwQFBgcICQoCAwQFBgcICQoCAwQFBgcICQoDBAUGBwgJCg==",
          "dtype": "i1"
         },
         "xaxis": "x",
         "y": {
          "bdata": "QEBAQEBAQEFBQUFBQUFBQkJCQkJCQkJDQ0NDQ0NDQ0RERERERERERUVFRUVFRUVGRkZGRkZGRkZHR0dHR0dHR0dISEhISEhISEhJSUlJSUlJSQ==",
          "dtype": "i1"
         },
         "yaxis": "y"
        }
       ],
       "layout": {
        "annotations": [
         {
          "bgcolor": "white",
          "font": {
           "color": "black",
           "size": 14
          },
          "showarrow": false,
          "text": "Correlation: 0.38",
          "x": 0.05,
          "xref": "paper",
          "y": 0.95,
          "yref": "paper"
         }
        ],
        "legend": {
         "itemsizing": "constant",
         "title": {
          "text": "outcome"
         },
         "tracegroupgap": 0
        },
        "margin": {
         "t": 60
        },
        "template": {
         "data": {
          "bar": [
           {
            "error_x": {
             "color": "#2a3f5f"
            },
            "error_y": {
             "color": "#2a3f5f"
            },
            "marker": {
             "line": {
              "color": "#E5ECF6",
              "width": 0.5
             },
             "pattern": {
              "fillmode": "overlay",
              "size": 10,
              "solidity": 0.2
             }
            },
            "type": "bar"
           }
          ],
          "barpolar": [
           {
            "marker": {
             "line": {
              "color": "#E5ECF6",
              "width": 0.5
             },
             "pattern": {
              "fillmode": "overlay",
              "size": 10,
              "solidity": 0.2
             }
            },
            "type": "barpolar"
           }
          ],
          "carpet": [
           {
            "aaxis": {
             "endlinecolor": "#2a3f5f",
             "gridcolor": "white",
             "linecolor": "white",
             "minorgridcolor": "white",
             "startlinecolor": "#2a3f5f"
            },
            "baxis": {
             "endlinecolor": "#2a3f5f",
             "gridcolor": "white",
             "linecolor": "white",
             "minorgridcolor": "white",
             "startlinecolor": "#2a3f5f"
            },
            "type": "carpet"
           }
          ],
          "choropleth": [
           {
            "colorbar": {
             "outlinewidth": 0,
             "ticks": ""
            },
            "type": "choropleth"
           }
          ],
          "contour": [
           {
            "colorbar": {
             "outlinewidth": 0,
             "ticks": ""
            },
            "colorscale": [
             [
              0,
              "#0d0887"
             ],
             [
              0.1111111111111111,
              "#46039f"
             ],
             [
              0.2222222222222222,
              "#7201a8"
             ],
             [
              0.3333333333333333,
              "#9c179e"
             ],
             [
              0.4444444444444444,
              "#bd3786"
             ],
             [
              0.5555555555555556,
              "#d8576b"
             ],
             [
              0.6666666666666666,
              "#ed7953"
             ],
             [
              0.7777777777777778,
              "#fb9f3a"
             ],
             [
              0.8888888888888888,
              "#fdca26"
             ],
             [
              1,
              "#f0f921"
             ]
            ],
            "type": "contour"
           }
          ],
          "contourcarpet": [
           {
            "colorbar": {
             "outlinewidth": 0,
             "ticks": ""
            },
            "type": "contourcarpet"
           }
          ],
          "heatmap": [
           {
            "colorbar": {
             "outlinewidth": 0,
             "ticks": ""
            },
            "colorscale": [
             [
              0,
              "#0d0887"
             ],
             [
              0.1111111111111111,
              "#46039f"
             ],
             [
              0.2222222222222222,
              "#7201a8"
             ],
             [
              0.3333333333333333,
              "#9c179e"
             ],
             [
              0.4444444444444444,
              "#bd3786"
             ],
             [
              0.5555555555555556,
              "#d8576b"
             ],
             [
              0.6666666666666666,
              "#ed7953"
             ],
             [
              0.7777777777777778,
              "#fb9f3a"
             ],
             [
              0.8888888888888888,
              "#fdca26"
             ],
             [
              1,
              "#f0f921"
             ]
            ],
            "type": "heatmap"
           }
          ],
          "histogram": [
           {
            "marker": {
             "pattern": {
              "fillmode": "overlay",
              "size": 10,
              "solidity": 0.2
             }
            },
            "type": "histogram"
           }
          ],
          "histogram2d": [
           {
            "colorbar": {
             "outlinewidth": 0,
             "ticks": ""
            },
            "colorscale": [
             [
              0,
              "#0d0887"
             ],
             [
              0.1111111111111111,
              "#46039f"
             ],
             [
              0.2222222222222222,
              "#7201a8"
             ],
             [
              0.3333333333333333,
              "#9c179e"
             ],
             [
              0.4444444444444444,
              "#bd3786"
             ],
             [
              0.5555555555555556,
              "#d8576b"
             ],
             [
              0.6666666666666666,
              "#ed7953"
             ],
             [
              0.7777777777777778,
              "#fb9f3a"
             ],
             [
              0.8888888888888888,
              "#fdca26"
             ],
             [
              1,
              "#f0f921"
             ]
            ],
            "type": "histogram2d"
           }
          ],
          "histogram2dcontour": [
           {
            "colorbar": {
             "outlinewidth": 0,
             "ticks": ""
            },
            "colorscale": [
             [
              0,
              "#0d0887"
             ],
             [
              0.1111111111111111,
              "#46039f"
             ],
             [
              0.2222222222222222,
              "#7201a8"
             ],
             [
              0.3333333333333333,
              "#9c179e"
             ],
             [
              0.4444444444444444,
              "#bd3786"
             ],
             [
              0.5555555555555556,
              "#d8576b"
             ],
             [
              0.6666666666666666,
              "#ed7953"
             ],
             [
              0.7777777777777778,
              "#fb9f3a"
             ],
             [
              0.8888888888888888,
              "#fdca26"
             ],
             [
              1,
              "#f0f921"
             ]
            ],
            "type": "histogram2dcontour"
           }
          ],
          "mesh3d": [
           {
            "colorbar": {
             "outlinewidth": 0,
             "ticks": ""
            },
            "type": "mesh3d"
           }
          ],
          "parcoords": [
           {
            "line": {
             "colorbar": {
              "outlinewidth": 0,
              "ticks": ""
             }
            },
            "type": "parcoords"
           }
          ],
          "pie": [
           {
            "automargin": true,
            "type": "pie"
           }
          ],
          "scatter": [
           {
            "fillpattern": {
             "fillmode": "overlay",
             "size": 10,
             "solidity": 0.2
            },
            "type": "scatter"
           }
          ],
          "scatter3d": [
           {
            "line": {
             "colorbar": {
              "outlinewidth": 0,
              "ticks": ""
             }
            },
            "marker": {
             "colorbar": {
              "outlinewidth": 0,
              "ticks": ""
             }
            },
            "type": "scatter3d"
           }
          ],
          "scattercarpet": [
           {
            "marker": {
             "colorbar": {
              "outlinewidth": 0,
              "ticks": ""
             }
            },
            "type": "scattercarpet"
           }
          ],
          "scattergeo": [
           {
            "marker": {
             "colorbar": {
              "outlinewidth": 0,
              "ticks": ""
             }
            },
            "type": "scattergeo"
           }
          ],
          "scattergl": [
           {
            "marker": {
             "colorbar": {
              "outlinewidth": 0,
              "ticks": ""
             }
            },
            "type": "scattergl"
           }
          ],
          "scattermap": [
           {
            "marker": {
             "colorbar": {
              "outlinewidth": 0,
              "ticks": ""
             }
            },
            "type": "scattermap"
           }
          ],
          "scattermapbox": [
           {
            "marker": {
             "colorbar": {
              "outlinewidth": 0,
              "ticks": ""
             }
            },
            "type": "scattermapbox"
           }
          ],
          "scatterpolar": [
           {
            "marker": {
             "colorbar": {
              "outlinewidth": 0,
              "ticks": ""
             }
            },
            "type": "scatterpolar"
           }
          ],
          "scatterpolargl": [
           {
            "marker": {
             "colorbar": {
              "outlinewidth": 0,
              "ticks": ""
             }
            },
            "type": "scatterpolargl"
           }
          ],
          "scatterternary": [
           {
            "marker": {
             "colorbar": {
              "outlinewidth": 0,
              "ticks": ""
             }
            },
            "type": "scatterternary"
           }
          ],
          "surface": [
           {
            "colorbar": {
             "outlinewidth": 0,
             "ticks": ""
            },
            "colorscale": [
             [
              0,
              "#0d0887"
             ],
             [
              0.1111111111111111,
              "#46039f"
             ],
             [
              0.2222222222222222,
              "#7201a8"
             ],
             [
              0.3333333333333333,
              "#9c179e"
             ],
             [
              0.4444444444444444,
              "#bd3786"
             ],
             [
              0.5555555555555556,
              "#d8576b"
             ],
             [
              0.6666666666666666,
              "#ed7953"
             ],
             [
              0.7777777777777778,
              "#fb9f3a"
             ],
             [
              0.8888888888888888,
              "#fdca26"
             ],
             [
              1,
              "#f0f921"
             ]
            ],
            "type": "surface"
           }
          ],
          "table": [
           {
            "cells": {
             "fill": {
              "color": "#EBF0F8"
             },
             "line": {
              "color": "white"
             }
            },
            "header": {
             "fill": {
              "color": "#C8D4E3"
             },
             "line": {
              "color": "white"
             }
            },
            "type": "table"
           }
          ]
         },
         "layout": {
          "annotationdefaults": {
           "arrowcolor": "#2a3f5f",
           "arrowhead": 0,
           "arrowwidth": 1
          },
          "autotypenumbers": "strict",
          "coloraxis": {
           "colorbar": {
            "outlinewidth": 0,
            "ticks": ""
           }
          },
          "colorscale": {
           "diverging": [
            [
             0,
             "#8e0152"
            ],
            [
             0.1,
             "#c51b7d"
            ],
            [
             0.2,
             "#de77ae"
            ],
            [
             0.3,
             "#f1b6da"
            ],
            [
             0.4,
             "#fde0ef"
            ],
            [
             0.5,
             "#f7f7f7"
            ],
            [
             0.6,
             "#e6f5d0"
            ],
            [
             0.7,
             "#b8e186"
            ],
            [
             0.8,
             "#7fbc41"
            ],
            [
             0.9,
             "#4d9221"
            ],
            [
             1,
             "#276419"
            ]
           ],
           "sequential": [
            [
             0,
             "#0d0887"
            ],
            [
             0.1111111111111111,
             "#46039f"
            ],
            [
             0.2222222222222222,
             "#7201a8"
            ],
            [
             0.3333333333333333,
             "#9c179e"
            ],
            [
             0.4444444444444444,
             "#bd3786"
            ],
            [
             0.5555555555555556,
             "#d8576b"
            ],
            [
             0.6666666666666666,
             "#ed7953"
            ],
            [
             0.7777777777777778,
             "#fb9f3a"
            ],
            [
             0.8888888888888888,
             "#fdca26"
            ],
            [
             1,
             "#f0f921"
            ]
           ],
           "sequentialminus": [
            [
             0,
             "#0d0887"
            ],
            [
             0.1111111111111111,
             "#46039f"
            ],
            [
             0.2222222222222222,
             "#7201a8"
            ],
            [
             0.3333333333333333,
             "#9c179e"
            ],
            [
             0.4444444444444444,
             "#bd3786"
            ],
            [
             0.5555555555555556,
             "#d8576b"
            ],
            [
             0.6666666666666666,
             "#ed7953"
            ],
            [
             0.7777777777777778,
             "#fb9f3a"
            ],
            [
             0.8888888888888888,
             "#fdca26"
            ],
            [
             1,
             "#f0f921"
            ]
           ]
          },
          "colorway": [
           "#636efa",
           "#EF553B",
           "#00cc96",
           "#ab63fa",
           "#FFA15A",
           "#19d3f3",
           "#FF6692",
           "#B6E880",
           "#FF97FF",
           "#FECB52"
          ],
          "font": {
           "color": "#2a3f5f"
          },
          "geo": {
           "bgcolor": "white",
           "lakecolor": "white",
           "landcolor": "#E5ECF6",
           "showlakes": true,
           "showland": true,
           "subunitcolor": "white"
          },
          "hoverlabel": {
           "align": "left"
          },
          "hovermode": "closest",
          "mapbox": {
           "style": "light"
          },
          "paper_bgcolor": "white",
          "plot_bgcolor": "#E5ECF6",
          "polar": {
           "angularaxis": {
            "gridcolor": "white",
            "linecolor": "white",
            "ticks": ""
           },
           "bgcolor": "#E5ECF6",
           "radialaxis": {
            "gridcolor": "white",
            "linecolor": "white",
            "ticks": ""
           }
          },
          "scene": {
           "xaxis": {
            "backgroundcolor": "#E5ECF6",
            "gridcolor": "white",
            "gridwidth": 2,
            "linecolor": "white",
            "showbackground": true,
            "ticks": "",
            "zerolinecolor": "white"
           },
           "yaxis": {
            "backgroundcolor": "#E5ECF6",
            "gridcolor": "white",
            "gridwidth": 2,
            "linecolor": "white",
            "showbackground": true,
            "ticks": "",
            "zerolinecolor": "white"
           },
           "zaxis": {
            "backgroundcolor": "#E5ECF6",
            "gridcolor": "white",
            "gridwidth": 2,
            "linecolor": "white",
            "showbackground": true,
            "ticks": "",
            "zerolinecolor": "white"
           }
          },
          "shapedefaults": {
           "line": {
            "color": "#2a3f5f"
           }
          },
          "ternary": {
           "aaxis": {
            "gridcolor": "white",
            "linecolor": "white",
            "ticks": ""
           },
           "baxis": {
            "gridcolor": "white",
            "linecolor": "white",
            "ticks": ""
           },
           "bgcolor": "#E5ECF6",
           "caxis": {
            "gridcolor": "white",
            "linecolor": "white",
            "ticks": ""
           }
          },
          "title": {
           "x": 0.05
          },
          "xaxis": {
           "automargin": true,
           "gridcolor": "white",
           "linecolor": "white",
           "ticks": "",
           "title": {
            "standoff": 15
           },
           "zerolinecolor": "white",
           "zerolinewidth": 2
          },
          "yaxis": {
           "automargin": true,
           "gridcolor": "white",
           "linecolor": "white",
           "ticks": "",
           "title": {
            "standoff": 15
           },
           "zerolinecolor": "white",
           "zerolinewidth": 2
          }
         }
        },
        "xaxis": {
         "anchor": "y",
         "domain": [
          0,
          1
         ],
         "title": {
          "text": "health_risk_assesment"
         }
        },
        "yaxis": {
         "anchor": "x",
         "domain": [
          0,
          1
         ],
         "title": {
          "text": "member_age"
         }
        }
       }
      }
     },
     "metadata": {},
     "output_type": "display_data"
    }
   ],
   "source": [
    "# lets check member age too \n",
    "data_outcome_compare[\"member_age\"].isna().value_counts()\n",
    "# no missing values\n",
    "data_outcome_compare_count = data_outcome_compare.groupby([\"member_age\", \"health_risk_assesment\", \"outcome\"]).member_id.count().reset_index()\n",
    "fig = px.scatter(x=\"health_risk_assesment\", y=\"member_age\", size=\"member_id\",  data_frame=data_outcome_compare_count, color=\"outcome\")\n",
    "age_risk_corr = data_outcome_compare[[\"health_risk_assesment\", \"member_age\"]].corr().iloc[0,1]\n",
    "fig.add_annotation(\n",
    "    xref=\"paper\", yref=\"paper\", x=0.05, y=0.95,\n",
    "    text=f\"Correlation: {age_risk_corr:.2f}\",\n",
    "    showarrow=False,\n",
    "    font=dict(size=14, color=\"black\"),\n",
    "    bgcolor=\"white\"\n",
    ")\n",
    "fig.show()\n",
    "fig_path = os.path.join(output_dir, \"agexoutcomexhra.png\")\n",
    "pio.write_image(fig, fig_path)\n",
    "# doesnt appear to be a strong relationship between age and outcome, but we can see that the health risk assessment at the extremes relates to age"
   ]
  },
  {
   "cell_type": "code",
   "execution_count": 10,
   "id": "4ff403f1",
   "metadata": {},
   "outputs": [
    {
     "data": {
      "application/vnd.plotly.v1+json": {
       "config": {
        "plotlyServerURL": "https://plot.ly"
       },
       "data": [
        {
         "alignmentgroup": "True",
         "hovertemplate": "outcome=pass<br>member_sex=F<br>health_risk_assesment=%{x}<br>count=%{y}<extra></extra>",
         "legendgroup": "pass",
         "marker": {
          "color": "#636efa",
          "pattern": {
           "shape": ""
          }
         },
         "name": "pass",
         "offsetgroup": "pass",
         "orientation": "v",
         "showlegend": true,
         "textposition": "auto",
         "type": "bar",
         "x": {
          "bdata": "AgMBBAYFBwgJ",
          "dtype": "i1"
         },
         "xaxis": "x",
         "y": {
          "bdata": "AgG/AIUAgwBfAFsASAAqAA0A",
          "dtype": "i2"
         },
         "yaxis": "y"
        },
        {
         "alignmentgroup": "True",
         "hovertemplate": "outcome=pass<br>member_sex=M<br>health_risk_assesment=%{x}<br>count=%{y}<extra></extra>",
         "legendgroup": "pass",
         "marker": {
          "color": "#636efa",
          "pattern": {
           "shape": ""
          }
         },
         "name": "pass",
         "offsetgroup": "pass",
         "orientation": "v",
         "showlegend": false,
         "textposition": "auto",
         "type": "bar",
         "x": {
          "bdata": "AwQCBQYHCAkK",
          "dtype": "i1"
         },
         "xaxis": "x2",
         "y": {
          "bdata": "pwCjAH8AbQBOAEAAMgAsAAYA",
          "dtype": "i2"
         },
         "yaxis": "y2"
        },
        {
         "alignmentgroup": "True",
         "hovertemplate": "outcome=failure<br>member_sex=F<br>health_risk_assesment=%{x}<br>count=%{y}<extra></extra>",
         "legendgroup": "failure",
         "marker": {
          "color": "#EF553B",
          "pattern": {
           "shape": ""
          }
         },
         "name": "failure",
         "offsetgroup": "failure",
         "orientation": "v",
         "showlegend": true,
         "textposition": "auto",
         "type": "bar",
         "x": {
          "bdata": "BgcEBQgDCQI=",
          "dtype": "i1"
         },
         "xaxis": "x",
         "y": {
          "bdata": "zgDJALQAqACRAIMAMgAfAA==",
          "dtype": "i2"
         },
         "yaxis": "y"
        },
        {
         "alignmentgroup": "True",
         "hovertemplate": "outcome=failure<br>member_sex=M<br>health_risk_assesment=%{x}<br>count=%{y}<extra></extra>",
         "legendgroup": "failure",
         "marker": {
          "color": "#EF553B",
          "pattern": {
           "shape": ""
          }
         },
         "name": "failure",
         "offsetgroup": "failure",
         "orientation": "v",
         "showlegend": false,
         "textposition": "auto",
         "type": "bar",
         "x": {
          "bdata": "BwUJCAQGAwoC",
          "dtype": "i1"
         },
         "xaxis": "x2",
         "y": {
          "bdata": "yADEAMIAwACwAKwAcQAsAA4A",
          "dtype": "i2"
         },
         "yaxis": "y2"
        }
       ],
       "layout": {
        "annotations": [
         {
          "font": {},
          "showarrow": false,
          "text": "member_sex=F",
          "x": 0.245,
          "xanchor": "center",
          "xref": "paper",
          "y": 1,
          "yanchor": "bottom",
          "yref": "paper"
         },
         {
          "font": {},
          "showarrow": false,
          "text": "member_sex=M",
          "x": 0.755,
          "xanchor": "center",
          "xref": "paper",
          "y": 1,
          "yanchor": "bottom",
          "yref": "paper"
         }
        ],
        "barmode": "group",
        "legend": {
         "title": {
          "text": "outcome"
         },
         "tracegroupgap": 0
        },
        "margin": {
         "t": 60
        },
        "template": {
         "data": {
          "bar": [
           {
            "error_x": {
             "color": "#2a3f5f"
            },
            "error_y": {
             "color": "#2a3f5f"
            },
            "marker": {
             "line": {
              "color": "#E5ECF6",
              "width": 0.5
             },
             "pattern": {
              "fillmode": "overlay",
              "size": 10,
              "solidity": 0.2
             }
            },
            "type": "bar"
           }
          ],
          "barpolar": [
           {
            "marker": {
             "line": {
              "color": "#E5ECF6",
              "width": 0.5
             },
             "pattern": {
              "fillmode": "overlay",
              "size": 10,
              "solidity": 0.2
             }
            },
            "type": "barpolar"
           }
          ],
          "carpet": [
           {
            "aaxis": {
             "endlinecolor": "#2a3f5f",
             "gridcolor": "white",
             "linecolor": "white",
             "minorgridcolor": "white",
             "startlinecolor": "#2a3f5f"
            },
            "baxis": {
             "endlinecolor": "#2a3f5f",
             "gridcolor": "white",
             "linecolor": "white",
             "minorgridcolor": "white",
             "startlinecolor": "#2a3f5f"
            },
            "type": "carpet"
           }
          ],
          "choropleth": [
           {
            "colorbar": {
             "outlinewidth": 0,
             "ticks": ""
            },
            "type": "choropleth"
           }
          ],
          "contour": [
           {
            "colorbar": {
             "outlinewidth": 0,
             "ticks": ""
            },
            "colorscale": [
             [
              0,
              "#0d0887"
             ],
             [
              0.1111111111111111,
              "#46039f"
             ],
             [
              0.2222222222222222,
              "#7201a8"
             ],
             [
              0.3333333333333333,
              "#9c179e"
             ],
             [
              0.4444444444444444,
              "#bd3786"
             ],
             [
              0.5555555555555556,
              "#d8576b"
             ],
             [
              0.6666666666666666,
              "#ed7953"
             ],
             [
              0.7777777777777778,
              "#fb9f3a"
             ],
             [
              0.8888888888888888,
              "#fdca26"
             ],
             [
              1,
              "#f0f921"
             ]
            ],
            "type": "contour"
           }
          ],
          "contourcarpet": [
           {
            "colorbar": {
             "outlinewidth": 0,
             "ticks": ""
            },
            "type": "contourcarpet"
           }
          ],
          "heatmap": [
           {
            "colorbar": {
             "outlinewidth": 0,
             "ticks": ""
            },
            "colorscale": [
             [
              0,
              "#0d0887"
             ],
             [
              0.1111111111111111,
              "#46039f"
             ],
             [
              0.2222222222222222,
              "#7201a8"
             ],
             [
              0.3333333333333333,
              "#9c179e"
             ],
             [
              0.4444444444444444,
              "#bd3786"
             ],
             [
              0.5555555555555556,
              "#d8576b"
             ],
             [
              0.6666666666666666,
              "#ed7953"
             ],
             [
              0.7777777777777778,
              "#fb9f3a"
             ],
             [
              0.8888888888888888,
              "#fdca26"
             ],
             [
              1,
              "#f0f921"
             ]
            ],
            "type": "heatmap"
           }
          ],
          "histogram": [
           {
            "marker": {
             "pattern": {
              "fillmode": "overlay",
              "size": 10,
              "solidity": 0.2
             }
            },
            "type": "histogram"
           }
          ],
          "histogram2d": [
           {
            "colorbar": {
             "outlinewidth": 0,
             "ticks": ""
            },
            "colorscale": [
             [
              0,
              "#0d0887"
             ],
             [
              0.1111111111111111,
              "#46039f"
             ],
             [
              0.2222222222222222,
              "#7201a8"
             ],
             [
              0.3333333333333333,
              "#9c179e"
             ],
             [
              0.4444444444444444,
              "#bd3786"
             ],
             [
              0.5555555555555556,
              "#d8576b"
             ],
             [
              0.6666666666666666,
              "#ed7953"
             ],
             [
              0.7777777777777778,
              "#fb9f3a"
             ],
             [
              0.8888888888888888,
              "#fdca26"
             ],
             [
              1,
              "#f0f921"
             ]
            ],
            "type": "histogram2d"
           }
          ],
          "histogram2dcontour": [
           {
            "colorbar": {
             "outlinewidth": 0,
             "ticks": ""
            },
            "colorscale": [
             [
              0,
              "#0d0887"
             ],
             [
              0.1111111111111111,
              "#46039f"
             ],
             [
              0.2222222222222222,
              "#7201a8"
             ],
             [
              0.3333333333333333,
              "#9c179e"
             ],
             [
              0.4444444444444444,
              "#bd3786"
             ],
             [
              0.5555555555555556,
              "#d8576b"
             ],
             [
              0.6666666666666666,
              "#ed7953"
             ],
             [
              0.7777777777777778,
              "#fb9f3a"
             ],
             [
              0.8888888888888888,
              "#fdca26"
             ],
             [
              1,
              "#f0f921"
             ]
            ],
            "type": "histogram2dcontour"
           }
          ],
          "mesh3d": [
           {
            "colorbar": {
             "outlinewidth": 0,
             "ticks": ""
            },
            "type": "mesh3d"
           }
          ],
          "parcoords": [
           {
            "line": {
             "colorbar": {
              "outlinewidth": 0,
              "ticks": ""
             }
            },
            "type": "parcoords"
           }
          ],
          "pie": [
           {
            "automargin": true,
            "type": "pie"
           }
          ],
          "scatter": [
           {
            "fillpattern": {
             "fillmode": "overlay",
             "size": 10,
             "solidity": 0.2
            },
            "type": "scatter"
           }
          ],
          "scatter3d": [
           {
            "line": {
             "colorbar": {
              "outlinewidth": 0,
              "ticks": ""
             }
            },
            "marker": {
             "colorbar": {
              "outlinewidth": 0,
              "ticks": ""
             }
            },
            "type": "scatter3d"
           }
          ],
          "scattercarpet": [
           {
            "marker": {
             "colorbar": {
              "outlinewidth": 0,
              "ticks": ""
             }
            },
            "type": "scattercarpet"
           }
          ],
          "scattergeo": [
           {
            "marker": {
             "colorbar": {
              "outlinewidth": 0,
              "ticks": ""
             }
            },
            "type": "scattergeo"
           }
          ],
          "scattergl": [
           {
            "marker": {
             "colorbar": {
              "outlinewidth": 0,
              "ticks": ""
             }
            },
            "type": "scattergl"
           }
          ],
          "scattermap": [
           {
            "marker": {
             "colorbar": {
              "outlinewidth": 0,
              "ticks": ""
             }
            },
            "type": "scattermap"
           }
          ],
          "scattermapbox": [
           {
            "marker": {
             "colorbar": {
              "outlinewidth": 0,
              "ticks": ""
             }
            },
            "type": "scattermapbox"
           }
          ],
          "scatterpolar": [
           {
            "marker": {
             "colorbar": {
              "outlinewidth": 0,
              "ticks": ""
             }
            },
            "type": "scatterpolar"
           }
          ],
          "scatterpolargl": [
           {
            "marker": {
             "colorbar": {
              "outlinewidth": 0,
              "ticks": ""
             }
            },
            "type": "scatterpolargl"
           }
          ],
          "scatterternary": [
           {
            "marker": {
             "colorbar": {
              "outlinewidth": 0,
              "ticks": ""
             }
            },
            "type": "scatterternary"
           }
          ],
          "surface": [
           {
            "colorbar": {
             "outlinewidth": 0,
             "ticks": ""
            },
            "colorscale": [
             [
              0,
              "#0d0887"
             ],
             [
              0.1111111111111111,
              "#46039f"
             ],
             [
              0.2222222222222222,
              "#7201a8"
             ],
             [
              0.3333333333333333,
              "#9c179e"
             ],
             [
              0.4444444444444444,
              "#bd3786"
             ],
             [
              0.5555555555555556,
              "#d8576b"
             ],
             [
              0.6666666666666666,
              "#ed7953"
             ],
             [
              0.7777777777777778,
              "#fb9f3a"
             ],
             [
              0.8888888888888888,
              "#fdca26"
             ],
             [
              1,
              "#f0f921"
             ]
            ],
            "type": "surface"
           }
          ],
          "table": [
           {
            "cells": {
             "fill": {
              "color": "#EBF0F8"
             },
             "line": {
              "color": "white"
             }
            },
            "header": {
             "fill": {
              "color": "#C8D4E3"
             },
             "line": {
              "color": "white"
             }
            },
            "type": "table"
           }
          ]
         },
         "layout": {
          "annotationdefaults": {
           "arrowcolor": "#2a3f5f",
           "arrowhead": 0,
           "arrowwidth": 1
          },
          "autotypenumbers": "strict",
          "coloraxis": {
           "colorbar": {
            "outlinewidth": 0,
            "ticks": ""
           }
          },
          "colorscale": {
           "diverging": [
            [
             0,
             "#8e0152"
            ],
            [
             0.1,
             "#c51b7d"
            ],
            [
             0.2,
             "#de77ae"
            ],
            [
             0.3,
             "#f1b6da"
            ],
            [
             0.4,
             "#fde0ef"
            ],
            [
             0.5,
             "#f7f7f7"
            ],
            [
             0.6,
             "#e6f5d0"
            ],
            [
             0.7,
             "#b8e186"
            ],
            [
             0.8,
             "#7fbc41"
            ],
            [
             0.9,
             "#4d9221"
            ],
            [
             1,
             "#276419"
            ]
           ],
           "sequential": [
            [
             0,
             "#0d0887"
            ],
            [
             0.1111111111111111,
             "#46039f"
            ],
            [
             0.2222222222222222,
             "#7201a8"
            ],
            [
             0.3333333333333333,
             "#9c179e"
            ],
            [
             0.4444444444444444,
             "#bd3786"
            ],
            [
             0.5555555555555556,
             "#d8576b"
            ],
            [
             0.6666666666666666,
             "#ed7953"
            ],
            [
             0.7777777777777778,
             "#fb9f3a"
            ],
            [
             0.8888888888888888,
             "#fdca26"
            ],
            [
             1,
             "#f0f921"
            ]
           ],
           "sequentialminus": [
            [
             0,
             "#0d0887"
            ],
            [
             0.1111111111111111,
             "#46039f"
            ],
            [
             0.2222222222222222,
             "#7201a8"
            ],
            [
             0.3333333333333333,
             "#9c179e"
            ],
            [
             0.4444444444444444,
             "#bd3786"
            ],
            [
             0.5555555555555556,
             "#d8576b"
            ],
            [
             0.6666666666666666,
             "#ed7953"
            ],
            [
             0.7777777777777778,
             "#fb9f3a"
            ],
            [
             0.8888888888888888,
             "#fdca26"
            ],
            [
             1,
             "#f0f921"
            ]
           ]
          },
          "colorway": [
           "#636efa",
           "#EF553B",
           "#00cc96",
           "#ab63fa",
           "#FFA15A",
           "#19d3f3",
           "#FF6692",
           "#B6E880",
           "#FF97FF",
           "#FECB52"
          ],
          "font": {
           "color": "#2a3f5f"
          },
          "geo": {
           "bgcolor": "white",
           "lakecolor": "white",
           "landcolor": "#E5ECF6",
           "showlakes": true,
           "showland": true,
           "subunitcolor": "white"
          },
          "hoverlabel": {
           "align": "left"
          },
          "hovermode": "closest",
          "mapbox": {
           "style": "light"
          },
          "paper_bgcolor": "white",
          "plot_bgcolor": "#E5ECF6",
          "polar": {
           "angularaxis": {
            "gridcolor": "white",
            "linecolor": "white",
            "ticks": ""
           },
           "bgcolor": "#E5ECF6",
           "radialaxis": {
            "gridcolor": "white",
            "linecolor": "white",
            "ticks": ""
           }
          },
          "scene": {
           "xaxis": {
            "backgroundcolor": "#E5ECF6",
            "gridcolor": "white",
            "gridwidth": 2,
            "linecolor": "white",
            "showbackground": true,
            "ticks": "",
            "zerolinecolor": "white"
           },
           "yaxis": {
            "backgroundcolor": "#E5ECF6",
            "gridcolor": "white",
            "gridwidth": 2,
            "linecolor": "white",
            "showbackground": true,
            "ticks": "",
            "zerolinecolor": "white"
           },
           "zaxis": {
            "backgroundcolor": "#E5ECF6",
            "gridcolor": "white",
            "gridwidth": 2,
            "linecolor": "white",
            "showbackground": true,
            "ticks": "",
            "zerolinecolor": "white"
           }
          },
          "shapedefaults": {
           "line": {
            "color": "#2a3f5f"
           }
          },
          "ternary": {
           "aaxis": {
            "gridcolor": "white",
            "linecolor": "white",
            "ticks": ""
           },
           "baxis": {
            "gridcolor": "white",
            "linecolor": "white",
            "ticks": ""
           },
           "bgcolor": "#E5ECF6",
           "caxis": {
            "gridcolor": "white",
            "linecolor": "white",
            "ticks": ""
           }
          },
          "title": {
           "x": 0.05
          },
          "xaxis": {
           "automargin": true,
           "gridcolor": "white",
           "linecolor": "white",
           "ticks": "",
           "title": {
            "standoff": 15
           },
           "zerolinecolor": "white",
           "zerolinewidth": 2
          },
          "yaxis": {
           "automargin": true,
           "gridcolor": "white",
           "linecolor": "white",
           "ticks": "",
           "title": {
            "standoff": 15
           },
           "zerolinecolor": "white",
           "zerolinewidth": 2
          }
         }
        },
        "xaxis": {
         "anchor": "y",
         "domain": [
          0,
          0.49
         ],
         "title": {
          "text": "health_risk_assesment"
         }
        },
        "xaxis2": {
         "anchor": "y2",
         "domain": [
          0.51,
          1
         ],
         "matches": "x",
         "title": {
          "text": "health_risk_assesment"
         }
        },
        "yaxis": {
         "anchor": "x",
         "domain": [
          0,
          1
         ],
         "title": {
          "text": "count"
         }
        },
        "yaxis2": {
         "anchor": "x2",
         "domain": [
          0,
          1
         ],
         "matches": "y",
         "showticklabels": false
        }
       }
      }
     },
     "metadata": {},
     "output_type": "display_data"
    }
   ],
   "source": [
    "cat_plot = data_outcome_compare[[\"member_sex\", \"health_risk_assesment\", \"outcome\"]].value_counts().reset_index()\n",
    "cat_plot[\"member_sex\"] = cat_plot[\"member_sex\"].replace({0:\"F\", 1:\"M\"})\n",
    "fig = px.bar(cat_plot, x=\"health_risk_assesment\", y=\"count\", color=\"outcome\", facet_col=\"member_sex\", barmode=\"group\")\n",
    "fig.show()\n",
    "# Females do seem to have more positive outcomes at higher health risk assesment scores\n",
    "fig_path = os.path.join(output_dir, \"sexxoutcomexhra.png\")\n",
    "pio.write_image(fig, fig_path)"
   ]
  },
  {
   "cell_type": "markdown",
   "id": "defd0615",
   "metadata": {},
   "source": [
    "Looks like there is a moderate global correlation between age and health risk assesment and we know from our information that age and sex are incorporated into this measure. Since we plan to use bayesian methods we should probably assess for colinearity "
   ]
  },
  {
   "cell_type": "code",
   "execution_count": 11,
   "id": "537c9907",
   "metadata": {},
   "outputs": [
    {
     "data": {
      "application/vnd.plotly.v1+json": {
       "config": {
        "plotlyServerURL": "https://plot.ly"
       },
       "data": [
        {
         "hovertemplate": "feature=%{x}<br>VIF=%{y}<extra></extra>",
         "legendgroup": "",
         "marker": {
          "color": "#636efa",
          "pattern": {
           "shape": ""
          }
         },
         "name": "",
         "orientation": "v",
         "showlegend": false,
         "textposition": "auto",
         "type": "bar",
         "x": [
          "member_age",
          "health_risk_assesment",
          "member_sex"
         ],
         "xaxis": "x",
         "y": {
          "bdata": "tbZP8b2kG0Bfz6gO8+wbQDW57WwcnQBA",
          "dtype": "f8"
         },
         "yaxis": "y"
        }
       ],
       "layout": {
        "barmode": "relative",
        "legend": {
         "tracegroupgap": 0
        },
        "template": {
         "data": {
          "bar": [
           {
            "error_x": {
             "color": "#2a3f5f"
            },
            "error_y": {
             "color": "#2a3f5f"
            },
            "marker": {
             "line": {
              "color": "#E5ECF6",
              "width": 0.5
             },
             "pattern": {
              "fillmode": "overlay",
              "size": 10,
              "solidity": 0.2
             }
            },
            "type": "bar"
           }
          ],
          "barpolar": [
           {
            "marker": {
             "line": {
              "color": "#E5ECF6",
              "width": 0.5
             },
             "pattern": {
              "fillmode": "overlay",
              "size": 10,
              "solidity": 0.2
             }
            },
            "type": "barpolar"
           }
          ],
          "carpet": [
           {
            "aaxis": {
             "endlinecolor": "#2a3f5f",
             "gridcolor": "white",
             "linecolor": "white",
             "minorgridcolor": "white",
             "startlinecolor": "#2a3f5f"
            },
            "baxis": {
             "endlinecolor": "#2a3f5f",
             "gridcolor": "white",
             "linecolor": "white",
             "minorgridcolor": "white",
             "startlinecolor": "#2a3f5f"
            },
            "type": "carpet"
           }
          ],
          "choropleth": [
           {
            "colorbar": {
             "outlinewidth": 0,
             "ticks": ""
            },
            "type": "choropleth"
           }
          ],
          "contour": [
           {
            "colorbar": {
             "outlinewidth": 0,
             "ticks": ""
            },
            "colorscale": [
             [
              0,
              "#0d0887"
             ],
             [
              0.1111111111111111,
              "#46039f"
             ],
             [
              0.2222222222222222,
              "#7201a8"
             ],
             [
              0.3333333333333333,
              "#9c179e"
             ],
             [
              0.4444444444444444,
              "#bd3786"
             ],
             [
              0.5555555555555556,
              "#d8576b"
             ],
             [
              0.6666666666666666,
              "#ed7953"
             ],
             [
              0.7777777777777778,
              "#fb9f3a"
             ],
             [
              0.8888888888888888,
              "#fdca26"
             ],
             [
              1,
              "#f0f921"
             ]
            ],
            "type": "contour"
           }
          ],
          "contourcarpet": [
           {
            "colorbar": {
             "outlinewidth": 0,
             "ticks": ""
            },
            "type": "contourcarpet"
           }
          ],
          "heatmap": [
           {
            "colorbar": {
             "outlinewidth": 0,
             "ticks": ""
            },
            "colorscale": [
             [
              0,
              "#0d0887"
             ],
             [
              0.1111111111111111,
              "#46039f"
             ],
             [
              0.2222222222222222,
              "#7201a8"
             ],
             [
              0.3333333333333333,
              "#9c179e"
             ],
             [
              0.4444444444444444,
              "#bd3786"
             ],
             [
              0.5555555555555556,
              "#d8576b"
             ],
             [
              0.6666666666666666,
              "#ed7953"
             ],
             [
              0.7777777777777778,
              "#fb9f3a"
             ],
             [
              0.8888888888888888,
              "#fdca26"
             ],
             [
              1,
              "#f0f921"
             ]
            ],
            "type": "heatmap"
           }
          ],
          "histogram": [
           {
            "marker": {
             "pattern": {
              "fillmode": "overlay",
              "size": 10,
              "solidity": 0.2
             }
            },
            "type": "histogram"
           }
          ],
          "histogram2d": [
           {
            "colorbar": {
             "outlinewidth": 0,
             "ticks": ""
            },
            "colorscale": [
             [
              0,
              "#0d0887"
             ],
             [
              0.1111111111111111,
              "#46039f"
             ],
             [
              0.2222222222222222,
              "#7201a8"
             ],
             [
              0.3333333333333333,
              "#9c179e"
             ],
             [
              0.4444444444444444,
              "#bd3786"
             ],
             [
              0.5555555555555556,
              "#d8576b"
             ],
             [
              0.6666666666666666,
              "#ed7953"
             ],
             [
              0.7777777777777778,
              "#fb9f3a"
             ],
             [
              0.8888888888888888,
              "#fdca26"
             ],
             [
              1,
              "#f0f921"
             ]
            ],
            "type": "histogram2d"
           }
          ],
          "histogram2dcontour": [
           {
            "colorbar": {
             "outlinewidth": 0,
             "ticks": ""
            },
            "colorscale": [
             [
              0,
              "#0d0887"
             ],
             [
              0.1111111111111111,
              "#46039f"
             ],
             [
              0.2222222222222222,
              "#7201a8"
             ],
             [
              0.3333333333333333,
              "#9c179e"
             ],
             [
              0.4444444444444444,
              "#bd3786"
             ],
             [
              0.5555555555555556,
              "#d8576b"
             ],
             [
              0.6666666666666666,
              "#ed7953"
             ],
             [
              0.7777777777777778,
              "#fb9f3a"
             ],
             [
              0.8888888888888888,
              "#fdca26"
             ],
             [
              1,
              "#f0f921"
             ]
            ],
            "type": "histogram2dcontour"
           }
          ],
          "mesh3d": [
           {
            "colorbar": {
             "outlinewidth": 0,
             "ticks": ""
            },
            "type": "mesh3d"
           }
          ],
          "parcoords": [
           {
            "line": {
             "colorbar": {
              "outlinewidth": 0,
              "ticks": ""
             }
            },
            "type": "parcoords"
           }
          ],
          "pie": [
           {
            "automargin": true,
            "type": "pie"
           }
          ],
          "scatter": [
           {
            "fillpattern": {
             "fillmode": "overlay",
             "size": 10,
             "solidity": 0.2
            },
            "type": "scatter"
           }
          ],
          "scatter3d": [
           {
            "line": {
             "colorbar": {
              "outlinewidth": 0,
              "ticks": ""
             }
            },
            "marker": {
             "colorbar": {
              "outlinewidth": 0,
              "ticks": ""
             }
            },
            "type": "scatter3d"
           }
          ],
          "scattercarpet": [
           {
            "marker": {
             "colorbar": {
              "outlinewidth": 0,
              "ticks": ""
             }
            },
            "type": "scattercarpet"
           }
          ],
          "scattergeo": [
           {
            "marker": {
             "colorbar": {
              "outlinewidth": 0,
              "ticks": ""
             }
            },
            "type": "scattergeo"
           }
          ],
          "scattergl": [
           {
            "marker": {
             "colorbar": {
              "outlinewidth": 0,
              "ticks": ""
             }
            },
            "type": "scattergl"
           }
          ],
          "scattermap": [
           {
            "marker": {
             "colorbar": {
              "outlinewidth": 0,
              "ticks": ""
             }
            },
            "type": "scattermap"
           }
          ],
          "scattermapbox": [
           {
            "marker": {
             "colorbar": {
              "outlinewidth": 0,
              "ticks": ""
             }
            },
            "type": "scattermapbox"
           }
          ],
          "scatterpolar": [
           {
            "marker": {
             "colorbar": {
              "outlinewidth": 0,
              "ticks": ""
             }
            },
            "type": "scatterpolar"
           }
          ],
          "scatterpolargl": [
           {
            "marker": {
             "colorbar": {
              "outlinewidth": 0,
              "ticks": ""
             }
            },
            "type": "scatterpolargl"
           }
          ],
          "scatterternary": [
           {
            "marker": {
             "colorbar": {
              "outlinewidth": 0,
              "ticks": ""
             }
            },
            "type": "scatterternary"
           }
          ],
          "surface": [
           {
            "colorbar": {
             "outlinewidth": 0,
             "ticks": ""
            },
            "colorscale": [
             [
              0,
              "#0d0887"
             ],
             [
              0.1111111111111111,
              "#46039f"
             ],
             [
              0.2222222222222222,
              "#7201a8"
             ],
             [
              0.3333333333333333,
              "#9c179e"
             ],
             [
              0.4444444444444444,
              "#bd3786"
             ],
             [
              0.5555555555555556,
              "#d8576b"
             ],
             [
              0.6666666666666666,
              "#ed7953"
             ],
             [
              0.7777777777777778,
              "#fb9f3a"
             ],
             [
              0.8888888888888888,
              "#fdca26"
             ],
             [
              1,
              "#f0f921"
             ]
            ],
            "type": "surface"
           }
          ],
          "table": [
           {
            "cells": {
             "fill": {
              "color": "#EBF0F8"
             },
             "line": {
              "color": "white"
             }
            },
            "header": {
             "fill": {
              "color": "#C8D4E3"
             },
             "line": {
              "color": "white"
             }
            },
            "type": "table"
           }
          ]
         },
         "layout": {
          "annotationdefaults": {
           "arrowcolor": "#2a3f5f",
           "arrowhead": 0,
           "arrowwidth": 1
          },
          "autotypenumbers": "strict",
          "coloraxis": {
           "colorbar": {
            "outlinewidth": 0,
            "ticks": ""
           }
          },
          "colorscale": {
           "diverging": [
            [
             0,
             "#8e0152"
            ],
            [
             0.1,
             "#c51b7d"
            ],
            [
             0.2,
             "#de77ae"
            ],
            [
             0.3,
             "#f1b6da"
            ],
            [
             0.4,
             "#fde0ef"
            ],
            [
             0.5,
             "#f7f7f7"
            ],
            [
             0.6,
             "#e6f5d0"
            ],
            [
             0.7,
             "#b8e186"
            ],
            [
             0.8,
             "#7fbc41"
            ],
            [
             0.9,
             "#4d9221"
            ],
            [
             1,
             "#276419"
            ]
           ],
           "sequential": [
            [
             0,
             "#0d0887"
            ],
            [
             0.1111111111111111,
             "#46039f"
            ],
            [
             0.2222222222222222,
             "#7201a8"
            ],
            [
             0.3333333333333333,
             "#9c179e"
            ],
            [
             0.4444444444444444,
             "#bd3786"
            ],
            [
             0.5555555555555556,
             "#d8576b"
            ],
            [
             0.6666666666666666,
             "#ed7953"
            ],
            [
             0.7777777777777778,
             "#fb9f3a"
            ],
            [
             0.8888888888888888,
             "#fdca26"
            ],
            [
             1,
             "#f0f921"
            ]
           ],
           "sequentialminus": [
            [
             0,
             "#0d0887"
            ],
            [
             0.1111111111111111,
             "#46039f"
            ],
            [
             0.2222222222222222,
             "#7201a8"
            ],
            [
             0.3333333333333333,
             "#9c179e"
            ],
            [
             0.4444444444444444,
             "#bd3786"
            ],
            [
             0.5555555555555556,
             "#d8576b"
            ],
            [
             0.6666666666666666,
             "#ed7953"
            ],
            [
             0.7777777777777778,
             "#fb9f3a"
            ],
            [
             0.8888888888888888,
             "#fdca26"
            ],
            [
             1,
             "#f0f921"
            ]
           ]
          },
          "colorway": [
           "#636efa",
           "#EF553B",
           "#00cc96",
           "#ab63fa",
           "#FFA15A",
           "#19d3f3",
           "#FF6692",
           "#B6E880",
           "#FF97FF",
           "#FECB52"
          ],
          "font": {
           "color": "#2a3f5f"
          },
          "geo": {
           "bgcolor": "white",
           "lakecolor": "white",
           "landcolor": "#E5ECF6",
           "showlakes": true,
           "showland": true,
           "subunitcolor": "white"
          },
          "hoverlabel": {
           "align": "left"
          },
          "hovermode": "closest",
          "mapbox": {
           "style": "light"
          },
          "paper_bgcolor": "white",
          "plot_bgcolor": "#E5ECF6",
          "polar": {
           "angularaxis": {
            "gridcolor": "white",
            "linecolor": "white",
            "ticks": ""
           },
           "bgcolor": "#E5ECF6",
           "radialaxis": {
            "gridcolor": "white",
            "linecolor": "white",
            "ticks": ""
           }
          },
          "scene": {
           "xaxis": {
            "backgroundcolor": "#E5ECF6",
            "gridcolor": "white",
            "gridwidth": 2,
            "linecolor": "white",
            "showbackground": true,
            "ticks": "",
            "zerolinecolor": "white"
           },
           "yaxis": {
            "backgroundcolor": "#E5ECF6",
            "gridcolor": "white",
            "gridwidth": 2,
            "linecolor": "white",
            "showbackground": true,
            "ticks": "",
            "zerolinecolor": "white"
           },
           "zaxis": {
            "backgroundcolor": "#E5ECF6",
            "gridcolor": "white",
            "gridwidth": 2,
            "linecolor": "white",
            "showbackground": true,
            "ticks": "",
            "zerolinecolor": "white"
           }
          },
          "shapedefaults": {
           "line": {
            "color": "#2a3f5f"
           }
          },
          "ternary": {
           "aaxis": {
            "gridcolor": "white",
            "linecolor": "white",
            "ticks": ""
           },
           "baxis": {
            "gridcolor": "white",
            "linecolor": "white",
            "ticks": ""
           },
           "bgcolor": "#E5ECF6",
           "caxis": {
            "gridcolor": "white",
            "linecolor": "white",
            "ticks": ""
           }
          },
          "title": {
           "x": 0.05
          },
          "xaxis": {
           "automargin": true,
           "gridcolor": "white",
           "linecolor": "white",
           "ticks": "",
           "title": {
            "standoff": 15
           },
           "zerolinecolor": "white",
           "zerolinewidth": 2
          },
          "yaxis": {
           "automargin": true,
           "gridcolor": "white",
           "linecolor": "white",
           "ticks": "",
           "title": {
            "standoff": 15
           },
           "zerolinecolor": "white",
           "zerolinewidth": 2
          }
         }
        },
        "title": {
         "text": "Variance Inflation Factor (VIF) for Features"
        },
        "xaxis": {
         "anchor": "y",
         "domain": [
          0,
          1
         ],
         "title": {
          "text": "feature"
         }
        },
        "yaxis": {
         "anchor": "x",
         "domain": [
          0,
          1
         ],
         "title": {
          "text": "VIF"
         }
        }
       }
      }
     },
     "metadata": {},
     "output_type": "display_data"
    },
    {
     "name": "stdout",
     "output_type": "stream",
     "text": [
      "Warning: The following features have VIF > 5 and indicate multicollinearity: ['member_age', 'health_risk_assesment']\n",
      "One of these will be dropped for downstream analysis to reduce collinearity.\n"
     ]
    }
   ],
   "source": [
    "vif_df = calculate_vif(data_outcome_compare, [\"member_age\", \"health_risk_assesment\", \"member_sex\"])\n",
    "fig = px.bar(vif_df, x=\"feature\", y=\"VIF\", title=\"Variance Inflation Factor (VIF) for Features\")\n",
    "fig.show()\n",
    "high_vif_features = vif_df.query(\"VIF > 5\")\n",
    "if not high_vif_features.empty:\n",
    "    print(f\"Warning: The following features have VIF > 5 and indicate multicollinearity: {list(high_vif_features['feature'])}\")\n",
    "    print(\"One of these will be dropped for downstream analysis to reduce collinearity.\")\n",
    "\n",
    "fig_path = os.path.join(output_dir, \"vif.png\")\n",
    "pio.write_image(fig, fig_path)"
   ]
  },
  {
   "cell_type": "markdown",
   "id": "0c176882",
   "metadata": {},
   "source": [
    "#### Method 1 : Hierarchical Bayesian Logistic Regression\n",
    " - Using a hierarchical Bayesian logistic regression we can calculate an effect for every provider against the global mean, separate from the effect of the covariates.\n",
    " - This approach is relatively scalable, assesses all providers in one model, and quantifies the effect of provider relative to other covariates."
   ]
  },
  {
   "cell_type": "code",
   "execution_count": 12,
   "id": "878c8b28",
   "metadata": {},
   "outputs": [
    {
     "name": "stdout",
     "output_type": "stream",
     "text": [
      "[1 1 0 ... 1 1 1]\n"
     ]
    },
    {
     "name": "stderr",
     "output_type": "stream",
     "text": [
      "Initializing NUTS using jitter+adapt_diag...\n",
      "INFO\tTask(Task-3) pymc.sampling.mcmc:mcmc.py:init_nuts()- Initializing NUTS using jitter+adapt_diag...\n",
      "Multiprocess sampling (4 chains in 4 jobs)\n",
      "INFO\tTask(Task-3) pymc.sampling.mcmc:mcmc.py:sample()- Multiprocess sampling (4 chains in 4 jobs)\n",
      "NUTS: [sigma_provider, provider_offset, intercept, betas]\n",
      "INFO\tTask(Task-3) pymc.sampling.mcmc:mcmc.py:_print_step_hierarchy()- NUTS: [sigma_provider, provider_offset, intercept, betas]\n"
     ]
    },
    {
     "data": {
      "application/vnd.jupyter.widget-view+json": {
       "model_id": "c526bdef976b49d288dc1652d5bdf35b",
       "version_major": 2,
       "version_minor": 0
      },
      "text/plain": [
       "Output()"
      ]
     },
     "metadata": {},
     "output_type": "display_data"
    },
    {
     "data": {
      "text/html": [
       "<pre style=\"white-space:pre;overflow-x:auto;line-height:normal;font-family:Menlo,'DejaVu Sans Mono',consolas,'Courier New',monospace\"></pre>\n"
      ],
      "text/plain": []
     },
     "metadata": {},
     "output_type": "display_data"
    },
    {
     "name": "stderr",
     "output_type": "stream",
     "text": [
      "Sampling 4 chains for 1_000 tune and 2_000 draw iterations (4_000 + 8_000 draws total) took 11 seconds.\n",
      "INFO\tTask(Task-3) pymc.sampling.mcmc:mcmc.py:_sample_return()- Sampling 4 chains for 1_000 tune and 2_000 draw iterations (4_000 + 8_000 draws total) took 11 seconds.\n"
     ]
    }
   ],
   "source": [
    "fit_data, provider_encoder = fit_hierarchical_logistic_model(\n",
    "    df=data_outcome_compare,\n",
    "    covariates=[\"member_sex\",\"health_risk_assesment\"],\n",
    "    target_col=\"outcome\",\n",
    "    provider_col=\"servicing_provider_id\"\n",
    ")"
   ]
  },
  {
   "cell_type": "code",
   "execution_count": 13,
   "id": "8f61ec8d",
   "metadata": {},
   "outputs": [
    {
     "data": {
      "image/png": "[encoded data removed]",
      "text/plain": [
       "<Figure size 1000x3180 with 1 Axes>"
      ]
     },
     "metadata": {},
     "output_type": "display_data"
    },
    {
     "data": {
      "image/png": "[encoded data removed]",
      "text/plain": [
       "<Figure size 800x320 with 1 Axes>"
      ]
     },
     "metadata": {},
     "output_type": "display_data"
    }
   ],
   "source": [
    "plot_bayesian_coefficients(fit_data, provider_encoder, [\"member_sex\", \"health_risk_assesment\"])"
   ]
  },
  {
   "cell_type": "markdown",
   "id": "c1215cd1",
   "metadata": {},
   "source": [
    "#### Results and interpretation of Hierarchical Bayes:\n",
    "- Looking at the results from our hierarchical logistic regression, we can see that all the HDI (highest density interval) for all providers covers 0 and no provider has an average effect greater than 0.1.\n",
    "- While certain providers do have an average effect greater or above 0, the width of the intervals suggests there is no real effect of any given provider on the probability of the outcome (pass or failure).\n",
    "- By comparison, the health risk assessment effect has a beta of ~1, indicating a large effect on outcome.\n",
    "- Member sex has a smaller effect, similar in magnitude to the provider effects."
   ]
  },
  {
   "cell_type": "markdown",
   "id": "6ea62659",
   "metadata": {},
   "source": [
    "#### Method 2 : Covariate Adjusted Empirical Null \n",
    " - For each provider, train a logistic regression model on other providers' patients predicting outcome by covariate alone. Use this model to determine a probability of failure for each patient of this provider based on covariates alone. Use these probabilities to inform a binomial distribution for n permutations to construct a distribution of expected failure proportions for each physician given their patient covariates. Compare the physician's actual failure rate to the constructed null to determine if their failure rate is significantly deviated from the expected. \n",
    " - Essentially, this analysis seeks to answer the question: Is the number of failures for a given physician significantly different from what would be expected given their patients' covariates? \n",
    " - This approach is computationally expensive as it employs permutation per provider. It also quantifies and qualifies the effect a physician has on their patients given their patients' covariates. "
   ]
  },
  {
   "cell_type": "code",
   "execution_count": 14,
   "id": "ae6a0050",
   "metadata": {},
   "outputs": [
    {
     "name": "stderr",
     "output_type": "stream",
     "text": [
      "Simulating nulls by provider: 100%|██████████| 96/96 [00:00<00:00, 115.06it/s]\n"
     ]
    }
   ],
   "source": [
    "empirical_null_covariate_test=empirical_null_provider_failures(data_outcome_compare, \"outcome\", \"servicing_provider_id\", [\"health_risk_assesment\", \"member_sex\"], n_simulations=1000, random_state=42)"
   ]
  },
  {
   "cell_type": "code",
   "execution_count": 15,
   "id": "d3b38096",
   "metadata": {},
   "outputs": [
    {
     "data": {
      "application/vnd.plotly.v1+json": {
       "config": {
        "plotlyServerURL": "https://plot.ly"
       },
       "data": [
        {
         "hovertemplate": "Observed Failure Rate=%{x}<br>expected_mean=%{y}<br>P-Value=%{marker.color}<extra></extra>",
         "legendgroup": "",
         "marker": {
          "color": {
           "bdata": "Vn5CnJWf0D8dBQypM8bRP3or5hy3FNc/2JSqHawH4j9fBbOkHBCpP7fG380jVN8/w28TlLUq4T/YlKodrAfCP/tBTp7NfNg/okhELXf+xT8gMtyrYJbEP/SkwwsCON0/Imq586/Q0D/ki9W10eziP9TL63ZXGuE/99ygU1FyyT/AkDpjHGndP8LTJPCNDdM/bKPZJYx84T+4CcpalfjEP24prj9vxdw/p6LkMtGemz9JRC13/hXaP7n+vBVzjts/m6u5mqu52j/yd/MI1WfaP/SkwwsCON0/UOG3CcpaxT/jSOsoYEjdP3TRRRdddNE/qs+0Nf5u3j/5CXFWfkLcP/O63ZVGDOA/TanawXog2T/R9x+L4MK2Pz6F3yYoa9U/BgGc7qMn3T8tKQdEhnulP3XGONI6Crg/xjjSOgoY0j9SDogM9yrYPwUMqTPGkdY/5YDIcK+C2T97INnXlKq9PzbzYdl+kMM/A3vH1MDe4T9NtOcGnYrCP4uHvv9YBKc/mrbG380j1D+kdRQwpM7YP6UcEBnuVeA/qeXOv0JD4T889P3HIrjgP2E9kOxrStU/aNoafzeP4D/zut2VRgzQP+rldbsrjZg/PUL1mbbG3z/sHVMDe8fUP7bR7BJGvtg/PUL1mbbG3z8q/DZBWaviP5QOLwjgdN8/f5CTZzMfxj+Lh77/WASnP0PqjHGkdYQ/L2Hki9W10T9ymWjPDTrVPwypM8aR1tE/kiRJkiRJ0j/S7BJGvljdPxQwpM4YR9o/6oxxpHUU4D+/plTtYD3AP2eXMPLF6to/7RJGvlhdyz/HLcX1563IP6ei5DLRnps/ZV9Tqnawrj9uKa4/b8XcP1IZlVEZleE/dNFFF1104T9jdW00u4TBPzWwd0wN7L0/KMRZ+Qlx1j9LfAq/TVDWP7SZD8v2g9w/xjjSOgoY0j/LnX+FhiKxP6AQZ+UnxNk/ZV9Tqnawvj9Ons18WLafPxdogRZogbY/iVru/Cs0tD9SDogM9yrYP9H3H4vgwtY/",
           "dtype": "f8"
          },
          "coloraxis": "coloraxis",
          "symbol": "circle"
         },
         "mode": "markers",
         "name": "",
         "orientation": "v",
         "showlegend": false,
         "type": "scatter",
         "x": {
          "bdata": "IQtZyEIW4j9VVVVVVVXlP6esKWvKmuI/8xrKayiv4T+zpqwpa8raP2IndmInduI/bCivobyG4j+rqqqqqqrkP+Q4juM4juM/ZZNNNtlk4z8RERERERHhP0d9Z6O+s+E/VVVVVVVV4z/btm3btm3jP0d9Z6O+s+E/OL3pTW964z8AAAAAAADiPwnLPY2w3OM/6aKLLrro4j+O4ziO4zjmP9pLaC+hveQ/o4suuuii2z8/NNaHxvrgPwAAAAAAAOA/L7rooosu4j8/NNaHxvrgP89GfWejvuM/PzTWh8b64D+nrClrypriP/Q8z/M8z+M/uxK1K1G74j/NzMzMzMzgPzi96U1veuM/dNFFF1104T/UdzbqOxvlPzMzMzMzM+M/xOQKYnIF4T8uGYJ1tHnfP5IkSZIkSeY/chzHcRzH4T+amZmZmZnhP7ETO7ETO+E/FbycgpdT4D/sxE7sxE7kP31no76zUd8/VVVVVVVV4z9BTK4gJlfgP4wuuuiii+Y/OL3pTW964z9VVVVVVVXhP3fEHXFH3OE/d8QdcUfc4T+jiy666KLjP2ZmZmZmZuI/MzMzMzMz4z8QjfWhsT7kP11BTK4gJuc/TK4gJlcQ4z8AAAAAAADgP0fcEXfEHeE/5DiO4ziO4z8cx3Ecx3HkPwAAAAAAAOI/q6qqqqqq3j/0BX1BX9DXP9iCLdiCLdg/MzMzMzMz4z9jOovpLKbjP+sGU+SzbuA/xU7sxE7s5D9yHMdxHMfhP2RwPgbnY+A/aKwPjfWh4T9S39mo72zkP4PzMTgfg+M/XXTRRRdd5D8AAAAAAADgP6OLLrroots/Z6O+s1Hf2T9H3BF3xB3hP5IkSZIkSeI/d8QdcUfc4T82ZU1ZU9bkP23UdzbqO9s/09LS0tLS4j8iIiIiIiLiP3Icx3Ecx+E/d8QdcUfc4T+jiy666KLbP29ln0NqguE/NUiDNEiD5D+pXYnalajdP4wuuuiii+Y/h7VvWPuG5T8zMzMzMzPjP19fX19fX98/",
          "dtype": "f8"
         },
         "xaxis": "x",
         "y": {
          "bdata": "w1kwk/HF4z91FSQOr73jP2rFMRW9guE/pkiyJh+p4T/krUONllnhP+DZQY4hI+I/MX98G3dZ4j+s1THBg/nhP+2dgprlY+I/htBgCA2G4D+5awn5oGfjP+yg4aKCDuE/h8+wK0Cu4T/bMEu9q1/jP5Iq1Ywg1+E/Kbd1IqdR4T/TTWIQWHnhP5FRNUVMiOI/BqTRpoDT4j92ctWezmTjPznlbtYbP+Q/FjLtumxI4j/J4b6tb9DhP43af6GIx+A/jTYFnIbz4j81DtxLbc3hPxmQ198VTuQ/FLsUUBRC4z+sLb+uVQfiP3gwT9S/EeI/1zuq8NY94j91JJf/kH7hPz8bisOEt+M/zKmQaddl4D+LlFVco/nhPyHGKiPxseE/KNAN8QyN4T9yBkClljHjP+wOp49/ZOM/CyNu7J2C4z8CTYQNT6/iP+fNbZ/s8uI//5LvjKQ74T99bXGwoKThP7qtH3MaG+I/X3MhaUpF4z9W6CTLjsHiP/xIiFxRleI/OimDzTQd4j/elrU6JjjiP5HsZ4YGieE/BoTUbhfs4T+cxCCwcmjjP7WmeccpuuM/Si7/If124z/Hj9BKynjiPwwCK4cW2eI/kGKuqkGv4j+hbToH1KDhPxBaYyYmIeA/Sp/0SZ/04z+s0I/o2mbkP1yPwvUoXOI/ZmZmZmam4T8JxSlt9AzgPw6d7TOjbuE/kH77OnDO4T/Nlq/FeoviP9JOcOPDXeI/vs1WgcN/4z9ouUbeTF/iP+b+nSETTeE/+PWvBuBQ4T8n98gUEajhP46TftKCweI/Ie6fe5hT4j+DL0ymCkbiP1pkO99PjeI/7y98Kktx4D+e5upEp7jhP5pScfbhM+I/F9RlWmq54T/yzvl9VQPiP4/rFsZKhOA/38A7UP5F4T8GX5hMFYzgPwSdNtBpA+E/j8MK4opk4z++WaJo8lbhP8o94Zv+o+A/qfK5YRE/4T8CwMyZZTbjP3PsNsduc+M//KLli+mA4j+kcD0K1yPiP15yIGhJxOA/",
          "dtype": "f8"
         },
         "yaxis": "y"
        }
       ],
       "layout": {
        "coloraxis": {
         "colorbar": {
          "title": {
           "text": "P-Value"
          }
         },
         "colorscale": [
          [
           0,
           "#0d0887"
          ],
          [
           0.1111111111111111,
           "#46039f"
          ],
          [
           0.2222222222222222,
           "#7201a8"
          ],
          [
           0.3333333333333333,
           "#9c179e"
          ],
          [
           0.4444444444444444,
           "#bd3786"
          ],
          [
           0.5555555555555556,
           "#d8576b"
          ],
          [
           0.6666666666666666,
           "#ed7953"
          ],
          [
           0.7777777777777778,
           "#fb9f3a"
          ],
          [
           0.8888888888888888,
           "#fdca26"
          ],
          [
           1,
           "#f0f921"
          ]
         ]
        },
        "height": 500,
        "legend": {
         "tracegroupgap": 0
        },
        "shapes": [
         {
          "line": {
           "color": "black",
           "dash": "dash"
          },
          "type": "line",
          "x0": 0.37209302325581395,
          "x1": 0.723404255319149,
          "y0": 0.37209302325581395,
          "y1": 0.723404255319149
         }
        ],
        "template": {
         "data": {
          "bar": [
           {
            "error_x": {
             "color": "#2a3f5f"
            },
            "error_y": {
             "color": "#2a3f5f"
            },
            "marker": {
             "line": {
              "color": "#E5ECF6",
              "width": 0.5
             },
             "pattern": {
              "fillmode": "overlay",
              "size": 10,
              "solidity": 0.2
             }
            },
            "type": "bar"
           }
          ],
          "barpolar": [
           {
            "marker": {
             "line": {
              "color": "#E5ECF6",
              "width": 0.5
             },
             "pattern": {
              "fillmode": "overlay",
              "size": 10,
              "solidity": 0.2
             }
            },
            "type": "barpolar"
           }
          ],
          "carpet": [
           {
            "aaxis": {
             "endlinecolor": "#2a3f5f",
             "gridcolor": "white",
             "linecolor": "white",
             "minorgridcolor": "white",
             "startlinecolor": "#2a3f5f"
            },
            "baxis": {
             "endlinecolor": "#2a3f5f",
             "gridcolor": "white",
             "linecolor": "white",
             "minorgridcolor": "white",
             "startlinecolor": "#2a3f5f"
            },
            "type": "carpet"
           }
          ],
          "choropleth": [
           {
            "colorbar": {
             "outlinewidth": 0,
             "ticks": ""
            },
            "type": "choropleth"
           }
          ],
          "contour": [
           {
            "colorbar": {
             "outlinewidth": 0,
             "ticks": ""
            },
            "colorscale": [
             [
              0,
              "#0d0887"
             ],
             [
              0.1111111111111111,
              "#46039f"
             ],
             [
              0.2222222222222222,
              "#7201a8"
             ],
             [
              0.3333333333333333,
              "#9c179e"
             ],
             [
              0.4444444444444444,
              "#bd3786"
             ],
             [
              0.5555555555555556,
              "#d8576b"
             ],
             [
              0.6666666666666666,
              "#ed7953"
             ],
             [
              0.7777777777777778,
              "#fb9f3a"
             ],
             [
              0.8888888888888888,
              "#fdca26"
             ],
             [
              1,
              "#f0f921"
             ]
            ],
            "type": "contour"
           }
          ],
          "contourcarpet": [
           {
            "colorbar": {
             "outlinewidth": 0,
             "ticks": ""
            },
            "type": "contourcarpet"
           }
          ],
          "heatmap": [
           {
            "colorbar": {
             "outlinewidth": 0,
             "ticks": ""
            },
            "colorscale": [
             [
              0,
              "#0d0887"
             ],
             [
              0.1111111111111111,
              "#46039f"
             ],
             [
              0.2222222222222222,
              "#7201a8"
             ],
             [
              0.3333333333333333,
              "#9c179e"
             ],
             [
              0.4444444444444444,
              "#bd3786"
             ],
             [
              0.5555555555555556,
              "#d8576b"
             ],
             [
              0.6666666666666666,
              "#ed7953"
             ],
             [
              0.7777777777777778,
              "#fb9f3a"
             ],
             [
              0.8888888888888888,
              "#fdca26"
             ],
             [
              1,
              "#f0f921"
             ]
            ],
            "type": "heatmap"
           }
          ],
          "histogram": [
           {
            "marker": {
             "pattern": {
              "fillmode": "overlay",
              "size": 10,
              "solidity": 0.2
             }
            },
            "type": "histogram"
           }
          ],
          "histogram2d": [
           {
            "colorbar": {
             "outlinewidth": 0,
             "ticks": ""
            },
            "colorscale": [
             [
              0,
              "#0d0887"
             ],
             [
              0.1111111111111111,
              "#46039f"
             ],
             [
              0.2222222222222222,
              "#7201a8"
             ],
             [
              0.3333333333333333,
              "#9c179e"
             ],
             [
              0.4444444444444444,
              "#bd3786"
             ],
             [
              0.5555555555555556,
              "#d8576b"
             ],
             [
              0.6666666666666666,
              "#ed7953"
             ],
             [
              0.7777777777777778,
              "#fb9f3a"
             ],
             [
              0.8888888888888888,
              "#fdca26"
             ],
             [
              1,
              "#f0f921"
             ]
            ],
            "type": "histogram2d"
           }
          ],
          "histogram2dcontour": [
           {
            "colorbar": {
             "outlinewidth": 0,
             "ticks": ""
            },
            "colorscale": [
             [
              0,
              "#0d0887"
             ],
             [
              0.1111111111111111,
              "#46039f"
             ],
             [
              0.2222222222222222,
              "#7201a8"
             ],
             [
              0.3333333333333333,
              "#9c179e"
             ],
             [
              0.4444444444444444,
              "#bd3786"
             ],
             [
              0.5555555555555556,
              "#d8576b"
             ],
             [
              0.6666666666666666,
              "#ed7953"
             ],
             [
              0.7777777777777778,
              "#fb9f3a"
             ],
             [
              0.8888888888888888,
              "#fdca26"
             ],
             [
              1,
              "#f0f921"
             ]
            ],
            "type": "histogram2dcontour"
           }
          ],
          "mesh3d": [
           {
            "colorbar": {
             "outlinewidth": 0,
             "ticks": ""
            },
            "type": "mesh3d"
           }
          ],
          "parcoords": [
           {
            "line": {
             "colorbar": {
              "outlinewidth": 0,
              "ticks": ""
             }
            },
            "type": "parcoords"
           }
          ],
          "pie": [
           {
            "automargin": true,
            "type": "pie"
           }
          ],
          "scatter": [
           {
            "fillpattern": {
             "fillmode": "overlay",
             "size": 10,
             "solidity": 0.2
            },
            "type": "scatter"
           }
          ],
          "scatter3d": [
           {
            "line": {
             "colorbar": {
              "outlinewidth": 0,
              "ticks": ""
             }
            },
            "marker": {
             "colorbar": {
              "outlinewidth": 0,
              "ticks": ""
             }
            },
            "type": "scatter3d"
           }
          ],
          "scattercarpet": [
           {
            "marker": {
             "colorbar": {
              "outlinewidth": 0,
              "ticks": ""
             }
            },
            "type": "scattercarpet"
           }
          ],
          "scattergeo": [
           {
            "marker": {
             "colorbar": {
              "outlinewidth": 0,
              "ticks": ""
             }
            },
            "type": "scattergeo"
           }
          ],
          "scattergl": [
           {
            "marker": {
             "colorbar": {
              "outlinewidth": 0,
              "ticks": ""
             }
            },
            "type": "scattergl"
           }
          ],
          "scattermap": [
           {
            "marker": {
             "colorbar": {
              "outlinewidth": 0,
              "ticks": ""
             }
            },
            "type": "scattermap"
           }
          ],
          "scattermapbox": [
           {
            "marker": {
             "colorbar": {
              "outlinewidth": 0,
              "ticks": ""
             }
            },
            "type": "scattermapbox"
           }
          ],
          "scatterpolar": [
           {
            "marker": {
             "colorbar": {
              "outlinewidth": 0,
              "ticks": ""
             }
            },
            "type": "scatterpolar"
           }
          ],
          "scatterpolargl": [
           {
            "marker": {
             "colorbar": {
              "outlinewidth": 0,
              "ticks": ""
             }
            },
            "type": "scatterpolargl"
           }
          ],
          "scatterternary": [
           {
            "marker": {
             "colorbar": {
              "outlinewidth": 0,
              "ticks": ""
             }
            },
            "type": "scatterternary"
           }
          ],
          "surface": [
           {
            "colorbar": {
             "outlinewidth": 0,
             "ticks": ""
            },
            "colorscale": [
             [
              0,
              "#0d0887"
             ],
             [
              0.1111111111111111,
              "#46039f"
             ],
             [
              0.2222222222222222,
              "#7201a8"
             ],
             [
              0.3333333333333333,
              "#9c179e"
             ],
             [
              0.4444444444444444,
              "#bd3786"
             ],
             [
              0.5555555555555556,
              "#d8576b"
             ],
             [
              0.6666666666666666,
              "#ed7953"
             ],
             [
              0.7777777777777778,
              "#fb9f3a"
             ],
             [
              0.8888888888888888,
              "#fdca26"
             ],
             [
              1,
              "#f0f921"
             ]
            ],
            "type": "surface"
           }
          ],
          "table": [
           {
            "cells": {
             "fill": {
              "color": "#EBF0F8"
             },
             "line": {
              "color": "white"
             }
            },
            "header": {
             "fill": {
              "color": "#C8D4E3"
             },
             "line": {
              "color": "white"
             }
            },
            "type": "table"
           }
          ]
         },
         "layout": {
          "annotationdefaults": {
           "arrowcolor": "#2a3f5f",
           "arrowhead": 0,
           "arrowwidth": 1
          },
          "autotypenumbers": "strict",
          "coloraxis": {
           "colorbar": {
            "outlinewidth": 0,
            "ticks": ""
           }
          },
          "colorscale": {
           "diverging": [
            [
             0,
             "#8e0152"
            ],
            [
             0.1,
             "#c51b7d"
            ],
            [
             0.2,
             "#de77ae"
            ],
            [
             0.3,
             "#f1b6da"
            ],
            [
             0.4,
             "#fde0ef"
            ],
            [
             0.5,
             "#f7f7f7"
            ],
            [
             0.6,
             "#e6f5d0"
            ],
            [
             0.7,
             "#b8e186"
            ],
            [
             0.8,
             "#7fbc41"
            ],
            [
             0.9,
             "#4d9221"
            ],
            [
             1,
             "#276419"
            ]
           ],
           "sequential": [
            [
             0,
             "#0d0887"
            ],
            [
             0.1111111111111111,
             "#46039f"
            ],
            [
             0.2222222222222222,
             "#7201a8"
            ],
            [
             0.3333333333333333,
             "#9c179e"
            ],
            [
             0.4444444444444444,
             "#bd3786"
            ],
            [
             0.5555555555555556,
             "#d8576b"
            ],
            [
             0.6666666666666666,
             "#ed7953"
            ],
            [
             0.7777777777777778,
             "#fb9f3a"
            ],
            [
             0.8888888888888888,
             "#fdca26"
            ],
            [
             1,
             "#f0f921"
            ]
           ],
           "sequentialminus": [
            [
             0,
             "#0d0887"
            ],
            [
             0.1111111111111111,
             "#46039f"
            ],
            [
             0.2222222222222222,
             "#7201a8"
            ],
            [
             0.3333333333333333,
             "#9c179e"
            ],
            [
             0.4444444444444444,
             "#bd3786"
            ],
            [
             0.5555555555555556,
             "#d8576b"
            ],
            [
             0.6666666666666666,
             "#ed7953"
            ],
            [
             0.7777777777777778,
             "#fb9f3a"
            ],
            [
             0.8888888888888888,
             "#fdca26"
            ],
            [
             1,
             "#f0f921"
            ]
           ]
          },
          "colorway": [
           "#636efa",
           "#EF553B",
           "#00cc96",
           "#ab63fa",
           "#FFA15A",
           "#19d3f3",
           "#FF6692",
           "#B6E880",
           "#FF97FF",
           "#FECB52"
          ],
          "font": {
           "color": "#2a3f5f"
          },
          "geo": {
           "bgcolor": "white",
           "lakecolor": "white",
           "landcolor": "#E5ECF6",
           "showlakes": true,
           "showland": true,
           "subunitcolor": "white"
          },
          "hoverlabel": {
           "align": "left"
          },
          "hovermode": "closest",
          "mapbox": {
           "style": "light"
          },
          "paper_bgcolor": "white",
          "plot_bgcolor": "#E5ECF6",
          "polar": {
           "angularaxis": {
            "gridcolor": "white",
            "linecolor": "white",
            "ticks": ""
           },
           "bgcolor": "#E5ECF6",
           "radialaxis": {
            "gridcolor": "white",
            "linecolor": "white",
            "ticks": ""
           }
          },
          "scene": {
           "xaxis": {
            "backgroundcolor": "#E5ECF6",
            "gridcolor": "white",
            "gridwidth": 2,
            "linecolor": "white",
            "showbackground": true,
            "ticks": "",
            "zerolinecolor": "white"
           },
           "yaxis": {
            "backgroundcolor": "#E5ECF6",
            "gridcolor": "white",
            "gridwidth": 2,
            "linecolor": "white",
            "showbackground": true,
            "ticks": "",
            "zerolinecolor": "white"
           },
           "zaxis": {
            "backgroundcolor": "#E5ECF6",
            "gridcolor": "white",
            "gridwidth": 2,
            "linecolor": "white",
            "showbackground": true,
            "ticks": "",
            "zerolinecolor": "white"
           }
          },
          "shapedefaults": {
           "line": {
            "color": "#2a3f5f"
           }
          },
          "ternary": {
           "aaxis": {
            "gridcolor": "white",
            "linecolor": "white",
            "ticks": ""
           },
           "baxis": {
            "gridcolor": "white",
            "linecolor": "white",
            "ticks": ""
           },
           "bgcolor": "#E5ECF6",
           "caxis": {
            "gridcolor": "white",
            "linecolor": "white",
            "ticks": ""
           }
          },
          "title": {
           "x": 0.05
          },
          "xaxis": {
           "automargin": true,
           "gridcolor": "white",
           "linecolor": "white",
           "ticks": "",
           "title": {
            "standoff": 15
           },
           "zerolinecolor": "white",
           "zerolinewidth": 2
          },
          "yaxis": {
           "automargin": true,
           "gridcolor": "white",
           "linecolor": "white",
           "ticks": "",
           "title": {
            "standoff": 15
           },
           "zerolinecolor": "white",
           "zerolinewidth": 2
          }
         }
        },
        "title": {
         "text": "Observed vs Expected Failure Rate by Provider"
        },
        "width": 500,
        "xaxis": {
         "anchor": "y",
         "domain": [
          0,
          1
         ],
         "title": {
          "text": "Observed Failure Rate"
         }
        },
        "yaxis": {
         "anchor": "x",
         "domain": [
          0,
          1
         ],
         "title": {
          "text": "expected_mean"
         }
        }
       }
      }
     },
     "metadata": {},
     "output_type": "display_data"
    }
   ],
   "source": [
    "fig = px.scatter(empirical_null_covariate_test, \n",
    "    x=\"observed_failure_rate\", \n",
    "    y=\"expected_mean\", \n",
    "    color=\"p_value\", \n",
    "    title=\"Observed vs Expected Failure Rate by Provider\",\n",
    "    labels={\"observed_failure_rate\": \"Observed Failure Rate\", \"p_value\": \"P-Value\"}\n",
    ")\n",
    "\n",
    "# Add identity line (y = x)\n",
    "min_val = min(empirical_null_covariate_test[\"observed_failure_rate\"].min(), empirical_null_covariate_test[\"expected_mean\"].min())\n",
    "max_val = max(empirical_null_covariate_test[\"observed_failure_rate\"].max(), empirical_null_covariate_test[\"expected_mean\"].max())\n",
    "fig.add_shape(type=\"line\", x0=min_val, y0=min_val, x1=max_val, y1=max_val, line=dict(color=\"black\", dash=\"dash\"))\n",
    "fig.update_layout(height=500, width=500)\n",
    "fig.show()\n",
    "\n",
    "fig_path = os.path.join(output_dir, \"expectedxobservedfailure_notbootstrapped.png\")\n",
    "pio.write_image(fig, fig_path)"
   ]
  },
  {
   "cell_type": "code",
   "execution_count": 16,
   "id": "745d5cec",
   "metadata": {},
   "outputs": [
    {
     "name": "stdout",
     "output_type": "stream",
     "text": [
      "Providers with observed failure rate greater than expected mean: [47, 56]\n"
     ]
    },
    {
     "data": {
      "text/html": [
       "<style type=\"text/css\">\n",
       "#T_f0818_row0_col0, #T_f0818_row0_col1, #T_f0818_row0_col2, #T_f0818_row0_col3, #T_f0818_row0_col4, #T_f0818_row0_col5, #T_f0818_row1_col0, #T_f0818_row1_col1, #T_f0818_row1_col2, #T_f0818_row1_col3, #T_f0818_row1_col4, #T_f0818_row1_col5 {\n",
       "  background-color: red;\n",
       "}\n",
       "#T_f0818_row2_col0, #T_f0818_row2_col1, #T_f0818_row2_col2, #T_f0818_row2_col3, #T_f0818_row2_col4, #T_f0818_row2_col5, #T_f0818_row3_col0, #T_f0818_row3_col1, #T_f0818_row3_col2, #T_f0818_row3_col3, #T_f0818_row3_col4, #T_f0818_row3_col5, #T_f0818_row4_col0, #T_f0818_row4_col1, #T_f0818_row4_col2, #T_f0818_row4_col3, #T_f0818_row4_col4, #T_f0818_row4_col5, #T_f0818_row5_col0, #T_f0818_row5_col1, #T_f0818_row5_col2, #T_f0818_row5_col3, #T_f0818_row5_col4, #T_f0818_row5_col5, #T_f0818_row6_col0, #T_f0818_row6_col1, #T_f0818_row6_col2, #T_f0818_row6_col3, #T_f0818_row6_col4, #T_f0818_row6_col5, #T_f0818_row7_col0, #T_f0818_row7_col1, #T_f0818_row7_col2, #T_f0818_row7_col3, #T_f0818_row7_col4, #T_f0818_row7_col5, #T_f0818_row8_col0, #T_f0818_row8_col1, #T_f0818_row8_col2, #T_f0818_row8_col3, #T_f0818_row8_col4, #T_f0818_row8_col5 {\n",
       "  background-color: green;\n",
       "}\n",
       "</style>\n",
       "<table id=\"T_f0818\">\n",
       "  <thead>\n",
       "    <tr>\n",
       "      <th class=\"blank level0\" >&nbsp;</th>\n",
       "      <th id=\"T_f0818_level0_col0\" class=\"col_heading level0 col0\" >provider</th>\n",
       "      <th id=\"T_f0818_level0_col1\" class=\"col_heading level0 col1\" >observed_failure_rate</th>\n",
       "      <th id=\"T_f0818_level0_col2\" class=\"col_heading level0 col2\" >expected_mean</th>\n",
       "      <th id=\"T_f0818_level0_col3\" class=\"col_heading level0 col3\" >lower_95_CI</th>\n",
       "      <th id=\"T_f0818_level0_col4\" class=\"col_heading level0 col4\" >upper_95_CI</th>\n",
       "      <th id=\"T_f0818_level0_col5\" class=\"col_heading level0 col5\" >p_value</th>\n",
       "    </tr>\n",
       "  </thead>\n",
       "  <tbody>\n",
       "    <tr>\n",
       "      <th id=\"T_f0818_level0_row0\" class=\"row_heading level0 row0\" >56</th>\n",
       "      <td id=\"T_f0818_row0_col0\" class=\"data row0 col0\" >57</td>\n",
       "      <td id=\"T_f0818_row0_col1\" class=\"data row0 col1\" >0.723404</td>\n",
       "      <td id=\"T_f0818_row0_col2\" class=\"data row0 col2\" >0.589000</td>\n",
       "      <td id=\"T_f0818_row0_col3\" class=\"data row0 col3\" >0.468085</td>\n",
       "      <td id=\"T_f0818_row0_col4\" class=\"data row0 col4\" >0.702128</td>\n",
       "      <td id=\"T_f0818_row0_col5\" class=\"data row0 col5\" >0.023976</td>\n",
       "    </tr>\n",
       "    <tr>\n",
       "      <th id=\"T_f0818_level0_row1\" class=\"row_heading level0 row1\" >47</th>\n",
       "      <td id=\"T_f0818_row1_col0\" class=\"data row1 col0\" >48</td>\n",
       "      <td id=\"T_f0818_row1_col1\" class=\"data row1 col1\" >0.704545</td>\n",
       "      <td id=\"T_f0818_row1_col2\" class=\"data row1 col2\" >0.580727</td>\n",
       "      <td id=\"T_f0818_row1_col3\" class=\"data row1 col3\" >0.454545</td>\n",
       "      <td id=\"T_f0818_row1_col4\" class=\"data row1 col4\" >0.704545</td>\n",
       "      <td id=\"T_f0818_row1_col5\" class=\"data row1 col5\" >0.044955</td>\n",
       "    </tr>\n",
       "    <tr>\n",
       "      <th id=\"T_f0818_level0_row2\" class=\"row_heading level0 row2\" >37</th>\n",
       "      <td id=\"T_f0818_row2_col0\" class=\"data row2 col0\" >38</td>\n",
       "      <td id=\"T_f0818_row2_col1\" class=\"data row2 col1\" >0.491803</td>\n",
       "      <td id=\"T_f0818_row2_col2\" class=\"data row2 col2\" >0.599803</td>\n",
       "      <td id=\"T_f0818_row2_col3\" class=\"data row2 col3\" >0.491393</td>\n",
       "      <td id=\"T_f0818_row2_col4\" class=\"data row2 col4\" >0.704918</td>\n",
       "      <td id=\"T_f0818_row2_col5\" class=\"data row2 col5\" >0.041958</td>\n",
       "    </tr>\n",
       "    <tr>\n",
       "      <th id=\"T_f0818_level0_row3\" class=\"row_heading level0 row3\" >91</th>\n",
       "      <td id=\"T_f0818_row3_col0\" class=\"data row3 col0\" >92</td>\n",
       "      <td id=\"T_f0818_row3_col1\" class=\"data row3 col1\" >0.463415</td>\n",
       "      <td id=\"T_f0818_row3_col2\" class=\"data row3 col2\" >0.600390</td>\n",
       "      <td id=\"T_f0818_row3_col3\" class=\"data row3 col3\" >0.463415</td>\n",
       "      <td id=\"T_f0818_row3_col4\" class=\"data row3 col4\" >0.731707</td>\n",
       "      <td id=\"T_f0818_row3_col5\" class=\"data row3 col5\" >0.030969</td>\n",
       "    </tr>\n",
       "    <tr>\n",
       "      <th id=\"T_f0818_level0_row4\" class=\"row_heading level0 row4\" >21</th>\n",
       "      <td id=\"T_f0818_row4_col0\" class=\"data row4 col0\" >22</td>\n",
       "      <td id=\"T_f0818_row4_col1\" class=\"data row4 col1\" >0.431818</td>\n",
       "      <td id=\"T_f0818_row4_col2\" class=\"data row4 col2\" >0.571341</td>\n",
       "      <td id=\"T_f0818_row4_col3\" class=\"data row4 col3\" >0.431818</td>\n",
       "      <td id=\"T_f0818_row4_col4\" class=\"data row4 col4\" >0.704545</td>\n",
       "      <td id=\"T_f0818_row4_col5\" class=\"data row4 col5\" >0.026973</td>\n",
       "    </tr>\n",
       "    <tr>\n",
       "      <th id=\"T_f0818_level0_row5\" class=\"row_heading level0 row5\" >77</th>\n",
       "      <td id=\"T_f0818_row5_col0\" class=\"data row5 col0\" >78</td>\n",
       "      <td id=\"T_f0818_row5_col1\" class=\"data row5 col1\" >0.431818</td>\n",
       "      <td id=\"T_f0818_row5_col2\" class=\"data row5 col2\" >0.579750</td>\n",
       "      <td id=\"T_f0818_row5_col3\" class=\"data row5 col3\" >0.431818</td>\n",
       "      <td id=\"T_f0818_row5_col4\" class=\"data row5 col4\" >0.704545</td>\n",
       "      <td id=\"T_f0818_row5_col5\" class=\"data row5 col5\" >0.026973</td>\n",
       "    </tr>\n",
       "    <tr>\n",
       "      <th id=\"T_f0818_level0_row6\" class=\"row_heading level0 row6\" >4</th>\n",
       "      <td id=\"T_f0818_row6_col0\" class=\"data row6 col0\" >5</td>\n",
       "      <td id=\"T_f0818_row6_col1\" class=\"data row6 col1\" >0.418605</td>\n",
       "      <td id=\"T_f0818_row6_col2\" class=\"data row6 col2\" >0.542186</td>\n",
       "      <td id=\"T_f0818_row6_col3\" class=\"data row6 col3\" >0.418605</td>\n",
       "      <td id=\"T_f0818_row6_col4\" class=\"data row6 col4\" >0.674419</td>\n",
       "      <td id=\"T_f0818_row6_col5\" class=\"data row6 col5\" >0.048951</td>\n",
       "    </tr>\n",
       "    <tr>\n",
       "      <th id=\"T_f0818_level0_row7\" class=\"row_heading level0 row7\" >65</th>\n",
       "      <td id=\"T_f0818_row7_col0\" class=\"data row7 col0\" >66</td>\n",
       "      <td id=\"T_f0818_row7_col1\" class=\"data row7 col1\" >0.377778</td>\n",
       "      <td id=\"T_f0818_row7_col2\" class=\"data row7 col2\" >0.544756</td>\n",
       "      <td id=\"T_f0818_row7_col3\" class=\"data row7 col3\" >0.400000</td>\n",
       "      <td id=\"T_f0818_row7_col4\" class=\"data row7 col4\" >0.688889</td>\n",
       "      <td id=\"T_f0818_row7_col5\" class=\"data row7 col5\" >0.009990</td>\n",
       "    </tr>\n",
       "    <tr>\n",
       "      <th id=\"T_f0818_level0_row8\" class=\"row_heading level0 row8\" >64</th>\n",
       "      <td id=\"T_f0818_row8_col0\" class=\"data row8 col0\" >65</td>\n",
       "      <td id=\"T_f0818_row8_col1\" class=\"data row8 col1\" >0.372093</td>\n",
       "      <td id=\"T_f0818_row8_col2\" class=\"data row8 col2\" >0.501581</td>\n",
       "      <td id=\"T_f0818_row8_col3\" class=\"data row8 col3\" >0.372093</td>\n",
       "      <td id=\"T_f0818_row8_col4\" class=\"data row8 col4\" >0.627907</td>\n",
       "      <td id=\"T_f0818_row8_col5\" class=\"data row8 col5\" >0.044955</td>\n",
       "    </tr>\n",
       "  </tbody>\n",
       "</table>\n"
      ],
      "text/plain": [
       "<pandas.io.formats.style.Styler at 0x1224f46e0>"
      ]
     },
     "execution_count": 16,
     "metadata": {},
     "output_type": "execute_result"
    }
   ],
   "source": [
    "styled_df = empirical_null_covariate_test.query(\"p_value < 0.05\").sort_values(\"observed_failure_rate\", ascending=False)\n",
    "\n",
    "# Highlight rows based on observed vs expected failure rate\n",
    "def highlight_row(row):\n",
    "    color = 'background-color: red' if row['observed_failure_rate'] > row['expected_mean'] else 'background-color: green'\n",
    "    return [color] * len(row)\n",
    "empirical_null_styled_df = styled_df.style.apply(highlight_row, axis=1)\n",
    "\n",
    "bad_providers = empirical_null_covariate_test.query(\"observed_failure_rate > expected_mean & p_value < 0.05\").index.tolist()\n",
    "print(f\"Providers with observed failure rate greater than expected mean: {bad_providers}\")\n",
    "empirical_null_styled_df"
   ]
  },
  {
   "cell_type": "markdown",
   "id": "6b586064",
   "metadata": {},
   "source": [
    "#### Bootstrapping for robustness \n",
    "- Because we are constructing an empirical null, there is a degree of randomness to this analysis. By bootstrapping samples, we can assess the stability of the difference in distribution to have more confidence in our identification of poor performing physicians."
   ]
  },
  {
   "cell_type": "code",
   "execution_count": 17,
   "id": "0bf7a081",
   "metadata": {},
   "outputs": [
    {
     "name": "stderr",
     "output_type": "stream",
     "text": [
      "Simulating nulls by provider: 100%|██████████| 96/96 [00:00<00:00, 117.17it/s]\n",
      "Simulating nulls by provider: 100%|██████████| 96/96 [00:00<00:00, 115.63it/s]\n",
      "Simulating nulls by provider: 100%|██████████| 96/96 [00:00<00:00, 116.78it/s]\n",
      "Simulating nulls by provider: 100%|██████████| 96/96 [00:00<00:00, 115.80it/s]\n",
      "Simulating nulls by provider: 100%|██████████| 96/96 [00:00<00:00, 115.39it/s]\n",
      "Simulating nulls by provider: 100%|██████████| 96/96 [00:00<00:00, 117.02it/s]\n",
      "Simulating nulls by provider: 100%|██████████| 96/96 [00:00<00:00, 105.63it/s]\n",
      "Simulating nulls by provider: 100%|██████████| 96/96 [00:00<00:00, 116.69it/s]\n",
      "Simulating nulls by provider: 100%|██████████| 96/96 [00:00<00:00, 99.67it/s] \n",
      "Simulating nulls by provider: 100%|██████████| 96/96 [00:00<00:00, 113.26it/s]\n",
      "Simulating nulls by provider: 100%|██████████| 96/96 [00:00<00:00, 115.35it/s]\n",
      "Simulating nulls by provider: 100%|██████████| 96/96 [00:00<00:00, 115.76it/s]\n",
      "Simulating nulls by provider: 100%|██████████| 96/96 [00:00<00:00, 116.64it/s]\n",
      "Simulating nulls by provider: 100%|██████████| 96/96 [00:00<00:00, 117.10it/s]\n",
      "Simulating nulls by provider: 100%|██████████| 96/96 [00:00<00:00, 115.80it/s]\n",
      "Simulating nulls by provider: 100%|██████████| 96/96 [00:00<00:00, 116.68it/s]\n",
      "Simulating nulls by provider: 100%|██████████| 96/96 [00:00<00:00, 117.20it/s]\n",
      "Simulating nulls by provider: 100%|██████████| 96/96 [00:00<00:00, 115.82it/s]\n",
      "Simulating nulls by provider: 100%|██████████| 96/96 [00:00<00:00, 115.83it/s]\n",
      "Simulating nulls by provider: 100%|██████████| 96/96 [00:00<00:00, 117.36it/s]\n",
      "Simulating nulls by provider: 100%|██████████| 96/96 [00:00<00:00, 117.94it/s]\n",
      "Simulating nulls by provider: 100%|██████████| 96/96 [00:00<00:00, 117.57it/s]\n",
      "Simulating nulls by provider: 100%|██████████| 96/96 [00:00<00:00, 117.85it/s]\n",
      "Simulating nulls by provider: 100%|██████████| 96/96 [00:00<00:00, 117.19it/s]\n",
      "Simulating nulls by provider: 100%|██████████| 96/96 [00:00<00:00, 116.02it/s]\n",
      "Simulating nulls by provider: 100%|██████████| 96/96 [00:00<00:00, 106.90it/s]\n",
      "Simulating nulls by provider: 100%|██████████| 96/96 [00:00<00:00, 116.82it/s]\n",
      "Simulating nulls by provider: 100%|██████████| 96/96 [00:00<00:00, 117.86it/s]\n",
      "Simulating nulls by provider: 100%|██████████| 96/96 [00:00<00:00, 117.60it/s]\n",
      "Simulating nulls by provider: 100%|██████████| 96/96 [00:00<00:00, 117.70it/s]\n",
      "Simulating nulls by provider: 100%|██████████| 96/96 [00:00<00:00, 116.46it/s]\n",
      "Simulating nulls by provider: 100%|██████████| 96/96 [00:00<00:00, 118.08it/s]\n",
      "Simulating nulls by provider: 100%|██████████| 96/96 [00:00<00:00, 117.00it/s]\n",
      "Simulating nulls by provider: 100%|██████████| 96/96 [00:00<00:00, 117.47it/s]\n",
      "Simulating nulls by provider: 100%|██████████| 96/96 [00:00<00:00, 116.38it/s]\n",
      "Simulating nulls by provider: 100%|██████████| 96/96 [00:00<00:00, 116.45it/s]\n",
      "Simulating nulls by provider: 100%|██████████| 96/96 [00:00<00:00, 117.72it/s]\n",
      "Simulating nulls by provider: 100%|██████████| 96/96 [00:00<00:00, 118.49it/s]\n",
      "Simulating nulls by provider: 100%|██████████| 96/96 [00:00<00:00, 117.91it/s]\n",
      "Simulating nulls by provider: 100%|██████████| 96/96 [00:00<00:00, 118.07it/s]\n",
      "Simulating nulls by provider: 100%|██████████| 96/96 [00:00<00:00, 116.28it/s]\n",
      "Simulating nulls by provider: 100%|██████████| 96/96 [00:00<00:00, 117.67it/s]\n",
      "Simulating nulls by provider: 100%|██████████| 96/96 [00:00<00:00, 117.54it/s]\n",
      "Simulating nulls by provider: 100%|██████████| 96/96 [00:00<00:00, 109.14it/s]\n",
      "Simulating nulls by provider: 100%|██████████| 96/96 [00:00<00:00, 116.95it/s]\n",
      "Simulating nulls by provider: 100%|██████████| 96/96 [00:00<00:00, 116.44it/s]\n",
      "Simulating nulls by provider: 100%|██████████| 96/96 [00:00<00:00, 117.47it/s]\n",
      "Simulating nulls by provider: 100%|██████████| 96/96 [00:00<00:00, 116.60it/s]\n",
      "Simulating nulls by provider: 100%|██████████| 96/96 [00:00<00:00, 117.96it/s]\n",
      "Simulating nulls by provider: 100%|██████████| 96/96 [00:00<00:00, 115.38it/s]\n",
      "Simulating nulls by provider: 100%|██████████| 96/96 [00:00<00:00, 116.35it/s]\n",
      "Simulating nulls by provider: 100%|██████████| 96/96 [00:00<00:00, 117.70it/s]\n",
      "Simulating nulls by provider: 100%|██████████| 96/96 [00:00<00:00, 117.26it/s]\n",
      "Simulating nulls by provider: 100%|██████████| 96/96 [00:00<00:00, 117.46it/s]\n",
      "Simulating nulls by provider: 100%|██████████| 96/96 [00:00<00:00, 115.69it/s]\n",
      "Simulating nulls by provider: 100%|██████████| 96/96 [00:00<00:00, 115.99it/s]\n",
      "Simulating nulls by provider: 100%|██████████| 96/96 [00:00<00:00, 117.16it/s]\n",
      "Simulating nulls by provider: 100%|██████████| 96/96 [00:00<00:00, 117.16it/s]\n",
      "Simulating nulls by provider: 100%|██████████| 96/96 [00:00<00:00, 118.63it/s]\n",
      "Simulating nulls by provider: 100%|██████████| 96/96 [00:00<00:00, 116.01it/s]\n",
      "Simulating nulls by provider: 100%|██████████| 96/96 [00:00<00:00, 116.51it/s]\n",
      "Simulating nulls by provider: 100%|██████████| 96/96 [00:00<00:00, 107.59it/s]\n",
      "Simulating nulls by provider: 100%|██████████| 96/96 [00:00<00:00, 117.69it/s]\n",
      "Simulating nulls by provider: 100%|██████████| 96/96 [00:00<00:00, 114.89it/s]\n",
      "Simulating nulls by provider: 100%|██████████| 96/96 [00:00<00:00, 118.73it/s]\n",
      "Simulating nulls by provider: 100%|██████████| 96/96 [00:00<00:00, 115.82it/s]\n",
      "Simulating nulls by provider: 100%|██████████| 96/96 [00:00<00:00, 114.28it/s]\n",
      "Simulating nulls by provider: 100%|██████████| 96/96 [00:00<00:00, 114.92it/s]\n",
      "Simulating nulls by provider: 100%|██████████| 96/96 [00:00<00:00, 116.51it/s]\n",
      "Simulating nulls by provider: 100%|██████████| 96/96 [00:00<00:00, 116.96it/s]\n",
      "Simulating nulls by provider: 100%|██████████| 96/96 [00:00<00:00, 116.64it/s]\n",
      "Simulating nulls by provider: 100%|██████████| 96/96 [00:00<00:00, 110.79it/s]\n",
      "Simulating nulls by provider: 100%|██████████| 96/96 [00:00<00:00, 114.47it/s]\n",
      "Simulating nulls by provider: 100%|██████████| 96/96 [00:00<00:00, 115.75it/s]\n",
      "Simulating nulls by provider: 100%|██████████| 96/96 [00:00<00:00, 115.79it/s]\n",
      "Simulating nulls by provider: 100%|██████████| 96/96 [00:00<00:00, 116.71it/s]\n",
      "Simulating nulls by provider: 100%|██████████| 96/96 [00:00<00:00, 117.27it/s]\n",
      "Simulating nulls by provider: 100%|██████████| 96/96 [00:00<00:00, 116.37it/s]\n",
      "Simulating nulls by provider: 100%|██████████| 96/96 [00:00<00:00, 117.65it/s]\n",
      "Simulating nulls by provider: 100%|██████████| 96/96 [00:00<00:00, 117.44it/s]\n",
      "Simulating nulls by provider: 100%|██████████| 96/96 [00:00<00:00, 100.81it/s]\n",
      "Simulating nulls by provider: 100%|██████████| 96/96 [00:00<00:00, 116.51it/s]\n",
      "Simulating nulls by provider: 100%|██████████| 96/96 [00:00<00:00, 116.29it/s]\n",
      "Simulating nulls by provider: 100%|██████████| 96/96 [00:00<00:00, 116.06it/s]\n",
      "Simulating nulls by provider: 100%|██████████| 96/96 [00:00<00:00, 118.71it/s]\n",
      "Simulating nulls by provider: 100%|██████████| 96/96 [00:00<00:00, 117.19it/s]\n",
      "Simulating nulls by provider: 100%|██████████| 96/96 [00:00<00:00, 116.55it/s]\n",
      "Simulating nulls by provider: 100%|██████████| 96/96 [00:00<00:00, 118.28it/s]\n",
      "Simulating nulls by provider: 100%|██████████| 96/96 [00:00<00:00, 116.28it/s]\n",
      "Simulating nulls by provider: 100%|██████████| 96/96 [00:00<00:00, 117.22it/s]\n",
      "Simulating nulls by provider: 100%|██████████| 96/96 [00:00<00:00, 106.91it/s]\n",
      "Simulating nulls by provider: 100%|██████████| 96/96 [00:00<00:00, 117.53it/s]\n",
      "Simulating nulls by provider: 100%|██████████| 96/96 [00:00<00:00, 118.34it/s]\n",
      "Simulating nulls by provider: 100%|██████████| 96/96 [00:00<00:00, 116.14it/s]\n",
      "Simulating nulls by provider: 100%|██████████| 96/96 [00:00<00:00, 117.38it/s]\n",
      "Simulating nulls by provider: 100%|██████████| 96/96 [00:00<00:00, 117.45it/s]\n",
      "Simulating nulls by provider: 100%|██████████| 96/96 [00:00<00:00, 118.16it/s]\n",
      "Simulating nulls by provider: 100%|██████████| 96/96 [00:00<00:00, 117.91it/s]\n",
      "Simulating nulls by provider: 100%|██████████| 96/96 [00:00<00:00, 116.58it/s]\n",
      "Simulating nulls by provider: 100%|██████████| 96/96 [00:00<00:00, 117.52it/s]\n",
      "Simulating nulls by provider: 100%|██████████| 96/96 [00:00<00:00, 115.82it/s]\n",
      "Simulating nulls by provider: 100%|██████████| 96/96 [00:00<00:00, 117.87it/s]\n",
      "Simulating nulls by provider: 100%|██████████| 96/96 [00:00<00:00, 117.86it/s]\n",
      "Simulating nulls by provider: 100%|██████████| 96/96 [00:00<00:00, 116.24it/s]\n",
      "Simulating nulls by provider: 100%|██████████| 96/96 [00:00<00:00, 118.27it/s]\n",
      "Simulating nulls by provider: 100%|██████████| 96/96 [00:00<00:00, 116.36it/s]\n",
      "Simulating nulls by provider: 100%|██████████| 96/96 [00:00<00:00, 117.40it/s]\n",
      "Simulating nulls by provider: 100%|██████████| 96/96 [00:00<00:00, 108.92it/s]\n",
      "Simulating nulls by provider: 100%|██████████| 96/96 [00:00<00:00, 116.03it/s]\n",
      "Simulating nulls by provider: 100%|██████████| 96/96 [00:00<00:00, 116.08it/s]\n",
      "Simulating nulls by provider: 100%|██████████| 96/96 [00:00<00:00, 117.85it/s]\n",
      "Simulating nulls by provider: 100%|██████████| 96/96 [00:00<00:00, 117.62it/s]\n",
      "Simulating nulls by provider: 100%|██████████| 96/96 [00:00<00:00, 117.25it/s]\n",
      "Simulating nulls by provider: 100%|██████████| 96/96 [00:00<00:00, 103.53it/s]\n",
      "Simulating nulls by provider: 100%|██████████| 96/96 [00:00<00:00, 116.67it/s]\n",
      "Simulating nulls by provider: 100%|██████████| 96/96 [00:00<00:00, 118.17it/s]\n",
      "Simulating nulls by provider: 100%|██████████| 96/96 [00:00<00:00, 117.15it/s]\n",
      "Simulating nulls by provider: 100%|██████████| 96/96 [00:00<00:00, 117.65it/s]\n",
      "Simulating nulls by provider: 100%|██████████| 96/96 [00:00<00:00, 117.85it/s]\n",
      "Simulating nulls by provider: 100%|██████████| 96/96 [00:00<00:00, 116.98it/s]\n",
      "Simulating nulls by provider: 100%|██████████| 96/96 [00:00<00:00, 113.08it/s]\n",
      "Simulating nulls by provider: 100%|██████████| 96/96 [00:00<00:00, 114.85it/s]\n",
      "Simulating nulls by provider: 100%|██████████| 96/96 [00:00<00:00, 118.17it/s]\n",
      "Simulating nulls by provider: 100%|██████████| 96/96 [00:00<00:00, 104.29it/s]\n",
      "Simulating nulls by provider: 100%|██████████| 96/96 [00:00<00:00, 115.62it/s]\n",
      "Simulating nulls by provider: 100%|██████████| 96/96 [00:00<00:00, 116.86it/s]\n",
      "Simulating nulls by provider: 100%|██████████| 96/96 [00:00<00:00, 116.34it/s]\n",
      "Simulating nulls by provider: 100%|██████████| 96/96 [00:00<00:00, 116.77it/s]\n",
      "Simulating nulls by provider: 100%|██████████| 96/96 [00:00<00:00, 117.34it/s]\n",
      "Simulating nulls by provider: 100%|██████████| 96/96 [00:00<00:00, 117.67it/s]\n",
      "Simulating nulls by provider: 100%|██████████| 96/96 [00:00<00:00, 118.35it/s]\n",
      "Simulating nulls by provider: 100%|██████████| 96/96 [00:00<00:00, 118.31it/s]\n",
      "Simulating nulls by provider: 100%|██████████| 96/96 [00:00<00:00, 116.67it/s]\n",
      "Simulating nulls by provider: 100%|██████████| 96/96 [00:00<00:00, 117.26it/s]\n",
      "Simulating nulls by provider: 100%|██████████| 96/96 [00:00<00:00, 117.80it/s]\n",
      "Simulating nulls by provider: 100%|██████████| 96/96 [00:00<00:00, 116.65it/s]\n",
      "Simulating nulls by provider: 100%|██████████| 96/96 [00:00<00:00, 118.64it/s]\n",
      "Simulating nulls by provider: 100%|██████████| 96/96 [00:00<00:00, 117.73it/s]\n",
      "Simulating nulls by provider: 100%|██████████| 96/96 [00:00<00:00, 121.37it/s]\n",
      "Simulating nulls by provider: 100%|██████████| 96/96 [00:00<00:00, 110.50it/s]\n",
      "Simulating nulls by provider: 100%|██████████| 96/96 [00:00<00:00, 118.62it/s]\n",
      "Simulating nulls by provider: 100%|██████████| 96/96 [00:00<00:00, 115.89it/s]\n",
      "Simulating nulls by provider: 100%|██████████| 96/96 [00:00<00:00, 118.72it/s]\n",
      "Simulating nulls by provider: 100%|██████████| 96/96 [00:00<00:00, 110.24it/s]\n",
      "Simulating nulls by provider: 100%|██████████| 96/96 [00:00<00:00, 114.49it/s]\n",
      "Simulating nulls by provider: 100%|██████████| 96/96 [00:00<00:00, 117.88it/s]\n",
      "Simulating nulls by provider: 100%|██████████| 96/96 [00:00<00:00, 118.60it/s]\n",
      "Simulating nulls by provider: 100%|██████████| 96/96 [00:00<00:00, 118.76it/s]\n",
      "Simulating nulls by provider: 100%|██████████| 96/96 [00:00<00:00, 118.23it/s]\n",
      "Simulating nulls by provider: 100%|██████████| 96/96 [00:00<00:00, 116.26it/s]\n",
      "Simulating nulls by provider: 100%|██████████| 96/96 [00:00<00:00, 117.53it/s]\n",
      "Simulating nulls by provider: 100%|██████████| 96/96 [00:00<00:00, 118.11it/s]\n",
      "Simulating nulls by provider: 100%|██████████| 96/96 [00:00<00:00, 101.54it/s]\n",
      "Simulating nulls by provider: 100%|██████████| 96/96 [00:00<00:00, 117.33it/s]\n",
      "Simulating nulls by provider: 100%|██████████| 96/96 [00:00<00:00, 118.86it/s]\n",
      "Simulating nulls by provider: 100%|██████████| 96/96 [00:00<00:00, 117.73it/s]\n",
      "Simulating nulls by provider: 100%|██████████| 96/96 [00:00<00:00, 118.15it/s]\n",
      "Simulating nulls by provider: 100%|██████████| 96/96 [00:00<00:00, 118.04it/s]\n",
      "Simulating nulls by provider: 100%|██████████| 96/96 [00:00<00:00, 119.07it/s]\n",
      "Simulating nulls by provider: 100%|██████████| 96/96 [00:00<00:00, 106.95it/s]\n",
      "Simulating nulls by provider: 100%|██████████| 96/96 [00:00<00:00, 118.29it/s]\n",
      "Simulating nulls by provider: 100%|██████████| 96/96 [00:00<00:00, 118.64it/s]\n",
      "Simulating nulls by provider: 100%|██████████| 96/96 [00:00<00:00, 117.96it/s]\n",
      "Simulating nulls by provider: 100%|██████████| 96/96 [00:00<00:00, 117.84it/s]\n",
      "Simulating nulls by provider: 100%|██████████| 96/96 [00:00<00:00, 118.74it/s]\n",
      "Simulating nulls by provider: 100%|██████████| 96/96 [00:00<00:00, 119.18it/s]\n",
      "Simulating nulls by provider: 100%|██████████| 96/96 [00:00<00:00, 118.01it/s]\n",
      "Simulating nulls by provider: 100%|██████████| 96/96 [00:00<00:00, 118.49it/s]\n",
      "Simulating nulls by provider: 100%|██████████| 96/96 [00:00<00:00, 117.70it/s]\n",
      "Simulating nulls by provider: 100%|██████████| 96/96 [00:00<00:00, 116.75it/s]\n",
      "Simulating nulls by provider: 100%|██████████| 96/96 [00:00<00:00, 117.65it/s]\n",
      "Simulating nulls by provider: 100%|██████████| 96/96 [00:00<00:00, 117.86it/s]\n",
      "Simulating nulls by provider: 100%|██████████| 96/96 [00:00<00:00, 117.76it/s]\n",
      "Simulating nulls by provider: 100%|██████████| 96/96 [00:00<00:00, 118.06it/s]\n",
      "Simulating nulls by provider: 100%|██████████| 96/96 [00:00<00:00, 110.06it/s]\n",
      "Simulating nulls by provider: 100%|██████████| 96/96 [00:00<00:00, 117.13it/s]\n",
      "Simulating nulls by provider: 100%|██████████| 96/96 [00:00<00:00, 118.29it/s]\n",
      "Simulating nulls by provider: 100%|██████████| 96/96 [00:00<00:00, 118.64it/s]\n",
      "Simulating nulls by provider: 100%|██████████| 96/96 [00:00<00:00, 118.43it/s]\n",
      "Simulating nulls by provider: 100%|██████████| 96/96 [00:00<00:00, 117.35it/s]\n",
      "Simulating nulls by provider: 100%|██████████| 96/96 [00:00<00:00, 116.52it/s]\n",
      "Simulating nulls by provider: 100%|██████████| 96/96 [00:00<00:00, 117.65it/s]\n",
      "Simulating nulls by provider: 100%|██████████| 96/96 [00:00<00:00, 117.50it/s]\n",
      "Simulating nulls by provider: 100%|██████████| 96/96 [00:00<00:00, 118.55it/s]\n",
      "Simulating nulls by provider: 100%|██████████| 96/96 [00:00<00:00, 118.20it/s]\n",
      "Simulating nulls by provider: 100%|██████████| 96/96 [00:00<00:00, 117.67it/s]\n",
      "Simulating nulls by provider: 100%|██████████| 96/96 [00:00<00:00, 117.80it/s]\n",
      "Simulating nulls by provider: 100%|██████████| 96/96 [00:00<00:00, 117.49it/s]\n",
      "Simulating nulls by provider: 100%|██████████| 96/96 [00:00<00:00, 117.97it/s]\n",
      "Simulating nulls by provider: 100%|██████████| 96/96 [00:00<00:00, 109.57it/s]\n",
      "Simulating nulls by provider: 100%|██████████| 96/96 [00:00<00:00, 116.74it/s]\n",
      "Simulating nulls by provider: 100%|██████████| 96/96 [00:00<00:00, 117.54it/s]\n",
      "Simulating nulls by provider: 100%|██████████| 96/96 [00:00<00:00, 117.97it/s]\n",
      "Simulating nulls by provider: 100%|██████████| 96/96 [00:00<00:00, 119.31it/s]\n",
      "Simulating nulls by provider: 100%|██████████| 96/96 [00:00<00:00, 117.35it/s]\n",
      "Simulating nulls by provider: 100%|██████████| 96/96 [00:00<00:00, 118.39it/s]\n",
      "Simulating nulls by provider: 100%|██████████| 96/96 [00:00<00:00, 118.17it/s]\n",
      "Simulating nulls by provider: 100%|██████████| 96/96 [00:00<00:00, 118.21it/s]\n",
      "Simulating nulls by provider: 100%|██████████| 96/96 [00:00<00:00, 117.38it/s]\n",
      "Simulating nulls by provider: 100%|██████████| 96/96 [00:00<00:00, 117.85it/s]\n"
     ]
    }
   ],
   "source": [
    "boostrapped_null = bootstrap_stability_check(data_outcome_compare, \"outcome\", \"servicing_provider_id\", [\"health_risk_assesment\", \"member_sex\"], n_bootstraps=200)\n",
    "\n",
    "boostrapped_null_agg = boostrapped_null.groupby(\"provider\").agg(\n",
    "    observed_failure_rate=(\"observed_failure_rate\", \"median\"),\n",
    "    expected_mean=(\"expected_mean\", \"median\"),\n",
    "    p_value=(\"p_value\", \"median\")\n",
    ").sort_values(\"observed_failure_rate\", ascending=False)"
   ]
  },
  {
   "cell_type": "code",
   "execution_count": 18,
   "id": "7c658da1",
   "metadata": {},
   "outputs": [
    {
     "data": {
      "application/vnd.plotly.v1+json": {
       "config": {
        "plotlyServerURL": "https://plot.ly"
       },
       "data": [
        {
         "hovertemplate": "Observed Failure Rate=%{x}<br>expected_mean=%{y}<br>P-Value=%{marker.color}<extra></extra>",
         "legendgroup": "",
         "marker": {
          "color": {
           "bdata": "AKf76EmHlz+nouQy0Z67PwYBnO6jJ60/FDuxEzuxwz/QAi3QAi3AP6rPtDX+bs4/57iluP68tT9Q4bcJylq1PwCn++hJh7c/tnjo+49F0D94/hUaikTEP+nwggBO99E/3e5KIwaoxz9URmVURmXUPz960uEFAbw/vG53pREDxD97INnXlKq9P0YMUC+v280/DKkzxpHW0T+K9tygU1HSP2yj2SWMfNE/7B1TA3vHxD8vYeSL1bXRP8jUwN4xNdA//OhJhxcE0D+OW4rrz1vRP3Q1V3M1V9M/Y3VtNLuE0T+oouQy0Z7LP+Tv5hGqz9Q/jrSOAobUyT+Ov5tHqD7TP1RGZVRGZdQ/lLUq8Sn81j8rmCXlgMjQP5IkSZIkSdI/hZEvVtdG0z9nPizbD3LSP4HIcK+CWdI/p6LkMtGeyz+wd0wN7B3TP8Y40joKGNI/KWBInTGO1D++CmZJOSDSP1pHAUPqjNE/cVZ+QpyVzz8YoF5et7vSPzTGkdZRwNA/PFgPJPua0j8JLmzx0PfPPxBy8mzmw9I/qeXOv0JD0T+zpBwQGe7VP9KTDi8I4NQ/PyHOyk+I0z9D6oxxpHXUP0hPOrwggNM/At/YMJnB0z88QvWZtsbPPwjgdB896dA/SE86vCCA0z+KT+G3CcrKP1hoKBJRy80/Kvw2QVmr0j+SJEmSJEnSP9xdacQA9dI/qEngGxsm0z+iSEQtd/7FP4gXBHC6j84/hJEvVtdG0z/e7kojBqjHP6hJ4BsbJtM/GjxNAt/Y0D/6TFvj7+bRP0Uiarnzr9A/uaW4/rwV0z+80ogB6uXVP0TffyyCC8s/4CYoa1Xiwz8U15+3Ys7RPwUMqTPGkcY/zJ1/hYYi0T/uVTBLygHRP4YiEbXc+cc/PPT9xyK40D8Ap/voSYenP2nPDToVJcc/p6LkMtGemz8yg6dJ4BubPwYBnO6jJ50/ePMI1Wfauj91xjjSOgqoPwCn++hJh6c/BNTL63ZXqj8tKQdEhnulP5HhXgWzpHw/",
           "dtype": "f8"
          },
          "coloraxis": "coloraxis",
          "symbol": "circle"
         },
         "mode": "markers",
         "name": "",
         "orientation": "v",
         "showlegend": false,
         "type": "scatter",
         "x": {
          "bdata": "XUFMriAm5z94QoANvprmP9qo72zUd+Y/Ws6f5fxZ5j/29fX19fXlP1VVVVVVVeU/VVVVVVVV5T9VVVVVVVXlPy4P7v0wI+U//6kNthfp5D8CGQ0TkNHkPwEN0AAN0OQ/Qbywf0OF5D81SIM0SIPkP1100UUXXeQ/VCRARQJU5D/QrBVPNTHkP43IqjnyFeQ/Ccs9jbDc4z/CBx988MHjP89GfWejvuM/WNe/JhGn4z+jiy666KLjP6B//vnnn+M/RFB1qzWd4z9AVq4OkJXjP+UmJcDdkuM/5DiO4ziO4z80FuANrIjjP17YDUPHfuM/XtgNQ8d+4z9lk0022WTjP0REREREROM/MzMzMzMz4z8zMzMzMzPjPzMzMzMzM+M/MzMzMzMz4z8zMzMzMzPjP1FxWAATFeM/OJgin3UD4z/zLd/yLd/iP6kr6oq6ouI/oH766aef4j9+dVJlDIviP9InfdInfeI/7SW0l9Be4j+SJEmSJEniP5IkSZIkSeI/MjIyMjIy4j/cFvwe4x/iPyELWchCFuI/BPHC/g0V4j/6FTPNsRHiP2mQBmmQBuI/8EH4HoTv4T8yC+tH5uPhPyzTf6kU3+E/d8QdcUfc4T/+3M/93M/hP3Icx3Ecx+E/chzHcRzH4T9yHMdxHMfhP9xMl4ptveE/HcyYh3Ox4T+YClp9qaDhP3TRRRdddOE/dNFFF1104T9VVVVVVVXhPyrRWne1S+E/SOF6FK5H4T9Uk4r+PTXhP0mSJEmSJOE/SDcbYCsh4T/x8PDw8PDgP3kN5TWU1+A/rO56+HiS4D/rBlPks27gP2RwPgbnY+A/QUyuICZX4D8afx5izE7gPyXIU4I8JeA/AAAAAAAA4D8AAAAAAADgPwAAAAAAAOA/AAAAAAAA4D8E9xHcR3DfP9aHxvrQWN8/KhY0h4oF3T8u3/It3/LbP5ybm5ubm9s/MzMzMzMz2z+7QPJq9MbaPwYyKV4gk9o/mpmZmZmZ2T/ZiqDhpO7XP42pcOL+xdc/",
          "dtype": "f8"
         },
         "xaxis": "x",
         "y": {
          "bdata": "APsbhAHf4j9ljjQaNa7jP5DQf7tXluI/DtP/YzBz4z8MAb7fYH/jPwPDViwf5uM/cJbTIAk84j8FHDTK7mziP25t8PKR/+E/inBWFphs4z9DwqKtfxniPy8Q9XSaP+Q/SFzgKCZL4j/4oGez6nPkP1g84n1CY+E/zC6Quc9l4T9ck9kJ25rhPz4LpAu9f+I/Ojo04iy34j8sBbDpOJDiPyo1NQZ3VeQ/irAIT22x4D8SFayeybTjPwL8UIPUJeI/ujZ9RbPU4T+92q7wDeLjP0w6YqbMTuM/nHMx5Sex4T/Gkdf5dZThP2PjAa5UyuI/DlXo5hZ24T8IYTUnwjTjP9bbJe/fm+I/ofunJPgX4z/keKpIyALiPy4NL4DFreI/6j8+Gzxu4z87GtTFY//hP2zyYGL0QeM/3b04Tfty4T+T6l891ibiP2ohiEFHHeI/B2a6+W0B4T+uu+fzWCLiP8XD0fI2aeE/4qvs/+fS4z8mVy8aUGjiP0DWYWnfHuI/fBPF6PrA4T+5+JGdKpHjP79ooLSR/OI/9nRYao5T4T+ArPAb6RnhP/aIzhUTI+I/fd7L57184T9l2B1w/GHhP+aoM1yq5OE/rPcuuPn54T9WYBD5RX/jP8ZCQKEThOE/lp1JZsAk4j9ITJDVFWrgPxJkszXFiOM/A4BMIupG4j/mEX6jzIngP/oNtIMHmOI/fstDPlrI4T/OMoZStHTjP+ktB6vcHOI/CeQdVwj24T/KgbQec3LjP7jjoYSw7uI/eAskKH4M4D9XGciCLX7hP15ll9ZOvuE/SrrQMjNq4T+of1DH1EHhP0SQNLFkX+I/Ql/+vHOs4j8fUWIFCjLhP+jrV5dXTuI/JFAyL2jo4D82IXMrSs/gP8ZPi238FOI/oO3VCH/D4T9s/JyVxy3jP+FzOs7VjuE/EjRTR7RK4z8x5P10qH/iP3+kXTEBR+I/jCwEInCP4D/hDQfNXz/hPwSknM60Y+E/elioNc1r4D+WBNf/GhPgP4n64eBAgOE/",
          "dtype": "f8"
         },
         "yaxis": "y"
        }
       ],
       "layout": {
        "coloraxis": {
         "colorbar": {
          "title": {
           "text": "P-Value"
          }
         },
         "colorscale": [
          [
           0,
           "#0d0887"
          ],
          [
           0.1111111111111111,
           "#46039f"
          ],
          [
           0.2222222222222222,
           "#7201a8"
          ],
          [
           0.3333333333333333,
           "#9c179e"
          ],
          [
           0.4444444444444444,
           "#bd3786"
          ],
          [
           0.5555555555555556,
           "#d8576b"
          ],
          [
           0.6666666666666666,
           "#ed7953"
          ],
          [
           0.7777777777777778,
           "#fb9f3a"
          ],
          [
           0.8888888888888888,
           "#fdca26"
          ],
          [
           1,
           "#f0f921"
          ]
         ]
        },
        "height": 500,
        "legend": {
         "tracegroupgap": 0
        },
        "shapes": [
         {
          "line": {
           "color": "black",
           "dash": "dash"
          },
          "type": "line",
          "x0": 0.37145969498910675,
          "x1": 0.723404255319149,
          "y0": 0.37145969498910675,
          "y1": 0.723404255319149
         }
        ],
        "template": {
         "data": {
          "bar": [
           {
            "error_x": {
             "color": "#2a3f5f"
            },
            "error_y": {
             "color": "#2a3f5f"
            },
            "marker": {
             "line": {
              "color": "#E5ECF6",
              "width": 0.5
             },
             "pattern": {
              "fillmode": "overlay",
              "size": 10,
              "solidity": 0.2
             }
            },
            "type": "bar"
           }
          ],
          "barpolar": [
           {
            "marker": {
             "line": {
              "color": "#E5ECF6",
              "width": 0.5
             },
             "pattern": {
              "fillmode": "overlay",
              "size": 10,
              "solidity": 0.2
             }
            },
            "type": "barpolar"
           }
          ],
          "carpet": [
           {
            "aaxis": {
             "endlinecolor": "#2a3f5f",
             "gridcolor": "white",
             "linecolor": "white",
             "minorgridcolor": "white",
             "startlinecolor": "#2a3f5f"
            },
            "baxis": {
             "endlinecolor": "#2a3f5f",
             "gridcolor": "white",
             "linecolor": "white",
             "minorgridcolor": "white",
             "startlinecolor": "#2a3f5f"
            },
            "type": "carpet"
           }
          ],
          "choropleth": [
           {
            "colorbar": {
             "outlinewidth": 0,
             "ticks": ""
            },
            "type": "choropleth"
           }
          ],
          "contour": [
           {
            "colorbar": {
             "outlinewidth": 0,
             "ticks": ""
            },
            "colorscale": [
             [
              0,
              "#0d0887"
             ],
             [
              0.1111111111111111,
              "#46039f"
             ],
             [
              0.2222222222222222,
              "#7201a8"
             ],
             [
              0.3333333333333333,
              "#9c179e"
             ],
             [
              0.4444444444444444,
              "#bd3786"
             ],
             [
              0.5555555555555556,
              "#d8576b"
             ],
             [
              0.6666666666666666,
              "#ed7953"
             ],
             [
              0.7777777777777778,
              "#fb9f3a"
             ],
             [
              0.8888888888888888,
              "#fdca26"
             ],
             [
              1,
              "#f0f921"
             ]
            ],
            "type": "contour"
           }
          ],
          "contourcarpet": [
           {
            "colorbar": {
             "outlinewidth": 0,
             "ticks": ""
            },
            "type": "contourcarpet"
           }
          ],
          "heatmap": [
           {
            "colorbar": {
             "outlinewidth": 0,
             "ticks": ""
            },
            "colorscale": [
             [
              0,
              "#0d0887"
             ],
             [
              0.1111111111111111,
              "#46039f"
             ],
             [
              0.2222222222222222,
              "#7201a8"
             ],
             [
              0.3333333333333333,
              "#9c179e"
             ],
             [
              0.4444444444444444,
              "#bd3786"
             ],
             [
              0.5555555555555556,
              "#d8576b"
             ],
             [
              0.6666666666666666,
              "#ed7953"
             ],
             [
              0.7777777777777778,
              "#fb9f3a"
             ],
             [
              0.8888888888888888,
              "#fdca26"
             ],
             [
              1,
              "#f0f921"
             ]
            ],
            "type": "heatmap"
           }
          ],
          "histogram": [
           {
            "marker": {
             "pattern": {
              "fillmode": "overlay",
              "size": 10,
              "solidity": 0.2
             }
            },
            "type": "histogram"
           }
          ],
          "histogram2d": [
           {
            "colorbar": {
             "outlinewidth": 0,
             "ticks": ""
            },
            "colorscale": [
             [
              0,
              "#0d0887"
             ],
             [
              0.1111111111111111,
              "#46039f"
             ],
             [
              0.2222222222222222,
              "#7201a8"
             ],
             [
              0.3333333333333333,
              "#9c179e"
             ],
             [
              0.4444444444444444,
              "#bd3786"
             ],
             [
              0.5555555555555556,
              "#d8576b"
             ],
             [
              0.6666666666666666,
              "#ed7953"
             ],
             [
              0.7777777777777778,
              "#fb9f3a"
             ],
             [
              0.8888888888888888,
              "#fdca26"
             ],
             [
              1,
              "#f0f921"
             ]
            ],
            "type": "histogram2d"
           }
          ],
          "histogram2dcontour": [
           {
            "colorbar": {
             "outlinewidth": 0,
             "ticks": ""
            },
            "colorscale": [
             [
              0,
              "#0d0887"
             ],
             [
              0.1111111111111111,
              "#46039f"
             ],
             [
              0.2222222222222222,
              "#7201a8"
             ],
             [
              0.3333333333333333,
              "#9c179e"
             ],
             [
              0.4444444444444444,
              "#bd3786"
             ],
             [
              0.5555555555555556,
              "#d8576b"
             ],
             [
              0.6666666666666666,
              "#ed7953"
             ],
             [
              0.7777777777777778,
              "#fb9f3a"
             ],
             [
              0.8888888888888888,
              "#fdca26"
             ],
             [
              1,
              "#f0f921"
             ]
            ],
            "type": "histogram2dcontour"
           }
          ],
          "mesh3d": [
           {
            "colorbar": {
             "outlinewidth": 0,
             "ticks": ""
            },
            "type": "mesh3d"
           }
          ],
          "parcoords": [
           {
            "line": {
             "colorbar": {
              "outlinewidth": 0,
              "ticks": ""
             }
            },
            "type": "parcoords"
           }
          ],
          "pie": [
           {
            "automargin": true,
            "type": "pie"
           }
          ],
          "scatter": [
           {
            "fillpattern": {
             "fillmode": "overlay",
             "size": 10,
             "solidity": 0.2
            },
            "type": "scatter"
           }
          ],
          "scatter3d": [
           {
            "line": {
             "colorbar": {
              "outlinewidth": 0,
              "ticks": ""
             }
            },
            "marker": {
             "colorbar": {
              "outlinewidth": 0,
              "ticks": ""
             }
            },
            "type": "scatter3d"
           }
          ],
          "scattercarpet": [
           {
            "marker": {
             "colorbar": {
              "outlinewidth": 0,
              "ticks": ""
             }
            },
            "type": "scattercarpet"
           }
          ],
          "scattergeo": [
           {
            "marker": {
             "colorbar": {
              "outlinewidth": 0,
              "ticks": ""
             }
            },
            "type": "scattergeo"
           }
          ],
          "scattergl": [
           {
            "marker": {
             "colorbar": {
              "outlinewidth": 0,
              "ticks": ""
             }
            },
            "type": "scattergl"
           }
          ],
          "scattermap": [
           {
            "marker": {
             "colorbar": {
              "outlinewidth": 0,
              "ticks": ""
             }
            },
            "type": "scattermap"
           }
          ],
          "scattermapbox": [
           {
            "marker": {
             "colorbar": {
              "outlinewidth": 0,
              "ticks": ""
             }
            },
            "type": "scattermapbox"
           }
          ],
          "scatterpolar": [
           {
            "marker": {
             "colorbar": {
              "outlinewidth": 0,
              "ticks": ""
             }
            },
            "type": "scatterpolar"
           }
          ],
          "scatterpolargl": [
           {
            "marker": {
             "colorbar": {
              "outlinewidth": 0,
              "ticks": ""
             }
            },
            "type": "scatterpolargl"
           }
          ],
          "scatterternary": [
           {
            "marker": {
             "colorbar": {
              "outlinewidth": 0,
              "ticks": ""
             }
            },
            "type": "scatterternary"
           }
          ],
          "surface": [
           {
            "colorbar": {
             "outlinewidth": 0,
             "ticks": ""
            },
            "colorscale": [
             [
              0,
              "#0d0887"
             ],
             [
              0.1111111111111111,
              "#46039f"
             ],
             [
              0.2222222222222222,
              "#7201a8"
             ],
             [
              0.3333333333333333,
              "#9c179e"
             ],
             [
              0.4444444444444444,
              "#bd3786"
             ],
             [
              0.5555555555555556,
              "#d8576b"
             ],
             [
              0.6666666666666666,
              "#ed7953"
             ],
             [
              0.7777777777777778,
              "#fb9f3a"
             ],
             [
              0.8888888888888888,
              "#fdca26"
             ],
             [
              1,
              "#f0f921"
             ]
            ],
            "type": "surface"
           }
          ],
          "table": [
           {
            "cells": {
             "fill": {
              "color": "#EBF0F8"
             },
             "line": {
              "color": "white"
             }
            },
            "header": {
             "fill": {
              "color": "#C8D4E3"
             },
             "line": {
              "color": "white"
             }
            },
            "type": "table"
           }
          ]
         },
         "layout": {
          "annotationdefaults": {
           "arrowcolor": "#2a3f5f",
           "arrowhead": 0,
           "arrowwidth": 1
          },
          "autotypenumbers": "strict",
          "coloraxis": {
           "colorbar": {
            "outlinewidth": 0,
            "ticks": ""
           }
          },
          "colorscale": {
           "diverging": [
            [
             0,
             "#8e0152"
            ],
            [
             0.1,
             "#c51b7d"
            ],
            [
             0.2,
             "#de77ae"
            ],
            [
             0.3,
             "#f1b6da"
            ],
            [
             0.4,
             "#fde0ef"
            ],
            [
             0.5,
             "#f7f7f7"
            ],
            [
             0.6,
             "#e6f5d0"
            ],
            [
             0.7,
             "#b8e186"
            ],
            [
             0.8,
             "#7fbc41"
            ],
            [
             0.9,
             "#4d9221"
            ],
            [
             1,
             "#276419"
            ]
           ],
           "sequential": [
            [
             0,
             "#0d0887"
            ],
            [
             0.1111111111111111,
             "#46039f"
            ],
            [
             0.2222222222222222,
             "#7201a8"
            ],
            [
             0.3333333333333333,
             "#9c179e"
            ],
            [
             0.4444444444444444,
             "#bd3786"
            ],
            [
             0.5555555555555556,
             "#d8576b"
            ],
            [
             0.6666666666666666,
             "#ed7953"
            ],
            [
             0.7777777777777778,
             "#fb9f3a"
            ],
            [
             0.8888888888888888,
             "#fdca26"
            ],
            [
             1,
             "#f0f921"
            ]
           ],
           "sequentialminus": [
            [
             0,
             "#0d0887"
            ],
            [
             0.1111111111111111,
             "#46039f"
            ],
            [
             0.2222222222222222,
             "#7201a8"
            ],
            [
             0.3333333333333333,
             "#9c179e"
            ],
            [
             0.4444444444444444,
             "#bd3786"
            ],
            [
             0.5555555555555556,
             "#d8576b"
            ],
            [
             0.6666666666666666,
             "#ed7953"
            ],
            [
             0.7777777777777778,
             "#fb9f3a"
            ],
            [
             0.8888888888888888,
             "#fdca26"
            ],
            [
             1,
             "#f0f921"
            ]
           ]
          },
          "colorway": [
           "#636efa",
           "#EF553B",
           "#00cc96",
           "#ab63fa",
           "#FFA15A",
           "#19d3f3",
           "#FF6692",
           "#B6E880",
           "#FF97FF",
           "#FECB52"
          ],
          "font": {
           "color": "#2a3f5f"
          },
          "geo": {
           "bgcolor": "white",
           "lakecolor": "white",
           "landcolor": "#E5ECF6",
           "showlakes": true,
           "showland": true,
           "subunitcolor": "white"
          },
          "hoverlabel": {
           "align": "left"
          },
          "hovermode": "closest",
          "mapbox": {
           "style": "light"
          },
          "paper_bgcolor": "white",
          "plot_bgcolor": "#E5ECF6",
          "polar": {
           "angularaxis": {
            "gridcolor": "white",
            "linecolor": "white",
            "ticks": ""
           },
           "bgcolor": "#E5ECF6",
           "radialaxis": {
            "gridcolor": "white",
            "linecolor": "white",
            "ticks": ""
           }
          },
          "scene": {
           "xaxis": {
            "backgroundcolor": "#E5ECF6",
            "gridcolor": "white",
            "gridwidth": 2,
            "linecolor": "white",
            "showbackground": true,
            "ticks": "",
            "zerolinecolor": "white"
           },
           "yaxis": {
            "backgroundcolor": "#E5ECF6",
            "gridcolor": "white",
            "gridwidth": 2,
            "linecolor": "white",
            "showbackground": true,
            "ticks": "",
            "zerolinecolor": "white"
           },
           "zaxis": {
            "backgroundcolor": "#E5ECF6",
            "gridcolor": "white",
            "gridwidth": 2,
            "linecolor": "white",
            "showbackground": true,
            "ticks": "",
            "zerolinecolor": "white"
           }
          },
          "shapedefaults": {
           "line": {
            "color": "#2a3f5f"
           }
          },
          "ternary": {
           "aaxis": {
            "gridcolor": "white",
            "linecolor": "white",
            "ticks": ""
           },
           "baxis": {
            "gridcolor": "white",
            "linecolor": "white",
            "ticks": ""
           },
           "bgcolor": "#E5ECF6",
           "caxis": {
            "gridcolor": "white",
            "linecolor": "white",
            "ticks": ""
           }
          },
          "title": {
           "x": 0.05
          },
          "xaxis": {
           "automargin": true,
           "gridcolor": "white",
           "linecolor": "white",
           "ticks": "",
           "title": {
            "standoff": 15
           },
           "zerolinecolor": "white",
           "zerolinewidth": 2
          },
          "yaxis": {
           "automargin": true,
           "gridcolor": "white",
           "linecolor": "white",
           "ticks": "",
           "title": {
            "standoff": 15
           },
           "zerolinecolor": "white",
           "zerolinewidth": 2
          }
         }
        },
        "title": {
         "text": "Observed vs Expected Failure Rate by Provider\nover Bootstrapped Samples"
        },
        "width": 500,
        "xaxis": {
         "anchor": "y",
         "domain": [
          0,
          1
         ],
         "title": {
          "text": "Observed Failure Rate"
         }
        },
        "yaxis": {
         "anchor": "x",
         "domain": [
          0,
          1
         ],
         "title": {
          "text": "expected_mean"
         }
        }
       }
      }
     },
     "metadata": {},
     "output_type": "display_data"
    }
   ],
   "source": [
    "fig = px.scatter(\n",
    "    boostrapped_null_agg, \n",
    "    x=\"observed_failure_rate\", \n",
    "    y=\"expected_mean\", \n",
    "    color=\"p_value\", \n",
    "    title=\"Observed vs Expected Failure Rate by Provider\"+\"\\n\"+\"over Bootstrapped Samples\",\n",
    "    labels={\"observed_failure_rate\": \"Observed Failure Rate\", \"p_value\": \"P-Value\"}\n",
    ")\n",
    "\n",
    "# Add identity line (y = x)\n",
    "min_val = min(boostrapped_null_agg[\"observed_failure_rate\"].min(), boostrapped_null_agg[\"expected_mean\"].min())\n",
    "max_val = max(boostrapped_null_agg[\"observed_failure_rate\"].max(), boostrapped_null_agg[\"expected_mean\"].max())\n",
    "fig.add_shape(type=\"line\", x0=min_val, y0=min_val, x1=max_val, y1=max_val, line=dict(color=\"black\", dash=\"dash\"))\n",
    "fig.update_layout(height=500, width=500)\n",
    "fig.show()\n",
    "\n",
    "fig_path = os.path.join(output_dir, \"expectedxobservedfailure_bootstrapped.png\")\n",
    "pio.write_image(fig, fig_path)"
   ]
  },
  {
   "cell_type": "code",
   "execution_count": 19,
   "id": "16b9aa27",
   "metadata": {},
   "outputs": [
    {
     "name": "stdout",
     "output_type": "stream",
     "text": [
      "Providers with observed failure rate greater than expected mean: [57]\n"
     ]
    },
    {
     "data": {
      "text/html": [
       "<style type=\"text/css\">\n",
       "#T_54ec9_row0_col0, #T_54ec9_row0_col1, #T_54ec9_row0_col2 {\n",
       "  background-color: red;\n",
       "}\n",
       "#T_54ec9_row1_col0, #T_54ec9_row1_col1, #T_54ec9_row1_col2, #T_54ec9_row2_col0, #T_54ec9_row2_col1, #T_54ec9_row2_col2, #T_54ec9_row3_col0, #T_54ec9_row3_col1, #T_54ec9_row3_col2, #T_54ec9_row4_col0, #T_54ec9_row4_col1, #T_54ec9_row4_col2, #T_54ec9_row5_col0, #T_54ec9_row5_col1, #T_54ec9_row5_col2, #T_54ec9_row6_col0, #T_54ec9_row6_col1, #T_54ec9_row6_col2, #T_54ec9_row7_col0, #T_54ec9_row7_col1, #T_54ec9_row7_col2, #T_54ec9_row8_col0, #T_54ec9_row8_col1, #T_54ec9_row8_col2 {\n",
       "  background-color: green;\n",
       "}\n",
       "</style>\n",
       "<table id=\"T_54ec9\">\n",
       "  <thead>\n",
       "    <tr>\n",
       "      <th class=\"blank level0\" >&nbsp;</th>\n",
       "      <th id=\"T_54ec9_level0_col0\" class=\"col_heading level0 col0\" >observed_failure_rate</th>\n",
       "      <th id=\"T_54ec9_level0_col1\" class=\"col_heading level0 col1\" >expected_mean</th>\n",
       "      <th id=\"T_54ec9_level0_col2\" class=\"col_heading level0 col2\" >p_value</th>\n",
       "    </tr>\n",
       "    <tr>\n",
       "      <th class=\"index_name level0\" >provider</th>\n",
       "      <th class=\"blank col0\" >&nbsp;</th>\n",
       "      <th class=\"blank col1\" >&nbsp;</th>\n",
       "      <th class=\"blank col2\" >&nbsp;</th>\n",
       "    </tr>\n",
       "  </thead>\n",
       "  <tbody>\n",
       "    <tr>\n",
       "      <th id=\"T_54ec9_level0_row0\" class=\"row_heading level0 row0\" >57</th>\n",
       "      <td id=\"T_54ec9_row0_col0\" class=\"data row0 col0\" >0.723404</td>\n",
       "      <td id=\"T_54ec9_row0_col1\" class=\"data row0 col1\" >0.589722</td>\n",
       "      <td id=\"T_54ec9_row0_col2\" class=\"data row0 col2\" >0.022977</td>\n",
       "    </tr>\n",
       "    <tr>\n",
       "      <th id=\"T_54ec9_level0_row1\" class=\"row_heading level0 row1\" >38</th>\n",
       "      <td id=\"T_54ec9_row1_col0\" class=\"data row1 col0\" >0.491228</td>\n",
       "      <td id=\"T_54ec9_row1_col1\" class=\"data row1 col1\" >0.599338</td>\n",
       "      <td id=\"T_54ec9_row1_col2\" class=\"data row1 col2\" >0.045954</td>\n",
       "    </tr>\n",
       "    <tr>\n",
       "      <th id=\"T_54ec9_level0_row2\" class=\"row_heading level0 row2\" >92</th>\n",
       "      <td id=\"T_54ec9_row2_col0\" class=\"data row2 col0\" >0.453463</td>\n",
       "      <td id=\"T_54ec9_row2_col1\" class=\"data row2 col1\" >0.602869</td>\n",
       "      <td id=\"T_54ec9_row2_col2\" class=\"data row2 col2\" >0.026973</td>\n",
       "    </tr>\n",
       "    <tr>\n",
       "      <th id=\"T_54ec9_level0_row3\" class=\"row_heading level0 row3\" >78</th>\n",
       "      <td id=\"T_54ec9_row3_col0\" class=\"data row3 col0\" >0.436699</td>\n",
       "      <td id=\"T_54ec9_row3_col1\" class=\"data row3 col1\" >0.578083</td>\n",
       "      <td id=\"T_54ec9_row3_col2\" class=\"data row3 col2\" >0.026474</td>\n",
       "    </tr>\n",
       "    <tr>\n",
       "      <th id=\"T_54ec9_level0_row4\" class=\"row_heading level0 row4\" >22</th>\n",
       "      <td id=\"T_54ec9_row4_col0\" class=\"data row4 col0\" >0.431373</td>\n",
       "      <td id=\"T_54ec9_row4_col1\" class=\"data row4 col1\" >0.571168</td>\n",
       "      <td id=\"T_54ec9_row4_col2\" class=\"data row4 col2\" >0.028472</td>\n",
       "    </tr>\n",
       "    <tr>\n",
       "      <th id=\"T_54ec9_level0_row5\" class=\"row_heading level0 row5\" >5</th>\n",
       "      <td id=\"T_54ec9_row5_col0\" class=\"data row5 col0\" >0.418393</td>\n",
       "      <td id=\"T_54ec9_row5_col1\" class=\"data row5 col1\" >0.538986</td>\n",
       "      <td id=\"T_54ec9_row5_col2\" class=\"data row5 col2\" >0.046953</td>\n",
       "    </tr>\n",
       "    <tr>\n",
       "      <th id=\"T_54ec9_level0_row6\" class=\"row_heading level0 row6\" >89</th>\n",
       "      <td id=\"T_54ec9_row6_col0\" class=\"data row6 col0\" >0.415230</td>\n",
       "      <td id=\"T_54ec9_row6_col1\" class=\"data row6 col1\" >0.543421</td>\n",
       "      <td id=\"T_54ec9_row6_col2\" class=\"data row6 col2\" >0.045954</td>\n",
       "    </tr>\n",
       "    <tr>\n",
       "      <th id=\"T_54ec9_level0_row7\" class=\"row_heading level0 row7\" >65</th>\n",
       "      <td id=\"T_54ec9_row7_col0\" class=\"data row7 col0\" >0.373941</td>\n",
       "      <td id=\"T_54ec9_row7_col1\" class=\"data row7 col1\" >0.502332</td>\n",
       "      <td id=\"T_54ec9_row7_col2\" class=\"data row7 col2\" >0.041958</td>\n",
       "    </tr>\n",
       "    <tr>\n",
       "      <th id=\"T_54ec9_level0_row8\" class=\"row_heading level0 row8\" >66</th>\n",
       "      <td id=\"T_54ec9_row8_col0\" class=\"data row8 col0\" >0.371460</td>\n",
       "      <td id=\"T_54ec9_row8_col1\" class=\"data row8 col1\" >0.546906</td>\n",
       "      <td id=\"T_54ec9_row8_col2\" class=\"data row8 col2\" >0.006993</td>\n",
       "    </tr>\n",
       "  </tbody>\n",
       "</table>\n"
      ],
      "text/plain": [
       "<pandas.io.formats.style.Styler at 0x1448d0050>"
      ]
     },
     "execution_count": 19,
     "metadata": {},
     "output_type": "execute_result"
    }
   ],
   "source": [
    "styled_df = boostrapped_null_agg.query(\"p_value < 0.05\").sort_values(\"observed_failure_rate\", ascending=False)\n",
    "\n",
    "# Highlight rows based on observed vs expected failure rate\n",
    "def highlight_row(row):\n",
    "    color = 'background-color: red' if row['observed_failure_rate'] > row['expected_mean'] else 'background-color: green'\n",
    "    return [color] * len(row)\n",
    "boostrapped_null_agg_styled_df = styled_df.style.apply(highlight_row, axis=1)\n",
    "\n",
    "bad_providers_bootsrap = boostrapped_null_agg.query(\"observed_failure_rate > expected_mean & p_value < 0.05\").index.tolist()\n",
    "print(f\"Providers with observed failure rate greater than expected mean: {bad_providers_bootsrap}\")\n",
    "boostrapped_null_agg_styled_df"
   ]
  },
  {
   "cell_type": "markdown",
   "id": "8cd35dc5",
   "metadata": {},
   "source": [
    "#### Bootstrapping identifies physicians whose observed failure rates are consistently different from expected\n",
    "\n",
    "#### Before taking any actions with regard to these findings, let's confirm that we have no other information that might explain these failure rates\n",
    "\n",
    "- No difference in distribution of covariates between high and low performing physicians \n",
    "- Poor performing physicians identified by empirical null method have some of the highest failure rates among physicians "
   ]
  },
  {
   "cell_type": "code",
   "execution_count": 20,
   "id": "ab893aca",
   "metadata": {},
   "outputs": [
    {
     "name": "stdout",
     "output_type": "stream",
     "text": [
      "KS statistic for health_risk_assesment: 0.0716, p-value: 0.9571\n",
      "KS statistic for member_age: 0.1087, p-value: 0.6027\n"
     ]
    },
    {
     "data": {
      "image/png": "[encoded data removed]",
      "text/plain": [
       "<Figure size 1400x500 with 2 Axes>"
      ]
     },
     "metadata": {},
     "output_type": "display_data"
    }
   ],
   "source": [
    "compare_covariate_distributions_by_provider_quality(data_outcome_compare, bad_providers_bootsrap, [\"health_risk_assesment\", \"member_age\"])"
   ]
  },
  {
   "cell_type": "code",
   "execution_count": 21,
   "id": "e1d3b7c8",
   "metadata": {},
   "outputs": [
    {
     "data": {
      "image/png": "[encoded data removed]",
      "text/plain": [
       "<Figure size 800x500 with 1 Axes>"
      ]
     },
     "metadata": {},
     "output_type": "display_data"
    }
   ],
   "source": [
    "failure_rate_dist = plot_failure_rates(data_outcome_compare, bad_providers_bootsrap)"
   ]
  },
  {
   "cell_type": "markdown",
   "id": "29b185f9",
   "metadata": {},
   "source": [
    "#### Results and interpretation of Empirical Null Analysis:\n",
    "- Most providers who deviate significantly from the expected failure rate actually have reduced failure rates, suggesting these providers are performing better than expected given their patients' gender and health risk assessment.\n",
    "- This makes sense in the context of our previous model in which we determined no provider had a large effect on probability of failing outcome, especially when compared to health risk assessment.\n",
    "- One provider has significantly increased failure rates given their patients' covariates when examined via bootstrapped empirical null analysis."
   ]
  },
  {
   "cell_type": "markdown",
   "id": "a09ebfbb",
   "metadata": {},
   "source": [
    "## Recommendation on reaching out to providers:\n",
    "- Given the results of both the hierarchical model and the empirical null comparison, I would be cautious about recommending physician-specific intervention at this moment. While the bootstrapped empirical null did identify some providers with a significantly increased failure rate, these providers account for a very small proportion of the population of physicians, and there are other external factors that may explain these increased failure rates that we do not have insight into at this time.\n",
    "- Visually below we can see that the failure rate increases relatively consistently with health risk assessment compared to provider."
   ]
  },
  {
   "cell_type": "code",
   "execution_count": 22,
   "id": "fe8d4158",
   "metadata": {},
   "outputs": [
    {
     "data": {
      "image/png": "[encoded data removed]",
      "text/plain": [
       "<Figure size 1400x800 with 2 Axes>"
      ]
     },
     "metadata": {},
     "output_type": "display_data"
    }
   ],
   "source": [
    "plot_outcome_by_physician_hra(data_outcome_compare)"
   ]
  },
  {
   "cell_type": "markdown",
   "id": "f7ccdf73",
   "metadata": {},
   "source": [
    "# What data could we use to improve our recommendations? How would that change our analysis? \n",
    "2. What other data would be helpful in understanding which doctors to reach out to? What other\n",
    "data would help you evaluate the overall clinical effectiveness of the doctor? How would you use\n",
    "this data?\n",
    "\n",
    "#### Other data we would want access to \n",
    "- Zip code \n",
    "    - SDOH have been found to be very impactful on health outcomes. Zip code can be mapped to an ADI, which would give insight into the socioeconomic status of different patients. \n",
    "- Treatment location\n",
    "    - Where are individuals receiving these treatments? Where are these physicians practicing? If care begins in an emergent situation rather than through a proactive or preventative visit, that may also give some insight into the acuity of the conditions beyond their general health assessment. \n",
    "- Time/Date of Event or Last Follow-up \n",
    "    - In the analyses above, we made the assumption that individuals with no failure were healthy despite these values being NA in the original data cut. There is a chance these individuals just haven't experienced the event yet. If we knew the dates of the events and the time since the last follow-up for individuals we don't have event data for, we could investigate whether or not provider has an effect on the time to event, especially of interest if this is a chronic condition. \n",
    "- Disease duration\n",
    "    - If certain physicians focus on certain disease stages, there might be a bias in the data (i.e., if patients are more progressed in their disease, they may be more likely to have a failure, so if a physician exclusively sees more progressed patients, their failure rates may be inflated).\n",
    "- Medications/Therapeutics \n",
    "    - We have no insight into how the physicians are managing this disease condition; it might be that patients are electing for different treatments which is affecting their outcomes. \n",
    "- Other health factors: BMI, smoking, alcohol consumption (unclear if these are incorporated into the health risk assessment)"
   ]
  },
  {
   "cell_type": "markdown",
   "id": "0907d493",
   "metadata": {},
   "source": [
    "#### Ex. of advatageous data : Synthesizing Follow up/Event times\n",
    "\n",
    "- Synthesizing time to event and followup timestamps to explore how this information might change our analysis if we had access to it"
   ]
  },
  {
   "cell_type": "code",
   "execution_count": 23,
   "id": "31408bf5",
   "metadata": {},
   "outputs": [],
   "source": [
    "data_time_synth = generate_later_timestamp_column(data, \"treatment_date\", new_col='followup_date', min_days=30, max_days=360, seed=None)"
   ]
  },
  {
   "cell_type": "code",
   "execution_count": 24,
   "id": "ec24160e",
   "metadata": {},
   "outputs": [
    {
     "name": "stderr",
     "output_type": "stream",
     "text": [
      "Initializing NUTS using jitter+adapt_diag...\n",
      "INFO\tTask(Task-3) pymc.sampling.mcmc:mcmc.py:init_nuts()- Initializing NUTS using jitter+adapt_diag...\n",
      "Multiprocess sampling (4 chains in 4 jobs)\n",
      "INFO\tTask(Task-3) pymc.sampling.mcmc:mcmc.py:sample()- Multiprocess sampling (4 chains in 4 jobs)\n",
      "NUTS: [log_h0, beta, sigma_provider, provider_offset]\n",
      "INFO\tTask(Task-3) pymc.sampling.mcmc:mcmc.py:_print_step_hierarchy()- NUTS: [log_h0, beta, sigma_provider, provider_offset]\n"
     ]
    },
    {
     "data": {
      "application/vnd.jupyter.widget-view+json": {
       "model_id": "92faab77fcf845789ddf7d1216e46cbb",
       "version_major": 2,
       "version_minor": 0
      },
      "text/plain": [
       "Output()"
      ]
     },
     "metadata": {},
     "output_type": "display_data"
    },
    {
     "data": {
      "text/html": [
       "<pre style=\"white-space:pre;overflow-x:auto;line-height:normal;font-family:Menlo,'DejaVu Sans Mono',consolas,'Courier New',monospace\"></pre>\n"
      ],
      "text/plain": []
     },
     "metadata": {},
     "output_type": "display_data"
    },
    {
     "name": "stderr",
     "output_type": "stream",
     "text": [
      "Sampling 4 chains for 1_000 tune and 1_000 draw iterations (4_000 + 4_000 draws total) took 4 seconds.\n",
      "INFO\tTask(Task-3) pymc.sampling.mcmc:mcmc.py:_sample_return()- Sampling 4 chains for 1_000 tune and 1_000 draw iterations (4_000 + 4_000 draws total) took 4 seconds.\n"
     ]
    }
   ],
   "source": [
    "coxmodel, coxdata, provider_names = bayesian_cox_model(data_time_synth, \"treatment_date\",\"followup_date\", \"outcome\", \"servicing_provider_id\", covariates=['member_sex', 'health_risk_assesment'])"
   ]
  },
  {
   "cell_type": "code",
   "execution_count": 25,
   "id": "f084ac8c",
   "metadata": {},
   "outputs": [
    {
     "data": {
      "image/png": "[encoded data removed]",
      "text/plain": [
       "<Figure size 1000x3180 with 1 Axes>"
      ]
     },
     "metadata": {},
     "output_type": "display_data"
    },
    {
     "data": {
      "image/png": "[encoded data removed]",
      "text/plain": [
       "<Figure size 800x320 with 1 Axes>"
      ]
     },
     "metadata": {},
     "output_type": "display_data"
    }
   ],
   "source": [
    "plot_bayesian_cox_effects(coxdata, provider_names, [\"member_sex\", \"healthcare_risk_assesment\"], hdi_prob=0.95)"
   ]
  },
  {
   "cell_type": "markdown",
   "id": "f3e8feae",
   "metadata": {},
   "source": [
    "#### Results and Interpretation : \n",
    "- Simulating follow up time and event times we can see how we could assess the provider effect with regard to time to event which would allow us to answer the question do providers have an effect of the time to failure or event.\n",
    "- Based on simulation data we would conclude provider does not have a significant effect however this is syntehsized data and having real follow up information may well change this conclusion. "
   ]
  }
 ],
 "metadata": {
  "kernelspec": {
   "display_name": "Python 3 (ipykernel)",
   "language": "python",
   "name": "python3"
  },
  "language_info": {
   "codemirror_mode": {
    "name": "ipython",
    "version": 3
   },
   "file_extension": ".py",
   "mimetype": "text/x-python",
   "name": "python",
   "nbconvert_exporter": "python",
   "pygments_lexer": "ipython3",
   "version": "3.13.5"
  }
 },
 "nbformat": 4,
 "nbformat_minor": 5
}
